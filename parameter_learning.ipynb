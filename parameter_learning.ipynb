{
 "cells": [
  {
   "cell_type": "code",
   "execution_count": 1,
   "id": "41cd7559",
   "metadata": {},
   "outputs": [
    {
     "name": "stderr",
     "output_type": "stream",
     "text": [
      "2022-08-09 14:41:16.993442: W tensorflow/stream_executor/platform/default/dso_loader.cc:64] Could not load dynamic library 'libcudart.so.11.0'; dlerror: libcudart.so.11.0: cannot open shared object file: No such file or directory\n",
      "2022-08-09 14:41:16.993480: I tensorflow/stream_executor/cuda/cudart_stub.cc:29] Ignore above cudart dlerror if you do not have a GPU set up on your machine.\n"
     ]
    }
   ],
   "source": [
    "import numpy as np\n",
    "import datetime\n",
    "import os\n",
    "import sklearn.metrics\n",
    "import matplotlib.pyplot as plt\n",
    "from sklearn.model_selection import train_test_split\n",
    "import tensorflow as tf\n",
    "from scipy.stats import chi\n",
    "from scipy import stats\n",
    "from tensorflow.keras.layers import Input, Dense\n",
    "from tensorflow.keras.models import Model, Sequential\n",
    "from functions import mean_gen, varx_gen, vary_gen, spherical_data, test_on_integers, learn_parameters"
   ]
  },
  {
   "cell_type": "code",
   "execution_count": 2,
   "id": "272f6013",
   "metadata": {},
   "outputs": [],
   "source": [
    "# Random Seed\n",
    "rand_n = 12345\n",
    "\n",
    "# Single Point on Sphere\n",
    "n = 250000\n",
    "angles = np.array([2.5, 1.5])\n",
    "thetas, phis = angles[0] * np.ones(n), angles[1] * np.ones(n)\n",
    "x_train, x_test, y_train, y_test = spherical_data(n, thetas, phis, rand_n)"
   ]
  },
  {
   "cell_type": "code",
   "execution_count": 3,
   "id": "3a01fe50",
   "metadata": {},
   "outputs": [
    {
     "name": "stderr",
     "output_type": "stream",
     "text": [
      "2022-08-09 14:41:23.006932: W tensorflow/stream_executor/platform/default/dso_loader.cc:64] Could not load dynamic library 'libcuda.so.1'; dlerror: libcuda.so.1: cannot open shared object file: No such file or directory\n",
      "2022-08-09 14:41:23.006992: W tensorflow/stream_executor/cuda/cuda_driver.cc:269] failed call to cuInit: UNKNOWN ERROR (303)\n",
      "2022-08-09 14:41:23.007016: I tensorflow/stream_executor/cuda/cuda_diagnostics.cc:156] kernel driver does not appear to be running on this host (jupyter-matan): /proc/driver/nvidia/version does not exist\n",
      "2022-08-09 14:41:23.007305: I tensorflow/core/platform/cpu_feature_guard.cc:142] This TensorFlow binary is optimized with oneAPI Deep Neural Network Library (oneDNN) to use the following CPU instructions in performance-critical operations:  AVX2 FMA\n",
      "To enable them in other operations, rebuild TensorFlow with the appropriate compiler flags.\n"
     ]
    },
    {
     "name": "stdout",
     "output_type": "stream",
     "text": [
      "Model: \"model_1\"\n",
      "__________________________________________________________________________________________________\n",
      "Layer (type)                    Output Shape         Param #     Connected to                     \n",
      "==================================================================================================\n",
      "input_2 (InputLayer)            [(None, 2)]          0                                            \n",
      "__________________________________________________________________________________________________\n",
      "tf.ones_like (TFOpLambda)       (None, 2)            0           input_2[0][0]                    \n",
      "__________________________________________________________________________________________________\n",
      "tf.__operators__.getitem (Slici (None, 1)            0           tf.ones_like[0][0]               \n",
      "__________________________________________________________________________________________________\n",
      "model (Functional)              (None, 2)            2           tf.__operators__.getitem[0][0]   \n",
      "__________________________________________________________________________________________________\n",
      "concatenate (Concatenate)       (None, 4)            0           input_2[0][0]                    \n",
      "                                                                 model[0][0]                      \n",
      "__________________________________________________________________________________________________\n",
      "sequential_1 (Sequential)       (None, 1)            17281       concatenate[0][0]                \n",
      "==================================================================================================\n",
      "Total params: 17,283\n",
      "Trainable params: 2\n",
      "Non-trainable params: 17,281\n",
      "__________________________________________________________________________________________________\n"
     ]
    }
   ],
   "source": [
    "model_interpolate = tf.keras.models.load_model('3dmodels/discrete_model_mth40_mph40')\n",
    "\n",
    "for l in model_interpolate.layers:\n",
    "    l.trainable=False\n",
    "    \n",
    "loss_fn = tf.keras.losses.BinaryCrossentropy()\n",
    "\n",
    "# Building model_angles which is used to train (theta, phi)\n",
    "inputs_hold = tf.keras.Input(shape=(1,))\n",
    "simple_linear = Dense(2, use_bias = False, kernel_initializer='ones')(inputs_hold)\n",
    "model_angles = Model(inputs = inputs_hold, outputs = simple_linear)\n",
    "\n",
    "# Building model_parmafinder, inputs, which takes the (x, y) and finds the best (theta, phi)\n",
    "raw_inputs = tf.keras.Input(shape=(2,))\n",
    "inputs = tf.keras.layers.concatenate([raw_inputs, model_angles(tf.ones_like(raw_inputs)[:,0:1])])\n",
    "output = model_interpolate(inputs)\n",
    "\n",
    "model_paramfinder = Model(inputs = raw_inputs, outputs = output)\n",
    "model_paramfinder.compile(loss=loss_fn, optimizer='Adam')\n",
    "model_paramfinder.summary()"
   ]
  },
  {
   "cell_type": "code",
   "execution_count": 43,
   "id": "dd3d2a01",
   "metadata": {},
   "outputs": [
    {
     "name": "stdout",
     "output_type": "stream",
     "text": [
      "discrete_model_th5_ph5 has loss 0.7342983435112683\n",
      "discrete_model_th3_ph3 has loss 0.645837751115498\n",
      "discrete_model_th2_ph2 has loss 0.5913730227368763\n",
      "discrete_model_th1_ph1 has loss 0.6055138483404225\n",
      "discrete_model_th0_ph0 has loss 0.6925703341089189\n"
     ]
    }
   ],
   "source": [
    "test_on_integers(x_train, y_train)"
   ]
  },
  {
   "cell_type": "code",
   "execution_count": 44,
   "id": "05c5dbb2",
   "metadata": {
    "scrolled": true
   },
   "outputs": [
    {
     "name": "stdout",
     "output_type": "stream",
     "text": [
      "534/534 [==============================] - 2s 3ms/step - loss: 0.5743\n",
      "0 Fitted result:  tf.Tensor([1.3180417 1.3427593], shape=(2,), dtype=float32)\n",
      "0.5695312963574065\n",
      "534/534 [==============================] - 1s 3ms/step - loss: 0.5682\n",
      "1 Fitted result:  tf.Tensor([1.4388989 1.4383734], shape=(2,), dtype=float32)\n",
      "0.5681589846236654\n",
      "534/534 [==============================] - 1s 3ms/step - loss: 0.5677\n",
      "2 Fitted result:  tf.Tensor([1.4989302 1.4624131], shape=(2,), dtype=float32)\n",
      "0.5680114224993177\n",
      "534/534 [==============================] - 1s 3ms/step - loss: 0.5676\n",
      "3 Fitted result:  tf.Tensor([1.5264585 1.454413 ], shape=(2,), dtype=float32)\n",
      "0.5679780781467499\n",
      "534/534 [==============================] - 1s 2ms/step - loss: 0.5678\n",
      "4 Fitted result:  tf.Tensor([1.5644647 1.4477116], shape=(2,), dtype=float32)\n",
      "0.5679487338313745\n",
      "534/534 [==============================] - 1s 3ms/step - loss: 0.5678\n",
      "5 Fitted result:  tf.Tensor([1.6135077 1.4470404], shape=(2,), dtype=float32)\n",
      "0.5679109637327656\n",
      "534/534 [==============================] - 1s 3ms/step - loss: 0.5679\n",
      "6 Fitted result:  tf.Tensor([1.6479193 1.4478717], shape=(2,), dtype=float32)\n",
      "0.5678824677267682\n",
      "534/534 [==============================] - 1s 3ms/step - loss: 0.5676\n",
      "7 Fitted result:  tf.Tensor([1.7685492 1.4244349], shape=(2,), dtype=float32)\n",
      "0.5677404913644081\n",
      "534/534 [==============================] - 1s 3ms/step - loss: 0.5675\n",
      "8 Fitted result:  tf.Tensor([1.9114757 1.4207242], shape=(2,), dtype=float32)\n",
      "0.5675705849516719\n",
      "534/534 [==============================] - 1s 3ms/step - loss: 0.5670\n",
      "9 Fitted result:  tf.Tensor([2.012356  1.4169675], shape=(2,), dtype=float32)\n",
      "0.567525391818481\n",
      "534/534 [==============================] - 1s 3ms/step - loss: 0.5672\n",
      "10 Fitted result:  tf.Tensor([2.0673473 1.4381673], shape=(2,), dtype=float32)\n",
      "0.5674762773976701\n",
      "534/534 [==============================] - 1s 3ms/step - loss: 0.5673\n",
      "11 Fitted result:  tf.Tensor([2.1154795 1.4549886], shape=(2,), dtype=float32)\n",
      "0.5674525735926205\n",
      "534/534 [==============================] - 1s 3ms/step - loss: 0.5670\n",
      "12 Fitted result:  tf.Tensor([2.1570637 1.4556867], shape=(2,), dtype=float32)\n",
      "0.5674437679214672\n",
      "534/534 [==============================] - 1s 3ms/step - loss: 0.5672\n",
      "13 Fitted result:  tf.Tensor([2.226576  1.4553514], shape=(2,), dtype=float32)\n",
      "0.5674423846655716\n",
      "534/534 [==============================] - 1s 3ms/step - loss: 0.5671\n",
      "14 Fitted result:  tf.Tensor([2.2963974 1.4713271], shape=(2,), dtype=float32)\n",
      "0.5674109733088231\n",
      "534/534 [==============================] - 1s 3ms/step - loss: 0.5670\n",
      "15 Fitted result:  tf.Tensor([2.3470852 1.4794283], shape=(2,), dtype=float32)\n",
      "0.5673957248011853\n",
      "534/534 [==============================] - 1s 3ms/step - loss: 0.5669\n",
      "16 Fitted result:  tf.Tensor([2.440553  1.4856825], shape=(2,), dtype=float32)\n",
      "0.567388082823246\n",
      "534/534 [==============================] - 1s 3ms/step - loss: 0.5668\n",
      "17 Fitted result:  tf.Tensor([2.4911842 1.4876928], shape=(2,), dtype=float32)\n",
      "0.5673968077273225\n",
      "534/534 [==============================] - 1s 3ms/step - loss: 0.5671\n",
      "18 Fitted result:  tf.Tensor([2.504085  1.5081416], shape=(2,), dtype=float32)\n",
      "0.5673619949863961\n",
      "534/534 [==============================] - 1s 3ms/step - loss: 0.5669\n",
      "19 Fitted result:  tf.Tensor([2.5415928 1.5031267], shape=(2,), dtype=float32)\n",
      "0.5673805455819858\n",
      "534/534 [==============================] - 1s 3ms/step - loss: 0.5668\n",
      "20 Fitted result:  tf.Tensor([2.5944064 1.4969919], shape=(2,), dtype=float32)\n",
      "0.56741736419518\n",
      "534/534 [==============================] - 1s 3ms/step - loss: 0.5669\n",
      "21 Fitted result:  tf.Tensor([2.6255054 1.5106461], shape=(2,), dtype=float32)\n",
      "0.5674024020218481\n",
      "534/534 [==============================] - 1s 3ms/step - loss: 0.5668\n",
      "22 Fitted result:  tf.Tensor([2.6745758 1.5074036], shape=(2,), dtype=float32)\n",
      "0.5674318463066448\n",
      "534/534 [==============================] - 1s 3ms/step - loss: 0.5669\n",
      "23 Fitted result:  tf.Tensor([2.7037444 1.512533 ], shape=(2,), dtype=float32)\n",
      "0.5674370196793453\n",
      "534/534 [==============================] - 1s 3ms/step - loss: 0.5668\n",
      "24 Fitted result:  tf.Tensor([2.732228  1.5028217], shape=(2,), dtype=float32)\n",
      "0.5674743312324572\n",
      "534/534 [==============================] - 1s 3ms/step - loss: 0.5669\n",
      "25 Fitted result:  tf.Tensor([2.757298  1.5068915], shape=(2,), dtype=float32)\n",
      "0.567479116040394\n",
      "534/534 [==============================] - 1s 3ms/step - loss: 0.5669\n",
      "26 Fitted result:  tf.Tensor([2.7712393 1.5090892], shape=(2,), dtype=float32)\n",
      "0.5674829032516169\n",
      "534/534 [==============================] - 1s 3ms/step - loss: 0.5668\n",
      "27 Fitted result:  tf.Tensor([2.8064408 1.5036047], shape=(2,), dtype=float32)\n",
      "0.5675151167970102\n",
      "534/534 [==============================] - 1s 3ms/step - loss: 0.5668\n",
      "28 Fitted result:  tf.Tensor([2.8661082 1.5140939], shape=(2,), dtype=float32)\n",
      "0.5675212887766434\n",
      "534/534 [==============================] - 1s 3ms/step - loss: 0.5668\n",
      "29 Fitted result:  tf.Tensor([2.8932304 1.5122721], shape=(2,), dtype=float32)\n",
      "0.5675371677377871\n",
      "534/534 [==============================] - 1s 3ms/step - loss: 0.5667\n",
      "30 Fitted result:  tf.Tensor([2.9429636 1.5073814], shape=(2,), dtype=float32)\n",
      "0.5675702316128365\n",
      "534/534 [==============================] - 1s 3ms/step - loss: 0.5667\n",
      "31 Fitted result:  tf.Tensor([2.9774444 1.5083361], shape=(2,), dtype=float32)\n",
      "0.5675849403501494\n",
      "534/534 [==============================] - 1s 3ms/step - loss: 0.5666\n",
      "32 Fitted result:  tf.Tensor([3.0119693 1.520186 ], shape=(2,), dtype=float32)\n",
      "0.5675818130702771\n",
      "534/534 [==============================] - 1s 3ms/step - loss: 0.5667\n",
      "33 Fitted result:  tf.Tensor([3.0633457 1.5176804], shape=(2,), dtype=float32)\n",
      "0.5676170664394198\n",
      "534/534 [==============================] - 1s 3ms/step - loss: 0.5667\n",
      "34 Fitted result:  tf.Tensor([3.07144   1.5134609], shape=(2,), dtype=float32)\n",
      "0.5676299899312957\n",
      "534/534 [==============================] - 1s 3ms/step - loss: 0.5667\n",
      "35 Fitted result:  tf.Tensor([3.0739653 1.504907 ], shape=(2,), dtype=float32)\n",
      "0.5676498508478535\n",
      "534/534 [==============================] - 1s 3ms/step - loss: 0.5668\n",
      "36 Fitted result:  tf.Tensor([3.073543  1.5243034], shape=(2,), dtype=float32)\n",
      "0.5676151108097951\n",
      "534/534 [==============================] - 1s 2ms/step - loss: 0.5668\n",
      "37 Fitted result:  tf.Tensor([3.0850787 1.5192988], shape=(2,), dtype=float32)\n",
      "0.5676305853718306\n",
      "534/534 [==============================] - 1s 3ms/step - loss: 0.5668\n",
      "38 Fitted result:  tf.Tensor([3.1035688 1.5132394], shape=(2,), dtype=float32)\n",
      "0.5676563978870633\n",
      "534/534 [==============================] - 1s 3ms/step - loss: 0.5667\n",
      "39 Fitted result:  tf.Tensor([3.106779  1.5117149], shape=(2,), dtype=float32)\n",
      "0.5676620364267415\n",
      "534/534 [==============================] - 1s 3ms/step - loss: 0.5667\n",
      "40 Fitted result:  tf.Tensor([3.086119  1.5227773], shape=(2,), dtype=float32)\n",
      "0.5676262817681351\n",
      "534/534 [==============================] - 1s 3ms/step - loss: 0.5666\n",
      "41 Fitted result:  tf.Tensor([3.1011157 1.5078741], shape=(2,), dtype=float32)\n",
      "0.5676649291092579\n",
      "534/534 [==============================] - 1s 3ms/step - loss: 0.5666\n",
      "42 Fitted result:  tf.Tensor([3.0988078 1.5129143], shape=(2,), dtype=float32)\n",
      "0.5676529210559489\n",
      "534/534 [==============================] - 1s 3ms/step - loss: 0.5667\n",
      "43 Fitted result:  tf.Tensor([3.0970457 1.5169864], shape=(2,), dtype=float32)\n",
      "0.5676441682420807\n",
      "534/534 [==============================] - 1s 3ms/step - loss: 0.5666\n",
      "44 Fitted result:  tf.Tensor([3.0852907 1.5158142], shape=(2,), dtype=float32)\n",
      "0.5676364774411697\n",
      "534/534 [==============================] - 1s 3ms/step - loss: 0.5667\n",
      "45 Fitted result:  tf.Tensor([3.1032484 1.5193179], shape=(2,), dtype=float32)\n",
      "0.5676455663258535\n",
      "534/534 [==============================] - 1s 3ms/step - loss: 0.5668\n",
      "46 Fitted result:  tf.Tensor([3.1123116 1.5168587], shape=(2,), dtype=float32)\n",
      "0.5676572754725147\n",
      "534/534 [==============================] - 1s 3ms/step - loss: 0.5669\n",
      "47 Fitted result:  tf.Tensor([3.1253939 1.5088933], shape=(2,), dtype=float32)\n",
      "0.5676833215052489\n",
      "534/534 [==============================] - 1s 3ms/step - loss: 0.5667\n",
      "48 Fitted result:  tf.Tensor([3.1023726 1.5130442], shape=(2,), dtype=float32)\n"
     ]
    },
    {
     "name": "stdout",
     "output_type": "stream",
     "text": [
      "0.5676557347582463\n",
      "534/534 [==============================] - 2s 3ms/step - loss: 0.5668\n",
      "49 Fitted result:  tf.Tensor([3.1026282 1.5151695], shape=(2,), dtype=float32)\n",
      "0.5676520937262617\n",
      "Average error %: 12.558214366436005\n"
     ]
    }
   ],
   "source": [
    "epochs, iterations, batch_size = 1, 50, 300\n",
    "\n",
    "weights = learn_parameters(model_paramfinder, x_train, y_train, iterations, epochs, batch_size)\n",
    "angle_errors = (angles - weights) / angles\n",
    "average_error = np.sum(np.abs(angle_errors)) / 2\n",
    "print('Average error %:', average_error * 100)"
   ]
  },
  {
   "cell_type": "code",
   "execution_count": 4,
   "id": "397c3dca",
   "metadata": {},
   "outputs": [
    {
     "name": "stdout",
     "output_type": "stream",
     "text": [
      "0.5674771576487369\n"
     ]
    }
   ],
   "source": [
    "xr = model_interpolate(x_train).numpy().transpose()[0]\n",
    "y = model_interpolate(x_train)\n",
    "loss = np.sum(-y_train * np.log(xr) - (1-y_train) * np.log(1-xr)) / xr.shape[0]\n",
    "print(loss)"
   ]
  },
  {
   "cell_type": "code",
   "execution_count": 5,
   "id": "409e840f",
   "metadata": {},
   "outputs": [
    {
     "name": "stdout",
     "output_type": "stream",
     "text": [
      "0.5676508639838465\n"
     ]
    }
   ],
   "source": [
    "x_train_mod = np.copy(x_train)\n",
    "x_train_mod[:, 2] = x_train[:, 2] + .5\n",
    "x_train_mod[:, 3] = x_train[:, 3]\n",
    "xr_mod = model_interpolate(x_train_mod).numpy().transpose()[0]\n",
    "y_mod = model_interpolate(x_train_mod)\n",
    "loss_mod = np.sum(-y_train * np.log(xr_mod) - (1-y_train) * np.log(1-xr_mod)) / xr_mod.shape[0]\n",
    "print(loss_mod)"
   ]
  },
  {
   "cell_type": "code",
   "execution_count": 25,
   "id": "1e2f9af2",
   "metadata": {},
   "outputs": [
    {
     "data": {
      "text/plain": [
       "array([[ 1.07633646e-01,  1.70760504e+00,  4.00000000e+00,\n",
       "         3.00000000e+00],\n",
       "       [ 1.43298843e+00,  3.84883422e-01,  4.00000000e+00,\n",
       "         3.00000000e+00],\n",
       "       [ 3.76967497e-02,  7.15595959e-01,  4.00000000e+00,\n",
       "         3.00000000e+00],\n",
       "       ...,\n",
       "       [ 2.12611480e-03,  6.37581970e-01,  4.00000000e+00,\n",
       "         3.00000000e+00],\n",
       "       [ 8.48878054e-01,  5.50897652e-01,  4.00000000e+00,\n",
       "         3.00000000e+00],\n",
       "       [-9.53562972e-01,  5.37223246e-02,  4.00000000e+00,\n",
       "         3.00000000e+00]])"
      ]
     },
     "execution_count": 25,
     "metadata": {},
     "output_type": "execute_result"
    }
   ],
   "source": [
    "x_train"
   ]
  },
  {
   "cell_type": "code",
   "execution_count": null,
   "id": "7971de4e",
   "metadata": {},
   "outputs": [],
   "source": []
  }
 ],
 "metadata": {
  "kernelspec": {
   "display_name": "Python 3 (ipykernel)",
   "language": "python",
   "name": "python3"
  },
  "language_info": {
   "codemirror_mode": {
    "name": "ipython",
    "version": 3
   },
   "file_extension": ".py",
   "mimetype": "text/x-python",
   "name": "python",
   "nbconvert_exporter": "python",
   "pygments_lexer": "ipython3",
   "version": "3.9.13"
  }
 },
 "nbformat": 4,
 "nbformat_minor": 5
}
