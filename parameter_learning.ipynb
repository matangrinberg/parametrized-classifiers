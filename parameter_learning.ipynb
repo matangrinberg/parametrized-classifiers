{
 "cells": [
  {
   "cell_type": "code",
   "execution_count": 1,
   "id": "126a0c68",
   "metadata": {},
   "outputs": [
    {
     "name": "stderr",
     "output_type": "stream",
     "text": [
      "2022-08-04 11:44:57.000387: W tensorflow/stream_executor/platform/default/dso_loader.cc:64] Could not load dynamic library 'libcudart.so.11.0'; dlerror: libcudart.so.11.0: cannot open shared object file: No such file or directory\n",
      "2022-08-04 11:44:57.000446: I tensorflow/stream_executor/cuda/cudart_stub.cc:29] Ignore above cudart dlerror if you do not have a GPU set up on your machine.\n"
     ]
    }
   ],
   "source": [
    "import numpy as np\n",
    "import datetime\n",
    "import os\n",
    "import sklearn.metrics\n",
    "import matplotlib.pyplot as plt\n",
    "from sklearn.model_selection import train_test_split\n",
    "import tensorflow as tf\n",
    "from scipy.stats import chi\n",
    "from scipy import stats\n",
    "from tensorflow.keras.layers import Input, Dense\n",
    "from tensorflow.keras.models import Model, Sequential"
   ]
  },
  {
   "cell_type": "code",
   "execution_count": 2,
   "id": "41cd7559",
   "metadata": {},
   "outputs": [],
   "source": [
    "############\n",
    "# Functions\n",
    "############\n",
    "\n",
    "# Our 3d parameter space is the surface of a sphere centered at (1, 1, 1), with radius 1/sqrt(2)\n",
    "# x, y coordinates are the x and y variances of our 2d Gaussian\n",
    "# z coordinate determines the x-coordinate of the mean, mu = (z, 0)\n",
    "\n",
    "def mean_gen(theta, phi):\n",
    "    mu = 0.5 - (np.sqrt(2)/2) * np.cos(phi + np.pi / 4)\n",
    "    return mu\n",
    "\n",
    "\n",
    "def varx_gen(theta, phi):\n",
    "    vx = 1.5 - (np.sqrt(2)/2) * np.cos(theta + np.pi / 4) * np.sin(phi + np.pi / 2)\n",
    "    return vx\n",
    "\n",
    "\n",
    "def vary_gen(theta, phi):\n",
    "    vy = 1.5 - (np.sqrt(2)/2) * np.sin(theta + np.pi / 4) * np.sin(phi + np.pi / 2)\n",
    "    return vy\n",
    "\n",
    "\n",
    "# Generate n data\n",
    "def spherical_data(n, thetas, phis, rand=1234):\n",
    "    \n",
    "    mx1, my1 = np.zeros(n), np.zeros(n)\n",
    "    vx1, vy1 = np.ones(n), np.ones(n)\n",
    "    \n",
    "    mx2, my2 = mean_gen(thetas, phis), np.zeros(n)\n",
    "    vx2, vy2 = varx_gen(thetas, phis), vary_gen(thetas, phis)\n",
    "    \n",
    "    x1, y1 = np.transpose(np.array([np.random.normal(mx1, vx1, size=n), \n",
    "                                    np.random.normal(my1, vy1, size=n), thetas, phis])), np.zeros(n)\n",
    "    x2, y2 = np.transpose(np.array([np.random.normal(mx2, vx2, size=n), \n",
    "                                    np.random.normal(my2, vy2, size=n), thetas, phis])), np.ones(n)\n",
    "    \n",
    "    x, y = np.append(x1, x2, axis=0), np.append(y1, y2, axis=0)\n",
    "\n",
    "    x_train, x_test, y_train, y_test = train_test_split(x, y, test_size = 0.2, random_state = rand)\n",
    "    \n",
    "    return x_train, x_test, y_train, y_test"
   ]
  },
  {
   "cell_type": "code",
   "execution_count": 8,
   "id": "272f6013",
   "metadata": {},
   "outputs": [],
   "source": [
    "# Single Point on Sphere\n",
    "\n",
    "n = 40000\n",
    "rand_n = 12345\n",
    "theta, phi = 3, 3\n",
    "thetas, phis = theta * np.ones(n), phi * np.ones(n)\n",
    "x_train, x_test, y_train, y_test = spherical_data(n, thetas, phis, rand_n)\n",
    "\n",
    "model = tf.keras.models.load_model('3dmodels/discrete_model_mth50_mph50')\n",
    "# model = tf.keras.models.load_model('3dmodels/discrete_model_th3_ph3')"
   ]
  },
  {
   "cell_type": "code",
   "execution_count": 4,
   "id": "3a01fe50",
   "metadata": {},
   "outputs": [
    {
     "name": "stdout",
     "output_type": "stream",
     "text": [
      "Model: \"model_1\"\n",
      "__________________________________________________________________________________________________\n",
      "Layer (type)                    Output Shape         Param #     Connected to                     \n",
      "==================================================================================================\n",
      "input_2 (InputLayer)            [(None, 2)]          0                                            \n",
      "__________________________________________________________________________________________________\n",
      "tf.ones_like (TFOpLambda)       (None, 2)            0           input_2[0][0]                    \n",
      "__________________________________________________________________________________________________\n",
      "tf.__operators__.getitem (Slici (None, 1)            0           tf.ones_like[0][0]               \n",
      "__________________________________________________________________________________________________\n",
      "model (Functional)              (None, 2)            2           tf.__operators__.getitem[0][0]   \n",
      "__________________________________________________________________________________________________\n",
      "concatenate (Concatenate)       (None, 4)            0           input_2[0][0]                    \n",
      "                                                                 model[0][0]                      \n",
      "__________________________________________________________________________________________________\n",
      "sequential_6 (Sequential)       (None, 1)            17281       concatenate[0][0]                \n",
      "==================================================================================================\n",
      "Total params: 17,283\n",
      "Trainable params: 2\n",
      "Non-trainable params: 17,281\n",
      "__________________________________________________________________________________________________\n"
     ]
    }
   ],
   "source": [
    "for l in model.layers:\n",
    "    l.trainable=False\n",
    "\n",
    "inputs_hold = tf.keras.Input(shape=(1,))\n",
    "simple_model = Dense(2, use_bias = False)(inputs_hold)\n",
    "model3 = Model(inputs = inputs_hold, outputs = simple_model)\n",
    "\n",
    "inputs = tf.keras.Input(shape=(2,))\n",
    "inputs2 = tf.keras.layers.concatenate([inputs, model3(tf.ones_like(inputs)[:,0:1])])\n",
    "hidden_layer_1 = model(inputs2)\n",
    "\n",
    "model2 = Model(inputs = inputs, outputs = hidden_layer_1)\n",
    "loss_fn = tf.keras.losses.BinaryCrossentropy()\n",
    "model2.compile(loss=loss_fn, optimizer='Adam', )\n",
    "\n",
    "model2.summary()"
   ]
  },
  {
   "cell_type": "code",
   "execution_count": null,
   "id": "e99ea578",
   "metadata": {},
   "outputs": [],
   "source": [
    "x_train_mod = x_train\n",
    "x_train_mod[:,2] = x_train[:, 2] - 1"
   ]
  },
  {
   "cell_type": "code",
   "execution_count": null,
   "id": "dd3d2a01",
   "metadata": {},
   "outputs": [],
   "source": [
    "names = []\n",
    "names.append('discrete_model_th5_ph5')\n",
    "names.append('discrete_model_th5_ph3')\n",
    "names.append('discrete_model_th4_ph3')\n",
    "names.append('discrete_model_th3_ph3')\n",
    "names.append('discrete_model_th2_ph3')\n",
    "names.append('discrete_model_th0_ph0')\n",
    "names.append('discrete_model_mth15_mph15')\n",
    "\n",
    "l = len(names)\n",
    "\n",
    "models = []\n",
    "predictions = []\n",
    "for i in range(l):\n",
    "    models.append(tf.keras.models.load_model('3dmodels/' + names[i]))\n",
    "    xr = models[i](x_train).numpy().transpose()[0]\n",
    "    loss = np.sum(-y_train * np.log(xr) - (1-y_train) * np.log(1-xr)) / xr.shape[0]\n",
    "    print(names[i], 'has loss', loss)\n",
    "    \n",
    "models = []\n",
    "predictions = []\n",
    "for i in range(l):\n",
    "    models.append(tf.keras.models.load_model('3dmodels/' + names[i]))\n",
    "    xr = models[i](x_train_mod).numpy().transpose()[0]\n",
    "    loss = np.sum(-y_train * np.log(xr) - (1-y_train) * np.log(1-xr)) / xr.shape[0]\n",
    "    print(names[i], 'has loss', loss)"
   ]
  },
  {
   "cell_type": "code",
   "execution_count": null,
   "id": "05c5dbb2",
   "metadata": {
    "scrolled": true
   },
   "outputs": [],
   "source": [
    "coordinates = x_train[:, 0:2]\n",
    "# real_model = tf.keras.models.load_model('3dmodels/discrete_model_th3_ph3')\n",
    "# x_r = real_model(x_train).numpy().transpose()[0]\n",
    "\n",
    "for i in range(20):\n",
    "    model2.fit(coordinates, y_train, epochs=1,batch_size=100)\n",
    "    print(i,\"Fitted result: \", model2.trainable_weights[:][0][0])\n",
    "    x = model2(coordinates).numpy().transpose()[0]\n",
    "    print(np.sum(-y_train * np.log(x) - (1-y_train) * np.log(1-x)) / x.shape[0])\n",
    "    "
   ]
  },
  {
   "cell_type": "code",
   "execution_count": 18,
   "id": "31a4e3b3",
   "metadata": {},
   "outputs": [
    {
     "name": "stdout",
     "output_type": "stream",
     "text": [
      "0.5711020496398196\n"
     ]
    }
   ],
   "source": [
    "xr = model(x_train).numpy().transpose()[0]\n",
    "y = model(x_train)\n",
    "loss = np.sum(-y_train * np.log(xr) - (1-y_train) * np.log(1-xr)) / xr.shape[0]\n",
    "print(loss)"
   ]
  },
  {
   "cell_type": "code",
   "execution_count": 75,
   "id": "409e840f",
   "metadata": {},
   "outputs": [
    {
     "name": "stdout",
     "output_type": "stream",
     "text": [
      "0.5689242339341654\n"
     ]
    }
   ],
   "source": [
    "x_train_mod = np.copy(x_train)\n",
    "x_train_mod[:, 2] = x_train[:, 2] - 0.13\n",
    "x_train_mod[:, 3] = x_train[:, 3] + 0.41\n",
    "xr_mod = model(x_train_mod).numpy().transpose()[0]\n",
    "y_mod = model(x_train_mod)\n",
    "loss_mod = np.sum(-y_train * np.log(xr_mod) - (1-y_train) * np.log(1-xr_mod)) / xr_mod.shape[0]\n",
    "print(loss_mod)"
   ]
  },
  {
   "cell_type": "code",
   "execution_count": 77,
   "id": "d2d56ebe",
   "metadata": {},
   "outputs": [
    {
     "data": {
      "text/plain": [
       "array([0.34051954, 0.1866916 , 2.87      , 3.41      ])"
      ]
     },
     "execution_count": 77,
     "metadata": {},
     "output_type": "execute_result"
    }
   ],
   "source": []
  }
 ],
 "metadata": {
  "kernelspec": {
   "display_name": "Python 3 (ipykernel)",
   "language": "python",
   "name": "python3"
  },
  "language_info": {
   "codemirror_mode": {
    "name": "ipython",
    "version": 3
   },
   "file_extension": ".py",
   "mimetype": "text/x-python",
   "name": "python",
   "nbconvert_exporter": "python",
   "pygments_lexer": "ipython3",
   "version": "3.9.13"
  }
 },
 "nbformat": 4,
 "nbformat_minor": 5
}
