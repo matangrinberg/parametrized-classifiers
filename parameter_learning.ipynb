{
 "cells": [
  {
   "cell_type": "code",
   "execution_count": 10,
   "id": "126a0c68",
   "metadata": {},
   "outputs": [],
   "source": [
    "import numpy as np\n",
    "import datetime\n",
    "import os\n",
    "import sklearn.metrics\n",
    "import matplotlib.pyplot as plt\n",
    "from sklearn.model_selection import train_test_split\n",
    "import tensorflow as tf\n",
    "from scipy.stats import chi\n",
    "from scipy import stats\n",
    "from tensorflow.keras.layers import Input, Dense\n",
    "from tensorflow.keras.models import Model, Sequential"
   ]
  },
  {
   "cell_type": "code",
   "execution_count": 11,
   "id": "41cd7559",
   "metadata": {},
   "outputs": [],
   "source": [
    "############\n",
    "# Functions\n",
    "############\n",
    "\n",
    "# Our 3d parameter space is the surface of a sphere centered at (1, 1, 1), with radius 1/sqrt(2)\n",
    "# x, y coordinates are the x and y variances of our 2d Gaussian\n",
    "# z coordinate determines the x-coordinate of the mean, mu = (z, 0)\n",
    "\n",
    "def mean_gen(theta, phi):\n",
    "    mu = 0.5 - (np.sqrt(2)/2) * np.cos(phi + np.pi / 4)\n",
    "    return mu\n",
    "\n",
    "\n",
    "def varx_gen(theta, phi):\n",
    "    vx = 1.5 - (np.sqrt(2)/2) * np.cos(theta + np.pi / 4) * np.sin(phi + np.pi / 2)\n",
    "    return vx\n",
    "\n",
    "\n",
    "def vary_gen(theta, phi):\n",
    "    vy = 1.5 - (np.sqrt(2)/2) * np.sin(theta + np.pi / 4) * np.sin(phi + np.pi / 2)\n",
    "    return vy\n",
    "\n",
    "\n",
    "# Generate n data\n",
    "def spherical_data(n, thetas, phis, rand=1234):\n",
    "    \n",
    "    mx1, my1 = np.zeros(n), np.zeros(n)\n",
    "    vx1, vy1 = np.ones(n), np.ones(n)\n",
    "    \n",
    "    mx2, my2 = mean_gen(thetas, phis), np.zeros(n)\n",
    "    vx2, vy2 = varx_gen(thetas, phis), vary_gen(thetas, phis)\n",
    "    \n",
    "    x1, y1 = np.transpose(np.array([np.random.normal(mx1, vx1, size=n), \n",
    "                                    np.random.normal(my1, vy1, size=n), thetas, phis])), np.zeros(n)\n",
    "    x2, y2 = np.transpose(np.array([np.random.normal(mx2, vx2, size=n), \n",
    "                                    np.random.normal(my2, vy2, size=n), thetas, phis])), np.ones(n)\n",
    "    \n",
    "    x, y = np.append(x1, x2, axis=0), np.append(y1, y2, axis=0)\n",
    "\n",
    "    x_train, x_test, y_train, y_test = train_test_split(x, y, test_size = 0.2, random_state = rand)\n",
    "    \n",
    "    return x_train, x_test, y_train, y_test"
   ]
  },
  {
   "cell_type": "code",
   "execution_count": 12,
   "id": "272f6013",
   "metadata": {},
   "outputs": [],
   "source": [
    "# Single Point on Sphere\n",
    "\n",
    "n = 40000\n",
    "rand_n = 12345\n",
    "theta, phi = 3, 3\n",
    "thetas, phis = theta * np.ones(n), phi * np.ones(n)\n",
    "x_train, x_test, y_train, y_test = spherical_data(n, thetas, phis, rand_n)\n",
    "\n",
    "# model = tf.keras.models.load_model('3dmodels/discrete_model_mth15_mph15')\n",
    "model = tf.keras.models.load_model('3dmodels/discrete_model_th3_ph3')"
   ]
  },
  {
   "cell_type": "code",
   "execution_count": 13,
   "id": "3a01fe50",
   "metadata": {},
   "outputs": [
    {
     "name": "stdout",
     "output_type": "stream",
     "text": [
      "Model: \"model_3\"\n",
      "__________________________________________________________________________________________________\n",
      "Layer (type)                    Output Shape         Param #     Connected to                     \n",
      "==================================================================================================\n",
      "input_4 (InputLayer)            [(None, 2)]          0                                            \n",
      "__________________________________________________________________________________________________\n",
      "tf.ones_like_1 (TFOpLambda)     (None, 2)            0           input_4[0][0]                    \n",
      "__________________________________________________________________________________________________\n",
      "tf.__operators__.getitem_1 (Sli (None, 1)            0           tf.ones_like_1[0][0]             \n",
      "__________________________________________________________________________________________________\n",
      "model_2 (Functional)            (None, 2)            2           tf.__operators__.getitem_1[0][0] \n",
      "__________________________________________________________________________________________________\n",
      "concatenate_1 (Concatenate)     (None, 4)            0           input_4[0][0]                    \n",
      "                                                                 model_2[0][0]                    \n",
      "__________________________________________________________________________________________________\n",
      "sequential (Sequential)         (None, 1)            17281       concatenate_1[0][0]              \n",
      "==================================================================================================\n",
      "Total params: 17,283\n",
      "Trainable params: 2\n",
      "Non-trainable params: 17,281\n",
      "__________________________________________________________________________________________________\n"
     ]
    }
   ],
   "source": [
    "for l in model.layers:\n",
    "    l.trainable=False\n",
    "\n",
    "inputs_hold = tf.keras.Input(shape=(1,))\n",
    "simple_model = Dense(2, use_bias = False)(inputs_hold)\n",
    "model3 = Model(inputs = inputs_hold, outputs = simple_model)\n",
    "\n",
    "inputs = tf.keras.Input(shape=(2,))\n",
    "inputs2 = tf.keras.layers.concatenate([inputs, model3(tf.ones_like(inputs)[:,0:1])])\n",
    "hidden_layer_1 = model(inputs2)\n",
    "\n",
    "model2 = Model(inputs = inputs, outputs = hidden_layer_1)\n",
    "loss_fn = tf.keras.losses.BinaryCrossentropy()\n",
    "model2.compile(loss=loss_fn, optimizer='Adam', )\n",
    "\n",
    "model2.summary()"
   ]
  },
  {
   "cell_type": "code",
   "execution_count": 18,
   "id": "dd3d2a01",
   "metadata": {},
   "outputs": [
    {
     "name": "stdout",
     "output_type": "stream",
     "text": [
      "discrete_model_th5_ph5 has loss 0.7176607511820549\n",
      "discrete_model_th5_ph3 has loss 0.6682014072554356\n",
      "discrete_model_th4_ph3 has loss 0.6352690782713435\n",
      "discrete_model_th3_ph3 has loss 0.5615279547481478\n",
      "discrete_model_th2_ph3 has loss 0.5785765893505459\n",
      "discrete_model_th0_ph0 has loss 0.6880507253501564\n",
      "discrete_model_mth15_mph15 has loss 0.5869762585826247\n"
     ]
    }
   ],
   "source": [
    "names = []\n",
    "names.append('discrete_model_th5_ph5')\n",
    "names.append('discrete_model_th5_ph3')\n",
    "names.append('discrete_model_th4_ph3')\n",
    "names.append('discrete_model_th3_ph3')\n",
    "names.append('discrete_model_th2_ph3')\n",
    "names.append('discrete_model_th0_ph0')\n",
    "names.append('discrete_model_mth15_mph15')\n",
    "\n",
    "l = len(names)\n",
    "\n",
    "models = []\n",
    "predictions = []\n",
    "for i in range(l):\n",
    "    models.append(tf.keras.models.load_model('3dmodels/' + names[i]))\n",
    "    xr = models[i](x_train).numpy().transpose()[0]\n",
    "    loss = np.sum(-y_train * np.log(xr) - (1-y_train) * np.log(1-xr)) / xr.shape[0]\n",
    "    print(names[i], 'has loss', loss)"
   ]
  },
  {
   "cell_type": "code",
   "execution_count": 16,
   "id": "05c5dbb2",
   "metadata": {
    "scrolled": true
   },
   "outputs": [
    {
     "name": "stdout",
     "output_type": "stream",
     "text": [
      "640/640 [==============================] - 3s 4ms/step - loss: 0.5630\n",
      "0 Fitted result:  tf.Tensor([2.7531958 2.728015 ], shape=(2,), dtype=float32)\n",
      "0.5618305075703683\n",
      "640/640 [==============================] - 2s 4ms/step - loss: 0.5627\n",
      "1 Fitted result:  tf.Tensor([2.8046625 2.8564637], shape=(2,), dtype=float32)\n",
      "0.5616583040759288\n",
      "640/640 [==============================] - 2s 3ms/step - loss: 0.5627\n",
      "2 Fitted result:  tf.Tensor([2.8518248 2.9732978], shape=(2,), dtype=float32)\n",
      "0.5615213488237641\n",
      "640/640 [==============================] - 2s 3ms/step - loss: 0.5626\n",
      "3 Fitted result:  tf.Tensor([2.9090626 3.0440218], shape=(2,), dtype=float32)\n",
      "0.5614399866945169\n",
      "640/640 [==============================] - 3s 4ms/step - loss: 0.5625\n",
      "4 Fitted result:  tf.Tensor([2.9501114 3.0939536], shape=(2,), dtype=float32)\n",
      "0.5613944166108559\n",
      "640/640 [==============================] - 3s 4ms/step - loss: 0.5622\n",
      "5 Fitted result:  tf.Tensor([2.9705653 3.1630957], shape=(2,), dtype=float32)\n",
      "0.5613372190374939\n",
      "640/640 [==============================] - 3s 5ms/step - loss: 0.5626\n",
      "6 Fitted result:  tf.Tensor([2.9985712 3.2012415], shape=(2,), dtype=float32)\n",
      "0.5613128139357141\n",
      "640/640 [==============================] - 3s 4ms/step - loss: 0.5629\n",
      "7 Fitted result:  tf.Tensor([3.0055962 3.265063 ], shape=(2,), dtype=float32)\n",
      "0.5612645727777854\n",
      "640/640 [==============================] - 3s 4ms/step - loss: 0.5625\n",
      "8 Fitted result:  tf.Tensor([3.028718 3.311656], shape=(2,), dtype=float32)\n",
      "0.5612357541733946\n",
      "640/640 [==============================] - 4s 6ms/step - loss: 0.5624\n",
      "9 Fitted result:  tf.Tensor([3.0406814 3.3517935], shape=(2,), dtype=float32)\n",
      "0.5612102456573194\n"
     ]
    }
   ],
   "source": [
    "coordinates = x_train[:, 0:2]\n",
    "real_model = tf.keras.models.load_model('3dmodels/discrete_model_th3_ph3')\n",
    "x_r = real_model(x_train).numpy().transpose()[0]\n",
    "\n",
    "for i in range(10):\n",
    "    model2.fit(coordinates, y_train, epochs=1,batch_size=100)\n",
    "    print(i,\"Fitted result: \", model2.trainable_weights[:][0][0])\n",
    "    x = model2(coordinates).numpy().transpose()[0]\n",
    "    print(np.sum(-y_train * np.log(x) - (1-y_train) * np.log(1-x)) / x.shape[0])\n",
    "    "
   ]
  },
  {
   "cell_type": "code",
   "execution_count": null,
   "id": "409e840f",
   "metadata": {},
   "outputs": [],
   "source": []
  }
 ],
 "metadata": {
  "kernelspec": {
   "display_name": "Python 3 (ipykernel)",
   "language": "python",
   "name": "python3"
  },
  "language_info": {
   "codemirror_mode": {
    "name": "ipython",
    "version": 3
   },
   "file_extension": ".py",
   "mimetype": "text/x-python",
   "name": "python",
   "nbconvert_exporter": "python",
   "pygments_lexer": "ipython3",
   "version": "3.9.13"
  }
 },
 "nbformat": 4,
 "nbformat_minor": 5
}
