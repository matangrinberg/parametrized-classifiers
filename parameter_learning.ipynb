{
 "cells": [
  {
   "cell_type": "code",
   "execution_count": 5,
   "id": "41cd7559",
   "metadata": {},
   "outputs": [],
   "source": [
    "import numpy as np\n",
    "import datetime\n",
    "import os\n",
    "import sklearn.metrics\n",
    "import matplotlib.pyplot as plt\n",
    "from sklearn.model_selection import train_test_split\n",
    "import tensorflow as tf\n",
    "from scipy.stats import chi\n",
    "from scipy import stats\n",
    "from tensorflow.keras.layers import Input, Dense\n",
    "from tensorflow.keras.models import Model, Sequential\n",
    "from functions import mean_gen, varx_gen, vary_gen, spherical_data"
   ]
  },
  {
   "cell_type": "code",
   "execution_count": 2,
   "id": "272f6013",
   "metadata": {},
   "outputs": [
    {
     "name": "stderr",
     "output_type": "stream",
     "text": [
      "2022-08-09 10:55:26.283549: W tensorflow/stream_executor/platform/default/dso_loader.cc:64] Could not load dynamic library 'libcuda.so.1'; dlerror: libcuda.so.1: cannot open shared object file: No such file or directory\n",
      "2022-08-09 10:55:26.283588: W tensorflow/stream_executor/cuda/cuda_driver.cc:269] failed call to cuInit: UNKNOWN ERROR (303)\n",
      "2022-08-09 10:55:26.283621: I tensorflow/stream_executor/cuda/cuda_diagnostics.cc:156] kernel driver does not appear to be running on this host (jupyter-matan): /proc/driver/nvidia/version does not exist\n",
      "2022-08-09 10:55:26.284865: I tensorflow/core/platform/cpu_feature_guard.cc:142] This TensorFlow binary is optimized with oneAPI Deep Neural Network Library (oneDNN) to use the following CPU instructions in performance-critical operations:  AVX2 FMA\n",
      "To enable them in other operations, rebuild TensorFlow with the appropriate compiler flags.\n"
     ]
    }
   ],
   "source": [
    "# Single Point on Sphere\n",
    "\n",
    "n = 50000\n",
    "rand_n = 12345\n",
    "theta, phi = 1, 1\n",
    "thetas, phis = theta * np.ones(n), phi * np.ones(n)\n",
    "x_train, x_test, y_train, y_test = spherical_data(n, thetas, phis, rand_n)\n",
    "\n",
    "model = tf.keras.models.load_model('3dmodels/discrete_model_mth40_mph40')\n",
    "# model = tf.keras.models.load_model('3dmodels/discrete_model_mth50_mph50')\n",
    "# model = tf.keras.models.load_model('3dmodels/discrete_model_th3_ph3')"
   ]
  },
  {
   "cell_type": "code",
   "execution_count": 3,
   "id": "3a01fe50",
   "metadata": {},
   "outputs": [
    {
     "name": "stdout",
     "output_type": "stream",
     "text": [
      "Model: \"model_1\"\n",
      "__________________________________________________________________________________________________\n",
      "Layer (type)                    Output Shape         Param #     Connected to                     \n",
      "==================================================================================================\n",
      "input_2 (InputLayer)            [(None, 2)]          0                                            \n",
      "__________________________________________________________________________________________________\n",
      "tf.ones_like (TFOpLambda)       (None, 2)            0           input_2[0][0]                    \n",
      "__________________________________________________________________________________________________\n",
      "tf.__operators__.getitem (Slici (None, 1)            0           tf.ones_like[0][0]               \n",
      "__________________________________________________________________________________________________\n",
      "model (Functional)              (None, 2)            2           tf.__operators__.getitem[0][0]   \n",
      "__________________________________________________________________________________________________\n",
      "concatenate (Concatenate)       (None, 4)            0           input_2[0][0]                    \n",
      "                                                                 model[0][0]                      \n",
      "__________________________________________________________________________________________________\n",
      "sequential_1 (Sequential)       (None, 1)            17281       concatenate[0][0]                \n",
      "==================================================================================================\n",
      "Total params: 17,283\n",
      "Trainable params: 2\n",
      "Non-trainable params: 17,281\n",
      "__________________________________________________________________________________________________\n",
      "[<tf.Variable 'dense/kernel:0' shape=(1, 2) dtype=float32, numpy=array([[1., 1.]], dtype=float32)>]\n"
     ]
    }
   ],
   "source": [
    "for l in model.layers:\n",
    "    l.trainable=False\n",
    "\n",
    "inputs_hold = tf.keras.Input(shape=(1,))\n",
    "initial_weights = np.ones(2)\n",
    "# print(initial_weights)\n",
    "simple_model = Dense(2, use_bias = False, kernel_initializer='ones')(inputs_hold)\n",
    "model3 = Model(inputs = inputs_hold, outputs = simple_model)\n",
    "\n",
    "inputs = tf.keras.Input(shape=(2,))\n",
    "inputs2 = tf.keras.layers.concatenate([inputs, model3(tf.ones_like(inputs)[:,0:1])])\n",
    "hidden_layer_1 = model(inputs2)\n",
    "\n",
    "model2 = Model(inputs = inputs, outputs = hidden_layer_1)\n",
    "loss_fn = tf.keras.losses.BinaryCrossentropy()\n",
    "model2.compile(loss=loss_fn, optimizer='Adam', )\n",
    "# initialize model 2 weights to be the right answer (or near it, test how sensitive)\n",
    "\n",
    "model2.summary()\n",
    "print(model2.trainable_weights)"
   ]
  },
  {
   "cell_type": "code",
   "execution_count": null,
   "id": "2115cbbe",
   "metadata": {},
   "outputs": [],
   "source": [
    "x_train_test = np.copy(x_train)\n",
    "x_train_test[:, 2] = model2.trainable_weights[:][0][0][0] * (x_train[:, 2] - 2)\n",
    "x_train_test[:, 3] = model2.trainable_weights[:][0][0][1] * (x_train[:, 3] - 2)\n",
    "print(x_train_test[0])\n",
    "model(x_train_test)"
   ]
  },
  {
   "cell_type": "code",
   "execution_count": null,
   "id": "f5769ff7",
   "metadata": {},
   "outputs": [],
   "source": [
    "coordinates = x_train[:, 0:2]\n",
    "model2(coordinates)"
   ]
  },
  {
   "cell_type": "code",
   "execution_count": 4,
   "id": "e99ea578",
   "metadata": {},
   "outputs": [],
   "source": [
    "x_train_mod = x_train\n",
    "x_train_mod[:,2] = x_train[:, 2] - 1"
   ]
  },
  {
   "cell_type": "code",
   "execution_count": 5,
   "id": "dd3d2a01",
   "metadata": {},
   "outputs": [
    {
     "name": "stdout",
     "output_type": "stream",
     "text": [
      "discrete_model_th5_ph5 has loss 0.9759512744592924\n",
      "discrete_model_th5_ph3 has loss 0.9746098276199208\n",
      "discrete_model_th4_ph3 has loss 0.7359622403498043\n",
      "discrete_model_th3_ph3 has loss 0.7679961990433425\n",
      "discrete_model_th2_ph3 has loss 0.8718129085686916\n",
      "discrete_model_th2_ph2 has loss 0.8254249363208351\n",
      "discrete_model_th0_ph0 has loss 0.6929170613773167\n",
      "discrete_model_mth15_mph15 has loss 0.6291996984028934\n"
     ]
    }
   ],
   "source": [
    "names = []\n",
    "names.append('discrete_model_th5_ph5')\n",
    "names.append('discrete_model_th5_ph3')\n",
    "names.append('discrete_model_th4_ph3')\n",
    "names.append('discrete_model_th3_ph3')\n",
    "names.append('discrete_model_th2_ph3')\n",
    "names.append('discrete_model_th2_ph2')\n",
    "names.append('discrete_model_th0_ph0')\n",
    "names.append('discrete_model_mth15_mph15')\n",
    "\n",
    "l = len(names)\n",
    "\n",
    "models = []\n",
    "predictions = []\n",
    "for i in range(l):\n",
    "    models.append(tf.keras.models.load_model('3dmodels/' + names[i]))\n",
    "    xr = models[i](x_train).numpy().transpose()[0]\n",
    "    loss = np.sum(-y_train * np.log(xr) - (1-y_train) * np.log(1-xr)) / xr.shape[0]\n",
    "    print(names[i], 'has loss', loss)\n",
    "    \n",
    "# models = []\n",
    "# predictions = []\n",
    "# for i in range(l):\n",
    "#     models.append(tf.keras.models.load_model('3dmodels/' + names[i]))\n",
    "#     xr = models[i](x_train_mod).numpy().transpose()[0]\n",
    "#     loss = np.sum(-y_train * np.log(xr) - (1-y_train) * np.log(1-xr)) / xr.shape[0]\n",
    "#     print(names[i], 'has loss', loss)"
   ]
  },
  {
   "cell_type": "code",
   "execution_count": 4,
   "id": "05c5dbb2",
   "metadata": {
    "scrolled": true
   },
   "outputs": [
    {
     "name": "stderr",
     "output_type": "stream",
     "text": [
      "2022-08-09 10:55:30.112512: I tensorflow/compiler/mlir/mlir_graph_optimization_pass.cc:185] None of the MLIR Optimization Passes are enabled (registered 2)\n"
     ]
    },
    {
     "name": "stdout",
     "output_type": "stream",
     "text": [
      "800/800 [==============================] - 2s 2ms/step - loss: 0.6197\n",
      "0 Fitted result:  tf.Tensor([1.1205341 1.0009165], shape=(2,), dtype=float32)\n",
      "0.6192640518213278\n",
      "800/800 [==============================] - 1s 2ms/step - loss: 0.6199\n",
      "1 Fitted result:  tf.Tensor([1.1685234  0.99616665], shape=(2,), dtype=float32)\n",
      "0.6191097689102271\n",
      "800/800 [==============================] - 2s 2ms/step - loss: 0.6197\n",
      "2 Fitted result:  tf.Tensor([1.2013472 0.9903148], shape=(2,), dtype=float32)\n",
      "0.6190375002170391\n",
      "800/800 [==============================] - 2s 2ms/step - loss: 0.6196\n",
      "3 Fitted result:  tf.Tensor([1.1957016 1.0134196], shape=(2,), dtype=float32)\n",
      "0.618969493202451\n",
      "800/800 [==============================] - 2s 2ms/step - loss: 0.6200\n",
      "4 Fitted result:  tf.Tensor([1.2041438 1.0007222], shape=(2,), dtype=float32)\n",
      "0.6189878485942543\n",
      "800/800 [==============================] - 2s 2ms/step - loss: 0.6196\n",
      "5 Fitted result:  tf.Tensor([1.1920738 0.9997556], shape=(2,), dtype=float32)\n",
      "0.6190235089545194\n",
      "800/800 [==============================] - 2s 2ms/step - loss: 0.6199\n",
      "6 Fitted result:  tf.Tensor([1.1873137 0.9948515], shape=(2,), dtype=float32)\n",
      "0.6190571757263224\n",
      "800/800 [==============================] - 2s 2ms/step - loss: 0.6199\n",
      "7 Fitted result:  tf.Tensor([1.1886429  0.97410494], shape=(2,), dtype=float32)\n",
      "0.6191591565739105\n",
      "800/800 [==============================] - 2s 2ms/step - loss: 0.6200\n",
      "8 Fitted result:  tf.Tensor([1.2009981  0.99316025], shape=(2,), dtype=float32)\n",
      "0.619025937616181\n",
      "800/800 [==============================] - 1s 2ms/step - loss: 0.6197\n",
      "9 Fitted result:  tf.Tensor([1.2071086 0.995404 ], shape=(2,), dtype=float32)\n",
      "0.6190010272380583\n",
      "800/800 [==============================] - 1s 2ms/step - loss: 0.6198\n",
      "10 Fitted result:  tf.Tensor([1.1939875 0.9748384], shape=(2,), dtype=float32)\n",
      "0.6191377284560909\n",
      "800/800 [==============================] - 2s 2ms/step - loss: 0.6199\n",
      "11 Fitted result:  tf.Tensor([1.2110507 0.9970443], shape=(2,), dtype=float32)\n",
      "0.6189847391856159\n",
      "800/800 [==============================] - 2s 2ms/step - loss: 0.6199\n",
      "12 Fitted result:  tf.Tensor([1.2079515 1.0103269], shape=(2,), dtype=float32)\n",
      "0.6189485112627024\n",
      "800/800 [==============================] - 2s 2ms/step - loss: 0.6198\n",
      "13 Fitted result:  tf.Tensor([1.2117122 0.9880755], shape=(2,), dtype=float32)\n",
      "0.6190197756467689\n",
      "800/800 [==============================] - 2s 2ms/step - loss: 0.6201\n",
      "14 Fitted result:  tf.Tensor([1.1994104 0.9904709], shape=(2,), dtype=float32)\n",
      "0.6190421181457989\n",
      "800/800 [==============================] - 2s 2ms/step - loss: 0.6199\n",
      "15 Fitted result:  tf.Tensor([1.2159631 1.0067976], shape=(2,), dtype=float32)\n",
      "0.6189402147289027\n",
      "800/800 [==============================] - 1s 2ms/step - loss: 0.6201\n",
      "16 Fitted result:  tf.Tensor([1.2141438 0.994533 ], shape=(2,), dtype=float32)\n",
      "0.6189866115253885\n",
      "800/800 [==============================] - 2s 2ms/step - loss: 0.6199\n",
      "17 Fitted result:  tf.Tensor([1.2085041 0.9977618], shape=(2,), dtype=float32)\n",
      "0.6189882861882348\n",
      "800/800 [==============================] - 2s 2ms/step - loss: 0.6200\n",
      "18 Fitted result:  tf.Tensor([1.2012627 1.0011971], shape=(2,), dtype=float32)\n",
      "0.6189935495056252\n",
      "800/800 [==============================] - 2s 2ms/step - loss: 0.6192\n",
      "19 Fitted result:  tf.Tensor([1.1897093  0.99201894], shape=(2,), dtype=float32)\n",
      "0.6190625770721662\n"
     ]
    }
   ],
   "source": [
    "coordinates = x_train[:, 0:2]\n",
    "# real_model = tf.keras.models.load_model('3dmodels/discrete_model_th3_ph3')\n",
    "# x_r = real_model(x_train).numpy().transpose()[0]\n",
    "\n",
    "for i in range(20):\n",
    "    model2.fit(coordinates, y_train, epochs=1,batch_size=100)\n",
    "    print(i,\"Fitted result: \", model2.trainable_weights[:][0][0])\n",
    "    x = model2(coordinates).numpy().transpose()[0]\n",
    "    print(np.sum(-y_train * np.log(x) - (1-y_train) * np.log(1-x)) / x.shape[0])\n",
    "    "
   ]
  },
  {
   "cell_type": "code",
   "execution_count": null,
   "id": "31a4e3b3",
   "metadata": {},
   "outputs": [],
   "source": [
    "xr = model(x_train).numpy().transpose()[0]\n",
    "y = model(x_train)\n",
    "loss = np.sum(-y_train * np.log(xr) - (1-y_train) * np.log(1-xr)) / xr.shape[0]\n",
    "print(loss)"
   ]
  },
  {
   "cell_type": "code",
   "execution_count": null,
   "id": "409e840f",
   "metadata": {},
   "outputs": [],
   "source": [
    "x_train_mod = np.copy(x_train)\n",
    "x_train_mod[:, 2] = x_train[:, 2] - .1\n",
    "x_train_mod[:, 3] = x_train[:, 3] - .46\n",
    "xr_mod = model(x_train_mod).numpy().transpose()[0]\n",
    "y_mod = model(x_train_mod)\n",
    "loss_mod = np.sum(-y_train * np.log(xr_mod) - (1-y_train) * np.log(1-xr_mod)) / xr_mod.shape[0]\n",
    "print(loss_mod)"
   ]
  },
  {
   "cell_type": "code",
   "execution_count": null,
   "id": "99eb153f",
   "metadata": {},
   "outputs": [],
   "source": []
  }
 ],
 "metadata": {
  "kernelspec": {
   "display_name": "Python 3 (ipykernel)",
   "language": "python",
   "name": "python3"
  },
  "language_info": {
   "codemirror_mode": {
    "name": "ipython",
    "version": 3
   },
   "file_extension": ".py",
   "mimetype": "text/x-python",
   "name": "python",
   "nbconvert_exporter": "python",
   "pygments_lexer": "ipython3",
   "version": "3.9.13"
  }
 },
 "nbformat": 4,
 "nbformat_minor": 5
}
