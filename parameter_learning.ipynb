{
 "cells": [
  {
   "cell_type": "code",
   "execution_count": 6,
   "id": "41cd7559",
   "metadata": {},
   "outputs": [],
   "source": [
    "import numpy as np\n",
    "import datetime\n",
    "import os\n",
    "import sklearn.metrics\n",
    "import matplotlib.pyplot as plt\n",
    "from sklearn.model_selection import train_test_split\n",
    "import tensorflow as tf\n",
    "from scipy.stats import chi\n",
    "from scipy import stats\n",
    "from tensorflow.keras.layers import Input, Dense\n",
    "from tensorflow.keras.models import Model, Sequential\n",
    "from functions import mean_gen, varx_gen, vary_gen, spherical_data, test_on_integers, learn_parameters"
   ]
  },
  {
   "cell_type": "code",
   "execution_count": 7,
   "id": "272f6013",
   "metadata": {},
   "outputs": [],
   "source": [
    "# Random Seed\n",
    "rand_n = 12345\n",
    "\n",
    "# Single Point on Sphere\n",
    "n = 40000\n",
    "angles = np.array([2.5, 2.5])\n",
    "thetas, phis = angles[0] * np.ones(n), angles[1] * np.ones(n)\n",
    "x_train, x_test, y_train, y_test = spherical_data(n, thetas, phis, rand_n)"
   ]
  },
  {
   "cell_type": "code",
   "execution_count": 8,
   "id": "3a01fe50",
   "metadata": {},
   "outputs": [
    {
     "name": "stdout",
     "output_type": "stream",
     "text": [
      "Model: \"model_3\"\n",
      "__________________________________________________________________________________________________\n",
      "Layer (type)                    Output Shape         Param #     Connected to                     \n",
      "==================================================================================================\n",
      "input_4 (InputLayer)            [(None, 2)]          0                                            \n",
      "__________________________________________________________________________________________________\n",
      "tf.ones_like_1 (TFOpLambda)     (None, 2)            0           input_4[0][0]                    \n",
      "__________________________________________________________________________________________________\n",
      "tf.__operators__.getitem_1 (Sli (None, 1)            0           tf.ones_like_1[0][0]             \n",
      "__________________________________________________________________________________________________\n",
      "model_2 (Functional)            (None, 2)            2           tf.__operators__.getitem_1[0][0] \n",
      "__________________________________________________________________________________________________\n",
      "concatenate_1 (Concatenate)     (None, 4)            0           input_4[0][0]                    \n",
      "                                                                 model_2[0][0]                    \n",
      "__________________________________________________________________________________________________\n",
      "sequential_5 (Sequential)       (None, 1)            17281       concatenate_1[0][0]              \n",
      "==================================================================================================\n",
      "Total params: 17,283\n",
      "Trainable params: 2\n",
      "Non-trainable params: 17,281\n",
      "__________________________________________________________________________________________________\n"
     ]
    }
   ],
   "source": [
    "model_interpolate = tf.keras.models.load_model('3dmodels/discrete_model_mth40_mph40')\n",
    "\n",
    "for l in model_interpolate.layers:\n",
    "    l.trainable=False\n",
    "    \n",
    "loss_fn = tf.keras.losses.BinaryCrossentropy()\n",
    "\n",
    "# Building model_angles which is used to train (theta, phi)\n",
    "inputs_hold = tf.keras.Input(shape=(1,))\n",
    "simple_linear = Dense(2, use_bias = False, kernel_initializer='ones')(inputs_hold)\n",
    "model_angles = Model(inputs = inputs_hold, outputs = simple_linear)\n",
    "\n",
    "# Building model_parmafinder, inputs, which takes the (x, y) and finds the best (theta, phi)\n",
    "raw_inputs = tf.keras.Input(shape=(2,))\n",
    "inputs = tf.keras.layers.concatenate([raw_inputs, model_angles(tf.ones_like(raw_inputs)[:,0:1])])\n",
    "output = model_interpolate(inputs)\n",
    "\n",
    "model_paramfinder = Model(inputs = raw_inputs, outputs = output)\n",
    "model_paramfinder.compile(loss=loss_fn, optimizer='Adam')\n",
    "model_paramfinder.summary()"
   ]
  },
  {
   "cell_type": "code",
   "execution_count": 9,
   "id": "dd3d2a01",
   "metadata": {},
   "outputs": [
    {
     "name": "stdout",
     "output_type": "stream",
     "text": [
      "discrete_model_th5_ph3 has loss 0.6399607412144142\n",
      "discrete_model_th3_ph3 has loss 0.6243008177038691\n",
      "discrete_model_th2_ph2 has loss 0.6364817954972899\n",
      "discrete_model_th1_ph1 has loss 0.7387577053283457\n",
      "discrete_model_th0_ph0 has loss 0.6932041742764413\n"
     ]
    }
   ],
   "source": [
    "test_on_integers(x_train, y_train)"
   ]
  },
  {
   "cell_type": "code",
   "execution_count": null,
   "id": "05c5dbb2",
   "metadata": {
    "scrolled": true
   },
   "outputs": [
    {
     "name": "stdout",
     "output_type": "stream",
     "text": [
      "640/640 [==============================] - 2s 2ms/step - loss: 0.6811\n",
      "0 Fitted result:  tf.Tensor([1.4862916 1.1815978], shape=(2,), dtype=float32)\n",
      "640/640 [==============================] - 1s 2ms/step - loss: 0.6453\n",
      "1 Fitted result:  tf.Tensor([1.8383607 1.3018242], shape=(2,), dtype=float32)\n",
      "640/640 [==============================] - 1s 2ms/step - loss: 0.6304\n",
      "2 Fitted result:  tf.Tensor([2.106011  1.4494157], shape=(2,), dtype=float32)\n",
      "640/640 [==============================] - 1s 2ms/step - loss: 0.6216\n",
      "3 Fitted result:  tf.Tensor([2.288649  1.7635429], shape=(2,), dtype=float32)\n",
      "640/640 [==============================] - 1s 2ms/step - loss: 0.6124\n",
      "4 Fitted result:  tf.Tensor([2.3843012 2.139596 ], shape=(2,), dtype=float32)\n",
      "640/640 [==============================] - 1s 2ms/step - loss: 0.6082\n",
      "5 Fitted result:  tf.Tensor([2.402034 2.333947], shape=(2,), dtype=float32)\n",
      "640/640 [==============================] - 1s 2ms/step - loss: 0.6076\n",
      "6 Fitted result:  tf.Tensor([2.4033055 2.4255066], shape=(2,), dtype=float32)\n",
      "640/640 [==============================] - 1s 2ms/step - loss: 0.6071\n",
      "7 Fitted result:  tf.Tensor([2.4164422 2.4809709], shape=(2,), dtype=float32)\n",
      "640/640 [==============================] - 1s 2ms/step - loss: 0.6072\n",
      "8 Fitted result:  tf.Tensor([2.426919  2.4918993], shape=(2,), dtype=float32)\n",
      "640/640 [==============================] - 1s 2ms/step - loss: 0.6072\n",
      "9 Fitted result:  tf.Tensor([2.4359426 2.5004957], shape=(2,), dtype=float32)\n",
      "640/640 [==============================] - 1s 2ms/step - loss: 0.6071\n",
      "10 Fitted result:  tf.Tensor([2.4440012 2.5193665], shape=(2,), dtype=float32)\n"
     ]
    }
   ],
   "source": [
    "epochs, iterations, batch_size = 1, 50, 100\n",
    "\n",
    "weights = learn_parameters(model_paramfinder, x_train, y_train, iterations, epochs, batch_size)\n",
    "angle_errors = (angles - weights) / angles\n",
    "average_error = np.sum(np.abs(angle_errors)) / 2\n",
    "print('Average error %:', average_error * 100)"
   ]
  },
  {
   "cell_type": "code",
   "execution_count": 5,
   "id": "397c3dca",
   "metadata": {},
   "outputs": [
    {
     "name": "stdout",
     "output_type": "stream",
     "text": [
      "0.6319640082872647\n"
     ]
    }
   ],
   "source": [
    "xr = model_interpolate(x_train).numpy().transpose()[0]\n",
    "y = model_interpolate(x_train)\n",
    "loss = np.sum(-y_train * np.log(xr) - (1-y_train) * np.log(1-xr)) / xr.shape[0]\n",
    "print(loss)"
   ]
  },
  {
   "cell_type": "code",
   "execution_count": null,
   "id": "4690d4b2",
   "metadata": {},
   "outputs": [],
   "source": [
    "sort(xr)"
   ]
  },
  {
   "cell_type": "code",
   "execution_count": 11,
   "id": "409e840f",
   "metadata": {},
   "outputs": [
    {
     "name": "stdout",
     "output_type": "stream",
     "text": [
      "0.6298558847219974\n"
     ]
    }
   ],
   "source": [
    "x_train_mod = np.copy(x_train)\n",
    "x_train_mod[:, 2] = x_train[:, 2] - .1\n",
    "x_train_mod[:, 3] = x_train[:, 3]\n",
    "xr_mod = model_interpolate(x_train_mod).numpy().transpose()[0]\n",
    "y_mod = model_interpolate(x_train_mod)\n",
    "loss_mod = np.sum(-y_train * np.log(xr_mod) - (1-y_train) * np.log(1-xr_mod)) / xr_mod.shape[0]\n",
    "print(loss_mod)"
   ]
  },
  {
   "cell_type": "code",
   "execution_count": 25,
   "id": "1e2f9af2",
   "metadata": {},
   "outputs": [
    {
     "data": {
      "text/plain": [
       "array([[ 1.07633646e-01,  1.70760504e+00,  4.00000000e+00,\n",
       "         3.00000000e+00],\n",
       "       [ 1.43298843e+00,  3.84883422e-01,  4.00000000e+00,\n",
       "         3.00000000e+00],\n",
       "       [ 3.76967497e-02,  7.15595959e-01,  4.00000000e+00,\n",
       "         3.00000000e+00],\n",
       "       ...,\n",
       "       [ 2.12611480e-03,  6.37581970e-01,  4.00000000e+00,\n",
       "         3.00000000e+00],\n",
       "       [ 8.48878054e-01,  5.50897652e-01,  4.00000000e+00,\n",
       "         3.00000000e+00],\n",
       "       [-9.53562972e-01,  5.37223246e-02,  4.00000000e+00,\n",
       "         3.00000000e+00]])"
      ]
     },
     "execution_count": 25,
     "metadata": {},
     "output_type": "execute_result"
    }
   ],
   "source": [
    "x_train"
   ]
  },
  {
   "cell_type": "code",
   "execution_count": null,
   "id": "7971de4e",
   "metadata": {},
   "outputs": [],
   "source": []
  }
 ],
 "metadata": {
  "kernelspec": {
   "display_name": "Python 3 (ipykernel)",
   "language": "python",
   "name": "python3"
  },
  "language_info": {
   "codemirror_mode": {
    "name": "ipython",
    "version": 3
   },
   "file_extension": ".py",
   "mimetype": "text/x-python",
   "name": "python",
   "nbconvert_exporter": "python",
   "pygments_lexer": "ipython3",
   "version": "3.9.13"
  }
 },
 "nbformat": 4,
 "nbformat_minor": 5
}
