{
 "cells": [
  {
   "cell_type": "code",
   "execution_count": 1,
   "id": "126a0c68",
   "metadata": {},
   "outputs": [
    {
     "name": "stderr",
     "output_type": "stream",
     "text": [
      "2022-07-19 11:53:50.737611: W tensorflow/stream_executor/platform/default/dso_loader.cc:64] Could not load dynamic library 'libcudart.so.11.0'; dlerror: libcudart.so.11.0: cannot open shared object file: No such file or directory\n",
      "2022-07-19 11:53:50.737656: I tensorflow/stream_executor/cuda/cudart_stub.cc:29] Ignore above cudart dlerror if you do not have a GPU set up on your machine.\n"
     ]
    }
   ],
   "source": [
    "import numpy as np\n",
    "import datetime\n",
    "import os\n",
    "import sklearn.metrics\n",
    "import matplotlib.pyplot as plt\n",
    "from sklearn.model_selection import train_test_split\n",
    "import tensorflow as tf\n",
    "from scipy.stats import chi\n",
    "from scipy import stats\n",
    "from tensorflow.keras.layers import Input, Dense\n",
    "from tensorflow.keras.models import Model, Sequential"
   ]
  },
  {
   "cell_type": "code",
   "execution_count": 2,
   "id": "41cd7559",
   "metadata": {},
   "outputs": [],
   "source": [
    "############\n",
    "# Functions\n",
    "############\n",
    "\n",
    "# Our 3d parameter space is the surface of a sphere centered at (1, 1, 1), with radius 1/sqrt(2)\n",
    "# x, y coordinates are the x and y variances of our 2d Gaussian\n",
    "# z coordinate determines the x-coordinate of the mean, mu = (z, 0)\n",
    "\n",
    "def mean_gen(theta, phi):\n",
    "    mu = 0.5 + (np.sqrt(2)/2) * np.cos(phi + np.pi / 4)\n",
    "    return mu\n",
    "\n",
    "\n",
    "def varx_gen(theta, phi):\n",
    "    vx = 1.5 - (np.sqrt(2)/2) * np.cos(theta + np.pi / 4) * np.sin(phi + np.pi / 2)\n",
    "    return vx\n",
    "\n",
    "\n",
    "def vary_gen(theta, phi):\n",
    "    vy = 1.5 - (np.sqrt(2)/2) * np.sin(theta + np.pi / 4) * np.sin(phi + np.pi / 2)\n",
    "    return vy\n",
    "\n",
    "\n",
    "# Generate n data\n",
    "def spherical_data(n, thetas, phis, rand=1234):\n",
    "    \n",
    "    mx1, my1 = np.zeros(n), np.zeros(n)\n",
    "    vx1, vy1 = np.ones(n), np.ones(n)\n",
    "    \n",
    "    mx2, my2 = mean_gen(thetas, phis), np.zeros(n)\n",
    "    vx2, vy2 = varx_gen(thetas, phis), vary_gen(thetas, phis)\n",
    "    \n",
    "    x1, y1 = np.transpose(np.array([np.random.normal(mx1, vx1, size=n), \n",
    "                                    np.random.normal(my1, vy1, size=n), thetas, phis])), np.zeros(n)\n",
    "    x2, y2 = np.transpose(np.array([np.random.normal(mx2, vx2, size=n), \n",
    "                                    np.random.normal(my2, vy2, size=n), thetas, phis])), np.ones(n)\n",
    "    \n",
    "    x, y = np.append(x1, x2, axis=0), np.append(y1, y2, axis=0)\n",
    "\n",
    "    x_train, x_test, y_train, y_test = train_test_split(x, y, test_size = 0.2, random_state = rand)\n",
    "    \n",
    "    return x_train, x_test, y_train, y_test"
   ]
  },
  {
   "cell_type": "code",
   "execution_count": 3,
   "id": "272f6013",
   "metadata": {},
   "outputs": [
    {
     "name": "stderr",
     "output_type": "stream",
     "text": [
      "2022-07-19 11:54:01.623650: W tensorflow/stream_executor/platform/default/dso_loader.cc:64] Could not load dynamic library 'libcuda.so.1'; dlerror: libcuda.so.1: cannot open shared object file: No such file or directory\n",
      "2022-07-19 11:54:01.623688: W tensorflow/stream_executor/cuda/cuda_driver.cc:269] failed call to cuInit: UNKNOWN ERROR (303)\n",
      "2022-07-19 11:54:01.623718: I tensorflow/stream_executor/cuda/cuda_diagnostics.cc:156] kernel driver does not appear to be running on this host (jupyter-matan): /proc/driver/nvidia/version does not exist\n",
      "2022-07-19 11:54:01.624076: I tensorflow/core/platform/cpu_feature_guard.cc:142] This TensorFlow binary is optimized with oneAPI Deep Neural Network Library (oneDNN) to use the following CPU instructions in performance-critical operations:  AVX2 FMA\n",
      "To enable them in other operations, rebuild TensorFlow with the appropriate compiler flags.\n"
     ]
    }
   ],
   "source": [
    "# Single Point on Sphere\n",
    "\n",
    "n = 40000\n",
    "rand_n = 12345\n",
    "theta, phi = 3, 1\n",
    "thetas, phis = theta * np.ones(n), phi * np.ones(n)\n",
    "x_train, x_test, y_train, y_test = spherical_data(n, thetas, phis, rand_n)\n",
    "\n",
    "model = tf.keras.models.load_model('3dmodels/discrete_model_mth15_mph15')"
   ]
  },
  {
   "cell_type": "code",
   "execution_count": 4,
   "id": "3a01fe50",
   "metadata": {},
   "outputs": [
    {
     "name": "stdout",
     "output_type": "stream",
     "text": [
      "Model: \"model_1\"\n",
      "__________________________________________________________________________________________________\n",
      "Layer (type)                    Output Shape         Param #     Connected to                     \n",
      "==================================================================================================\n",
      "input_2 (InputLayer)            [(None, 2)]          0                                            \n",
      "__________________________________________________________________________________________________\n",
      "tf.ones_like (TFOpLambda)       (None, 2)            0           input_2[0][0]                    \n",
      "__________________________________________________________________________________________________\n",
      "tf.__operators__.getitem (Slici (None, 1)            0           tf.ones_like[0][0]               \n",
      "__________________________________________________________________________________________________\n",
      "model (Functional)              (None, 2)            2           tf.__operators__.getitem[0][0]   \n",
      "__________________________________________________________________________________________________\n",
      "concatenate (Concatenate)       (None, 4)            0           input_2[0][0]                    \n",
      "                                                                 model[0][0]                      \n",
      "__________________________________________________________________________________________________\n",
      "sequential_1 (Sequential)       (None, 1)            17281       concatenate[0][0]                \n",
      "==================================================================================================\n",
      "Total params: 17,283\n",
      "Trainable params: 2\n",
      "Non-trainable params: 17,281\n",
      "__________________________________________________________________________________________________\n"
     ]
    }
   ],
   "source": [
    "for l in model.layers:\n",
    "    l.trainable=False\n",
    "\n",
    "inputs_hold = tf.keras.Input(shape=(1,))\n",
    "simple_model = Dense(2, use_bias = False)(inputs_hold)\n",
    "model3 = Model(inputs = inputs_hold, outputs = simple_model)\n",
    "\n",
    "inputs = tf.keras.Input(shape=(2,))\n",
    "inputs2 = tf.keras.layers.concatenate([inputs, model3(tf.ones_like(inputs)[:,0:1])])\n",
    "hidden_layer_1 = model(inputs2)\n",
    "# model2 = Model(inputs = inputs, outputs = hidden_layer_1)\n",
    "# model2.compile(loss='categorical_crossentropy', optimizer='Adam', )\n",
    "\n",
    "# model2.summary()"
   ]
  },
  {
   "cell_type": "code",
   "execution_count": 8,
   "id": "69f9adf8",
   "metadata": {},
   "outputs": [
    {
     "name": "stdout",
     "output_type": "stream",
     "text": [
      "[[ 1.52149137  1.52567849  3.          1.        ]\n",
      " [-2.9591584  -1.67226417  3.          1.        ]\n",
      " [ 1.82442252 -1.09983086  3.          1.        ]\n",
      " [ 0.85642174 -0.14127318  3.          1.        ]\n",
      " [ 0.54308911 -1.12605262  3.          1.        ]\n",
      " [-1.01183886 -0.7713892   3.          1.        ]\n",
      " [ 1.75136515 -1.21595493  3.          1.        ]\n",
      " [-0.99150384  0.33114008  3.          1.        ]\n",
      " [-1.35306203 -1.03144875  3.          1.        ]\n",
      " [ 0.29660997 -0.39271103  3.          1.        ]]\n"
     ]
    }
   ],
   "source": [
    "print(x_train[0:10])"
   ]
  },
  {
   "cell_type": "code",
   "execution_count": 5,
   "id": "9698dbcb",
   "metadata": {},
   "outputs": [],
   "source": [
    "X_train = x_train[:, 0:2]"
   ]
  },
  {
   "cell_type": "code",
   "execution_count": 7,
   "id": "05c5dbb2",
   "metadata": {
    "scrolled": true
   },
   "outputs": [
    {
     "name": "stdout",
     "output_type": "stream",
     "text": [
      "640/640 [==============================] - 1s 2ms/step - loss: 0.0000e+00\n",
      "0 Fitted result:  [<tf.Variable 'dense/kernel:0' shape=(1, 2) dtype=float32, numpy=array([[30.175468, 17.86851 ]], dtype=float32)>]\n",
      "640/640 [==============================] - 1s 2ms/step - loss: 0.0000e+00\n",
      "1 Fitted result:  [<tf.Variable 'dense/kernel:0' shape=(1, 2) dtype=float32, numpy=array([[30.811605, 18.24613 ]], dtype=float32)>]\n",
      "640/640 [==============================] - 1s 2ms/step - loss: 0.0000e+00\n",
      "2 Fitted result:  [<tf.Variable 'dense/kernel:0' shape=(1, 2) dtype=float32, numpy=array([[31.447666, 18.629076]], dtype=float32)>]\n",
      "640/640 [==============================] - 1s 2ms/step - loss: 0.0000e+00\n",
      "3 Fitted result:  [<tf.Variable 'dense/kernel:0' shape=(1, 2) dtype=float32, numpy=array([[32.084503, 19.006474]], dtype=float32)>]\n",
      "640/640 [==============================] - 1s 2ms/step - loss: 0.0000e+00\n",
      "4 Fitted result:  [<tf.Variable 'dense/kernel:0' shape=(1, 2) dtype=float32, numpy=array([[32.72099 , 19.373617]], dtype=float32)>]\n",
      "640/640 [==============================] - 1s 2ms/step - loss: 0.0000e+00\n",
      "5 Fitted result:  [<tf.Variable 'dense/kernel:0' shape=(1, 2) dtype=float32, numpy=array([[33.357708, 19.743576]], dtype=float32)>]\n",
      "640/640 [==============================] - 1s 2ms/step - loss: 0.0000e+00\n",
      "6 Fitted result:  [<tf.Variable 'dense/kernel:0' shape=(1, 2) dtype=float32, numpy=array([[33.992817, 20.107803]], dtype=float32)>]\n",
      "640/640 [==============================] - 1s 2ms/step - loss: 0.0000e+00\n",
      "7 Fitted result:  [<tf.Variable 'dense/kernel:0' shape=(1, 2) dtype=float32, numpy=array([[34.629444, 20.486835]], dtype=float32)>]\n",
      "640/640 [==============================] - 1s 2ms/step - loss: 0.0000e+00\n",
      "8 Fitted result:  [<tf.Variable 'dense/kernel:0' shape=(1, 2) dtype=float32, numpy=array([[35.265152, 20.853346]], dtype=float32)>]\n",
      "640/640 [==============================] - 1s 2ms/step - loss: 0.0000e+00\n",
      "9 Fitted result:  [<tf.Variable 'dense/kernel:0' shape=(1, 2) dtype=float32, numpy=array([[35.90042, 21.24419]], dtype=float32)>]\n"
     ]
    }
   ],
   "source": [
    "for i in range(10):\n",
    "    model2.fit(X_train, y_train, epochs=1,batch_size=100)\n",
    "    print(i,\"Fitted result: \", model2.trainable_weights[:])"
   ]
  },
  {
   "cell_type": "code",
   "execution_count": null,
   "id": "8d7f4e2c",
   "metadata": {},
   "outputs": [],
   "source": []
  }
 ],
 "metadata": {
  "kernelspec": {
   "display_name": "Python 3 (ipykernel)",
   "language": "python",
   "name": "python3"
  },
  "language_info": {
   "codemirror_mode": {
    "name": "ipython",
    "version": 3
   },
   "file_extension": ".py",
   "mimetype": "text/x-python",
   "name": "python",
   "nbconvert_exporter": "python",
   "pygments_lexer": "ipython3",
   "version": "3.9.13"
  }
 },
 "nbformat": 4,
 "nbformat_minor": 5
}
