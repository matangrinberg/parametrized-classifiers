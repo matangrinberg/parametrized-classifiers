{
 "cells": [
  {
   "cell_type": "code",
   "execution_count": 20,
   "id": "126a0c68",
   "metadata": {},
   "outputs": [],
   "source": [
    "import numpy as np\n",
    "import datetime\n",
    "import os\n",
    "import sklearn.metrics\n",
    "import matplotlib.pyplot as plt\n",
    "from sklearn.model_selection import train_test_split\n",
    "import tensorflow as tf\n",
    "from scipy.stats import chi\n",
    "from scipy import stats\n",
    "from tensorflow.keras.layers import Input, Dense\n",
    "from tensorflow.keras.models import Model, Sequential"
   ]
  },
  {
   "cell_type": "code",
   "execution_count": 21,
   "id": "41cd7559",
   "metadata": {},
   "outputs": [],
   "source": [
    "############\n",
    "# Functions\n",
    "############\n",
    "\n",
    "# Our 3d parameter space is the surface of a sphere centered at (1, 1, 1), with radius 1/sqrt(2)\n",
    "# x, y coordinates are the x and y variances of our 2d Gaussian\n",
    "# z coordinate determines the x-coordinate of the mean, mu = (z, 0)\n",
    "\n",
    "def mean_gen(theta, phi):\n",
    "    mu = 0.5 - (np.sqrt(2)/2) * np.cos(phi + np.pi / 4)\n",
    "    return mu\n",
    "\n",
    "\n",
    "def varx_gen(theta, phi):\n",
    "    vx = 1.5 - (np.sqrt(2)/2) * np.cos(theta + np.pi / 4) * np.sin(phi + np.pi / 2)\n",
    "    return vx\n",
    "\n",
    "\n",
    "def vary_gen(theta, phi):\n",
    "    vy = 1.5 - (np.sqrt(2)/2) * np.sin(theta + np.pi / 4) * np.sin(phi + np.pi / 2)\n",
    "    return vy\n",
    "\n",
    "\n",
    "# Generate n data\n",
    "def spherical_data(n, thetas, phis, rand=1234):\n",
    "    \n",
    "    mx1, my1 = np.zeros(n), np.zeros(n)\n",
    "    vx1, vy1 = np.ones(n), np.ones(n)\n",
    "    \n",
    "    mx2, my2 = mean_gen(thetas, phis), np.zeros(n)\n",
    "    vx2, vy2 = varx_gen(thetas, phis), vary_gen(thetas, phis)\n",
    "    \n",
    "    x1, y1 = np.transpose(np.array([np.random.normal(mx1, vx1, size=n), \n",
    "                                    np.random.normal(my1, vy1, size=n), thetas, phis])), np.zeros(n)\n",
    "    x2, y2 = np.transpose(np.array([np.random.normal(mx2, vx2, size=n), \n",
    "                                    np.random.normal(my2, vy2, size=n), thetas, phis])), np.ones(n)\n",
    "    \n",
    "    x, y = np.append(x1, x2, axis=0), np.append(y1, y2, axis=0)\n",
    "\n",
    "    x_train, x_test, y_train, y_test = train_test_split(x, y, test_size = 0.2, random_state = rand)\n",
    "    \n",
    "    return x_train, x_test, y_train, y_test"
   ]
  },
  {
   "cell_type": "code",
   "execution_count": 22,
   "id": "272f6013",
   "metadata": {},
   "outputs": [],
   "source": [
    "# Single Point on Sphere\n",
    "\n",
    "n = 40000\n",
    "rand_n = 12345\n",
    "theta, phi = 3, 3\n",
    "thetas, phis = theta * np.ones(n), phi * np.ones(n)\n",
    "x_train, x_test, y_train, y_test = spherical_data(n, thetas, phis, rand_n)\n",
    "\n",
    "model = tf.keras.models.load_model('3dmodels/discrete_model_mth40_mph40')\n",
    "# model = tf.keras.models.load_model('3dmodels/discrete_model_mth50_mph50')\n",
    "# model = tf.keras.models.load_model('3dmodels/discrete_model_th3_ph3')"
   ]
  },
  {
   "cell_type": "code",
   "execution_count": 23,
   "id": "3a01fe50",
   "metadata": {},
   "outputs": [
    {
     "name": "stdout",
     "output_type": "stream",
     "text": [
      "Model: \"model_17\"\n",
      "__________________________________________________________________________________________________\n",
      "Layer (type)                    Output Shape         Param #     Connected to                     \n",
      "==================================================================================================\n",
      "input_19 (InputLayer)           [(None, 2)]          0                                            \n",
      "__________________________________________________________________________________________________\n",
      "tf.ones_like_8 (TFOpLambda)     (None, 2)            0           input_19[0][0]                   \n",
      "__________________________________________________________________________________________________\n",
      "tf.__operators__.getitem_8 (Sli (None, 1)            0           tf.ones_like_8[0][0]             \n",
      "__________________________________________________________________________________________________\n",
      "model_16 (Functional)           (None, 2)            2           tf.__operators__.getitem_8[0][0] \n",
      "__________________________________________________________________________________________________\n",
      "concatenate_8 (Concatenate)     (None, 4)            0           input_19[0][0]                   \n",
      "                                                                 model_16[0][0]                   \n",
      "__________________________________________________________________________________________________\n",
      "sequential_1 (Sequential)       (None, 1)            17281       concatenate_8[0][0]              \n",
      "==================================================================================================\n",
      "Total params: 17,283\n",
      "Trainable params: 2\n",
      "Non-trainable params: 17,281\n",
      "__________________________________________________________________________________________________\n",
      "[<tf.Variable 'dense_8/kernel:0' shape=(1, 2) dtype=float32, numpy=array([[1., 1.]], dtype=float32)>]\n"
     ]
    }
   ],
   "source": [
    "for l in model.layers:\n",
    "    l.trainable=False\n",
    "\n",
    "inputs_hold = tf.keras.Input(shape=(1,))\n",
    "initial_weights = np.ones(2)\n",
    "# print(initial_weights)\n",
    "simple_model = Dense(2, use_bias = False, kernel_initializer='ones')(inputs_hold)\n",
    "model3 = Model(inputs = inputs_hold, outputs = simple_model)\n",
    "\n",
    "inputs = tf.keras.Input(shape=(2,))\n",
    "inputs2 = tf.keras.layers.concatenate([inputs, model3(tf.ones_like(inputs)[:,0:1])])\n",
    "hidden_layer_1 = model(inputs2)\n",
    "\n",
    "model2 = Model(inputs = inputs, outputs = hidden_layer_1)\n",
    "loss_fn = tf.keras.losses.BinaryCrossentropy()\n",
    "model2.compile(loss=loss_fn, optimizer='Adam', )\n",
    "# initialize model 2 weights to be the right answer (or near it, test how sensitive)\n",
    "\n",
    "model2.summary()\n",
    "print(model2.trainable_weights)"
   ]
  },
  {
   "cell_type": "code",
   "execution_count": 10,
   "id": "2115cbbe",
   "metadata": {},
   "outputs": [
    {
     "name": "stdout",
     "output_type": "stream",
     "text": [
      "[ 2.30720843  0.56657354 -0.40150571  0.10170269]\n"
     ]
    },
    {
     "data": {
      "text/plain": [
       "<tf.Tensor: shape=(64000, 1), dtype=float32, numpy=\n",
       "array([[0.68019617],\n",
       "       [0.7122215 ],\n",
       "       [0.24588454],\n",
       "       ...,\n",
       "       [0.5171339 ],\n",
       "       [0.5230466 ],\n",
       "       [0.4332203 ]], dtype=float32)>"
      ]
     },
     "execution_count": 10,
     "metadata": {},
     "output_type": "execute_result"
    }
   ],
   "source": [
    "x_train_test = np.copy(x_train)\n",
    "x_train_test[:, 2] = model2.trainable_weights[:][0][0][0] * (x_train[:, 2] - 2)\n",
    "x_train_test[:, 3] = model2.trainable_weights[:][0][0][1] * (x_train[:, 3] - 2)\n",
    "print(x_train_test[0])\n",
    "model(x_train_test)"
   ]
  },
  {
   "cell_type": "code",
   "execution_count": 11,
   "id": "f5769ff7",
   "metadata": {},
   "outputs": [
    {
     "data": {
      "text/plain": [
       "<tf.Tensor: shape=(64000, 1), dtype=float32, numpy=\n",
       "array([[0.68019617],\n",
       "       [0.7122215 ],\n",
       "       [0.24588454],\n",
       "       ...,\n",
       "       [0.5171339 ],\n",
       "       [0.5230466 ],\n",
       "       [0.4332203 ]], dtype=float32)>"
      ]
     },
     "execution_count": 11,
     "metadata": {},
     "output_type": "execute_result"
    }
   ],
   "source": [
    "coordinates = x_train[:, 0:2]\n",
    "model2(coordinates)"
   ]
  },
  {
   "cell_type": "code",
   "execution_count": null,
   "id": "e99ea578",
   "metadata": {},
   "outputs": [],
   "source": [
    "x_train_mod = x_train\n",
    "x_train_mod[:,2] = x_train[:, 2] - 1"
   ]
  },
  {
   "cell_type": "code",
   "execution_count": null,
   "id": "dd3d2a01",
   "metadata": {},
   "outputs": [],
   "source": [
    "names = []\n",
    "names.append('discrete_model_th5_ph5')\n",
    "names.append('discrete_model_th5_ph3')\n",
    "names.append('discrete_model_th4_ph3')\n",
    "names.append('discrete_model_th3_ph3')\n",
    "names.append('discrete_model_th2_ph3')\n",
    "names.append('discrete_model_th0_ph0')\n",
    "names.append('discrete_model_mth15_mph15')\n",
    "\n",
    "l = len(names)\n",
    "\n",
    "models = []\n",
    "predictions = []\n",
    "for i in range(l):\n",
    "    models.append(tf.keras.models.load_model('3dmodels/' + names[i]))\n",
    "    xr = models[i](x_train).numpy().transpose()[0]\n",
    "    loss = np.sum(-y_train * np.log(xr) - (1-y_train) * np.log(1-xr)) / xr.shape[0]\n",
    "    print(names[i], 'has loss', loss)\n",
    "    \n",
    "models = []\n",
    "predictions = []\n",
    "for i in range(l):\n",
    "    models.append(tf.keras.models.load_model('3dmodels/' + names[i]))\n",
    "    xr = models[i](x_train_mod).numpy().transpose()[0]\n",
    "    loss = np.sum(-y_train * np.log(xr) - (1-y_train) * np.log(1-xr)) / xr.shape[0]\n",
    "    print(names[i], 'has loss', loss)"
   ]
  },
  {
   "cell_type": "code",
   "execution_count": 24,
   "id": "05c5dbb2",
   "metadata": {
    "scrolled": true
   },
   "outputs": [
    {
     "name": "stderr",
     "output_type": "stream",
     "text": [
      "2022-08-04 15:52:43.951891: I tensorflow/compiler/mlir/mlir_graph_optimization_pass.cc:185] None of the MLIR Optimization Passes are enabled (registered 2)\n"
     ]
    },
    {
     "name": "stdout",
     "output_type": "stream",
     "text": [
      "640/640 [==============================] - 1s 1ms/step - loss: 0.6154\n",
      "0 Fitted result:  tf.Tensor([1.2029709 1.1530863], shape=(2,), dtype=float32)\n",
      "0.6145171917242805\n",
      "640/640 [==============================] - 1s 1ms/step - loss: 0.6132\n",
      "1 Fitted result:  tf.Tensor([1.4353176 1.3112272], shape=(2,), dtype=float32)\n",
      "0.6123756936520877\n",
      "640/640 [==============================] - 1s 1ms/step - loss: 0.6018\n",
      "2 Fitted result:  tf.Tensor([2.0474813 1.8135022], shape=(2,), dtype=float32)\n",
      "0.5899060772367811\n",
      "640/640 [==============================] - 1s 1ms/step - loss: 0.5777\n",
      "3 Fitted result:  tf.Tensor([2.467166  2.1715817], shape=(2,), dtype=float32)\n",
      "0.5744509919513366\n",
      "640/640 [==============================] - 1s 1ms/step - loss: 0.5714\n",
      "4 Fitted result:  tf.Tensor([2.6719747 2.3312004], shape=(2,), dtype=float32)\n",
      "0.5711414382884287\n",
      "640/640 [==============================] - 1s 1ms/step - loss: 0.5696\n",
      "5 Fitted result:  tf.Tensor([2.7601273 2.4227586], shape=(2,), dtype=float32)\n",
      "0.5703333923102583\n",
      "640/640 [==============================] - 1s 1ms/step - loss: 0.5691\n",
      "6 Fitted result:  tf.Tensor([2.8336306 2.4578981], shape=(2,), dtype=float32)\n",
      "0.5699198503983934\n",
      "640/640 [==============================] - 1s 1ms/step - loss: 0.5695\n",
      "7 Fitted result:  tf.Tensor([2.8632102 2.492379 ], shape=(2,), dtype=float32)\n",
      "0.56983612336453\n",
      "640/640 [==============================] - 1s 1ms/step - loss: 0.5693\n",
      "8 Fitted result:  tf.Tensor([2.880034  2.5025353], shape=(2,), dtype=float32)\n",
      "0.5697974656446204\n",
      "640/640 [==============================] - 1s 2ms/step - loss: 0.5689\n",
      "9 Fitted result:  tf.Tensor([2.9012902 2.508282 ], shape=(2,), dtype=float32)\n",
      "0.5697633598482862\n",
      "640/640 [==============================] - 1s 2ms/step - loss: 0.5686\n",
      "10 Fitted result:  tf.Tensor([2.9120035 2.5132382], shape=(2,), dtype=float32)\n",
      "0.5697588120789733\n",
      "640/640 [==============================] - 1s 1ms/step - loss: 0.5691\n",
      "11 Fitted result:  tf.Tensor([2.917348  2.5159554], shape=(2,), dtype=float32)\n",
      "0.5697590924938777\n",
      "640/640 [==============================] - 1s 1ms/step - loss: 0.5689\n",
      "12 Fitted result:  tf.Tensor([2.9137192 2.5307722], shape=(2,), dtype=float32)\n",
      "0.5697694359921516\n",
      "640/640 [==============================] - 1s 1ms/step - loss: 0.5690\n",
      "13 Fitted result:  tf.Tensor([2.9090579 2.533711 ], shape=(2,), dtype=float32)\n",
      "0.5697882277353128\n",
      "640/640 [==============================] - 1s 1ms/step - loss: 0.5694\n",
      "14 Fitted result:  tf.Tensor([2.9237518 2.5176566], shape=(2,), dtype=float32)\n",
      "0.5697632484601418\n",
      "640/640 [==============================] - 1s 1ms/step - loss: 0.5690\n",
      "15 Fitted result:  tf.Tensor([2.9072702 2.5352523], shape=(2,), dtype=float32)\n",
      "0.5697987114344287\n",
      "640/640 [==============================] - 1s 1ms/step - loss: 0.5691\n",
      "16 Fitted result:  tf.Tensor([2.9142816 2.5339563], shape=(2,), dtype=float32)\n",
      "0.5697757991855251\n",
      "640/640 [==============================] - 1s 1ms/step - loss: 0.5688\n",
      "17 Fitted result:  tf.Tensor([2.919247  2.5343428], shape=(2,), dtype=float32)\n",
      "0.5697673953674712\n",
      "640/640 [==============================] - 1s 1ms/step - loss: 0.5691\n",
      "18 Fitted result:  tf.Tensor([2.9078865 2.5407004], shape=(2,), dtype=float32)\n",
      "0.5698184222635573\n",
      "640/640 [==============================] - 1s 1ms/step - loss: 0.5691\n",
      "19 Fitted result:  tf.Tensor([2.9062042 2.536965 ], shape=(2,), dtype=float32)\n",
      "0.5698089149435945\n"
     ]
    }
   ],
   "source": [
    "coordinates = x_train[:, 0:2]\n",
    "# real_model = tf.keras.models.load_model('3dmodels/discrete_model_th3_ph3')\n",
    "# x_r = real_model(x_train).numpy().transpose()[0]\n",
    "\n",
    "for i in range(20):\n",
    "    model2.fit(coordinates, y_train, epochs=1,batch_size=100)\n",
    "    print(i,\"Fitted result: \", model2.trainable_weights[:][0][0])\n",
    "    x = model2(coordinates).numpy().transpose()[0]\n",
    "    print(np.sum(-y_train * np.log(x) - (1-y_train) * np.log(1-x)) / x.shape[0])\n",
    "    "
   ]
  },
  {
   "cell_type": "code",
   "execution_count": 25,
   "id": "31a4e3b3",
   "metadata": {},
   "outputs": [
    {
     "name": "stdout",
     "output_type": "stream",
     "text": [
      "0.5836747215555588\n"
     ]
    }
   ],
   "source": [
    "xr = model(x_train).numpy().transpose()[0]\n",
    "y = model(x_train)\n",
    "loss = np.sum(-y_train * np.log(xr) - (1-y_train) * np.log(1-xr)) / xr.shape[0]\n",
    "print(loss)"
   ]
  },
  {
   "cell_type": "code",
   "execution_count": 38,
   "id": "409e840f",
   "metadata": {},
   "outputs": [
    {
     "name": "stdout",
     "output_type": "stream",
     "text": [
      "0.5698490457373045\n"
     ]
    }
   ],
   "source": [
    "x_train_mod = np.copy(x_train)\n",
    "x_train_mod[:, 2] = x_train[:, 2] - .1\n",
    "x_train_mod[:, 3] = x_train[:, 3] - .46\n",
    "xr_mod = model(x_train_mod).numpy().transpose()[0]\n",
    "y_mod = model(x_train_mod)\n",
    "loss_mod = np.sum(-y_train * np.log(xr_mod) - (1-y_train) * np.log(1-xr_mod)) / xr_mod.shape[0]\n",
    "print(loss_mod)"
   ]
  },
  {
   "cell_type": "code",
   "execution_count": null,
   "id": "99eb153f",
   "metadata": {},
   "outputs": [],
   "source": []
  }
 ],
 "metadata": {
  "kernelspec": {
   "display_name": "Python 3 (ipykernel)",
   "language": "python",
   "name": "python3"
  },
  "language_info": {
   "codemirror_mode": {
    "name": "ipython",
    "version": 3
   },
   "file_extension": ".py",
   "mimetype": "text/x-python",
   "name": "python",
   "nbconvert_exporter": "python",
   "pygments_lexer": "ipython3",
   "version": "3.9.13"
  }
 },
 "nbformat": 4,
 "nbformat_minor": 5
}
