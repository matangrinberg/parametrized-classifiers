{
 "cells": [
  {
   "cell_type": "code",
   "execution_count": 1,
   "id": "126a0c68",
   "metadata": {},
   "outputs": [
    {
     "name": "stderr",
     "output_type": "stream",
     "text": [
      "2022-07-11 21:31:43.667145: W tensorflow/stream_executor/platform/default/dso_loader.cc:64] Could not load dynamic library 'libcudart.so.11.0'; dlerror: libcudart.so.11.0: cannot open shared object file: No such file or directory\n",
      "2022-07-11 21:31:43.667178: I tensorflow/stream_executor/cuda/cudart_stub.cc:29] Ignore above cudart dlerror if you do not have a GPU set up on your machine.\n"
     ]
    }
   ],
   "source": [
    "import numpy as np\n",
    "import datetime\n",
    "import os\n",
    "import sklearn.metrics\n",
    "import matplotlib.pyplot as plt\n",
    "from sklearn.model_selection import train_test_split\n",
    "import tensorflow as tf\n",
    "from scipy.stats import chi\n",
    "from scipy import stats\n",
    "from tensorflow.keras.layers import Input, Dense\n",
    "from tensorflow.keras.models import Model, Sequential"
   ]
  },
  {
   "cell_type": "code",
   "execution_count": 2,
   "id": "41cd7559",
   "metadata": {},
   "outputs": [],
   "source": [
    "############\n",
    "# Functions\n",
    "############\n",
    "\n",
    "# Our 3d parameter space is the surface of a sphere centered at (1, 1, 1), with radius 1/sqrt(2)\n",
    "# x, y coordinates are the x and y variances of our 2d Gaussian\n",
    "# z coordinate determines the x-coordinate of the mean, mu = (z, 0)\n",
    "\n",
    "def mean_gen(theta, phi):\n",
    "    mu = 0.5 + (np.sqrt(2)/2) * np.cos(phi + np.pi / 4)\n",
    "    return mu\n",
    "\n",
    "\n",
    "def varx_gen(theta, phi):\n",
    "    vx = 1.5 - (np.sqrt(2)/2) * np.cos(theta + np.pi / 4) * np.sin(phi + np.pi / 2)\n",
    "    return vx\n",
    "\n",
    "\n",
    "def vary_gen(theta, phi):\n",
    "    vy = 1.5 - (np.sqrt(2)/2) * np.sin(theta + np.pi / 4) * np.sin(phi + np.pi / 2)\n",
    "    return vy\n",
    "\n",
    "\n",
    "# Generate n data\n",
    "def spherical_data(n, thetas, phis, rand=1234):\n",
    "    \n",
    "    mx1, my1 = np.zeros(n), np.zeros(n)\n",
    "    vx1, vy1 = np.ones(n), np.ones(n)\n",
    "    \n",
    "    mx2, my2 = mean_gen(thetas, phis), np.zeros(n)\n",
    "    vx2, vy2 = varx_gen(thetas, phis), vary_gen(thetas, phis)\n",
    "    \n",
    "    x1, y1 = np.transpose(np.array([np.random.normal(mx1, vx1, size=n), \n",
    "                                    np.random.normal(my1, vy1, size=n), thetas, phis])), np.zeros(n)\n",
    "    x2, y2 = np.transpose(np.array([np.random.normal(mx2, vx2, size=n), \n",
    "                                    np.random.normal(my2, vy2, size=n), thetas, phis])), np.ones(n)\n",
    "    \n",
    "    x, y = np.append(x1, x2, axis=0), np.append(y1, y2, axis=0)\n",
    "\n",
    "    x_train, x_test, y_train, y_test = train_test_split(x, y, test_size = 0.2, random_state = rand)\n",
    "    \n",
    "    return x_train, x_test, y_train, y_test"
   ]
  },
  {
   "cell_type": "code",
   "execution_count": 40,
   "id": "272f6013",
   "metadata": {},
   "outputs": [],
   "source": [
    "# Single Point on Sphere\n",
    "\n",
    "n = 40000\n",
    "rand_n = 12345\n",
    "theta, phi = 0, 0\n",
    "thetas, phis = theta * np.ones(n), phi * np.ones(n)\n",
    "x_train, x_test, y_train, y_test = spherical_data(n, thetas, phis, rand_n)\n",
    "\n",
    "model = tf.keras.models.load_model('3dmodels/discrete_model_mth15_mph15')"
   ]
  },
  {
   "cell_type": "code",
   "execution_count": 33,
   "id": "3a01fe50",
   "metadata": {},
   "outputs": [
    {
     "name": "stdout",
     "output_type": "stream",
     "text": [
      "Model: \"model_19\"\n",
      "__________________________________________________________________________________________________\n",
      "Layer (type)                    Output Shape         Param #     Connected to                     \n",
      "==================================================================================================\n",
      "input_25 (InputLayer)           [(None, 2)]          0                                            \n",
      "__________________________________________________________________________________________________\n",
      "tf.ones_like_5 (TFOpLambda)     (None, 2)            0           input_25[0][0]                   \n",
      "__________________________________________________________________________________________________\n",
      "tf.__operators__.getitem_9 (Sli (None, 1)            0           tf.ones_like_5[0][0]             \n",
      "__________________________________________________________________________________________________\n",
      "model_18 (Functional)           (None, 2)            2           tf.__operators__.getitem_9[0][0] \n",
      "__________________________________________________________________________________________________\n",
      "concatenate_9 (Concatenate)     (None, 4)            0           input_25[0][0]                   \n",
      "                                                                 model_18[0][0]                   \n",
      "__________________________________________________________________________________________________\n",
      "sequential_1 (Sequential)       (None, 1)            17281       concatenate_9[0][0]              \n",
      "==================================================================================================\n",
      "Total params: 17,283\n",
      "Trainable params: 2\n",
      "Non-trainable params: 17,281\n",
      "__________________________________________________________________________________________________\n"
     ]
    }
   ],
   "source": [
    "for l in model.layers:\n",
    "    l.trainable=False\n",
    "\n",
    "inputs_hold = tf.keras.Input(shape=(1,))\n",
    "simple_model = Dense(2, use_bias = False)(inputs_hold)\n",
    "model3 = Model(inputs = inputs_hold, outputs = simple_model)\n",
    "\n",
    "inputs = tf.keras.Input(shape=(2,))\n",
    "inputs2 = tf.keras.layers.concatenate([inputs, model3(tf.ones_like(inputs)[:,0:1])])\n",
    "hidden_layer_1 = model(inputs2)\n",
    "model2 = Model(inputs = inputs, outputs = hidden_layer_1)\n",
    "model2.compile(loss='categorical_crossentropy', optimizer='Adam', )\n",
    "\n",
    "model2.summary()"
   ]
  },
  {
   "cell_type": "code",
   "execution_count": null,
   "id": "69f9adf8",
   "metadata": {},
   "outputs": [],
   "source": []
  },
  {
   "cell_type": "code",
   "execution_count": 34,
   "id": "9698dbcb",
   "metadata": {},
   "outputs": [],
   "source": [
    "X_train = x_train[:, 0:2]"
   ]
  },
  {
   "cell_type": "code",
   "execution_count": 35,
   "id": "05c5dbb2",
   "metadata": {
    "scrolled": true
   },
   "outputs": [
    {
     "name": "stdout",
     "output_type": "stream",
     "text": [
      "640/640 [==============================] - 1s 1ms/step - loss: 0.0000e+00\n",
      "0 Fitted result:  [<tf.Variable 'dense_10/kernel:0' shape=(1, 2) dtype=float32, numpy=array([[ 1.6515626 , -0.43100438]], dtype=float32)>]\n",
      "640/640 [==============================] - 1s 1ms/step - loss: 0.0000e+00\n",
      "1 Fitted result:  [<tf.Variable 'dense_10/kernel:0' shape=(1, 2) dtype=float32, numpy=array([[2.2689826 , 0.16530964]], dtype=float32)>]\n",
      "640/640 [==============================] - 1s 1ms/step - loss: 0.0000e+00\n",
      "2 Fitted result:  [<tf.Variable 'dense_10/kernel:0' shape=(1, 2) dtype=float32, numpy=array([[2.8776183, 0.7270991]], dtype=float32)>]\n",
      "640/640 [==============================] - 1s 1ms/step - loss: 0.0000e+00\n",
      "3 Fitted result:  [<tf.Variable 'dense_10/kernel:0' shape=(1, 2) dtype=float32, numpy=array([[3.4787338, 1.2438308]], dtype=float32)>]\n",
      "640/640 [==============================] - 1s 1ms/step - loss: 0.0000e+00\n",
      "4 Fitted result:  [<tf.Variable 'dense_10/kernel:0' shape=(1, 2) dtype=float32, numpy=array([[4.068349 , 1.7245636]], dtype=float32)>]\n",
      "640/640 [==============================] - 1s 1ms/step - loss: 0.0000e+00\n",
      "5 Fitted result:  [<tf.Variable 'dense_10/kernel:0' shape=(1, 2) dtype=float32, numpy=array([[4.656504 , 2.1749964]], dtype=float32)>]\n",
      "640/640 [==============================] - 1s 1ms/step - loss: 0.0000e+00\n",
      "6 Fitted result:  [<tf.Variable 'dense_10/kernel:0' shape=(1, 2) dtype=float32, numpy=array([[5.2442737, 2.6041465]], dtype=float32)>]\n",
      "640/640 [==============================] - 1s 1ms/step - loss: 0.0000e+00\n",
      "7 Fitted result:  [<tf.Variable 'dense_10/kernel:0' shape=(1, 2) dtype=float32, numpy=array([[5.838825 , 3.0153697]], dtype=float32)>]\n",
      "640/640 [==============================] - 1s 1ms/step - loss: 0.0000e+00\n",
      "8 Fitted result:  [<tf.Variable 'dense_10/kernel:0' shape=(1, 2) dtype=float32, numpy=array([[6.4392915, 3.4152954]], dtype=float32)>]\n",
      "640/640 [==============================] - 1s 1ms/step - loss: 0.0000e+00\n",
      "9 Fitted result:  [<tf.Variable 'dense_10/kernel:0' shape=(1, 2) dtype=float32, numpy=array([[7.048734 , 3.8096414]], dtype=float32)>]\n",
      "640/640 [==============================] - 1s 1ms/step - loss: 0.0000e+00\n",
      "10 Fitted result:  [<tf.Variable 'dense_10/kernel:0' shape=(1, 2) dtype=float32, numpy=array([[7.6661005, 4.199601 ]], dtype=float32)>]\n",
      "640/640 [==============================] - 1s 1ms/step - loss: 0.0000e+00\n",
      "11 Fitted result:  [<tf.Variable 'dense_10/kernel:0' shape=(1, 2) dtype=float32, numpy=array([[8.289272 , 4.5905724]], dtype=float32)>]\n",
      "640/640 [==============================] - 1s 1ms/step - loss: 0.0000e+00\n",
      "12 Fitted result:  [<tf.Variable 'dense_10/kernel:0' shape=(1, 2) dtype=float32, numpy=array([[8.916832 , 4.9840407]], dtype=float32)>]\n",
      "640/640 [==============================] - 1s 1ms/step - loss: 0.0000e+00\n",
      "13 Fitted result:  [<tf.Variable 'dense_10/kernel:0' shape=(1, 2) dtype=float32, numpy=array([[9.54698  , 5.3752036]], dtype=float32)>]\n",
      "640/640 [==============================] - 1s 1ms/step - loss: 0.0000e+00\n",
      "14 Fitted result:  [<tf.Variable 'dense_10/kernel:0' shape=(1, 2) dtype=float32, numpy=array([[10.178262,  5.771197]], dtype=float32)>]\n",
      "640/640 [==============================] - 1s 1ms/step - loss: 0.0000e+00\n",
      "15 Fitted result:  [<tf.Variable 'dense_10/kernel:0' shape=(1, 2) dtype=float32, numpy=array([[10.813116,  6.162025]], dtype=float32)>]\n",
      "640/640 [==============================] - 1s 1ms/step - loss: 0.0000e+00\n",
      "16 Fitted result:  [<tf.Variable 'dense_10/kernel:0' shape=(1, 2) dtype=float32, numpy=array([[11.447098,  6.562772]], dtype=float32)>]\n",
      "640/640 [==============================] - 1s 1ms/step - loss: 0.0000e+00\n",
      "17 Fitted result:  [<tf.Variable 'dense_10/kernel:0' shape=(1, 2) dtype=float32, numpy=array([[12.083364,  6.957759]], dtype=float32)>]\n",
      "640/640 [==============================] - 1s 1ms/step - loss: 0.0000e+00\n",
      "18 Fitted result:  [<tf.Variable 'dense_10/kernel:0' shape=(1, 2) dtype=float32, numpy=array([[12.718257 ,  7.3601255]], dtype=float32)>]\n",
      "640/640 [==============================] - 1s 1ms/step - loss: 0.0000e+00\n",
      "19 Fitted result:  [<tf.Variable 'dense_10/kernel:0' shape=(1, 2) dtype=float32, numpy=array([[13.353322,  7.759921]], dtype=float32)>]\n",
      "640/640 [==============================] - 1s 1ms/step - loss: 0.0000e+00\n",
      "20 Fitted result:  [<tf.Variable 'dense_10/kernel:0' shape=(1, 2) dtype=float32, numpy=array([[13.989153,  8.152442]], dtype=float32)>]\n",
      "640/640 [==============================] - 1s 1ms/step - loss: 0.0000e+00\n",
      "21 Fitted result:  [<tf.Variable 'dense_10/kernel:0' shape=(1, 2) dtype=float32, numpy=array([[14.624996,  8.537566]], dtype=float32)>]\n",
      "640/640 [==============================] - 1s 1ms/step - loss: 0.0000e+00\n",
      "22 Fitted result:  [<tf.Variable 'dense_10/kernel:0' shape=(1, 2) dtype=float32, numpy=array([[15.25986 ,  8.935652]], dtype=float32)>]\n",
      "640/640 [==============================] - 1s 1ms/step - loss: 0.0000e+00\n",
      "23 Fitted result:  [<tf.Variable 'dense_10/kernel:0' shape=(1, 2) dtype=float32, numpy=array([[15.895561,  9.317782]], dtype=float32)>]\n",
      "640/640 [==============================] - 1s 1ms/step - loss: 0.0000e+00\n",
      "24 Fitted result:  [<tf.Variable 'dense_10/kernel:0' shape=(1, 2) dtype=float32, numpy=array([[16.530186,  9.710436]], dtype=float32)>]\n",
      "640/640 [==============================] - 1s 1ms/step - loss: 0.0000e+00\n",
      "25 Fitted result:  [<tf.Variable 'dense_10/kernel:0' shape=(1, 2) dtype=float32, numpy=array([[17.165028, 10.101081]], dtype=float32)>]\n",
      "640/640 [==============================] - 1s 1ms/step - loss: 0.0000e+00\n",
      "26 Fitted result:  [<tf.Variable 'dense_10/kernel:0' shape=(1, 2) dtype=float32, numpy=array([[17.799545, 10.488426]], dtype=float32)>]\n",
      "640/640 [==============================] - 1s 1ms/step - loss: 0.0000e+00\n",
      "27 Fitted result:  [<tf.Variable 'dense_10/kernel:0' shape=(1, 2) dtype=float32, numpy=array([[18.43358, 10.87944]], dtype=float32)>]\n",
      "640/640 [==============================] - 1s 1ms/step - loss: 0.0000e+00\n",
      "28 Fitted result:  [<tf.Variable 'dense_10/kernel:0' shape=(1, 2) dtype=float32, numpy=array([[19.067917, 11.260583]], dtype=float32)>]\n",
      "640/640 [==============================] - 1s 1ms/step - loss: 0.0000e+00\n",
      "29 Fitted result:  [<tf.Variable 'dense_10/kernel:0' shape=(1, 2) dtype=float32, numpy=array([[19.703184, 11.635575]], dtype=float32)>]\n",
      "640/640 [==============================] - 1s 1ms/step - loss: 0.0000e+00\n",
      "30 Fitted result:  [<tf.Variable 'dense_10/kernel:0' shape=(1, 2) dtype=float32, numpy=array([[20.337902, 12.022327]], dtype=float32)>]\n",
      "640/640 [==============================] - 1s 1ms/step - loss: 0.0000e+00\n",
      "31 Fitted result:  [<tf.Variable 'dense_10/kernel:0' shape=(1, 2) dtype=float32, numpy=array([[20.972067, 12.406039]], dtype=float32)>]\n",
      "640/640 [==============================] - 1s 1ms/step - loss: 0.0000e+00\n",
      "32 Fitted result:  [<tf.Variable 'dense_10/kernel:0' shape=(1, 2) dtype=float32, numpy=array([[21.607391, 12.773109]], dtype=float32)>]\n",
      "640/640 [==============================] - 1s 1ms/step - loss: 0.0000e+00\n",
      "33 Fitted result:  [<tf.Variable 'dense_10/kernel:0' shape=(1, 2) dtype=float32, numpy=array([[22.241764, 13.160296]], dtype=float32)>]\n",
      "640/640 [==============================] - 1s 1ms/step - loss: 0.0000e+00\n",
      "34 Fitted result:  [<tf.Variable 'dense_10/kernel:0' shape=(1, 2) dtype=float32, numpy=array([[22.87649 , 13.546139]], dtype=float32)>]\n",
      "640/640 [==============================] - 1s 1ms/step - loss: 0.0000e+00\n",
      "35 Fitted result:  [<tf.Variable 'dense_10/kernel:0' shape=(1, 2) dtype=float32, numpy=array([[23.511854, 13.903912]], dtype=float32)>]\n",
      "640/640 [==============================] - 1s 1ms/step - loss: 0.0000e+00\n",
      "36 Fitted result:  [<tf.Variable 'dense_10/kernel:0' shape=(1, 2) dtype=float32, numpy=array([[24.14657 , 14.293307]], dtype=float32)>]\n",
      "640/640 [==============================] - 1s 1ms/step - loss: 0.0000e+00\n",
      "37 Fitted result:  [<tf.Variable 'dense_10/kernel:0' shape=(1, 2) dtype=float32, numpy=array([[24.78249 , 14.674848]], dtype=float32)>]\n",
      "640/640 [==============================] - 1s 1ms/step - loss: 0.0000e+00\n",
      "38 Fitted result:  [<tf.Variable 'dense_10/kernel:0' shape=(1, 2) dtype=float32, numpy=array([[25.417927, 15.042113]], dtype=float32)>]\n"
     ]
    },
    {
     "name": "stdout",
     "output_type": "stream",
     "text": [
      "640/640 [==============================] - 1s 1ms/step - loss: 0.0000e+00\n",
      "39 Fitted result:  [<tf.Variable 'dense_10/kernel:0' shape=(1, 2) dtype=float32, numpy=array([[26.05199 , 15.443514]], dtype=float32)>]\n",
      "640/640 [==============================] - 1s 1ms/step - loss: 0.0000e+00\n",
      "40 Fitted result:  [<tf.Variable 'dense_10/kernel:0' shape=(1, 2) dtype=float32, numpy=array([[26.687115, 15.819198]], dtype=float32)>]\n",
      "640/640 [==============================] - 1s 1ms/step - loss: 0.0000e+00\n",
      "41 Fitted result:  [<tf.Variable 'dense_10/kernel:0' shape=(1, 2) dtype=float32, numpy=array([[27.322239, 16.181808]], dtype=float32)>]\n",
      "640/640 [==============================] - 1s 1ms/step - loss: 0.0000e+00\n",
      "42 Fitted result:  [<tf.Variable 'dense_10/kernel:0' shape=(1, 2) dtype=float32, numpy=array([[27.958647, 16.540522]], dtype=float32)>]\n",
      "640/640 [==============================] - 1s 1ms/step - loss: 0.0000e+00\n",
      "43 Fitted result:  [<tf.Variable 'dense_10/kernel:0' shape=(1, 2) dtype=float32, numpy=array([[28.594442, 16.941427]], dtype=float32)>]\n",
      "640/640 [==============================] - 1s 1ms/step - loss: 0.0000e+00\n",
      "44 Fitted result:  [<tf.Variable 'dense_10/kernel:0' shape=(1, 2) dtype=float32, numpy=array([[29.230364, 17.321056]], dtype=float32)>]\n",
      "640/640 [==============================] - 1s 1ms/step - loss: 0.0000e+00\n",
      "45 Fitted result:  [<tf.Variable 'dense_10/kernel:0' shape=(1, 2) dtype=float32, numpy=array([[29.866709, 17.70219 ]], dtype=float32)>]\n",
      "640/640 [==============================] - 1s 1ms/step - loss: 0.0000e+00\n",
      "46 Fitted result:  [<tf.Variable 'dense_10/kernel:0' shape=(1, 2) dtype=float32, numpy=array([[30.502928, 18.059935]], dtype=float32)>]\n",
      "640/640 [==============================] - 1s 1ms/step - loss: 0.0000e+00\n",
      "47 Fitted result:  [<tf.Variable 'dense_10/kernel:0' shape=(1, 2) dtype=float32, numpy=array([[31.138157, 18.428492]], dtype=float32)>]\n",
      "640/640 [==============================] - 1s 1ms/step - loss: 0.0000e+00\n",
      "48 Fitted result:  [<tf.Variable 'dense_10/kernel:0' shape=(1, 2) dtype=float32, numpy=array([[31.774923, 18.8059  ]], dtype=float32)>]\n",
      "640/640 [==============================] - 1s 1ms/step - loss: 0.0000e+00\n",
      "49 Fitted result:  [<tf.Variable 'dense_10/kernel:0' shape=(1, 2) dtype=float32, numpy=array([[32.410835, 19.19404 ]], dtype=float32)>]\n"
     ]
    }
   ],
   "source": [
    "for i in range(50):\n",
    "    #better to make a custom callback\n",
    "    model2.fit(X_train, y_train, epochs=1,batch_size=100)\n",
    "    print(i,\"Fitted result: \",model2.trainable_weights[:])"
   ]
  },
  {
   "cell_type": "code",
   "execution_count": null,
   "id": "8d7f4e2c",
   "metadata": {},
   "outputs": [],
   "source": []
  }
 ],
 "metadata": {
  "kernelspec": {
   "display_name": "Python 3 (ipykernel)",
   "language": "python",
   "name": "python3"
  },
  "language_info": {
   "codemirror_mode": {
    "name": "ipython",
    "version": 3
   },
   "file_extension": ".py",
   "mimetype": "text/x-python",
   "name": "python",
   "nbconvert_exporter": "python",
   "pygments_lexer": "ipython3",
   "version": "3.9.13"
  }
 },
 "nbformat": 4,
 "nbformat_minor": 5
}
