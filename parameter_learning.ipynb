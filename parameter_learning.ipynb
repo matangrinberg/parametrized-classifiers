{
 "cells": [
  {
   "cell_type": "code",
   "execution_count": 1,
   "id": "41cd7559",
   "metadata": {},
   "outputs": [
    {
     "name": "stderr",
     "output_type": "stream",
     "text": [
      "2022-08-08 13:50:34.083908: W tensorflow/stream_executor/platform/default/dso_loader.cc:64] Could not load dynamic library 'libcudart.so.11.0'; dlerror: libcudart.so.11.0: cannot open shared object file: No such file or directory\n",
      "2022-08-08 13:50:34.083955: I tensorflow/stream_executor/cuda/cudart_stub.cc:29] Ignore above cudart dlerror if you do not have a GPU set up on your machine.\n"
     ]
    }
   ],
   "source": [
    "import numpy as np\n",
    "import datetime\n",
    "import os\n",
    "import sklearn.metrics\n",
    "import matplotlib.pyplot as plt\n",
    "from sklearn.model_selection import train_test_split\n",
    "import tensorflow as tf\n",
    "from scipy.stats import chi\n",
    "from scipy import stats\n",
    "from tensorflow.keras.layers import Input, Dense\n",
    "from tensorflow.keras.models import Model, Sequential\n",
    "\n",
    "############\n",
    "# Functions\n",
    "############\n",
    "\n",
    "# Our 3d parameter space is the surface of a sphere centered at (1, 1, 1), with radius 1/sqrt(2)\n",
    "# x, y coordinates are the x and y variances of our 2d Gaussian\n",
    "# z coordinate determines the x-coordinate of the mean, mu = (z, 0)\n",
    "\n",
    "def mean_gen(theta, phi):\n",
    "    mu = 0.5 - (np.sqrt(2)/2) * np.cos(phi + np.pi / 4)\n",
    "    return mu\n",
    "\n",
    "\n",
    "def varx_gen(theta, phi):\n",
    "    vx = 1.5 - (np.sqrt(2)/2) * np.cos(theta + np.pi / 4) * np.sin(phi + np.pi / 2)\n",
    "    return vx\n",
    "\n",
    "\n",
    "def vary_gen(theta, phi):\n",
    "    vy = 1.5 - (np.sqrt(2)/2) * np.sin(theta + np.pi / 4) * np.sin(phi + np.pi / 2)\n",
    "    return vy\n",
    "\n",
    "\n",
    "# Generate n data\n",
    "def spherical_data(n, thetas, phis, rand=1234):\n",
    "    \n",
    "    mx1, my1 = np.zeros(n), np.zeros(n)\n",
    "    vx1, vy1 = np.ones(n), np.ones(n)\n",
    "    \n",
    "    mx2, my2 = mean_gen(thetas, phis), np.zeros(n)\n",
    "    vx2, vy2 = varx_gen(thetas, phis), vary_gen(thetas, phis)\n",
    "    \n",
    "    x1, y1 = np.transpose(np.array([np.random.normal(mx1, vx1, size=n), \n",
    "                                    np.random.normal(my1, vy1, size=n), thetas, phis])), np.zeros(n)\n",
    "    x2, y2 = np.transpose(np.array([np.random.normal(mx2, vx2, size=n), \n",
    "                                    np.random.normal(my2, vy2, size=n), thetas, phis])), np.ones(n)\n",
    "    \n",
    "    x, y = np.append(x1, x2, axis=0), np.append(y1, y2, axis=0)\n",
    "\n",
    "    x_train, x_test, y_train, y_test = train_test_split(x, y, test_size = 0.2, random_state = rand)\n",
    "    \n",
    "    return x_train, x_test, y_train, y_test"
   ]
  },
  {
   "cell_type": "code",
   "execution_count": 2,
   "id": "272f6013",
   "metadata": {},
   "outputs": [
    {
     "name": "stderr",
     "output_type": "stream",
     "text": [
      "2022-08-08 13:50:39.603179: W tensorflow/stream_executor/platform/default/dso_loader.cc:64] Could not load dynamic library 'libcuda.so.1'; dlerror: libcuda.so.1: cannot open shared object file: No such file or directory\n",
      "2022-08-08 13:50:39.603231: W tensorflow/stream_executor/cuda/cuda_driver.cc:269] failed call to cuInit: UNKNOWN ERROR (303)\n",
      "2022-08-08 13:50:39.603275: I tensorflow/stream_executor/cuda/cuda_diagnostics.cc:156] kernel driver does not appear to be running on this host (jupyter-matan): /proc/driver/nvidia/version does not exist\n",
      "2022-08-08 13:50:39.603667: I tensorflow/core/platform/cpu_feature_guard.cc:142] This TensorFlow binary is optimized with oneAPI Deep Neural Network Library (oneDNN) to use the following CPU instructions in performance-critical operations:  AVX2 FMA\n",
      "To enable them in other operations, rebuild TensorFlow with the appropriate compiler flags.\n"
     ]
    }
   ],
   "source": [
    "# Single Point on Sphere\n",
    "\n",
    "n = 50000\n",
    "rand_n = 12345\n",
    "theta, phi = 1, 1\n",
    "thetas, phis = theta * np.ones(n), phi * np.ones(n)\n",
    "x_train, x_test, y_train, y_test = spherical_data(n, thetas, phis, rand_n)\n",
    "\n",
    "model = tf.keras.models.load_model('3dmodels/discrete_model_mth40_mph40')\n",
    "# model = tf.keras.models.load_model('3dmodels/discrete_model_mth50_mph50')\n",
    "# model = tf.keras.models.load_model('3dmodels/discrete_model_th3_ph3')"
   ]
  },
  {
   "cell_type": "code",
   "execution_count": 3,
   "id": "3a01fe50",
   "metadata": {},
   "outputs": [
    {
     "name": "stdout",
     "output_type": "stream",
     "text": [
      "Model: \"model_1\"\n",
      "__________________________________________________________________________________________________\n",
      "Layer (type)                    Output Shape         Param #     Connected to                     \n",
      "==================================================================================================\n",
      "input_2 (InputLayer)            [(None, 2)]          0                                            \n",
      "__________________________________________________________________________________________________\n",
      "tf.ones_like (TFOpLambda)       (None, 2)            0           input_2[0][0]                    \n",
      "__________________________________________________________________________________________________\n",
      "tf.__operators__.getitem (Slici (None, 1)            0           tf.ones_like[0][0]               \n",
      "__________________________________________________________________________________________________\n",
      "model (Functional)              (None, 2)            2           tf.__operators__.getitem[0][0]   \n",
      "__________________________________________________________________________________________________\n",
      "concatenate (Concatenate)       (None, 4)            0           input_2[0][0]                    \n",
      "                                                                 model[0][0]                      \n",
      "__________________________________________________________________________________________________\n",
      "sequential_1 (Sequential)       (None, 1)            17281       concatenate[0][0]                \n",
      "==================================================================================================\n",
      "Total params: 17,283\n",
      "Trainable params: 2\n",
      "Non-trainable params: 17,281\n",
      "__________________________________________________________________________________________________\n",
      "[<tf.Variable 'dense/kernel:0' shape=(1, 2) dtype=float32, numpy=array([[1., 1.]], dtype=float32)>]\n"
     ]
    }
   ],
   "source": [
    "for l in model.layers:\n",
    "    l.trainable=False\n",
    "\n",
    "inputs_hold = tf.keras.Input(shape=(1,))\n",
    "initial_weights = np.ones(2)\n",
    "# print(initial_weights)\n",
    "simple_model = Dense(2, use_bias = False, kernel_initializer='ones')(inputs_hold)\n",
    "model3 = Model(inputs = inputs_hold, outputs = simple_model)\n",
    "\n",
    "inputs = tf.keras.Input(shape=(2,))\n",
    "inputs2 = tf.keras.layers.concatenate([inputs, model3(tf.ones_like(inputs)[:,0:1])])\n",
    "hidden_layer_1 = model(inputs2)\n",
    "\n",
    "model2 = Model(inputs = inputs, outputs = hidden_layer_1)\n",
    "loss_fn = tf.keras.losses.BinaryCrossentropy()\n",
    "model2.compile(loss=loss_fn, optimizer='Adam', )\n",
    "# initialize model 2 weights to be the right answer (or near it, test how sensitive)\n",
    "\n",
    "model2.summary()\n",
    "print(model2.trainable_weights)"
   ]
  },
  {
   "cell_type": "code",
   "execution_count": null,
   "id": "2115cbbe",
   "metadata": {},
   "outputs": [],
   "source": [
    "x_train_test = np.copy(x_train)\n",
    "x_train_test[:, 2] = model2.trainable_weights[:][0][0][0] * (x_train[:, 2] - 2)\n",
    "x_train_test[:, 3] = model2.trainable_weights[:][0][0][1] * (x_train[:, 3] - 2)\n",
    "print(x_train_test[0])\n",
    "model(x_train_test)"
   ]
  },
  {
   "cell_type": "code",
   "execution_count": null,
   "id": "f5769ff7",
   "metadata": {},
   "outputs": [],
   "source": [
    "coordinates = x_train[:, 0:2]\n",
    "model2(coordinates)"
   ]
  },
  {
   "cell_type": "code",
   "execution_count": 4,
   "id": "e99ea578",
   "metadata": {},
   "outputs": [],
   "source": [
    "x_train_mod = x_train\n",
    "x_train_mod[:,2] = x_train[:, 2] - 1"
   ]
  },
  {
   "cell_type": "code",
   "execution_count": 5,
   "id": "dd3d2a01",
   "metadata": {},
   "outputs": [
    {
     "name": "stdout",
     "output_type": "stream",
     "text": [
      "discrete_model_th5_ph5 has loss 0.9759512744592924\n",
      "discrete_model_th5_ph3 has loss 0.9746098276199208\n",
      "discrete_model_th4_ph3 has loss 0.7359622403498043\n",
      "discrete_model_th3_ph3 has loss 0.7679961990433425\n",
      "discrete_model_th2_ph3 has loss 0.8718129085686916\n",
      "discrete_model_th2_ph2 has loss 0.8254249363208351\n",
      "discrete_model_th0_ph0 has loss 0.6929170613773167\n",
      "discrete_model_mth15_mph15 has loss 0.6291996984028934\n"
     ]
    }
   ],
   "source": [
    "names = []\n",
    "names.append('discrete_model_th5_ph5')\n",
    "names.append('discrete_model_th5_ph3')\n",
    "names.append('discrete_model_th4_ph3')\n",
    "names.append('discrete_model_th3_ph3')\n",
    "names.append('discrete_model_th2_ph3')\n",
    "names.append('discrete_model_th2_ph2')\n",
    "names.append('discrete_model_th0_ph0')\n",
    "names.append('discrete_model_mth15_mph15')\n",
    "\n",
    "l = len(names)\n",
    "\n",
    "models = []\n",
    "predictions = []\n",
    "for i in range(l):\n",
    "    models.append(tf.keras.models.load_model('3dmodels/' + names[i]))\n",
    "    xr = models[i](x_train).numpy().transpose()[0]\n",
    "    loss = np.sum(-y_train * np.log(xr) - (1-y_train) * np.log(1-xr)) / xr.shape[0]\n",
    "    print(names[i], 'has loss', loss)\n",
    "    \n",
    "# models = []\n",
    "# predictions = []\n",
    "# for i in range(l):\n",
    "#     models.append(tf.keras.models.load_model('3dmodels/' + names[i]))\n",
    "#     xr = models[i](x_train_mod).numpy().transpose()[0]\n",
    "#     loss = np.sum(-y_train * np.log(xr) - (1-y_train) * np.log(1-xr)) / xr.shape[0]\n",
    "#     print(names[i], 'has loss', loss)"
   ]
  },
  {
   "cell_type": "code",
   "execution_count": 6,
   "id": "05c5dbb2",
   "metadata": {
    "scrolled": true
   },
   "outputs": [
    {
     "name": "stderr",
     "output_type": "stream",
     "text": [
      "2022-08-08 13:51:03.954538: I tensorflow/compiler/mlir/mlir_graph_optimization_pass.cc:185] None of the MLIR Optimization Passes are enabled (registered 2)\n"
     ]
    },
    {
     "name": "stdout",
     "output_type": "stream",
     "text": [
      "800/800 [==============================] - 2s 2ms/step - loss: 0.6202\n",
      "0 Fitted result:  tf.Tensor([1.1083084 1.0116988], shape=(2,), dtype=float32)\n",
      "0.6196190572647301\n",
      "800/800 [==============================] - 1s 2ms/step - loss: 0.6202\n",
      "1 Fitted result:  tf.Tensor([1.1579126 1.018555 ], shape=(2,), dtype=float32)\n",
      "0.6194100608199182\n",
      "800/800 [==============================] - 1s 2ms/step - loss: 0.6205\n",
      "2 Fitted result:  tf.Tensor([1.1853241 1.0079223], shape=(2,), dtype=float32)\n",
      "0.6193857905057896\n",
      "800/800 [==============================] - 1s 2ms/step - loss: 0.6201\n",
      "3 Fitted result:  tf.Tensor([1.1884997 1.0149211], shape=(2,), dtype=float32)\n",
      "0.6193449863747759\n",
      "800/800 [==============================] - 1s 2ms/step - loss: 0.6199\n",
      "4 Fitted result:  tf.Tensor([1.1946673 1.0140084], shape=(2,), dtype=float32)\n",
      "0.6193344373527266\n",
      "800/800 [==============================] - 1s 2ms/step - loss: 0.6202\n",
      "5 Fitted result:  tf.Tensor([1.2277317 1.0073233], shape=(2,), dtype=float32)\n",
      "0.6192946699631912\n",
      "800/800 [==============================] - 1s 2ms/step - loss: 0.6201\n",
      "6 Fitted result:  tf.Tensor([1.1981982 1.0076002], shape=(2,), dtype=float32)\n",
      "0.6193551266731976\n",
      "800/800 [==============================] - 1s 2ms/step - loss: 0.6200\n",
      "7 Fitted result:  tf.Tensor([1.1907778 1.024371 ], shape=(2,), dtype=float32)\n",
      "0.6193033453864096\n",
      "800/800 [==============================] - 1s 2ms/step - loss: 0.6201\n",
      "8 Fitted result:  tf.Tensor([1.1931379 1.003458 ], shape=(2,), dtype=float32)\n",
      "0.6193880529576397\n",
      "800/800 [==============================] - 1s 2ms/step - loss: 0.6201\n",
      "9 Fitted result:  tf.Tensor([1.1736617 1.0106957], shape=(2,), dtype=float32)\n",
      "0.6194030969920398\n",
      "800/800 [==============================] - 2s 2ms/step - loss: 0.6202\n",
      "10 Fitted result:  tf.Tensor([1.1889366 1.0211105], shape=(2,), dtype=float32)\n",
      "0.6193190086638956\n",
      "800/800 [==============================] - 1s 2ms/step - loss: 0.6200\n",
      "11 Fitted result:  tf.Tensor([1.1870232 1.0138794], shape=(2,), dtype=float32)\n",
      "0.6193532577883362\n",
      "800/800 [==============================] - 1s 2ms/step - loss: 0.6205\n",
      "12 Fitted result:  tf.Tensor([1.1967995 1.0088148], shape=(2,), dtype=float32)\n",
      "0.6193528794062094\n",
      "800/800 [==============================] - 1s 2ms/step - loss: 0.6200\n",
      "13 Fitted result:  tf.Tensor([1.198306  1.0094633], shape=(2,), dtype=float32)\n",
      "0.619346192634929\n",
      "800/800 [==============================] - 1s 2ms/step - loss: 0.6200\n",
      "14 Fitted result:  tf.Tensor([1.1997423 1.0055108], shape=(2,), dtype=float32)\n",
      "0.6193610587714289\n",
      "800/800 [==============================] - 1s 2ms/step - loss: 0.6199\n",
      "15 Fitted result:  tf.Tensor([1.178511  0.9983958], shape=(2,), dtype=float32)\n",
      "0.6194556407472513\n",
      "800/800 [==============================] - 1s 2ms/step - loss: 0.6200\n",
      "16 Fitted result:  tf.Tensor([1.1884446 1.0356344], shape=(2,), dtype=float32)\n",
      "0.619278938457116\n",
      "800/800 [==============================] - 2s 2ms/step - loss: 0.6198\n",
      "17 Fitted result:  tf.Tensor([1.1926957 1.0050132], shape=(2,), dtype=float32)\n",
      "0.6193814077239155\n",
      "800/800 [==============================] - 2s 2ms/step - loss: 0.6201\n",
      "18 Fitted result:  tf.Tensor([1.1962156 0.9984053], shape=(2,), dtype=float32)\n",
      "0.6194062481842434\n",
      "800/800 [==============================] - 1s 2ms/step - loss: 0.6205\n",
      "19 Fitted result:  tf.Tensor([1.189555   0.99355507], shape=(2,), dtype=float32)\n",
      "0.6194512910922291\n"
     ]
    }
   ],
   "source": [
    "coordinates = x_train[:, 0:2]\n",
    "# real_model = tf.keras.models.load_model('3dmodels/discrete_model_th3_ph3')\n",
    "# x_r = real_model(x_train).numpy().transpose()[0]\n",
    "\n",
    "for i in range(20):\n",
    "    model2.fit(coordinates, y_train, epochs=1,batch_size=100)\n",
    "    print(i,\"Fitted result: \", model2.trainable_weights[:][0][0])\n",
    "    x = model2(coordinates).numpy().transpose()[0]\n",
    "    print(np.sum(-y_train * np.log(x) - (1-y_train) * np.log(1-x)) / x.shape[0])\n",
    "    "
   ]
  },
  {
   "cell_type": "code",
   "execution_count": null,
   "id": "31a4e3b3",
   "metadata": {},
   "outputs": [],
   "source": [
    "xr = model(x_train).numpy().transpose()[0]\n",
    "y = model(x_train)\n",
    "loss = np.sum(-y_train * np.log(xr) - (1-y_train) * np.log(1-xr)) / xr.shape[0]\n",
    "print(loss)"
   ]
  },
  {
   "cell_type": "code",
   "execution_count": null,
   "id": "409e840f",
   "metadata": {},
   "outputs": [],
   "source": [
    "x_train_mod = np.copy(x_train)\n",
    "x_train_mod[:, 2] = x_train[:, 2] - .1\n",
    "x_train_mod[:, 3] = x_train[:, 3] - .46\n",
    "xr_mod = model(x_train_mod).numpy().transpose()[0]\n",
    "y_mod = model(x_train_mod)\n",
    "loss_mod = np.sum(-y_train * np.log(xr_mod) - (1-y_train) * np.log(1-xr_mod)) / xr_mod.shape[0]\n",
    "print(loss_mod)"
   ]
  },
  {
   "cell_type": "code",
   "execution_count": null,
   "id": "99eb153f",
   "metadata": {},
   "outputs": [],
   "source": []
  }
 ],
 "metadata": {
  "kernelspec": {
   "display_name": "Python 3 (ipykernel)",
   "language": "python",
   "name": "python3"
  },
  "language_info": {
   "codemirror_mode": {
    "name": "ipython",
    "version": 3
   },
   "file_extension": ".py",
   "mimetype": "text/x-python",
   "name": "python",
   "nbconvert_exporter": "python",
   "pygments_lexer": "ipython3",
   "version": "3.9.13"
  }
 },
 "nbformat": 4,
 "nbformat_minor": 5
}
