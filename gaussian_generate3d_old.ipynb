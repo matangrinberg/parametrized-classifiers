{
 "cells": [
  {
   "cell_type": "markdown",
   "id": "8d51229a",
   "metadata": {},
   "source": [
    "# Data prepration"
   ]
  },
  {
   "cell_type": "code",
   "execution_count": 1,
   "id": "372db5c5",
   "metadata": {},
   "outputs": [
    {
     "name": "stderr",
     "output_type": "stream",
     "text": [
      "2022-08-04 11:53:25.148582: W tensorflow/stream_executor/platform/default/dso_loader.cc:64] Could not load dynamic library 'libcudart.so.11.0'; dlerror: libcudart.so.11.0: cannot open shared object file: No such file or directory\n",
      "2022-08-04 11:53:25.148612: I tensorflow/stream_executor/cuda/cudart_stub.cc:29] Ignore above cudart dlerror if you do not have a GPU set up on your machine.\n"
     ]
    }
   ],
   "source": [
    "import numpy as np\n",
    "import datetime\n",
    "import os\n",
    "import sklearn.metrics\n",
    "import matplotlib.pyplot as plt\n",
    "from sklearn.model_selection import train_test_split\n",
    "import tensorflow as tf\n",
    "from scipy.stats import chi\n",
    "from scipy import stats"
   ]
  },
  {
   "cell_type": "code",
   "execution_count": 2,
   "id": "5e250612",
   "metadata": {},
   "outputs": [],
   "source": [
    "############\n",
    "# Functions\n",
    "############\n",
    "\n",
    "# Our 3d parameter space is the surface of a sphere centered at (1, 1, 1), with radius 1/sqrt(2)\n",
    "# x, y coordinates are the x and y variances of our 2d Gaussian\n",
    "# z coordinate determines the x-coordinate of the mean, mu = (z, 0)\n",
    "\n",
    "def mean_gen(theta, phi):\n",
    "    mu = 0.5 - (np.sqrt(2)/2) * np.cos(phi + np.pi / 4)\n",
    "    return mu\n",
    "\n",
    "\n",
    "def varx_gen(theta, phi):\n",
    "    vx = 1.5 - (np.sqrt(2)/2) * np.cos(theta + np.pi / 4) * np.sin(phi + np.pi / 2)\n",
    "    return vx\n",
    "\n",
    "\n",
    "def vary_gen(theta, phi):\n",
    "    vy = 1.5 - (np.sqrt(2)/2) * np.sin(theta + np.pi / 4) * np.sin(phi + np.pi / 2)\n",
    "    return vy\n",
    "\n",
    "\n",
    "# Generate n data\n",
    "def spherical_data(n, thetas, phis, rand=1234):\n",
    "    \n",
    "    mx1, my1 = np.zeros(n), np.zeros(n)\n",
    "    vx1, vy1 = np.ones(n), np.ones(n)\n",
    "    \n",
    "    mx2, my2 = mean_gen(thetas, phis), np.zeros(n)\n",
    "    vx2, vy2 = varx_gen(thetas, phis), vary_gen(thetas, phis)\n",
    "    \n",
    "    x1, y1 = np.transpose(np.array([np.random.normal(mx1, vx1, size=n), \n",
    "                                    np.random.normal(my1, vy1, size=n), thetas, phis])), np.zeros(n)\n",
    "    x2, y2 = np.transpose(np.array([np.random.normal(mx2, vx2, size=n), \n",
    "                                    np.random.normal(my2, vy2, size=n), thetas, phis])), np.ones(n)\n",
    "    \n",
    "    x, y = np.append(x1, x2, axis=0), np.append(y1, y2, axis=0)\n",
    "\n",
    "    x_train, x_test, y_train, y_test = train_test_split(x, y, test_size = 0.2, random_state = rand)\n",
    "    \n",
    "    return x_train, x_test, y_train, y_test\n",
    "\n",
    "\n",
    "def discrete_angles(n, m, s, rand = 1234):\n",
    "    angles = np.random.uniform(0, s * np.pi, m)\n",
    "    xk = np.arange(m)\n",
    "    pk = (1 / m) * np.ones(int(m))\n",
    "    discrete_distr = stats.rv_discrete(name='discrete_distr', values=(xk, pk), seed=rand)\n",
    "    thetas = angles[discrete_distr.rvs(size=n)]\n",
    "    return thetas"
   ]
  },
  {
   "cell_type": "code",
   "execution_count": 5,
   "id": "f046b546",
   "metadata": {
    "scrolled": true
   },
   "outputs": [
    {
     "name": "stdout",
     "output_type": "stream",
     "text": [
      "[[-0.736373    0.56009865  4.29622438  2.76084128]\n",
      " [ 0.51832278 -0.40341259  2.9093302   0.78697457]\n",
      " [ 0.80090189 -0.67188444  1.59190084  0.24153612]\n",
      " ...\n",
      " [ 1.34736101  0.09975717  3.58833442  2.12423857]\n",
      " [ 1.16147638 -0.47414315  3.33928396  1.47317794]\n",
      " [ 4.16035644 -0.31704087  1.54710856  1.6097847 ]]\n"
     ]
    }
   ],
   "source": [
    "n = 300000\n",
    "\n",
    "\n",
    "m_th = 40\n",
    "m_ph = 40\n",
    "thetas = discrete_angles(n, m_th, 2)\n",
    "phis = discrete_angles(n, m_ph, 1)\n",
    "name = ('discrete_model_mth%.0f_mph%.0f' %(m_th, m_ph))\n",
    "\n",
    "# theta = 3\n",
    "# phi = 3\n",
    "# thetas = theta * np.ones(n)\n",
    "# phis = phi * np.ones(n)\n",
    "# name = ('discrete_model_th%.0f_ph%.0f' %(theta, phi))\n",
    "\n",
    "x_train, x_test, y_train, y_test = spherical_data(n, thetas, phis)\n",
    "\n",
    "print(x_train)"
   ]
  },
  {
   "cell_type": "markdown",
   "id": "36ca60de",
   "metadata": {
    "slideshow": {
     "slide_type": "slide"
    }
   },
   "source": [
    "# Training Interpolated Model"
   ]
  },
  {
   "cell_type": "code",
   "execution_count": 6,
   "id": "2c4829f7",
   "metadata": {},
   "outputs": [
    {
     "name": "stderr",
     "output_type": "stream",
     "text": [
      "2022-08-04 11:54:08.564332: I tensorflow/core/profiler/lib/profiler_session.cc:131] Profiler session initializing.\n",
      "2022-08-04 11:54:08.564509: I tensorflow/core/profiler/lib/profiler_session.cc:146] Profiler session started.\n",
      "2022-08-04 11:54:08.564922: I tensorflow/core/profiler/lib/profiler_session.cc:164] Profiler session tear down.\n"
     ]
    },
    {
     "name": "stdout",
     "output_type": "stream",
     "text": [
      "Epoch 1/20\n",
      " 29/480 [>.............................] - ETA: 2s - loss: 0.6348 - accuracy: 0.6316"
     ]
    },
    {
     "name": "stderr",
     "output_type": "stream",
     "text": [
      "2022-08-04 11:54:09.031806: I tensorflow/core/profiler/lib/profiler_session.cc:131] Profiler session initializing.\n",
      "2022-08-04 11:54:09.031838: I tensorflow/core/profiler/lib/profiler_session.cc:146] Profiler session started.\n",
      "2022-08-04 11:54:09.051963: I tensorflow/core/profiler/lib/profiler_session.cc:66] Profiler session collecting data.\n",
      "2022-08-04 11:54:09.053019: I tensorflow/core/profiler/lib/profiler_session.cc:164] Profiler session tear down.\n",
      "2022-08-04 11:54:09.065055: I tensorflow/core/profiler/rpc/client/save_profile.cc:136] Creating directory: tutorial/logs/20220804-115408/train/plugins/profile/2022_08_04_11_54_09\n",
      "\n",
      "2022-08-04 11:54:09.070296: I tensorflow/core/profiler/rpc/client/save_profile.cc:142] Dumped gzipped tool data for trace.json.gz to tutorial/logs/20220804-115408/train/plugins/profile/2022_08_04_11_54_09/jupyter-matan.trace.json.gz\n",
      "2022-08-04 11:54:09.072203: I tensorflow/core/profiler/rpc/client/save_profile.cc:136] Creating directory: tutorial/logs/20220804-115408/train/plugins/profile/2022_08_04_11_54_09\n",
      "\n",
      "2022-08-04 11:54:09.076095: I tensorflow/core/profiler/rpc/client/save_profile.cc:142] Dumped gzipped tool data for memory_profile.json.gz to tutorial/logs/20220804-115408/train/plugins/profile/2022_08_04_11_54_09/jupyter-matan.memory_profile.json.gz\n",
      "2022-08-04 11:54:09.094012: I tensorflow/core/profiler/rpc/client/capture_profile.cc:251] Creating directory: tutorial/logs/20220804-115408/train/plugins/profile/2022_08_04_11_54_09\n",
      "Dumped tool data for xplane.pb to tutorial/logs/20220804-115408/train/plugins/profile/2022_08_04_11_54_09/jupyter-matan.xplane.pb\n",
      "Dumped tool data for overview_page.pb to tutorial/logs/20220804-115408/train/plugins/profile/2022_08_04_11_54_09/jupyter-matan.overview_page.pb\n",
      "Dumped tool data for input_pipeline.pb to tutorial/logs/20220804-115408/train/plugins/profile/2022_08_04_11_54_09/jupyter-matan.input_pipeline.pb\n",
      "Dumped tool data for tensorflow_stats.pb to tutorial/logs/20220804-115408/train/plugins/profile/2022_08_04_11_54_09/jupyter-matan.tensorflow_stats.pb\n",
      "Dumped tool data for kernel_stats.pb to tutorial/logs/20220804-115408/train/plugins/profile/2022_08_04_11_54_09/jupyter-matan.kernel_stats.pb\n",
      "\n"
     ]
    },
    {
     "name": "stdout",
     "output_type": "stream",
     "text": [
      "480/480 [==============================] - 2s 4ms/step - loss: 0.5839 - accuracy: 0.6828\n",
      "Epoch 2/20\n",
      "480/480 [==============================] - 2s 4ms/step - loss: 0.5744 - accuracy: 0.6906\n",
      "Epoch 3/20\n",
      "480/480 [==============================] - 2s 4ms/step - loss: 0.5726 - accuracy: 0.6915\n",
      "Epoch 4/20\n",
      "480/480 [==============================] - 2s 4ms/step - loss: 0.5720 - accuracy: 0.6918\n",
      "Epoch 5/20\n",
      "480/480 [==============================] - 2s 4ms/step - loss: 0.5712 - accuracy: 0.6930\n",
      "Epoch 6/20\n",
      "480/480 [==============================] - 2s 4ms/step - loss: 0.5706 - accuracy: 0.6932\n",
      "Epoch 7/20\n",
      "480/480 [==============================] - 2s 4ms/step - loss: 0.5702 - accuracy: 0.6935\n",
      "Epoch 8/20\n",
      "480/480 [==============================] - 2s 4ms/step - loss: 0.5700 - accuracy: 0.6938\n",
      "Epoch 9/20\n",
      "480/480 [==============================] - 2s 4ms/step - loss: 0.5696 - accuracy: 0.6943\n",
      "Epoch 10/20\n",
      "480/480 [==============================] - 2s 4ms/step - loss: 0.5693 - accuracy: 0.6945\n",
      "Epoch 11/20\n",
      "480/480 [==============================] - 2s 4ms/step - loss: 0.5691 - accuracy: 0.6944\n",
      "Epoch 12/20\n",
      "480/480 [==============================] - 2s 4ms/step - loss: 0.5687 - accuracy: 0.6944\n",
      "Epoch 13/20\n",
      "480/480 [==============================] - 2s 4ms/step - loss: 0.5686 - accuracy: 0.6945\n",
      "Epoch 14/20\n",
      "480/480 [==============================] - 2s 4ms/step - loss: 0.5686 - accuracy: 0.6945\n",
      "Epoch 15/20\n",
      "480/480 [==============================] - 2s 4ms/step - loss: 0.5684 - accuracy: 0.6946\n",
      "Epoch 16/20\n",
      "480/480 [==============================] - 2s 4ms/step - loss: 0.5683 - accuracy: 0.6949\n",
      "Epoch 17/20\n",
      "480/480 [==============================] - 2s 4ms/step - loss: 0.5682 - accuracy: 0.6952\n",
      "Epoch 18/20\n",
      "480/480 [==============================] - 2s 4ms/step - loss: 0.5683 - accuracy: 0.6947\n",
      "Epoch 19/20\n",
      "480/480 [==============================] - 2s 5ms/step - loss: 0.5681 - accuracy: 0.6949\n",
      "Epoch 20/20\n",
      "480/480 [==============================] - 2s 4ms/step - loss: 0.5680 - accuracy: 0.6952\n",
      "INFO:tensorflow:Assets written to: 3dmodels/discrete_model_mth40_mph40/assets\n"
     ]
    }
   ],
   "source": [
    "model = tf.keras.models.Sequential([\n",
    "    tf.keras.layers.Dense(128, activation='relu'),\n",
    "    tf.keras.layers.Dropout(0.2),\n",
    "    tf.keras.layers.Dense(128, activation='relu'),\n",
    "    tf.keras.layers.Dense(1, activation='sigmoid')\n",
    "]);\n",
    "\n",
    "loss_fn = tf.keras.losses.BinaryCrossentropy()\n",
    "model.compile(\n",
    "    optimizer='adam',\n",
    "    loss=loss_fn,\n",
    "    metrics=['accuracy']\n",
    ")\n",
    "\n",
    "batch_size = 1000\n",
    "\n",
    "checkpoint_path = \"tutorial/checkpoints/cp.ckpt\"\n",
    "checkpoint_dir = os.path.dirname(checkpoint_path)\n",
    "\n",
    "# Create a callback that saves the model's weights\n",
    "cp_callback = tf.keras.callbacks.ModelCheckpoint(\n",
    "    filepath=checkpoint_path,\n",
    "    save_weights_only=True,\n",
    "    verbose=1,\n",
    "    save_freq=10*batch_size\n",
    ")\n",
    "\n",
    "log_dir = \"tutorial/logs/\" + datetime.datetime.now().strftime(\"%Y%m%d-%H%M%S\")\n",
    "tensorboard_callback = tf.keras.callbacks.TensorBoard(log_dir=log_dir, histogram_freq=1)\n",
    "\n",
    "EPOCHS=20\n",
    "model.fit(\n",
    "    x_train, y_train, epochs=EPOCHS,\n",
    "    batch_size=batch_size,\n",
    "    callbacks=[cp_callback, tensorboard_callback]\n",
    ");\n",
    "\n",
    "model.save('3dmodels/' + name)"
   ]
  },
  {
   "cell_type": "code",
   "execution_count": 16,
   "id": "88a0a775",
   "metadata": {},
   "outputs": [],
   "source": [
    "model = tf.keras.models.load_model('3dmodels/' + name)"
   ]
  }
 ],
 "metadata": {
  "kernelspec": {
   "display_name": "Python 3 (ipykernel)",
   "language": "python",
   "name": "python3"
  },
  "language_info": {
   "codemirror_mode": {
    "name": "ipython",
    "version": 3
   },
   "file_extension": ".py",
   "mimetype": "text/x-python",
   "name": "python",
   "nbconvert_exporter": "python",
   "pygments_lexer": "ipython3",
   "version": "3.9.13"
  }
 },
 "nbformat": 4,
 "nbformat_minor": 5
}
