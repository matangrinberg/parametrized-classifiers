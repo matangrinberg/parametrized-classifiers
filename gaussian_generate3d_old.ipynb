{
 "cells": [
  {
   "cell_type": "markdown",
   "id": "8d51229a",
   "metadata": {},
   "source": [
    "# Data prepration"
   ]
  },
  {
   "cell_type": "code",
   "execution_count": 1,
   "id": "372db5c5",
   "metadata": {},
   "outputs": [
    {
     "name": "stderr",
     "output_type": "stream",
     "text": [
      "2022-07-20 16:08:08.631801: W tensorflow/stream_executor/platform/default/dso_loader.cc:64] Could not load dynamic library 'libcudart.so.11.0'; dlerror: libcudart.so.11.0: cannot open shared object file: No such file or directory\n",
      "2022-07-20 16:08:08.631832: I tensorflow/stream_executor/cuda/cudart_stub.cc:29] Ignore above cudart dlerror if you do not have a GPU set up on your machine.\n"
     ]
    }
   ],
   "source": [
    "import numpy as np\n",
    "import datetime\n",
    "import os\n",
    "import sklearn.metrics\n",
    "import matplotlib.pyplot as plt\n",
    "from sklearn.model_selection import train_test_split\n",
    "import tensorflow as tf\n",
    "from scipy.stats import chi\n",
    "from scipy import stats"
   ]
  },
  {
   "cell_type": "code",
   "execution_count": 2,
   "id": "5e250612",
   "metadata": {},
   "outputs": [],
   "source": [
    "############\n",
    "# Functions\n",
    "############\n",
    "\n",
    "# Our 3d parameter space is the surface of a sphere centered at (1, 1, 1), with radius 1/sqrt(2)\n",
    "# x, y coordinates are the x and y variances of our 2d Gaussian\n",
    "# z coordinate determines the x-coordinate of the mean, mu = (z, 0)\n",
    "\n",
    "def mean_gen(theta, phi):\n",
    "    mu = 0.5 - (np.sqrt(2)/2) * np.cos(phi + np.pi / 4)\n",
    "    return mu\n",
    "\n",
    "\n",
    "def varx_gen(theta, phi):\n",
    "    vx = 1.5 - (np.sqrt(2)/2) * np.cos(theta + np.pi / 4) * np.sin(phi + np.pi / 2)\n",
    "    return vx\n",
    "\n",
    "\n",
    "def vary_gen(theta, phi):\n",
    "    vy = 1.5 - (np.sqrt(2)/2) * np.sin(theta + np.pi / 4) * np.sin(phi + np.pi / 2)\n",
    "    return vy\n",
    "\n",
    "\n",
    "# Generate n data\n",
    "def spherical_data(n, thetas, phis, rand=1234):\n",
    "    \n",
    "    mx1, my1 = np.zeros(n), np.zeros(n)\n",
    "    vx1, vy1 = np.ones(n), np.ones(n)\n",
    "    \n",
    "    mx2, my2 = mean_gen(thetas, phis), np.zeros(n)\n",
    "    vx2, vy2 = varx_gen(thetas, phis), vary_gen(thetas, phis)\n",
    "    \n",
    "    x1, y1 = np.transpose(np.array([np.random.normal(mx1, vx1, size=n), \n",
    "                                    np.random.normal(my1, vy1, size=n), thetas, phis])), np.zeros(n)\n",
    "    x2, y2 = np.transpose(np.array([np.random.normal(mx2, vx2, size=n), \n",
    "                                    np.random.normal(my2, vy2, size=n), thetas, phis])), np.ones(n)\n",
    "    \n",
    "    x, y = np.append(x1, x2, axis=0), np.append(y1, y2, axis=0)\n",
    "\n",
    "    x_train, x_test, y_train, y_test = train_test_split(x, y, test_size = 0.2, random_state = rand)\n",
    "    \n",
    "    return x_train, x_test, y_train, y_test\n",
    "\n",
    "\n",
    "def discrete_angles(n, m, s, rand = 1234):\n",
    "    angles = np.random.uniform(0, s * np.pi, m)\n",
    "    xk = np.arange(m)\n",
    "    pk = (1 / m) * np.ones(int(m))\n",
    "    discrete_distr = stats.rv_discrete(name='discrete_distr', values=(xk, pk), seed=rand)\n",
    "    thetas = angles[discrete_distr.rvs(size=n)]\n",
    "    return thetas"
   ]
  },
  {
   "cell_type": "code",
   "execution_count": 3,
   "id": "f046b546",
   "metadata": {
    "scrolled": true
   },
   "outputs": [
    {
     "name": "stdout",
     "output_type": "stream",
     "text": [
      "[[ 1.25310791  0.11627582  3.          3.        ]\n",
      " [ 0.64450199 -0.89520966  3.          3.        ]\n",
      " [-0.22159352 -0.78304374  3.          3.        ]\n",
      " ...\n",
      " [-1.16694033 -1.00272209  3.          3.        ]\n",
      " [ 0.77792134 -0.87131836  3.          3.        ]\n",
      " [-0.75541539 -1.07913565  3.          3.        ]]\n"
     ]
    }
   ],
   "source": [
    "n = 50000\n",
    "\n",
    "\n",
    "# m_th = 15\n",
    "# m_ph = 15\n",
    "# thetas = discrete_angles(n, m_th, 2)\n",
    "# phis = discrete_angles(n, m_ph, 1)\n",
    "# name = ('discrete_model_mth%.0f_mph%.0f' %(m_th, m_ph))\n",
    "\n",
    "theta = 3\n",
    "phi = 3\n",
    "thetas = theta * np.ones(n)\n",
    "phis = phi * np.ones(n)\n",
    "name = ('discrete_model_th%.0f_ph%.0f' %(theta, phi))\n",
    "\n",
    "x_train, x_test, y_train, y_test = spherical_data(n, thetas, phis)\n",
    "\n",
    "print(x_train)"
   ]
  },
  {
   "cell_type": "markdown",
   "id": "36ca60de",
   "metadata": {
    "slideshow": {
     "slide_type": "slide"
    }
   },
   "source": [
    "# Training Interpolated Model"
   ]
  },
  {
   "cell_type": "code",
   "execution_count": 4,
   "id": "2c4829f7",
   "metadata": {},
   "outputs": [
    {
     "name": "stderr",
     "output_type": "stream",
     "text": [
      "2022-07-20 16:08:13.098529: W tensorflow/stream_executor/platform/default/dso_loader.cc:64] Could not load dynamic library 'libcuda.so.1'; dlerror: libcuda.so.1: cannot open shared object file: No such file or directory\n",
      "2022-07-20 16:08:13.098559: W tensorflow/stream_executor/cuda/cuda_driver.cc:269] failed call to cuInit: UNKNOWN ERROR (303)\n",
      "2022-07-20 16:08:13.098577: I tensorflow/stream_executor/cuda/cuda_diagnostics.cc:156] kernel driver does not appear to be running on this host (jupyter-matan): /proc/driver/nvidia/version does not exist\n",
      "2022-07-20 16:08:13.098822: I tensorflow/core/platform/cpu_feature_guard.cc:142] This TensorFlow binary is optimized with oneAPI Deep Neural Network Library (oneDNN) to use the following CPU instructions in performance-critical operations:  AVX2 FMA\n",
      "To enable them in other operations, rebuild TensorFlow with the appropriate compiler flags.\n",
      "2022-07-20 16:08:13.110388: I tensorflow/core/profiler/lib/profiler_session.cc:131] Profiler session initializing.\n",
      "2022-07-20 16:08:13.110415: I tensorflow/core/profiler/lib/profiler_session.cc:146] Profiler session started.\n",
      "2022-07-20 16:08:13.110683: I tensorflow/core/profiler/lib/profiler_session.cc:164] Profiler session tear down.\n",
      "2022-07-20 16:08:13.334238: I tensorflow/compiler/mlir/mlir_graph_optimization_pass.cc:185] None of the MLIR Optimization Passes are enabled (registered 2)\n"
     ]
    },
    {
     "name": "stdout",
     "output_type": "stream",
     "text": [
      "Epoch 1/10\n",
      "22/80 [=======>......................] - ETA: 0s - loss: 0.6065 - accuracy: 0.6682"
     ]
    },
    {
     "name": "stderr",
     "output_type": "stream",
     "text": [
      "2022-07-20 16:08:13.827621: I tensorflow/core/profiler/lib/profiler_session.cc:131] Profiler session initializing.\n",
      "2022-07-20 16:08:13.827649: I tensorflow/core/profiler/lib/profiler_session.cc:146] Profiler session started.\n",
      "2022-07-20 16:08:13.839941: I tensorflow/core/profiler/lib/profiler_session.cc:66] Profiler session collecting data.\n",
      "2022-07-20 16:08:13.841839: I tensorflow/core/profiler/lib/profiler_session.cc:164] Profiler session tear down.\n",
      "2022-07-20 16:08:13.854763: I tensorflow/core/profiler/rpc/client/save_profile.cc:136] Creating directory: tutorial/logs/20220720-160813/train/plugins/profile/2022_07_20_16_08_13\n",
      "\n",
      "2022-07-20 16:08:13.860255: I tensorflow/core/profiler/rpc/client/save_profile.cc:142] Dumped gzipped tool data for trace.json.gz to tutorial/logs/20220720-160813/train/plugins/profile/2022_07_20_16_08_13/jupyter-matan.trace.json.gz\n",
      "2022-07-20 16:08:13.864485: I tensorflow/core/profiler/rpc/client/save_profile.cc:136] Creating directory: tutorial/logs/20220720-160813/train/plugins/profile/2022_07_20_16_08_13\n",
      "\n",
      "2022-07-20 16:08:13.868466: I tensorflow/core/profiler/rpc/client/save_profile.cc:142] Dumped gzipped tool data for memory_profile.json.gz to tutorial/logs/20220720-160813/train/plugins/profile/2022_07_20_16_08_13/jupyter-matan.memory_profile.json.gz\n",
      "2022-07-20 16:08:13.885461: I tensorflow/core/profiler/rpc/client/capture_profile.cc:251] Creating directory: tutorial/logs/20220720-160813/train/plugins/profile/2022_07_20_16_08_13\n",
      "Dumped tool data for xplane.pb to tutorial/logs/20220720-160813/train/plugins/profile/2022_07_20_16_08_13/jupyter-matan.xplane.pb\n",
      "Dumped tool data for overview_page.pb to tutorial/logs/20220720-160813/train/plugins/profile/2022_07_20_16_08_13/jupyter-matan.overview_page.pb\n",
      "Dumped tool data for input_pipeline.pb to tutorial/logs/20220720-160813/train/plugins/profile/2022_07_20_16_08_13/jupyter-matan.input_pipeline.pb\n",
      "Dumped tool data for tensorflow_stats.pb to tutorial/logs/20220720-160813/train/plugins/profile/2022_07_20_16_08_13/jupyter-matan.tensorflow_stats.pb\n",
      "Dumped tool data for kernel_stats.pb to tutorial/logs/20220720-160813/train/plugins/profile/2022_07_20_16_08_13/jupyter-matan.kernel_stats.pb\n",
      "\n"
     ]
    },
    {
     "name": "stdout",
     "output_type": "stream",
     "text": [
      "80/80 [==============================] - 1s 5ms/step - loss: 0.5780 - accuracy: 0.6953\n",
      "Epoch 2/10\n",
      "80/80 [==============================] - 0s 4ms/step - loss: 0.5651 - accuracy: 0.7062\n",
      "Epoch 3/10\n",
      "80/80 [==============================] - 0s 4ms/step - loss: 0.5644 - accuracy: 0.7063\n",
      "Epoch 4/10\n",
      "80/80 [==============================] - 0s 4ms/step - loss: 0.5644 - accuracy: 0.7069\n",
      "Epoch 5/10\n",
      "80/80 [==============================] - 0s 4ms/step - loss: 0.5636 - accuracy: 0.7071\n",
      "Epoch 6/10\n",
      "80/80 [==============================] - 0s 4ms/step - loss: 0.5633 - accuracy: 0.7069\n",
      "Epoch 7/10\n",
      "80/80 [==============================] - 0s 4ms/step - loss: 0.5634 - accuracy: 0.7065\n",
      "Epoch 8/10\n",
      "80/80 [==============================] - 0s 4ms/step - loss: 0.5634 - accuracy: 0.7071\n",
      "Epoch 9/10\n",
      "80/80 [==============================] - 0s 4ms/step - loss: 0.5636 - accuracy: 0.7068\n",
      "Epoch 10/10\n",
      "80/80 [==============================] - 0s 4ms/step - loss: 0.5628 - accuracy: 0.7072\n"
     ]
    },
    {
     "name": "stderr",
     "output_type": "stream",
     "text": [
      "2022-07-20 16:08:17.293576: W tensorflow/python/util/util.cc:348] Sets are not currently considered sequences, but this may change in the future, so consider avoiding using them.\n"
     ]
    },
    {
     "name": "stdout",
     "output_type": "stream",
     "text": [
      "INFO:tensorflow:Assets written to: 3dmodels/discrete_model_th3_ph3/assets\n"
     ]
    }
   ],
   "source": [
    "model = tf.keras.models.Sequential([\n",
    "    tf.keras.layers.Dense(128, activation='relu'),\n",
    "    tf.keras.layers.Dropout(0.2),\n",
    "    tf.keras.layers.Dense(128, activation='relu'),\n",
    "    tf.keras.layers.Dense(1, activation='sigmoid')\n",
    "]);\n",
    "\n",
    "loss_fn = tf.keras.losses.BinaryCrossentropy()\n",
    "model.compile(\n",
    "    optimizer='adam',\n",
    "    loss=loss_fn,\n",
    "    metrics=['accuracy']\n",
    ")\n",
    "\n",
    "batch_size = 1000\n",
    "\n",
    "checkpoint_path = \"tutorial/checkpoints/cp.ckpt\"\n",
    "checkpoint_dir = os.path.dirname(checkpoint_path)\n",
    "\n",
    "# Create a callback that saves the model's weights\n",
    "cp_callback = tf.keras.callbacks.ModelCheckpoint(\n",
    "    filepath=checkpoint_path,\n",
    "    save_weights_only=True,\n",
    "    verbose=1,\n",
    "    save_freq=10*batch_size\n",
    ")\n",
    "\n",
    "log_dir = \"tutorial/logs/\" + datetime.datetime.now().strftime(\"%Y%m%d-%H%M%S\")\n",
    "tensorboard_callback = tf.keras.callbacks.TensorBoard(log_dir=log_dir, histogram_freq=1)\n",
    "\n",
    "EPOCHS=10\n",
    "model.fit(\n",
    "    x_train, y_train, epochs=EPOCHS,\n",
    "    batch_size=batch_size,\n",
    "    callbacks=[cp_callback, tensorboard_callback]\n",
    ");\n",
    "\n",
    "model.save('3dmodels/' + name)"
   ]
  },
  {
   "cell_type": "code",
   "execution_count": 16,
   "id": "88a0a775",
   "metadata": {},
   "outputs": [],
   "source": [
    "model = tf.keras.models.load_model('3dmodels/' + name)"
   ]
  }
 ],
 "metadata": {
  "kernelspec": {
   "display_name": "Python 3 (ipykernel)",
   "language": "python",
   "name": "python3"
  },
  "language_info": {
   "codemirror_mode": {
    "name": "ipython",
    "version": 3
   },
   "file_extension": ".py",
   "mimetype": "text/x-python",
   "name": "python",
   "nbconvert_exporter": "python",
   "pygments_lexer": "ipython3",
   "version": "3.9.13"
  }
 },
 "nbformat": 4,
 "nbformat_minor": 5
}
