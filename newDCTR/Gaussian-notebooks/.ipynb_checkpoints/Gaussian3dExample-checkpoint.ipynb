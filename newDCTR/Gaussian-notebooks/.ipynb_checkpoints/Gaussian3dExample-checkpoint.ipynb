{
 "cells": [
  {
   "cell_type": "markdown",
   "metadata": {},
   "source": [
    "# Introduction"
   ]
  },
  {
   "cell_type": "markdown",
   "metadata": {},
   "source": [
    "This notebook illustrates a parametrized classifier trained on a Gaussian example with a two-dimensional (spherical) family of parameters.\n",
    "\n",
    "It will cover how to:\n",
    "\n",
    "- train a classifier to distinguish between samples drawn from the \"background\" Gaussian distribution, $\\mathcal{N}\\left(\\left[\\begin{matrix}0 \\\\ 0 \\end{matrix}\\right], \\left[\\begin{matrix}1 & 0\\\\0 & 1 \\end{matrix}\\right]\\right)$ and the \"signal\" Gaussian distribution, $\\mathcal{N}\\left(\\left[\\begin{matrix}\\mu(\\theta,\\phi) \\\\ 0 \\end{matrix}\\right], \\left[\\begin{matrix}\\nu_1(\\theta,\\phi) & 0\\\\0 & \\nu_2(\\theta,\\phi) \\end{matrix}\\right]\\right) = \\mathcal{N}\\left(\\left[\\begin{matrix} \\frac{1-\\cos\\phi}{2} \\\\ 0 \\end{matrix}\\right], \\left[\\begin{matrix} \\frac{2-\\cos\\theta\\sin\\phi}{2} & 0\\\\0 & \\frac{2-\\cos\\theta\\sin\\phi}{2} \\end{matrix}\\right]\\right)$ \n",
    "\n",
    "- use a parametried classifier to infer what pair ($\\theta, \\phi$) a sample was created with. "
   ]
  },
  {
   "cell_type": "markdown",
   "metadata": {},
   "source": [
    "## Imports"
   ]
  },
  {
   "cell_type": "code",
   "execution_count": 1,
   "metadata": {},
   "outputs": [
    {
     "name": "stdout",
     "output_type": "stream",
     "text": [
      "['/Users/matangrinberg/Library/CloudStorage/GoogleDrive-matan.grinberg@gmail.com/My Drive/(21-24) University of California, Berkeley/ML HEP/parametrized-classifiers/newDCTR/Gaussian-notebooks', '/opt/anaconda3/envs/pc/lib/python310.zip', '/opt/anaconda3/envs/pc/lib/python3.10', '/opt/anaconda3/envs/pc/lib/python3.10/lib-dynload', '', '/opt/anaconda3/envs/pc/lib/python3.10/site-packages', '/opt/anaconda3/envs/pc/lib/python3.10/site-packages/PyYAML-6.0-py3.10-macosx-10.9-x86_64.egg', '/Users/matangrinberg/Library/CloudStorage/GoogleDrive-matan.grinberg@gmail.com/My Drive/(21-24) University of California, Berkeley/ML HEP/parametrized-classifiers']\n"
     ]
    }
   ],
   "source": [
    "import os, sys\n",
    "\n",
    "sys.path.append(os.path.abspath(os.path.join('..', '..')))\n",
    "\n",
    "print(sys.path)"
   ]
  },
  {
   "cell_type": "code",
   "execution_count": 24,
   "metadata": {},
   "outputs": [],
   "source": [
    "# # standard library imports\n",
    "# from __future__ import absolute_import, division, print_function\n",
    "\n",
    "# # from tensorflow.keras.layers import Lambda, Layer, Dropout\n",
    "# # from tensorflow.keras.utils import to_categorical\n",
    "# # from tensorflow.keras.callbacks import EarlyStopping, LambdaCallback\n",
    "# # from tensorflow.keras.initializers import Constant\n",
    "# # from tensorflow.keras.backend import concatenate\n",
    "\n",
    "import numpy as np\n",
    "import datetime\n",
    "import sklearn.metrics\n",
    "import matplotlib.pyplot as plt\n",
    "from sklearn.model_selection import train_test_split\n",
    "import tensorflow as tf\n",
    "from scipy.stats import chi\n",
    "from scipy import stats\n",
    "from tensorflow.keras.layers import Input, Dense\n",
    "from tensorflow.keras.models import Model, Sequential\n",
    "import utils\n",
    "from utils.functions import mean_gen, varx_gen, vary_gen, spherical_data, test_on_integers, discrete_angles\n",
    "from utils.functions import learn_parameters, likelihood_ratio, compare_learning, compare_learning_thorough\n",
    "from tensorflow.python.framework.ops import disable_eager_execution"
   ]
  },
  {
   "cell_type": "markdown",
   "metadata": {},
   "source": [
    "# Building the interpolated model through sampling the parameter sphere"
   ]
  },
  {
   "cell_type": "markdown",
   "metadata": {},
   "source": [
    "## Generating Data"
   ]
  },
  {
   "cell_type": "code",
   "execution_count": 10,
   "metadata": {},
   "outputs": [],
   "source": [
    "n = 200000\n",
    "\n",
    "n_th = 50 # number of discrete random thetas to sample in range (0, 2 * pi)\n",
    "n_ph = 50 # number of discrete random phis to sample in range (0, pi)\n",
    "thetas = discrete_angles(n, n_th, 2)\n",
    "phis = discrete_angles(n, n_ph, 1)\n",
    "name = ('discrete_model_mth%.0f_mph%.0f' %(n_th, n_ph))\n",
    "\n",
    "x_train, x_test, y_train, y_test = spherical_data(n, thetas, phis)"
   ]
  },
  {
   "cell_type": "markdown",
   "metadata": {},
   "source": [
    "## Training Interpolated Model"
   ]
  },
  {
   "cell_type": "code",
   "execution_count": 12,
   "metadata": {},
   "outputs": [
    {
     "name": "stdout",
     "output_type": "stream",
     "text": [
      "Epoch 1/30\n",
      "64/64 [==============================] - 1s 6ms/step - loss: 0.6516 - accuracy: 0.6035\n",
      "Epoch 2/30\n",
      "64/64 [==============================] - 0s 6ms/step - loss: 0.6422 - accuracy: 0.6122\n",
      "Epoch 3/30\n",
      "64/64 [==============================] - 0s 6ms/step - loss: 0.6405 - accuracy: 0.6133\n",
      "Epoch 4/30\n",
      "64/64 [==============================] - 0s 6ms/step - loss: 0.6397 - accuracy: 0.6133\n",
      "Epoch 5/30\n",
      "64/64 [==============================] - 0s 6ms/step - loss: 0.6386 - accuracy: 0.6149\n",
      "Epoch 6/30\n",
      "64/64 [==============================] - 0s 6ms/step - loss: 0.6381 - accuracy: 0.6139\n",
      "Epoch 7/30\n",
      "64/64 [==============================] - 0s 6ms/step - loss: 0.6380 - accuracy: 0.6146\n",
      "Epoch 8/30\n",
      "64/64 [==============================] - 0s 7ms/step - loss: 0.6374 - accuracy: 0.6159\n",
      "Epoch 9/30\n",
      "64/64 [==============================] - 0s 6ms/step - loss: 0.6369 - accuracy: 0.6161\n",
      "Epoch 10/30\n",
      "64/64 [==============================] - 0s 6ms/step - loss: 0.6365 - accuracy: 0.6173\n",
      "Epoch 11/30\n",
      "64/64 [==============================] - 0s 6ms/step - loss: 0.6365 - accuracy: 0.6177\n",
      "Epoch 12/30\n",
      "64/64 [==============================] - 0s 6ms/step - loss: 0.6363 - accuracy: 0.6177\n",
      "Epoch 13/30\n",
      "64/64 [==============================] - 0s 6ms/step - loss: 0.6361 - accuracy: 0.6186\n",
      "Epoch 14/30\n",
      "64/64 [==============================] - 0s 6ms/step - loss: 0.6360 - accuracy: 0.6181\n",
      "Epoch 15/30\n",
      "64/64 [==============================] - 0s 6ms/step - loss: 0.6358 - accuracy: 0.6190\n",
      "Epoch 16/30\n",
      "64/64 [==============================] - 0s 6ms/step - loss: 0.6359 - accuracy: 0.6190\n",
      "Epoch 17/30\n",
      "64/64 [==============================] - 0s 6ms/step - loss: 0.6356 - accuracy: 0.6187\n",
      "Epoch 18/30\n",
      "64/64 [==============================] - 0s 6ms/step - loss: 0.6354 - accuracy: 0.6194\n",
      "Epoch 19/30\n",
      "64/64 [==============================] - 0s 6ms/step - loss: 0.6353 - accuracy: 0.6193\n",
      "Epoch 20/30\n",
      "64/64 [==============================] - 0s 6ms/step - loss: 0.6355 - accuracy: 0.6186\n",
      "Epoch 21/30\n",
      "64/64 [==============================] - 0s 6ms/step - loss: 0.6353 - accuracy: 0.6195\n",
      "Epoch 22/30\n",
      "64/64 [==============================] - 0s 6ms/step - loss: 0.6353 - accuracy: 0.6193\n",
      "Epoch 23/30\n",
      "64/64 [==============================] - 0s 6ms/step - loss: 0.6352 - accuracy: 0.6195\n",
      "Epoch 24/30\n",
      "64/64 [==============================] - 0s 6ms/step - loss: 0.6351 - accuracy: 0.6195\n",
      "Epoch 25/30\n",
      "64/64 [==============================] - 0s 6ms/step - loss: 0.6351 - accuracy: 0.6196\n",
      "Epoch 26/30\n",
      "64/64 [==============================] - 0s 6ms/step - loss: 0.6350 - accuracy: 0.6198\n",
      "Epoch 27/30\n",
      "64/64 [==============================] - 0s 6ms/step - loss: 0.6349 - accuracy: 0.6202\n",
      "Epoch 28/30\n",
      "64/64 [==============================] - 0s 6ms/step - loss: 0.6349 - accuracy: 0.6196\n",
      "Epoch 29/30\n",
      "64/64 [==============================] - 0s 6ms/step - loss: 0.6349 - accuracy: 0.6197\n",
      "Epoch 30/30\n",
      "64/64 [==============================] - 0s 6ms/step - loss: 0.6348 - accuracy: 0.6200\n",
      "INFO:tensorflow:Assets written to: 3dmodels/discrete_model_mth50_mph50/assets\n"
     ]
    }
   ],
   "source": [
    "model = tf.keras.models.Sequential([\n",
    "    tf.keras.layers.Dense(128, activation='relu'),\n",
    "    tf.keras.layers.Dropout(0.2),\n",
    "    tf.keras.layers.Dense(128, activation='relu'),\n",
    "    tf.keras.layers.Dense(1, activation='sigmoid')\n",
    "]);\n",
    "\n",
    "loss_fn = tf.keras.losses.BinaryCrossentropy()\n",
    "model.compile(optimizer='adam', loss=loss_fn, metrics=['accuracy'])\n",
    "\n",
    "batch_size = 5000\n",
    "\n",
    "checkpoint_path = \"checkpoints/cp.ckpt\"\n",
    "checkpoint_dir = os.path.dirname(checkpoint_path)\n",
    "\n",
    "# Create a callback that saves the model's weights\n",
    "cp_callback = tf.keras.callbacks.ModelCheckpoint(\n",
    "    filepath=checkpoint_path,\n",
    "    save_weights_only=True,\n",
    "    verbose=1,\n",
    "    save_freq=10*batch_size\n",
    ")\n",
    "\n",
    "log_dir = \"logs/\" + datetime.datetime.now().strftime(\"%Y%m%d-%H%M%S\")\n",
    "tensorboard_callback = tf.keras.callbacks.TensorBoard(log_dir=log_dir, histogram_freq=1)\n",
    "\n",
    "EPOCHS=30\n",
    "model.fit(\n",
    "    x_train, y_train, epochs=EPOCHS,\n",
    "    batch_size=batch_size,\n",
    "    callbacks=[cp_callback, tensorboard_callback]\n",
    ");\n",
    "\n",
    "model.save('3dmodels/' + name)"
   ]
  },
  {
   "cell_type": "markdown",
   "metadata": {
    "tags": []
   },
   "source": [
    "# Learning a single point $(\\theta, \\phi)$ on the parameter sphere from data"
   ]
  },
  {
   "cell_type": "markdown",
   "metadata": {},
   "source": [
    "## Generating Data"
   ]
  },
  {
   "cell_type": "code",
   "execution_count": 13,
   "metadata": {},
   "outputs": [],
   "source": [
    "# Generate Data from a single point on the parameter sphere\n",
    "seed = 44444\n",
    "n = 10000\n",
    "theta = 2.45\n",
    "phi = 1.21\n",
    "thetas, phis = theta * np.ones(n), phi * np.ones(n)\n",
    "x_train, x_test, y_train, y_test = spherical_data(n, thetas, phis, seed)\n",
    "x_inputs = x_train[:, 0:2]\n",
    "\n",
    "# Likelihood Ratio of Data\n",
    "l_out = likelihood_ratio(x_train)"
   ]
  },
  {
   "cell_type": "markdown",
   "metadata": {},
   "source": [
    "## Build Likelihood Model Parameter-Finder (for benchmark)"
   ]
  },
  {
   "cell_type": "code",
   "execution_count": 19,
   "metadata": {},
   "outputs": [],
   "source": [
    "# Kernel Initializer\n",
    "s = tf.convert_to_tensor([1.]).shape\n",
    "res = tf.random.uniform(s, maxval=2*np.pi, seed=seed), tf.random.uniform(s, maxval=np.pi, seed=seed)\n",
    "def my_init(shape, dtype=None):\n",
    "    return tf.transpose(tf.convert_to_tensor(res))\n",
    "\n",
    "# Likelihood Model\n",
    "\n",
    "loss_fn0 = tf.keras.losses.BinaryCrossentropy()\n",
    "\n",
    "# Building model_angles which is used to train (theta, phi)\n",
    "inputs_hold0 = tf.keras.Input(shape=(1,))\n",
    "simple_linear0 = Dense(2, use_bias = False, kernel_initializer=my_init)(inputs_hold0)\n",
    "model_angles0 = Model(inputs = inputs_hold0, outputs = simple_linear0)\n",
    "\n",
    "# Building model_parmafinder, inputs, which takes the (x, y) and finds the best (theta, phi)\n",
    "raw_inputs0 = tf.keras.Input(shape=(2,))\n",
    "inputs0 = tf.keras.layers.concatenate([raw_inputs0, model_angles0(tf.ones_like(raw_inputs0)[:,0:1])])\n",
    "output0 = likelihood_ratio(inputs0)\n",
    "\n",
    "model_paramfinder = Model(inputs = raw_inputs0, outputs = output0)\n",
    "model_paramfinder.compile(loss=loss_fn0, optimizer='Adam')"
   ]
  },
  {
   "cell_type": "markdown",
   "metadata": {},
   "source": [
    "## Build Interpolated Model Parameter-Finder"
   ]
  },
  {
   "cell_type": "code",
   "execution_count": 20,
   "metadata": {},
   "outputs": [],
   "source": [
    "# Loading Previously Trained Interpolated Model \n",
    "model_interpolate = tf.keras.models.load_model('3dmodels/discrete_model_mth50_mph50')\n",
    "for l in model_interpolate.layers:\n",
    "    l.trainable=False\n",
    "    \n",
    "loss_fn = tf.keras.losses.BinaryCrossentropy()\n",
    "\n",
    "# Building model_angles which is used to train (theta, phi)\n",
    "inputs_hold = tf.keras.Input(shape=(1,))\n",
    "simple_linear = Dense(2, use_bias = False, kernel_initializer=my_init)(inputs_hold)\n",
    "model_angles = Model(inputs = inputs_hold, outputs = simple_linear)\n",
    "\n",
    "# Building model_parmafinder, inputs, which takes the (x, y) and finds the best (theta, phi)\n",
    "raw_inputs = tf.keras.Input(shape=(2,))\n",
    "inputs = tf.keras.layers.concatenate([raw_inputs, model_angles(tf.ones_like(raw_inputs)[:,0:1])])\n",
    "output = model_interpolate(inputs)\n",
    "\n",
    "model_interpolate_paramfinder = Model(inputs = raw_inputs, outputs = output)\n",
    "model_interpolate_paramfinder.compile(loss=loss_fn, optimizer='Adam')"
   ]
  },
  {
   "cell_type": "markdown",
   "metadata": {},
   "source": [
    "## Train and Compare Models"
   ]
  },
  {
   "cell_type": "code",
   "execution_count": 25,
   "metadata": {
    "scrolled": true
   },
   "outputs": [
    {
     "name": "stdout",
     "output_type": "stream",
     "text": [
      "Initialized at  tf.Tensor([2.4428337 1.1313941], shape=(2,), dtype=float32) tf.Tensor([2.2758543 1.141694 ], shape=(2,), dtype=float32)\n",
      "54/54 [==============================] - 0s 799us/step - loss: 0.6723\n",
      "54/54 [==============================] - 0s 1ms/step - loss: 0.6748\n",
      "0 Fitted result 1:  tf.Tensor([2.4407887 1.1325753], shape=(2,), dtype=float32)\n",
      "0 Fitted result 2:  tf.Tensor([2.2837365 1.133767 ], shape=(2,), dtype=float32)\n",
      "54/54 [==============================] - 0s 762us/step - loss: 0.6723\n",
      "54/54 [==============================] - 0s 1ms/step - loss: 0.6746\n",
      "1 Fitted result 1:  tf.Tensor([2.4438183 1.1340665], shape=(2,), dtype=float32)\n",
      "1 Fitted result 2:  tf.Tensor([2.2816005 1.1374898], shape=(2,), dtype=float32)\n",
      "54/54 [==============================] - 0s 731us/step - loss: 0.6723\n",
      "54/54 [==============================] - 0s 1ms/step - loss: 0.6744\n",
      "2 Fitted result 1:  tf.Tensor([2.443003  1.1365491], shape=(2,), dtype=float32)\n",
      "2 Fitted result 2:  tf.Tensor([2.281788  1.1356468], shape=(2,), dtype=float32)\n",
      "54/54 [==============================] - 0s 748us/step - loss: 0.6723\n",
      "54/54 [==============================] - 0s 1ms/step - loss: 0.6746\n",
      "3 Fitted result 1:  tf.Tensor([2.440144  1.1370623], shape=(2,), dtype=float32)\n",
      "3 Fitted result 2:  tf.Tensor([2.2840059 1.1360922], shape=(2,), dtype=float32)\n",
      "54/54 [==============================] - 0s 791us/step - loss: 0.6723\n",
      "54/54 [==============================] - 0s 1ms/step - loss: 0.6745\n",
      "4 Fitted result 1:  tf.Tensor([2.442151  1.1300963], shape=(2,), dtype=float32)\n",
      "4 Fitted result 2:  tf.Tensor([2.282603  1.1369146], shape=(2,), dtype=float32)\n",
      "54/54 [==============================] - 0s 789us/step - loss: 0.6723\n",
      "54/54 [==============================] - 0s 1ms/step - loss: 0.6749\n",
      "5 Fitted result 1:  tf.Tensor([2.4385355 1.1365148], shape=(2,), dtype=float32)\n",
      "5 Fitted result 2:  tf.Tensor([2.2845707 1.1364558], shape=(2,), dtype=float32)\n",
      "54/54 [==============================] - 0s 772us/step - loss: 0.6723\n",
      "54/54 [==============================] - 0s 1ms/step - loss: 0.6744\n",
      "6 Fitted result 1:  tf.Tensor([2.443118  1.1345129], shape=(2,), dtype=float32)\n",
      "6 Fitted result 2:  tf.Tensor([2.2865446 1.1353719], shape=(2,), dtype=float32)\n",
      "54/54 [==============================] - 0s 768us/step - loss: 0.6723\n",
      "54/54 [==============================] - 0s 1ms/step - loss: 0.6742\n",
      "7 Fitted result 1:  tf.Tensor([2.442285  1.1338134], shape=(2,), dtype=float32)\n",
      "7 Fitted result 2:  tf.Tensor([2.281497  1.1372947], shape=(2,), dtype=float32)\n",
      "54/54 [==============================] - 0s 851us/step - loss: 0.6723\n",
      "54/54 [==============================] - 0s 1ms/step - loss: 0.6746\n",
      "8 Fitted result 1:  tf.Tensor([2.4434586 1.1341404], shape=(2,), dtype=float32)\n",
      "8 Fitted result 2:  tf.Tensor([2.2840464 1.1384377], shape=(2,), dtype=float32)\n",
      "54/54 [==============================] - 0s 781us/step - loss: 0.6723\n",
      "54/54 [==============================] - 0s 1ms/step - loss: 0.6748\n",
      "9 Fitted result 1:  tf.Tensor([2.4415076 1.1333447], shape=(2,), dtype=float32)\n",
      "9 Fitted result 2:  tf.Tensor([2.2790995 1.1375163], shape=(2,), dtype=float32)\n",
      "54/54 [==============================] - 0s 788us/step - loss: 0.6723\n",
      "54/54 [==============================] - 0s 1ms/step - loss: 0.6750\n",
      "10 Fitted result 1:  tf.Tensor([2.4426723 1.1347865], shape=(2,), dtype=float32)\n",
      "10 Fitted result 2:  tf.Tensor([2.2864866 1.1357943], shape=(2,), dtype=float32)\n",
      "54/54 [==============================] - 0s 786us/step - loss: 0.6723\n",
      "54/54 [==============================] - 0s 1ms/step - loss: 0.6744\n",
      "11 Fitted result 1:  tf.Tensor([2.4432526 1.1324927], shape=(2,), dtype=float32)\n",
      "11 Fitted result 2:  tf.Tensor([2.2857394 1.1369487], shape=(2,), dtype=float32)\n",
      "54/54 [==============================] - 0s 717us/step - loss: 0.6723\n",
      "54/54 [==============================] - 0s 1ms/step - loss: 0.6749\n",
      "12 Fitted result 1:  tf.Tensor([2.442361  1.1338365], shape=(2,), dtype=float32)\n",
      "12 Fitted result 2:  tf.Tensor([2.2812488 1.1372334], shape=(2,), dtype=float32)\n",
      "54/54 [==============================] - 0s 761us/step - loss: 0.6723\n",
      "54/54 [==============================] - 0s 1ms/step - loss: 0.6746\n",
      "13 Fitted result 1:  tf.Tensor([2.441893 1.130978], shape=(2,), dtype=float32)\n",
      "13 Fitted result 2:  tf.Tensor([2.2844956 1.139407 ], shape=(2,), dtype=float32)\n",
      "54/54 [==============================] - 0s 774us/step - loss: 0.6723\n",
      "54/54 [==============================] - 0s 1ms/step - loss: 0.6745\n",
      "14 Fitted result 1:  tf.Tensor([2.4411361 1.135456 ], shape=(2,), dtype=float32)\n",
      "14 Fitted result 2:  tf.Tensor([2.285042  1.1379793], shape=(2,), dtype=float32)\n",
      "54/54 [==============================] - 0s 759us/step - loss: 0.6723\n",
      "54/54 [==============================] - 0s 1ms/step - loss: 0.6748\n",
      "15 Fitted result 1:  tf.Tensor([2.4405377 1.1340708], shape=(2,), dtype=float32)\n",
      "15 Fitted result 2:  tf.Tensor([2.287123  1.1364461], shape=(2,), dtype=float32)\n",
      "54/54 [==============================] - 0s 762us/step - loss: 0.6723\n",
      "54/54 [==============================] - 0s 1ms/step - loss: 0.6744\n",
      "16 Fitted result 1:  tf.Tensor([2.4439683 1.1332668], shape=(2,), dtype=float32)\n",
      "16 Fitted result 2:  tf.Tensor([2.2875245 1.1411681], shape=(2,), dtype=float32)\n",
      "54/54 [==============================] - 0s 780us/step - loss: 0.6723\n",
      "54/54 [==============================] - 0s 1ms/step - loss: 0.6741\n",
      "17 Fitted result 1:  tf.Tensor([2.4442205 1.1303596], shape=(2,), dtype=float32)\n",
      "17 Fitted result 2:  tf.Tensor([2.2859485 1.1462615], shape=(2,), dtype=float32)\n",
      "54/54 [==============================] - 0s 798us/step - loss: 0.6723\n",
      "54/54 [==============================] - 0s 1ms/step - loss: 0.6745\n",
      "18 Fitted result 1:  tf.Tensor([2.4424505 1.1318352], shape=(2,), dtype=float32)\n",
      "18 Fitted result 2:  tf.Tensor([2.2842503 1.141526 ], shape=(2,), dtype=float32)\n",
      "54/54 [==============================] - 0s 796us/step - loss: 0.6723\n",
      "54/54 [==============================] - 0s 1ms/step - loss: 0.6747\n",
      "19 Fitted result 1:  tf.Tensor([2.443604  1.1357343], shape=(2,), dtype=float32)\n",
      "19 Fitted result 2:  tf.Tensor([2.284346  1.1365758], shape=(2,), dtype=float32)\n",
      "54/54 [==============================] - 0s 828us/step - loss: 0.6723\n",
      "54/54 [==============================] - 0s 1ms/step - loss: 0.6746\n",
      "20 Fitted result 1:  tf.Tensor([2.443874 1.134545], shape=(2,), dtype=float32)\n",
      "20 Fitted result 2:  tf.Tensor([2.2869844 1.1389202], shape=(2,), dtype=float32)\n",
      "54/54 [==============================] - 0s 759us/step - loss: 0.6723\n",
      "54/54 [==============================] - 0s 1ms/step - loss: 0.6742\n",
      "21 Fitted result 1:  tf.Tensor([2.4431171 1.1343951], shape=(2,), dtype=float32)\n",
      "21 Fitted result 2:  tf.Tensor([2.2866027 1.1341724], shape=(2,), dtype=float32)\n",
      "54/54 [==============================] - 0s 775us/step - loss: 0.6723\n",
      "54/54 [==============================] - 0s 1ms/step - loss: 0.6748\n",
      "22 Fitted result 1:  tf.Tensor([2.4439065 1.1313063], shape=(2,), dtype=float32)\n",
      "22 Fitted result 2:  tf.Tensor([2.285864  1.1370113], shape=(2,), dtype=float32)\n",
      "54/54 [==============================] - 0s 801us/step - loss: 0.6723\n",
      "54/54 [==============================] - 0s 1ms/step - loss: 0.6750\n",
      "23 Fitted result 1:  tf.Tensor([2.44249  1.132493], shape=(2,), dtype=float32)\n",
      "23 Fitted result 2:  tf.Tensor([2.2842703 1.135539 ], shape=(2,), dtype=float32)\n",
      "54/54 [==============================] - 0s 804us/step - loss: 0.6723\n",
      "54/54 [==============================] - 0s 1ms/step - loss: 0.6748\n",
      "24 Fitted result 1:  tf.Tensor([2.4429822 1.1347048], shape=(2,), dtype=float32)\n",
      "24 Fitted result 2:  tf.Tensor([2.2886016 1.1347362], shape=(2,), dtype=float32)\n",
      "54/54 [==============================] - 0s 831us/step - loss: 0.6723\n",
      "54/54 [==============================] - 0s 1ms/step - loss: 0.6746\n",
      "25 Fitted result 1:  tf.Tensor([2.4451997 1.1353829], shape=(2,), dtype=float32)\n",
      "25 Fitted result 2:  tf.Tensor([2.2872872 1.1385587], shape=(2,), dtype=float32)\n",
      "54/54 [==============================] - 0s 1ms/step - loss: 0.6723\n",
      "54/54 [==============================] - 0s 1ms/step - loss: 0.6751\n",
      "26 Fitted result 1:  tf.Tensor([2.4446166 1.1352243], shape=(2,), dtype=float32)\n",
      "26 Fitted result 2:  tf.Tensor([2.2894642 1.1387467], shape=(2,), dtype=float32)\n",
      "54/54 [==============================] - 0s 761us/step - loss: 0.6723\n",
      "54/54 [==============================] - 0s 1ms/step - loss: 0.6747\n",
      "27 Fitted result 1:  tf.Tensor([2.4468684 1.1333101], shape=(2,), dtype=float32)\n",
      "27 Fitted result 2:  tf.Tensor([2.290578  1.1406904], shape=(2,), dtype=float32)\n",
      "54/54 [==============================] - 0s 816us/step - loss: 0.6723\n",
      "54/54 [==============================] - 0s 1ms/step - loss: 0.6743\n",
      "28 Fitted result 1:  tf.Tensor([2.4460335 1.132422 ], shape=(2,), dtype=float32)\n",
      "28 Fitted result 2:  tf.Tensor([2.2901888 1.1428317], shape=(2,), dtype=float32)\n",
      "54/54 [==============================] - 0s 822us/step - loss: 0.6723\n",
      "54/54 [==============================] - 0s 1ms/step - loss: 0.6740\n",
      "29 Fitted result 1:  tf.Tensor([2.4442108 1.1310843], shape=(2,), dtype=float32)\n",
      "29 Fitted result 2:  tf.Tensor([2.2893877 1.1374514], shape=(2,), dtype=float32)\n",
      "54/54 [==============================] - 0s 736us/step - loss: 0.6723\n",
      "54/54 [==============================] - 0s 1ms/step - loss: 0.6753\n",
      "30 Fitted result 1:  tf.Tensor([2.4464037 1.133348 ], shape=(2,), dtype=float32)\n",
      "30 Fitted result 2:  tf.Tensor([2.2918446 1.1343074], shape=(2,), dtype=float32)\n",
      "54/54 [==============================] - 0s 814us/step - loss: 0.6723\n",
      "54/54 [==============================] - 0s 1ms/step - loss: 0.6747\n",
      "31 Fitted result 1:  tf.Tensor([2.445298  1.1346657], shape=(2,), dtype=float32)\n",
      "31 Fitted result 2:  tf.Tensor([2.2905304 1.1362661], shape=(2,), dtype=float32)\n",
      "54/54 [==============================] - 0s 793us/step - loss: 0.6723\n",
      "54/54 [==============================] - 0s 1ms/step - loss: 0.6746\n",
      "32 Fitted result 1:  tf.Tensor([2.4442544 1.1378782], shape=(2,), dtype=float32)\n",
      "32 Fitted result 2:  tf.Tensor([2.2896292 1.132987 ], shape=(2,), dtype=float32)\n",
      "54/54 [==============================] - 0s 748us/step - loss: 0.6723\n",
      "54/54 [==============================] - 0s 1ms/step - loss: 0.6753\n",
      "33 Fitted result 1:  tf.Tensor([2.449446  1.1336161], shape=(2,), dtype=float32)\n",
      "33 Fitted result 2:  tf.Tensor([2.2911332 1.1317642], shape=(2,), dtype=float32)\n",
      "54/54 [==============================] - 0s 751us/step - loss: 0.6723\n",
      "54/54 [==============================] - 0s 1ms/step - loss: 0.6743\n",
      "34 Fitted result 1:  tf.Tensor([2.4458475 1.1368206], shape=(2,), dtype=float32)\n",
      "34 Fitted result 2:  tf.Tensor([2.2901917 1.1373893], shape=(2,), dtype=float32)\n",
      "54/54 [==============================] - 0s 728us/step - loss: 0.6723\n",
      "54/54 [==============================] - 0s 1ms/step - loss: 0.6742\n",
      "35 Fitted result 1:  tf.Tensor([2.4483817 1.1357477], shape=(2,), dtype=float32)\n",
      "35 Fitted result 2:  tf.Tensor([2.2858448 1.142864 ], shape=(2,), dtype=float32)\n",
      "54/54 [==============================] - 0s 795us/step - loss: 0.6723\n",
      "54/54 [==============================] - 0s 1ms/step - loss: 0.6744\n",
      "36 Fitted result 1:  tf.Tensor([2.4461405 1.1379076], shape=(2,), dtype=float32)\n",
      "36 Fitted result 2:  tf.Tensor([2.2845008 1.1437751], shape=(2,), dtype=float32)\n",
      "54/54 [==============================] - 0s 795us/step - loss: 0.6723\n",
      "54/54 [==============================] - 0s 1ms/step - loss: 0.6747\n",
      "37 Fitted result 1:  tf.Tensor([2.4473665 1.1359622], shape=(2,), dtype=float32)\n",
      "37 Fitted result 2:  tf.Tensor([2.2825892 1.1409171], shape=(2,), dtype=float32)\n",
      "54/54 [==============================] - 0s 822us/step - loss: 0.6723\n",
      "54/54 [==============================] - 0s 1ms/step - loss: 0.6746\n",
      "38 Fitted result 1:  tf.Tensor([2.449545  1.1338919], shape=(2,), dtype=float32)\n",
      "38 Fitted result 2:  tf.Tensor([2.2849119 1.1427586], shape=(2,), dtype=float32)\n",
      "54/54 [==============================] - 0s 1ms/step - loss: 0.6723\n",
      "54/54 [==============================] - 0s 1ms/step - loss: 0.6748\n",
      "39 Fitted result 1:  tf.Tensor([2.4472935 1.1363647], shape=(2,), dtype=float32)\n",
      "39 Fitted result 2:  tf.Tensor([2.2857382 1.1399343], shape=(2,), dtype=float32)\n",
      "54/54 [==============================] - 0s 784us/step - loss: 0.6723\n",
      "54/54 [==============================] - 0s 1ms/step - loss: 0.6750\n",
      "40 Fitted result 1:  tf.Tensor([2.447151  1.1332889], shape=(2,), dtype=float32)\n",
      "40 Fitted result 2:  tf.Tensor([2.2817638 1.1405982], shape=(2,), dtype=float32)\n",
      "54/54 [==============================] - 0s 729us/step - loss: 0.6723\n",
      "54/54 [==============================] - 0s 1ms/step - loss: 0.6744\n",
      "41 Fitted result 1:  tf.Tensor([2.4454246 1.1355742], shape=(2,), dtype=float32)\n",
      "41 Fitted result 2:  tf.Tensor([2.2857432 1.1426022], shape=(2,), dtype=float32)\n",
      "54/54 [==============================] - 0s 747us/step - loss: 0.6723\n",
      "54/54 [==============================] - 0s 1ms/step - loss: 0.6744\n",
      "42 Fitted result 1:  tf.Tensor([2.4466484 1.1349639], shape=(2,), dtype=float32)\n",
      "42 Fitted result 2:  tf.Tensor([2.2863014 1.1389859], shape=(2,), dtype=float32)\n",
      "54/54 [==============================] - 0s 851us/step - loss: 0.6723\n",
      "54/54 [==============================] - 0s 1ms/step - loss: 0.6747\n",
      "43 Fitted result 1:  tf.Tensor([2.4486837 1.1341087], shape=(2,), dtype=float32)\n",
      "43 Fitted result 2:  tf.Tensor([2.2840145 1.1330067], shape=(2,), dtype=float32)\n",
      "54/54 [==============================] - 0s 875us/step - loss: 0.6723\n",
      "54/54 [==============================] - 0s 1ms/step - loss: 0.6743\n",
      "44 Fitted result 1:  tf.Tensor([2.4423337 1.1314235], shape=(2,), dtype=float32)\n",
      "44 Fitted result 2:  tf.Tensor([2.2813463 1.1374155], shape=(2,), dtype=float32)\n",
      "54/54 [==============================] - 0s 810us/step - loss: 0.6723\n",
      "54/54 [==============================] - 0s 1ms/step - loss: 0.6746\n",
      "45 Fitted result 1:  tf.Tensor([2.4483712 1.1300626], shape=(2,), dtype=float32)\n",
      "45 Fitted result 2:  tf.Tensor([2.2845418 1.139629 ], shape=(2,), dtype=float32)\n",
      "54/54 [==============================] - 0s 767us/step - loss: 0.6723\n",
      "54/54 [==============================] - 0s 1ms/step - loss: 0.6746\n",
      "46 Fitted result 1:  tf.Tensor([2.4462667 1.133096 ], shape=(2,), dtype=float32)\n",
      "46 Fitted result 2:  tf.Tensor([2.2829533 1.1406716], shape=(2,), dtype=float32)\n",
      "54/54 [==============================] - 0s 751us/step - loss: 0.6723\n",
      "54/54 [==============================] - 0s 1ms/step - loss: 0.6750\n",
      "47 Fitted result 1:  tf.Tensor([2.4456565 1.1317365], shape=(2,), dtype=float32)\n",
      "47 Fitted result 2:  tf.Tensor([2.2820065 1.1388899], shape=(2,), dtype=float32)\n",
      "54/54 [==============================] - 0s 790us/step - loss: 0.6723\n",
      "54/54 [==============================] - 0s 1ms/step - loss: 0.6742\n",
      "48 Fitted result 1:  tf.Tensor([2.4450345 1.1311241], shape=(2,), dtype=float32)\n",
      "48 Fitted result 2:  tf.Tensor([2.2796178 1.1393726], shape=(2,), dtype=float32)\n",
      "54/54 [==============================] - 0s 732us/step - loss: 0.6723\n",
      "54/54 [==============================] - 0s 1ms/step - loss: 0.6747\n",
      "49 Fitted result 1:  tf.Tensor([2.4476295 1.1300424], shape=(2,), dtype=float32)\n",
      "49 Fitted result 2:  tf.Tensor([2.2792592 1.1410562], shape=(2,), dtype=float32)\n"
     ]
    },
    {
     "data": {
      "image/png": "[encoded data removed]",
      "text/plain": [
       "<Figure size 640x480 with 1 Axes>"
      ]
     },
     "metadata": {},
     "output_type": "display_data"
    }
   ],
   "source": [
    "epochs, iterations, batch_size = 1, 50, 300\n",
    "\n",
    "# # Likelihood Stats\n",
    "# weights0 = learn_parameters(model_paramfinder, x_train, y_train, iterations, epochs, batch_size)\n",
    "# angle_errors0 = (angles - weights0) / angles\n",
    "# average_error0 = np.sum(np.abs(angle_errors0)) / 2\n",
    "\n",
    "\n",
    "# Comparing\n",
    "angles = np.array([theta, phi])\n",
    "list1, list2 = compare_learning(model_paramfinder, model_interpolate_paramfinder, angles,\n",
    "                                      x_train, y_train, iterations, epochs, batch_size)"
   ]
  },
  {
   "cell_type": "markdown",
   "metadata": {},
   "source": [
    "## Validate"
   ]
  },
  {
   "cell_type": "code",
   "execution_count": 6,
   "metadata": {},
   "outputs": [],
   "source": [
    "X0_val = np.random.normal(mu0, var0, n_data_points)\n",
    "X1_val = np.random.normal(mu1, var1, n_data_points)"
   ]
  },
  {
   "cell_type": "code",
   "execution_count": 7,
   "metadata": {},
   "outputs": [],
   "source": [
    "preds = model.predict(X0_val)\n",
    "weights = preds[:,1]/preds[:,0]"
   ]
  },
  {
   "cell_type": "code",
   "execution_count": 8,
   "metadata": {},
   "outputs": [
    {
     "data": {
      "image/png": "[encoded data removed]",
      "text/plain": [
       "<Figure size 432x288 with 1 Axes>"
      ]
     },
     "metadata": {
      "needs_background": "light"
     },
     "output_type": "display_data"
    }
   ],
   "source": [
    "bins = np.linspace(-6,5,31)\n",
    "plt.hist(X0_val, bins = bins, alpha = 0.5, label = r'$\\mu=0$')\n",
    "plt.hist(X0_val, bins = bins, label = r'$\\mu=0$ weighted', weights=weights, histtype='step', color='k')\n",
    "plt.hist(X1_val, bins = bins, alpha = 0.5, label = r'$\\mu=1$')\n",
    "plt.legend()\n",
    "plt.show()"
   ]
  },
  {
   "cell_type": "markdown",
   "metadata": {},
   "source": [
    "The reweighted $\\mu=0$ dataset matches the $\\mu=1$!"
   ]
  },
  {
   "cell_type": "markdown",
   "metadata": {
    "jp-MarkdownHeadingCollapsed": true,
    "tags": []
   },
   "source": [
    "# Reweighting $\\mathcal{N}(0, 1)$ to $\\mathcal{N}(\\mu, 1)$ with one model for any $\\mu$"
   ]
  },
  {
   "cell_type": "markdown",
   "metadata": {},
   "source": [
    "We will now parametrize our network by giving it a $\\mu$ value in addition to $X_i\\sim\\mathcal{N}(\\mu, 1)$.\n",
    "\n",
    "First we uniformly sample $\\mu$ values in some range"
   ]
  },
  {
   "cell_type": "code",
   "execution_count": 9,
   "metadata": {},
   "outputs": [],
   "source": [
    "n_data_points = 10**5\n",
    "mu_min = -2\n",
    "mu_max = 2\n",
    "mu_values = np.random.uniform(mu_min, mu_max, n_data_points)"
   ]
  },
  {
   "cell_type": "markdown",
   "metadata": {},
   "source": [
    "We then sample from normal distributions with this $\\mu$ value"
   ]
  },
  {
   "cell_type": "code",
   "execution_count": 10,
   "metadata": {},
   "outputs": [],
   "source": [
    "X0 = [(np.random.normal(0, 1), mu) for mu in mu_values] # Note the zero in normal(0, 1) \n",
    "X1 = [(np.random.normal(mu, 1), mu) for mu in mu_values]"
   ]
  },
  {
   "cell_type": "markdown",
   "metadata": {},
   "source": [
    "Please note that the samples in X0 are not paired with $\\mu=0$ as this would make the task trivial. \n",
    "\n",
    "Instead it is paired with the $\\mu$ values uniformly sampled in the specified range [mu_min, mu_max].\n",
    "\n",
    "For every value of $\\mu$ in mu_values, the network sees one event drawn from $\\mathcal{N}(0,1)$ and $\\mathcal{N}(\\mu,1)$, and it learns to classify them. \n",
    "\n",
    "I.e. we have one network that's parametrized by $\\mu$ that classifies between events from $\\mathcal{N}(0,1)$ and $\\mathcal{N}(\\mu,1)$, and a trained network will give us the likelihood ratio to reweight from one to another. "
   ]
  },
  {
   "cell_type": "code",
   "execution_count": 11,
   "metadata": {},
   "outputs": [],
   "source": [
    "Y0 = to_categorical(np.zeros(n_data_points), num_classes=2)\n",
    "Y1 = to_categorical(np.ones(n_data_points), num_classes=2)\n",
    "\n",
    "X = np.concatenate((X0, X1))\n",
    "Y = np.concatenate((Y0, Y1))\n",
    "\n",
    "X_train, X_test, Y_train, Y_test = train_test_split(X, Y, test_size=0.2)"
   ]
  },
  {
   "cell_type": "markdown",
   "metadata": {},
   "source": [
    "## Build Model"
   ]
  },
  {
   "cell_type": "code",
   "execution_count": 12,
   "metadata": {},
   "outputs": [],
   "source": [
    "inputs = Input((2,))\n",
    "hidden_layer_1 = Dense(50, activation='relu')(inputs)\n",
    "hidden_layer_2 = Dense(50, activation='relu')(hidden_layer_1)\n",
    "hidden_layer_3 = Dense(50, activation='relu')(hidden_layer_2)\n",
    "\n",
    "outputs = Dense(2, activation='softmax')(hidden_layer_3)\n",
    "\n",
    "dctr_model = Model(inputs = inputs, outputs = outputs)\n",
    "dctr_model.compile(loss='categorical_crossentropy', optimizer='Adam')"
   ]
  },
  {
   "cell_type": "markdown",
   "metadata": {},
   "source": [
    "## Train DCTR model"
   ]
  },
  {
   "cell_type": "code",
   "execution_count": 13,
   "metadata": {
    "scrolled": true
   },
   "outputs": [
    {
     "name": "stdout",
     "output_type": "stream",
     "text": [
      "Train on 160000 samples, validate on 40000 samples\n",
      "Epoch 1/200\n",
      "160000/160000 [==============================] - 0s 2us/sample - loss: 0.6467 - val_loss: 0.6095\n",
      "Epoch 2/200\n",
      "160000/160000 [==============================] - 0s 1us/sample - loss: 0.5881 - val_loss: 0.5738\n",
      "Epoch 3/200\n",
      "160000/160000 [==============================] - 0s 1us/sample - loss: 0.5705 - val_loss: 0.5703\n",
      "Epoch 4/200\n",
      "160000/160000 [==============================] - 0s 1us/sample - loss: 0.5680 - val_loss: 0.5686\n",
      "Epoch 5/200\n",
      "160000/160000 [==============================] - 0s 1us/sample - loss: 0.5667 - val_loss: 0.5679\n",
      "Epoch 6/200\n",
      "160000/160000 [==============================] - 0s 1us/sample - loss: 0.5657 - val_loss: 0.5674\n",
      "Epoch 7/200\n",
      "160000/160000 [==============================] - 0s 1us/sample - loss: 0.5650 - val_loss: 0.5666\n",
      "Epoch 8/200\n",
      "160000/160000 [==============================] - 0s 1us/sample - loss: 0.5640 - val_loss: 0.5652\n",
      "Epoch 9/200\n",
      "160000/160000 [==============================] - 0s 1us/sample - loss: 0.5632 - val_loss: 0.5646\n",
      "Epoch 10/200\n",
      "160000/160000 [==============================] - 0s 1us/sample - loss: 0.5625 - val_loss: 0.5641\n",
      "Epoch 11/200\n",
      "160000/160000 [==============================] - 0s 1us/sample - loss: 0.5622 - val_loss: 0.5639\n",
      "Epoch 12/200\n",
      "160000/160000 [==============================] - 0s 1us/sample - loss: 0.5617 - val_loss: 0.5635\n",
      "Epoch 13/200\n",
      "160000/160000 [==============================] - 0s 1us/sample - loss: 0.5614 - val_loss: 0.5630\n",
      "Epoch 14/200\n",
      "160000/160000 [==============================] - 0s 1us/sample - loss: 0.5612 - val_loss: 0.5635\n",
      "Epoch 15/200\n",
      "160000/160000 [==============================] - 0s 1us/sample - loss: 0.5611 - val_loss: 0.5630\n",
      "Epoch 16/200\n",
      "160000/160000 [==============================] - 0s 1us/sample - loss: 0.5608 - val_loss: 0.5629\n",
      "Epoch 17/200\n",
      "160000/160000 [==============================] - 0s 1us/sample - loss: 0.5607 - val_loss: 0.5631\n",
      "Epoch 18/200\n",
      "160000/160000 [==============================] - 0s 1us/sample - loss: 0.5607 - val_loss: 0.5630\n",
      "Epoch 19/200\n",
      "160000/160000 [==============================] - 0s 1us/sample - loss: 0.5609 - val_loss: 0.5629\n",
      "Epoch 20/200\n",
      "160000/160000 [==============================] - 0s 1us/sample - loss: 0.5607 - val_loss: 0.5627\n",
      "Epoch 21/200\n",
      "160000/160000 [==============================] - 0s 1us/sample - loss: 0.5607 - val_loss: 0.5637\n",
      "Epoch 22/200\n",
      "160000/160000 [==============================] - 0s 1us/sample - loss: 0.5608 - val_loss: 0.5632\n",
      "Epoch 23/200\n",
      "160000/160000 [==============================] - 0s 1us/sample - loss: 0.5604 - val_loss: 0.5628\n",
      "Epoch 24/200\n",
      "160000/160000 [==============================] - 0s 1us/sample - loss: 0.5604 - val_loss: 0.5631\n",
      "Epoch 25/200\n",
      "160000/160000 [==============================] - 0s 1us/sample - loss: 0.5605 - val_loss: 0.5627\n",
      "Epoch 26/200\n",
      "160000/160000 [==============================] - 0s 1us/sample - loss: 0.5604 - val_loss: 0.5626\n",
      "Epoch 27/200\n",
      "160000/160000 [==============================] - 0s 1us/sample - loss: 0.5605 - val_loss: 0.5628\n",
      "Epoch 28/200\n",
      "160000/160000 [==============================] - 0s 1us/sample - loss: 0.5607 - val_loss: 0.5626\n",
      "Epoch 29/200\n",
      "160000/160000 [==============================] - 0s 1us/sample - loss: 0.5603 - val_loss: 0.5625\n",
      "Epoch 30/200\n",
      "160000/160000 [==============================] - 0s 1us/sample - loss: 0.5602 - val_loss: 0.5627\n",
      "Epoch 31/200\n",
      "160000/160000 [==============================] - 0s 1us/sample - loss: 0.5602 - val_loss: 0.5627\n",
      "Epoch 32/200\n",
      "160000/160000 [==============================] - 0s 1us/sample - loss: 0.5602 - val_loss: 0.5626\n",
      "Epoch 33/200\n",
      "160000/160000 [==============================] - 0s 1us/sample - loss: 0.5603 - val_loss: 0.5634\n",
      "Epoch 34/200\n",
      "160000/160000 [==============================] - 0s 1us/sample - loss: 0.5605 - val_loss: 0.5631\n",
      "Epoch 35/200\n",
      "160000/160000 [==============================] - 0s 1us/sample - loss: 0.5603 - val_loss: 0.5625\n",
      "Epoch 36/200\n",
      "160000/160000 [==============================] - 0s 1us/sample - loss: 0.5603 - val_loss: 0.5627\n",
      "Epoch 37/200\n",
      "160000/160000 [==============================] - 0s 1us/sample - loss: 0.5603 - val_loss: 0.5627\n",
      "Epoch 38/200\n",
      "160000/160000 [==============================] - 0s 1us/sample - loss: 0.5602 - val_loss: 0.5631\n",
      "Epoch 39/200\n",
      "160000/160000 [==============================] - 0s 1us/sample - loss: 0.5604 - val_loss: 0.5630\n",
      "Epoch 40/200\n",
      "160000/160000 [==============================] - 0s 1us/sample - loss: 0.5602 - val_loss: 0.5627\n",
      "Epoch 41/200\n",
      "160000/160000 [==============================] - 0s 1us/sample - loss: 0.5601 - val_loss: 0.5625\n",
      "Epoch 42/200\n",
      "160000/160000 [==============================] - 0s 1us/sample - loss: 0.5602 - val_loss: 0.5626\n",
      "Epoch 43/200\n",
      "160000/160000 [==============================] - 0s 1us/sample - loss: 0.5604 - val_loss: 0.5626\n",
      "Epoch 44/200\n",
      "160000/160000 [==============================] - 0s 1us/sample - loss: 0.5601 - val_loss: 0.5628\n",
      "Epoch 45/200\n",
      "160000/160000 [==============================] - 0s 1us/sample - loss: 0.5602 - val_loss: 0.5628\n"
     ]
    },
    {
     "data": {
      "text/plain": [
       "<tensorflow.python.keras.callbacks.History at 0x107d016a0>"
      ]
     },
     "execution_count": 13,
     "metadata": {},
     "output_type": "execute_result"
    }
   ],
   "source": [
    "earlystopping = EarlyStopping(patience = 10,\n",
    "                              restore_best_weights=True)\n",
    "dctr_model.fit(X_train, Y_train, \n",
    "          epochs=200, \n",
    "          batch_size = 10000,\n",
    "          validation_data = (X_test, Y_test),\n",
    "          callbacks = [earlystopping])"
   ]
  },
  {
   "cell_type": "markdown",
   "metadata": {},
   "source": [
    "## Validate DCTR for any $\\mu$"
   ]
  },
  {
   "cell_type": "code",
   "execution_count": 14,
   "metadata": {},
   "outputs": [],
   "source": [
    "mu1 = -1.5\n",
    "assert mu1>=mu_min and mu1<=mu_max # choose mu1 in valid range\n",
    "\n",
    "X0_val = np.random.normal(0, 1, n_data_points)\n",
    "X1_val = np.random.normal(mu1, 1, n_data_points)"
   ]
  },
  {
   "cell_type": "code",
   "execution_count": 15,
   "metadata": {},
   "outputs": [],
   "source": [
    "X_input = np.array([(x, mu1) for x in X0_val])"
   ]
  },
  {
   "cell_type": "code",
   "execution_count": 16,
   "metadata": {},
   "outputs": [],
   "source": [
    "preds = dctr_model.predict(X_input)\n",
    "weights = preds[:,1]/preds[:,0]"
   ]
  },
  {
   "cell_type": "code",
   "execution_count": 17,
   "metadata": {},
   "outputs": [
    {
     "data": {
      "image/png": "[encoded data removed]",
      "text/plain": [
       "<Figure size 432x288 with 1 Axes>"
      ]
     },
     "metadata": {
      "needs_background": "light"
     },
     "output_type": "display_data"
    }
   ],
   "source": [
    "bins = np.linspace(-6,5,31)\n",
    "plt.hist(X0_val, bins = bins, alpha = 0.5, label = r'$\\mu=0$')\n",
    "plt.hist(X0_val, bins = bins, label = r'$\\mu=0$ wgt.', weights=weights, histtype='step', color='k')\n",
    "plt.hist(X1_val, bins = bins, alpha = 0.5, label = r'$\\mu={}$'.format(mu1))\n",
    "plt.legend()\n",
    "plt.show()"
   ]
  },
  {
   "cell_type": "markdown",
   "metadata": {
    "jp-MarkdownHeadingCollapsed": true,
    "tags": []
   },
   "source": [
    "# Infer $\\mu$ from unknown dataset ~ $\\mathcal{N}(?, 1)$"
   ]
  },
  {
   "cell_type": "markdown",
   "metadata": {},
   "source": [
    "## Build \"mystery\" dataset"
   ]
  },
  {
   "cell_type": "code",
   "execution_count": 18,
   "metadata": {},
   "outputs": [],
   "source": [
    "mu_secret = 1.3\n",
    "X_mystery = np.random.normal(mu_secret, 1, n_data_points)"
   ]
  },
  {
   "cell_type": "code",
   "execution_count": 19,
   "metadata": {},
   "outputs": [],
   "source": [
    "Y0 = to_categorical(np.zeros(n_data_points), num_classes=2)\n",
    "Y1 = to_categorical(np.ones(n_data_points), num_classes=2)\n",
    "\n",
    "X = np.concatenate((np.array(X0)[:,0], X_mystery))\n",
    "Y = np.concatenate((Y0, Y1))"
   ]
  },
  {
   "cell_type": "markdown",
   "metadata": {},
   "source": [
    "## Build DCTR fit model"
   ]
  },
  {
   "cell_type": "code",
   "execution_count": 20,
   "metadata": {},
   "outputs": [],
   "source": [
    "class AddParams2Input(Layer):\n",
    "    \"\"\" Custom layer for tuning with DCTR: \n",
    "    Arguments:\n",
    "    - n_MC_params : (int) - the number of n_MC_params that are in X_dim\n",
    "    - default_MC_params : (list of floats) - default values for each of the MC parameters\n",
    "    - trainable_MC_params : (list of booleans) - True for parameters that you want to fit, false for parameters that should be fixed at default value\n",
    "\n",
    "    Usage: \n",
    "    Let X_dim be the input dimension of each particle to a PFN model, and n_MC_params be the number of MC parameters. \n",
    "    Defines a Layer that takes in an array of dimension \n",
    "    (batch_size, padded_multiplicity, X_dim - n_MC_params)\n",
    "    This layer appends each particle by the default_MC_params and makes then trainable or non-trainable based on trainable_MC_params\n",
    "    \"\"\"\n",
    "    \n",
    "    def __init__(self, param):\n",
    "        super(AddParams2Input, self).__init__()\n",
    "        # Definitions\n",
    "        self.param = param\n",
    "    \n",
    "    def build(self, input_shape):\n",
    "        # Convert input parameter to a weight and make it trainable\n",
    "        self.param = self.add_weight(name='param', \n",
    "                                     shape=(1, 1),\n",
    "                                     initializer=Constant(self.param),\n",
    "                                     trainable=True)\n",
    "            \n",
    "        super(AddParams2Input, self).build(input_shape)\n",
    "    \n",
    "    def call(self, input):\n",
    "        return concatenate([input, self.param*tf.ones_like(input)], -1)\n",
    "    \n",
    "    def compute_output_shape(self, input_shape):\n",
    "        return (input_shape[0], input_shape[1]+1)"
   ]
  },
  {
   "cell_type": "code",
   "execution_count": 21,
   "metadata": {},
   "outputs": [],
   "source": [
    "mu_fit_init = 0\n",
    "\n",
    "myinputs = Input(shape=(1,), name='input')\n",
    "concat_input = AddParams2Input(mu_fit_init)(myinputs) \n",
    "\n",
    "for layer in dctr_model.layers:\n",
    "    layer.trainable = False\n",
    "        \n",
    "# get the graph and the weights from the DCTR_model\n",
    "output = dctr_model(inputs = concat_input)\n",
    "\n",
    "dctr_fit_model = Model(inputs = myinputs, outputs = output)\n",
    "\n",
    "dctr_fit_model.compile(loss='categorical_crossentropy', optimizer='Adam')"
   ]
  },
  {
   "cell_type": "code",
   "execution_count": 22,
   "metadata": {},
   "outputs": [
    {
     "name": "stdout",
     "output_type": "stream",
     "text": [
      "Model: \"model_2\"\n",
      "_________________________________________________________________\n",
      "Layer (type)                 Output Shape              Param #   \n",
      "=================================================================\n",
      "input (InputLayer)           [(None, 1)]               0         \n",
      "_________________________________________________________________\n",
      "add_params2input (AddParams2 (None, 2)                 1         \n",
      "_________________________________________________________________\n",
      "model_1 (Model)              (None, 2)                 5352      \n",
      "=================================================================\n",
      "Total params: 5,353\n",
      "Trainable params: 1\n",
      "Non-trainable params: 5,352\n",
      "_________________________________________________________________\n"
     ]
    }
   ],
   "source": [
    "dctr_fit_model.summary()"
   ]
  },
  {
   "cell_type": "code",
   "execution_count": 23,
   "metadata": {},
   "outputs": [],
   "source": [
    "def set_param(dctr_fit_model, param):\n",
    "    weights = [np.array([[param]],   dtype=np.float32)]\n",
    "    dctr_fit_model.layers[1].set_weights(weights)"
   ]
  },
  {
   "cell_type": "code",
   "execution_count": 24,
   "metadata": {},
   "outputs": [],
   "source": [
    "def get_loss(X, Y, dctr_fit_model, MC_params, batch_size = 1000):\n",
    "    set_param(dctr_fit_model, MC_params)\n",
    "    return dctr_fit_model.evaluate(x=X, y = Y, batch_size=batch_size)"
   ]
  },
  {
   "cell_type": "markdown",
   "metadata": {},
   "source": [
    "## Loss as a funciton of $\\mu$"
   ]
  },
  {
   "cell_type": "markdown",
   "metadata": {},
   "source": [
    "We can evaluate the loss as a funciton of $\\mu$ to show that it has a minimum arond `mu_secret`"
   ]
  },
  {
   "cell_type": "code",
   "execution_count": 25,
   "metadata": {
    "scrolled": true
   },
   "outputs": [
    {
     "name": "stdout",
     "output_type": "stream",
     "text": [
      "200000/200000 [==============================] - 0s 1us/sample - loss: 0.6964\n",
      "200000/200000 [==============================] - 0s 1us/sample - loss: 0.6750\n",
      "200000/200000 [==============================] - 0s 1us/sample - loss: 0.6545\n",
      "200000/200000 [==============================] - 0s 1us/sample - loss: 0.6354\n",
      "200000/200000 [==============================] - 0s 1us/sample - loss: 0.6183\n",
      "200000/200000 [==============================] - 0s 1us/sample - loss: 0.6035\n",
      "200000/200000 [==============================] - 0s 1us/sample - loss: 0.5906\n",
      "200000/200000 [==============================] - 0s 1us/sample - loss: 0.5793\n",
      "200000/200000 [==============================] - 0s 1us/sample - loss: 0.5694\n",
      "200000/200000 [==============================] - 0s 1us/sample - loss: 0.5604\n",
      "200000/200000 [==============================] - 0s 1us/sample - loss: 0.5521\n",
      "200000/200000 [==============================] - 0s 1us/sample - loss: 0.5446\n",
      "200000/200000 [==============================] - 0s 1us/sample - loss: 0.5383\n",
      "200000/200000 [==============================] - 0s 1us/sample - loss: 0.5330\n",
      "200000/200000 [==============================] - 0s 1us/sample - loss: 0.5285\n",
      "200000/200000 [==============================] - 0s 1us/sample - loss: 0.5248\n",
      "200000/200000 [==============================] - 0s 1us/sample - loss: 0.5219\n",
      "200000/200000 [==============================] - 0s 1us/sample - loss: 0.5198\n",
      "200000/200000 [==============================] - 0s 1us/sample - loss: 0.5185\n",
      "200000/200000 [==============================] - 0s 1us/sample - loss: 0.5179\n",
      "200000/200000 [==============================] - 0s 1us/sample - loss: 0.5182\n",
      "200000/200000 [==============================] - 0s 1us/sample - loss: 0.5194\n",
      "200000/200000 [==============================] - 0s 1us/sample - loss: 0.5214\n",
      "200000/200000 [==============================] - 0s 1us/sample - loss: 0.5243\n",
      "200000/200000 [==============================] - 0s 1us/sample - loss: 0.5280\n",
      "200000/200000 [==============================] - 0s 1us/sample - loss: 0.5326\n",
      "200000/200000 [==============================] - 0s 1us/sample - loss: 0.5381\n",
      "200000/200000 [==============================] - 0s 1us/sample - loss: 0.5443\n",
      "200000/200000 [==============================] - 0s 1us/sample - loss: 0.5514\n",
      "200000/200000 [==============================] - 0s 1us/sample - loss: 0.5592\n",
      "200000/200000 [==============================] - 0s 1us/sample - loss: 0.5678\n"
     ]
    }
   ],
   "source": [
    "loss = np.array([(mu, get_loss(X, Y, dctr_fit_model, mu)) for mu in np.linspace(0,2, 31)])\n"
   ]
  },
  {
   "cell_type": "code",
   "execution_count": 26,
   "metadata": {},
   "outputs": [
    {
     "name": "stderr",
     "output_type": "stream",
     "text": [
      "W1026 14:33:56.502396 4560479680 legend.py:1285] No handles with labels found to put in legend.\n"
     ]
    },
    {
     "data": {
      "image/png": "[encoded data removed]",
      "text/plain": [
       "<Figure size 432x288 with 1 Axes>"
      ]
     },
     "metadata": {
      "needs_background": "light"
     },
     "output_type": "display_data"
    }
   ],
   "source": [
    "plt.plot(*loss.T)\n",
    "plt.ylabel('Loss')\n",
    "plt.xlabel(r'$\\mu$')\n",
    "plt.legend()\n",
    "plt.tight_layout()\n",
    "plt.show()"
   ]
  },
  {
   "cell_type": "markdown",
   "metadata": {},
   "source": [
    "## Find mu_secret by gradient descent"
   ]
  },
  {
   "cell_type": "code",
   "execution_count": 27,
   "metadata": {},
   "outputs": [],
   "source": [
    "set_param(dctr_fit_model, 0) # set mu back to default value"
   ]
  },
  {
   "cell_type": "code",
   "execution_count": 28,
   "metadata": {},
   "outputs": [],
   "source": [
    "print_fit_value = LambdaCallback(on_epoch_end=lambda batch, logs: print(\"\\n mu fit = \", \n",
    "                                               dctr_fit_model.get_weights()[0][0][0]))\n",
    "fit_vals = [mu_fit_init]\n",
    "append_fit_value = LambdaCallback(on_epoch_end=lambda batch, logs: \n",
    "                                               fit_vals.append(dctr_fit_model.get_weights()[0][0][0]))\n",
    "\n",
    "callbacks = [print_fit_value, append_fit_value]"
   ]
  },
  {
   "cell_type": "code",
   "execution_count": 29,
   "metadata": {
    "scrolled": true
   },
   "outputs": [
    {
     "name": "stdout",
     "output_type": "stream",
     "text": [
      "Train on 200000 samples\n",
      "Epoch 1/100\n",
      "167000/200000 [========================>.....] - ETA: 0s - loss: 0.6705\n",
      " mu fit =  0.19391052\n",
      "200000/200000 [==============================] - 0s 2us/sample - loss: 0.6657\n",
      "Epoch 2/100\n",
      "171000/200000 [========================>.....] - ETA: 0s - loss: 0.6186\n",
      " mu fit =  0.3586035\n",
      "200000/200000 [==============================] - 0s 1us/sample - loss: 0.6160\n",
      "Epoch 3/100\n",
      "171000/200000 [========================>.....] - ETA: 0s - loss: 0.5874\n",
      " mu fit =  0.497295\n",
      "200000/200000 [==============================] - 0s 1us/sample - loss: 0.5858\n",
      "Epoch 4/100\n",
      "162000/200000 [=======================>......] - ETA: 0s - loss: 0.5678\n",
      " mu fit =  0.6216057\n",
      "200000/200000 [==============================] - 0s 1us/sample - loss: 0.5659\n",
      "Epoch 5/100\n",
      "166000/200000 [=======================>......] - ETA: 0s - loss: 0.5519\n",
      " mu fit =  0.74014795\n",
      "200000/200000 [==============================] - 0s 1us/sample - loss: 0.5504\n",
      "Epoch 6/100\n",
      "170000/200000 [========================>.....] - ETA: 0s - loss: 0.5398\n",
      " mu fit =  0.8424781\n",
      "200000/200000 [==============================] - 0s 1us/sample - loss: 0.5391\n",
      "Epoch 7/100\n",
      "171000/200000 [========================>.....] - ETA: 0s - loss: 0.5321\n",
      " mu fit =  0.9313158\n",
      "200000/200000 [==============================] - 0s 1us/sample - loss: 0.5316\n",
      "Epoch 8/100\n",
      "172000/200000 [========================>.....] - ETA: 0s - loss: 0.5266\n",
      " mu fit =  1.0097872\n",
      "200000/200000 [==============================] - 0s 1us/sample - loss: 0.5264\n",
      "Epoch 9/100\n",
      "169000/200000 [========================>.....] - ETA: 0s - loss: 0.5234\n",
      " mu fit =  1.0762509\n",
      "200000/200000 [==============================] - 0s 1us/sample - loss: 0.5229\n",
      "Epoch 10/100\n",
      "171000/200000 [========================>.....] - ETA: 0s - loss: 0.5213\n",
      " mu fit =  1.1312999\n",
      "200000/200000 [==============================] - 0s 1us/sample - loss: 0.5206\n",
      "Epoch 11/100\n",
      "170000/200000 [========================>.....] - ETA: 0s - loss: 0.5192\n",
      " mu fit =  1.1756034\n",
      "200000/200000 [==============================] - 0s 1us/sample - loss: 0.5193\n",
      "Epoch 12/100\n",
      "167000/200000 [========================>.....] - ETA: 0s - loss: 0.5183\n",
      " mu fit =  1.2094374\n",
      "200000/200000 [==============================] - 0s 1us/sample - loss: 0.5186\n",
      "Epoch 13/100\n",
      "169000/200000 [========================>.....] - ETA: 0s - loss: 0.5181\n",
      " mu fit =  1.2340891\n",
      "200000/200000 [==============================] - 0s 1us/sample - loss: 0.5182\n",
      "Epoch 14/100\n",
      "166000/200000 [=======================>......] - ETA: 0s - loss: 0.5185\n",
      " mu fit =  1.2503173\n",
      "200000/200000 [==============================] - 0s 1us/sample - loss: 0.5180\n",
      "Epoch 15/100\n",
      "171000/200000 [========================>.....] - ETA: 0s - loss: 0.5175\n",
      " mu fit =  1.2619473\n",
      "200000/200000 [==============================] - 0s 1us/sample - loss: 0.5180\n",
      "Epoch 16/100\n",
      "171000/200000 [========================>.....] - ETA: 0s - loss: 0.5177\n",
      " mu fit =  1.2686311\n",
      "200000/200000 [==============================] - 0s 1us/sample - loss: 0.5179\n",
      "Epoch 17/100\n",
      "161000/200000 [=======================>......] - ETA: 0s - loss: 0.5178\n",
      " mu fit =  1.2732087\n",
      "200000/200000 [==============================] - 0s 1us/sample - loss: 0.5179\n",
      "Epoch 18/100\n",
      "168000/200000 [========================>.....] - ETA: 0s - loss: 0.5185\n",
      " mu fit =  1.2750736\n",
      "200000/200000 [==============================] - 0s 1us/sample - loss: 0.5179\n",
      "Epoch 19/100\n",
      "169000/200000 [========================>.....] - ETA: 0s - loss: 0.5180\n",
      " mu fit =  1.276342\n",
      "200000/200000 [==============================] - 0s 1us/sample - loss: 0.5179\n",
      "Epoch 20/100\n",
      "169000/200000 [========================>.....] - ETA: 0s - loss: 0.5174\n",
      " mu fit =  1.277153\n",
      "200000/200000 [==============================] - 0s 1us/sample - loss: 0.5179\n",
      "Epoch 21/100\n",
      "168000/200000 [========================>.....] - ETA: 0s - loss: 0.5183\n",
      " mu fit =  1.2774429\n",
      "200000/200000 [==============================] - 0s 1us/sample - loss: 0.5179\n",
      "Epoch 22/100\n",
      "168000/200000 [========================>.....] - ETA: 0s - loss: 0.5177\n",
      " mu fit =  1.2779455\n",
      "200000/200000 [==============================] - 0s 1us/sample - loss: 0.5179\n",
      "Epoch 23/100\n",
      "167000/200000 [========================>.....] - ETA: 0s - loss: 0.5184\n",
      " mu fit =  1.2784438\n",
      "200000/200000 [==============================] - 0s 1us/sample - loss: 0.5179\n",
      "Epoch 24/100\n",
      "171000/200000 [========================>.....] - ETA: 0s - loss: 0.5189\n",
      " mu fit =  1.2780623\n",
      "200000/200000 [==============================] - 0s 1us/sample - loss: 0.5179\n",
      "Epoch 25/100\n",
      "170000/200000 [========================>.....] - ETA: 0s - loss: 0.5173\n",
      " mu fit =  1.277028\n",
      "200000/200000 [==============================] - 0s 1us/sample - loss: 0.5179\n",
      "Epoch 26/100\n",
      "168000/200000 [========================>.....] - ETA: 0s - loss: 0.5187\n",
      " mu fit =  1.274892\n",
      "200000/200000 [==============================] - 0s 1us/sample - loss: 0.5179\n",
      "Epoch 27/100\n",
      "169000/200000 [========================>.....] - ETA: 0s - loss: 0.5186\n",
      " mu fit =  1.2797043\n",
      "200000/200000 [==============================] - 0s 1us/sample - loss: 0.5179\n",
      "Epoch 28/100\n",
      "170000/200000 [========================>.....] - ETA: 0s - loss: 0.5179\n",
      " mu fit =  1.2763337\n",
      "200000/200000 [==============================] - 0s 1us/sample - loss: 0.5179\n",
      "Epoch 29/100\n",
      "168000/200000 [========================>.....] - ETA: 0s - loss: 0.5178\n",
      " mu fit =  1.2757643\n",
      "200000/200000 [==============================] - 0s 1us/sample - loss: 0.5179\n",
      "Epoch 30/100\n",
      "167000/200000 [========================>.....] - ETA: 0s - loss: 0.5191\n",
      " mu fit =  1.2809975\n",
      "200000/200000 [==============================] - 0s 1us/sample - loss: 0.5179\n",
      "Epoch 31/100\n",
      "169000/200000 [========================>.....] - ETA: 0s - loss: 0.5186\n",
      " mu fit =  1.2767438\n",
      "200000/200000 [==============================] - 0s 1us/sample - loss: 0.5179\n",
      "Epoch 32/100\n",
      "171000/200000 [========================>.....] - ETA: 0s - loss: 0.5180\n",
      " mu fit =  1.2811359\n",
      "200000/200000 [==============================] - 0s 1us/sample - loss: 0.5179\n",
      "Epoch 33/100\n",
      "169000/200000 [========================>.....] - ETA: 0s - loss: 0.5177\n",
      " mu fit =  1.2768158\n",
      "200000/200000 [==============================] - 0s 1us/sample - loss: 0.5179\n",
      "Epoch 34/100\n",
      "171000/200000 [========================>.....] - ETA: 0s - loss: 0.5182\n",
      " mu fit =  1.2776623\n",
      "200000/200000 [==============================] - 0s 1us/sample - loss: 0.5179\n",
      "Epoch 35/100\n",
      "167000/200000 [========================>.....] - ETA: 0s - loss: 0.5176\n",
      " mu fit =  1.2715822\n",
      "200000/200000 [==============================] - 0s 1us/sample - loss: 0.5179\n",
      "Epoch 36/100\n",
      "168000/200000 [========================>.....] - ETA: 0s - loss: 0.5190\n",
      " mu fit =  1.2814769\n",
      "200000/200000 [==============================] - 0s 1us/sample - loss: 0.5179\n",
      "Epoch 37/100\n",
      "166000/200000 [=======================>......] - ETA: 0s - loss: 0.5183\n",
      " mu fit =  1.2790627\n",
      "200000/200000 [==============================] - 0s 1us/sample - loss: 0.5179\n",
      "Epoch 38/100\n",
      "163000/200000 [=======================>......] - ETA: 0s - loss: 0.5180\n",
      " mu fit =  1.2750986\n",
      "200000/200000 [==============================] - 0s 1us/sample - loss: 0.5179\n",
      "Epoch 39/100\n",
      "170000/200000 [========================>.....] - ETA: 0s - loss: 0.5184\n",
      " mu fit =  1.2815741\n",
      "200000/200000 [==============================] - 0s 1us/sample - loss: 0.5179\n",
      "Epoch 40/100\n",
      "167000/200000 [========================>.....] - ETA: 0s - loss: 0.5182\n",
      " mu fit =  1.2784793\n",
      "200000/200000 [==============================] - 0s 1us/sample - loss: 0.5179\n",
      "Epoch 41/100\n",
      "165000/200000 [=======================>......] - ETA: 0s - loss: 0.5173\n",
      " mu fit =  1.2748264\n",
      "200000/200000 [==============================] - 0s 1us/sample - loss: 0.5179\n",
      "Epoch 42/100\n",
      "168000/200000 [========================>.....] - ETA: 0s - loss: 0.5176\n",
      " mu fit =  1.2776213\n",
      "200000/200000 [==============================] - 0s 1us/sample - loss: 0.5179\n",
      "Epoch 43/100\n",
      "164000/200000 [=======================>......] - ETA: 0s - loss: 0.5178\n",
      " mu fit =  1.2755978\n",
      "200000/200000 [==============================] - 0s 1us/sample - loss: 0.5179\n",
      "Epoch 44/100\n",
      "163000/200000 [=======================>......] - ETA: 0s - loss: 0.5180\n",
      " mu fit =  1.2765943\n",
      "200000/200000 [==============================] - 0s 1us/sample - loss: 0.5179\n",
      "Epoch 45/100\n",
      "168000/200000 [========================>.....] - ETA: 0s - loss: 0.5171\n",
      " mu fit =  1.2777758\n",
      "200000/200000 [==============================] - 0s 1us/sample - loss: 0.5179\n",
      "Epoch 46/100\n",
      "163000/200000 [=======================>......] - ETA: 0s - loss: 0.5188\n",
      " mu fit =  1.278457\n",
      "200000/200000 [==============================] - 0s 1us/sample - loss: 0.5179\n",
      "Epoch 47/100\n",
      "197000/200000 [============================>.] - ETA: 0s - loss: 0.5179\n",
      " mu fit =  1.2759706\n",
      "200000/200000 [==============================] - 0s 1us/sample - loss: 0.5179\n",
      "Epoch 48/100\n",
      "170000/200000 [========================>.....] - ETA: 0s - loss: 0.5181\n",
      " mu fit =  1.28265\n",
      "200000/200000 [==============================] - 0s 1us/sample - loss: 0.5179\n",
      "Epoch 49/100\n",
      "172000/200000 [========================>.....] - ETA: 0s - loss: 0.5186\n",
      " mu fit =  1.2775632\n",
      "200000/200000 [==============================] - 0s 1us/sample - loss: 0.5179\n",
      "Epoch 50/100\n",
      "169000/200000 [========================>.....] - ETA: 0s - loss: 0.5189\n",
      " mu fit =  1.2825955\n",
      "200000/200000 [==============================] - 0s 1us/sample - loss: 0.5179\n",
      "Epoch 51/100\n",
      "167000/200000 [========================>.....] - ETA: 0s - loss: 0.5181\n",
      " mu fit =  1.2720758\n",
      "200000/200000 [==============================] - 0s 1us/sample - loss: 0.5179\n",
      "Epoch 52/100\n",
      "169000/200000 [========================>.....] - ETA: 0s - loss: 0.5184\n",
      " mu fit =  1.2766038\n",
      "200000/200000 [==============================] - 0s 1us/sample - loss: 0.5179\n",
      "Epoch 53/100\n",
      "171000/200000 [========================>.....] - ETA: 0s - loss: 0.5192\n",
      " mu fit =  1.2787949\n",
      "200000/200000 [==============================] - 0s 1us/sample - loss: 0.5179\n",
      "Epoch 54/100\n",
      "170000/200000 [========================>.....] - ETA: 0s - loss: 0.5174\n",
      " mu fit =  1.269197\n",
      "200000/200000 [==============================] - 0s 1us/sample - loss: 0.5179\n",
      "Epoch 55/100\n",
      "169000/200000 [========================>.....] - ETA: 0s - loss: 0.5180\n",
      " mu fit =  1.2740114\n",
      "200000/200000 [==============================] - 0s 1us/sample - loss: 0.5179\n",
      "Epoch 56/100\n",
      "169000/200000 [========================>.....] - ETA: 0s - loss: 0.5180\n",
      " mu fit =  1.2763146\n",
      "200000/200000 [==============================] - 0s 1us/sample - loss: 0.5179\n",
      "Epoch 57/100\n",
      "168000/200000 [========================>.....] - ETA: 0s - loss: 0.5188\n",
      " mu fit =  1.2811311\n",
      "200000/200000 [==============================] - 0s 1us/sample - loss: 0.5179\n",
      "Epoch 58/100\n",
      "170000/200000 [========================>.....] - ETA: 0s - loss: 0.5185\n",
      " mu fit =  1.274792\n",
      "200000/200000 [==============================] - 0s 1us/sample - loss: 0.5179\n",
      "Epoch 59/100\n",
      "167000/200000 [========================>.....] - ETA: 0s - loss: 0.5185\n",
      " mu fit =  1.2749553\n",
      "200000/200000 [==============================] - 0s 1us/sample - loss: 0.5179\n",
      "Epoch 60/100\n",
      "172000/200000 [========================>.....] - ETA: 0s - loss: 0.5180\n",
      " mu fit =  1.2820716\n",
      "200000/200000 [==============================] - 0s 1us/sample - loss: 0.5179\n",
      "Epoch 61/100\n",
      "170000/200000 [========================>.....] - ETA: 0s - loss: 0.5181\n",
      " mu fit =  1.280536\n",
      "200000/200000 [==============================] - 0s 1us/sample - loss: 0.5179\n",
      "Epoch 62/100\n",
      "165000/200000 [=======================>......] - ETA: 0s - loss: 0.5174\n",
      " mu fit =  1.2791401\n",
      "200000/200000 [==============================] - 0s 1us/sample - loss: 0.5179\n",
      "Epoch 63/100\n",
      "171000/200000 [========================>.....] - ETA: 0s - loss: 0.5181\n",
      " mu fit =  1.2735571\n",
      "200000/200000 [==============================] - 0s 1us/sample - loss: 0.5179\n",
      "Epoch 64/100\n",
      "171000/200000 [========================>.....] - ETA: 0s - loss: 0.5188\n",
      " mu fit =  1.2775023\n",
      "200000/200000 [==============================] - 0s 1us/sample - loss: 0.5179\n",
      "Epoch 65/100\n",
      "168000/200000 [========================>.....] - ETA: 0s - loss: 0.5191\n",
      " mu fit =  1.2790775\n",
      "200000/200000 [==============================] - 0s 1us/sample - loss: 0.5179\n",
      "Epoch 66/100\n",
      "170000/200000 [========================>.....] - ETA: 0s - loss: 0.5174\n",
      " mu fit =  1.2692959\n",
      "200000/200000 [==============================] - 0s 1us/sample - loss: 0.5179\n",
      "Epoch 67/100\n",
      "171000/200000 [========================>.....] - ETA: 0s - loss: 0.5181\n",
      " mu fit =  1.2789354\n",
      "200000/200000 [==============================] - 0s 1us/sample - loss: 0.5179\n",
      "Epoch 68/100\n",
      "170000/200000 [========================>.....] - ETA: 0s - loss: 0.5182\n",
      " mu fit =  1.2817799\n",
      "200000/200000 [==============================] - 0s 1us/sample - loss: 0.5179\n",
      "Epoch 69/100\n",
      "169000/200000 [========================>.....] - ETA: 0s - loss: 0.5177\n",
      " mu fit =  1.2752135\n",
      "200000/200000 [==============================] - 0s 1us/sample - loss: 0.5179\n",
      "Epoch 70/100\n",
      "169000/200000 [========================>.....] - ETA: 0s - loss: 0.5182\n",
      " mu fit =  1.2793099\n",
      "200000/200000 [==============================] - 0s 1us/sample - loss: 0.5179\n",
      "Epoch 71/100\n",
      "169000/200000 [========================>.....] - ETA: 0s - loss: 0.5188\n",
      " mu fit =  1.2812079\n",
      "200000/200000 [==============================] - 0s 1us/sample - loss: 0.5179\n",
      "Epoch 72/100\n",
      "165000/200000 [=======================>......] - ETA: 0s - loss: 0.5171\n",
      " mu fit =  1.2734662\n",
      "200000/200000 [==============================] - 0s 1us/sample - loss: 0.5179\n",
      "Epoch 73/100\n",
      "169000/200000 [========================>.....] - ETA: 0s - loss: 0.5183\n",
      " mu fit =  1.2755666\n",
      "200000/200000 [==============================] - 0s 1us/sample - loss: 0.5179\n",
      "Epoch 74/100\n",
      "168000/200000 [========================>.....] - ETA: 0s - loss: 0.5178\n",
      " mu fit =  1.27555\n",
      "200000/200000 [==============================] - 0s 1us/sample - loss: 0.5179\n",
      "Epoch 75/100\n",
      "199000/200000 [============================>.] - ETA: 0s - loss: 0.5179\n",
      " mu fit =  1.2856684\n",
      "200000/200000 [==============================] - 0s 1us/sample - loss: 0.5179\n",
      "Epoch 76/100\n",
      "163000/200000 [=======================>......] - ETA: 0s - loss: 0.5169\n",
      " mu fit =  1.2793622\n",
      "200000/200000 [==============================] - 0s 1us/sample - loss: 0.5179\n",
      "Epoch 77/100\n",
      "187000/200000 [===========================>..] - ETA: 0s - loss: 0.5178\n",
      " mu fit =  1.276346\n",
      "200000/200000 [==============================] - 0s 1us/sample - loss: 0.5179\n",
      "Epoch 78/100\n",
      "188000/200000 [===========================>..] - ETA: 0s - loss: 0.5183\n",
      " mu fit =  1.2786156\n",
      "200000/200000 [==============================] - 0s 1us/sample - loss: 0.5179\n",
      "Epoch 79/100\n",
      "197000/200000 [============================>.] - ETA: 0s - loss: 0.5178\n",
      " mu fit =  1.2767093\n",
      "200000/200000 [==============================] - 0s 1us/sample - loss: 0.5179\n",
      "Epoch 80/100\n",
      "164000/200000 [=======================>......] - ETA: 0s - loss: 0.5174\n",
      " mu fit =  1.2746893\n",
      "200000/200000 [==============================] - 0s 1us/sample - loss: 0.5179\n",
      "Epoch 81/100\n",
      "164000/200000 [=======================>......] - ETA: 0s - loss: 0.5172\n",
      " mu fit =  1.2685611\n",
      "200000/200000 [==============================] - 0s 1us/sample - loss: 0.5179\n",
      "Epoch 82/100\n",
      "164000/200000 [=======================>......] - ETA: 0s - loss: 0.5176\n",
      " mu fit =  1.2767545\n",
      "200000/200000 [==============================] - 0s 1us/sample - loss: 0.5179\n",
      "Epoch 83/100\n",
      "185000/200000 [==========================>...] - ETA: 0s - loss: 0.5178\n",
      " mu fit =  1.2828268\n",
      "200000/200000 [==============================] - 0s 1us/sample - loss: 0.5179\n",
      "Epoch 84/100\n",
      "199000/200000 [============================>.] - ETA: 0s - loss: 0.5179\n",
      " mu fit =  1.2782439\n",
      "200000/200000 [==============================] - 0s 1us/sample - loss: 0.5179\n",
      "Epoch 85/100\n",
      "188000/200000 [===========================>..] - ETA: 0s - loss: 0.5178\n",
      " mu fit =  1.2740966\n",
      "200000/200000 [==============================] - 0s 1us/sample - loss: 0.5179\n",
      "Epoch 86/100\n",
      "170000/200000 [========================>.....] - ETA: 0s - loss: 0.5185\n",
      " mu fit =  1.2813668\n",
      "200000/200000 [==============================] - 0s 1us/sample - loss: 0.5179\n",
      "Epoch 87/100\n",
      "196000/200000 [============================>.] - ETA: 0s - loss: 0.5179\n",
      " mu fit =  1.275934\n",
      "200000/200000 [==============================] - 0s 1us/sample - loss: 0.5179\n",
      "Epoch 88/100\n",
      "173000/200000 [========================>.....] - ETA: 0s - loss: 0.5178\n",
      " mu fit =  1.2747608\n",
      "200000/200000 [==============================] - 0s 1us/sample - loss: 0.5179\n",
      "Epoch 89/100\n",
      "164000/200000 [=======================>......] - ETA: 0s - loss: 0.5180\n",
      " mu fit =  1.27542\n",
      "200000/200000 [==============================] - 0s 1us/sample - loss: 0.5179\n",
      "Epoch 90/100\n",
      "181000/200000 [==========================>...] - ETA: 0s - loss: 0.5180\n",
      " mu fit =  1.2758555\n",
      "200000/200000 [==============================] - 0s 1us/sample - loss: 0.5179\n",
      "Epoch 91/100\n",
      "169000/200000 [========================>.....] - ETA: 0s - loss: 0.5180\n",
      " mu fit =  1.2732774\n",
      "200000/200000 [==============================] - 0s 1us/sample - loss: 0.5179\n",
      "Epoch 92/100\n",
      "197000/200000 [============================>.] - ETA: 0s - loss: 0.5177\n",
      " mu fit =  1.2799301\n",
      "200000/200000 [==============================] - 0s 1us/sample - loss: 0.5179\n",
      "Epoch 93/100\n",
      "166000/200000 [=======================>......] - ETA: 0s - loss: 0.5186\n",
      " mu fit =  1.2826161\n",
      "200000/200000 [==============================] - 0s 1us/sample - loss: 0.5179\n",
      "Epoch 94/100\n",
      "198000/200000 [============================>.] - ETA: 0s - loss: 0.5178\n",
      " mu fit =  1.2813878\n",
      "200000/200000 [==============================] - 0s 1us/sample - loss: 0.5179\n",
      "Epoch 95/100\n",
      "161000/200000 [=======================>......] - ETA: 0s - loss: 0.5182\n",
      " mu fit =  1.2785214\n",
      "200000/200000 [==============================] - 0s 1us/sample - loss: 0.5179\n",
      "Epoch 96/100\n",
      "186000/200000 [==========================>...] - ETA: 0s - loss: 0.5185\n",
      " mu fit =  1.2717209\n",
      "200000/200000 [==============================] - 0s 1us/sample - loss: 0.5179\n",
      "Epoch 97/100\n",
      "172000/200000 [========================>.....] - ETA: 0s - loss: 0.5176\n",
      " mu fit =  1.2765388\n",
      "200000/200000 [==============================] - 0s 1us/sample - loss: 0.5179\n",
      "Epoch 98/100\n",
      "185000/200000 [==========================>...] - ETA: 0s - loss: 0.5180\n",
      " mu fit =  1.2718545\n",
      "200000/200000 [==============================] - 0s 1us/sample - loss: 0.5179\n",
      "Epoch 99/100\n",
      "161000/200000 [=======================>......] - ETA: 0s - loss: 0.5186\n",
      " mu fit =  1.2820092\n",
      "200000/200000 [==============================] - 0s 1us/sample - loss: 0.5179\n",
      "Epoch 100/100\n",
      "171000/200000 [========================>.....] - ETA: 0s - loss: 0.5172\n",
      " mu fit =  1.2766622\n",
      "200000/200000 [==============================] - 0s 1us/sample - loss: 0.5179\n"
     ]
    },
    {
     "data": {
      "text/plain": [
       "<tensorflow.python.keras.callbacks.History at 0x1a3e0d35f8>"
      ]
     },
     "execution_count": 29,
     "metadata": {},
     "output_type": "execute_result"
    }
   ],
   "source": [
    "dctr_fit_model.fit(X, Y, \n",
    "                   epochs=100, \n",
    "                   batch_size = 1000, \n",
    "                   callbacks=callbacks)"
   ]
  },
  {
   "cell_type": "code",
   "execution_count": 30,
   "metadata": {},
   "outputs": [
    {
     "data": {
      "image/png": "[encoded data removed]",
      "text/plain": [
       "<Figure size 432x288 with 1 Axes>"
      ]
     },
     "metadata": {
      "needs_background": "light"
     },
     "output_type": "display_data"
    }
   ],
   "source": [
    "plt.plot(fit_vals, label='Fit')\n",
    "plt.hlines(mu_secret, 0, len(fit_vals), label = 'Truth')\n",
    "plt.xlabel(\"Epochs\")\n",
    "plt.ylabel(r'$\\mu_{fit}$')\n",
    "plt.legend()\n",
    "plt.show()"
   ]
  },
  {
   "cell_type": "code",
   "execution_count": null,
   "metadata": {},
   "outputs": [],
   "source": []
  }
 ],
 "metadata": {
  "kernelspec": {
   "display_name": "Python 3 (ipykernel)",
   "language": "python",
   "name": "python3"
  },
  "language_info": {
   "codemirror_mode": {
    "name": "ipython",
    "version": 3
   },
   "file_extension": ".py",
   "mimetype": "text/x-python",
   "name": "python",
   "nbconvert_exporter": "python",
   "pygments_lexer": "ipython3",
   "version": "3.10.4"
  }
 },
 "nbformat": 4,
 "nbformat_minor": 4
}
