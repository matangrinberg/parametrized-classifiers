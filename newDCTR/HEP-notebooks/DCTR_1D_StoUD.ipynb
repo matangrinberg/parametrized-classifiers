{
 "cells": [
  {
   "cell_type": "code",
   "execution_count": 1,
   "metadata": {},
   "outputs": [],
   "source": [
    "import os\n",
    "import sys\n",
    "os.environ[\"CUDA_DEVICE_ORDER\"]=\"PCI_BUS_ID\"\n",
    "os.environ[\"CUDA_VISIBLE_DEVICES\"]=\"3\"\n",
    "sys.path.append('/global/home/users/mgrinberg/parametrized-classifiers/data')\n",
    "# sys.path.append('/Users/matangrinberg/Library/CloudStorage/GoogleDrive-matan.grinberg@gmail.com/My Drive/(21-24) University of California, Berkeley/ML HEP/parametrized-classifiers/data')"
   ]
  },
  {
   "cell_type": "code",
   "execution_count": 2,
   "metadata": {},
   "outputs": [],
   "source": [
    "# standard library imports\n",
    "from __future__ import absolute_import, division, print_function\n",
    "\n",
    "import keras\n",
    "\n",
    "# standard numerical library imports\n",
    "import numpy as np\n",
    "import scipy as sp\n",
    "import tensorflow as tf\n",
    "import keras\n",
    "\n",
    "# energyflow imports\n",
    "import energyflow as ef\n",
    "from energyflow.archs import PFN\n",
    "from energyflow.utils import data_split, remap_pids, to_categorical\n",
    "\n",
    "from keras.layers import Input, Flatten, Dense\n",
    "from keras.initializers import Constant\n",
    "from keras.backend import ones_like, zeros_like, concatenate\n",
    "\n",
    "import matplotlib.pyplot as plt"
   ]
  },
  {
   "cell_type": "code",
   "execution_count": 3,
   "metadata": {},
   "outputs": [],
   "source": [
    "# # Global plot settings\n",
    "# from matplotlib import rc\n",
    "# import matplotlib.font_manager\n",
    "# rc('font', family='serif')\n",
    "# rc('text', usetex=True)\n",
    "# rc('font', size=22) \n",
    "# rc('xtick', labelsize=15) \n",
    "# rc('ytick', labelsize=15) \n",
    "# rc('legend', fontsize=15)"
   ]
  },
  {
   "cell_type": "markdown",
   "metadata": {},
   "source": [
    "# Load Data"
   ]
  },
  {
   "cell_type": "markdown",
   "metadata": {},
   "source": [
    "## Utilities"
   ]
  },
  {
   "cell_type": "code",
   "execution_count": 4,
   "metadata": {},
   "outputs": [],
   "source": [
    "# normalize pT and center (y, phi)\n",
    "def normalize(x):\n",
    "    mask = x[:,0] > 0\n",
    "    yphi_avg = np.average(x[mask,1:3], weights=x[mask,0], axis=0)\n",
    "    x[mask,1:3] -= yphi_avg\n",
    "    x[mask,0] /= x[:,0].sum()"
   ]
  },
  {
   "cell_type": "code",
   "execution_count": 5,
   "metadata": {},
   "outputs": [],
   "source": [
    "def preprocess_data(X):\n",
    "    for x in X:\n",
    "        normalize(x)\n",
    "    \n",
    "    # Remap PIDs to unique values in range [0,1]\n",
    "    remap_pids(X, pid_i=3, error_on_unknown=False)\n",
    "    return X"
   ]
  },
  {
   "cell_type": "markdown",
   "metadata": {},
   "source": [
    "## Process data"
   ]
  },
  {
   "cell_type": "code",
   "execution_count": 6,
   "metadata": {},
   "outputs": [],
   "source": [
    "# Path to downloaded data from Zenodo\n",
    "data_dir = '/global/home/users/mgrinberg/parametrized-classifiers/data/'"
   ]
  },
  {
   "cell_type": "code",
   "execution_count": 7,
   "metadata": {},
   "outputs": [],
   "source": [
    "dataset = np.load(data_dir + '1D_probStoUD_train.npz')"
   ]
  },
  {
   "cell_type": "code",
   "execution_count": 8,
   "metadata": {},
   "outputs": [],
   "source": [
    "X = dataset['X']\n",
    "Y = dataset['Y']"
   ]
  },
  {
   "cell_type": "code",
   "execution_count": 9,
   "metadata": {},
   "outputs": [],
   "source": [
    "X = preprocess_data(X)\n",
    "Y = to_categorical(Y, num_classes=2)"
   ]
  },
  {
   "cell_type": "code",
   "execution_count": 10,
   "metadata": {},
   "outputs": [],
   "source": [
    "X_train, X_val, Y_train, Y_val = data_split(X, Y, test=0.1, shuffle=True)"
   ]
  },
  {
   "cell_type": "code",
   "execution_count": 11,
   "metadata": {},
   "outputs": [
    {
     "name": "stdout",
     "output_type": "stream",
     "text": [
      "(1620000, 51, 7)\n",
      "(1620000, 2)\n",
      "(180000, 51, 7)\n",
      "(180000, 2)\n"
     ]
    }
   ],
   "source": [
    "print(X_train.shape)\n",
    "print(Y_train.shape)\n",
    "\n",
    "print(X_val.shape)\n",
    "print(Y_val.shape)"
   ]
  },
  {
   "cell_type": "markdown",
   "metadata": {},
   "source": [
    "# Build Model"
   ]
  },
  {
   "cell_type": "code",
   "execution_count": 12,
   "metadata": {
    "scrolled": true
   },
   "outputs": [],
   "source": [
    "# network architecture parameters\n",
    "Phi_sizes = (100,100, 128)\n",
    "F_sizes = (100,100, 100)\n",
    "\n",
    "model_interpolate = PFN(input_dim=7, Phi_sizes=Phi_sizes, F_sizes=F_sizes, summary=False)"
   ]
  },
  {
   "cell_type": "markdown",
   "metadata": {},
   "source": [
    "# Train model"
   ]
  },
  {
   "cell_type": "code",
   "execution_count": 13,
   "metadata": {},
   "outputs": [],
   "source": [
    "save_label = 'DCTR_ee_dijets_1D_probStoUD'\n",
    "\n",
    "\n",
    "checkpoint = keras.callbacks.ModelCheckpoint('./saved_models/' + save_label + '.h5', monitor='val_loss', verbose=2, save_best_only=True, mode='min')\n",
    "CSVLogger = keras.callbacks.CSVLogger('./logs/' + save_label + '_loss.csv', append=False)\n",
    "EarlyStopping = keras.callbacks.EarlyStopping(monitor='val_loss', min_delta=0, patience=10, verbose=1, restore_best_weights=True)\n",
    "callbacks = [checkpoint, CSVLogger, EarlyStopping]\n",
    "\n",
    "epochs = 100\n",
    "batch_size = 2000"
   ]
  },
  {
   "cell_type": "code",
   "execution_count": 14,
   "metadata": {
    "scrolled": true
   },
   "outputs": [
    {
     "name": "stdout",
     "output_type": "stream",
     "text": [
      "Epoch 1/100\n",
      "802/810 [============================>.] - ETA: 0s - loss: 0.7145 - acc: 0.5042\n",
      "Epoch 1: val_loss improved from inf to 0.69462, saving model to ./saved_models/DCTR_ee_dijets_1D_probStoUD.h5\n",
      "810/810 [==============================] - 7s 7ms/step - loss: 0.7143 - acc: 0.5042 - val_loss: 0.6946 - val_acc: 0.5071\n",
      "Epoch 2/100\n",
      "802/810 [============================>.] - ETA: 0s - loss: 0.6939 - acc: 0.5098\n",
      "Epoch 2: val_loss improved from 0.69462 to 0.69362, saving model to ./saved_models/DCTR_ee_dijets_1D_probStoUD.h5\n",
      "810/810 [==============================] - 5s 6ms/step - loss: 0.6939 - acc: 0.5098 - val_loss: 0.6936 - val_acc: 0.5133\n",
      "Epoch 3/100\n",
      "804/810 [============================>.] - ETA: 0s - loss: 0.6926 - acc: 0.5144\n",
      "Epoch 3: val_loss improved from 0.69362 to 0.69317, saving model to ./saved_models/DCTR_ee_dijets_1D_probStoUD.h5\n",
      "810/810 [==============================] - 5s 6ms/step - loss: 0.6926 - acc: 0.5144 - val_loss: 0.6932 - val_acc: 0.5141\n",
      "Epoch 4/100\n",
      "810/810 [==============================] - ETA: 0s - loss: 0.6917 - acc: 0.5192\n",
      "Epoch 4: val_loss improved from 0.69317 to 0.69082, saving model to ./saved_models/DCTR_ee_dijets_1D_probStoUD.h5\n",
      "810/810 [==============================] - 5s 6ms/step - loss: 0.6917 - acc: 0.5192 - val_loss: 0.6908 - val_acc: 0.5229\n",
      "Epoch 5/100\n",
      "810/810 [==============================] - ETA: 0s - loss: 0.6910 - acc: 0.5214\n",
      "Epoch 5: val_loss improved from 0.69082 to 0.69072, saving model to ./saved_models/DCTR_ee_dijets_1D_probStoUD.h5\n",
      "810/810 [==============================] - 5s 6ms/step - loss: 0.6910 - acc: 0.5214 - val_loss: 0.6907 - val_acc: 0.5230\n",
      "Epoch 6/100\n",
      "809/810 [============================>.] - ETA: 0s - loss: 0.6907 - acc: 0.5234\n",
      "Epoch 6: val_loss did not improve from 0.69072\n",
      "810/810 [==============================] - 5s 6ms/step - loss: 0.6907 - acc: 0.5235 - val_loss: 0.6908 - val_acc: 0.5237\n",
      "Epoch 7/100\n",
      "810/810 [==============================] - ETA: 0s - loss: 0.6905 - acc: 0.5244\n",
      "Epoch 7: val_loss improved from 0.69072 to 0.69054, saving model to ./saved_models/DCTR_ee_dijets_1D_probStoUD.h5\n",
      "810/810 [==============================] - 5s 6ms/step - loss: 0.6905 - acc: 0.5244 - val_loss: 0.6905 - val_acc: 0.5229\n",
      "Epoch 8/100\n",
      "808/810 [============================>.] - ETA: 0s - loss: 0.6903 - acc: 0.5258\n",
      "Epoch 8: val_loss improved from 0.69054 to 0.69035, saving model to ./saved_models/DCTR_ee_dijets_1D_probStoUD.h5\n",
      "810/810 [==============================] - 5s 7ms/step - loss: 0.6903 - acc: 0.5258 - val_loss: 0.6904 - val_acc: 0.5246\n",
      "Epoch 9/100\n",
      "809/810 [============================>.] - ETA: 0s - loss: 0.6900 - acc: 0.5273\n",
      "Epoch 9: val_loss improved from 0.69035 to 0.69016, saving model to ./saved_models/DCTR_ee_dijets_1D_probStoUD.h5\n",
      "810/810 [==============================] - 5s 6ms/step - loss: 0.6900 - acc: 0.5273 - val_loss: 0.6902 - val_acc: 0.5266\n",
      "Epoch 10/100\n",
      "807/810 [============================>.] - ETA: 0s - loss: 0.6900 - acc: 0.5276\n",
      "Epoch 10: val_loss improved from 0.69016 to 0.69014, saving model to ./saved_models/DCTR_ee_dijets_1D_probStoUD.h5\n",
      "810/810 [==============================] - 5s 6ms/step - loss: 0.6900 - acc: 0.5276 - val_loss: 0.6901 - val_acc: 0.5283\n",
      "Epoch 11/100\n",
      "805/810 [============================>.] - ETA: 0s - loss: 0.6899 - acc: 0.5277\n",
      "Epoch 11: val_loss improved from 0.69014 to 0.69012, saving model to ./saved_models/DCTR_ee_dijets_1D_probStoUD.h5\n",
      "810/810 [==============================] - 5s 6ms/step - loss: 0.6899 - acc: 0.5277 - val_loss: 0.6901 - val_acc: 0.5279\n",
      "Epoch 12/100\n",
      "805/810 [============================>.] - ETA: 0s - loss: 0.6897 - acc: 0.5292\n",
      "Epoch 12: val_loss did not improve from 0.69012\n",
      "810/810 [==============================] - 5s 6ms/step - loss: 0.6897 - acc: 0.5293 - val_loss: 0.6906 - val_acc: 0.5266\n",
      "Epoch 13/100\n",
      "802/810 [============================>.] - ETA: 0s - loss: 0.6896 - acc: 0.5300\n",
      "Epoch 13: val_loss improved from 0.69012 to 0.68989, saving model to ./saved_models/DCTR_ee_dijets_1D_probStoUD.h5\n",
      "810/810 [==============================] - 5s 6ms/step - loss: 0.6896 - acc: 0.5299 - val_loss: 0.6899 - val_acc: 0.5277\n",
      "Epoch 14/100\n",
      "802/810 [============================>.] - ETA: 0s - loss: 0.6896 - acc: 0.5303\n",
      "Epoch 14: val_loss improved from 0.68989 to 0.68984, saving model to ./saved_models/DCTR_ee_dijets_1D_probStoUD.h5\n",
      "810/810 [==============================] - 5s 6ms/step - loss: 0.6896 - acc: 0.5303 - val_loss: 0.6898 - val_acc: 0.5290\n",
      "Epoch 15/100\n",
      "805/810 [============================>.] - ETA: 0s - loss: 0.6896 - acc: 0.5300\n",
      "Epoch 15: val_loss improved from 0.68984 to 0.68974, saving model to ./saved_models/DCTR_ee_dijets_1D_probStoUD.h5\n",
      "810/810 [==============================] - 5s 6ms/step - loss: 0.6896 - acc: 0.5300 - val_loss: 0.6897 - val_acc: 0.5289\n",
      "Epoch 16/100\n",
      "810/810 [==============================] - ETA: 0s - loss: 0.6895 - acc: 0.5303\n",
      "Epoch 16: val_loss did not improve from 0.68974\n",
      "810/810 [==============================] - 5s 6ms/step - loss: 0.6895 - acc: 0.5303 - val_loss: 0.6898 - val_acc: 0.5287\n",
      "Epoch 17/100\n",
      "803/810 [============================>.] - ETA: 0s - loss: 0.6895 - acc: 0.5309\n",
      "Epoch 17: val_loss did not improve from 0.68974\n",
      "810/810 [==============================] - 5s 6ms/step - loss: 0.6895 - acc: 0.5309 - val_loss: 0.6898 - val_acc: 0.5279\n",
      "Epoch 18/100\n",
      "805/810 [============================>.] - ETA: 0s - loss: 0.6894 - acc: 0.5309\n",
      "Epoch 18: val_loss did not improve from 0.68974\n",
      "810/810 [==============================] - 5s 6ms/step - loss: 0.6894 - acc: 0.5309 - val_loss: 0.6902 - val_acc: 0.5268\n",
      "Epoch 19/100\n",
      "802/810 [============================>.] - ETA: 0s - loss: 0.6894 - acc: 0.5310\n",
      "Epoch 19: val_loss did not improve from 0.68974\n",
      "810/810 [==============================] - 5s 6ms/step - loss: 0.6894 - acc: 0.5310 - val_loss: 0.6899 - val_acc: 0.5283\n",
      "Epoch 20/100\n",
      "802/810 [============================>.] - ETA: 0s - loss: 0.6893 - acc: 0.5312\n",
      "Epoch 20: val_loss improved from 0.68974 to 0.68974, saving model to ./saved_models/DCTR_ee_dijets_1D_probStoUD.h5\n",
      "810/810 [==============================] - 5s 7ms/step - loss: 0.6894 - acc: 0.5312 - val_loss: 0.6897 - val_acc: 0.5284\n",
      "Epoch 21/100\n",
      "808/810 [============================>.] - ETA: 0s - loss: 0.6893 - acc: 0.5315\n",
      "Epoch 21: val_loss did not improve from 0.68974\n",
      "810/810 [==============================] - 5s 7ms/step - loss: 0.6893 - acc: 0.5315 - val_loss: 0.6898 - val_acc: 0.5279\n",
      "Epoch 22/100\n",
      "810/810 [==============================] - ETA: 0s - loss: 0.6893 - acc: 0.5319\n",
      "Epoch 22: val_loss improved from 0.68974 to 0.68967, saving model to ./saved_models/DCTR_ee_dijets_1D_probStoUD.h5\n",
      "810/810 [==============================] - 5s 7ms/step - loss: 0.6893 - acc: 0.5319 - val_loss: 0.6897 - val_acc: 0.5294\n",
      "Epoch 23/100\n",
      "809/810 [============================>.] - ETA: 0s - loss: 0.6893 - acc: 0.5315\n",
      "Epoch 23: val_loss did not improve from 0.68967\n",
      "810/810 [==============================] - 5s 6ms/step - loss: 0.6893 - acc: 0.5315 - val_loss: 0.6905 - val_acc: 0.5279\n",
      "Epoch 24/100\n",
      "810/810 [==============================] - ETA: 0s - loss: 0.6892 - acc: 0.5318\n",
      "Epoch 24: val_loss did not improve from 0.68967\n",
      "810/810 [==============================] - 5s 6ms/step - loss: 0.6892 - acc: 0.5318 - val_loss: 0.6898 - val_acc: 0.5295\n",
      "Epoch 25/100\n",
      "805/810 [============================>.] - ETA: 0s - loss: 0.6892 - acc: 0.5319\n",
      "Epoch 25: val_loss did not improve from 0.68967\n",
      "810/810 [==============================] - 5s 6ms/step - loss: 0.6892 - acc: 0.5319 - val_loss: 0.6897 - val_acc: 0.5285\n",
      "Epoch 26/100\n",
      "802/810 [============================>.] - ETA: 0s - loss: 0.6892 - acc: 0.5318\n",
      "Epoch 26: val_loss did not improve from 0.68967\n",
      "810/810 [==============================] - 5s 6ms/step - loss: 0.6892 - acc: 0.5318 - val_loss: 0.6897 - val_acc: 0.5276\n",
      "Epoch 27/100\n",
      "802/810 [============================>.] - ETA: 0s - loss: 0.6892 - acc: 0.5323\n",
      "Epoch 27: val_loss did not improve from 0.68967\n",
      "810/810 [==============================] - 5s 6ms/step - loss: 0.6892 - acc: 0.5323 - val_loss: 0.6898 - val_acc: 0.5291\n",
      "Epoch 28/100\n",
      "805/810 [============================>.] - ETA: 0s - loss: 0.6891 - acc: 0.5322\n",
      "Epoch 28: val_loss did not improve from 0.68967\n",
      "810/810 [==============================] - 5s 6ms/step - loss: 0.6891 - acc: 0.5323 - val_loss: 0.6898 - val_acc: 0.5284\n",
      "Epoch 29/100\n",
      "802/810 [============================>.] - ETA: 0s - loss: 0.6891 - acc: 0.5324\n",
      "Epoch 29: val_loss did not improve from 0.68967\n",
      "810/810 [==============================] - 5s 6ms/step - loss: 0.6891 - acc: 0.5324 - val_loss: 0.6897 - val_acc: 0.5294\n",
      "Epoch 30/100\n",
      "810/810 [==============================] - ETA: 0s - loss: 0.6891 - acc: 0.5327\n",
      "Epoch 30: val_loss did not improve from 0.68967\n",
      "810/810 [==============================] - 5s 6ms/step - loss: 0.6891 - acc: 0.5327 - val_loss: 0.6899 - val_acc: 0.5287\n",
      "Epoch 31/100\n",
      "810/810 [==============================] - ETA: 0s - loss: 0.6891 - acc: 0.5328\n",
      "Epoch 31: val_loss improved from 0.68967 to 0.68963, saving model to ./saved_models/DCTR_ee_dijets_1D_probStoUD.h5\n",
      "810/810 [==============================] - 5s 7ms/step - loss: 0.6891 - acc: 0.5328 - val_loss: 0.6896 - val_acc: 0.5297\n",
      "Epoch 32/100\n",
      "805/810 [============================>.] - ETA: 0s - loss: 0.6890 - acc: 0.5327\n",
      "Epoch 32: val_loss did not improve from 0.68963\n",
      "810/810 [==============================] - 5s 6ms/step - loss: 0.6890 - acc: 0.5327 - val_loss: 0.6897 - val_acc: 0.5289\n",
      "Epoch 33/100\n",
      "809/810 [============================>.] - ETA: 0s - loss: 0.6890 - acc: 0.5331\n",
      "Epoch 33: val_loss did not improve from 0.68963\n",
      "810/810 [==============================] - 5s 6ms/step - loss: 0.6890 - acc: 0.5331 - val_loss: 0.6898 - val_acc: 0.5287\n",
      "Epoch 34/100\n",
      "808/810 [============================>.] - ETA: 0s - loss: 0.6890 - acc: 0.5330\n",
      "Epoch 34: val_loss did not improve from 0.68963\n",
      "810/810 [==============================] - 5s 6ms/step - loss: 0.6890 - acc: 0.5329 - val_loss: 0.6897 - val_acc: 0.5287\n",
      "Epoch 35/100\n",
      "804/810 [============================>.] - ETA: 0s - loss: 0.6889 - acc: 0.5333\n",
      "Epoch 35: val_loss did not improve from 0.68963\n",
      "810/810 [==============================] - 5s 6ms/step - loss: 0.6889 - acc: 0.5333 - val_loss: 0.6897 - val_acc: 0.5293\n",
      "Epoch 36/100\n",
      "810/810 [==============================] - ETA: 0s - loss: 0.6889 - acc: 0.5333\n",
      "Epoch 36: val_loss did not improve from 0.68963\n",
      "810/810 [==============================] - 5s 6ms/step - loss: 0.6889 - acc: 0.5333 - val_loss: 0.6897 - val_acc: 0.5275\n",
      "Epoch 37/100\n",
      "804/810 [============================>.] - ETA: 0s - loss: 0.6888 - acc: 0.5337\n",
      "Epoch 37: val_loss did not improve from 0.68963\n",
      "810/810 [==============================] - 5s 6ms/step - loss: 0.6888 - acc: 0.5337 - val_loss: 0.6897 - val_acc: 0.5282\n",
      "Epoch 38/100\n",
      "802/810 [============================>.] - ETA: 0s - loss: 0.6888 - acc: 0.5341\n",
      "Epoch 38: val_loss did not improve from 0.68963\n",
      "810/810 [==============================] - 5s 6ms/step - loss: 0.6888 - acc: 0.5341 - val_loss: 0.6903 - val_acc: 0.5265\n",
      "Epoch 39/100\n",
      "802/810 [============================>.] - ETA: 0s - loss: 0.6888 - acc: 0.5342\n",
      "Epoch 39: val_loss did not improve from 0.68963\n",
      "810/810 [==============================] - 5s 6ms/step - loss: 0.6888 - acc: 0.5342 - val_loss: 0.6899 - val_acc: 0.5288\n",
      "Epoch 40/100\n",
      "802/810 [============================>.] - ETA: 0s - loss: 0.6887 - acc: 0.5348\n",
      "Epoch 40: val_loss did not improve from 0.68963\n",
      "810/810 [==============================] - 5s 6ms/step - loss: 0.6887 - acc: 0.5348 - val_loss: 0.6899 - val_acc: 0.5288\n",
      "Epoch 41/100\n",
      "803/810 [============================>.] - ETA: 0s - loss: 0.6887 - acc: 0.5346\n",
      "Epoch 41: val_loss did not improve from 0.68963\n",
      "Restoring model weights from the end of the best epoch: 31.\n",
      "810/810 [==============================] - 5s 6ms/step - loss: 0.6887 - acc: 0.5347 - val_loss: 0.6899 - val_acc: 0.5291\n",
      "Epoch 41: early stopping\n"
     ]
    }
   ],
   "source": [
    "history = model_interpolate.fit(X_train, Y_train,\n",
    "                    epochs = epochs,\n",
    "                    batch_size = batch_size,\n",
    "                    validation_data = (X_val, Y_val),\n",
    "                    verbose = 1, \n",
    "                    callbacks = callbacks)"
   ]
  },
  {
   "cell_type": "markdown",
   "metadata": {},
   "source": [
    "# Plot History"
   ]
  },
  {
   "cell_type": "code",
   "execution_count": 15,
   "metadata": {},
   "outputs": [
    {
     "data": {
      "image/png": "[encoded data removed]",
      "text/plain": [
       "<Figure size 432x288 with 1 Axes>"
      ]
     },
     "metadata": {
      "needs_background": "light"
     },
     "output_type": "display_data"
    }
   ],
   "source": [
    "plt.plot(history.history['loss'],     label = 'loss')\n",
    "plt.plot(history.history['val_loss'], label = 'val loss')\n",
    "plt.legend(loc=0)\n",
    "plt.ylabel('loss')\n",
    "plt.xlabel('Epochs')\n",
    "plt.show()"
   ]
  },
  {
   "cell_type": "markdown",
   "metadata": {},
   "source": [
    "# Load Model"
   ]
  },
  {
   "cell_type": "code",
   "execution_count": 16,
   "metadata": {},
   "outputs": [],
   "source": [
    "# load model from saved file\n",
    "dctr.model.load_weights('./saved_models/DCTR_ee_dijets_1D_probStoUD.h5')"
   ]
  },
  {
   "cell_type": "markdown",
   "metadata": {},
   "source": [
    "# Fitting"
   ]
  },
  {
   "cell_type": "markdown",
   "metadata": {},
   "source": [
    "## Loss Curve Model"
   ]
  },
  {
   "cell_type": "code",
   "execution_count": 16,
   "metadata": {},
   "outputs": [],
   "source": [
    "def model_parameter_finder(model_interpolate, X_dim, n_params, default_params, trainable_params):\n",
    "    \"\"\" \n",
    "    Get a model that trains on the input parameters\n",
    "    \n",
    "    Arguments:\n",
    "    - model_interpolate : a PFN model that has been trained to continuously interpolate over the input parameter dimensions\n",
    "    - X_dim : (int) - the dimension of the input expected by DCTR_model\n",
    "    - n_params : (int) - the number of n_params that are in X_dim\n",
    "    - default_params : (list of floats) - default values for each of the parameters\n",
    "    - trainable_params : (list of booleans) - True for parameters that you want to fit, false for parameters that should be fixed at default value\n",
    "\n",
    "    Returns:\n",
    "    - model_parameter_finder: a compiled model that gradient descends only on the trainable parameters\n",
    "    \"\"\"\n",
    "    \n",
    "    # Do sanity checks on inputs\n",
    "    assert X_dim >=n_params, \"X_dim must be larger than n_params. X_dim includes the dimensionality of the 4-vector + number of parameters\"\n",
    "    assert n_params == len(default_params), \"Dimension mismatch between n_params and number of default parameters given. len(default_params) must equal n_params\"\n",
    "    assert n_params == len(trainable_params), \"Dimension mismatch between n_params and trainable_params. len(trainable_params) must equal n_params.\"\n",
    "    assert np.any(trainable_params), \"All parameters are set to non-trainable.\"\n",
    "    \n",
    "    # Convert input parameters to weights and make then trainable or non-trainable\n",
    "    p_models = []\n",
    "    for i in range(n_params):\n",
    "        p_models.append(Dense(1, use_bias=False, kernel_initializer=Constant(default_params[i]), trainable=trainable_params[i], name='tuning_param_{}'.format(i)))\n",
    "\n",
    "    parameter_inputs = keras.Input(shape=(None, 4), name='mp_input')\n",
    "    # parameter_models =  keras.layers.concatenate([p_models[0](parameter_inputs), p_models[1](parameter_inputs), p_models[2](parameter_inputs)])\n",
    "    # model_parameters = keras.Model(inputs = parameter_inputs, outputs = parameter_models)\n",
    "    ones = tf.ones_like(parameter_inputs[:,:,0:1])\n",
    "    full_input =  keras.layers.concatenate([parameter_inputs, p_models[0](ones), p_models[1](ones), p_models[2](ones)])\n",
    "    model_inputs = keras.Model(inputs = parameter_inputs, outputs = full_input)\n",
    "\n",
    "    # Set all weights in interpolation_model to non-trainable\n",
    "    for l in model_interpolate.layers: \n",
    "        l.trainable = False\n",
    "\n",
    "    # Define input to DCTR_fit_model\n",
    "    raw_inputs = keras.Input(shape=(None, X_dim - n_params), name='pf_input')\n",
    "    inputs = model_inputs(raw_inputs)\n",
    "    output = model_interpolate.model(inputs)\n",
    "\n",
    "    # Define full model\n",
    "    model_parameter_finder = keras.Model(inputs = raw_inputs, outputs = output, name='pf_output')\n",
    "    optimizer = keras.optimizers.Adam(learning_rate=1e-4)\n",
    "    loss = keras.losses.CategoricalCrossentropy()\n",
    "\n",
    "    # Compile with loss function\n",
    "    model_parameter_finder.compile(optimizer=optimizer, loss=loss)\n",
    "    \n",
    "    return model_parameter_finder"
   ]
  },
  {
   "cell_type": "code",
   "execution_count": 17,
   "metadata": {},
   "outputs": [],
   "source": [
    "def set_params(model_parameter_finder, params, param_layer=1):\n",
    "    alphaS, aLund, StoUD = params\n",
    "    weights = [np.array([[alphaS]], dtype=np.float32), np.array([[aLund]], dtype=np.float32), np.array([[StoUD]], dtype=np.float32)]\n",
    "    model_parameter_finder.layers[param_layer].set_weights(weights)\n",
    "    # print(model_parameter_finder.layers[param_layer].get_weights())\n",
    "    \n",
    "def get_loss(X, Y, model_parameter_finder, params, batch_size=1000, param_layer=1):\n",
    "    set_params(model_parameter_finder, params, param_layer)\n",
    "    return model_parameter_finder.evaluate(x=X, y=Y, batch_size=batch_size)"
   ]
  },
  {
   "cell_type": "code",
   "execution_count": 18,
   "metadata": {},
   "outputs": [],
   "source": [
    "model_pf = model_parameter_finder(model_interpolate, X_dim =7, n_params = 3, \n",
    "                                    default_params   = [0.1365, 0.68, 0.217], # default params for [alpha_s, aLund, StoUD]\n",
    "                                    trainable_params = [False, False, True]) # Only train StoUD"
   ]
  },
  {
   "cell_type": "code",
   "execution_count": 19,
   "metadata": {},
   "outputs": [
    {
     "name": "stdout",
     "output_type": "stream",
     "text": [
      "Model: \"pf_output\"\n",
      "_________________________________________________________________\n",
      " Layer (type)                Output Shape              Param #   \n",
      "=================================================================\n",
      " pf_input (InputLayer)       [(None, None, 4)]         0         \n",
      "                                                                 \n",
      " model_2 (Functional)        (None, None, 7)           3         \n",
      "                                                                 \n",
      " model (Functional)          (None, 2)                 57130     \n",
      "                                                                 \n",
      "=================================================================\n",
      "Total params: 57,133\n",
      "Trainable params: 1\n",
      "Non-trainable params: 57,132\n",
      "_________________________________________________________________\n"
     ]
    }
   ],
   "source": [
    "model_pf = model_parameter_finder(model_interpolate, X_dim =7, n_params = 3, \n",
    "                               default_params   = [0.1365, 0.68, 0.217], # default params for [alpha_s, aLund, StoUD]\n",
    "                               trainable_params = [False, True, False]) # Only train aLund\n",
    "\n",
    "model_pf.summary()"
   ]
  },
  {
   "cell_type": "code",
   "execution_count": 20,
   "metadata": {},
   "outputs": [
    {
     "name": "stdout",
     "output_type": "stream",
     "text": [
      "[<tf.Variable 'tuning_param_1/kernel:0' shape=(1, 1) dtype=float32, numpy=array([[0.68]], dtype=float32)>]\n",
      "You must install pydot (`pip install pydot`) and install graphviz (see instructions at https://graphviz.gitlab.io/download/) for plot_model/model_to_dot to work.\n"
     ]
    }
   ],
   "source": [
    "print(model_pf.trainable_weights)\n",
    "keras.utils.plot_model(model_pf, \"my_second_model_with_shape_info.png\", show_shapes=True)"
   ]
  },
  {
   "cell_type": "markdown",
   "metadata": {},
   "source": [
    "## Load Data"
   ]
  },
  {
   "cell_type": "code",
   "execution_count": 22,
   "metadata": {},
   "outputs": [],
   "source": [
    "default_dataset = np.load(data_dir + 'test1D_default.npz')\n",
    "unknown_dataset = np.load(data_dir + 'test1D_probStoUD.npz')"
   ]
  },
  {
   "cell_type": "code",
   "execution_count": 23,
   "metadata": {},
   "outputs": [],
   "source": [
    "X_default = preprocess_data(default_dataset['jet'][:,:,:4])\n",
    "X_unknown = preprocess_data(unknown_dataset['jet'][:,:,:4])\n",
    "\n",
    "Y_default = np.zeros_like(X_unknown[:,0,0])\n",
    "Y_unknown = np.ones_like(X_unknown[:,0,0])"
   ]
  },
  {
   "cell_type": "code",
   "execution_count": 24,
   "metadata": {},
   "outputs": [],
   "source": [
    "X_fit = np.concatenate((X_default, X_unknown), axis = 0)\n",
    "Y_fit = np.concatenate((Y_default, Y_unknown), axis = 0)\n",
    "Y_fit = to_categorical(Y_fit, num_classes=2)"
   ]
  },
  {
   "cell_type": "code",
   "execution_count": 25,
   "metadata": {},
   "outputs": [],
   "source": [
    "X_fit, _, Y_fit, _ = data_split(X_fit, Y_fit, test=0, shuffle=True)"
   ]
  },
  {
   "cell_type": "markdown",
   "metadata": {},
   "source": [
    "## Evaluate Loss as a function of MC parameter"
   ]
  },
  {
   "cell_type": "code",
   "execution_count": 26,
   "metadata": {},
   "outputs": [],
   "source": [
    "n = 10000\n",
    "X_f=X_fit[0:n]"
   ]
  },
  {
   "cell_type": "code",
   "execution_count": 27,
   "metadata": {},
   "outputs": [],
   "source": [
    "a1 = [0.1365,0.68,0.217] * tf.ones((n, 51, 3))\n",
    "a2 = [0.1365,0.68,0.24] * tf.ones((n, 51, 3))\n",
    "a3 = [0.1365,0.68,0.27] * tf.ones((n, 51, 3))\n",
    "a4 = [0.1365,0.68,0.3] * tf.ones((n, 51, 3))\n",
    "b1 = tf.concat([X_f, a1], axis=-1)\n",
    "b2 = tf.concat([X_f, a2], axis=-1)\n",
    "b3 = tf.concat([X_f, a3], axis=-1)\n",
    "b4 = tf.concat([X_f, a4], axis=-1)\n",
    "preds1 = model_interpolate.model(b1[0:n])\n",
    "preds2 = model_interpolate.model(b2[0:n])\n",
    "preds3 = model_interpolate.model(b3[0:n])\n",
    "preds4 = model_interpolate.model(b4[0:n])\n",
    "loss = keras.losses.CategoricalCrossentropy()"
   ]
  },
  {
   "cell_type": "code",
   "execution_count": 28,
   "metadata": {},
   "outputs": [
    {
     "name": "stdout",
     "output_type": "stream",
     "text": [
      "tf.Tensor(0.6923539, shape=(), dtype=float32)\n",
      "tf.Tensor(0.691508, shape=(), dtype=float32)\n",
      "tf.Tensor(0.6922504, shape=(), dtype=float32)\n",
      "tf.Tensor(0.6939798, shape=(), dtype=float32)\n"
     ]
    }
   ],
   "source": [
    "print(loss(Y_fit[0:n], preds1))\n",
    "print(loss(Y_fit[0:n], preds2))\n",
    "print(loss(Y_fit[0:n], preds3))\n",
    "print(loss(Y_fit[0:n], preds4))"
   ]
  },
  {
   "cell_type": "code",
   "execution_count": 29,
   "metadata": {},
   "outputs": [
    {
     "name": "stdout",
     "output_type": "stream",
     "text": [
      "1800/1800 [==============================] - 4s 2ms/step - loss: 0.6916\n",
      "0.6915905475616455\n",
      "1800/1800 [==============================] - 4s 2ms/step - loss: 0.6926\n",
      "0.6926363110542297\n",
      "1800/1800 [==============================] - 4s 2ms/step - loss: 0.6951\n",
      "0.6950533390045166\n",
      "1800/1800 [==============================] - 4s 2ms/step - loss: 0.6992\n",
      "0.6991843581199646\n"
     ]
    }
   ],
   "source": [
    "print(get_loss(X_fit, Y_fit, model_pf, [0.1365, 0.6, 0.217]))\n",
    "print(get_loss(X_fit, Y_fit, model_pf, [0.1365, 0.7, 0.217]))\n",
    "print(get_loss(X_fit, Y_fit, model_pf, [0.1365, 0.8, 0.217]))\n",
    "print(get_loss(X_fit, Y_fit, model_pf, [0.1365, 0.9, 0.217]))"
   ]
  },
  {
   "cell_type": "code",
   "execution_count": 31,
   "metadata": {
    "scrolled": true
   },
   "outputs": [
    {
     "name": "stdout",
     "output_type": "stream",
     "text": [
      "1800/1800 [==============================] - 4s 2ms/step - loss: 0.6940\n",
      "1800/1800 [==============================] - 3s 2ms/step - loss: 0.6935\n",
      "1800/1800 [==============================] - 4s 2ms/step - loss: 0.6932\n",
      "1800/1800 [==============================] - 4s 2ms/step - loss: 0.6929\n",
      "1800/1800 [==============================] - 4s 2ms/step - loss: 0.6926\n",
      "1800/1800 [==============================] - 4s 2ms/step - loss: 0.6925\n",
      "1800/1800 [==============================] - 4s 2ms/step - loss: 0.6923\n",
      "1800/1800 [==============================] - 4s 2ms/step - loss: 0.6921\n",
      "1800/1800 [==============================] - 4s 2ms/step - loss: 0.6918\n",
      "1800/1800 [==============================] - 4s 2ms/step - loss: 0.6916\n",
      "1800/1800 [==============================] - 4s 2ms/step - loss: 0.6914\n",
      "1800/1800 [==============================] - 4s 2ms/step - loss: 0.6913\n",
      "1800/1800 [==============================] - 4s 2ms/step - loss: 0.6913\n",
      "1800/1800 [==============================] - 4s 2ms/step - loss: 0.6913\n",
      "1800/1800 [==============================] - 4s 2ms/step - loss: 0.6913\n",
      "1800/1800 [==============================] - 4s 2ms/step - loss: 0.6913\n",
      "1800/1800 [==============================] - 4s 2ms/step - loss: 0.6914\n",
      "1800/1800 [==============================] - 4s 2ms/step - loss: 0.6914\n",
      "1800/1800 [==============================] - 4s 2ms/step - loss: 0.6915\n",
      "1800/1800 [==============================] - 4s 2ms/step - loss: 0.6916\n",
      "1800/1800 [==============================] - 4s 2ms/step - loss: 0.6917\n",
      "1800/1800 [==============================] - 3s 2ms/step - loss: 0.6918\n",
      "1800/1800 [==============================] - 4s 2ms/step - loss: 0.6919\n",
      "1800/1800 [==============================] - 4s 2ms/step - loss: 0.6920\n",
      "1800/1800 [==============================] - 4s 2ms/step - loss: 0.6922\n",
      "1800/1800 [==============================] - 4s 2ms/step - loss: 0.6923\n",
      "1800/1800 [==============================] - 4s 2ms/step - loss: 0.6924\n",
      "1800/1800 [==============================] - 4s 2ms/step - loss: 0.6926\n",
      "1800/1800 [==============================] - 4s 2ms/step - loss: 0.6928\n",
      "1800/1800 [==============================] - 4s 2ms/step - loss: 0.6929\n",
      "1800/1800 [==============================] - 4s 2ms/step - loss: 0.6931\n"
     ]
    }
   ],
   "source": [
    "probStoUD_loss = np.array([(p, get_loss(X_fit, Y_fit, model_pf, [0.1365, 0.68, p])) for p in np.linspace(0.2,0.3, 31)])\n"
   ]
  },
  {
   "cell_type": "code",
   "execution_count": 34,
   "metadata": {},
   "outputs": [
    {
     "data": {
      "image/png": "[encoded data removed]",
      "text/plain": [
       "<Figure size 432x288 with 1 Axes>"
      ]
     },
     "metadata": {
      "needs_background": "light"
     },
     "output_type": "display_data"
    }
   ],
   "source": [
    "plt.plot(*probStoUD_loss.T)\n",
    "plt.ylabel('Loss')\n",
    "plt.xlabel(r'probStoUD')\n",
    "plt.tight_layout()\n",
    "plt.show()"
   ]
  },
  {
   "cell_type": "code",
   "execution_count": 35,
   "metadata": {},
   "outputs": [
    {
     "data": {
      "text/plain": [
       "array([0.24])"
      ]
     },
     "execution_count": 35,
     "metadata": {},
     "output_type": "execute_result"
    }
   ],
   "source": [
    "def get_min_loss(losses, x0):\n",
    "    f = sp.interpolate.interp1d(losses[:,0], losses[:,1], fill_value=\"extrapolate\")\n",
    "    return sp.optimize.minimize(f, x0=x0)['x']\n",
    "\n",
    "get_min_loss(probStoUD_loss, x0=0.217)"
   ]
  },
  {
   "cell_type": "markdown",
   "metadata": {},
   "source": [
    "## Tune with Gradient Descent"
   ]
  },
  {
   "cell_type": "code",
   "execution_count": 46,
   "metadata": {},
   "outputs": [],
   "source": [
    "set_MC_params(dctr_fit_model, [0.217, 0.1365, 0.68])"
   ]
  },
  {
   "cell_type": "code",
   "execution_count": 47,
   "metadata": {},
   "outputs": [],
   "source": [
    "print_weights = keras.callbacks.LambdaCallback(on_epoch_end=lambda batch, logs: print(\"probStoUD fit = \", \n",
    "                                               dctr_fit_model.get_weights()[0][0][0]))\n",
    "fit_vals = [0.217]\n",
    "append_weights = keras.callbacks.LambdaCallback(on_epoch_end=lambda batch, logs: \n",
    "                                               fit_vals.append(dctr_fit_model.get_weights()[0][0][0]))\n",
    "\n",
    "callbacks = [print_weights, append_weights]"
   ]
  },
  {
   "cell_type": "code",
   "execution_count": 48,
   "metadata": {
    "scrolled": true
   },
   "outputs": [
    {
     "name": "stdout",
     "output_type": "stream",
     "text": [
      "Epoch 1/20\n",
      "1800000/1800000 [==============================] - 9s 5us/step - loss: 0.6919\n",
      "probStoUD fit =  0.23250206\n",
      "Epoch 2/20\n",
      "1800000/1800000 [==============================] - 9s 5us/step - loss: 0.6912\n",
      "probStoUD fit =  0.24520627\n",
      "Epoch 3/20\n",
      "1800000/1800000 [==============================] - 9s 5us/step - loss: 0.6908\n",
      "probStoUD fit =  0.25438046\n",
      "Epoch 4/20\n",
      "1800000/1800000 [==============================] - 9s 5us/step - loss: 0.6907\n",
      "probStoUD fit =  0.26044643\n",
      "Epoch 5/20\n",
      "1800000/1800000 [==============================] - 9s 5us/step - loss: 0.6906\n",
      "probStoUD fit =  0.26435077\n",
      "Epoch 6/20\n",
      "1800000/1800000 [==============================] - 9s 5us/step - loss: 0.6906\n",
      "probStoUD fit =  0.26648346\n",
      "Epoch 7/20\n",
      "1800000/1800000 [==============================] - 9s 5us/step - loss: 0.6906\n",
      "probStoUD fit =  0.2679642\n",
      "Epoch 8/20\n",
      "1800000/1800000 [==============================] - 9s 5us/step - loss: 0.6906\n",
      "probStoUD fit =  0.2687535\n",
      "Epoch 9/20\n",
      "1800000/1800000 [==============================] - 9s 5us/step - loss: 0.6906\n",
      "probStoUD fit =  0.26901954\n",
      "Epoch 10/20\n",
      "1800000/1800000 [==============================] - 9s 5us/step - loss: 0.6906\n",
      "probStoUD fit =  0.26908407\n",
      "Epoch 11/20\n",
      "1800000/1800000 [==============================] - 9s 5us/step - loss: 0.6906\n",
      "probStoUD fit =  0.26917344\n",
      "Epoch 12/20\n",
      "1800000/1800000 [==============================] - 9s 5us/step - loss: 0.6906\n",
      "probStoUD fit =  0.26952386\n",
      "Epoch 13/20\n",
      "1800000/1800000 [==============================] - 9s 5us/step - loss: 0.6906\n",
      "probStoUD fit =  0.26926184\n",
      "Epoch 14/20\n",
      "1800000/1800000 [==============================] - 9s 5us/step - loss: 0.6906\n",
      "probStoUD fit =  0.26908416\n",
      "Epoch 15/20\n",
      "1800000/1800000 [==============================] - 9s 5us/step - loss: 0.6906\n",
      "probStoUD fit =  0.26912823\n",
      "Epoch 16/20\n",
      "1800000/1800000 [==============================] - 9s 5us/step - loss: 0.6906\n",
      "probStoUD fit =  0.2694719\n",
      "Epoch 17/20\n",
      "1800000/1800000 [==============================] - 9s 5us/step - loss: 0.6906\n",
      "probStoUD fit =  0.26926452\n",
      "Epoch 18/20\n",
      "1800000/1800000 [==============================] - 9s 5us/step - loss: 0.6906\n",
      "probStoUD fit =  0.26950207\n",
      "Epoch 19/20\n",
      "1800000/1800000 [==============================] - 9s 5us/step - loss: 0.6906\n",
      "probStoUD fit =  0.26946422\n",
      "Epoch 20/20\n",
      "1800000/1800000 [==============================] - 9s 5us/step - loss: 0.6906\n",
      "probStoUD fit =  0.26933873\n"
     ]
    },
    {
     "data": {
      "text/plain": [
       "<keras.callbacks.History at 0x7f67d83506d8>"
      ]
     },
     "execution_count": 48,
     "metadata": {},
     "output_type": "execute_result"
    }
   ],
   "source": [
    "dctr_fit_model.fit(X_fit, Y_fit,\n",
    "                   epochs=20, \n",
    "                   batch_size=10000,\n",
    "                   callbacks = callbacks)"
   ]
  },
  {
   "cell_type": "code",
   "execution_count": 49,
   "metadata": {},
   "outputs": [
    {
     "data": {
      "image/png": "[encoded data removed]",
      "text/plain": [
       "<Figure size 432x288 with 1 Axes>"
      ]
     },
     "metadata": {
      "needs_background": "light"
     },
     "output_type": "display_data"
    }
   ],
   "source": [
    "plt.plot(fit_vals, marker='o')\n",
    "plt.xlabel(\"Epochs\")\n",
    "plt.ylabel(r'probStoUD')\n",
    "plt.show()"
   ]
  },
  {
   "cell_type": "code",
   "execution_count": null,
   "metadata": {},
   "outputs": [],
   "source": []
  }
 ],
 "metadata": {
  "kernelspec": {
   "display_name": "Python 3",
   "language": "python",
   "name": "python3"
  },
  "language_info": {
   "codemirror_mode": {
    "name": "ipython",
    "version": 3
   },
   "file_extension": ".py",
   "mimetype": "text/x-python",
   "name": "python",
   "nbconvert_exporter": "python",
   "pygments_lexer": "ipython3",
   "version": "3.8.13"
  }
 },
 "nbformat": 4,
 "nbformat_minor": 4
}
