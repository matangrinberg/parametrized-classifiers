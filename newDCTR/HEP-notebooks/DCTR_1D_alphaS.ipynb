{
 "cells": [
  {
   "cell_type": "markdown",
   "metadata": {
    "tags": []
   },
   "source": [
    "# Introduction"
   ]
  },
  {
   "cell_type": "markdown",
   "metadata": {},
   "source": [
    "This notebook applies the methods of parametrized classification to the Pythia electron-positron scattering dataset (https://zenodo.org/record/3518708). The data for each jet has 7 entries and takes the form $(p_T,\\eta,\\phi,\\text{pID},\\theta_1,\\theta_2,\\theta_3)$. These quantities are defined as follows:\n",
    "- $p_T$: tranverse momentum of the particle\n",
    "- $\\eta$: pseudorapidity (i.e. the angle of the particle relative to the beam axis)\n",
    "- $\\phi$: azimuthal angle (i.e. the angle in the plane transverse to the beam)\n",
    "- PID: Particle IDentification (for numbering scheme information see https://pdg.lbl.gov/2007/reviews/montecarlorpp.pdf)\n",
    "- $\\theta_1$: 𝚃𝚒𝚖𝚎𝚂𝚑𝚘𝚠𝚎𝚛:𝚊𝚕𝚙𝚑𝚊𝚂𝚟𝚊𝚕𝚞𝚎 $\\in [0.10, 0.18]$ (\"effective\" strong coupling constant $\\alpha_S$)\n",
    "- $\\theta_2$: 𝚂𝚝𝚛𝚒𝚗𝚐𝚉:𝚊𝙻𝚞𝚗𝚍 $\\in [0.50, 0.90]$ (Hadronization, determines how partons become hadrons, String model, $Z$)\n",
    "- $\\theta_3$: 𝚂𝚝𝚛𝚒𝚗𝚐𝙵𝚕𝚊𝚟:𝚙𝚛𝚘𝚋𝚂𝚝𝚘𝚄𝙳 $\\in [0.10, 0.30]$ (modeling parameters determining Strange behavior)\n",
    "\n",
    "These $\\theta_i$ values are Pythia parameters and were sampled uniformly according to the bounds shown above."
   ]
  },
  {
   "cell_type": "markdown",
   "metadata": {
    "tags": []
   },
   "source": [
    "## Imports"
   ]
  },
  {
   "cell_type": "code",
   "execution_count": 1,
   "metadata": {},
   "outputs": [],
   "source": [
    "import os\n",
    "import sys\n",
    "os.environ['KMP_DUPLICATE_LIB_OK']='True'\n",
    "sys.path.append('/global/home/users/mgrinberg/parametrized-classifiers/data')\n",
    "# sys.path.append('/Users/matangrinberg/Library/CloudStorage/GoogleDrive-matan.grinberg@gmail.com/My Drive/(21-24) University of California, Berkeley/ML HEP/parametrized-classifiers/data')\n",
    "\n"
   ]
  },
  {
   "cell_type": "code",
   "execution_count": 2,
   "metadata": {},
   "outputs": [],
   "source": [
    "# standard library imports\n",
    "from __future__ import absolute_import, division, print_function\n",
    "\n",
    "# standard numerical library imports\n",
    "import numpy as np\n",
    "import scipy as sp\n",
    "import tensorflow as tf\n",
    "import keras\n",
    "from keras.layers import Input, Flatten, Dense\n",
    "from keras.initializers import Constant\n",
    "from keras.backend import ones_like, zeros_like, concatenate\n",
    "\n",
    "# energyflow imports\n",
    "import energyflow as ef\n",
    "from energyflow.archs import PFN\n",
    "from energyflow.utils import data_split, remap_pids, to_categorical\n",
    "\n",
    "import matplotlib.pyplot as plt"
   ]
  },
  {
   "cell_type": "code",
   "execution_count": 3,
   "metadata": {},
   "outputs": [],
   "source": [
    "# Global plot settings\n",
    "# from matplotlib import rc\n",
    "# import matplotlib.font_manager\n",
    "# rc('font', family='serif')\n",
    "# rc('text', usetex=True)\n",
    "# rc('font', size=22) \n",
    "# rc('xtick', labelsize=15) \n",
    "# rc('ytick', labelsize=15) \n",
    "# rc('legend', fontsize=15)"
   ]
  },
  {
   "cell_type": "markdown",
   "metadata": {
    "tags": []
   },
   "source": [
    "# Load Data"
   ]
  },
  {
   "cell_type": "markdown",
   "metadata": {
    "tags": []
   },
   "source": [
    "## Utilities"
   ]
  },
  {
   "cell_type": "code",
   "execution_count": 4,
   "metadata": {},
   "outputs": [],
   "source": [
    "# normalize pT and center (y, phi)\n",
    "def normalize(x):\n",
    "    mask = x[:,0] > 0\n",
    "    yphi_avg = np.average(x[mask,1:3], weights=x[mask,0], axis=0)\n",
    "    x[mask,1:3] -= yphi_avg\n",
    "    x[mask,0] /= x[:,0].sum()\n",
    "    \n",
    "def preprocess_data(X):\n",
    "    for x in X:\n",
    "        normalize(x)\n",
    "    \n",
    "    # Remap PIDs to unique values in range [0,1], error_on_unknown flag for PIDs not in dictionary\n",
    "    remap_pids(X, pid_i=3, error_on_unknown=False)\n",
    "    return X"
   ]
  },
  {
   "cell_type": "markdown",
   "metadata": {
    "tags": []
   },
   "source": [
    "## Process data"
   ]
  },
  {
   "cell_type": "code",
   "execution_count": 5,
   "metadata": {},
   "outputs": [],
   "source": [
    "# Path to downloaded data from Zenodo\n",
    "data_dir = '/global/home/users/mgrinberg/parametrized-classifiers/data/'"
   ]
  },
  {
   "cell_type": "code",
   "execution_count": 6,
   "metadata": {},
   "outputs": [],
   "source": [
    "dataset = np.load(data_dir + '1D_alphaS_train.npz')"
   ]
  },
  {
   "cell_type": "code",
   "execution_count": 7,
   "metadata": {},
   "outputs": [],
   "source": [
    "X = preprocess_data(dataset['X'])\n",
    "Y = to_categorical(dataset['Y'], num_classes=2)"
   ]
  },
  {
   "cell_type": "code",
   "execution_count": 8,
   "metadata": {},
   "outputs": [],
   "source": [
    "X_train, X_val, Y_train, Y_val = data_split(X, Y, test=0.1)"
   ]
  },
  {
   "cell_type": "code",
   "execution_count": 9,
   "metadata": {},
   "outputs": [
    {
     "name": "stdout",
     "output_type": "stream",
     "text": [
      "(1620000, 51, 7)\n",
      "(1620000, 2)\n",
      "(180000, 51, 7)\n",
      "(180000, 2)\n"
     ]
    }
   ],
   "source": [
    "print(X_train.shape)\n",
    "print(Y_train.shape)\n",
    "print(X_val.shape)\n",
    "print(Y_val.shape)"
   ]
  },
  {
   "cell_type": "code",
   "execution_count": 10,
   "metadata": {},
   "outputs": [
    {
     "name": "stdout",
     "output_type": "stream",
     "text": [
      "[ 0.01318539  0.55405501 -0.53489438  0.2         0.14872301  0.68000001\n",
      "  0.21699999]\n"
     ]
    }
   ],
   "source": [
    "print(X_train[0, 0])"
   ]
  },
  {
   "cell_type": "markdown",
   "metadata": {
    "tags": []
   },
   "source": [
    "# Building/Training Interpolated Model"
   ]
  },
  {
   "cell_type": "code",
   "execution_count": 11,
   "metadata": {
    "scrolled": true
   },
   "outputs": [],
   "source": [
    "# network architecture parameters\n",
    "Phi_sizes = (100,100,128)\n",
    "F_sizes = (100,100,100)\n",
    "\n",
    "model_interpolate = PFN(input_dim=7, Phi_sizes=Phi_sizes, F_sizes=F_sizes, summary=False)"
   ]
  },
  {
   "cell_type": "code",
   "execution_count": 12,
   "metadata": {},
   "outputs": [],
   "source": [
    "save_label = 'DCTR_ee_dijets_1D_alphaS'\n",
    "checkpoint = keras.callbacks.ModelCheckpoint('./saved_models/' + save_label + '.h5', monitor='val_loss', verbose=2, save_best_only=True, mode='min')\n",
    "CSVLogger = keras.callbacks.CSVLogger('./logs/' + save_label + '_loss.csv', append=False)\n",
    "EarlyStopping = keras.callbacks.EarlyStopping(monitor='val_loss', min_delta=0, patience=10, verbose=1, restore_best_weights=True)\n",
    "callbacks = [checkpoint, CSVLogger, EarlyStopping]\n",
    "\n",
    "# epochs = 10\n",
    "epochs = 100\n",
    "batch_size = 2000"
   ]
  },
  {
   "cell_type": "code",
   "execution_count": 13,
   "metadata": {
    "scrolled": true,
    "tags": []
   },
   "outputs": [
    {
     "name": "stdout",
     "output_type": "stream",
     "text": [
      "Epoch 1/100\n",
      "809/810 [============================>.] - ETA: 0s - loss: 0.7031 - acc: 0.5223\n",
      "Epoch 1: val_loss improved from inf to 0.68551, saving model to ./saved_models/DCTR_ee_dijets_1D_alphaS.h5\n",
      "810/810 [==============================] - 7s 7ms/step - loss: 0.7030 - acc: 0.5223 - val_loss: 0.6855 - val_acc: 0.5455\n",
      "Epoch 2/100\n",
      "808/810 [============================>.] - ETA: 0s - loss: 0.6834 - acc: 0.5509\n",
      "Epoch 2: val_loss improved from 0.68551 to 0.68214, saving model to ./saved_models/DCTR_ee_dijets_1D_alphaS.h5\n",
      "810/810 [==============================] - 5s 7ms/step - loss: 0.6834 - acc: 0.5510 - val_loss: 0.6821 - val_acc: 0.5542\n",
      "Epoch 3/100\n",
      "803/810 [============================>.] - ETA: 0s - loss: 0.6820 - acc: 0.5544\n",
      "Epoch 3: val_loss improved from 0.68214 to 0.68138, saving model to ./saved_models/DCTR_ee_dijets_1D_alphaS.h5\n",
      "810/810 [==============================] - 5s 6ms/step - loss: 0.6820 - acc: 0.5544 - val_loss: 0.6814 - val_acc: 0.5547\n",
      "Epoch 4/100\n",
      "803/810 [============================>.] - ETA: 0s - loss: 0.6813 - acc: 0.5562\n",
      "Epoch 4: val_loss did not improve from 0.68138\n",
      "810/810 [==============================] - 5s 6ms/step - loss: 0.6813 - acc: 0.5561 - val_loss: 0.6833 - val_acc: 0.5482\n",
      "Epoch 5/100\n",
      "805/810 [============================>.] - ETA: 0s - loss: 0.6808 - acc: 0.5574\n",
      "Epoch 5: val_loss did not improve from 0.68138\n",
      "810/810 [==============================] - 5s 6ms/step - loss: 0.6808 - acc: 0.5574 - val_loss: 0.6831 - val_acc: 0.5500\n",
      "Epoch 6/100\n",
      "802/810 [============================>.] - ETA: 0s - loss: 0.6801 - acc: 0.5589\n",
      "Epoch 6: val_loss improved from 0.68138 to 0.67903, saving model to ./saved_models/DCTR_ee_dijets_1D_alphaS.h5\n",
      "810/810 [==============================] - 5s 6ms/step - loss: 0.6801 - acc: 0.5590 - val_loss: 0.6790 - val_acc: 0.5614\n",
      "Epoch 7/100\n",
      "810/810 [==============================] - ETA: 0s - loss: 0.6796 - acc: 0.5599\n",
      "Epoch 7: val_loss did not improve from 0.67903\n",
      "810/810 [==============================] - 5s 6ms/step - loss: 0.6796 - acc: 0.5599 - val_loss: 0.6791 - val_acc: 0.5602\n",
      "Epoch 8/100\n",
      "802/810 [============================>.] - ETA: 0s - loss: 0.6795 - acc: 0.5603\n",
      "Epoch 8: val_loss did not improve from 0.67903\n",
      "810/810 [==============================] - 5s 6ms/step - loss: 0.6795 - acc: 0.5603 - val_loss: 0.6796 - val_acc: 0.5585\n",
      "Epoch 9/100\n",
      "807/810 [============================>.] - ETA: 0s - loss: 0.6790 - acc: 0.5616\n",
      "Epoch 9: val_loss did not improve from 0.67903\n",
      "810/810 [==============================] - 5s 6ms/step - loss: 0.6790 - acc: 0.5616 - val_loss: 0.6797 - val_acc: 0.5609\n",
      "Epoch 10/100\n",
      "806/810 [============================>.] - ETA: 0s - loss: 0.6788 - acc: 0.5617\n",
      "Epoch 10: val_loss improved from 0.67903 to 0.67839, saving model to ./saved_models/DCTR_ee_dijets_1D_alphaS.h5\n",
      "810/810 [==============================] - 5s 6ms/step - loss: 0.6788 - acc: 0.5617 - val_loss: 0.6784 - val_acc: 0.5628\n",
      "Epoch 11/100\n",
      "802/810 [============================>.] - ETA: 0s - loss: 0.6786 - acc: 0.5620\n",
      "Epoch 11: val_loss improved from 0.67839 to 0.67820, saving model to ./saved_models/DCTR_ee_dijets_1D_alphaS.h5\n",
      "810/810 [==============================] - 5s 6ms/step - loss: 0.6786 - acc: 0.5621 - val_loss: 0.6782 - val_acc: 0.5619\n",
      "Epoch 12/100\n",
      "804/810 [============================>.] - ETA: 0s - loss: 0.6784 - acc: 0.5627\n",
      "Epoch 12: val_loss did not improve from 0.67820\n",
      "810/810 [==============================] - 5s 7ms/step - loss: 0.6784 - acc: 0.5627 - val_loss: 0.6793 - val_acc: 0.5603\n",
      "Epoch 13/100\n",
      "810/810 [==============================] - ETA: 0s - loss: 0.6780 - acc: 0.5632\n",
      "Epoch 13: val_loss improved from 0.67820 to 0.67787, saving model to ./saved_models/DCTR_ee_dijets_1D_alphaS.h5\n",
      "810/810 [==============================] - 5s 7ms/step - loss: 0.6780 - acc: 0.5632 - val_loss: 0.6779 - val_acc: 0.5622\n",
      "Epoch 14/100\n",
      "803/810 [============================>.] - ETA: 0s - loss: 0.6779 - acc: 0.5632\n",
      "Epoch 14: val_loss improved from 0.67787 to 0.67784, saving model to ./saved_models/DCTR_ee_dijets_1D_alphaS.h5\n",
      "810/810 [==============================] - 5s 6ms/step - loss: 0.6779 - acc: 0.5632 - val_loss: 0.6778 - val_acc: 0.5632\n",
      "Epoch 15/100\n",
      "809/810 [============================>.] - ETA: 0s - loss: 0.6778 - acc: 0.5640\n",
      "Epoch 15: val_loss improved from 0.67784 to 0.67772, saving model to ./saved_models/DCTR_ee_dijets_1D_alphaS.h5\n",
      "810/810 [==============================] - 5s 6ms/step - loss: 0.6778 - acc: 0.5640 - val_loss: 0.6777 - val_acc: 0.5632\n",
      "Epoch 16/100\n",
      "803/810 [============================>.] - ETA: 0s - loss: 0.6776 - acc: 0.5639\n",
      "Epoch 16: val_loss did not improve from 0.67772\n",
      "810/810 [==============================] - 5s 6ms/step - loss: 0.6777 - acc: 0.5638 - val_loss: 0.6779 - val_acc: 0.5641\n",
      "Epoch 17/100\n",
      "805/810 [============================>.] - ETA: 0s - loss: 0.6775 - acc: 0.5643\n",
      "Epoch 17: val_loss did not improve from 0.67772\n",
      "810/810 [==============================] - 5s 6ms/step - loss: 0.6775 - acc: 0.5643 - val_loss: 0.6781 - val_acc: 0.5624\n",
      "Epoch 18/100\n",
      "805/810 [============================>.] - ETA: 0s - loss: 0.6774 - acc: 0.5647\n",
      "Epoch 18: val_loss improved from 0.67772 to 0.67740, saving model to ./saved_models/DCTR_ee_dijets_1D_alphaS.h5\n",
      "810/810 [==============================] - 5s 6ms/step - loss: 0.6774 - acc: 0.5647 - val_loss: 0.6774 - val_acc: 0.5637\n",
      "Epoch 19/100\n",
      "809/810 [============================>.] - ETA: 0s - loss: 0.6773 - acc: 0.5644\n",
      "Epoch 19: val_loss did not improve from 0.67740\n",
      "810/810 [==============================] - 5s 6ms/step - loss: 0.6773 - acc: 0.5644 - val_loss: 0.6774 - val_acc: 0.5637\n",
      "Epoch 20/100\n",
      "805/810 [============================>.] - ETA: 0s - loss: 0.6773 - acc: 0.5647\n",
      "Epoch 20: val_loss did not improve from 0.67740\n",
      "810/810 [==============================] - 5s 7ms/step - loss: 0.6773 - acc: 0.5646 - val_loss: 0.6788 - val_acc: 0.5622\n",
      "Epoch 21/100\n",
      "803/810 [============================>.] - ETA: 0s - loss: 0.6771 - acc: 0.5654\n",
      "Epoch 21: val_loss improved from 0.67740 to 0.67730, saving model to ./saved_models/DCTR_ee_dijets_1D_alphaS.h5\n",
      "810/810 [==============================] - 5s 6ms/step - loss: 0.6771 - acc: 0.5654 - val_loss: 0.6773 - val_acc: 0.5635\n",
      "Epoch 22/100\n",
      "809/810 [============================>.] - ETA: 0s - loss: 0.6771 - acc: 0.5655\n",
      "Epoch 22: val_loss did not improve from 0.67730\n",
      "810/810 [==============================] - 5s 6ms/step - loss: 0.6771 - acc: 0.5655 - val_loss: 0.6775 - val_acc: 0.5626\n",
      "Epoch 23/100\n",
      "807/810 [============================>.] - ETA: 0s - loss: 0.6769 - acc: 0.5654\n",
      "Epoch 23: val_loss improved from 0.67730 to 0.67722, saving model to ./saved_models/DCTR_ee_dijets_1D_alphaS.h5\n",
      "810/810 [==============================] - 5s 6ms/step - loss: 0.6770 - acc: 0.5654 - val_loss: 0.6772 - val_acc: 0.5634\n",
      "Epoch 24/100\n",
      "810/810 [==============================] - ETA: 0s - loss: 0.6769 - acc: 0.5653\n",
      "Epoch 24: val_loss improved from 0.67722 to 0.67712, saving model to ./saved_models/DCTR_ee_dijets_1D_alphaS.h5\n",
      "810/810 [==============================] - 5s 6ms/step - loss: 0.6769 - acc: 0.5653 - val_loss: 0.6771 - val_acc: 0.5640\n",
      "Epoch 25/100\n",
      "809/810 [============================>.] - ETA: 0s - loss: 0.6768 - acc: 0.5659\n",
      "Epoch 25: val_loss improved from 0.67712 to 0.67694, saving model to ./saved_models/DCTR_ee_dijets_1D_alphaS.h5\n",
      "810/810 [==============================] - 5s 6ms/step - loss: 0.6768 - acc: 0.5659 - val_loss: 0.6769 - val_acc: 0.5644\n",
      "Epoch 26/100\n",
      "804/810 [============================>.] - ETA: 0s - loss: 0.6767 - acc: 0.5654\n",
      "Epoch 26: val_loss improved from 0.67694 to 0.67690, saving model to ./saved_models/DCTR_ee_dijets_1D_alphaS.h5\n",
      "810/810 [==============================] - 5s 6ms/step - loss: 0.6767 - acc: 0.5654 - val_loss: 0.6769 - val_acc: 0.5641\n",
      "Epoch 27/100\n",
      "804/810 [============================>.] - ETA: 0s - loss: 0.6767 - acc: 0.5664\n",
      "Epoch 27: val_loss did not improve from 0.67690\n",
      "810/810 [==============================] - 5s 6ms/step - loss: 0.6767 - acc: 0.5664 - val_loss: 0.6772 - val_acc: 0.5639\n",
      "Epoch 28/100\n",
      "810/810 [==============================] - ETA: 0s - loss: 0.6765 - acc: 0.5666\n",
      "Epoch 28: val_loss did not improve from 0.67690\n",
      "810/810 [==============================] - 5s 6ms/step - loss: 0.6765 - acc: 0.5666 - val_loss: 0.6776 - val_acc: 0.5617\n",
      "Epoch 29/100\n",
      "802/810 [============================>.] - ETA: 0s - loss: 0.6765 - acc: 0.5662\n",
      "Epoch 29: val_loss did not improve from 0.67690\n",
      "810/810 [==============================] - 5s 6ms/step - loss: 0.6765 - acc: 0.5663 - val_loss: 0.6776 - val_acc: 0.5629\n",
      "Epoch 30/100\n",
      "810/810 [==============================] - ETA: 0s - loss: 0.6765 - acc: 0.5661\n",
      "Epoch 30: val_loss improved from 0.67690 to 0.67687, saving model to ./saved_models/DCTR_ee_dijets_1D_alphaS.h5\n",
      "810/810 [==============================] - 5s 6ms/step - loss: 0.6765 - acc: 0.5661 - val_loss: 0.6769 - val_acc: 0.5641\n",
      "Epoch 31/100\n",
      "810/810 [==============================] - ETA: 0s - loss: 0.6763 - acc: 0.5670\n",
      "Epoch 31: val_loss did not improve from 0.67687\n",
      "810/810 [==============================] - 5s 6ms/step - loss: 0.6763 - acc: 0.5670 - val_loss: 0.6770 - val_acc: 0.5650\n",
      "Epoch 32/100\n",
      "803/810 [============================>.] - ETA: 0s - loss: 0.6763 - acc: 0.5675\n",
      "Epoch 32: val_loss did not improve from 0.67687\n",
      "810/810 [==============================] - 5s 6ms/step - loss: 0.6763 - acc: 0.5675 - val_loss: 0.6771 - val_acc: 0.5636\n",
      "Epoch 33/100\n",
      "810/810 [==============================] - ETA: 0s - loss: 0.6762 - acc: 0.5671\n",
      "Epoch 33: val_loss did not improve from 0.67687\n",
      "810/810 [==============================] - 5s 6ms/step - loss: 0.6762 - acc: 0.5671 - val_loss: 0.6770 - val_acc: 0.5638\n",
      "Epoch 34/100\n",
      "810/810 [==============================] - ETA: 0s - loss: 0.6761 - acc: 0.5672\n",
      "Epoch 34: val_loss did not improve from 0.67687\n",
      "810/810 [==============================] - 5s 7ms/step - loss: 0.6761 - acc: 0.5672 - val_loss: 0.6773 - val_acc: 0.5630\n",
      "Epoch 35/100\n",
      "809/810 [============================>.] - ETA: 0s - loss: 0.6761 - acc: 0.5672\n",
      "Epoch 35: val_loss did not improve from 0.67687\n",
      "810/810 [==============================] - 5s 6ms/step - loss: 0.6761 - acc: 0.5672 - val_loss: 0.6775 - val_acc: 0.5629\n",
      "Epoch 36/100\n",
      "810/810 [==============================] - ETA: 0s - loss: 0.6761 - acc: 0.5672\n",
      "Epoch 36: val_loss did not improve from 0.67687\n",
      "810/810 [==============================] - 5s 6ms/step - loss: 0.6761 - acc: 0.5672 - val_loss: 0.6775 - val_acc: 0.5634\n",
      "Epoch 37/100\n",
      "810/810 [==============================] - ETA: 0s - loss: 0.6759 - acc: 0.5684\n",
      "Epoch 37: val_loss did not improve from 0.67687\n",
      "810/810 [==============================] - 5s 6ms/step - loss: 0.6759 - acc: 0.5684 - val_loss: 0.6771 - val_acc: 0.5630\n",
      "Epoch 38/100\n",
      "805/810 [============================>.] - ETA: 0s - loss: 0.6758 - acc: 0.5677\n",
      "Epoch 38: val_loss did not improve from 0.67687\n",
      "810/810 [==============================] - 5s 6ms/step - loss: 0.6758 - acc: 0.5677 - val_loss: 0.6774 - val_acc: 0.5628\n",
      "Epoch 39/100\n",
      "810/810 [==============================] - ETA: 0s - loss: 0.6757 - acc: 0.5682\n",
      "Epoch 39: val_loss did not improve from 0.67687\n",
      "810/810 [==============================] - 5s 6ms/step - loss: 0.6757 - acc: 0.5682 - val_loss: 0.6770 - val_acc: 0.5645\n",
      "Epoch 40/100\n",
      "802/810 [============================>.] - ETA: 0s - loss: 0.6756 - acc: 0.5685\n",
      "Epoch 40: val_loss did not improve from 0.67687\n",
      "Restoring model weights from the end of the best epoch: 30.\n",
      "810/810 [==============================] - 5s 6ms/step - loss: 0.6756 - acc: 0.5684 - val_loss: 0.6772 - val_acc: 0.5638\n",
      "Epoch 40: early stopping\n"
     ]
    }
   ],
   "source": [
    "history = model_interpolate.fit(X_train, Y_train,\n",
    "                    epochs = epochs,\n",
    "                    batch_size = batch_size,\n",
    "                    validation_data = (X_val, Y_val),\n",
    "                    verbose = 1, \n",
    "                    callbacks = callbacks)"
   ]
  },
  {
   "cell_type": "markdown",
   "metadata": {
    "tags": []
   },
   "source": [
    "## Plot History"
   ]
  },
  {
   "cell_type": "code",
   "execution_count": 14,
   "metadata": {},
   "outputs": [
    {
     "data": {
      "image/png": "[encoded data removed]",
      "text/plain": [
       "<Figure size 432x288 with 1 Axes>"
      ]
     },
     "metadata": {
      "needs_background": "light"
     },
     "output_type": "display_data"
    }
   ],
   "source": [
    "plt.plot(history.history['loss'],     label = 'loss')\n",
    "plt.plot(history.history['val_loss'], label = 'val loss')\n",
    "plt.legend(loc=0)\n",
    "plt.ylabel('loss')\n",
    "plt.xlabel('Epochs')\n",
    "plt.show()"
   ]
  },
  {
   "cell_type": "markdown",
   "metadata": {
    "tags": []
   },
   "source": [
    "# Load Interpolated Model"
   ]
  },
  {
   "cell_type": "code",
   "execution_count": 15,
   "metadata": {},
   "outputs": [],
   "source": [
    "# load model from saved file\n",
    "model_interpolate.model.load_weights('./saved_models/DCTR_ee_dijets_1D_alphaS_old.h5')"
   ]
  },
  {
   "cell_type": "markdown",
   "metadata": {
    "tags": []
   },
   "source": [
    "# Fitting"
   ]
  },
  {
   "cell_type": "markdown",
   "metadata": {},
   "source": [
    "## Parameter-Finder Model"
   ]
  },
  {
   "cell_type": "code",
   "execution_count": 16,
   "metadata": {},
   "outputs": [],
   "source": [
    "def model_parameter_finder(model_interpolate, X_dim, n_params, default_params, trainable_params):\n",
    "    \"\"\" \n",
    "    Get a model that trains on the input parameters\n",
    "    \n",
    "    Arguments:\n",
    "    - model_interpolate : a PFN model that has been trained to continuously interpolate over the input parameter dimensions\n",
    "    - X_dim : (int) - the dimension of the input expected by DCTR_model\n",
    "    - n_params : (int) - the number of n_params that are in X_dim\n",
    "    - default_params : (list of floats) - default values for each of the parameters\n",
    "    - trainable_params : (list of booleans) - True for parameters that you want to fit, false for parameters that should be fixed at default value\n",
    "\n",
    "    Returns:\n",
    "    - model_parameter_finder: a compiled model that gradient descends only on the trainable parameters\n",
    "    \"\"\"\n",
    "    \n",
    "    # Do sanity checks on inputs\n",
    "    assert X_dim >=n_params, \"X_dim must be larger than n_params. X_dim includes the dimensionality of the 4-vector + number of parameters\"\n",
    "    assert n_params == len(default_params), \"Dimension mismatch between n_params and number of default parameters given. len(default_params) must equal n_params\"\n",
    "    assert n_params == len(trainable_params), \"Dimension mismatch between n_params and trainable_params. len(trainable_params) must equal n_params.\"\n",
    "    assert np.any(trainable_params), \"All parameters are set to non-trainable.\"\n",
    "    \n",
    "    # Convert input parameters to weights and make then trainable or non-trainable\n",
    "    p_models = []\n",
    "    for i in range(n_params):\n",
    "        p_models.append(Dense(1, use_bias=False, kernel_initializer=Constant(default_params[i]), trainable=trainable_params[i], name='tuning_param_{}'.format(i)))\n",
    "\n",
    "    parameter_inputs = keras.Input(shape=(None, 4), name='mp_input')\n",
    "    # parameter_models =  keras.layers.concatenate([p_models[0](parameter_inputs), p_models[1](parameter_inputs), p_models[2](parameter_inputs)])\n",
    "    # model_parameters = keras.Model(inputs = parameter_inputs, outputs = parameter_models)\n",
    "    ones = tf.ones_like(parameter_inputs[:,:,0:1])\n",
    "    full_input =  keras.layers.concatenate([parameter_inputs, p_models[0](ones), p_models[1](ones), p_models[2](ones)])\n",
    "    model_inputs = keras.Model(inputs = parameter_inputs, outputs = full_input)\n",
    "\n",
    "    # Set all weights in interpolation_model to non-trainable\n",
    "    for l in model_interpolate.layers: \n",
    "        l.trainable = False\n",
    "\n",
    "    # Define input to DCTR_fit_model\n",
    "    raw_inputs = keras.Input(shape=(None, X_dim - n_params), name='pf_input')\n",
    "    inputs = model_inputs(raw_inputs)\n",
    "    output = model_interpolate.model(inputs)\n",
    "\n",
    "    # Define full model\n",
    "    model_parameter_finder = keras.Model(inputs = raw_inputs, outputs = output, name='pf_output')\n",
    "    optimizer = keras.optimizers.Adam(learning_rate=1e-4)\n",
    "    loss = keras.losses.CategoricalCrossentropy()\n",
    "\n",
    "    # Compile with loss function\n",
    "    model_parameter_finder.compile(optimizer=optimizer, loss=loss)\n",
    "    \n",
    "    return model_parameter_finder"
   ]
  },
  {
   "cell_type": "code",
   "execution_count": 17,
   "metadata": {},
   "outputs": [],
   "source": [
    "def set_params(model_parameter_finder, params, param_layer=1):\n",
    "    alphaS, aLund, StoUD = params\n",
    "    weights = [np.array([[alphaS]], dtype=np.float32), np.array([[aLund]], dtype=np.float32), np.array([[StoUD]], dtype=np.float32)]\n",
    "    model_parameter_finder.layers[param_layer].set_weights(weights)\n",
    "    # print(model_parameter_finder.layers[param_layer].get_weights())\n",
    "    \n",
    "def get_loss(X, Y, model_parameter_finder, params, batch_size=1000, param_layer=1):\n",
    "    set_params(model_parameter_finder, params, param_layer)\n",
    "    return model_parameter_finder.evaluate(x=X, y=Y, batch_size=batch_size)"
   ]
  },
  {
   "cell_type": "code",
   "execution_count": 18,
   "metadata": {},
   "outputs": [],
   "source": [
    "model_pf = model_parameter_finder(model_interpolate, X_dim =7, n_params = 3, \n",
    "                                    default_params   = [0.1365, 0.68, 0.217], # default params for [alpha_s, aLund, StoUD]\n",
    "                                    trainable_params = [True, False, False]) # Only train alpha_s"
   ]
  },
  {
   "cell_type": "code",
   "execution_count": 19,
   "metadata": {},
   "outputs": [
    {
     "name": "stdout",
     "output_type": "stream",
     "text": [
      "Model: \"pf_output\"\n",
      "_________________________________________________________________\n",
      " Layer (type)                Output Shape              Param #   \n",
      "=================================================================\n",
      " pf_input (InputLayer)       [(None, None, 4)]         0         \n",
      "                                                                 \n",
      " model_1 (Functional)        (None, None, 7)           3         \n",
      "                                                                 \n",
      " model (Functional)          (None, 2)                 57130     \n",
      "                                                                 \n",
      "=================================================================\n",
      "Total params: 57,133\n",
      "Trainable params: 1\n",
      "Non-trainable params: 57,132\n",
      "_________________________________________________________________\n"
     ]
    }
   ],
   "source": [
    "model_pf.summary()"
   ]
  },
  {
   "cell_type": "code",
   "execution_count": 20,
   "metadata": {},
   "outputs": [
    {
     "name": "stdout",
     "output_type": "stream",
     "text": [
      "[<tf.Variable 'tuning_param_0/kernel:0' shape=(1, 1) dtype=float32, numpy=array([[0.1365]], dtype=float32)>]\n",
      "You must install pydot (`pip install pydot`) and install graphviz (see instructions at https://graphviz.gitlab.io/download/) for plot_model/model_to_dot to work.\n"
     ]
    }
   ],
   "source": [
    "print(model_pf.trainable_weights)\n",
    "keras.utils.plot_model(model_pf, \"my_first_model_with_shape_info.png\", show_shapes=True)"
   ]
  },
  {
   "cell_type": "markdown",
   "metadata": {},
   "source": [
    "## Load Data"
   ]
  },
  {
   "cell_type": "code",
   "execution_count": 21,
   "metadata": {},
   "outputs": [],
   "source": [
    "default_dataset = np.load(data_dir + 'test1D_default.npz')\n",
    "unknown_dataset = np.load(data_dir + 'test1D_alphaS.npz')"
   ]
  },
  {
   "cell_type": "code",
   "execution_count": 22,
   "metadata": {},
   "outputs": [],
   "source": [
    "X_default = preprocess_data(default_dataset['jet'][:,:,:4])\n",
    "X_unknown = preprocess_data(unknown_dataset['jet'][:,:,:4])\n",
    "Y_default = np.zeros_like(X_unknown[:,0,0])\n",
    "Y_unknown = np.ones_like(X_unknown[:,0,0])"
   ]
  },
  {
   "cell_type": "code",
   "execution_count": 23,
   "metadata": {},
   "outputs": [],
   "source": [
    "X_fit = np.concatenate((X_default, X_unknown), axis = 0)\n",
    "Y_fit = np.concatenate((Y_default, Y_unknown), axis = 0)\n",
    "Y_fit = to_categorical(Y_fit, num_classes=2)"
   ]
  },
  {
   "cell_type": "code",
   "execution_count": 24,
   "metadata": {},
   "outputs": [],
   "source": [
    "X_fit, _, Y_fit, _ = data_split(X_fit, Y_fit, test=0, shuffle=True)"
   ]
  },
  {
   "cell_type": "markdown",
   "metadata": {},
   "source": [
    "## Evaluate Loss as a function of MC parameter"
   ]
  },
  {
   "cell_type": "code",
   "execution_count": 32,
   "metadata": {},
   "outputs": [],
   "source": [
    "n = 10000\n",
    "X_f=X_fit[0:n]"
   ]
  },
  {
   "cell_type": "code",
   "execution_count": 33,
   "metadata": {},
   "outputs": [],
   "source": [
    "a1 = [0.12,0.68,0.217] * tf.ones((n, 51, 3))\n",
    "a2 = [0.14,0.68,0.217] * tf.ones((n, 51, 3))\n",
    "a3 = [0.16,0.68,0.217] * tf.ones((n, 51, 3))\n",
    "a4 = [0.18,0.68,0.217] * tf.ones((n, 51, 3))\n",
    "b1 = tf.concat([X_f, a1], axis=-1)\n",
    "b2 = tf.concat([X_f, a2], axis=-1)\n",
    "b3 = tf.concat([X_f, a3], axis=-1)\n",
    "b4 = tf.concat([X_f, a4], axis=-1)\n",
    "preds1 = model_interpolate.model(b1[0:n])\n",
    "preds2 = model_interpolate.model(b2[0:n])\n",
    "preds3 = model_interpolate.model(b3[0:n])\n",
    "preds4 = model_interpolate.model(b4[0:n])\n",
    "loss = keras.losses.CategoricalCrossentropy()"
   ]
  },
  {
   "cell_type": "code",
   "execution_count": 34,
   "metadata": {},
   "outputs": [
    {
     "name": "stdout",
     "output_type": "stream",
     "text": [
      "tf.Tensor(0.7325043, shape=(), dtype=float32)\n",
      "tf.Tensor(0.6916521, shape=(), dtype=float32)\n",
      "tf.Tensor(0.6793926, shape=(), dtype=float32)\n",
      "tf.Tensor(0.7095505, shape=(), dtype=float32)\n"
     ]
    }
   ],
   "source": [
    "print(loss(Y_fit[0:n], preds1))\n",
    "print(loss(Y_fit[0:n], preds2))\n",
    "print(loss(Y_fit[0:n], preds3))\n",
    "print(loss(Y_fit[0:n], preds4))"
   ]
  },
  {
   "cell_type": "code",
   "execution_count": 35,
   "metadata": {},
   "outputs": [
    {
     "name": "stdout",
     "output_type": "stream",
     "text": [
      "1800/1800 [==============================] - 4s 2ms/step - loss: 0.7336\n",
      "0.7335966229438782\n",
      "1800/1800 [==============================] - 4s 2ms/step - loss: 0.6915\n",
      "0.6915360689163208\n",
      "1800/1800 [==============================] - 4s 2ms/step - loss: 0.6785\n",
      "0.6785464286804199\n",
      "1800/1800 [==============================] - 5s 3ms/step - loss: 0.7141\n",
      "0.7140730023384094\n"
     ]
    }
   ],
   "source": [
    "print(get_loss(X_fit, Y_fit, model_pf, [0.12, 0.68, 0.217]))\n",
    "print(get_loss(X_fit, Y_fit, model_pf, [0.14, 0.68, 0.217]))\n",
    "print(get_loss(X_fit, Y_fit, model_pf, [0.16, 0.68, 0.217]))\n",
    "print(get_loss(X_fit, Y_fit, model_pf, [0.18, 0.68, 0.217]))"
   ]
  },
  {
   "cell_type": "code",
   "execution_count": 37,
   "metadata": {},
   "outputs": [
    {
     "name": "stdout",
     "output_type": "stream",
     "text": [
      "1800/1800 [==============================] - 4s 2ms/step - loss: 0.7926\n",
      "1800/1800 [==============================] - 5s 3ms/step - loss: 0.7810\n",
      "1800/1800 [==============================] - 4s 2ms/step - loss: 0.7696\n",
      "1800/1800 [==============================] - 5s 2ms/step - loss: 0.7561\n",
      "1800/1800 [==============================] - 5s 3ms/step - loss: 0.7336\n",
      "1800/1800 [==============================] - 4s 2ms/step - loss: 0.7168\n",
      "1800/1800 [==============================] - 4s 2ms/step - loss: 0.7032\n",
      "1800/1800 [==============================] - 5s 3ms/step - loss: 0.6951\n",
      "1800/1800 [==============================] - 5s 3ms/step - loss: 0.6915\n",
      "1800/1800 [==============================] - 5s 3ms/step - loss: 0.6881\n",
      "1800/1800 [==============================] - 4s 2ms/step - loss: 0.6854\n",
      "1800/1800 [==============================] - 5s 3ms/step - loss: 0.6824\n",
      "1800/1800 [==============================] - 5s 2ms/step - loss: 0.6785\n",
      "1800/1800 [==============================] - 4s 2ms/step - loss: 0.6770\n",
      "1800/1800 [==============================] - 5s 3ms/step - loss: 0.6798\n",
      "1800/1800 [==============================] - 4s 2ms/step - loss: 0.6923\n",
      "1800/1800 [==============================] - 4s 2ms/step - loss: 0.7141\n",
      "1800/1800 [==============================] - 4s 2ms/step - loss: 0.7435\n",
      "1800/1800 [==============================] - 4s 2ms/step - loss: 0.7897\n",
      "1800/1800 [==============================] - 4s 2ms/step - loss: 0.8391\n",
      "1800/1800 [==============================] - 4s 2ms/step - loss: 0.8934\n"
     ]
    }
   ],
   "source": [
    "alpha_loss = np.array([(a, get_loss(X_fit, Y_fit, model_pf, [a, 0.68, 0.217])) for a in np.linspace(0.1,0.2,21)])"
   ]
  },
  {
   "cell_type": "code",
   "execution_count": 38,
   "metadata": {},
   "outputs": [
    {
     "data": {
      "image/png": "[encoded data removed]",
      "text/plain": [
       "<Figure size 432x288 with 1 Axes>"
      ]
     },
     "metadata": {
      "needs_background": "light"
     },
     "output_type": "display_data"
    }
   ],
   "source": [
    "plt.plot(*alpha_loss.T)\n",
    "plt.ylabel('Loss')\n",
    "plt.xlabel(r'$\\alpha_s$')\n",
    "# plt.legend()\n",
    "plt.tight_layout()\n",
    "plt.show()"
   ]
  },
  {
   "cell_type": "code",
   "execution_count": 31,
   "metadata": {},
   "outputs": [
    {
     "data": {
      "text/plain": [
       "array([0.16499999])"
      ]
     },
     "execution_count": 31,
     "metadata": {},
     "output_type": "execute_result"
    }
   ],
   "source": [
    "def get_min_loss(losses, x0):\n",
    "    f = sp.interpolate.interp1d(losses[:,0], losses[:,1], fill_value=\"extrapolate\")\n",
    "    return sp.optimize.minimize(f, x0=x0)['x']\n",
    "\n",
    "get_min_loss(alpha_loss, x0=0.1365)"
   ]
  },
  {
   "cell_type": "markdown",
   "metadata": {},
   "source": [
    "## Tune with Gradient Descent"
   ]
  },
  {
   "cell_type": "code",
   "execution_count": 40,
   "metadata": {},
   "outputs": [
    {
     "data": {
      "text/plain": [
       "0.2"
      ]
     },
     "execution_count": 40,
     "metadata": {},
     "output_type": "execute_result"
    }
   ],
   "source": [
    "model_pf.get_weights()[0][0][0]"
   ]
  },
  {
   "cell_type": "code",
   "execution_count": 41,
   "metadata": {},
   "outputs": [],
   "source": [
    "print_weights = keras.callbacks.LambdaCallback(on_epoch_end=lambda batch, logs: print(\"alpha_s fit = \", model_pf.get_weights()[0][0][0]))\n",
    "fit_vals = [0.1365]\n",
    "append_weights = keras.callbacks.LambdaCallback(on_epoch_end=lambda batch, logs: fit_vals.append(model_pf.get_weights()[0][0][0]))\n",
    "\n",
    "callbacks = [print_weights, append_weights]"
   ]
  },
  {
   "cell_type": "code",
   "execution_count": 42,
   "metadata": {},
   "outputs": [
    {
     "name": "stdout",
     "output_type": "stream",
     "text": [
      "Model: \"pf_output\"\n",
      "_________________________________________________________________\n",
      " Layer (type)                Output Shape              Param #   \n",
      "=================================================================\n",
      " pf_input (InputLayer)       [(None, None, 4)]         0         \n",
      "                                                                 \n",
      " model_1 (Functional)        (None, None, 7)           3         \n",
      "                                                                 \n",
      " model (Functional)          (None, 2)                 57130     \n",
      "                                                                 \n",
      "=================================================================\n",
      "Total params: 57,133\n",
      "Trainable params: 1\n",
      "Non-trainable params: 57,132\n",
      "_________________________________________________________________\n"
     ]
    }
   ],
   "source": [
    "model_pf.summary()"
   ]
  },
  {
   "cell_type": "code",
   "execution_count": 43,
   "metadata": {
    "scrolled": true
   },
   "outputs": [
    {
     "name": "stdout",
     "output_type": "stream",
     "text": [
      "Epoch 1/10\n",
      "178/180 [============================>.] - ETA: 0s - loss: 0.7024alpha_s fit =  0.18220046\n",
      "180/180 [==============================] - 4s 18ms/step - loss: 0.7022\n",
      "Epoch 2/10\n",
      "178/180 [============================>.] - ETA: 0s - loss: 0.6813alpha_s fit =  0.17532262\n",
      "180/180 [==============================] - 3s 18ms/step - loss: 0.6813\n",
      "Epoch 3/10\n",
      "178/180 [============================>.] - ETA: 0s - loss: 0.6792alpha_s fit =  0.17102133\n",
      "180/180 [==============================] - 3s 18ms/step - loss: 0.6792\n",
      "Epoch 4/10\n",
      "178/180 [============================>.] - ETA: 0s - loss: 0.6785alpha_s fit =  0.16960405\n",
      "180/180 [==============================] - 3s 18ms/step - loss: 0.6785\n",
      "Epoch 5/10\n",
      "178/180 [============================>.] - ETA: 0s - loss: 0.6784alpha_s fit =  0.16944447\n",
      "180/180 [==============================] - 3s 18ms/step - loss: 0.6784\n",
      "Epoch 6/10\n",
      "178/180 [============================>.] - ETA: 0s - loss: 0.6784alpha_s fit =  0.16932699\n",
      "180/180 [==============================] - 3s 18ms/step - loss: 0.6784\n",
      "Epoch 7/10\n",
      "178/180 [============================>.] - ETA: 0s - loss: 0.6784alpha_s fit =  0.16917343\n",
      "180/180 [==============================] - 3s 18ms/step - loss: 0.6784\n",
      "Epoch 8/10\n",
      "178/180 [============================>.] - ETA: 0s - loss: 0.6784alpha_s fit =  0.16907938\n",
      "180/180 [==============================] - 3s 18ms/step - loss: 0.6784\n",
      "Epoch 9/10\n",
      "178/180 [============================>.] - ETA: 0s - loss: 0.6784alpha_s fit =  0.16904381\n",
      "180/180 [==============================] - 3s 18ms/step - loss: 0.6784\n",
      "Epoch 10/10\n",
      "178/180 [============================>.] - ETA: 0s - loss: 0.6784alpha_s fit =  0.16899982\n",
      "180/180 [==============================] - 3s 18ms/step - loss: 0.6784\n"
     ]
    },
    {
     "data": {
      "text/plain": [
       "<keras.callbacks.History at 0x7efb74209e50>"
      ]
     },
     "execution_count": 43,
     "metadata": {},
     "output_type": "execute_result"
    }
   ],
   "source": [
    "model_pf.fit(X_fit, Y_fit, epochs=10, batch_size=10000, callbacks = callbacks)"
   ]
  },
  {
   "cell_type": "code",
   "execution_count": 44,
   "metadata": {},
   "outputs": [
    {
     "data": {
      "image/png": "[encoded data removed]",
      "text/plain": [
       "<Figure size 432x288 with 1 Axes>"
      ]
     },
     "metadata": {
      "needs_background": "light"
     },
     "output_type": "display_data"
    }
   ],
   "source": [
    "plt.plot(fit_vals, marker='o')\n",
    "plt.xlabel(\"Epochs\")\n",
    "plt.ylabel(r'$\\alpha_s$')\n",
    "plt.show()"
   ]
  },
  {
   "cell_type": "code",
   "execution_count": null,
   "metadata": {},
   "outputs": [],
   "source": []
  }
 ],
 "metadata": {
  "kernelspec": {
   "display_name": "Python 3",
   "language": "python",
   "name": "python3"
  },
  "language_info": {
   "codemirror_mode": {
    "name": "ipython",
    "version": 3
   },
   "file_extension": ".py",
   "mimetype": "text/x-python",
   "name": "python",
   "nbconvert_exporter": "python",
   "pygments_lexer": "ipython3",
   "version": "3.8.13"
  }
 },
 "nbformat": 4,
 "nbformat_minor": 4
}
