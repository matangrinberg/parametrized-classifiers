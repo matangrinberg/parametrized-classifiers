{
 "cells": [
  {
   "cell_type": "markdown",
   "metadata": {
    "tags": []
   },
   "source": [
    "# Introduction"
   ]
  },
  {
   "cell_type": "markdown",
   "metadata": {},
   "source": [
    "This notebook applies the methods of parametrized classification to the Pythia electron-positron scattering dataset (https://zenodo.org/record/3518708). The data for each jet has 7 entries and takes the form $(p_T,\\eta,\\phi,\\text{pID},\\theta_1,\\theta_2,\\theta_3)$. These quantities are defined as follows:\n",
    "- $p_T$: tranverse momentum of the particle\n",
    "- $\\eta$: pseudorapidity (i.e. the angle of the particle relative to the beam axis)\n",
    "- $\\phi$: azimuthal angle (i.e. the angle in the plane transverse to the beam)\n",
    "- PID: Particle IDentification (for numbering scheme information see https://pdg.lbl.gov/2007/reviews/montecarlorpp.pdf)\n",
    "- $\\theta_1$: 𝚃𝚒𝚖𝚎𝚂𝚑𝚘𝚠𝚎𝚛:𝚊𝚕𝚙𝚑𝚊𝚂𝚟𝚊𝚕𝚞𝚎 $\\in [0.10, 0.18]$ (\"effective\" strong coupling constant $\\alpha_S$)\n",
    "- $\\theta_2$: 𝚂𝚝𝚛𝚒𝚗𝚐𝚉:𝚊𝙻𝚞𝚗𝚍 $\\in [0.50, 0.90]$ (Hadronization, determines how partons become hadrons, String model, $Z$)\n",
    "- $\\theta_3$: 𝚂𝚝𝚛𝚒𝚗𝚐𝙵𝚕𝚊𝚟:𝚙𝚛𝚘𝚋𝚂𝚝𝚘𝚄𝙳 $\\in [0.10, 0.30]$ (modeling parameters determining Strange behavior)\n",
    "\n",
    "These $\\theta_i$ values are Pythia parameters and were sampled uniformly according to the bounds shown above."
   ]
  },
  {
   "cell_type": "markdown",
   "metadata": {
    "tags": []
   },
   "source": [
    "## Imports"
   ]
  },
  {
   "cell_type": "code",
   "execution_count": 1,
   "metadata": {},
   "outputs": [],
   "source": [
    "import os\n",
    "import sys\n",
    "os.environ['KMP_DUPLICATE_LIB_OK']='True'\n",
    "sys.path.append('/Users/matangrinberg/Library/CloudStorage/GoogleDrive-matan.grinberg@gmail.com/My Drive/(21-24) University of California, Berkeley/ML HEP/parametrized-classifiers/data')"
   ]
  },
  {
   "cell_type": "code",
   "execution_count": 2,
   "metadata": {},
   "outputs": [],
   "source": [
    "# standard library imports\n",
    "from __future__ import absolute_import, division, print_function\n",
    "\n",
    "# standard numerical library imports\n",
    "import numpy as np\n",
    "import scipy as sp\n",
    "import tensorflow as tf\n",
    "import keras\n",
    "\n",
    "# energyflow imports\n",
    "import energyflow as ef\n",
    "from energyflow.archs import PFN\n",
    "from energyflow.utils import data_split, remap_pids, to_categorical\n",
    "\n",
    "import matplotlib.pyplot as plt"
   ]
  },
  {
   "cell_type": "code",
   "execution_count": 13,
   "metadata": {},
   "outputs": [],
   "source": [
    "# Global plot settings\n",
    "# from matplotlib import rc\n",
    "# import matplotlib.font_manager\n",
    "# rc('font', family='serif')\n",
    "# rc('text', usetex=True)\n",
    "# rc('font', size=22) \n",
    "# rc('xtick', labelsize=15) \n",
    "# rc('ytick', labelsize=15) \n",
    "# rc('legend', fontsize=15)"
   ]
  },
  {
   "cell_type": "markdown",
   "metadata": {
    "tags": []
   },
   "source": [
    "# Load Data"
   ]
  },
  {
   "cell_type": "markdown",
   "metadata": {
    "jp-MarkdownHeadingCollapsed": true,
    "tags": []
   },
   "source": [
    "## Utilities"
   ]
  },
  {
   "cell_type": "code",
   "execution_count": 3,
   "metadata": {},
   "outputs": [],
   "source": [
    "# normalize pT and center (y, phi)\n",
    "def normalize(x):\n",
    "    mask = x[:,0] > 0\n",
    "    yphi_avg = np.average(x[mask,1:3], weights=x[mask,0], axis=0)\n",
    "    x[mask,1:3] -= yphi_avg\n",
    "    x[mask,0] /= x[:,0].sum()\n",
    "    \n",
    "def preprocess_data(X):\n",
    "    for x in X:\n",
    "        normalize(x)\n",
    "    \n",
    "    # Remap PIDs to unique values in range [0,1], error_on_unknown flag for PIDs not in dictionary\n",
    "    remap_pids(X, pid_i=3, error_on_unknown=False)\n",
    "    return X"
   ]
  },
  {
   "cell_type": "markdown",
   "metadata": {
    "jp-MarkdownHeadingCollapsed": true,
    "tags": []
   },
   "source": [
    "## Process data"
   ]
  },
  {
   "cell_type": "code",
   "execution_count": 4,
   "metadata": {},
   "outputs": [],
   "source": [
    "# Path to downloaded data from Zenodo\n",
    "data_dir = '/Users/matangrinberg/Library/CloudStorage/GoogleDrive-matan.grinberg@gmail.com/My Drive/(21-24) University of California, Berkeley/ML HEP/parametrized-classifiers/data/'"
   ]
  },
  {
   "cell_type": "code",
   "execution_count": 5,
   "metadata": {},
   "outputs": [],
   "source": [
    "dataset = np.load(data_dir + '1D_alphaS_train.npz')"
   ]
  },
  {
   "cell_type": "code",
   "execution_count": 6,
   "metadata": {},
   "outputs": [],
   "source": [
    "X = preprocess_data(dataset['X'])\n",
    "Y = to_categorical(dataset['Y'], num_classes=2)"
   ]
  },
  {
   "cell_type": "code",
   "execution_count": 11,
   "metadata": {},
   "outputs": [
    {
     "data": {
      "text/plain": [
       "(1800000, 51, 7)"
      ]
     },
     "execution_count": 11,
     "metadata": {},
     "output_type": "execute_result"
    }
   ],
   "source": [
    "X.shape"
   ]
  },
  {
   "cell_type": "code",
   "execution_count": 12,
   "metadata": {},
   "outputs": [],
   "source": [
    "X_train, X_val, Y_train, Y_val = data_split(X, Y, test=0.1)"
   ]
  },
  {
   "cell_type": "code",
   "execution_count": 13,
   "metadata": {},
   "outputs": [
    {
     "name": "stdout",
     "output_type": "stream",
     "text": [
      "(1620000, 51, 7)\n",
      "(1620000, 2)\n",
      "(180000, 51, 7)\n",
      "(180000, 2)\n"
     ]
    }
   ],
   "source": [
    "print(X_train.shape)\n",
    "print(Y_train.shape)\n",
    "print(X_val.shape)\n",
    "print(Y_val.shape)"
   ]
  },
  {
   "cell_type": "code",
   "execution_count": 17,
   "metadata": {},
   "outputs": [
    {
     "name": "stdout",
     "output_type": "stream",
     "text": [
      "[ 0.00350312  0.79472989 -0.17868867  0.          0.175713    0.68000001\n",
      "  0.21699999]\n"
     ]
    }
   ],
   "source": [
    "print(X_train[0, 0])"
   ]
  },
  {
   "cell_type": "markdown",
   "metadata": {
    "tags": []
   },
   "source": [
    "# Building/Training Interpolated Model"
   ]
  },
  {
   "cell_type": "code",
   "execution_count": 14,
   "metadata": {
    "scrolled": true
   },
   "outputs": [],
   "source": [
    "# network architecture parameters\n",
    "Phi_sizes = (100,100,128)\n",
    "F_sizes = (100,100,100)\n",
    "\n",
    "model_interpolate = PFN(input_dim=7, Phi_sizes=Phi_sizes, F_sizes=F_sizes, summary=False)"
   ]
  },
  {
   "cell_type": "code",
   "execution_count": 15,
   "metadata": {},
   "outputs": [],
   "source": [
    "save_label = 'DCTR_ee_dijets_1D_alphaS'\n",
    "checkpoint = keras.callbacks.ModelCheckpoint('./saved_models/' + save_label + '.h5', monitor='val_loss', verbose=2, save_best_only=True, mode='min')\n",
    "CSVLogger = keras.callbacks.CSVLogger('./logs/' + save_label + '_loss.csv', append=False)\n",
    "EarlyStopping = keras.callbacks.EarlyStopping(monitor='val_loss', min_delta=0, patience=10, verbose=1, restore_best_weights=True)\n",
    "callbacks = [checkpoint, CSVLogger, EarlyStopping]\n",
    "\n",
    "# epochs = 10\n",
    "epochs = 100\n",
    "batch_size = 1000"
   ]
  },
  {
   "cell_type": "code",
   "execution_count": 18,
   "metadata": {
    "scrolled": true,
    "tags": []
   },
   "outputs": [
    {
     "name": "stdout",
     "output_type": "stream",
     "text": [
      "Epoch 1/100\n",
      "1620/1620 [==============================] - ETA: 0s - loss: 0.6879 - acc: 0.5373\n",
      "Epoch 1: val_loss improved from inf to 0.68478, saving model to ./saved_models/DCTR_ee_dijets_1D_alphaS.h5\n",
      "1620/1620 [==============================] - 89s 55ms/step - loss: 0.6879 - acc: 0.5373 - val_loss: 0.6848 - val_acc: 0.5472\n",
      "Epoch 2/100\n",
      "1620/1620 [==============================] - ETA: 0s - loss: 0.6820 - acc: 0.5546\n",
      "Epoch 2: val_loss improved from 0.68478 to 0.68077, saving model to ./saved_models/DCTR_ee_dijets_1D_alphaS.h5\n",
      "1620/1620 [==============================] - 84s 52ms/step - loss: 0.6820 - acc: 0.5546 - val_loss: 0.6808 - val_acc: 0.5575\n",
      "Epoch 3/100\n",
      "1620/1620 [==============================] - ETA: 0s - loss: 0.6808 - acc: 0.5569\n",
      "Epoch 3: val_loss did not improve from 0.68077\n",
      "1620/1620 [==============================] - 82s 51ms/step - loss: 0.6808 - acc: 0.5569 - val_loss: 0.6816 - val_acc: 0.5539\n",
      "Epoch 4/100\n",
      "1619/1620 [============================>.] - ETA: 0s - loss: 0.6801 - acc: 0.5589\n",
      "Epoch 4: val_loss improved from 0.68077 to 0.68021, saving model to ./saved_models/DCTR_ee_dijets_1D_alphaS.h5\n",
      "1620/1620 [==============================] - 81s 50ms/step - loss: 0.6801 - acc: 0.5589 - val_loss: 0.6802 - val_acc: 0.5564\n",
      "Epoch 5/100\n",
      "1620/1620 [==============================] - ETA: 0s - loss: 0.6800 - acc: 0.5586\n",
      "Epoch 5: val_loss did not improve from 0.68021\n",
      "1620/1620 [==============================] - 81s 50ms/step - loss: 0.6800 - acc: 0.5586 - val_loss: 0.6807 - val_acc: 0.5606\n",
      "Epoch 6/100\n",
      "1620/1620 [==============================] - ETA: 0s - loss: 0.6794 - acc: 0.5606\n",
      "Epoch 6: val_loss improved from 0.68021 to 0.67849, saving model to ./saved_models/DCTR_ee_dijets_1D_alphaS.h5\n",
      "1620/1620 [==============================] - 85s 53ms/step - loss: 0.6794 - acc: 0.5606 - val_loss: 0.6785 - val_acc: 0.5635\n",
      "Epoch 7/100\n",
      "1619/1620 [============================>.] - ETA: 0s - loss: 0.6790 - acc: 0.5612\n",
      "Epoch 7: val_loss improved from 0.67849 to 0.67790, saving model to ./saved_models/DCTR_ee_dijets_1D_alphaS.h5\n",
      "1620/1620 [==============================] - 82s 51ms/step - loss: 0.6790 - acc: 0.5612 - val_loss: 0.6779 - val_acc: 0.5644\n",
      "Epoch 8/100\n",
      "1619/1620 [============================>.] - ETA: 0s - loss: 0.6788 - acc: 0.5618\n",
      "Epoch 8: val_loss improved from 0.67790 to 0.67781, saving model to ./saved_models/DCTR_ee_dijets_1D_alphaS.h5\n",
      "1620/1620 [==============================] - 82s 51ms/step - loss: 0.6788 - acc: 0.5618 - val_loss: 0.6778 - val_acc: 0.5629\n",
      "Epoch 9/100\n",
      "1619/1620 [============================>.] - ETA: 0s - loss: 0.6784 - acc: 0.5620\n",
      "Epoch 9: val_loss improved from 0.67781 to 0.67686, saving model to ./saved_models/DCTR_ee_dijets_1D_alphaS.h5\n",
      "1620/1620 [==============================] - 81s 50ms/step - loss: 0.6784 - acc: 0.5620 - val_loss: 0.6769 - val_acc: 0.5645\n",
      "Epoch 10/100\n",
      "1619/1620 [============================>.] - ETA: 0s - loss: 0.6781 - acc: 0.5629\n",
      "Epoch 10: val_loss did not improve from 0.67686\n",
      "1620/1620 [==============================] - 82s 51ms/step - loss: 0.6781 - acc: 0.5629 - val_loss: 0.6770 - val_acc: 0.5635\n",
      "Epoch 11/100\n",
      "1620/1620 [==============================] - ETA: 0s - loss: 0.6779 - acc: 0.5629\n",
      "Epoch 11: val_loss did not improve from 0.67686\n",
      "1620/1620 [==============================] - 82s 50ms/step - loss: 0.6779 - acc: 0.5629 - val_loss: 0.6782 - val_acc: 0.5644\n",
      "Epoch 12/100\n",
      "1620/1620 [==============================] - ETA: 0s - loss: 0.6779 - acc: 0.5630\n",
      "Epoch 12: val_loss did not improve from 0.67686\n",
      "1620/1620 [==============================] - 83s 51ms/step - loss: 0.6779 - acc: 0.5630 - val_loss: 0.6770 - val_acc: 0.5654\n",
      "Epoch 13/100\n",
      "1619/1620 [============================>.] - ETA: 0s - loss: 0.6777 - acc: 0.5638\n",
      "Epoch 13: val_loss did not improve from 0.67686\n",
      "1620/1620 [==============================] - 81s 50ms/step - loss: 0.6777 - acc: 0.5638 - val_loss: 0.6771 - val_acc: 0.5661\n",
      "Epoch 14/100\n",
      "1620/1620 [==============================] - ETA: 0s - loss: 0.6775 - acc: 0.5641\n",
      "Epoch 14: val_loss did not improve from 0.67686\n",
      "1620/1620 [==============================] - 82s 51ms/step - loss: 0.6775 - acc: 0.5641 - val_loss: 0.6772 - val_acc: 0.5634\n",
      "Epoch 15/100\n",
      "1619/1620 [============================>.] - ETA: 0s - loss: 0.6774 - acc: 0.5638\n",
      "Epoch 15: val_loss did not improve from 0.67686\n",
      "1620/1620 [==============================] - 81s 50ms/step - loss: 0.6774 - acc: 0.5638 - val_loss: 0.6775 - val_acc: 0.5654\n",
      "Epoch 16/100\n",
      "1619/1620 [============================>.] - ETA: 0s - loss: 0.6773 - acc: 0.5644\n",
      "Epoch 16: val_loss did not improve from 0.67686\n",
      "1620/1620 [==============================] - 81s 50ms/step - loss: 0.6773 - acc: 0.5644 - val_loss: 0.6773 - val_acc: 0.5647\n",
      "Epoch 17/100\n",
      "1619/1620 [============================>.] - ETA: 0s - loss: 0.6772 - acc: 0.5647\n",
      "Epoch 17: val_loss improved from 0.67686 to 0.67665, saving model to ./saved_models/DCTR_ee_dijets_1D_alphaS.h5\n",
      "1620/1620 [==============================] - 81s 50ms/step - loss: 0.6772 - acc: 0.5647 - val_loss: 0.6766 - val_acc: 0.5663\n",
      "Epoch 18/100\n",
      "1619/1620 [============================>.] - ETA: 0s - loss: 0.6771 - acc: 0.5647\n",
      "Epoch 18: val_loss improved from 0.67665 to 0.67632, saving model to ./saved_models/DCTR_ee_dijets_1D_alphaS.h5\n",
      "1620/1620 [==============================] - 81s 50ms/step - loss: 0.6771 - acc: 0.5647 - val_loss: 0.6763 - val_acc: 0.5665\n",
      "Epoch 19/100\n",
      "1619/1620 [============================>.] - ETA: 0s - loss: 0.6770 - acc: 0.5650\n",
      "Epoch 19: val_loss improved from 0.67632 to 0.67626, saving model to ./saved_models/DCTR_ee_dijets_1D_alphaS.h5\n",
      "1620/1620 [==============================] - 81s 50ms/step - loss: 0.6770 - acc: 0.5650 - val_loss: 0.6763 - val_acc: 0.5666\n",
      "Epoch 20/100\n",
      "1619/1620 [============================>.] - ETA: 0s - loss: 0.6769 - acc: 0.5649\n",
      "Epoch 20: val_loss did not improve from 0.67626\n",
      "1620/1620 [==============================] - 83s 51ms/step - loss: 0.6769 - acc: 0.5649 - val_loss: 0.6764 - val_acc: 0.5670\n",
      "Epoch 21/100\n",
      "1619/1620 [============================>.] - ETA: 0s - loss: 0.6768 - acc: 0.5652\n",
      "Epoch 21: val_loss did not improve from 0.67626\n",
      "1620/1620 [==============================] - 83s 51ms/step - loss: 0.6768 - acc: 0.5652 - val_loss: 0.6766 - val_acc: 0.5662\n",
      "Epoch 22/100\n",
      "1620/1620 [==============================] - ETA: 0s - loss: 0.6767 - acc: 0.5656\n",
      "Epoch 22: val_loss did not improve from 0.67626\n",
      "1620/1620 [==============================] - 83s 51ms/step - loss: 0.6767 - acc: 0.5656 - val_loss: 0.6768 - val_acc: 0.5667\n",
      "Epoch 23/100\n",
      "1619/1620 [============================>.] - ETA: 0s - loss: 0.6766 - acc: 0.5660\n",
      "Epoch 23: val_loss improved from 0.67626 to 0.67620, saving model to ./saved_models/DCTR_ee_dijets_1D_alphaS.h5\n",
      "1620/1620 [==============================] - 81s 50ms/step - loss: 0.6766 - acc: 0.5660 - val_loss: 0.6762 - val_acc: 0.5665\n",
      "Epoch 24/100\n",
      "1619/1620 [============================>.] - ETA: 0s - loss: 0.6765 - acc: 0.5659\n",
      "Epoch 24: val_loss did not improve from 0.67620\n",
      "1620/1620 [==============================] - 82s 51ms/step - loss: 0.6765 - acc: 0.5659 - val_loss: 0.6770 - val_acc: 0.5658\n",
      "Epoch 25/100\n",
      "1620/1620 [==============================] - ETA: 0s - loss: 0.6765 - acc: 0.5662\n",
      "Epoch 25: val_loss did not improve from 0.67620\n",
      "1620/1620 [==============================] - 82s 51ms/step - loss: 0.6765 - acc: 0.5662 - val_loss: 0.6762 - val_acc: 0.5657\n",
      "Epoch 26/100\n",
      "1620/1620 [==============================] - ETA: 0s - loss: 0.6764 - acc: 0.5660\n",
      "Epoch 26: val_loss did not improve from 0.67620\n",
      "1620/1620 [==============================] - 82s 51ms/step - loss: 0.6764 - acc: 0.5660 - val_loss: 0.6769 - val_acc: 0.5663\n",
      "Epoch 27/100\n",
      "1619/1620 [============================>.] - ETA: 0s - loss: 0.6763 - acc: 0.5667\n",
      "Epoch 27: val_loss did not improve from 0.67620\n",
      "1620/1620 [==============================] - 83s 52ms/step - loss: 0.6763 - acc: 0.5667 - val_loss: 0.6763 - val_acc: 0.5664\n",
      "Epoch 28/100\n",
      "1620/1620 [==============================] - ETA: 0s - loss: 0.6762 - acc: 0.5668\n",
      "Epoch 28: val_loss did not improve from 0.67620\n",
      "1620/1620 [==============================] - 84s 52ms/step - loss: 0.6762 - acc: 0.5668 - val_loss: 0.6767 - val_acc: 0.5650\n",
      "Epoch 29/100\n",
      "1620/1620 [==============================] - ETA: 0s - loss: 0.6762 - acc: 0.5667\n",
      "Epoch 29: val_loss did not improve from 0.67620\n",
      "1620/1620 [==============================] - 84s 52ms/step - loss: 0.6762 - acc: 0.5667 - val_loss: 0.6763 - val_acc: 0.5670\n",
      "Epoch 30/100\n",
      "1619/1620 [============================>.] - ETA: 0s - loss: 0.6760 - acc: 0.5670\n",
      "Epoch 30: val_loss did not improve from 0.67620\n",
      "1620/1620 [==============================] - 81s 50ms/step - loss: 0.6760 - acc: 0.5670 - val_loss: 0.6763 - val_acc: 0.5674\n",
      "Epoch 31/100\n",
      "1619/1620 [============================>.] - ETA: 0s - loss: 0.6759 - acc: 0.5674\n",
      "Epoch 31: val_loss did not improve from 0.67620\n",
      "1620/1620 [==============================] - 83s 51ms/step - loss: 0.6759 - acc: 0.5674 - val_loss: 0.6764 - val_acc: 0.5672\n",
      "Epoch 32/100\n",
      "1620/1620 [==============================] - ETA: 0s - loss: 0.6759 - acc: 0.5677\n",
      "Epoch 32: val_loss did not improve from 0.67620\n",
      "1620/1620 [==============================] - 83s 51ms/step - loss: 0.6759 - acc: 0.5677 - val_loss: 0.6771 - val_acc: 0.5644\n",
      "Epoch 33/100\n",
      "1619/1620 [============================>.] - ETA: 0s - loss: 0.6758 - acc: 0.5676\n",
      "Epoch 33: val_loss did not improve from 0.67620\n",
      "Restoring model weights from the end of the best epoch: 23.\n",
      "1620/1620 [==============================] - 84s 52ms/step - loss: 0.6758 - acc: 0.5676 - val_loss: 0.6767 - val_acc: 0.5676\n",
      "Epoch 33: early stopping\n"
     ]
    }
   ],
   "source": [
    "history = model_interpolate.fit(X_train, Y_train,\n",
    "                    epochs = epochs,\n",
    "                    batch_size = batch_size,\n",
    "                    validation_data = (X_val, Y_val),\n",
    "                    verbose = 1, \n",
    "                    callbacks = callbacks)"
   ]
  },
  {
   "cell_type": "markdown",
   "metadata": {
    "tags": []
   },
   "source": [
    "## Plot History"
   ]
  },
  {
   "cell_type": "code",
   "execution_count": 19,
   "metadata": {},
   "outputs": [
    {
     "data": {
      "image/png": "[encoded data removed]",
      "text/plain": [
       "<Figure size 640x480 with 1 Axes>"
      ]
     },
     "metadata": {},
     "output_type": "display_data"
    }
   ],
   "source": [
    "plt.plot(history.history['loss'],     label = 'loss')\n",
    "plt.plot(history.history['val_loss'], label = 'val loss')\n",
    "plt.legend(loc=0)\n",
    "plt.ylabel('loss')\n",
    "plt.xlabel('Epochs')\n",
    "plt.show()"
   ]
  },
  {
   "cell_type": "markdown",
   "metadata": {
    "tags": []
   },
   "source": [
    "# Load Interpolated Model"
   ]
  },
  {
   "cell_type": "code",
   "execution_count": 16,
   "metadata": {},
   "outputs": [],
   "source": [
    "# load model from saved file\n",
    "model_interpolate.model.load_weights('./saved_models/DCTR_ee_dijets_1D_alphaS.h5')"
   ]
  },
  {
   "cell_type": "markdown",
   "metadata": {
    "jp-MarkdownHeadingCollapsed": true,
    "tags": []
   },
   "source": [
    "## Load Datasets"
   ]
  },
  {
   "cell_type": "code",
   "execution_count": 17,
   "metadata": {},
   "outputs": [],
   "source": [
    "test_dataset_0 = np.load(data_dir+'test1D_default.npz')\n",
    "test_dataset_1 = np.load(data_dir+'test1D_alphaS.npz')"
   ]
  },
  {
   "cell_type": "markdown",
   "metadata": {
    "jp-MarkdownHeadingCollapsed": true,
    "tags": []
   },
   "source": [
    "## Get predictions"
   ]
  },
  {
   "cell_type": "code",
   "execution_count": null,
   "metadata": {},
   "outputs": [],
   "source": [
    "# Load test datasets\n",
    "X0_test = preprocess_data(test_dataset_0['jet'])\n",
    "X1_test = preprocess_data(test_dataset_1['jet'])"
   ]
  },
  {
   "cell_type": "code",
   "execution_count": 20,
   "metadata": {},
   "outputs": [],
   "source": [
    "# Get predicted probabilities\n",
    "preds_0 = dctr.predict(X0_test, batch_size=1000)\n",
    "preds_1 = dctr.predict(X1_test, batch_size=1000)"
   ]
  },
  {
   "cell_type": "markdown",
   "metadata": {
    "jp-MarkdownHeadingCollapsed": true,
    "tags": []
   },
   "source": [
    "## Get weights"
   ]
  },
  {
   "cell_type": "code",
   "execution_count": 21,
   "metadata": {},
   "outputs": [],
   "source": [
    "weights_0 = preds_0[:,0]/preds_0[:,1]\n",
    "weights_1 = preds_1[:,0]/preds_1[:,1]"
   ]
  },
  {
   "cell_type": "code",
   "execution_count": 25,
   "metadata": {},
   "outputs": [],
   "source": [
    "# Define default plot styles\n",
    "plot_style_0 = {'histtype':'step', 'color':'black', 'linewidth':2, 'linestyle':'--', 'density':True}\n",
    "plot_style_1 = {'alpha':0.5, 'density':True}"
   ]
  },
  {
   "cell_type": "markdown",
   "metadata": {
    "tags": []
   },
   "source": [
    "# Fitting"
   ]
  },
  {
   "cell_type": "markdown",
   "metadata": {},
   "source": [
    "## Parameter-Finder Model"
   ]
  },
  {
   "cell_type": "code",
   "execution_count": 28,
   "metadata": {},
   "outputs": [],
   "source": [
    "class AddParams2Input(keras.layers.Layer):\n",
    "    \"\"\" Custom layer for tuning parameters: \n",
    "    Arguments:\n",
    "    - n_params : (int) - the number of n_params that are in X_dim\n",
    "    - default_params : (list of floats) - initial values for each of the parameters\n",
    "    - trainable_params : (list of booleans) - True for parameters that you want to fit, false for parameters that should be fixed at default value\n",
    "\n",
    "    Usage: \n",
    "    Let X_dim be the input dimension of each particle to a PFN model, and n_params be the number of MC parameters. \n",
    "    Defines a Layer that takes in an array of dimension \n",
    "    (batch_size, padded_multiplicity, X_dim - n_params)\n",
    "    This layer appends each particle by the default_params and makes then trainable or non-trainable based on trainable_params\n",
    "    \"\"\"\n",
    "    \n",
    "    def __init__(self, n_params, default_params, trainable_params):\n",
    "        super(AddParams2Input, self).__init__()\n",
    "        # Definitions\n",
    "        self.n_params = n_params\n",
    "        self.params = default_params\n",
    "        self.trainable_params = trainable_params\n",
    "        self.loss_fn = tf.keras.losses.BinaryCrossentropy()\n",
    "        self.models = []\n",
    "\n",
    "    \n",
    "    def build(self, input_shape):\n",
    "        # Convert input parameters to weights and make then trainable or non-trainable\n",
    "        for i in range(self.n_params):\n",
    "            # Create weight in layer for each parameter, trainable depending on trainable_params (Binary)\n",
    "            self.params[i] = self.add_weight(name='param_{}'.format(i), shape=(1, 1), initializer=keras.initializers.Constant(self.params[i]), trainable=self.trainable_params[i])\n",
    "            \n",
    "        self.params = keras.backend.concatenate(self.params, axis = -1)\n",
    "        super(AddParams2Input, self).build(input_shape)\n",
    "        \n",
    "    def compute_output_shape(self, input_shape):\n",
    "        return (input_shape[0], input_shape[1] + self.n_params)         "
   ]
  },
  {
   "cell_type": "code",
   "execution_count": 24,
   "metadata": {},
   "outputs": [],
   "source": [
    "def model_parameter_finder(model_interpolate, X_dim, n_params, default_params, trainable_params):\n",
    "    \"\"\" \n",
    "    Get a model that trains on the input parameters\n",
    "    \n",
    "    Arguments:\n",
    "    - model_interpolate : a PFN model that has been trained to continuously interpolate over the input parameter dimensions\n",
    "    - X_dim : (int) - the dimension of the input expected by DCTR_model\n",
    "    - n_params : (int) - the number of n_params that are in X_dim\n",
    "    - default_params : (list of floats) - default values for each of the parameters\n",
    "    - trainable_params : (list of booleans) - True for parameters that you want to fit, false for parameters that should be fixed at default value\n",
    "\n",
    "    Returns:\n",
    "    - model_parameter_finder: a compiled model that gradient descends only on the trainable parameters\n",
    "    \"\"\"\n",
    "    \n",
    "    # Do sanity checks on inputs\n",
    "    assert X_dim >=n_params, \"X_dim must be larger than n_params. X_dim includes the dimensionality of the 4-vector + number of parameters\"\n",
    "    assert n_params == len(default_params), \"Dimension mismatch between n_params and number of default parameters given. len(default_params) must equal n_params\"\n",
    "    assert n_params == len(trainable_params), \"Dimension mismatch between n_params and trainable_params. len(trainable_params) must equal n_params.\"\n",
    "    assert np.any(trainable_params), \"All parameters are set to non-trainable.\"\n",
    "    \n",
    "    # Define input to DCTR_fit_model\n",
    "    non_param_input = keras.layers.Input((None, X_dim - n_params))\n",
    "\n",
    "    # Construct layer that adds trainable and non-trainable parameters to the input\n",
    "    add_params_layer = AddParams2Input(n_params, default_params, trainable_params)\n",
    "    time_dist     = keras.layers.TimeDistributed(add_params_layer, name='tdist')(non_param_input)     \n",
    "\n",
    "    # Set all weights in interpolation_model to non-trainable\n",
    "    for layer in model_interpolate.layers:\n",
    "        layer.trainable = False\n",
    "        \n",
    "    # get the graph and the weights from the interpolation model\n",
    "    output = model_interpolate.model(inputs = time_dist)\n",
    "\n",
    "    # Define full model\n",
    "    model_parameter_finder = fitmodel = keras.models.Model(inputs = non_param_input, outputs = output)\n",
    "    optimizer = keras.optimizers.Adam(lr=1e-4)\n",
    "    # loss = keras.losses.BinaryCrossentropy()\n",
    "    \n",
    "    # Compile with loss function\n",
    "    model_parameter_finder.compile(optimizer=optimizer, loss='categorical_crossentropy')\n",
    "    \n",
    "    return model_parameter_finder\n",
    "\n",
    "\n",
    "def set_params(model, params):\n",
    "    alphaS, aLund, StoUD = params\n",
    "    weights = [np.array([[alphaS]], dtype=np.float32), np.array([[aLund]], dtype=np.float32), np.array([[StoUD]], dtype=np.float32)]\n",
    "    model.layers[1].set_weights(weights)"
   ]
  },
  {
   "cell_type": "code",
   "execution_count": 32,
   "metadata": {},
   "outputs": [
    {
     "name": "stdout",
     "output_type": "stream",
     "text": [
      "Model: \"model_7\"\n",
      "_________________________________________________________________\n",
      " Layer (type)                Output Shape              Param #   \n",
      "=================================================================\n",
      " input_8 (InputLayer)        [(None, None, 4)]         0         \n",
      "                                                                 \n",
      " tdist (TimeDistributed)     (None, None, 7)           3         \n",
      "                                                                 \n",
      " model_1 (Functional)        (None, 2)                 57130     \n",
      "                                                                 \n",
      "=================================================================\n",
      "Total params: 57,133\n",
      "Trainable params: 1\n",
      "Non-trainable params: 57,132\n",
      "_________________________________________________________________\n"
     ]
    }
   ],
   "source": [
    "model_interpolate_pf = model_parameter_finder(model_interpolate, X_dim =7, n_params = 3, \n",
    "                       default_params   = [0.1365, 0.68, 0.217], # default params for [alpha_s, aLund, StoUD]\n",
    "                       trainable_params = [True, False, False]) # Only train alpha_s\n",
    "\n",
    "model_interpolate_pf.summary()"
   ]
  },
  {
   "cell_type": "code",
   "execution_count": 34,
   "metadata": {},
   "outputs": [
    {
     "data": {
      "text/plain": [
       "[array([[0.1365]], dtype=float32),\n",
       " array([[0.68]], dtype=float32),\n",
       " array([[0.217]], dtype=float32)]"
      ]
     },
     "execution_count": 34,
     "metadata": {},
     "output_type": "execute_result"
    }
   ],
   "source": [
    "model_interpolate_pf.layers[1].get_weights()"
   ]
  },
  {
   "cell_type": "markdown",
   "metadata": {},
   "source": [
    "## Load Data"
   ]
  },
  {
   "cell_type": "code",
   "execution_count": 35,
   "metadata": {},
   "outputs": [],
   "source": [
    "default_dataset = np.load(data_dir + 'test1D_default.npz')\n",
    "unknown_dataset = np.load(data_dir + 'test1D_alphaS.npz')"
   ]
  },
  {
   "cell_type": "code",
   "execution_count": 36,
   "metadata": {},
   "outputs": [],
   "source": [
    "X_default = preprocess_data(default_dataset['jet'][:,:,:4])\n",
    "X_unknown = preprocess_data(unknown_dataset['jet'][:,:,:4])\n",
    "\n",
    "Y_default = np.zeros_like(X_unknown[:,0,0])\n",
    "Y_unknown = np.ones_like(X_unknown[:,0,0])"
   ]
  },
  {
   "cell_type": "code",
   "execution_count": 37,
   "metadata": {},
   "outputs": [],
   "source": [
    "X_fit = np.concatenate((X_default, X_unknown), axis = 0)\n",
    "\n",
    "Y_fit = np.concatenate((Y_default, Y_unknown), axis = 0)\n",
    "Y_fit = to_categorical(Y_fit, num_classes=2)"
   ]
  },
  {
   "cell_type": "code",
   "execution_count": 38,
   "metadata": {},
   "outputs": [],
   "source": [
    "X_fit, _, Y_fit, _ = data_split(X_fit, Y_fit, test=0, shuffle=True)"
   ]
  },
  {
   "cell_type": "markdown",
   "metadata": {},
   "source": [
    "## Evaluate Loss as a function of MC parameter"
   ]
  },
  {
   "cell_type": "code",
   "execution_count": 48,
   "metadata": {
    "scrolled": true
   },
   "outputs": [
    {
     "ename": "ValueError",
     "evalue": "in user code:\n\n    File \"/opt/anaconda3/envs/pc/lib/python3.10/site-packages/keras/engine/training.py\", line 1557, in test_function  *\n        return step_function(self, iterator)\n    File \"/opt/anaconda3/envs/pc/lib/python3.10/site-packages/keras/engine/training.py\", line 1546, in step_function  **\n        outputs = model.distribute_strategy.run(run_step, args=(data,))\n    File \"/opt/anaconda3/envs/pc/lib/python3.10/site-packages/keras/engine/training.py\", line 1535, in run_step  **\n        outputs = model.test_step(data)\n    File \"/opt/anaconda3/envs/pc/lib/python3.10/site-packages/keras/engine/training.py\", line 1499, in test_step\n        y_pred = self(x, training=False)\n    File \"/opt/anaconda3/envs/pc/lib/python3.10/site-packages/keras/utils/traceback_utils.py\", line 67, in error_handler\n        raise e.with_traceback(filtered_tb) from None\n    File \"/var/folders/m2/185h3bxj77z7vy89y472mwq40000gn/T/__autograph_generated_filemjpprwrz.py\", line 11, in tf__call\n        concat_input_and_params = ag__.converted_call(ag__.ld(keras).backend.tf.where, (ag__.converted_call(ag__.ld(keras).backend.abs, (ag__.ld(input)[..., 0],), None, fscope) > 0, ag__.ld(self).MC_params * ag__.converted_call(ag__.ld(keras).backend.ones_like, (ag__.ld(input)[..., 0:ag__.ld(self).n_MC_params],), None, fscope), ag__.converted_call(ag__.ld(keras).backend.zeros_like, (ag__.ld(input)[..., 0:ag__.ld(self).n_MC_params],), None, fscope)), None, fscope)\n\n    ValueError: Exception encountered when calling layer \"add_params2_input_1\" (type AddParams2Input).\n    \n    in user code:\n    \n        File \"/var/folders/m2/185h3bxj77z7vy89y472mwq40000gn/T/ipykernel_48739/3443221890.py\", line 36, in call  *\n            concat_input_and_params = keras.backend.tf.where(keras.backend.abs(input[...,0])>0,\n    \n        ValueError: Dimensions must be equal, but are 1000 and 3 for '{{node model_2/tdist/add_params2_input_1/SelectV2}} = SelectV2[T=DT_FLOAT](model_2/tdist/add_params2_input_1/Greater, model_2/tdist/add_params2_input_1/mul, model_2/tdist/add_params2_input_1/zeros_like)' with input shapes: [1000], [1000,3], [1000,3].\n    \n    \n    Call arguments received by layer \"add_params2_input_1\" (type AddParams2Input):\n      • input=tf.Tensor(shape=(1000, 4), dtype=float32)\n",
     "output_type": "error",
     "traceback": [
      "\u001b[0;31m---------------------------------------------------------------------------\u001b[0m",
      "\u001b[0;31mValueError\u001b[0m                                Traceback (most recent call last)",
      "Cell \u001b[0;32mIn [48], line 1\u001b[0m\n\u001b[0;32m----> 1\u001b[0m alpha_loss \u001b[38;5;241m=\u001b[39m np\u001b[38;5;241m.\u001b[39marray([(a, get_loss(X_fit, Y_fit, dctr_fit_model, [a, \u001b[38;5;241m0.68\u001b[39m, \u001b[38;5;241m0.217\u001b[39m])) \u001b[38;5;28;01mfor\u001b[39;00m a \u001b[38;5;129;01min\u001b[39;00m np\u001b[38;5;241m.\u001b[39mlinspace(\u001b[38;5;241m0.1\u001b[39m,\u001b[38;5;241m0.18\u001b[39m, \u001b[38;5;241m31\u001b[39m)])\n",
      "Cell \u001b[0;32mIn [48], line 1\u001b[0m, in \u001b[0;36m<listcomp>\u001b[0;34m(.0)\u001b[0m\n\u001b[0;32m----> 1\u001b[0m alpha_loss \u001b[38;5;241m=\u001b[39m np\u001b[38;5;241m.\u001b[39marray([(a, \u001b[43mget_loss\u001b[49m\u001b[43m(\u001b[49m\u001b[43mX_fit\u001b[49m\u001b[43m,\u001b[49m\u001b[43m \u001b[49m\u001b[43mY_fit\u001b[49m\u001b[43m,\u001b[49m\u001b[43m \u001b[49m\u001b[43mdctr_fit_model\u001b[49m\u001b[43m,\u001b[49m\u001b[43m \u001b[49m\u001b[43m[\u001b[49m\u001b[43ma\u001b[49m\u001b[43m,\u001b[49m\u001b[43m \u001b[49m\u001b[38;5;241;43m0.68\u001b[39;49m\u001b[43m,\u001b[49m\u001b[43m \u001b[49m\u001b[38;5;241;43m0.217\u001b[39;49m\u001b[43m]\u001b[49m\u001b[43m)\u001b[49m) \u001b[38;5;28;01mfor\u001b[39;00m a \u001b[38;5;129;01min\u001b[39;00m np\u001b[38;5;241m.\u001b[39mlinspace(\u001b[38;5;241m0.1\u001b[39m,\u001b[38;5;241m0.18\u001b[39m, \u001b[38;5;241m31\u001b[39m)])\n",
      "Cell \u001b[0;32mIn [47], line 3\u001b[0m, in \u001b[0;36mget_loss\u001b[0;34m(X, Y, dctr_fit_model, MC_params, batch_size)\u001b[0m\n\u001b[1;32m      1\u001b[0m \u001b[38;5;28;01mdef\u001b[39;00m \u001b[38;5;21mget_loss\u001b[39m(X, Y, dctr_fit_model, MC_params, batch_size \u001b[38;5;241m=\u001b[39m \u001b[38;5;241m1000\u001b[39m):\n\u001b[1;32m      2\u001b[0m     set_MC_params(dctr_fit_model, MC_params)\n\u001b[0;32m----> 3\u001b[0m     \u001b[38;5;28;01mreturn\u001b[39;00m \u001b[43mdctr_fit_model\u001b[49m\u001b[38;5;241;43m.\u001b[39;49m\u001b[43mevaluate\u001b[49m\u001b[43m(\u001b[49m\u001b[43mx\u001b[49m\u001b[38;5;241;43m=\u001b[39;49m\u001b[43mX\u001b[49m\u001b[43m,\u001b[49m\u001b[43m \u001b[49m\u001b[43my\u001b[49m\u001b[43m \u001b[49m\u001b[38;5;241;43m=\u001b[39;49m\u001b[43m \u001b[49m\u001b[43mY\u001b[49m\u001b[43m,\u001b[49m\u001b[43m \u001b[49m\u001b[43mbatch_size\u001b[49m\u001b[38;5;241;43m=\u001b[39;49m\u001b[43mbatch_size\u001b[49m\u001b[43m)\u001b[49m\n",
      "File \u001b[0;32m/opt/anaconda3/envs/pc/lib/python3.10/site-packages/keras/utils/traceback_utils.py:67\u001b[0m, in \u001b[0;36mfilter_traceback.<locals>.error_handler\u001b[0;34m(*args, **kwargs)\u001b[0m\n\u001b[1;32m     65\u001b[0m \u001b[38;5;28;01mexcept\u001b[39;00m \u001b[38;5;167;01mException\u001b[39;00m \u001b[38;5;28;01mas\u001b[39;00m e:  \u001b[38;5;66;03m# pylint: disable=broad-except\u001b[39;00m\n\u001b[1;32m     66\u001b[0m   filtered_tb \u001b[38;5;241m=\u001b[39m _process_traceback_frames(e\u001b[38;5;241m.\u001b[39m__traceback__)\n\u001b[0;32m---> 67\u001b[0m   \u001b[38;5;28;01mraise\u001b[39;00m e\u001b[38;5;241m.\u001b[39mwith_traceback(filtered_tb) \u001b[38;5;28;01mfrom\u001b[39;00m \u001b[38;5;28mNone\u001b[39m\n\u001b[1;32m     68\u001b[0m \u001b[38;5;28;01mfinally\u001b[39;00m:\n\u001b[1;32m     69\u001b[0m   \u001b[38;5;28;01mdel\u001b[39;00m filtered_tb\n",
      "File \u001b[0;32m/var/folders/m2/185h3bxj77z7vy89y472mwq40000gn/T/__autograph_generated_fileueo1uwtn.py:15\u001b[0m, in \u001b[0;36mouter_factory.<locals>.inner_factory.<locals>.tf__test_function\u001b[0;34m(iterator)\u001b[0m\n\u001b[1;32m     13\u001b[0m \u001b[38;5;28;01mtry\u001b[39;00m:\n\u001b[1;32m     14\u001b[0m     do_return \u001b[38;5;241m=\u001b[39m \u001b[38;5;28;01mTrue\u001b[39;00m\n\u001b[0;32m---> 15\u001b[0m     retval_ \u001b[38;5;241m=\u001b[39m ag__\u001b[38;5;241m.\u001b[39mconverted_call(ag__\u001b[38;5;241m.\u001b[39mld(step_function), (ag__\u001b[38;5;241m.\u001b[39mld(\u001b[38;5;28mself\u001b[39m), ag__\u001b[38;5;241m.\u001b[39mld(iterator)), \u001b[38;5;28;01mNone\u001b[39;00m, fscope)\n\u001b[1;32m     16\u001b[0m \u001b[38;5;28;01mexcept\u001b[39;00m:\n\u001b[1;32m     17\u001b[0m     do_return \u001b[38;5;241m=\u001b[39m \u001b[38;5;28;01mFalse\u001b[39;00m\n",
      "File \u001b[0;32m/var/folders/m2/185h3bxj77z7vy89y472mwq40000gn/T/__autograph_generated_filemjpprwrz.py:11\u001b[0m, in \u001b[0;36mouter_factory.<locals>.inner_factory.<locals>.tf__call\u001b[0;34m(self, input)\u001b[0m\n\u001b[1;32m      9\u001b[0m do_return \u001b[38;5;241m=\u001b[39m \u001b[38;5;28;01mFalse\u001b[39;00m\n\u001b[1;32m     10\u001b[0m retval_ \u001b[38;5;241m=\u001b[39m ag__\u001b[38;5;241m.\u001b[39mUndefinedReturnValue()\n\u001b[0;32m---> 11\u001b[0m concat_input_and_params \u001b[38;5;241m=\u001b[39m \u001b[43mag__\u001b[49m\u001b[38;5;241;43m.\u001b[39;49m\u001b[43mconverted_call\u001b[49m\u001b[43m(\u001b[49m\u001b[43mag__\u001b[49m\u001b[38;5;241;43m.\u001b[39;49m\u001b[43mld\u001b[49m\u001b[43m(\u001b[49m\u001b[43mkeras\u001b[49m\u001b[43m)\u001b[49m\u001b[38;5;241;43m.\u001b[39;49m\u001b[43mbackend\u001b[49m\u001b[38;5;241;43m.\u001b[39;49m\u001b[43mtf\u001b[49m\u001b[38;5;241;43m.\u001b[39;49m\u001b[43mwhere\u001b[49m\u001b[43m,\u001b[49m\u001b[43m \u001b[49m\u001b[43m(\u001b[49m\u001b[43mag__\u001b[49m\u001b[38;5;241;43m.\u001b[39;49m\u001b[43mconverted_call\u001b[49m\u001b[43m(\u001b[49m\u001b[43mag__\u001b[49m\u001b[38;5;241;43m.\u001b[39;49m\u001b[43mld\u001b[49m\u001b[43m(\u001b[49m\u001b[43mkeras\u001b[49m\u001b[43m)\u001b[49m\u001b[38;5;241;43m.\u001b[39;49m\u001b[43mbackend\u001b[49m\u001b[38;5;241;43m.\u001b[39;49m\u001b[43mabs\u001b[49m\u001b[43m,\u001b[49m\u001b[43m \u001b[49m\u001b[43m(\u001b[49m\u001b[43mag__\u001b[49m\u001b[38;5;241;43m.\u001b[39;49m\u001b[43mld\u001b[49m\u001b[43m(\u001b[49m\u001b[38;5;28;43minput\u001b[39;49m\u001b[43m)\u001b[49m\u001b[43m[\u001b[49m\u001b[38;5;241;43m.\u001b[39;49m\u001b[38;5;241;43m.\u001b[39;49m\u001b[38;5;241;43m.\u001b[39;49m\u001b[43m,\u001b[49m\u001b[43m \u001b[49m\u001b[38;5;241;43m0\u001b[39;49m\u001b[43m]\u001b[49m\u001b[43m,\u001b[49m\u001b[43m)\u001b[49m\u001b[43m,\u001b[49m\u001b[43m \u001b[49m\u001b[38;5;28;43;01mNone\u001b[39;49;00m\u001b[43m,\u001b[49m\u001b[43m \u001b[49m\u001b[43mfscope\u001b[49m\u001b[43m)\u001b[49m\u001b[43m \u001b[49m\u001b[38;5;241;43m>\u001b[39;49m\u001b[43m \u001b[49m\u001b[38;5;241;43m0\u001b[39;49m\u001b[43m,\u001b[49m\u001b[43m \u001b[49m\u001b[43mag__\u001b[49m\u001b[38;5;241;43m.\u001b[39;49m\u001b[43mld\u001b[49m\u001b[43m(\u001b[49m\u001b[38;5;28;43mself\u001b[39;49m\u001b[43m)\u001b[49m\u001b[38;5;241;43m.\u001b[39;49m\u001b[43mMC_params\u001b[49m\u001b[43m \u001b[49m\u001b[38;5;241;43m*\u001b[39;49m\u001b[43m \u001b[49m\u001b[43mag__\u001b[49m\u001b[38;5;241;43m.\u001b[39;49m\u001b[43mconverted_call\u001b[49m\u001b[43m(\u001b[49m\u001b[43mag__\u001b[49m\u001b[38;5;241;43m.\u001b[39;49m\u001b[43mld\u001b[49m\u001b[43m(\u001b[49m\u001b[43mkeras\u001b[49m\u001b[43m)\u001b[49m\u001b[38;5;241;43m.\u001b[39;49m\u001b[43mbackend\u001b[49m\u001b[38;5;241;43m.\u001b[39;49m\u001b[43mones_like\u001b[49m\u001b[43m,\u001b[49m\u001b[43m \u001b[49m\u001b[43m(\u001b[49m\u001b[43mag__\u001b[49m\u001b[38;5;241;43m.\u001b[39;49m\u001b[43mld\u001b[49m\u001b[43m(\u001b[49m\u001b[38;5;28;43minput\u001b[39;49m\u001b[43m)\u001b[49m\u001b[43m[\u001b[49m\u001b[38;5;241;43m.\u001b[39;49m\u001b[38;5;241;43m.\u001b[39;49m\u001b[38;5;241;43m.\u001b[39;49m\u001b[43m,\u001b[49m\u001b[43m \u001b[49m\u001b[38;5;241;43m0\u001b[39;49m\u001b[43m:\u001b[49m\u001b[43mag__\u001b[49m\u001b[38;5;241;43m.\u001b[39;49m\u001b[43mld\u001b[49m\u001b[43m(\u001b[49m\u001b[38;5;28;43mself\u001b[39;49m\u001b[43m)\u001b[49m\u001b[38;5;241;43m.\u001b[39;49m\u001b[43mn_MC_params\u001b[49m\u001b[43m]\u001b[49m\u001b[43m,\u001b[49m\u001b[43m)\u001b[49m\u001b[43m,\u001b[49m\u001b[43m \u001b[49m\u001b[38;5;28;43;01mNone\u001b[39;49;00m\u001b[43m,\u001b[49m\u001b[43m \u001b[49m\u001b[43mfscope\u001b[49m\u001b[43m)\u001b[49m\u001b[43m,\u001b[49m\u001b[43m \u001b[49m\u001b[43mag__\u001b[49m\u001b[38;5;241;43m.\u001b[39;49m\u001b[43mconverted_call\u001b[49m\u001b[43m(\u001b[49m\u001b[43mag__\u001b[49m\u001b[38;5;241;43m.\u001b[39;49m\u001b[43mld\u001b[49m\u001b[43m(\u001b[49m\u001b[43mkeras\u001b[49m\u001b[43m)\u001b[49m\u001b[38;5;241;43m.\u001b[39;49m\u001b[43mbackend\u001b[49m\u001b[38;5;241;43m.\u001b[39;49m\u001b[43mzeros_like\u001b[49m\u001b[43m,\u001b[49m\u001b[43m \u001b[49m\u001b[43m(\u001b[49m\u001b[43mag__\u001b[49m\u001b[38;5;241;43m.\u001b[39;49m\u001b[43mld\u001b[49m\u001b[43m(\u001b[49m\u001b[38;5;28;43minput\u001b[39;49m\u001b[43m)\u001b[49m\u001b[43m[\u001b[49m\u001b[38;5;241;43m.\u001b[39;49m\u001b[38;5;241;43m.\u001b[39;49m\u001b[38;5;241;43m.\u001b[39;49m\u001b[43m,\u001b[49m\u001b[43m \u001b[49m\u001b[38;5;241;43m0\u001b[39;49m\u001b[43m:\u001b[49m\u001b[43mag__\u001b[49m\u001b[38;5;241;43m.\u001b[39;49m\u001b[43mld\u001b[49m\u001b[43m(\u001b[49m\u001b[38;5;28;43mself\u001b[39;49m\u001b[43m)\u001b[49m\u001b[38;5;241;43m.\u001b[39;49m\u001b[43mn_MC_params\u001b[49m\u001b[43m]\u001b[49m\u001b[43m,\u001b[49m\u001b[43m)\u001b[49m\u001b[43m,\u001b[49m\u001b[43m \u001b[49m\u001b[38;5;28;43;01mNone\u001b[39;49;00m\u001b[43m,\u001b[49m\u001b[43m \u001b[49m\u001b[43mfscope\u001b[49m\u001b[43m)\u001b[49m\u001b[43m)\u001b[49m\u001b[43m,\u001b[49m\u001b[43m \u001b[49m\u001b[38;5;28;43;01mNone\u001b[39;49;00m\u001b[43m,\u001b[49m\u001b[43m \u001b[49m\u001b[43mfscope\u001b[49m\u001b[43m)\u001b[49m\n\u001b[1;32m     12\u001b[0m \u001b[38;5;28;01mtry\u001b[39;00m:\n\u001b[1;32m     13\u001b[0m     do_return \u001b[38;5;241m=\u001b[39m \u001b[38;5;28;01mTrue\u001b[39;00m\n",
      "\u001b[0;31mValueError\u001b[0m: in user code:\n\n    File \"/opt/anaconda3/envs/pc/lib/python3.10/site-packages/keras/engine/training.py\", line 1557, in test_function  *\n        return step_function(self, iterator)\n    File \"/opt/anaconda3/envs/pc/lib/python3.10/site-packages/keras/engine/training.py\", line 1546, in step_function  **\n        outputs = model.distribute_strategy.run(run_step, args=(data,))\n    File \"/opt/anaconda3/envs/pc/lib/python3.10/site-packages/keras/engine/training.py\", line 1535, in run_step  **\n        outputs = model.test_step(data)\n    File \"/opt/anaconda3/envs/pc/lib/python3.10/site-packages/keras/engine/training.py\", line 1499, in test_step\n        y_pred = self(x, training=False)\n    File \"/opt/anaconda3/envs/pc/lib/python3.10/site-packages/keras/utils/traceback_utils.py\", line 67, in error_handler\n        raise e.with_traceback(filtered_tb) from None\n    File \"/var/folders/m2/185h3bxj77z7vy89y472mwq40000gn/T/__autograph_generated_filemjpprwrz.py\", line 11, in tf__call\n        concat_input_and_params = ag__.converted_call(ag__.ld(keras).backend.tf.where, (ag__.converted_call(ag__.ld(keras).backend.abs, (ag__.ld(input)[..., 0],), None, fscope) > 0, ag__.ld(self).MC_params * ag__.converted_call(ag__.ld(keras).backend.ones_like, (ag__.ld(input)[..., 0:ag__.ld(self).n_MC_params],), None, fscope), ag__.converted_call(ag__.ld(keras).backend.zeros_like, (ag__.ld(input)[..., 0:ag__.ld(self).n_MC_params],), None, fscope)), None, fscope)\n\n    ValueError: Exception encountered when calling layer \"add_params2_input_1\" (type AddParams2Input).\n    \n    in user code:\n    \n        File \"/var/folders/m2/185h3bxj77z7vy89y472mwq40000gn/T/ipykernel_48739/3443221890.py\", line 36, in call  *\n            concat_input_and_params = keras.backend.tf.where(keras.backend.abs(input[...,0])>0,\n    \n        ValueError: Dimensions must be equal, but are 1000 and 3 for '{{node model_2/tdist/add_params2_input_1/SelectV2}} = SelectV2[T=DT_FLOAT](model_2/tdist/add_params2_input_1/Greater, model_2/tdist/add_params2_input_1/mul, model_2/tdist/add_params2_input_1/zeros_like)' with input shapes: [1000], [1000,3], [1000,3].\n    \n    \n    Call arguments received by layer \"add_params2_input_1\" (type AddParams2Input):\n      • input=tf.Tensor(shape=(1000, 4), dtype=float32)\n"
     ]
    }
   ],
   "source": [
    "alpha_loss = np.array([(a, get_loss(X_fit, Y_fit, dctr_fit_model, [a, 0.68, 0.217])) for a in np.linspace(0.1,0.18, 31)])"
   ]
  },
  {
   "cell_type": "code",
   "execution_count": 43,
   "metadata": {},
   "outputs": [
    {
     "data": {
      "image/png": "[encoded data removed]",
      "text/plain": [
       "<Figure size 432x288 with 1 Axes>"
      ]
     },
     "metadata": {
      "needs_background": "light"
     },
     "output_type": "display_data"
    }
   ],
   "source": [
    "plt.plot(*alpha_loss.T, label = label_1)\n",
    "plt.ylabel('Loss')\n",
    "plt.xlabel(r'$\\alpha_s$')\n",
    "plt.legend()\n",
    "plt.tight_layout()\n",
    "plt.show()"
   ]
  },
  {
   "cell_type": "code",
   "execution_count": 44,
   "metadata": {},
   "outputs": [
    {
     "data": {
      "text/plain": [
       "array([0.15866666])"
      ]
     },
     "execution_count": 44,
     "metadata": {},
     "output_type": "execute_result"
    }
   ],
   "source": [
    "def get_min_loss(losses, x0):\n",
    "    f = sp.interpolate.interp1d(losses[:,0], losses[:,1], fill_value=\"extrapolate\")\n",
    "    return sp.optimize.minimize(f, x0=x0)['x']\n",
    "\n",
    "get_min_loss(alpha_loss, x0=0.1365)"
   ]
  },
  {
   "cell_type": "markdown",
   "metadata": {},
   "source": [
    "## Tune with Gradient Descent"
   ]
  },
  {
   "cell_type": "code",
   "execution_count": 45,
   "metadata": {},
   "outputs": [],
   "source": [
    "print_weights = keras.callbacks.LambdaCallback(on_epoch_end=lambda batch, logs: print(\"alpha_s fit = \", \n",
    "                                               dctr_fit_model.get_weights()[0][0][0]))\n",
    "fit_vals = [0.1365]\n",
    "append_weights = keras.callbacks.LambdaCallback(on_epoch_end=lambda batch, logs: \n",
    "                                               fit_vals.append(dctr_fit_model.get_weights()[0][0][0]))\n",
    "\n",
    "callbacks = [print_weights, append_weights]"
   ]
  },
  {
   "cell_type": "code",
   "execution_count": 46,
   "metadata": {
    "scrolled": true
   },
   "outputs": [
    {
     "name": "stdout",
     "output_type": "stream",
     "text": [
      "Epoch 1/10\n",
      "1800000/1800000 [==============================] - 9s 5us/step - loss: 0.6757\n",
      "alpha_s fit =  0.16495736\n",
      "Epoch 2/10\n",
      "1800000/1800000 [==============================] - 9s 5us/step - loss: 0.6721\n",
      "alpha_s fit =  0.15957834\n",
      "Epoch 3/10\n",
      "1800000/1800000 [==============================] - 9s 5us/step - loss: 0.6719\n",
      "alpha_s fit =  0.15915796\n",
      "Epoch 4/10\n",
      "1800000/1800000 [==============================] - 9s 5us/step - loss: 0.6719\n",
      "alpha_s fit =  0.15901665\n",
      "Epoch 5/10\n",
      "1800000/1800000 [==============================] - 9s 5us/step - loss: 0.6719\n",
      "alpha_s fit =  0.15895784\n",
      "Epoch 6/10\n",
      "1800000/1800000 [==============================] - 9s 5us/step - loss: 0.6719\n",
      "alpha_s fit =  0.15907158\n",
      "Epoch 7/10\n",
      "1800000/1800000 [==============================] - 9s 5us/step - loss: 0.6719\n",
      "alpha_s fit =  0.15906122\n",
      "Epoch 8/10\n",
      "1800000/1800000 [==============================] - 9s 5us/step - loss: 0.6719\n",
      "alpha_s fit =  0.15884054\n",
      "Epoch 9/10\n",
      "1800000/1800000 [==============================] - 9s 5us/step - loss: 0.6719\n",
      "alpha_s fit =  0.15869135\n",
      "Epoch 10/10\n",
      "1800000/1800000 [==============================] - 9s 5us/step - loss: 0.6719\n",
      "alpha_s fit =  0.15878391\n"
     ]
    },
    {
     "data": {
      "text/plain": [
       "<keras.callbacks.History at 0x7fc4901d0128>"
      ]
     },
     "execution_count": 46,
     "metadata": {},
     "output_type": "execute_result"
    }
   ],
   "source": [
    "dctr_fit_model.fit(X_fit, Y_fit,\n",
    "                   epochs=10, \n",
    "                   batch_size=10000,\n",
    "                   callbacks = callbacks)"
   ]
  },
  {
   "cell_type": "code",
   "execution_count": 47,
   "metadata": {},
   "outputs": [
    {
     "data": {
      "image/png": "[encoded data removed]",
      "text/plain": [
       "<Figure size 432x288 with 1 Axes>"
      ]
     },
     "metadata": {
      "needs_background": "light"
     },
     "output_type": "display_data"
    }
   ],
   "source": [
    "plt.plot(fit_vals, marker='o')\n",
    "plt.xlabel(\"Epochs\")\n",
    "plt.ylabel(r'$\\alpha_s$')\n",
    "plt.show()"
   ]
  },
  {
   "cell_type": "code",
   "execution_count": null,
   "metadata": {},
   "outputs": [],
   "source": []
  }
 ],
 "metadata": {
  "kernelspec": {
   "display_name": "Python 3 (ipykernel)",
   "language": "python",
   "name": "python3"
  },
  "language_info": {
   "codemirror_mode": {
    "name": "ipython",
    "version": 3
   },
   "file_extension": ".py",
   "mimetype": "text/x-python",
   "name": "python",
   "nbconvert_exporter": "python",
   "pygments_lexer": "ipython3",
   "version": "3.10.4"
  }
 },
 "nbformat": 4,
 "nbformat_minor": 4
}
