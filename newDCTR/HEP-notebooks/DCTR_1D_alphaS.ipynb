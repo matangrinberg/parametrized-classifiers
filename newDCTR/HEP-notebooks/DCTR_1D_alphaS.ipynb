{
 "cells": [
  {
   "cell_type": "markdown",
   "metadata": {
    "tags": []
   },
   "source": [
    "# Introduction"
   ]
  },
  {
   "cell_type": "markdown",
   "metadata": {},
   "source": [
    "This notebook applies the methods of parametrized classification to the Pythia electron-positron scattering dataset (https://zenodo.org/record/3518708). The data for each jet has 7 entries and takes the form $(p_T,\\eta,\\phi,\\text{pID},\\theta_1,\\theta_2,\\theta_3)$. These quantities are defined as follows:\n",
    "- $p_T$: tranverse momentum of the particle\n",
    "- $\\eta$: pseudorapidity (i.e. the angle of the particle relative to the beam axis)\n",
    "- $\\phi$: azimuthal angle (i.e. the angle in the plane transverse to the beam)\n",
    "- PID: Particle IDentification (for numbering scheme information see https://pdg.lbl.gov/2007/reviews/montecarlorpp.pdf)\n",
    "- $\\theta_1$: 𝚃𝚒𝚖𝚎𝚂𝚑𝚘𝚠𝚎𝚛:𝚊𝚕𝚙𝚑𝚊𝚂𝚟𝚊𝚕𝚞𝚎 $\\in [0.10, 0.18]$ (\"effective\" strong coupling constant $\\alpha_S$)\n",
    "- $\\theta_2$: 𝚂𝚝𝚛𝚒𝚗𝚐𝚉:𝚊𝙻𝚞𝚗𝚍 $\\in [0.50, 0.90]$ (Hadronization, determines how partons become hadrons, String model, $Z$)\n",
    "- $\\theta_3$: 𝚂𝚝𝚛𝚒𝚗𝚐𝙵𝚕𝚊𝚟:𝚙𝚛𝚘𝚋𝚂𝚝𝚘𝚄𝙳 $\\in [0.10, 0.30]$ (modeling parameters determining Strange behavior)\n",
    "\n",
    "These $\\theta_i$ values are Pythia parameters and were sampled uniformly according to the bounds shown above."
   ]
  },
  {
   "cell_type": "markdown",
   "metadata": {
    "tags": []
   },
   "source": [
    "## Imports"
   ]
  },
  {
   "cell_type": "code",
   "execution_count": 1,
   "metadata": {},
   "outputs": [],
   "source": [
    "import os\n",
    "import sys\n",
    "os.environ['KMP_DUPLICATE_LIB_OK']='True'\n",
    "sys.path.append('/Users/matangrinberg/Library/CloudStorage/GoogleDrive-matan.grinberg@gmail.com/My Drive/(21-24) University of California, Berkeley/ML HEP/parametrized-classifiers/data')"
   ]
  },
  {
   "cell_type": "code",
   "execution_count": 2,
   "metadata": {},
   "outputs": [
    {
     "name": "stderr",
     "output_type": "stream",
     "text": [
      "2022-12-21 13:00:09.452981: I tensorflow/core/platform/cpu_feature_guard.cc:193] This TensorFlow binary is optimized with oneAPI Deep Neural Network Library (oneDNN) to use the following CPU instructions in performance-critical operations:  SSE4.1 SSE4.2\n",
      "To enable them in other operations, rebuild TensorFlow with the appropriate compiler flags.\n"
     ]
    }
   ],
   "source": [
    "# standard library imports\n",
    "from __future__ import absolute_import, division, print_function\n",
    "\n",
    "# standard numerical library imports\n",
    "import numpy as np\n",
    "import scipy as sp\n",
    "import tensorflow as tf\n",
    "import keras\n",
    "from keras.layers import Input, Flatten\n",
    "\n",
    "# energyflow imports\n",
    "import energyflow as ef\n",
    "from energyflow.archs import PFN\n",
    "from energyflow.utils import data_split, remap_pids, to_categorical\n",
    "\n",
    "import matplotlib.pyplot as plt"
   ]
  },
  {
   "cell_type": "code",
   "execution_count": 3,
   "metadata": {},
   "outputs": [],
   "source": [
    "# Global plot settings\n",
    "# from matplotlib import rc\n",
    "# import matplotlib.font_manager\n",
    "# rc('font', family='serif')\n",
    "# rc('text', usetex=True)\n",
    "# rc('font', size=22) \n",
    "# rc('xtick', labelsize=15) \n",
    "# rc('ytick', labelsize=15) \n",
    "# rc('legend', fontsize=15)"
   ]
  },
  {
   "cell_type": "markdown",
   "metadata": {
    "tags": []
   },
   "source": [
    "# Load Data"
   ]
  },
  {
   "cell_type": "markdown",
   "metadata": {
    "tags": []
   },
   "source": [
    "## Utilities"
   ]
  },
  {
   "cell_type": "code",
   "execution_count": 4,
   "metadata": {},
   "outputs": [],
   "source": [
    "# normalize pT and center (y, phi)\n",
    "def normalize(x):\n",
    "    mask = x[:,0] > 0\n",
    "    yphi_avg = np.average(x[mask,1:3], weights=x[mask,0], axis=0)\n",
    "    x[mask,1:3] -= yphi_avg\n",
    "    x[mask,0] /= x[:,0].sum()\n",
    "    \n",
    "def preprocess_data(X):\n",
    "    for x in X:\n",
    "        normalize(x)\n",
    "    \n",
    "    # Remap PIDs to unique values in range [0,1], error_on_unknown flag for PIDs not in dictionary\n",
    "    remap_pids(X, pid_i=3, error_on_unknown=False)\n",
    "    return X"
   ]
  },
  {
   "cell_type": "markdown",
   "metadata": {
    "tags": []
   },
   "source": [
    "## Process data"
   ]
  },
  {
   "cell_type": "code",
   "execution_count": 5,
   "metadata": {},
   "outputs": [],
   "source": [
    "# Path to downloaded data from Zenodo\n",
    "data_dir = '/Users/matangrinberg/Library/CloudStorage/GoogleDrive-matan.grinberg@gmail.com/My Drive/(21-24) University of California, Berkeley/ML HEP/parametrized-classifiers/data/'"
   ]
  },
  {
   "cell_type": "code",
   "execution_count": 6,
   "metadata": {},
   "outputs": [],
   "source": [
    "dataset = np.load(data_dir + '1D_alphaS_train.npz')"
   ]
  },
  {
   "cell_type": "code",
   "execution_count": 7,
   "metadata": {},
   "outputs": [],
   "source": [
    "X = preprocess_data(dataset['X'])\n",
    "Y = to_categorical(dataset['Y'], num_classes=2)"
   ]
  },
  {
   "cell_type": "code",
   "execution_count": 8,
   "metadata": {},
   "outputs": [],
   "source": [
    "Y = Y[:, 0]"
   ]
  },
  {
   "cell_type": "code",
   "execution_count": 9,
   "metadata": {},
   "outputs": [],
   "source": [
    "X_train, X_val, Y_train, Y_val = data_split(X, Y, test=0.1)"
   ]
  },
  {
   "cell_type": "code",
   "execution_count": 10,
   "metadata": {},
   "outputs": [
    {
     "name": "stdout",
     "output_type": "stream",
     "text": [
      "(1620000, 51, 7)\n",
      "(1620000,)\n",
      "(180000, 51, 7)\n",
      "(180000,)\n"
     ]
    }
   ],
   "source": [
    "print(X_train.shape)\n",
    "print(Y_train.shape)\n",
    "print(X_val.shape)\n",
    "print(Y_val.shape)"
   ]
  },
  {
   "cell_type": "code",
   "execution_count": 11,
   "metadata": {},
   "outputs": [
    {
     "name": "stdout",
     "output_type": "stream",
     "text": [
      "[ 0.00142547 -0.72837916 -0.05334784  0.          0.169397    0.68000001\n",
      "  0.21699999]\n"
     ]
    }
   ],
   "source": [
    "print(X_train[0, 0])"
   ]
  },
  {
   "cell_type": "markdown",
   "metadata": {
    "tags": []
   },
   "source": [
    "# Building/Training Interpolated Model"
   ]
  },
  {
   "cell_type": "code",
   "execution_count": 12,
   "metadata": {
    "scrolled": true
   },
   "outputs": [
    {
     "name": "stderr",
     "output_type": "stream",
     "text": [
      "2022-12-21 13:02:16.373514: I tensorflow/core/platform/cpu_feature_guard.cc:193] This TensorFlow binary is optimized with oneAPI Deep Neural Network Library (oneDNN) to use the following CPU instructions in performance-critical operations:  SSE4.1 SSE4.2\n",
      "To enable them in other operations, rebuild TensorFlow with the appropriate compiler flags.\n"
     ]
    }
   ],
   "source": [
    "# network architecture parameters\n",
    "Phi_sizes = (100,100,128)\n",
    "F_sizes = (100,100,100)\n",
    "\n",
    "model_interpolate = PFN(input_dim=7, Phi_sizes=Phi_sizes, F_sizes=F_sizes, summary=False, loss='binary_crossentropy', output_dim=1, output_act='sigmoid')"
   ]
  },
  {
   "cell_type": "code",
   "execution_count": 13,
   "metadata": {},
   "outputs": [
    {
     "data": {
      "text/plain": [
       "<tf.Tensor: shape=(20, 1), dtype=float32, numpy=\n",
       "array([[0.9433129 ],\n",
       "       [0.9930657 ],\n",
       "       [0.9904413 ],\n",
       "       [0.9978754 ],\n",
       "       [0.94578314],\n",
       "       [0.98596394],\n",
       "       [0.99995816],\n",
       "       [0.99999046],\n",
       "       [0.97644055],\n",
       "       [0.9498029 ],\n",
       "       [0.99476236],\n",
       "       [0.90917903],\n",
       "       [0.9858936 ],\n",
       "       [0.99566823],\n",
       "       [0.98078245],\n",
       "       [0.99831194],\n",
       "       [0.9291636 ],\n",
       "       [0.9678843 ],\n",
       "       [0.97132105],\n",
       "       [0.98818326]], dtype=float32)>"
      ]
     },
     "execution_count": 13,
     "metadata": {},
     "output_type": "execute_result"
    }
   ],
   "source": [
    "model_interpolate.model(X_train[10:30])"
   ]
  },
  {
   "cell_type": "code",
   "execution_count": 14,
   "metadata": {},
   "outputs": [],
   "source": [
    "save_label = 'DCTR_ee_dijets_1D_alphaS'\n",
    "checkpoint = keras.callbacks.ModelCheckpoint('./saved_models/' + save_label + '.h5', monitor='val_loss', verbose=2, save_best_only=True, mode='min')\n",
    "CSVLogger = keras.callbacks.CSVLogger('./logs/' + save_label + '_loss.csv', append=False)\n",
    "EarlyStopping = keras.callbacks.EarlyStopping(monitor='val_loss', min_delta=0, patience=10, verbose=1, restore_best_weights=True)\n",
    "callbacks = [checkpoint, CSVLogger, EarlyStopping]\n",
    "\n",
    "# epochs = 10\n",
    "epochs = 100\n",
    "batch_size = 1000"
   ]
  },
  {
   "cell_type": "code",
   "execution_count": 34,
   "metadata": {
    "scrolled": true,
    "tags": []
   },
   "outputs": [
    {
     "name": "stdout",
     "output_type": "stream",
     "text": [
      "Epoch 1/100\n",
      "1619/1620 [============================>.] - ETA: 0s - loss: 0.6898 - acc: 0.5406\n",
      "Epoch 1: val_loss improved from inf to 0.68251, saving model to ./saved_models/DCTR_ee_dijets_1D_alphaS.h5\n",
      "1620/1620 [==============================] - 82s 50ms/step - loss: 0.6898 - acc: 0.5407 - val_loss: 0.6825 - val_acc: 0.5543\n",
      "Epoch 2/100\n",
      "1619/1620 [============================>.] - ETA: 0s - loss: 0.6814 - acc: 0.5565\n",
      "Epoch 2: val_loss improved from 0.68251 to 0.68008, saving model to ./saved_models/DCTR_ee_dijets_1D_alphaS.h5\n",
      "1620/1620 [==============================] - 81s 50ms/step - loss: 0.6814 - acc: 0.5565 - val_loss: 0.6801 - val_acc: 0.5585\n",
      "Epoch 3/100\n",
      "1619/1620 [============================>.] - ETA: 0s - loss: 0.6804 - acc: 0.5586\n",
      "Epoch 3: val_loss did not improve from 0.68008\n",
      "1620/1620 [==============================] - 81s 50ms/step - loss: 0.6804 - acc: 0.5586 - val_loss: 0.6803 - val_acc: 0.5579\n",
      "Epoch 4/100\n",
      "1619/1620 [============================>.] - ETA: 0s - loss: 0.6800 - acc: 0.5591\n",
      "Epoch 4: val_loss improved from 0.68008 to 0.67988, saving model to ./saved_models/DCTR_ee_dijets_1D_alphaS.h5\n",
      "1620/1620 [==============================] - 82s 50ms/step - loss: 0.6800 - acc: 0.5591 - val_loss: 0.6799 - val_acc: 0.5583\n",
      "Epoch 5/100\n",
      "1619/1620 [============================>.] - ETA: 0s - loss: 0.6794 - acc: 0.5604\n",
      "Epoch 5: val_loss improved from 0.67988 to 0.67958, saving model to ./saved_models/DCTR_ee_dijets_1D_alphaS.h5\n",
      "1620/1620 [==============================] - 81s 50ms/step - loss: 0.6794 - acc: 0.5603 - val_loss: 0.6796 - val_acc: 0.5605\n",
      "Epoch 6/100\n",
      "1619/1620 [============================>.] - ETA: 0s - loss: 0.6790 - acc: 0.5613\n",
      "Epoch 6: val_loss improved from 0.67958 to 0.67869, saving model to ./saved_models/DCTR_ee_dijets_1D_alphaS.h5\n",
      "1620/1620 [==============================] - 82s 50ms/step - loss: 0.6790 - acc: 0.5613 - val_loss: 0.6787 - val_acc: 0.5614\n",
      "Epoch 7/100\n",
      "1619/1620 [============================>.] - ETA: 0s - loss: 0.6787 - acc: 0.5617\n",
      "Epoch 7: val_loss improved from 0.67869 to 0.67783, saving model to ./saved_models/DCTR_ee_dijets_1D_alphaS.h5\n",
      "1620/1620 [==============================] - 83s 51ms/step - loss: 0.6787 - acc: 0.5617 - val_loss: 0.6778 - val_acc: 0.5629\n",
      "Epoch 8/100\n",
      "1619/1620 [============================>.] - ETA: 0s - loss: 0.6784 - acc: 0.5621\n",
      "Epoch 8: val_loss did not improve from 0.67783\n",
      "1620/1620 [==============================] - 82s 51ms/step - loss: 0.6784 - acc: 0.5621 - val_loss: 0.6783 - val_acc: 0.5640\n",
      "Epoch 9/100\n",
      "1619/1620 [============================>.] - ETA: 0s - loss: 0.6781 - acc: 0.5631\n",
      "Epoch 9: val_loss improved from 0.67783 to 0.67741, saving model to ./saved_models/DCTR_ee_dijets_1D_alphaS.h5\n",
      "1620/1620 [==============================] - 81s 50ms/step - loss: 0.6781 - acc: 0.5631 - val_loss: 0.6774 - val_acc: 0.5635\n",
      "Epoch 10/100\n",
      "1619/1620 [============================>.] - ETA: 0s - loss: 0.6779 - acc: 0.5630\n",
      "Epoch 10: val_loss improved from 0.67741 to 0.67735, saving model to ./saved_models/DCTR_ee_dijets_1D_alphaS.h5\n",
      "1620/1620 [==============================] - 83s 51ms/step - loss: 0.6779 - acc: 0.5630 - val_loss: 0.6774 - val_acc: 0.5643\n",
      "Epoch 11/100\n",
      "1619/1620 [============================>.] - ETA: 0s - loss: 0.6778 - acc: 0.5638\n",
      "Epoch 11: val_loss improved from 0.67735 to 0.67712, saving model to ./saved_models/DCTR_ee_dijets_1D_alphaS.h5\n",
      "1620/1620 [==============================] - 82s 50ms/step - loss: 0.6778 - acc: 0.5638 - val_loss: 0.6771 - val_acc: 0.5654\n",
      "Epoch 12/100\n",
      "1619/1620 [============================>.] - ETA: 0s - loss: 0.6776 - acc: 0.5640\n",
      "Epoch 12: val_loss did not improve from 0.67712\n",
      "1620/1620 [==============================] - 82s 51ms/step - loss: 0.6775 - acc: 0.5640 - val_loss: 0.6789 - val_acc: 0.5606\n",
      "Epoch 13/100\n",
      "1619/1620 [============================>.] - ETA: 0s - loss: 0.6776 - acc: 0.5641\n",
      "Epoch 13: val_loss improved from 0.67712 to 0.67711, saving model to ./saved_models/DCTR_ee_dijets_1D_alphaS.h5\n",
      "1620/1620 [==============================] - 82s 50ms/step - loss: 0.6776 - acc: 0.5641 - val_loss: 0.6771 - val_acc: 0.5656\n",
      "Epoch 14/100\n",
      "1619/1620 [============================>.] - ETA: 0s - loss: 0.6774 - acc: 0.5642\n",
      "Epoch 14: val_loss did not improve from 0.67711\n",
      "1620/1620 [==============================] - 82s 51ms/step - loss: 0.6773 - acc: 0.5642 - val_loss: 0.6788 - val_acc: 0.5639\n",
      "Epoch 15/100\n",
      "1620/1620 [==============================] - ETA: 0s - loss: 0.6773 - acc: 0.5647\n",
      "Epoch 15: val_loss did not improve from 0.67711\n",
      "1620/1620 [==============================] - 83s 51ms/step - loss: 0.6773 - acc: 0.5647 - val_loss: 0.6771 - val_acc: 0.5658\n",
      "Epoch 16/100\n",
      "1619/1620 [============================>.] - ETA: 0s - loss: 0.6772 - acc: 0.5645\n",
      "Epoch 16: val_loss improved from 0.67711 to 0.67705, saving model to ./saved_models/DCTR_ee_dijets_1D_alphaS.h5\n",
      "1620/1620 [==============================] - 81s 50ms/step - loss: 0.6772 - acc: 0.5645 - val_loss: 0.6770 - val_acc: 0.5656\n",
      "Epoch 17/100\n",
      "1620/1620 [==============================] - ETA: 0s - loss: 0.6769 - acc: 0.5653\n",
      "Epoch 17: val_loss improved from 0.67705 to 0.67698, saving model to ./saved_models/DCTR_ee_dijets_1D_alphaS.h5\n",
      "1620/1620 [==============================] - 81s 50ms/step - loss: 0.6769 - acc: 0.5653 - val_loss: 0.6770 - val_acc: 0.5649\n",
      "Epoch 18/100\n",
      "1620/1620 [==============================] - ETA: 0s - loss: 0.6769 - acc: 0.5650\n",
      "Epoch 18: val_loss improved from 0.67698 to 0.67687, saving model to ./saved_models/DCTR_ee_dijets_1D_alphaS.h5\n",
      "1620/1620 [==============================] - 81s 50ms/step - loss: 0.6769 - acc: 0.5650 - val_loss: 0.6769 - val_acc: 0.5654\n",
      "Epoch 19/100\n",
      "1619/1620 [============================>.] - ETA: 0s - loss: 0.6768 - acc: 0.5656\n",
      "Epoch 19: val_loss did not improve from 0.67687\n",
      "1620/1620 [==============================] - 82s 50ms/step - loss: 0.6768 - acc: 0.5656 - val_loss: 0.6776 - val_acc: 0.5637\n",
      "Epoch 20/100\n",
      "1620/1620 [==============================] - ETA: 0s - loss: 0.6767 - acc: 0.5659\n",
      "Epoch 20: val_loss did not improve from 0.67687\n",
      "1620/1620 [==============================] - 82s 50ms/step - loss: 0.6767 - acc: 0.5659 - val_loss: 0.6775 - val_acc: 0.5654\n",
      "Epoch 21/100\n",
      "1619/1620 [============================>.] - ETA: 0s - loss: 0.6767 - acc: 0.5656\n",
      "Epoch 21: val_loss did not improve from 0.67687\n",
      "1620/1620 [==============================] - 81s 50ms/step - loss: 0.6767 - acc: 0.5656 - val_loss: 0.6769 - val_acc: 0.5653\n",
      "Epoch 22/100\n",
      "1619/1620 [============================>.] - ETA: 0s - loss: 0.6766 - acc: 0.5660\n",
      "Epoch 22: val_loss did not improve from 0.67687\n",
      "1620/1620 [==============================] - 81s 50ms/step - loss: 0.6766 - acc: 0.5660 - val_loss: 0.6769 - val_acc: 0.5646\n",
      "Epoch 23/100\n",
      "1619/1620 [============================>.] - ETA: 0s - loss: 0.6764 - acc: 0.5660\n",
      "Epoch 23: val_loss improved from 0.67687 to 0.67683, saving model to ./saved_models/DCTR_ee_dijets_1D_alphaS.h5\n",
      "1620/1620 [==============================] - 81s 50ms/step - loss: 0.6764 - acc: 0.5660 - val_loss: 0.6768 - val_acc: 0.5656\n",
      "Epoch 24/100\n",
      "1619/1620 [============================>.] - ETA: 0s - loss: 0.6764 - acc: 0.5664\n",
      "Epoch 24: val_loss did not improve from 0.67683\n",
      "1620/1620 [==============================] - 82s 51ms/step - loss: 0.6764 - acc: 0.5664 - val_loss: 0.6773 - val_acc: 0.5654\n",
      "Epoch 25/100\n",
      "1619/1620 [============================>.] - ETA: 0s - loss: 0.6763 - acc: 0.5663\n",
      "Epoch 25: val_loss improved from 0.67683 to 0.67649, saving model to ./saved_models/DCTR_ee_dijets_1D_alphaS.h5\n",
      "1620/1620 [==============================] - 81s 50ms/step - loss: 0.6763 - acc: 0.5663 - val_loss: 0.6765 - val_acc: 0.5674\n",
      "Epoch 26/100\n",
      "1619/1620 [============================>.] - ETA: 0s - loss: 0.6762 - acc: 0.5664\n",
      "Epoch 26: val_loss did not improve from 0.67649\n",
      "1620/1620 [==============================] - 82s 50ms/step - loss: 0.6762 - acc: 0.5664 - val_loss: 0.6773 - val_acc: 0.5651\n",
      "Epoch 27/100\n",
      "1619/1620 [============================>.] - ETA: 0s - loss: 0.6762 - acc: 0.5666\n",
      "Epoch 27: val_loss did not improve from 0.67649\n",
      "1620/1620 [==============================] - 81s 50ms/step - loss: 0.6762 - acc: 0.5666 - val_loss: 0.6770 - val_acc: 0.5652\n",
      "Epoch 28/100\n",
      "1619/1620 [============================>.] - ETA: 0s - loss: 0.6761 - acc: 0.5666\n",
      "Epoch 28: val_loss did not improve from 0.67649\n",
      "1620/1620 [==============================] - 82s 50ms/step - loss: 0.6761 - acc: 0.5665 - val_loss: 0.6769 - val_acc: 0.5654\n",
      "Epoch 29/100\n",
      "1619/1620 [============================>.] - ETA: 0s - loss: 0.6761 - acc: 0.5671\n",
      "Epoch 29: val_loss did not improve from 0.67649\n",
      "1620/1620 [==============================] - 81s 50ms/step - loss: 0.6761 - acc: 0.5671 - val_loss: 0.6775 - val_acc: 0.5653\n",
      "Epoch 30/100\n",
      "1620/1620 [==============================] - ETA: 0s - loss: 0.6760 - acc: 0.5670\n",
      "Epoch 30: val_loss did not improve from 0.67649\n",
      "1620/1620 [==============================] - 82s 51ms/step - loss: 0.6760 - acc: 0.5670 - val_loss: 0.6768 - val_acc: 0.5654\n",
      "Epoch 31/100\n",
      "1619/1620 [============================>.] - ETA: 0s - loss: 0.6760 - acc: 0.5674\n",
      "Epoch 31: val_loss did not improve from 0.67649\n",
      "1620/1620 [==============================] - 81s 50ms/step - loss: 0.6760 - acc: 0.5674 - val_loss: 0.6769 - val_acc: 0.5664\n",
      "Epoch 32/100\n",
      "1619/1620 [============================>.] - ETA: 0s - loss: 0.6759 - acc: 0.5674\n",
      "Epoch 32: val_loss did not improve from 0.67649\n",
      "1620/1620 [==============================] - 81s 50ms/step - loss: 0.6759 - acc: 0.5674 - val_loss: 0.6769 - val_acc: 0.5663\n",
      "Epoch 33/100\n",
      "1620/1620 [==============================] - ETA: 0s - loss: 0.6758 - acc: 0.5674\n",
      "Epoch 33: val_loss did not improve from 0.67649\n",
      "1620/1620 [==============================] - 82s 51ms/step - loss: 0.6758 - acc: 0.5674 - val_loss: 0.6771 - val_acc: 0.5655\n",
      "Epoch 34/100\n",
      "1620/1620 [==============================] - ETA: 0s - loss: 0.6758 - acc: 0.5678\n",
      "Epoch 34: val_loss did not improve from 0.67649\n",
      "1620/1620 [==============================] - 82s 51ms/step - loss: 0.6758 - acc: 0.5678 - val_loss: 0.6774 - val_acc: 0.5652\n",
      "Epoch 35/100\n",
      "1619/1620 [============================>.] - ETA: 0s - loss: 0.6757 - acc: 0.5680\n",
      "Epoch 35: val_loss did not improve from 0.67649\n",
      "Restoring model weights from the end of the best epoch: 25.\n",
      "1620/1620 [==============================] - 83s 51ms/step - loss: 0.6757 - acc: 0.5680 - val_loss: 0.6768 - val_acc: 0.5672\n",
      "Epoch 35: early stopping\n"
     ]
    }
   ],
   "source": [
    "history = model_interpolate.fit(X_train, Y_train,\n",
    "                    epochs = epochs,\n",
    "                    batch_size = batch_size,\n",
    "                    validation_data = (X_val, Y_val),\n",
    "                    verbose = 1, \n",
    "                    callbacks = callbacks)"
   ]
  },
  {
   "cell_type": "markdown",
   "metadata": {
    "tags": []
   },
   "source": [
    "## Plot History"
   ]
  },
  {
   "cell_type": "code",
   "execution_count": 35,
   "metadata": {},
   "outputs": [
    {
     "data": {
      "image/png": "[encoded data removed]",
      "text/plain": [
       "<Figure size 640x480 with 1 Axes>"
      ]
     },
     "metadata": {},
     "output_type": "display_data"
    }
   ],
   "source": [
    "plt.plot(history.history['loss'],     label = 'loss')\n",
    "plt.plot(history.history['val_loss'], label = 'val loss')\n",
    "plt.legend(loc=0)\n",
    "plt.ylabel('loss')\n",
    "plt.xlabel('Epochs')\n",
    "plt.show()"
   ]
  },
  {
   "cell_type": "markdown",
   "metadata": {
    "tags": []
   },
   "source": [
    "# Load Interpolated Model"
   ]
  },
  {
   "cell_type": "code",
   "execution_count": 15,
   "metadata": {},
   "outputs": [],
   "source": [
    "# load model from saved file\n",
    "model_interpolate.model.load_weights('./saved_models/DCTR_ee_dijets_1D_alphaS.h5')"
   ]
  },
  {
   "cell_type": "markdown",
   "metadata": {
    "jp-MarkdownHeadingCollapsed": true,
    "tags": []
   },
   "source": [
    "## Load Datasets"
   ]
  },
  {
   "cell_type": "code",
   "execution_count": 17,
   "metadata": {},
   "outputs": [],
   "source": [
    "test_dataset_0 = np.load(data_dir+'test1D_default.npz')\n",
    "test_dataset_1 = np.load(data_dir+'test1D_alphaS.npz')"
   ]
  },
  {
   "cell_type": "markdown",
   "metadata": {
    "jp-MarkdownHeadingCollapsed": true,
    "tags": []
   },
   "source": [
    "## Get predictions"
   ]
  },
  {
   "cell_type": "code",
   "execution_count": null,
   "metadata": {},
   "outputs": [],
   "source": [
    "# Load test datasets\n",
    "X0_test = preprocess_data(test_dataset_0['jet'])\n",
    "X1_test = preprocess_data(test_dataset_1['jet'])"
   ]
  },
  {
   "cell_type": "code",
   "execution_count": 20,
   "metadata": {},
   "outputs": [],
   "source": [
    "# Get predicted probabilities\n",
    "preds_0 = dctr.predict(X0_test, batch_size=1000)\n",
    "preds_1 = dctr.predict(X1_test, batch_size=1000)"
   ]
  },
  {
   "cell_type": "markdown",
   "metadata": {
    "jp-MarkdownHeadingCollapsed": true,
    "tags": []
   },
   "source": [
    "## Get weights"
   ]
  },
  {
   "cell_type": "code",
   "execution_count": 21,
   "metadata": {},
   "outputs": [],
   "source": [
    "weights_0 = preds_0[:,0]/preds_0[:,1]\n",
    "weights_1 = preds_1[:,0]/preds_1[:,1]"
   ]
  },
  {
   "cell_type": "code",
   "execution_count": 25,
   "metadata": {},
   "outputs": [],
   "source": [
    "# Define default plot styles\n",
    "plot_style_0 = {'histtype':'step', 'color':'black', 'linewidth':2, 'linestyle':'--', 'density':True}\n",
    "plot_style_1 = {'alpha':0.5, 'density':True}"
   ]
  },
  {
   "cell_type": "markdown",
   "metadata": {
    "tags": []
   },
   "source": [
    "# Fitting"
   ]
  },
  {
   "cell_type": "markdown",
   "metadata": {},
   "source": [
    "## Parameter-Finder Model"
   ]
  },
  {
   "cell_type": "code",
   "execution_count": 16,
   "metadata": {},
   "outputs": [],
   "source": [
    "class AddParams2Input(keras.layers.Layer):\n",
    "    \"\"\" Custom layer for tuning parameters: \n",
    "    Arguments:\n",
    "    - n_params : (int) - the number of n_params that are in X_dim\n",
    "    - default_params : (list of floats) - initial values for each of the parameters\n",
    "    - trainable_params : (list of booleans) - True for parameters that you want to fit, false for parameters that should be fixed at default value\n",
    "\n",
    "    Usage: \n",
    "    Let X_dim be the input dimension of each particle to a PFN model, and n_params be the number of MC parameters. \n",
    "    Defines a Layer that takes in an array of dimension \n",
    "    (batch_size, padded_multiplicity, X_dim - n_params)\n",
    "    This layer appends each particle by the default_params and makes then trainable or non-trainable based on trainable_params\n",
    "    \"\"\"\n",
    "    \n",
    "    def __init__(self, n_params, default_params, trainable_params):\n",
    "        super(AddParams2Input, self).__init__()\n",
    "        # Definitions\n",
    "        self.n_params = n_params\n",
    "        self.params = default_params\n",
    "        self.trainable_params = trainable_params\n",
    "        self.param_weights = []\n",
    "\n",
    "    \n",
    "    def build(self, input_shape):\n",
    "        # Convert input parameters to weights and make then trainable or non-trainable\n",
    "        for i in range(self.n_params):\n",
    "            # Create weight in layer for each parameter, trainable depending on trainable_params (Binary)\n",
    "            self.param_weights.append(self.add_weight(name='tuning_param_{}'.format(i), shape=(1, 1), initializer=keras.initializers.Constant(self.params[i]), trainable=self.trainable_params[i]))\n",
    "            \n",
    "        self.param_weights = keras.backend.concatenate(self.param_weights, axis = -1)\n",
    "        super(AddParams2Input, self).build(input_shape)\n",
    "        \n",
    "        \n",
    "    def call(self, input):\n",
    "        # Add MC params to each input particle (but not to the padded rows)\n",
    "        concat = tf.transpose(keras.backend.tf.where(keras.backend.abs(input[..., 0]) > 0, \n",
    "                                                     tf.transpose(tf.math.multiply(self.param_weights, keras.backend.ones_like(input[..., 0:self.n_params]))),\n",
    "                                                                                        tf.transpose(keras.backend.zeros_like(input[..., 0:self.n_params]))))\n",
    "        return keras.backend.concatenate([input, concat], -1)\n",
    "        \n",
    "        \n",
    "    def compute_output_shape(self, input_shape):\n",
    "        return (input_shape[0], input_shape[1] + self.n_params)         "
   ]
  },
  {
   "cell_type": "code",
   "execution_count": 17,
   "metadata": {},
   "outputs": [],
   "source": [
    "def model_parameter_finder(model_interpolate, X_dim, n_params, default_params, trainable_params):\n",
    "    \"\"\" \n",
    "    Get a model that trains on the input parameters\n",
    "    \n",
    "    Arguments:\n",
    "    - model_interpolate : a PFN model that has been trained to continuously interpolate over the input parameter dimensions\n",
    "    - X_dim : (int) - the dimension of the input expected by DCTR_model\n",
    "    - n_params : (int) - the number of n_params that are in X_dim\n",
    "    - default_params : (list of floats) - default values for each of the parameters\n",
    "    - trainable_params : (list of booleans) - True for parameters that you want to fit, false for parameters that should be fixed at default value\n",
    "\n",
    "    Returns:\n",
    "    - model_parameter_finder: a compiled model that gradient descends only on the trainable parameters\n",
    "    \"\"\"\n",
    "    \n",
    "    # Do sanity checks on inputs\n",
    "    assert X_dim >=n_params, \"X_dim must be larger than n_params. X_dim includes the dimensionality of the 4-vector + number of parameters\"\n",
    "    assert n_params == len(default_params), \"Dimension mismatch between n_params and number of default parameters given. len(default_params) must equal n_params\"\n",
    "    assert n_params == len(trainable_params), \"Dimension mismatch between n_params and trainable_params. len(trainable_params) must equal n_params.\"\n",
    "    assert np.any(trainable_params), \"All parameters are set to non-trainable.\"\n",
    "    \n",
    "    # Set all weights in interpolation_model to non-trainable\n",
    "    for layer in model_interpolate.layers: \n",
    "        layer.trainable = False\n",
    "    \n",
    "    # Define input to DCTR_fit_model\n",
    "    raw_inputs = keras.Input(shape=(None, X_dim - n_params), name='pf_input')\n",
    "\n",
    "    # Construct layer that adds trainable and non-trainable parameters to the input\n",
    "    add_params_layer = AddParams2Input(n_params, default_params, trainable_params)\n",
    "    input_for_interp = keras.layers.TimeDistributed(add_params_layer, name='input_for_interpolate')(raw_inputs)\n",
    "    output = model_interpolate.model(input_for_interp)\n",
    "    \n",
    "    # Define full model\n",
    "    model_parameter_finder = fitmodel = keras.Model(inputs = raw_inputs, outputs = output, name='pf_output')\n",
    "    optimizer = keras.optimizers.Adam(learning_rate=1e-4)\n",
    "    \n",
    "    # Compile with loss function\n",
    "    model_parameter_finder.compile(optimizer=optimizer, loss='categorical_crossentropy')\n",
    "    \n",
    "    return model_parameter_finder"
   ]
  },
  {
   "cell_type": "code",
   "execution_count": 18,
   "metadata": {},
   "outputs": [],
   "source": [
    "def get_loss(X, Y, model, params, batch_size = 1000):\n",
    "    model_pf = model_parameter_finder(model, X_dim =7, n_params = 3, default_params = params, trainable_params = [True, False, False])\n",
    "    return model_pf.evaluate(x=X, y=Y, batch_size=batch_size)"
   ]
  },
  {
   "cell_type": "code",
   "execution_count": 161,
   "metadata": {},
   "outputs": [],
   "source": [
    "n_params = 3\n",
    "params   = [0.1365, 0.68, 0.217]\n",
    "t_params = [True, False, False]\n",
    "p_models = []\n",
    "\n",
    "# Convert input parameters to weights and make then trainable or non-trainable\n",
    "for i in range(n_params):\n",
    "    p_models.append(keras.layers.Dense(1, use_bias=False, kernel_initializer=keras.initializers.Constant(params[i]), trainable=t_params[i], name='tuning_param_{}'.format(i)))\n",
    "\n",
    "    \n",
    "parameter_inputs = tf.keras.Input(shape=(None, 1), name='mp_input')\n",
    "parameter_models =  tf.keras.layers.concatenate([p_models[0](parameter_inputs), p_models[1](parameter_inputs), p_models[2](parameter_inputs)])\n",
    "model_parameters = keras.Model(inputs = parameter_inputs, outputs = parameter_models)\n",
    "\n",
    "# Set all weights in interpolation_model to non-trainable\n",
    "for l in model_interpolate.layers: \n",
    "    l.trainable = False\n",
    "    \n",
    "# Define input to DCTR_fit_model\n",
    "raw_inputs = keras.Input(shape=(None, 4), name='pf_input')\n",
    "inputs = tf.keras.layers.concatenate([raw_inputs, model_parameters(tf.ones_like(raw_inputs)[:,:,0:1])])\n",
    "output = model_interpolate.model(inputs)\n",
    "\n",
    "# Define full model\n",
    "model_parameter_finder = keras.Model(inputs = raw_inputs, outputs = output, name='pf_output')\n",
    "\n",
    "\n",
    "optimizer = keras.optimizers.Adam(learning_rate=1e-4)\n",
    "loss = tf.keras.losses.BinaryCrossentropy()\n",
    "\n",
    "# Compile with loss function\n",
    "model_parameter_finder.compile(optimizer=optimizer, loss=loss)"
   ]
  },
  {
   "cell_type": "code",
   "execution_count": 163,
   "metadata": {},
   "outputs": [
    {
     "name": "stdout",
     "output_type": "stream",
     "text": [
      "Epoch 1/10\n",
      "180/180 [==============================] - 102s 565ms/step - loss: 0.6756\n",
      "Epoch 2/10\n",
      "180/180 [==============================] - 96s 536ms/step - loss: 0.6756\n",
      "Epoch 3/10\n",
      "180/180 [==============================] - 96s 531ms/step - loss: 0.6756\n",
      "Epoch 4/10\n",
      "180/180 [==============================] - 94s 521ms/step - loss: 0.6756\n",
      "Epoch 5/10\n",
      "180/180 [==============================] - 93s 517ms/step - loss: 0.6756\n",
      "Epoch 6/10\n",
      "180/180 [==============================] - 97s 538ms/step - loss: 0.6756\n",
      "Epoch 7/10\n",
      "180/180 [==============================] - 100s 556ms/step - loss: 0.6756\n",
      "Epoch 8/10\n",
      "180/180 [==============================] - 92s 513ms/step - loss: 0.6756\n",
      "Epoch 9/10\n",
      "180/180 [==============================] - 93s 516ms/step - loss: 0.6756\n",
      "Epoch 10/10\n",
      "180/180 [==============================] - 97s 540ms/step - loss: 0.6756\n"
     ]
    },
    {
     "data": {
      "text/plain": [
       "<keras.callbacks.History at 0x7fcd4234ee30>"
      ]
     },
     "execution_count": 163,
     "metadata": {},
     "output_type": "execute_result"
    }
   ],
   "source": [
    "model_parameter_finder.fit(X_fit, Y_fit, epochs=10, batch_size=10000)"
   ]
  },
  {
   "cell_type": "code",
   "execution_count": 154,
   "metadata": {},
   "outputs": [
    {
     "name": "stdout",
     "output_type": "stream",
     "text": [
      "[<tf.Variable 'tuning_param_0/kernel:0' shape=(1, 1) dtype=float32, numpy=array([[0.1365]], dtype=float32)>]\n"
     ]
    },
    {
     "data": {
      "image/png": "[encoded data removed]",
      "text/plain": [
       "<IPython.core.display.Image object>"
      ]
     },
     "execution_count": 154,
     "metadata": {},
     "output_type": "execute_result"
    }
   ],
   "source": [
    "print(model_parameter_finder.trainable_weights)\n",
    "keras.utils.plot_model(model_parameter_finder, \"my_first_model_with_shape_info.png\", show_shapes=True)"
   ]
  },
  {
   "cell_type": "code",
   "execution_count": 52,
   "metadata": {},
   "outputs": [
    {
     "name": "stdout",
     "output_type": "stream",
     "text": [
      "ris (None, None, 4)\n",
      "ifis (None, None, 7)\n"
     ]
    }
   ],
   "source": [
    "model_interpolate_pf = model_parameter_finder(model_interpolate, X_dim =7, n_params = 3, \n",
    "                                               default_params   = [0.1365, 0.68, 0.217], # default params for [alpha_s, aLund, StoUD]\n",
    "                                               trainable_params = [True, False, False]) # Only train alpha_s"
   ]
  },
  {
   "cell_type": "code",
   "execution_count": 34,
   "metadata": {},
   "outputs": [
    {
     "data": {
      "text/html": [
       "\n",
       "      <iframe id=\"tensorboard-frame-96310c65cd8dc613\" width=\"100%\" height=\"800\" frameborder=\"0\">\n",
       "      </iframe>\n",
       "      <script>\n",
       "        (function() {\n",
       "          const frame = document.getElementById(\"tensorboard-frame-96310c65cd8dc613\");\n",
       "          const url = new URL(\"/\", window.location);\n",
       "          const port = 6006;\n",
       "          if (port) {\n",
       "            url.port = port;\n",
       "          }\n",
       "          frame.src = url;\n",
       "        })();\n",
       "      </script>\n",
       "    "
      ],
      "text/plain": [
       "<IPython.core.display.HTML object>"
      ]
     },
     "metadata": {},
     "output_type": "display_data"
    }
   ],
   "source": [
    "%load_ext tensorboard\n",
    "%tensorboard --logdir logs"
   ]
  },
  {
   "cell_type": "markdown",
   "metadata": {},
   "source": [
    "## Load Data"
   ]
  },
  {
   "cell_type": "code",
   "execution_count": 137,
   "metadata": {},
   "outputs": [],
   "source": [
    "default_dataset = np.load(data_dir + 'test1D_default.npz')\n",
    "unknown_dataset = np.load(data_dir + 'test1D_alphaS.npz')"
   ]
  },
  {
   "cell_type": "code",
   "execution_count": 138,
   "metadata": {},
   "outputs": [],
   "source": [
    "X_default = preprocess_data(default_dataset['jet'][:,:,:4])\n",
    "X_unknown = preprocess_data(unknown_dataset['jet'][:,:,:4])\n",
    "Y_default = np.zeros_like(X_unknown[:,0,0])\n",
    "Y_unknown = np.ones_like(X_unknown[:,0,0])"
   ]
  },
  {
   "cell_type": "code",
   "execution_count": 139,
   "metadata": {},
   "outputs": [],
   "source": [
    "X_fit = np.concatenate((X_default, X_unknown), axis = 0)\n",
    "Y_fit = np.concatenate((Y_default, Y_unknown), axis = 0)\n",
    "Y_fit = to_categorical(Y_fit, num_classes=2)"
   ]
  },
  {
   "cell_type": "code",
   "execution_count": 140,
   "metadata": {},
   "outputs": [],
   "source": [
    "Y_fit = Y_fit[:, 0]"
   ]
  },
  {
   "cell_type": "code",
   "execution_count": 141,
   "metadata": {},
   "outputs": [],
   "source": [
    "X_fit, _, Y_fit, _ = data_split(X_fit, Y_fit, test=0, shuffle=True)"
   ]
  },
  {
   "cell_type": "markdown",
   "metadata": {},
   "source": [
    "## Evaluate Loss as a function of MC parameter"
   ]
  },
  {
   "cell_type": "code",
   "execution_count": 26,
   "metadata": {},
   "outputs": [
    {
     "name": "stdout",
     "output_type": "stream",
     "text": [
      "1800/1800 [==============================] - 35s 19ms/step - loss: 0.7708\n"
     ]
    },
    {
     "data": {
      "text/plain": [
       "0.7708490490913391"
      ]
     },
     "execution_count": 26,
     "metadata": {},
     "output_type": "execute_result"
    }
   ],
   "source": [
    "get_loss(X_fit, Y_fit, model_interpolate, [0.1, 0.68, 0.217])"
   ]
  },
  {
   "cell_type": "code",
   "execution_count": 26,
   "metadata": {
    "scrolled": true
   },
   "outputs": [
    {
     "name": "stdout",
     "output_type": "stream",
     "text": [
      "1800/1800 [==============================] - 38s 21ms/step - loss: 0.7709\n",
      "1800/1800 [==============================] - 38s 21ms/step - loss: 0.7662\n",
      "1800/1800 [==============================] - 41s 23ms/step - loss: 0.7610\n",
      "1800/1800 [==============================] - 37s 20ms/step - loss: 0.7552\n",
      "1800/1800 [==============================] - 36s 20ms/step - loss: 0.7491\n",
      "1800/1800 [==============================] - 36s 20ms/step - loss: 0.7425\n",
      "1800/1800 [==============================] - 38s 21ms/step - loss: 0.7359\n",
      "1800/1800 [==============================] - 39s 22ms/step - loss: 0.7292\n",
      "1800/1800 [==============================] - 39s 21ms/step - loss: 0.7229\n",
      "1800/1800 [==============================] - 38s 21ms/step - loss: 0.7170\n",
      "1800/1800 [==============================] - 37s 20ms/step - loss: 0.7116\n",
      "1800/1800 [==============================] - 37s 21ms/step - loss: 0.7065\n",
      "1800/1800 [==============================] - 36s 20ms/step - loss: 0.7015\n",
      "1800/1800 [==============================] - 36s 20ms/step - loss: 0.6965\n",
      "1800/1800 [==============================] - 37s 20ms/step - loss: 0.6915\n",
      "1800/1800 [==============================] - 37s 20ms/step - loss: 0.6870\n",
      "1800/1800 [==============================] - 36s 20ms/step - loss: 0.6829\n",
      "1800/1800 [==============================] - 36s 20ms/step - loss: 0.6793\n",
      "1800/1800 [==============================] - 36s 20ms/step - loss: 0.6765\n",
      "1800/1800 [==============================] - 36s 20ms/step - loss: 0.6745\n",
      "1800/1800 [==============================] - 36s 20ms/step - loss: 0.6731\n",
      "1800/1800 [==============================] - 36s 20ms/step - loss: 0.6723\n",
      "1800/1800 [==============================] - 38s 21ms/step - loss: 0.6719\n",
      "1800/1800 [==============================] - 38s 21ms/step - loss: 0.6720\n",
      "1800/1800 [==============================] - 38s 21ms/step - loss: 0.6725\n",
      "1800/1800 [==============================] - 38s 21ms/step - loss: 0.6733\n",
      "1800/1800 [==============================] - 36s 20ms/step - loss: 0.6744\n",
      "1800/1800 [==============================] - 37s 20ms/step - loss: 0.6758\n",
      "1800/1800 [==============================] - 36s 20ms/step - loss: 0.6775\n",
      "1800/1800 [==============================] - 42s 23ms/step - loss: 0.6793\n",
      "1800/1800 [==============================] - 38s 21ms/step - loss: 0.6814\n"
     ]
    }
   ],
   "source": [
    "alpha_loss = np.array([(a, get_loss(X_fit, Y_fit, model_interpolate, [a, 0.68, 0.217])) for a in np.linspace(0.1,0.18, 31)])"
   ]
  },
  {
   "cell_type": "code",
   "execution_count": 27,
   "metadata": {},
   "outputs": [
    {
     "data": {
      "image/png": "[encoded data removed]",
      "text/plain": [
       "<Figure size 640x480 with 1 Axes>"
      ]
     },
     "metadata": {},
     "output_type": "display_data"
    }
   ],
   "source": [
    "plt.plot(*alpha_loss.T)\n",
    "plt.ylabel('Loss')\n",
    "plt.xlabel(r'$\\alpha_s$')\n",
    "# plt.legend()\n",
    "plt.tight_layout()\n",
    "plt.show()"
   ]
  },
  {
   "cell_type": "code",
   "execution_count": 29,
   "metadata": {},
   "outputs": [
    {
     "data": {
      "text/plain": [
       "array([0.15866666])"
      ]
     },
     "execution_count": 29,
     "metadata": {},
     "output_type": "execute_result"
    }
   ],
   "source": [
    "def get_min_loss(losses, x0):\n",
    "    f = sp.interpolate.interp1d(losses[:,0], losses[:,1], fill_value=\"extrapolate\")\n",
    "    return sp.optimize.minimize(f, x0=x0)['x']\n",
    "\n",
    "get_min_loss(alpha_loss, x0=0.1365)"
   ]
  },
  {
   "cell_type": "markdown",
   "metadata": {},
   "source": [
    "## Tune with Gradient Descent"
   ]
  },
  {
   "cell_type": "code",
   "execution_count": 35,
   "metadata": {},
   "outputs": [],
   "source": [
    "print_weights = keras.callbacks.LambdaCallback(on_epoch_end=lambda batch, logs: print(\"alpha_s fit = \", model_interpolate_pf.get_weights()[0][0][0]))\n",
    "fit_vals = [0.1365]\n",
    "append_weights = keras.callbacks.LambdaCallback(on_epoch_end=lambda batch, logs: fit_vals.append(model_interpolate_pf.get_weights()[0][0][0]))\n",
    "\n",
    "callbacks = [print_weights, append_weights]"
   ]
  },
  {
   "cell_type": "code",
   "execution_count": 41,
   "metadata": {},
   "outputs": [
    {
     "name": "stdout",
     "output_type": "stream",
     "text": [
      "Model: \"pf_output\"\n",
      "_________________________________________________________________\n",
      " Layer (type)                Output Shape              Param #   \n",
      "=================================================================\n",
      " pf_input (InputLayer)       [(None, None, 4)]         0         \n",
      "                                                                 \n",
      " input_for_interpolate (Time  (None, None, 7)          3         \n",
      " Distributed)                                                    \n",
      "                                                                 \n",
      " model (Functional)          (None, 2)                 57130     \n",
      "                                                                 \n",
      "=================================================================\n",
      "Total params: 57,133\n",
      "Trainable params: 1\n",
      "Non-trainable params: 57,132\n",
      "_________________________________________________________________\n"
     ]
    }
   ],
   "source": [
    "model_interpolate_pf.summary()"
   ]
  },
  {
   "cell_type": "code",
   "execution_count": 28,
   "metadata": {
    "scrolled": true
   },
   "outputs": [
    {
     "name": "stdout",
     "output_type": "stream",
     "text": [
      "Epoch 1/10\n"
     ]
    },
    {
     "ename": "ValueError",
     "evalue": "in user code:\n\n    File \"/opt/anaconda3/envs/pc/lib/python3.10/site-packages/keras/engine/training.py\", line 1051, in train_function  *\n        return step_function(self, iterator)\n    File \"/opt/anaconda3/envs/pc/lib/python3.10/site-packages/keras/engine/training.py\", line 1040, in step_function  **\n        outputs = model.distribute_strategy.run(run_step, args=(data,))\n    File \"/opt/anaconda3/envs/pc/lib/python3.10/site-packages/keras/engine/training.py\", line 1030, in run_step  **\n        outputs = model.train_step(data)\n    File \"/opt/anaconda3/envs/pc/lib/python3.10/site-packages/keras/engine/training.py\", line 893, in train_step\n        self.optimizer.minimize(loss, self.trainable_variables, tape=tape)\n    File \"/opt/anaconda3/envs/pc/lib/python3.10/site-packages/keras/optimizers/optimizer_v2/optimizer_v2.py\", line 539, in minimize\n        return self.apply_gradients(grads_and_vars, name=name)\n    File \"/opt/anaconda3/envs/pc/lib/python3.10/site-packages/keras/optimizers/optimizer_v2/optimizer_v2.py\", line 640, in apply_gradients\n        grads_and_vars = optimizer_utils.filter_empty_gradients(grads_and_vars)\n    File \"/opt/anaconda3/envs/pc/lib/python3.10/site-packages/keras/optimizers/optimizer_v2/utils.py\", line 73, in filter_empty_gradients\n        raise ValueError(f\"No gradients provided for any variable: {variable}. \"\n\n    ValueError: No gradients provided for any variable: (['input_for_interpolate/tuning_param_0:0'],). Provided `grads_and_vars` is ((None, <tf.Variable 'input_for_interpolate/tuning_param_0:0' shape=(1, 1) dtype=float32>),).\n",
     "output_type": "error",
     "traceback": [
      "\u001b[0;31m---------------------------------------------------------------------------\u001b[0m",
      "\u001b[0;31mValueError\u001b[0m                                Traceback (most recent call last)",
      "Cell \u001b[0;32mIn[28], line 1\u001b[0m\n\u001b[0;32m----> 1\u001b[0m \u001b[43mmodel_interpolate_pf\u001b[49m\u001b[38;5;241;43m.\u001b[39;49m\u001b[43mfit\u001b[49m\u001b[43m(\u001b[49m\u001b[43mX_fit\u001b[49m\u001b[43m,\u001b[49m\u001b[43m \u001b[49m\u001b[43mY_fit\u001b[49m\u001b[43m,\u001b[49m\u001b[43m \u001b[49m\u001b[43mepochs\u001b[49m\u001b[38;5;241;43m=\u001b[39;49m\u001b[38;5;241;43m10\u001b[39;49m\u001b[43m,\u001b[49m\u001b[43m \u001b[49m\u001b[43mbatch_size\u001b[49m\u001b[38;5;241;43m=\u001b[39;49m\u001b[38;5;241;43m10000\u001b[39;49m\u001b[43m)\u001b[49m\n",
      "File \u001b[0;32m/opt/anaconda3/envs/pc/lib/python3.10/site-packages/keras/utils/traceback_utils.py:67\u001b[0m, in \u001b[0;36mfilter_traceback.<locals>.error_handler\u001b[0;34m(*args, **kwargs)\u001b[0m\n\u001b[1;32m     65\u001b[0m \u001b[38;5;28;01mexcept\u001b[39;00m \u001b[38;5;167;01mException\u001b[39;00m \u001b[38;5;28;01mas\u001b[39;00m e:  \u001b[38;5;66;03m# pylint: disable=broad-except\u001b[39;00m\n\u001b[1;32m     66\u001b[0m   filtered_tb \u001b[38;5;241m=\u001b[39m _process_traceback_frames(e\u001b[38;5;241m.\u001b[39m__traceback__)\n\u001b[0;32m---> 67\u001b[0m   \u001b[38;5;28;01mraise\u001b[39;00m e\u001b[38;5;241m.\u001b[39mwith_traceback(filtered_tb) \u001b[38;5;28;01mfrom\u001b[39;00m \u001b[38;5;28mNone\u001b[39m\n\u001b[1;32m     68\u001b[0m \u001b[38;5;28;01mfinally\u001b[39;00m:\n\u001b[1;32m     69\u001b[0m   \u001b[38;5;28;01mdel\u001b[39;00m filtered_tb\n",
      "File \u001b[0;32m/var/folders/m2/185h3bxj77z7vy89y472mwq40000gn/T/__autograph_generated_file0mnn6urq.py:15\u001b[0m, in \u001b[0;36mouter_factory.<locals>.inner_factory.<locals>.tf__train_function\u001b[0;34m(iterator)\u001b[0m\n\u001b[1;32m     13\u001b[0m \u001b[38;5;28;01mtry\u001b[39;00m:\n\u001b[1;32m     14\u001b[0m     do_return \u001b[38;5;241m=\u001b[39m \u001b[38;5;28;01mTrue\u001b[39;00m\n\u001b[0;32m---> 15\u001b[0m     retval_ \u001b[38;5;241m=\u001b[39m ag__\u001b[38;5;241m.\u001b[39mconverted_call(ag__\u001b[38;5;241m.\u001b[39mld(step_function), (ag__\u001b[38;5;241m.\u001b[39mld(\u001b[38;5;28mself\u001b[39m), ag__\u001b[38;5;241m.\u001b[39mld(iterator)), \u001b[38;5;28;01mNone\u001b[39;00m, fscope)\n\u001b[1;32m     16\u001b[0m \u001b[38;5;28;01mexcept\u001b[39;00m:\n\u001b[1;32m     17\u001b[0m     do_return \u001b[38;5;241m=\u001b[39m \u001b[38;5;28;01mFalse\u001b[39;00m\n",
      "\u001b[0;31mValueError\u001b[0m: in user code:\n\n    File \"/opt/anaconda3/envs/pc/lib/python3.10/site-packages/keras/engine/training.py\", line 1051, in train_function  *\n        return step_function(self, iterator)\n    File \"/opt/anaconda3/envs/pc/lib/python3.10/site-packages/keras/engine/training.py\", line 1040, in step_function  **\n        outputs = model.distribute_strategy.run(run_step, args=(data,))\n    File \"/opt/anaconda3/envs/pc/lib/python3.10/site-packages/keras/engine/training.py\", line 1030, in run_step  **\n        outputs = model.train_step(data)\n    File \"/opt/anaconda3/envs/pc/lib/python3.10/site-packages/keras/engine/training.py\", line 893, in train_step\n        self.optimizer.minimize(loss, self.trainable_variables, tape=tape)\n    File \"/opt/anaconda3/envs/pc/lib/python3.10/site-packages/keras/optimizers/optimizer_v2/optimizer_v2.py\", line 539, in minimize\n        return self.apply_gradients(grads_and_vars, name=name)\n    File \"/opt/anaconda3/envs/pc/lib/python3.10/site-packages/keras/optimizers/optimizer_v2/optimizer_v2.py\", line 640, in apply_gradients\n        grads_and_vars = optimizer_utils.filter_empty_gradients(grads_and_vars)\n    File \"/opt/anaconda3/envs/pc/lib/python3.10/site-packages/keras/optimizers/optimizer_v2/utils.py\", line 73, in filter_empty_gradients\n        raise ValueError(f\"No gradients provided for any variable: {variable}. \"\n\n    ValueError: No gradients provided for any variable: (['input_for_interpolate/tuning_param_0:0'],). Provided `grads_and_vars` is ((None, <tf.Variable 'input_for_interpolate/tuning_param_0:0' shape=(1, 1) dtype=float32>),).\n"
     ]
    }
   ],
   "source": [
    "model_interpolate_pf.fit(X_fit, Y_fit, epochs=10, batch_size=10000)"
   ]
  },
  {
   "cell_type": "code",
   "execution_count": 33,
   "metadata": {},
   "outputs": [
    {
     "data": {
      "image/png": "[encoded data removed]",
      "text/plain": [
       "<Figure size 640x480 with 1 Axes>"
      ]
     },
     "metadata": {},
     "output_type": "display_data"
    }
   ],
   "source": [
    "plt.plot(fit_vals, marker='o')\n",
    "plt.xlabel(\"Epochs\")\n",
    "plt.ylabel(r'$\\alpha_s$')\n",
    "plt.show()"
   ]
  },
  {
   "cell_type": "code",
   "execution_count": null,
   "metadata": {},
   "outputs": [],
   "source": []
  }
 ],
 "metadata": {
  "kernelspec": {
   "display_name": "Python 3 (ipykernel)",
   "language": "python",
   "name": "python3"
  },
  "language_info": {
   "codemirror_mode": {
    "name": "ipython",
    "version": 3
   },
   "file_extension": ".py",
   "mimetype": "text/x-python",
   "name": "python",
   "nbconvert_exporter": "python",
   "pygments_lexer": "ipython3",
   "version": "3.10.8"
  }
 },
 "nbformat": 4,
 "nbformat_minor": 4
}
