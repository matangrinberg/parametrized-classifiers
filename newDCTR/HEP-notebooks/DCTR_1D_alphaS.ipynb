{
 "cells": [
  {
   "cell_type": "markdown",
   "metadata": {
    "tags": []
   },
   "source": [
    "# Introduction"
   ]
  },
  {
   "cell_type": "markdown",
   "metadata": {},
   "source": [
    "This notebook applies the methods of parametrized classification to the Pythia electron-positron scattering dataset (https://zenodo.org/record/3518708). The data for each jet has 7 entries and takes the form $(p_T,\\eta,\\phi,\\text{pID},\\theta_1,\\theta_2,\\theta_3)$. These quantities are defined as follows:\n",
    "- $p_T$: tranverse momentum of the particle\n",
    "- $\\eta$: pseudorapidity (i.e. the angle of the particle relative to the beam axis)\n",
    "- $\\phi$: azimuthal angle (i.e. the angle in the plane transverse to the beam)\n",
    "- PID: Particle IDentification (for numbering scheme information see https://pdg.lbl.gov/2007/reviews/montecarlorpp.pdf)\n",
    "- $\\theta_1$: 𝚃𝚒𝚖𝚎𝚂𝚑𝚘𝚠𝚎𝚛:𝚊𝚕𝚙𝚑𝚊𝚂𝚟𝚊𝚕𝚞𝚎 $\\in [0.10, 0.18]$ (\"effective\" strong coupling constant $\\alpha_S$)\n",
    "- $\\theta_2$: 𝚂𝚝𝚛𝚒𝚗𝚐𝚉:𝚊𝙻𝚞𝚗𝚍 $\\in [0.50, 0.90]$ (Hadronization, determines how partons become hadrons, String model, $Z$)\n",
    "- $\\theta_3$: 𝚂𝚝𝚛𝚒𝚗𝚐𝙵𝚕𝚊𝚟:𝚙𝚛𝚘𝚋𝚂𝚝𝚘𝚄𝙳 $\\in [0.10, 0.30]$ (modeling parameters determining Strange behavior)\n",
    "\n",
    "These $\\theta_i$ values are Pythia parameters and were sampled uniformly according to the bounds shown above."
   ]
  },
  {
   "cell_type": "markdown",
   "metadata": {
    "tags": []
   },
   "source": [
    "## Imports"
   ]
  },
  {
   "cell_type": "code",
   "execution_count": 1,
   "metadata": {},
   "outputs": [],
   "source": [
    "import os\n",
    "import sys\n",
    "os.environ['KMP_DUPLICATE_LIB_OK']='True'\n",
    "sys.path.append('/Users/matangrinberg/Library/CloudStorage/GoogleDrive-matan.grinberg@gmail.com/My Drive/(21-24) University of California, Berkeley/ML HEP/parametrized-classifiers/data')"
   ]
  },
  {
   "cell_type": "code",
   "execution_count": 2,
   "metadata": {},
   "outputs": [
    {
     "name": "stderr",
     "output_type": "stream",
     "text": [
      "2023-01-03 18:00:58.593613: I tensorflow/core/platform/cpu_feature_guard.cc:193] This TensorFlow binary is optimized with oneAPI Deep Neural Network Library (oneDNN) to use the following CPU instructions in performance-critical operations:  SSE4.1 SSE4.2\n",
      "To enable them in other operations, rebuild TensorFlow with the appropriate compiler flags.\n"
     ]
    }
   ],
   "source": [
    "# standard library imports\n",
    "from __future__ import absolute_import, division, print_function\n",
    "\n",
    "# standard numerical library imports\n",
    "import numpy as np\n",
    "import scipy as sp\n",
    "import tensorflow as tf\n",
    "import keras\n",
    "from keras.layers import Input, Flatten, Dense\n",
    "from keras.initializers import Constant\n",
    "from keras.backend import ones_like, zeros_like, concatenate\n",
    "\n",
    "# energyflow imports\n",
    "import energyflow as ef\n",
    "from energyflow.archs import PFN\n",
    "from energyflow.utils import data_split, remap_pids, to_categorical\n",
    "\n",
    "import matplotlib.pyplot as plt"
   ]
  },
  {
   "cell_type": "code",
   "execution_count": 3,
   "metadata": {},
   "outputs": [],
   "source": [
    "# Global plot settings\n",
    "# from matplotlib import rc\n",
    "# import matplotlib.font_manager\n",
    "# rc('font', family='serif')\n",
    "# rc('text', usetex=True)\n",
    "# rc('font', size=22) \n",
    "# rc('xtick', labelsize=15) \n",
    "# rc('ytick', labelsize=15) \n",
    "# rc('legend', fontsize=15)"
   ]
  },
  {
   "cell_type": "markdown",
   "metadata": {
    "tags": []
   },
   "source": [
    "# Load Data"
   ]
  },
  {
   "cell_type": "markdown",
   "metadata": {
    "tags": []
   },
   "source": [
    "## Utilities"
   ]
  },
  {
   "cell_type": "code",
   "execution_count": 4,
   "metadata": {},
   "outputs": [],
   "source": [
    "# normalize pT and center (y, phi)\n",
    "def normalize(x):\n",
    "    mask = x[:,0] > 0\n",
    "    yphi_avg = np.average(x[mask,1:3], weights=x[mask,0], axis=0)\n",
    "    x[mask,1:3] -= yphi_avg\n",
    "    x[mask,0] /= x[:,0].sum()\n",
    "    \n",
    "def preprocess_data(X):\n",
    "    for x in X:\n",
    "        normalize(x)\n",
    "    \n",
    "    # Remap PIDs to unique values in range [0,1], error_on_unknown flag for PIDs not in dictionary\n",
    "    remap_pids(X, pid_i=3, error_on_unknown=False)\n",
    "    return X"
   ]
  },
  {
   "cell_type": "markdown",
   "metadata": {
    "tags": []
   },
   "source": [
    "## Process data"
   ]
  },
  {
   "cell_type": "code",
   "execution_count": 5,
   "metadata": {},
   "outputs": [],
   "source": [
    "# Path to downloaded data from Zenodo\n",
    "data_dir = '/Users/matangrinberg/Library/CloudStorage/GoogleDrive-matan.grinberg@gmail.com/My Drive/(21-24) University of California, Berkeley/ML HEP/parametrized-classifiers/data/'"
   ]
  },
  {
   "cell_type": "code",
   "execution_count": 6,
   "metadata": {},
   "outputs": [],
   "source": [
    "dataset = np.load(data_dir + '1D_alphaS_train.npz')"
   ]
  },
  {
   "cell_type": "code",
   "execution_count": 7,
   "metadata": {},
   "outputs": [],
   "source": [
    "X = preprocess_data(dataset['X'])\n",
    "Y = to_categorical(dataset['Y'], num_classes=2)"
   ]
  },
  {
   "cell_type": "code",
   "execution_count": 8,
   "metadata": {},
   "outputs": [],
   "source": [
    "X_train, X_val, Y_train, Y_val = data_split(X, Y, test=0.1)"
   ]
  },
  {
   "cell_type": "code",
   "execution_count": 9,
   "metadata": {},
   "outputs": [
    {
     "name": "stdout",
     "output_type": "stream",
     "text": [
      "(1620000, 51, 7)\n",
      "(1620000, 2)\n",
      "(180000, 51, 7)\n",
      "(180000, 2)\n"
     ]
    }
   ],
   "source": [
    "print(X_train.shape)\n",
    "print(Y_train.shape)\n",
    "print(X_val.shape)\n",
    "print(Y_val.shape)"
   ]
  },
  {
   "cell_type": "code",
   "execution_count": 10,
   "metadata": {},
   "outputs": [
    {
     "name": "stdout",
     "output_type": "stream",
     "text": [
      "[ 0.00925327 -0.72272023 -0.27185095  0.1         0.16741499  0.68000001\n",
      "  0.21699999]\n"
     ]
    }
   ],
   "source": [
    "print(X_train[0, 0])"
   ]
  },
  {
   "cell_type": "markdown",
   "metadata": {
    "tags": []
   },
   "source": [
    "# Building/Training Interpolated Model"
   ]
  },
  {
   "cell_type": "code",
   "execution_count": 11,
   "metadata": {
    "scrolled": true
   },
   "outputs": [
    {
     "name": "stderr",
     "output_type": "stream",
     "text": [
      "2023-01-03 18:03:09.317489: I tensorflow/core/platform/cpu_feature_guard.cc:193] This TensorFlow binary is optimized with oneAPI Deep Neural Network Library (oneDNN) to use the following CPU instructions in performance-critical operations:  SSE4.1 SSE4.2\n",
      "To enable them in other operations, rebuild TensorFlow with the appropriate compiler flags.\n"
     ]
    }
   ],
   "source": [
    "# network architecture parameters\n",
    "Phi_sizes = (100,100,128)\n",
    "F_sizes = (100,100,100)\n",
    "\n",
    "model_interpolate = PFN(input_dim=7, Phi_sizes=Phi_sizes, F_sizes=F_sizes, summary=False)"
   ]
  },
  {
   "cell_type": "code",
   "execution_count": 12,
   "metadata": {},
   "outputs": [],
   "source": [
    "save_label = 'DCTR_ee_dijets_1D_alphaS_old'\n",
    "checkpoint = keras.callbacks.ModelCheckpoint('./saved_models/' + save_label + '.h5', monitor='val_loss', verbose=2, save_best_only=True, mode='min')\n",
    "CSVLogger = keras.callbacks.CSVLogger('./logs/' + save_label + '_loss.csv', append=False)\n",
    "EarlyStopping = keras.callbacks.EarlyStopping(monitor='val_loss', min_delta=0, patience=10, verbose=1, restore_best_weights=True)\n",
    "callbacks = [checkpoint, CSVLogger, EarlyStopping]\n",
    "\n",
    "# epochs = 10\n",
    "epochs = 100\n",
    "batch_size = 1000"
   ]
  },
  {
   "cell_type": "code",
   "execution_count": 19,
   "metadata": {
    "scrolled": true,
    "tags": []
   },
   "outputs": [
    {
     "name": "stdout",
     "output_type": "stream",
     "text": [
      "Epoch 1/100\n",
      "1620/1620 [==============================] - ETA: 0s - loss: 0.6928 - acc: 0.5374\n",
      "Epoch 1: val_loss improved from inf to 0.68116, saving model to ./saved_models/DCTR_ee_dijets_1D_alphaS.h5\n",
      "1620/1620 [==============================] - 85s 52ms/step - loss: 0.6928 - acc: 0.5374 - val_loss: 0.6812 - val_acc: 0.5565\n",
      "Epoch 2/100\n",
      "1619/1620 [============================>.] - ETA: 0s - loss: 0.6815 - acc: 0.5559\n",
      "Epoch 2: val_loss did not improve from 0.68116\n",
      "1620/1620 [==============================] - 81s 50ms/step - loss: 0.6815 - acc: 0.5559 - val_loss: 0.6818 - val_acc: 0.5568\n",
      "Epoch 3/100\n",
      "1619/1620 [============================>.] - ETA: 0s - loss: 0.6805 - acc: 0.5582\n",
      "Epoch 3: val_loss improved from 0.68116 to 0.67924, saving model to ./saved_models/DCTR_ee_dijets_1D_alphaS.h5\n",
      "1620/1620 [==============================] - 83s 51ms/step - loss: 0.6805 - acc: 0.5582 - val_loss: 0.6792 - val_acc: 0.5619\n",
      "Epoch 4/100\n",
      "1620/1620 [==============================] - ETA: 0s - loss: 0.6800 - acc: 0.5590\n",
      "Epoch 4: val_loss improved from 0.67924 to 0.67868, saving model to ./saved_models/DCTR_ee_dijets_1D_alphaS.h5\n",
      "1620/1620 [==============================] - 83s 51ms/step - loss: 0.6800 - acc: 0.5590 - val_loss: 0.6787 - val_acc: 0.5620\n",
      "Epoch 5/100\n",
      "1619/1620 [============================>.] - ETA: 0s - loss: 0.6796 - acc: 0.5606\n",
      "Epoch 5: val_loss improved from 0.67868 to 0.67848, saving model to ./saved_models/DCTR_ee_dijets_1D_alphaS.h5\n",
      "1620/1620 [==============================] - 85s 53ms/step - loss: 0.6796 - acc: 0.5606 - val_loss: 0.6785 - val_acc: 0.5640\n",
      "Epoch 6/100\n",
      "1619/1620 [============================>.] - ETA: 0s - loss: 0.6789 - acc: 0.5616\n",
      "Epoch 6: val_loss improved from 0.67848 to 0.67816, saving model to ./saved_models/DCTR_ee_dijets_1D_alphaS.h5\n",
      "1620/1620 [==============================] - 83s 51ms/step - loss: 0.6789 - acc: 0.5616 - val_loss: 0.6782 - val_acc: 0.5629\n",
      "Epoch 7/100\n",
      "1619/1620 [============================>.] - ETA: 0s - loss: 0.6786 - acc: 0.5623\n",
      "Epoch 7: val_loss did not improve from 0.67816\n",
      "1620/1620 [==============================] - 84s 52ms/step - loss: 0.6786 - acc: 0.5623 - val_loss: 0.6793 - val_acc: 0.5628\n",
      "Epoch 8/100\n",
      "1620/1620 [==============================] - ETA: 0s - loss: 0.6783 - acc: 0.5624\n",
      "Epoch 8: val_loss did not improve from 0.67816\n",
      "1620/1620 [==============================] - 81s 50ms/step - loss: 0.6783 - acc: 0.5624 - val_loss: 0.6782 - val_acc: 0.5633\n",
      "Epoch 9/100\n",
      "1619/1620 [============================>.] - ETA: 0s - loss: 0.6781 - acc: 0.5632\n",
      "Epoch 9: val_loss improved from 0.67816 to 0.67783, saving model to ./saved_models/DCTR_ee_dijets_1D_alphaS.h5\n",
      "1620/1620 [==============================] - 82s 50ms/step - loss: 0.6781 - acc: 0.5632 - val_loss: 0.6778 - val_acc: 0.5646\n",
      "Epoch 10/100\n",
      "1620/1620 [==============================] - ETA: 0s - loss: 0.6778 - acc: 0.5633\n",
      "Epoch 10: val_loss improved from 0.67783 to 0.67756, saving model to ./saved_models/DCTR_ee_dijets_1D_alphaS.h5\n",
      "1620/1620 [==============================] - 83s 51ms/step - loss: 0.6778 - acc: 0.5633 - val_loss: 0.6776 - val_acc: 0.5646\n",
      "Epoch 11/100\n",
      "1619/1620 [============================>.] - ETA: 0s - loss: 0.6777 - acc: 0.5639\n",
      "Epoch 11: val_loss did not improve from 0.67756\n",
      "1620/1620 [==============================] - 82s 51ms/step - loss: 0.6777 - acc: 0.5639 - val_loss: 0.6785 - val_acc: 0.5608\n",
      "Epoch 12/100\n",
      "1620/1620 [==============================] - ETA: 0s - loss: 0.6775 - acc: 0.5645\n",
      "Epoch 12: val_loss did not improve from 0.67756\n",
      "1620/1620 [==============================] - 82s 51ms/step - loss: 0.6775 - acc: 0.5645 - val_loss: 0.6776 - val_acc: 0.5644\n",
      "Epoch 13/100\n",
      "1620/1620 [==============================] - ETA: 0s - loss: 0.6773 - acc: 0.5646\n",
      "Epoch 13: val_loss did not improve from 0.67756\n",
      "1620/1620 [==============================] - 83s 51ms/step - loss: 0.6773 - acc: 0.5646 - val_loss: 0.6778 - val_acc: 0.5640\n",
      "Epoch 14/100\n",
      "1619/1620 [============================>.] - ETA: 0s - loss: 0.6772 - acc: 0.5647\n",
      "Epoch 14: val_loss did not improve from 0.67756\n",
      "1620/1620 [==============================] - 82s 51ms/step - loss: 0.6772 - acc: 0.5647 - val_loss: 0.6777 - val_acc: 0.5650\n",
      "Epoch 15/100\n",
      "1619/1620 [============================>.] - ETA: 0s - loss: 0.6770 - acc: 0.5652\n",
      "Epoch 15: val_loss improved from 0.67756 to 0.67747, saving model to ./saved_models/DCTR_ee_dijets_1D_alphaS.h5\n",
      "1620/1620 [==============================] - 82s 51ms/step - loss: 0.6770 - acc: 0.5652 - val_loss: 0.6775 - val_acc: 0.5658\n",
      "Epoch 16/100\n",
      "1619/1620 [============================>.] - ETA: 0s - loss: 0.6770 - acc: 0.5651\n",
      "Epoch 16: val_loss improved from 0.67747 to 0.67677, saving model to ./saved_models/DCTR_ee_dijets_1D_alphaS.h5\n",
      "1620/1620 [==============================] - 83s 51ms/step - loss: 0.6770 - acc: 0.5651 - val_loss: 0.6768 - val_acc: 0.5669\n",
      "Epoch 17/100\n",
      "1620/1620 [==============================] - ETA: 0s - loss: 0.6768 - acc: 0.5658\n",
      "Epoch 17: val_loss did not improve from 0.67677\n",
      "1620/1620 [==============================] - 82s 51ms/step - loss: 0.6768 - acc: 0.5658 - val_loss: 0.6778 - val_acc: 0.5641\n",
      "Epoch 18/100\n",
      "1619/1620 [============================>.] - ETA: 0s - loss: 0.6768 - acc: 0.5661\n",
      "Epoch 18: val_loss did not improve from 0.67677\n",
      "1620/1620 [==============================] - 82s 51ms/step - loss: 0.6768 - acc: 0.5661 - val_loss: 0.6768 - val_acc: 0.5657\n",
      "Epoch 19/100\n",
      "1619/1620 [============================>.] - ETA: 0s - loss: 0.6767 - acc: 0.5657\n",
      "Epoch 19: val_loss did not improve from 0.67677\n",
      "1620/1620 [==============================] - 82s 51ms/step - loss: 0.6767 - acc: 0.5657 - val_loss: 0.6772 - val_acc: 0.5658\n",
      "Epoch 20/100\n",
      "1619/1620 [============================>.] - ETA: 0s - loss: 0.6766 - acc: 0.5661\n",
      "Epoch 20: val_loss did not improve from 0.67677\n",
      "1620/1620 [==============================] - 85s 52ms/step - loss: 0.6766 - acc: 0.5661 - val_loss: 0.6769 - val_acc: 0.5667\n",
      "Epoch 21/100\n",
      "1619/1620 [============================>.] - ETA: 0s - loss: 0.6766 - acc: 0.5666\n",
      "Epoch 21: val_loss did not improve from 0.67677\n",
      "1620/1620 [==============================] - 82s 51ms/step - loss: 0.6765 - acc: 0.5666 - val_loss: 0.6770 - val_acc: 0.5655\n",
      "Epoch 22/100\n",
      "1620/1620 [==============================] - ETA: 0s - loss: 0.6764 - acc: 0.5665\n",
      "Epoch 22: val_loss improved from 0.67677 to 0.67668, saving model to ./saved_models/DCTR_ee_dijets_1D_alphaS.h5\n",
      "1620/1620 [==============================] - 82s 50ms/step - loss: 0.6764 - acc: 0.5665 - val_loss: 0.6767 - val_acc: 0.5663\n",
      "Epoch 23/100\n",
      "1620/1620 [==============================] - ETA: 0s - loss: 0.6763 - acc: 0.5665\n",
      "Epoch 23: val_loss did not improve from 0.67668\n",
      "1620/1620 [==============================] - 82s 51ms/step - loss: 0.6763 - acc: 0.5665 - val_loss: 0.6771 - val_acc: 0.5662\n",
      "Epoch 24/100\n",
      "1619/1620 [============================>.] - ETA: 0s - loss: 0.6763 - acc: 0.5666\n",
      "Epoch 24: val_loss did not improve from 0.67668\n",
      "1620/1620 [==============================] - 81s 50ms/step - loss: 0.6763 - acc: 0.5666 - val_loss: 0.6769 - val_acc: 0.5661\n",
      "Epoch 25/100\n",
      "1619/1620 [============================>.] - ETA: 0s - loss: 0.6763 - acc: 0.5668\n",
      "Epoch 25: val_loss did not improve from 0.67668\n",
      "1620/1620 [==============================] - 82s 51ms/step - loss: 0.6763 - acc: 0.5669 - val_loss: 0.6772 - val_acc: 0.5657\n",
      "Epoch 26/100\n",
      "1619/1620 [============================>.] - ETA: 0s - loss: 0.6762 - acc: 0.5667\n",
      "Epoch 26: val_loss did not improve from 0.67668\n",
      "1620/1620 [==============================] - 83s 51ms/step - loss: 0.6762 - acc: 0.5667 - val_loss: 0.6776 - val_acc: 0.5642\n",
      "Epoch 27/100\n",
      "1620/1620 [==============================] - ETA: 0s - loss: 0.6760 - acc: 0.5676\n",
      "Epoch 27: val_loss did not improve from 0.67668\n",
      "1620/1620 [==============================] - 82s 51ms/step - loss: 0.6760 - acc: 0.5676 - val_loss: 0.6771 - val_acc: 0.5657\n",
      "Epoch 28/100\n",
      "1619/1620 [============================>.] - ETA: 0s - loss: 0.6759 - acc: 0.5673\n",
      "Epoch 28: val_loss did not improve from 0.67668\n",
      "1620/1620 [==============================] - 82s 51ms/step - loss: 0.6759 - acc: 0.5673 - val_loss: 0.6770 - val_acc: 0.5660\n",
      "Epoch 29/100\n",
      "1619/1620 [============================>.] - ETA: 0s - loss: 0.6759 - acc: 0.5676\n",
      "Epoch 29: val_loss did not improve from 0.67668\n",
      "1620/1620 [==============================] - 81s 50ms/step - loss: 0.6759 - acc: 0.5676 - val_loss: 0.6771 - val_acc: 0.5653\n",
      "Epoch 30/100\n",
      "1620/1620 [==============================] - ETA: 0s - loss: 0.6758 - acc: 0.5675\n",
      "Epoch 30: val_loss did not improve from 0.67668\n",
      "1620/1620 [==============================] - 82s 50ms/step - loss: 0.6758 - acc: 0.5675 - val_loss: 0.6771 - val_acc: 0.5649\n",
      "Epoch 31/100\n",
      "1619/1620 [============================>.] - ETA: 0s - loss: 0.6757 - acc: 0.5676\n",
      "Epoch 31: val_loss did not improve from 0.67668\n",
      "1620/1620 [==============================] - 82s 51ms/step - loss: 0.6757 - acc: 0.5676 - val_loss: 0.6770 - val_acc: 0.5656\n",
      "Epoch 32/100\n",
      "1620/1620 [==============================] - ETA: 0s - loss: 0.6757 - acc: 0.5677\n",
      "Epoch 32: val_loss did not improve from 0.67668\n",
      "Restoring model weights from the end of the best epoch: 22.\n",
      "1620/1620 [==============================] - 81s 50ms/step - loss: 0.6757 - acc: 0.5677 - val_loss: 0.6772 - val_acc: 0.5658\n",
      "Epoch 32: early stopping\n"
     ]
    }
   ],
   "source": [
    "history = model_interpolate.fit(X_train, Y_train,\n",
    "                    epochs = epochs,\n",
    "                    batch_size = batch_size,\n",
    "                    validation_data = (X_val, Y_val),\n",
    "                    verbose = 1, \n",
    "                    callbacks = callbacks)"
   ]
  },
  {
   "cell_type": "markdown",
   "metadata": {
    "tags": []
   },
   "source": [
    "## Plot History"
   ]
  },
  {
   "cell_type": "code",
   "execution_count": 20,
   "metadata": {},
   "outputs": [
    {
     "data": {
      "image/png": "[encoded data removed]",
      "text/plain": [
       "<Figure size 640x480 with 1 Axes>"
      ]
     },
     "metadata": {},
     "output_type": "display_data"
    }
   ],
   "source": [
    "plt.plot(history.history['loss'],     label = 'loss')\n",
    "plt.plot(history.history['val_loss'], label = 'val loss')\n",
    "plt.legend(loc=0)\n",
    "plt.ylabel('loss')\n",
    "plt.xlabel('Epochs')\n",
    "plt.show()"
   ]
  },
  {
   "cell_type": "markdown",
   "metadata": {
    "tags": []
   },
   "source": [
    "# Load Interpolated Model"
   ]
  },
  {
   "cell_type": "code",
   "execution_count": 13,
   "metadata": {},
   "outputs": [],
   "source": [
    "# load model from saved file\n",
    "model_interpolate.model.load_weights('./saved_models/DCTR_ee_dijets_1D_alphaS_old.h5')"
   ]
  },
  {
   "cell_type": "markdown",
   "metadata": {
    "tags": []
   },
   "source": [
    "## Load Datasets"
   ]
  },
  {
   "cell_type": "code",
   "execution_count": 17,
   "metadata": {},
   "outputs": [],
   "source": [
    "test_dataset_0 = np.load(data_dir+'test1D_default.npz')\n",
    "test_dataset_1 = np.load(data_dir+'test1D_alphaS.npz')"
   ]
  },
  {
   "cell_type": "markdown",
   "metadata": {
    "jp-MarkdownHeadingCollapsed": true,
    "tags": []
   },
   "source": [
    "## Get predictions"
   ]
  },
  {
   "cell_type": "code",
   "execution_count": null,
   "metadata": {},
   "outputs": [],
   "source": [
    "# Load test datasets\n",
    "X0_test = preprocess_data(test_dataset_0['jet'])\n",
    "X1_test = preprocess_data(test_dataset_1['jet'])"
   ]
  },
  {
   "cell_type": "code",
   "execution_count": 20,
   "metadata": {},
   "outputs": [],
   "source": [
    "# Get predicted probabilities\n",
    "preds_0 = dctr.predict(X0_test, batch_size=1000)\n",
    "preds_1 = dctr.predict(X1_test, batch_size=1000)"
   ]
  },
  {
   "cell_type": "markdown",
   "metadata": {
    "jp-MarkdownHeadingCollapsed": true,
    "tags": []
   },
   "source": [
    "## Get weights"
   ]
  },
  {
   "cell_type": "code",
   "execution_count": 21,
   "metadata": {},
   "outputs": [],
   "source": [
    "weights_0 = preds_0[:,0]/preds_0[:,1]\n",
    "weights_1 = preds_1[:,0]/preds_1[:,1]"
   ]
  },
  {
   "cell_type": "code",
   "execution_count": 25,
   "metadata": {},
   "outputs": [],
   "source": [
    "# Define default plot styles\n",
    "plot_style_0 = {'histtype':'step', 'color':'black', 'linewidth':2, 'linestyle':'--', 'density':True}\n",
    "plot_style_1 = {'alpha':0.5, 'density':True}"
   ]
  },
  {
   "cell_type": "markdown",
   "metadata": {
    "tags": []
   },
   "source": [
    "# Fitting"
   ]
  },
  {
   "cell_type": "markdown",
   "metadata": {},
   "source": [
    "## Parameter-Finder Model"
   ]
  },
  {
   "cell_type": "code",
   "execution_count": 14,
   "metadata": {},
   "outputs": [],
   "source": [
    "class AddParams2Input(keras.layers.Layer):\n",
    "    def __init__(self, n_params, params, trainable_params):\n",
    "        super(AddParams2Input, self).__init__()\n",
    "        # Definitions\n",
    "        self.n_params = n_params\n",
    "        self.params = params\n",
    "        self.trainable_params = trainable_params\n",
    "\n",
    "    def build(self, input_shape):\n",
    "        # Convert input MC parameters to weights and make then trainable or non-trainable\n",
    "        for i in range(self.n_params):\n",
    "            self.params[i] = self.add_weight(name='param_{}'.format(i), shape=(1, 1), initializer=keras.initializers.Constant(self.params[i]), trainable=self.trainable_params[i])\n",
    "            \n",
    "        self.params = keras.backend.tf.concat(self.params, axis = -1)\n",
    "        super(AddParams2Input, self).build(input_shape)\n",
    "    \n",
    "    def call(self, input):\n",
    "        # Add MC params to each input particle (but not to the padded rows)\n",
    "        # concat = tf.transpose(keras.backend.tf.where(input[..., 0] > 0, tf.transpose(self.params * keras.backend.ones_like(input[..., 0:self.n_params])),\n",
    "        #                                                                                     tf.transpose(keras.backend.zeros_like(input[..., 0:self.n_params]))))\n",
    "        \n",
    "        # concat = keras.backend.tf.where(tf.transpose(tf.reshape(tf.tile(input[..., 0] > 0, [1,self.n_params]), (1, self.n_params, 51)), perm=[0,2,1]), \n",
    "        #                        self.params * keras.backend.ones_like(input[..., 0:self.n_params]), \n",
    "        #                        keras.backend.zeros_like(input[..., 0:self.n_params]))\n",
    "        # res = keras.backend.concatenate([tf.convert_to_tensor(input, dtype='float32'), tf.cast(concat, dtype='float32')], -1)\n",
    "        print(tf.transpose([input[..., 0] > 0]))\n",
    "        concat = keras.backend.tf.where(tf.transpose([input[..., 0] > 0]), \n",
    "                        self.params * tf.ones((input.shape[0], 51, self.n_params)), tf.zeros((input.shape[0], 51, self.n_params)))\n",
    "        \n",
    "        return concatenate([input, concat], -1)\n",
    "    \n",
    "    def compute_output_shape(self, input_shape):\n",
    "        return (input_shape[0], input_shape[1]+self.n_params)"
   ]
  },
  {
   "cell_type": "code",
   "execution_count": 41,
   "metadata": {},
   "outputs": [
    {
     "name": "stdout",
     "output_type": "stream",
     "text": [
      "(10, 51, 4)\n"
     ]
    }
   ],
   "source": [
    "inp = X_fit[0:10]\n",
    "print(inp.shape)\n",
    "a = tf.where(tf.transpose([inp[..., 0] > 0], perm=[1,2,0]), [.1, 3, .5] * tf.ones((1,51,3)), tf.zeros((1, 51, 3)))\n",
    "b = tf.concat([inp, a], -1)"
   ]
  },
  {
   "cell_type": "code",
   "execution_count": 42,
   "metadata": {},
   "outputs": [],
   "source": [
    "non_param_input = keras.layers.Input((None, 4))\n",
    "add_params_layer = AddParams2Input(3, [0.1365, 0.68, 0.217], [True, False, False])\n",
    "# time_dist     = keras.layers.TimeDistributed(add_params_layer, name='tdist')(non_param_input)\n",
    "# output = model_interpolate.model(time_dist)\n",
    "# model_TEST = keras.Model(inputs = non_param_input, outputs = output, name='pf_output')\n",
    "# optimizer = keras.optimizers.Adam(learning_rate=1e-4)\n",
    "# loss = keras.losses.CategoricalCrossentropy()\n",
    "\n",
    "# Compile with loss function\n",
    "# model_TEST.compile(optimizer=optimizer, loss=loss)"
   ]
  },
  {
   "cell_type": "code",
   "execution_count": 297,
   "metadata": {},
   "outputs": [],
   "source": [
    "inp = X_fit[0:1]\n",
    "add_params_layer(inp);"
   ]
  },
  {
   "cell_type": "code",
   "execution_count": 378,
   "metadata": {},
   "outputs": [
    {
     "name": "stdout",
     "output_type": "stream",
     "text": [
      "[<tf.Variable 'tdist/param_0:0' shape=(1, 1) dtype=float32, numpy=array([[0.1365]], dtype=float32)>]\n"
     ]
    },
    {
     "data": {
      "image/png": "[encoded data removed]",
      "text/plain": [
       "<IPython.core.display.Image object>"
      ]
     },
     "execution_count": 378,
     "metadata": {},
     "output_type": "execute_result"
    }
   ],
   "source": [
    "print(model_TEST.trainable_weights)\n",
    "keras.utils.plot_model(model_TEST, \"my_first_model_with_shape_info.png\", show_shapes=True)"
   ]
  },
  {
   "cell_type": "code",
   "execution_count": 15,
   "metadata": {},
   "outputs": [],
   "source": [
    "def model_parameter_finder(model_interpolate, X_dim, n_params, default_params, trainable_params):\n",
    "    \"\"\" \n",
    "    Get a model that trains on the input parameters\n",
    "    \n",
    "    Arguments:\n",
    "    - model_interpolate : a PFN model that has been trained to continuously interpolate over the input parameter dimensions\n",
    "    - X_dim : (int) - the dimension of the input expected by DCTR_model\n",
    "    - n_params : (int) - the number of n_params that are in X_dim\n",
    "    - default_params : (list of floats) - default values for each of the parameters\n",
    "    - trainable_params : (list of booleans) - True for parameters that you want to fit, false for parameters that should be fixed at default value\n",
    "\n",
    "    Returns:\n",
    "    - model_parameter_finder: a compiled model that gradient descends only on the trainable parameters\n",
    "    \"\"\"\n",
    "    \n",
    "    # Do sanity checks on inputs\n",
    "    assert X_dim >=n_params, \"X_dim must be larger than n_params. X_dim includes the dimensionality of the 4-vector + number of parameters\"\n",
    "    assert n_params == len(default_params), \"Dimension mismatch between n_params and number of default parameters given. len(default_params) must equal n_params\"\n",
    "    assert n_params == len(trainable_params), \"Dimension mismatch between n_params and trainable_params. len(trainable_params) must equal n_params.\"\n",
    "    assert np.any(trainable_params), \"All parameters are set to non-trainable.\"\n",
    "    \n",
    "    # Convert input parameters to weights and make then trainable or non-trainable\n",
    "    p_models = []\n",
    "    for i in range(n_params):\n",
    "        p_models.append(Dense(1, use_bias=False, kernel_initializer=Constant(default_params[i]), trainable=trainable_params[i], name='tuning_param_{}'.format(i)))\n",
    "\n",
    "    parameter_inputs = keras.Input(shape=(None, 4), name='mp_input')\n",
    "    # parameter_models =  keras.layers.concatenate([p_models[0](parameter_inputs), p_models[1](parameter_inputs), p_models[2](parameter_inputs)])\n",
    "    # model_parameters = keras.Model(inputs = parameter_inputs, outputs = parameter_models)\n",
    "    ones = tf.ones_like(parameter_inputs[:,:,0:1])\n",
    "    full_input =  keras.layers.concatenate([parameter_inputs, p_models[0](ones), p_models[1](ones), p_models[2](ones)])\n",
    "    model_inputs = keras.Model(inputs = parameter_inputs, outputs = full_input)\n",
    "\n",
    "    # Set all weights in interpolation_model to non-trainable\n",
    "    for l in model_interpolate.layers: \n",
    "        l.trainable = False\n",
    "\n",
    "    # Define input to DCTR_fit_model\n",
    "    raw_inputs = keras.Input(shape=(None, X_dim - n_params), name='pf_input')\n",
    "    # inputs = keras.layers.concatenate([raw_inputs, model_parameters(raw_inputs[:,:,0:1])])\n",
    "    inputs = model_inputs(raw_inputs)\n",
    "    output = model_interpolate.model(inputs)\n",
    "\n",
    "    # Define full model\n",
    "    model_parameter_finder = keras.Model(inputs = raw_inputs, outputs = output, name='pf_output')\n",
    "    optimizer = keras.optimizers.Adam(learning_rate=1e-4)\n",
    "    loss = keras.losses.CategoricalCrossentropy()\n",
    "\n",
    "    # Compile with loss function\n",
    "    model_parameter_finder.compile(optimizer=optimizer, loss=loss)\n",
    "    \n",
    "    return model_parameter_finder"
   ]
  },
  {
   "cell_type": "code",
   "execution_count": 16,
   "metadata": {},
   "outputs": [],
   "source": [
    "# def model_parameter_finder(model_interpolate, X_dim, n_params, default_params, trainable_params):\n",
    "#     \"\"\" \n",
    "#     Get a model that trains on the input parameters\n",
    "    \n",
    "#     Arguments:\n",
    "#     - model_interpolate : a PFN model that has been trained to continuously interpolate over the input parameter dimensions\n",
    "#     - X_dim : (int) - the dimension of the input expected by DCTR_model\n",
    "#     - n_params : (int) - the number of n_params that are in X_dim\n",
    "#     - default_params : (list of floats) - default values for each of the parameters\n",
    "#     - trainable_params : (list of booleans) - True for parameters that you want to fit, false for parameters that should be fixed at default value\n",
    "\n",
    "#     Returns:\n",
    "#     - model_parameter_finder: a compiled model that gradient descends only on the trainable parameters\n",
    "#     \"\"\"\n",
    "    \n",
    "#     # Do sanity checks on inputs\n",
    "#     assert X_dim >=n_params, \"X_dim must be larger than n_params. X_dim includes the dimensionality of the 4-vector + number of parameters\"\n",
    "#     assert n_params == len(default_params), \"Dimension mismatch between n_params and number of default parameters given. len(default_params) must equal n_params\"\n",
    "#     assert n_params == len(trainable_params), \"Dimension mismatch between n_params and trainable_params. len(trainable_params) must equal n_params.\"\n",
    "#     assert np.any(trainable_params), \"All parameters are set to non-trainable.\"\n",
    "    \n",
    "#     # Convert input parameters to weights and make then trainable or non-trainable\n",
    "#     p_models = []\n",
    "#     for i in range(n_params):\n",
    "#         p_models.append(Dense(1, use_bias=False, kernel_initializer=Constant(default_params[i]), trainable=trainable_params[i], name='tuning_param_{}'.format(i)))\n",
    "\n",
    "#     parameter_inputs = keras.Input(shape=(None, 1), name='mp_input')\n",
    "#     parameter_models =  keras.backend.concatenate([p_models[0](parameter_inputs), p_models[1](parameter_inputs), p_models[2](parameter_inputs)])\n",
    "#     model_parameters = keras.Model(inputs = parameter_inputs, outputs = parameter_models)\n",
    "\n",
    "#     # Set all weights in interpolation_model to non-trainable\n",
    "#     for l in model_interpolate.layers: \n",
    "#         l.trainable = False\n",
    "\n",
    "#     # Define input to DCTR_fit_model\n",
    "#     raw_inputs = keras.Input(shape=(None, X_dim - n_params), name='pf_input')\n",
    "#     inputs = keras.backend.concatenate([raw_inputs, model_parameters(tf.ones_like(raw_inputs)[:,:,0:1])])\n",
    "#     output = model_interpolate.model(inputs)\n",
    "\n",
    "#     # Define full model\n",
    "#     model_parameter_finder = keras.Model(inputs = raw_inputs, outputs = output, name='pf_output')\n",
    "#     optimizer = keras.optimizers.Adam(learning_rate=1e-4)\n",
    "#     loss = keras.losses.CategoricalCrossentropy()\n",
    "\n",
    "#     # Compile with loss function\n",
    "#     model_parameter_finder.compile(optimizer=optimizer, loss=loss)\n",
    "    \n",
    "#     return model_parameter_finder"
   ]
  },
  {
   "cell_type": "code",
   "execution_count": 17,
   "metadata": {},
   "outputs": [],
   "source": [
    "# def set_params(model_parameter_finder, params, param_layer=3):\n",
    "#     alphaS, aLund, StoUD = params\n",
    "#     weights = np.array([np.array([[alphaS]], dtype=np.float32), np.array([[aLund]], dtype=np.float32), np.array([[StoUD]], dtype=np.float32)])\n",
    "#     # weights = np.array([[[alphaS]],[[aLund]],[[StoUD]]], dtype=np.float32)\n",
    "#     model_parameter_finder.layers[param_layer].set_weights(weights)\n",
    "#     print(model_parameter_finder.layers[param_layer].get_weights())\n",
    "    \n",
    "def set_params(model_parameter_finder, params, param_layer=1):\n",
    "    alphaS, aLund, StoUD = params\n",
    "    weights = [np.array([[alphaS]], dtype=np.float32), np.array([[aLund]], dtype=np.float32), np.array([[StoUD]], dtype=np.float32)]\n",
    "    # weights = np.array([[[alphaS]],[[aLund]],[[StoUD]]], dtype=np.float32)\n",
    "    # for i in range(3):\n",
    "    #     model_parameter_finder.layers[param_layer + i].set_weights(np.array([weights[i]]))\n",
    "    model_parameter_finder.layers[param_layer].set_weights(weights)\n",
    "    # print(model_parameter_finder.layers[param_layer].get_weights())\n",
    "    \n",
    "def get_loss(X, Y, model_parameter_finder, params, batch_size=1000, param_layer=1):\n",
    "    set_params(model_parameter_finder, params, param_layer)\n",
    "    return model_parameter_finder.evaluate(x=X, y=Y, batch_size=batch_size)"
   ]
  },
  {
   "cell_type": "code",
   "execution_count": 18,
   "metadata": {},
   "outputs": [],
   "source": [
    "model_pf = model_parameter_finder(model_interpolate, X_dim =7, n_params = 3, \n",
    "                                    default_params   = [0.1365, 0.68, 0.217], # default params for [alpha_s, aLund, StoUD]\n",
    "                                    trainable_params = [True, False, False]) # Only train alpha_s"
   ]
  },
  {
   "cell_type": "code",
   "execution_count": 19,
   "metadata": {},
   "outputs": [
    {
     "name": "stdout",
     "output_type": "stream",
     "text": [
      "Model: \"pf_output\"\n",
      "_________________________________________________________________\n",
      " Layer (type)                Output Shape              Param #   \n",
      "=================================================================\n",
      " pf_input (InputLayer)       [(None, None, 4)]         0         \n",
      "                                                                 \n",
      " model_1 (Functional)        (None, None, 7)           3         \n",
      "                                                                 \n",
      " model (Functional)          (None, 2)                 57130     \n",
      "                                                                 \n",
      "=================================================================\n",
      "Total params: 57,133\n",
      "Trainable params: 1\n",
      "Non-trainable params: 57,132\n",
      "_________________________________________________________________\n"
     ]
    }
   ],
   "source": [
    "model_pf.summary()"
   ]
  },
  {
   "cell_type": "code",
   "execution_count": 20,
   "metadata": {},
   "outputs": [
    {
     "name": "stdout",
     "output_type": "stream",
     "text": [
      "[<tf.Variable 'tuning_param_0/kernel:0' shape=(1, 1) dtype=float32, numpy=array([[0.1365]], dtype=float32)>]\n"
     ]
    },
    {
     "data": {
      "image/png": "[encoded data removed]",
      "text/plain": [
       "<IPython.core.display.Image object>"
      ]
     },
     "execution_count": 20,
     "metadata": {},
     "output_type": "execute_result"
    }
   ],
   "source": [
    "print(model_pf.trainable_weights)\n",
    "keras.utils.plot_model(model_pf, \"my_first_model_with_shape_info.png\", show_shapes=True)"
   ]
  },
  {
   "cell_type": "markdown",
   "metadata": {},
   "source": [
    "## Load Data"
   ]
  },
  {
   "cell_type": "code",
   "execution_count": 21,
   "metadata": {},
   "outputs": [],
   "source": [
    "default_dataset = np.load(data_dir + 'test1D_default.npz')\n",
    "unknown_dataset = np.load(data_dir + 'test1D_alphaS.npz')"
   ]
  },
  {
   "cell_type": "code",
   "execution_count": 22,
   "metadata": {},
   "outputs": [],
   "source": [
    "X_default = preprocess_data(default_dataset['jet'][:,:,:4])\n",
    "X_unknown = preprocess_data(unknown_dataset['jet'][:,:,:4])\n",
    "Y_default = np.zeros_like(X_unknown[:,0,0])\n",
    "Y_unknown = np.ones_like(X_unknown[:,0,0])"
   ]
  },
  {
   "cell_type": "code",
   "execution_count": 23,
   "metadata": {},
   "outputs": [],
   "source": [
    "X_fit = np.concatenate((X_default, X_unknown), axis = 0)\n",
    "Y_fit = np.concatenate((Y_default, Y_unknown), axis = 0)\n",
    "Y_fit = to_categorical(Y_fit, num_classes=2)"
   ]
  },
  {
   "cell_type": "code",
   "execution_count": 24,
   "metadata": {},
   "outputs": [],
   "source": [
    "X_fit, _, Y_fit, _ = data_split(X_fit, Y_fit, test=0, shuffle=True)"
   ]
  },
  {
   "cell_type": "markdown",
   "metadata": {},
   "source": [
    "## Evaluate Loss as a function of MC parameter"
   ]
  },
  {
   "cell_type": "code",
   "execution_count": 25,
   "metadata": {},
   "outputs": [],
   "source": [
    "a1 = [0.12,0.68,0.217] * tf.ones((1800000, 51, 3))\n",
    "a2 = [0.14,0.68,0.217] * tf.ones((1800000, 51, 3))\n",
    "a3 = [0.16,0.68,0.217] * tf.ones((1800000, 51, 3))\n",
    "b1 = tf.concat([X_fit, a1], axis=-1)\n",
    "b2 = tf.concat([X_fit, a2], axis=-1)\n",
    "b3 = tf.concat([X_fit, a3], axis=-1)\n",
    "preds1 = model_interpolate.model(b1[0:100])\n",
    "preds2 = model_interpolate.model(b2[0:100])\n",
    "preds3 = model_interpolate.model(b3[0:100])\n",
    "loss = keras.losses.CategoricalCrossentropy()"
   ]
  },
  {
   "cell_type": "code",
   "execution_count": 26,
   "metadata": {},
   "outputs": [
    {
     "name": "stdout",
     "output_type": "stream",
     "text": [
      "tf.Tensor(0.7465982, shape=(), dtype=float32)\n",
      "tf.Tensor(0.68943197, shape=(), dtype=float32)\n",
      "tf.Tensor(0.71433043, shape=(), dtype=float32)\n"
     ]
    }
   ],
   "source": [
    "print(loss(Y_fit[0:100], preds1))\n",
    "print(loss(Y_fit[0:100], preds2))\n",
    "print(loss(Y_fit[0:100], preds3))"
   ]
  },
  {
   "cell_type": "code",
   "execution_count": 27,
   "metadata": {},
   "outputs": [
    {
     "name": "stdout",
     "output_type": "stream",
     "text": [
      "1800/1800 [==============================] - 34s 19ms/step - loss: 0.7460\n",
      "0.7460033893585205\n",
      "1800/1800 [==============================] - 33s 18ms/step - loss: 0.6788\n",
      "0.6788281202316284\n",
      "1800/1800 [==============================] - 33s 18ms/step - loss: 0.6791\n",
      "0.6790879964828491\n"
     ]
    }
   ],
   "source": [
    "print(get_loss(X_fit, Y_fit, model_pf, [0.12, 0.68, 0.217]))\n",
    "print(get_loss(X_fit, Y_fit, model_pf, [0.14, 0.68, 0.217]))\n",
    "print(get_loss(X_fit, Y_fit, model_pf, [0.16, 0.68, 0.217]))"
   ]
  },
  {
   "cell_type": "code",
   "execution_count": 31,
   "metadata": {},
   "outputs": [
    {
     "name": "stdout",
     "output_type": "stream",
     "text": [
      "1800/1800 [==============================] - 33s 18ms/step - loss: 0.6788\n",
      "1800/1800 [==============================] - 33s 18ms/step - loss: 0.6752\n",
      "1800/1800 [==============================] - 32s 18ms/step - loss: 0.6759\n",
      "1800/1800 [==============================] - 36s 20ms/step - loss: 0.6791\n",
      "1800/1800 [==============================] - 35s 20ms/step - loss: 0.6817\n",
      "1800/1800 [==============================] - 32s 18ms/step - loss: 0.6867\n",
      "1800/1800 [==============================] - 32s 18ms/step - loss: 0.6894\n"
     ]
    }
   ],
   "source": [
    "alpha_loss = np.array([(a, get_loss(X_fit, Y_fit, model_pf, [a, 0.68, 0.217])) for a in np.linspace(0.14,0.18,7)])"
   ]
  },
  {
   "cell_type": "code",
   "execution_count": 32,
   "metadata": {},
   "outputs": [
    {
     "data": {
      "image/png": "[encoded data removed]",
      "text/plain": [
       "<Figure size 640x480 with 1 Axes>"
      ]
     },
     "metadata": {},
     "output_type": "display_data"
    }
   ],
   "source": [
    "plt.plot(*alpha_loss.T)\n",
    "plt.ylabel('Loss')\n",
    "plt.xlabel(r'$\\alpha_s$')\n",
    "# plt.legend()\n",
    "plt.tight_layout()\n",
    "plt.show()"
   ]
  },
  {
   "cell_type": "code",
   "execution_count": 33,
   "metadata": {},
   "outputs": [
    {
     "data": {
      "text/plain": [
       "array([0.14666667])"
      ]
     },
     "execution_count": 33,
     "metadata": {},
     "output_type": "execute_result"
    }
   ],
   "source": [
    "def get_min_loss(losses, x0):\n",
    "    f = sp.interpolate.interp1d(losses[:,0], losses[:,1], fill_value=\"extrapolate\")\n",
    "    return sp.optimize.minimize(f, x0=x0)['x']\n",
    "\n",
    "get_min_loss(alpha_loss, x0=0.1365)"
   ]
  },
  {
   "cell_type": "markdown",
   "metadata": {},
   "source": [
    "## Tune with Gradient Descent"
   ]
  },
  {
   "cell_type": "code",
   "execution_count": 36,
   "metadata": {},
   "outputs": [
    {
     "data": {
      "text/plain": [
       "0.18"
      ]
     },
     "execution_count": 36,
     "metadata": {},
     "output_type": "execute_result"
    }
   ],
   "source": [
    "model_pf.get_weights()[0][0][0]"
   ]
  },
  {
   "cell_type": "code",
   "execution_count": 37,
   "metadata": {},
   "outputs": [],
   "source": [
    "print_weights = keras.callbacks.LambdaCallback(on_epoch_end=lambda batch, logs: print(\"alpha_s fit = \", model_pf.get_weights()[0][0][0]))\n",
    "fit_vals = [0.1365]\n",
    "append_weights = keras.callbacks.LambdaCallback(on_epoch_end=lambda batch, logs: fit_vals.append(model_pf.get_weights()[0][0][0]))\n",
    "\n",
    "callbacks = [print_weights, append_weights]"
   ]
  },
  {
   "cell_type": "code",
   "execution_count": 38,
   "metadata": {},
   "outputs": [
    {
     "name": "stdout",
     "output_type": "stream",
     "text": [
      "Model: \"pf_output\"\n",
      "_________________________________________________________________\n",
      " Layer (type)                Output Shape              Param #   \n",
      "=================================================================\n",
      " pf_input (InputLayer)       [(None, None, 4)]         0         \n",
      "                                                                 \n",
      " model_1 (Functional)        (None, None, 7)           3         \n",
      "                                                                 \n",
      " model (Functional)          (None, 2)                 57130     \n",
      "                                                                 \n",
      "=================================================================\n",
      "Total params: 57,133\n",
      "Trainable params: 1\n",
      "Non-trainable params: 57,132\n",
      "_________________________________________________________________\n"
     ]
    }
   ],
   "source": [
    "model_pf.summary()"
   ]
  },
  {
   "cell_type": "code",
   "execution_count": 39,
   "metadata": {
    "scrolled": true
   },
   "outputs": [
    {
     "name": "stdout",
     "output_type": "stream",
     "text": [
      "Epoch 1/10\n",
      "180/180 [==============================] - ETA: 0s - loss: 0.6844alpha_s fit =  0.16244212\n",
      "180/180 [==============================] - 98s 540ms/step - loss: 0.6844\n",
      "Epoch 2/10\n",
      "180/180 [==============================] - ETA: 0s - loss: 0.6780alpha_s fit =  0.15181227\n",
      "180/180 [==============================] - 99s 548ms/step - loss: 0.6780\n",
      "Epoch 3/10\n",
      "180/180 [==============================] - ETA: 0s - loss: 0.6755alpha_s fit =  0.14862339\n",
      "180/180 [==============================] - 90s 501ms/step - loss: 0.6755\n",
      "Epoch 4/10\n",
      "180/180 [==============================] - ETA: 0s - loss: 0.6754alpha_s fit =  0.14857677\n",
      "180/180 [==============================] - 94s 520ms/step - loss: 0.6754\n",
      "Epoch 5/10\n",
      "180/180 [==============================] - ETA: 0s - loss: 0.6754alpha_s fit =  0.14863813\n",
      "180/180 [==============================] - 101s 560ms/step - loss: 0.6754\n",
      "Epoch 6/10\n",
      "180/180 [==============================] - ETA: 0s - loss: 0.6754alpha_s fit =  0.14862008\n",
      "180/180 [==============================] - 99s 549ms/step - loss: 0.6754\n",
      "Epoch 7/10\n",
      "180/180 [==============================] - ETA: 0s - loss: 0.6754alpha_s fit =  0.14833094\n",
      "180/180 [==============================] - 102s 566ms/step - loss: 0.6754\n",
      "Epoch 8/10\n",
      "180/180 [==============================] - ETA: 0s - loss: 0.6754alpha_s fit =  0.14868622\n",
      "180/180 [==============================] - 99s 551ms/step - loss: 0.6754\n",
      "Epoch 9/10\n",
      "180/180 [==============================] - ETA: 0s - loss: 0.6754alpha_s fit =  0.14855109\n",
      "180/180 [==============================] - 98s 543ms/step - loss: 0.6754\n",
      "Epoch 10/10\n",
      "180/180 [==============================] - ETA: 0s - loss: 0.6754alpha_s fit =  0.14841543\n",
      "180/180 [==============================] - 95s 530ms/step - loss: 0.6754\n"
     ]
    },
    {
     "data": {
      "text/plain": [
       "<keras.callbacks.History at 0x7fed1948b940>"
      ]
     },
     "execution_count": 39,
     "metadata": {},
     "output_type": "execute_result"
    }
   ],
   "source": [
    "model_pf.fit(X_fit, Y_fit, epochs=10, batch_size=10000, callbacks = callbacks)"
   ]
  },
  {
   "cell_type": "code",
   "execution_count": 40,
   "metadata": {},
   "outputs": [
    {
     "data": {
      "image/png": "[encoded data removed]",
      "text/plain": [
       "<Figure size 640x480 with 1 Axes>"
      ]
     },
     "metadata": {},
     "output_type": "display_data"
    }
   ],
   "source": [
    "plt.plot(fit_vals, marker='o')\n",
    "plt.xlabel(\"Epochs\")\n",
    "plt.ylabel(r'$\\alpha_s$')\n",
    "plt.show()"
   ]
  },
  {
   "cell_type": "code",
   "execution_count": null,
   "metadata": {},
   "outputs": [],
   "source": []
  }
 ],
 "metadata": {
  "kernelspec": {
   "display_name": "Python 3 (ipykernel)",
   "language": "python",
   "name": "python3"
  },
  "language_info": {
   "codemirror_mode": {
    "name": "ipython",
    "version": 3
   },
   "file_extension": ".py",
   "mimetype": "text/x-python",
   "name": "python",
   "nbconvert_exporter": "python",
   "pygments_lexer": "ipython3",
   "version": "3.10.8"
  }
 },
 "nbformat": 4,
 "nbformat_minor": 4
}
