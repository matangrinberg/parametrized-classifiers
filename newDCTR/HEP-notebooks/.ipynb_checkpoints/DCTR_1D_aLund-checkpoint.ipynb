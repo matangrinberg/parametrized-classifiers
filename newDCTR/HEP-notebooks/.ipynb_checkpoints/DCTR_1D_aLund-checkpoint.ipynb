{
 "cells": [
  {
   "cell_type": "code",
   "execution_count": 1,
   "metadata": {},
   "outputs": [],
   "source": [
    "import os\n",
    "os.environ[\"CUDA_DEVICE_ORDER\"]=\"PCI_BUS_ID\"\n",
    "os.environ[\"CUDA_VISIBLE_DEVICES\"]=\"3\""
   ]
  },
  {
   "cell_type": "code",
   "execution_count": 2,
   "metadata": {},
   "outputs": [
    {
     "name": "stderr",
     "output_type": "stream",
     "text": [
      "2023-01-11 14:15:59.046106: I tensorflow/core/platform/cpu_feature_guard.cc:193] This TensorFlow binary is optimized with oneAPI Deep Neural Network Library (oneDNN) to use the following CPU instructions in performance-critical operations:  SSE4.1 SSE4.2\n",
      "To enable them in other operations, rebuild TensorFlow with the appropriate compiler flags.\n"
     ]
    }
   ],
   "source": [
    "# standard library imports\n",
    "from __future__ import absolute_import, division, print_function\n",
    "\n",
    "import keras\n",
    "\n",
    "# standard numerical library imports\n",
    "import numpy as np\n",
    "import scipy as sp\n",
    "\n",
    "# energyflow imports\n",
    "import energyflow as ef\n",
    "from energyflow.archs import PFN\n",
    "from energyflow.utils import data_split, remap_pids, to_categorical\n",
    "\n",
    "import matplotlib.pyplot as plt"
   ]
  },
  {
   "cell_type": "code",
   "execution_count": 3,
   "metadata": {},
   "outputs": [],
   "source": [
    "# Global plot settings\n",
    "from matplotlib import rc\n",
    "import matplotlib.font_manager\n",
    "rc('font', family='serif')\n",
    "rc('text', usetex=True)\n",
    "rc('font', size=22) \n",
    "rc('xtick', labelsize=15) \n",
    "rc('ytick', labelsize=15) \n",
    "rc('legend', fontsize=15)"
   ]
  },
  {
   "cell_type": "markdown",
   "metadata": {},
   "source": [
    "# Load Data"
   ]
  },
  {
   "cell_type": "markdown",
   "metadata": {},
   "source": [
    "## Utilities"
   ]
  },
  {
   "cell_type": "code",
   "execution_count": 4,
   "metadata": {},
   "outputs": [],
   "source": [
    "# normalize pT and center (y, phi)\n",
    "def normalize(x):\n",
    "    mask = x[:,0] > 0\n",
    "    yphi_avg = np.average(x[mask,1:3], weights=x[mask,0], axis=0)\n",
    "    x[mask,1:3] -= yphi_avg\n",
    "    x[mask,0] /= x[:,0].sum()"
   ]
  },
  {
   "cell_type": "code",
   "execution_count": 10,
   "metadata": {},
   "outputs": [],
   "source": [
    "def preprocess_data(X):\n",
    "    for x in X:\n",
    "        normalize(x)\n",
    "    \n",
    "    # Remap PIDs to unique values in range [0,1]\n",
    "    remap_pids(X, pid_i=3, error_on_unknown=False)\n",
    "    return X"
   ]
  },
  {
   "cell_type": "markdown",
   "metadata": {},
   "source": [
    "## Process data"
   ]
  },
  {
   "cell_type": "code",
   "execution_count": 11,
   "metadata": {},
   "outputs": [],
   "source": [
    "# Path to downloaded data from Zenodo\n",
    "data_dir = '/Users/matangrinberg/Library/CloudStorage/GoogleDrive-matan.grinberg@gmail.com/My Drive/(21-24) University of California, Berkeley/ML HEP/parametrized-classifiers/data/'"
   ]
  },
  {
   "cell_type": "code",
   "execution_count": 12,
   "metadata": {},
   "outputs": [],
   "source": [
    "dataset = np.load(data_dir + '1D_aLund_train.npz')"
   ]
  },
  {
   "cell_type": "code",
   "execution_count": 13,
   "metadata": {},
   "outputs": [],
   "source": [
    "X = dataset['X']\n",
    "Y = dataset['Y']"
   ]
  },
  {
   "cell_type": "code",
   "execution_count": 14,
   "metadata": {},
   "outputs": [],
   "source": [
    "X = preprocess_data(X)\n",
    "Y = to_categorical(Y, num_classes=2)"
   ]
  },
  {
   "cell_type": "code",
   "execution_count": 15,
   "metadata": {},
   "outputs": [],
   "source": [
    "X_train, X_val, Y_train, Y_val = data_split(X, Y, test=0.1, shuffle=True)"
   ]
  },
  {
   "cell_type": "code",
   "execution_count": 16,
   "metadata": {},
   "outputs": [
    {
     "name": "stdout",
     "output_type": "stream",
     "text": [
      "(1620000, 51, 7)\n",
      "(1620000, 2)\n",
      "(180000, 51, 7)\n",
      "(180000, 2)\n"
     ]
    }
   ],
   "source": [
    "print(X_train.shape)\n",
    "print(Y_train.shape)\n",
    "\n",
    "print(X_val.shape)\n",
    "print(Y_val.shape)"
   ]
  },
  {
   "cell_type": "markdown",
   "metadata": {},
   "source": [
    "# Build Model"
   ]
  },
  {
   "cell_type": "code",
   "execution_count": 17,
   "metadata": {
    "scrolled": true
   },
   "outputs": [
    {
     "name": "stderr",
     "output_type": "stream",
     "text": [
      "2023-01-11 14:20:29.759573: I tensorflow/core/platform/cpu_feature_guard.cc:193] This TensorFlow binary is optimized with oneAPI Deep Neural Network Library (oneDNN) to use the following CPU instructions in performance-critical operations:  SSE4.1 SSE4.2\n",
      "To enable them in other operations, rebuild TensorFlow with the appropriate compiler flags.\n"
     ]
    }
   ],
   "source": [
    "# network architecture parameters\n",
    "Phi_sizes = (100,100, 128)\n",
    "F_sizes = (100,100, 100)\n",
    "\n",
    "dctr = PFN(input_dim=7, \n",
    "           Phi_sizes=Phi_sizes, F_sizes=F_sizes,\n",
    "           summary=False)"
   ]
  },
  {
   "cell_type": "markdown",
   "metadata": {},
   "source": [
    "# Train model"
   ]
  },
  {
   "cell_type": "code",
   "execution_count": 18,
   "metadata": {},
   "outputs": [],
   "source": [
    "save_label = 'DCTR_ee_dijets_1D_aLund'\n",
    "\n",
    "checkpoint = keras.callbacks.ModelCheckpoint('./saved_models/' + save_label + '.h5', monitor='val_loss', verbose=2, save_best_only=True, mode='min')\n",
    "CSVLogger = keras.callbacks.CSVLogger('./logs/' + save_label + '_loss.csv', append=False)\n",
    "EarlyStopping = keras.callbacks.EarlyStopping(monitor='val_loss', min_delta=0, patience=10, verbose=1, restore_best_weights=True)\n",
    "\n",
    "callbacks = [checkpoint, CSVLogger, EarlyStopping]\n",
    "\n",
    "epochs = 100\n",
    "batch_size = 2000"
   ]
  },
  {
   "cell_type": "code",
   "execution_count": 19,
   "metadata": {
    "scrolled": true
   },
   "outputs": [
    {
     "name": "stdout",
     "output_type": "stream",
     "text": [
      "Epoch 1/100\n",
      "810/810 [==============================] - ETA: 0s - loss: 0.7232 - acc: 0.5009\n",
      "Epoch 1: val_loss improved from inf to 0.69437, saving model to ./saved_models/DCTR_ee_dijets_1D_aLund.h5\n",
      "810/810 [==============================] - 80s 98ms/step - loss: 0.7232 - acc: 0.5009 - val_loss: 0.6944 - val_acc: 0.5009\n",
      "Epoch 2/100\n",
      "810/810 [==============================] - ETA: 0s - loss: 0.6943 - acc: 0.5021\n",
      "Epoch 2: val_loss improved from 0.69437 to 0.69381, saving model to ./saved_models/DCTR_ee_dijets_1D_aLund.h5\n",
      "810/810 [==============================] - 77s 95ms/step - loss: 0.6943 - acc: 0.5021 - val_loss: 0.6938 - val_acc: 0.5024\n",
      "Epoch 3/100\n",
      "810/810 [==============================] - ETA: 0s - loss: 0.6936 - acc: 0.5032\n",
      "Epoch 3: val_loss improved from 0.69381 to 0.69321, saving model to ./saved_models/DCTR_ee_dijets_1D_aLund.h5\n",
      "810/810 [==============================] - 79s 97ms/step - loss: 0.6936 - acc: 0.5032 - val_loss: 0.6932 - val_acc: 0.5053\n",
      "Epoch 4/100\n",
      "810/810 [==============================] - ETA: 0s - loss: 0.6934 - acc: 0.5040\n",
      "Epoch 4: val_loss improved from 0.69321 to 0.69314, saving model to ./saved_models/DCTR_ee_dijets_1D_aLund.h5\n",
      "810/810 [==============================] - 84s 103ms/step - loss: 0.6934 - acc: 0.5040 - val_loss: 0.6931 - val_acc: 0.5024\n",
      "Epoch 5/100\n",
      "810/810 [==============================] - ETA: 0s - loss: 0.6933 - acc: 0.5042\n",
      "Epoch 5: val_loss improved from 0.69314 to 0.69299, saving model to ./saved_models/DCTR_ee_dijets_1D_aLund.h5\n",
      "810/810 [==============================] - 79s 97ms/step - loss: 0.6933 - acc: 0.5042 - val_loss: 0.6930 - val_acc: 0.5082\n",
      "Epoch 6/100\n",
      "810/810 [==============================] - ETA: 0s - loss: 0.6932 - acc: 0.5047\n",
      "Epoch 6: val_loss did not improve from 0.69299\n",
      "810/810 [==============================] - 80s 98ms/step - loss: 0.6932 - acc: 0.5047 - val_loss: 0.6933 - val_acc: 0.5030\n",
      "Epoch 7/100\n",
      "810/810 [==============================] - ETA: 0s - loss: 0.6931 - acc: 0.5057\n",
      "Epoch 7: val_loss did not improve from 0.69299\n",
      "810/810 [==============================] - 81s 100ms/step - loss: 0.6931 - acc: 0.5057 - val_loss: 0.6931 - val_acc: 0.5041\n",
      "Epoch 8/100\n",
      "810/810 [==============================] - ETA: 0s - loss: 0.6931 - acc: 0.5061\n",
      "Epoch 8: val_loss did not improve from 0.69299\n",
      "810/810 [==============================] - 80s 99ms/step - loss: 0.6931 - acc: 0.5061 - val_loss: 0.6930 - val_acc: 0.5073\n",
      "Epoch 9/100\n",
      "810/810 [==============================] - ETA: 0s - loss: 0.6930 - acc: 0.5071\n",
      "Epoch 9: val_loss improved from 0.69299 to 0.69290, saving model to ./saved_models/DCTR_ee_dijets_1D_aLund.h5\n",
      "810/810 [==============================] - 79s 97ms/step - loss: 0.6930 - acc: 0.5071 - val_loss: 0.6929 - val_acc: 0.5075\n",
      "Epoch 10/100\n",
      "810/810 [==============================] - ETA: 0s - loss: 0.6930 - acc: 0.5067\n",
      "Epoch 10: val_loss improved from 0.69290 to 0.69284, saving model to ./saved_models/DCTR_ee_dijets_1D_aLund.h5\n",
      "810/810 [==============================] - 81s 100ms/step - loss: 0.6930 - acc: 0.5067 - val_loss: 0.6928 - val_acc: 0.5074\n",
      "Epoch 11/100\n",
      "810/810 [==============================] - ETA: 0s - loss: 0.6929 - acc: 0.5072\n",
      "Epoch 11: val_loss did not improve from 0.69284\n",
      "810/810 [==============================] - 79s 97ms/step - loss: 0.6929 - acc: 0.5072 - val_loss: 0.6929 - val_acc: 0.5064\n",
      "Epoch 12/100\n",
      "810/810 [==============================] - ETA: 0s - loss: 0.6929 - acc: 0.5077\n",
      "Epoch 12: val_loss did not improve from 0.69284\n",
      "810/810 [==============================] - 81s 100ms/step - loss: 0.6929 - acc: 0.5077 - val_loss: 0.6929 - val_acc: 0.5078\n",
      "Epoch 13/100\n",
      "810/810 [==============================] - ETA: 0s - loss: 0.6929 - acc: 0.5075\n",
      "Epoch 13: val_loss did not improve from 0.69284\n",
      "810/810 [==============================] - 82s 101ms/step - loss: 0.6929 - acc: 0.5075 - val_loss: 0.6931 - val_acc: 0.5060\n",
      "Epoch 14/100\n",
      "810/810 [==============================] - ETA: 0s - loss: 0.6929 - acc: 0.5079\n",
      "Epoch 14: val_loss improved from 0.69284 to 0.69278, saving model to ./saved_models/DCTR_ee_dijets_1D_aLund.h5\n",
      "810/810 [==============================] - 88s 108ms/step - loss: 0.6929 - acc: 0.5079 - val_loss: 0.6928 - val_acc: 0.5090\n",
      "Epoch 15/100\n",
      "810/810 [==============================] - ETA: 0s - loss: 0.6929 - acc: 0.5084\n",
      "Epoch 15: val_loss did not improve from 0.69278\n",
      "810/810 [==============================] - 76s 94ms/step - loss: 0.6929 - acc: 0.5084 - val_loss: 0.6930 - val_acc: 0.5082\n",
      "Epoch 16/100\n",
      "810/810 [==============================] - ETA: 0s - loss: 0.6929 - acc: 0.5086\n",
      "Epoch 16: val_loss did not improve from 0.69278\n",
      "810/810 [==============================] - 81s 100ms/step - loss: 0.6929 - acc: 0.5086 - val_loss: 0.6928 - val_acc: 0.5089\n",
      "Epoch 17/100\n",
      "810/810 [==============================] - ETA: 0s - loss: 0.6928 - acc: 0.5083\n",
      "Epoch 17: val_loss did not improve from 0.69278\n",
      "810/810 [==============================] - 79s 97ms/step - loss: 0.6928 - acc: 0.5083 - val_loss: 0.6928 - val_acc: 0.5074\n",
      "Epoch 18/100\n",
      "810/810 [==============================] - ETA: 0s - loss: 0.6928 - acc: 0.5090\n",
      "Epoch 18: val_loss did not improve from 0.69278\n",
      "810/810 [==============================] - 80s 99ms/step - loss: 0.6928 - acc: 0.5090 - val_loss: 0.6928 - val_acc: 0.5078\n",
      "Epoch 19/100\n",
      "810/810 [==============================] - ETA: 0s - loss: 0.6928 - acc: 0.5092\n",
      "Epoch 19: val_loss did not improve from 0.69278\n",
      "810/810 [==============================] - 80s 99ms/step - loss: 0.6928 - acc: 0.5092 - val_loss: 0.6928 - val_acc: 0.5073\n",
      "Epoch 20/100\n",
      "810/810 [==============================] - ETA: 0s - loss: 0.6928 - acc: 0.5091\n",
      "Epoch 20: val_loss did not improve from 0.69278\n",
      "810/810 [==============================] - 80s 99ms/step - loss: 0.6928 - acc: 0.5091 - val_loss: 0.6928 - val_acc: 0.5087\n",
      "Epoch 21/100\n",
      "810/810 [==============================] - ETA: 0s - loss: 0.6928 - acc: 0.5091\n",
      "Epoch 21: val_loss did not improve from 0.69278\n",
      "810/810 [==============================] - 83s 102ms/step - loss: 0.6928 - acc: 0.5091 - val_loss: 0.6928 - val_acc: 0.5086\n",
      "Epoch 22/100\n",
      "810/810 [==============================] - ETA: 0s - loss: 0.6928 - acc: 0.5090\n",
      "Epoch 22: val_loss improved from 0.69278 to 0.69277, saving model to ./saved_models/DCTR_ee_dijets_1D_aLund.h5\n",
      "810/810 [==============================] - 81s 100ms/step - loss: 0.6928 - acc: 0.5090 - val_loss: 0.6928 - val_acc: 0.5089\n",
      "Epoch 23/100\n",
      "810/810 [==============================] - ETA: 0s - loss: 0.6928 - acc: 0.5092\n",
      "Epoch 23: val_loss did not improve from 0.69277\n",
      "810/810 [==============================] - 80s 99ms/step - loss: 0.6928 - acc: 0.5092 - val_loss: 0.6928 - val_acc: 0.5097\n",
      "Epoch 24/100\n",
      "810/810 [==============================] - ETA: 0s - loss: 0.6928 - acc: 0.5096\n",
      "Epoch 24: val_loss did not improve from 0.69277\n",
      "810/810 [==============================] - 89s 110ms/step - loss: 0.6928 - acc: 0.5096 - val_loss: 0.6928 - val_acc: 0.5073\n",
      "Epoch 25/100\n",
      "810/810 [==============================] - ETA: 0s - loss: 0.6928 - acc: 0.5091\n",
      "Epoch 25: val_loss did not improve from 0.69277\n",
      "810/810 [==============================] - 81s 100ms/step - loss: 0.6928 - acc: 0.5091 - val_loss: 0.6928 - val_acc: 0.5084\n",
      "Epoch 26/100\n",
      "810/810 [==============================] - ETA: 0s - loss: 0.6928 - acc: 0.5098\n",
      "Epoch 26: val_loss did not improve from 0.69277\n",
      "810/810 [==============================] - 80s 99ms/step - loss: 0.6928 - acc: 0.5098 - val_loss: 0.6929 - val_acc: 0.5076\n",
      "Epoch 27/100\n",
      "810/810 [==============================] - ETA: 0s - loss: 0.6928 - acc: 0.5098\n",
      "Epoch 27: val_loss did not improve from 0.69277\n",
      "810/810 [==============================] - 80s 99ms/step - loss: 0.6928 - acc: 0.5098 - val_loss: 0.6929 - val_acc: 0.5068\n",
      "Epoch 28/100\n",
      "810/810 [==============================] - ETA: 0s - loss: 0.6927 - acc: 0.5105\n",
      "Epoch 28: val_loss improved from 0.69277 to 0.69275, saving model to ./saved_models/DCTR_ee_dijets_1D_aLund.h5\n",
      "810/810 [==============================] - 79s 98ms/step - loss: 0.6927 - acc: 0.5105 - val_loss: 0.6928 - val_acc: 0.5085\n",
      "Epoch 29/100\n",
      "810/810 [==============================] - ETA: 0s - loss: 0.6927 - acc: 0.5102\n",
      "Epoch 29: val_loss did not improve from 0.69275\n",
      "810/810 [==============================] - 81s 101ms/step - loss: 0.6927 - acc: 0.5102 - val_loss: 0.6928 - val_acc: 0.5079\n",
      "Epoch 30/100\n",
      "810/810 [==============================] - ETA: 0s - loss: 0.6927 - acc: 0.5097\n",
      "Epoch 30: val_loss did not improve from 0.69275\n",
      "810/810 [==============================] - 82s 101ms/step - loss: 0.6927 - acc: 0.5097 - val_loss: 0.6928 - val_acc: 0.5080\n",
      "Epoch 31/100\n",
      "810/810 [==============================] - ETA: 0s - loss: 0.6927 - acc: 0.5104\n",
      "Epoch 31: val_loss did not improve from 0.69275\n",
      "810/810 [==============================] - 78s 96ms/step - loss: 0.6927 - acc: 0.5104 - val_loss: 0.6928 - val_acc: 0.5070\n",
      "Epoch 32/100\n",
      "810/810 [==============================] - ETA: 0s - loss: 0.6927 - acc: 0.5107\n",
      "Epoch 32: val_loss did not improve from 0.69275\n",
      "810/810 [==============================] - 93s 114ms/step - loss: 0.6927 - acc: 0.5107 - val_loss: 0.6928 - val_acc: 0.5086\n",
      "Epoch 33/100\n",
      "810/810 [==============================] - ETA: 0s - loss: 0.6927 - acc: 0.5107\n",
      "Epoch 33: val_loss did not improve from 0.69275\n",
      "810/810 [==============================] - 85s 105ms/step - loss: 0.6927 - acc: 0.5107 - val_loss: 0.6928 - val_acc: 0.5092\n",
      "Epoch 34/100\n",
      "810/810 [==============================] - ETA: 0s - loss: 0.6926 - acc: 0.5114\n",
      "Epoch 34: val_loss improved from 0.69275 to 0.69275, saving model to ./saved_models/DCTR_ee_dijets_1D_aLund.h5\n",
      "810/810 [==============================] - 92s 113ms/step - loss: 0.6926 - acc: 0.5114 - val_loss: 0.6928 - val_acc: 0.5100\n",
      "Epoch 35/100\n",
      "810/810 [==============================] - ETA: 0s - loss: 0.6926 - acc: 0.5111\n",
      "Epoch 35: val_loss did not improve from 0.69275\n",
      "810/810 [==============================] - 82s 101ms/step - loss: 0.6926 - acc: 0.5111 - val_loss: 0.6928 - val_acc: 0.5075\n",
      "Epoch 36/100\n",
      "810/810 [==============================] - ETA: 0s - loss: 0.6926 - acc: 0.5114\n",
      "Epoch 36: val_loss did not improve from 0.69275\n",
      "810/810 [==============================] - 82s 101ms/step - loss: 0.6926 - acc: 0.5114 - val_loss: 0.6928 - val_acc: 0.5089\n",
      "Epoch 37/100\n",
      "810/810 [==============================] - ETA: 0s - loss: 0.6926 - acc: 0.5119\n",
      "Epoch 37: val_loss did not improve from 0.69275\n",
      "810/810 [==============================] - 84s 104ms/step - loss: 0.6926 - acc: 0.5119 - val_loss: 0.6928 - val_acc: 0.5080\n",
      "Epoch 38/100\n",
      "810/810 [==============================] - ETA: 0s - loss: 0.6926 - acc: 0.5121\n",
      "Epoch 38: val_loss did not improve from 0.69275\n",
      "810/810 [==============================] - 85s 105ms/step - loss: 0.6926 - acc: 0.5121 - val_loss: 0.6928 - val_acc: 0.5084\n",
      "Epoch 39/100\n",
      "810/810 [==============================] - ETA: 0s - loss: 0.6926 - acc: 0.5118\n",
      "Epoch 39: val_loss did not improve from 0.69275\n",
      "810/810 [==============================] - 90s 111ms/step - loss: 0.6926 - acc: 0.5118 - val_loss: 0.6929 - val_acc: 0.5089\n",
      "Epoch 40/100\n",
      "810/810 [==============================] - ETA: 0s - loss: 0.6925 - acc: 0.5124\n",
      "Epoch 40: val_loss did not improve from 0.69275\n",
      "810/810 [==============================] - 81s 100ms/step - loss: 0.6925 - acc: 0.5124 - val_loss: 0.6929 - val_acc: 0.5075\n",
      "Epoch 41/100\n",
      "810/810 [==============================] - ETA: 0s - loss: 0.6925 - acc: 0.5125\n",
      "Epoch 41: val_loss did not improve from 0.69275\n",
      "810/810 [==============================] - 91s 112ms/step - loss: 0.6925 - acc: 0.5125 - val_loss: 0.6930 - val_acc: 0.5079\n",
      "Epoch 42/100\n",
      "810/810 [==============================] - ETA: 0s - loss: 0.6925 - acc: 0.5126\n",
      "Epoch 42: val_loss did not improve from 0.69275\n",
      "810/810 [==============================] - 96s 119ms/step - loss: 0.6925 - acc: 0.5126 - val_loss: 0.6929 - val_acc: 0.5077\n",
      "Epoch 43/100\n",
      "810/810 [==============================] - ETA: 0s - loss: 0.6925 - acc: 0.5130\n",
      "Epoch 43: val_loss did not improve from 0.69275\n",
      "810/810 [==============================] - 88s 108ms/step - loss: 0.6925 - acc: 0.5130 - val_loss: 0.6928 - val_acc: 0.5085\n",
      "Epoch 44/100\n",
      "810/810 [==============================] - ETA: 0s - loss: 0.6924 - acc: 0.5125\n",
      "Epoch 44: val_loss did not improve from 0.69275\n",
      "Restoring model weights from the end of the best epoch: 34.\n",
      "810/810 [==============================] - 90s 111ms/step - loss: 0.6924 - acc: 0.5125 - val_loss: 0.6929 - val_acc: 0.5075\n",
      "Epoch 44: early stopping\n"
     ]
    }
   ],
   "source": [
    "history = dctr.fit(X_train, Y_train,\n",
    "                    epochs = epochs,\n",
    "                    batch_size = batch_size,\n",
    "                    validation_data = (X_val, Y_val),\n",
    "                    verbose = 1, \n",
    "                    callbacks = callbacks)"
   ]
  },
  {
   "cell_type": "markdown",
   "metadata": {},
   "source": [
    "# Plot History"
   ]
  },
  {
   "cell_type": "code",
   "execution_count": 20,
   "metadata": {},
   "outputs": [
    {
     "data": {
      "image/png": "[encoded data removed]",
      "text/plain": [
       "<Figure size 640x480 with 1 Axes>"
      ]
     },
     "metadata": {},
     "output_type": "display_data"
    }
   ],
   "source": [
    "plt.plot(history.history['loss'],     label = 'loss')\n",
    "plt.plot(history.history['val_loss'], label = 'val loss')\n",
    "plt.legend(loc=0)\n",
    "plt.ylabel('loss')\n",
    "plt.xlabel('Epochs')\n",
    "plt.show()"
   ]
  },
  {
   "cell_type": "markdown",
   "metadata": {},
   "source": [
    "# Load Model"
   ]
  },
  {
   "cell_type": "code",
   "execution_count": 16,
   "metadata": {},
   "outputs": [],
   "source": [
    "# load model from saved file\n",
    "dctr.model.load_weights('./saved_models/DCTR_ee_dijets_1D_aLund.h5')"
   ]
  },
  {
   "cell_type": "markdown",
   "metadata": {},
   "source": [
    "# Validation"
   ]
  },
  {
   "cell_type": "markdown",
   "metadata": {},
   "source": [
    "## Load Datasets"
   ]
  },
  {
   "cell_type": "code",
   "execution_count": 17,
   "metadata": {},
   "outputs": [],
   "source": [
    "test_dataset_0 = np.load(data_dir+'test1D_default.npz')\n",
    "test_dataset_1 = np.load(data_dir+'test1D_aLund.npz')"
   ]
  },
  {
   "cell_type": "code",
   "execution_count": 18,
   "metadata": {},
   "outputs": [],
   "source": [
    "# Define labels for legends\n",
    "label_0 = r'aLund=0.68'\n",
    "\n",
    "label_1 = r'aLund=0.80'\n",
    "\n",
    "pythia_text = r'\\textsc{Pythia 8}' + '\\n' + r'$e^+e^- \\to Z \\to $ dijets' +'\\n'+ r\"anti-$k_{\\mathrm{T}}$, $R=0.8$\"\n",
    "def make_legend():\n",
    "    ax = plt.gca()\n",
    "    leg = ax.legend(frameon=False)\n",
    "    leg.set_title(pythia_text, prop={'size':14})\n",
    "    leg._legend_box.align = \"left\"\n",
    "    plt.tight_layout()"
   ]
  },
  {
   "cell_type": "markdown",
   "metadata": {},
   "source": [
    "## Get predictions"
   ]
  },
  {
   "cell_type": "code",
   "execution_count": 19,
   "metadata": {},
   "outputs": [],
   "source": [
    "# Load test datasets\n",
    "X0_test = preprocess_data(test_dataset_0['jet'])\n",
    "X1_test = preprocess_data(test_dataset_1['jet'])"
   ]
  },
  {
   "cell_type": "code",
   "execution_count": 20,
   "metadata": {},
   "outputs": [],
   "source": [
    "# Get predicted probabilities\n",
    "preds_0 = dctr.predict(X0_test, batch_size=1000)\n",
    "preds_1 = dctr.predict(X1_test, batch_size=1000)"
   ]
  },
  {
   "cell_type": "markdown",
   "metadata": {},
   "source": [
    "## Get weights"
   ]
  },
  {
   "cell_type": "code",
   "execution_count": 21,
   "metadata": {},
   "outputs": [],
   "source": [
    "weights_0 = preds_0[:,0]/preds_0[:,1]\n",
    "weights_1 = preds_1[:,0]/preds_1[:,1]"
   ]
  },
  {
   "cell_type": "markdown",
   "metadata": {},
   "source": [
    "## Analyze weights"
   ]
  },
  {
   "cell_type": "code",
   "execution_count": 22,
   "metadata": {},
   "outputs": [
    {
     "name": "stdout",
     "output_type": "stream",
     "text": [
      "1.2439463\n",
      "1.1490545\n",
      "1.3519024\n",
      "1.1482241\n"
     ]
    }
   ],
   "source": [
    "print(max(weights_0))\n",
    "print(max(1/weights_0))\n",
    "print(max(weights_1))\n",
    "print(max(1/weights_1))"
   ]
  },
  {
   "cell_type": "code",
   "execution_count": 23,
   "metadata": {},
   "outputs": [
    {
     "data": {
      "image/png": "[encoded data removed]",
      "text/plain": [
       "<Figure size 432x288 with 1 Axes>"
      ]
     },
     "metadata": {
      "needs_background": "light"
     },
     "output_type": "display_data"
    }
   ],
   "source": [
    "clip_val = 3\n",
    "bins = np.linspace(0, clip_val, 101)\n",
    "plt.hist(np.clip(weights_0, 0, clip_val), bins = bins)\n",
    "plt.xlabel(\"Weight\")\n",
    "plt.ylabel('Jets per bin (normalized)')\n",
    "plt.title(\"Weights \" + label_0 + r' $\\rightarrow$ ' + label_0, fontsize=20)\n",
    "plt.show()"
   ]
  },
  {
   "cell_type": "code",
   "execution_count": 24,
   "metadata": {},
   "outputs": [
    {
     "data": {
      "image/png": "[encoded data removed]",
      "text/plain": [
       "<Figure size 432x288 with 1 Axes>"
      ]
     },
     "metadata": {
      "needs_background": "light"
     },
     "output_type": "display_data"
    }
   ],
   "source": [
    "clip_val = 3\n",
    "bins = np.linspace(0, clip_val, 101)\n",
    "plt.hist(np.clip(weights_1, 0, clip_val), bins = bins)\n",
    "plt.xlabel(\"Weight\")\n",
    "plt.ylabel('Jets per bin (normalized)')\n",
    "plt.title(\"Weights \" + label_0 + r' $\\rightarrow$ ' + label_1, fontsize=20)\n",
    "plt.show()"
   ]
  },
  {
   "cell_type": "markdown",
   "metadata": {},
   "source": [
    "# Validation Plots"
   ]
  },
  {
   "cell_type": "code",
   "execution_count": 25,
   "metadata": {},
   "outputs": [],
   "source": [
    "# Define default plot styles\n",
    "plot_style_0 = {'histtype':'step', 'color':'black', 'linewidth':2, 'linestyle':'--', 'density':True}\n",
    "plot_style_1 = {'alpha':0.5, 'density':True}"
   ]
  },
  {
   "cell_type": "markdown",
   "metadata": {},
   "source": [
    "## Multiplicity"
   ]
  },
  {
   "cell_type": "code",
   "execution_count": 26,
   "metadata": {},
   "outputs": [
    {
     "data": {
      "image/png": "[encoded data removed]",
      "text/plain": [
       "<Figure size 432x360 with 1 Axes>"
      ]
     },
     "metadata": {
      "needs_background": "light"
     },
     "output_type": "display_data"
    }
   ],
   "source": [
    "plt.figure(figsize=(6,5))\n",
    "bins = np.linspace(0,40,21)\n",
    "hist0 = plt.hist(test_dataset_0['multiplicity'], bins = bins, label = label_0, **plot_style_0)\n",
    "hist1 = plt.hist(test_dataset_1['multiplicity'], bins = bins, label = label_1, **plot_style_1)\n",
    "hist2 = plt.hist(test_dataset_1['multiplicity'], bins = bins, label = label_1 + ' wgt.', weights=weights_1, **plot_style_1)\n",
    "\n",
    "plt.xlabel('Multiplicity')\n",
    "plt.ylabel('Jets per bin (normalized)')\n",
    "plt.xlim([0,40])\n",
    "make_legend()\n",
    "plt.show()"
   ]
  },
  {
   "cell_type": "markdown",
   "metadata": {},
   "source": [
    "## Nsubjettiness"
   ]
  },
  {
   "cell_type": "markdown",
   "metadata": {},
   "source": [
    "### tau21"
   ]
  },
  {
   "cell_type": "code",
   "execution_count": 27,
   "metadata": {},
   "outputs": [
    {
     "data": {
      "image/png": "[encoded data removed]",
      "text/plain": [
       "<Figure size 432x360 with 1 Axes>"
      ]
     },
     "metadata": {
      "needs_background": "light"
     },
     "output_type": "display_data"
    }
   ],
   "source": [
    "plt.figure(figsize=(6,5))\n",
    "bins = np.linspace(0,1,31)\n",
    "hist0 = plt.hist(test_dataset_0['tau21'], bins=bins, label=label_0, **plot_style_0)\n",
    "hist1 = plt.hist(test_dataset_1['tau21'], bins=bins, label=label_1, **plot_style_1)\n",
    "hist2 = plt.hist(test_dataset_1['tau21'], bins=bins, label=label_1 +' wgt.',  weights= weights_1, **plot_style_1)\n",
    "\n",
    "plt.xlabel('tau21')\n",
    "plt.ylabel('Jets per bin (normalized)')\n",
    "make_legend()\n",
    "plt.show()"
   ]
  },
  {
   "cell_type": "markdown",
   "metadata": {},
   "source": [
    "## ECF"
   ]
  },
  {
   "cell_type": "markdown",
   "metadata": {},
   "source": [
    "### N=3, $\\beta$=4"
   ]
  },
  {
   "cell_type": "code",
   "execution_count": 29,
   "metadata": {},
   "outputs": [
    {
     "name": "stderr",
     "output_type": "stream",
     "text": [
      "/home/aandreassen/.local/lib/python3.5/site-packages/ipykernel_launcher.py:3: RuntimeWarning: divide by zero encountered in log\n",
      "  This is separate from the ipykernel package so we can avoid doing imports until\n",
      "/home/aandreassen/.local/lib/python3.5/site-packages/ipykernel_launcher.py:4: RuntimeWarning: divide by zero encountered in log\n",
      "  after removing the cwd from sys.path.\n",
      "/home/aandreassen/.local/lib/python3.5/site-packages/ipykernel_launcher.py:5: RuntimeWarning: divide by zero encountered in log\n",
      "  \"\"\"\n"
     ]
    },
    {
     "data": {
      "image/png": "[encoded data removed]",
      "text/plain": [
       "<Figure size 432x360 with 1 Axes>"
      ]
     },
     "metadata": {
      "needs_background": "light"
     },
     "output_type": "display_data"
    }
   ],
   "source": [
    "plt.figure(figsize=(6,5))\n",
    "bins = np.linspace(-15,5,31)\n",
    "hist1 = plt.hist(np.log(test_dataset_0['ECF_N3_B4']), bins=bins, label=label_0, **plot_style_0)\n",
    "hist2 = plt.hist(np.log(test_dataset_1['ECF_N3_B4']), bins=bins, label=label_1, **plot_style_1)\n",
    "hist3 = plt.hist(np.log(test_dataset_1['ECF_N3_B4']), bins=bins, label=label_1 +' wgt.',  weights= weights_1, **plot_style_1)\n",
    "\n",
    "plt.xlabel('log ECF(N=3, beta=4)')\n",
    "plt.ylabel('Jets per bin (normalized)')\n",
    "make_legend()\n",
    "plt.show()"
   ]
  },
  {
   "cell_type": "markdown",
   "metadata": {},
   "source": [
    "### N=4, $\\beta$=4"
   ]
  },
  {
   "cell_type": "code",
   "execution_count": 30,
   "metadata": {},
   "outputs": [
    {
     "name": "stderr",
     "output_type": "stream",
     "text": [
      "/home/aandreassen/.local/lib/python3.5/site-packages/ipykernel_launcher.py:3: RuntimeWarning: divide by zero encountered in log\n",
      "  This is separate from the ipykernel package so we can avoid doing imports until\n",
      "/home/aandreassen/.local/lib/python3.5/site-packages/ipykernel_launcher.py:4: RuntimeWarning: divide by zero encountered in log\n",
      "  after removing the cwd from sys.path.\n",
      "/home/aandreassen/.local/lib/python3.5/site-packages/ipykernel_launcher.py:5: RuntimeWarning: divide by zero encountered in log\n",
      "  \"\"\"\n"
     ]
    },
    {
     "data": {
      "image/png": "[encoded data removed]",
      "text/plain": [
       "<Figure size 432x360 with 1 Axes>"
      ]
     },
     "metadata": {
      "needs_background": "light"
     },
     "output_type": "display_data"
    }
   ],
   "source": [
    "plt.figure(figsize=(6,5))\n",
    "bins = np.linspace(-35,5,31)\n",
    "hist1 = plt.hist(np.log(test_dataset_0['ECF_N4_B4']), bins=bins, label=label_0, **plot_style_0)\n",
    "hist2 = plt.hist(np.log(test_dataset_1['ECF_N4_B4']), bins=bins, label=label_1, **plot_style_1)\n",
    "hist3 = plt.hist(np.log(test_dataset_1['ECF_N4_B4']), bins=bins, label=label_1 +' wgt.',  weights= weights_1, **plot_style_1)\n",
    "\n",
    "plt.xlabel('log ECF(N=4, beta=4)')\n",
    "plt.ylabel('Jets per bin (normalized)')\n",
    "make_legend()\n",
    "plt.show()"
   ]
  },
  {
   "cell_type": "markdown",
   "metadata": {},
   "source": [
    "# Fitting"
   ]
  },
  {
   "cell_type": "markdown",
   "metadata": {},
   "source": [
    "## Loss Curve Model"
   ]
  },
  {
   "cell_type": "code",
   "execution_count": 32,
   "metadata": {},
   "outputs": [],
   "source": [
    "class AddParams2Input(keras.layers.Layer):\n",
    "    \"\"\" Custom layer for tuning with DCTR: \n",
    "    Arguments:\n",
    "    - n_MC_params : (int) - the number of n_MC_params that are in X_dim\n",
    "    - default_MC_params : (list of floats) - default values for each of the MC parameters\n",
    "    - trainable_MC_params : (list of booleans) - True for parameters that you want to fit, false for parameters that should be fixed at default value\n",
    "\n",
    "    Usage: \n",
    "    Let X_dim be the input dimension of each particle to a PFN model, and n_MC_params be the number of MC parameters. \n",
    "    Defines a Layer that takes in an array of dimension \n",
    "    (batch_size, padded_multiplicity, X_dim - n_MC_params)\n",
    "    This layer appends each particle by the default_MC_params and makes then trainable or non-trainable based on trainable_MC_params\n",
    "    \"\"\"\n",
    "    \n",
    "    def __init__(self, n_MC_params, default_MC_params, trainable_MC_params):\n",
    "        super(AddParams2Input, self).__init__()\n",
    "        # Definitions\n",
    "        self.n_MC_params = n_MC_params\n",
    "        self.MC_params = default_MC_params\n",
    "        self.trainable_MC_params = trainable_MC_params\n",
    "\n",
    "    \n",
    "    def build(self, input_shape):\n",
    "        # Convert input MC parameters to weights and make then trainable or non-trainable\n",
    "        for i in range(self.n_MC_params):\n",
    "            self.MC_params[i] = self.add_weight(name='MC_param_{}'.format(i), \n",
    "                                                shape=(1, 1),\n",
    "                                                initializer=keras.initializers.Constant(self.MC_params[i]),\n",
    "                                                trainable=self.trainable_MC_params[i])\n",
    "            \n",
    "        self.MC_params = keras.backend.tf.concat(self.MC_params, axis = -1)\n",
    "        super(AddParams2Input, self).build(input_shape)\n",
    "    \n",
    "    def call(self, input):\n",
    "        # Add MC params to each input particle (but not to the padded rows)\n",
    "        concat_input_and_params = keras.backend.tf.where(keras.backend.abs(input[...,0])>0,\n",
    "                                                         self.MC_params*keras.backend.ones_like(input[...,0:self.n_MC_params]),\n",
    "                                                         keras.backend.zeros_like(input[...,0:self.n_MC_params]))\n",
    "        return keras.backend.concatenate([input, concat_input_and_params], -1)\n",
    "    \n",
    "    def compute_output_shape(self, input_shape):\n",
    "        return (input_shape[0], input_shape[1]+self.n_MC_params)"
   ]
  },
  {
   "cell_type": "code",
   "execution_count": 33,
   "metadata": {},
   "outputs": [],
   "source": [
    "def get_DCTR_fit_model(DCTR_model, \n",
    "                       X_dim, \n",
    "                       n_MC_params, \n",
    "                       default_MC_params,\n",
    "                       trainable_MC_params):\n",
    "    \"\"\" \n",
    "    Get a DCTR model that trains on the input MC parameters\n",
    "    \n",
    "    Arguments:\n",
    "    - DCTR_model : a PFN model that has been trained on a to continuously interpolate over the input MC dimensions\n",
    "    - X_dim : (int) - the dimension of the input expected by DCTR_model\n",
    "    - n_MC_params : (int) - the number of n_MC_params that are in X_dim\n",
    "    - default_MC_params : (list of floats) - default values for each of the MC parameters\n",
    "    - trainable_MC_params : (list of booleans) - True for parameters that you want to fit, false for parameters that should be fixed at default value\n",
    "\n",
    "    Returns:\n",
    "    - DCTR_fit_model: a compiled model that gradient descends only on the trainable MC parameters\n",
    "    \"\"\"\n",
    "    \n",
    "    # Do sanity checks on inputs\n",
    "    assert X_dim >=n_MC_params, \"X_dim must be larger than n_MC_params. X_dim includes the dimensionality of the 4-vector + number of MC parameters\"\n",
    "    assert n_MC_params == len(default_MC_params), \"Dimension mismatch between n_MC_params and number of default MC parameters given. len(default_MC_params) must equal n_MC_params\"\n",
    "    assert n_MC_params == len(trainable_MC_params), \"Dimension mismatch between n_MC_params and trainable_MC_params. len(trainable_MC_params) must equal n_MC_params.\"\n",
    "    assert np.any(trainable_MC_params), \"All parameters are set to non-trainable.\"\n",
    "    \n",
    "    # Define input to DCTR_fit_model\n",
    "    non_param_input = keras.layers.Input((None, X_dim - n_MC_params))\n",
    "\n",
    "    # Construct layer that adds trainable and non-trainable parameters to the input\n",
    "    add_params_layer = AddParams2Input(n_MC_params, default_MC_params, trainable_MC_params)\n",
    "    time_dist     = keras.layers.TimeDistributed(add_params_layer, name='tdist')(non_param_input)     \n",
    "\n",
    "    # Set all weights in DCTR_model to non-trainable\n",
    "    for layer in DCTR_model.model.layers:\n",
    "        layer.trainable = False\n",
    "        \n",
    "    # get the graph and the weights from the DCTR_model\n",
    "    output = DCTR_model.model(inputs = time_dist)\n",
    "\n",
    "    # Define full model\n",
    "    DCTR_fit_model = fitmodel = keras.models.Model(inputs = non_param_input, outputs = output)\n",
    "    \n",
    "    optimizer = keras.optimizers.Adam(lr=1e-4)\n",
    "    \n",
    "    # Compile with loss function\n",
    "    DCTR_fit_model.compile(optimizer=optimizer, loss='categorical_crossentropy')\n",
    "    \n",
    "    return DCTR_fit_model"
   ]
  },
  {
   "cell_type": "code",
   "execution_count": 34,
   "metadata": {},
   "outputs": [
    {
     "name": "stdout",
     "output_type": "stream",
     "text": [
      "_________________________________________________________________\n",
      "Layer (type)                 Output Shape              Param #   \n",
      "=================================================================\n",
      "input_1 (InputLayer)         (None, None, 4)           0         \n",
      "_________________________________________________________________\n",
      "tdist (TimeDistributed)      (None, None, 7)           3         \n",
      "_________________________________________________________________\n",
      "model_1 (Model)              (None, 2)                 57130     \n",
      "=================================================================\n",
      "Total params: 57,133\n",
      "Trainable params: 1\n",
      "Non-trainable params: 57,132\n",
      "_________________________________________________________________\n"
     ]
    }
   ],
   "source": [
    "dctr_fit_model = get_DCTR_fit_model(dctr, \n",
    "                       X_dim =7, \n",
    "                       n_MC_params = 3, \n",
    "                       default_MC_params   = [0.1365, 0.68, 0.217], # default params for [alpha_s, aLund, StoUD]\n",
    "                       trainable_MC_params = [False, True, False]) # Only train aLund\n",
    "\n",
    "dctr_fit_model.summary()"
   ]
  },
  {
   "cell_type": "code",
   "execution_count": 35,
   "metadata": {},
   "outputs": [],
   "source": [
    "def set_MC_params(dctr_fit_model, MC_params):\n",
    "    alphaS, aLund, StoUD = MC_params\n",
    "    weights = [np.array([[alphaS]],   dtype=np.float32),\n",
    "               np.array([[aLund]],    dtype=np.float32),\n",
    "               np.array([[StoUD]], dtype=np.float32)]\n",
    "    dctr_fit_model.layers[1].set_weights(weights)"
   ]
  },
  {
   "cell_type": "code",
   "execution_count": 36,
   "metadata": {},
   "outputs": [
    {
     "data": {
      "text/plain": [
       "[array([[0.68]], dtype=float32),\n",
       " array([[0.1365]], dtype=float32),\n",
       " array([[0.217]], dtype=float32)]"
      ]
     },
     "execution_count": 36,
     "metadata": {},
     "output_type": "execute_result"
    }
   ],
   "source": [
    "dctr_fit_model.layers[1].get_weights()"
   ]
  },
  {
   "cell_type": "markdown",
   "metadata": {},
   "source": [
    "## Load Data"
   ]
  },
  {
   "cell_type": "code",
   "execution_count": 37,
   "metadata": {},
   "outputs": [],
   "source": [
    "default_dataset = np.load(data_dir + 'test1D_default.npz')\n",
    "unknown_dataset = np.load(data_dir + 'test1D_aLund.npz')"
   ]
  },
  {
   "cell_type": "code",
   "execution_count": 38,
   "metadata": {},
   "outputs": [],
   "source": [
    "X_default = preprocess_data(default_dataset['jet'][:,:,:4])\n",
    "X_unknown = preprocess_data(unknown_dataset['jet'][:,:,:4])\n",
    "\n",
    "Y_default = np.zeros_like(X_unknown[:,0,0])\n",
    "Y_unknown = np.ones_like(X_unknown[:,0,0])"
   ]
  },
  {
   "cell_type": "code",
   "execution_count": 39,
   "metadata": {},
   "outputs": [],
   "source": [
    "X_fit = np.concatenate((X_default, X_unknown), axis = 0)\n",
    "\n",
    "Y_fit = np.concatenate((Y_default, Y_unknown), axis = 0)\n",
    "Y_fit = to_categorical(Y_fit, num_classes=2)"
   ]
  },
  {
   "cell_type": "code",
   "execution_count": 40,
   "metadata": {},
   "outputs": [],
   "source": [
    "X_fit, _, Y_fit, _ = data_split(X_fit, Y_fit, test=0, shuffle=True)"
   ]
  },
  {
   "cell_type": "markdown",
   "metadata": {},
   "source": [
    "## Evaluate Loss as a function of MC parameter"
   ]
  },
  {
   "cell_type": "code",
   "execution_count": 41,
   "metadata": {},
   "outputs": [],
   "source": [
    "def get_loss(X, Y, dctr_fit_model, MC_params, batch_size = 1000):\n",
    "    set_MC_params(dctr_fit_model, MC_params)\n",
    "    return dctr_fit_model.evaluate(x=X, y = Y, batch_size=batch_size)"
   ]
  },
  {
   "cell_type": "code",
   "execution_count": 42,
   "metadata": {},
   "outputs": [
    {
     "data": {
      "text/plain": [
       "[array([[0.68]], dtype=float32),\n",
       " array([[0.1365]], dtype=float32),\n",
       " array([[0.217]], dtype=float32)]"
      ]
     },
     "execution_count": 42,
     "metadata": {},
     "output_type": "execute_result"
    }
   ],
   "source": [
    "dctr_fit_model.layers[1].get_weights()"
   ]
  },
  {
   "cell_type": "code",
   "execution_count": 43,
   "metadata": {
    "scrolled": true
   },
   "outputs": [
    {
     "name": "stdout",
     "output_type": "stream",
     "text": [
      "1800000/1800000 [==============================] - 7s 4us/step\n",
      "1800000/1800000 [==============================] - 7s 4us/step\n",
      "1800000/1800000 [==============================] - 7s 4us/step\n",
      "1800000/1800000 [==============================] - 7s 4us/step\n",
      "1800000/1800000 [==============================] - 7s 4us/step\n",
      "1800000/1800000 [==============================] - 7s 4us/step\n",
      "1800000/1800000 [==============================] - 7s 4us/step\n",
      "1800000/1800000 [==============================] - 7s 4us/step\n",
      "1800000/1800000 [==============================] - 7s 4us/step\n",
      "1800000/1800000 [==============================] - 7s 4us/step\n",
      "1800000/1800000 [==============================] - 7s 4us/step\n",
      "1800000/1800000 [==============================] - 7s 4us/step\n",
      "1800000/1800000 [==============================] - 7s 4us/step\n",
      "1800000/1800000 [==============================] - 7s 4us/step\n",
      "1800000/1800000 [==============================] - 7s 4us/step\n",
      "1800000/1800000 [==============================] - 7s 4us/step\n",
      "1800000/1800000 [==============================] - 7s 4us/step\n",
      "1800000/1800000 [==============================] - 7s 4us/step\n",
      "1800000/1800000 [==============================] - 7s 4us/step\n",
      "1800000/1800000 [==============================] - 7s 4us/step\n",
      "1800000/1800000 [==============================] - 7s 4us/step\n",
      "1800000/1800000 [==============================] - 7s 4us/step\n",
      "1800000/1800000 [==============================] - 7s 4us/step\n",
      "1800000/1800000 [==============================] - 7s 4us/step\n",
      "1800000/1800000 [==============================] - 7s 4us/step\n",
      "1800000/1800000 [==============================] - 7s 4us/step\n",
      "1800000/1800000 [==============================] - 7s 4us/step\n",
      "1800000/1800000 [==============================] - 7s 4us/step\n",
      "1800000/1800000 [==============================] - 7s 4us/step\n",
      "1800000/1800000 [==============================] - 7s 4us/step\n",
      "1800000/1800000 [==============================] - 7s 4us/step\n"
     ]
    }
   ],
   "source": [
    "aLund_loss = np.array([(aLund, get_loss(X_fit, Y_fit, dctr_fit_model, [aLund, 0.1365, 0.217])) for aLund in np.linspace(0.6,0.9, 31)])"
   ]
  },
  {
   "cell_type": "code",
   "execution_count": 44,
   "metadata": {},
   "outputs": [
    {
     "data": {
      "image/png": "[encoded data removed]",
      "text/plain": [
       "<Figure size 432x288 with 1 Axes>"
      ]
     },
     "metadata": {
      "needs_background": "light"
     },
     "output_type": "display_data"
    }
   ],
   "source": [
    "plt.plot(*aLund_loss.T, label = label_1)\n",
    "plt.ylabel('Loss')\n",
    "plt.xlabel(r'aLund = 0.80')\n",
    "plt.legend()\n",
    "plt.tight_layout()\n",
    "plt.show()"
   ]
  },
  {
   "cell_type": "code",
   "execution_count": 45,
   "metadata": {},
   "outputs": [
    {
     "data": {
      "text/plain": [
       "array([0.79999999])"
      ]
     },
     "execution_count": 45,
     "metadata": {},
     "output_type": "execute_result"
    }
   ],
   "source": [
    "def get_min_loss(losses, x0):\n",
    "    f = sp.interpolate.interp1d(losses[:,0], losses[:,1], fill_value=\"extrapolate\")\n",
    "    return sp.optimize.minimize(f, x0=x0)['x']\n",
    "\n",
    "get_min_loss(aLund_loss, x0=0.68)"
   ]
  },
  {
   "cell_type": "markdown",
   "metadata": {},
   "source": [
    "## Tune with Gradient Descent"
   ]
  },
  {
   "cell_type": "code",
   "execution_count": 46,
   "metadata": {},
   "outputs": [
    {
     "data": {
      "text/plain": [
       "[array([[0.9]], dtype=float32),\n",
       " array([[0.1365]], dtype=float32),\n",
       " array([[0.217]], dtype=float32)]"
      ]
     },
     "execution_count": 46,
     "metadata": {},
     "output_type": "execute_result"
    }
   ],
   "source": [
    "dctr_fit_model.layers[1].get_weights()"
   ]
  },
  {
   "cell_type": "code",
   "execution_count": 47,
   "metadata": {},
   "outputs": [],
   "source": [
    "set_MC_params(dctr_fit_model, [0.68, 0.1365, 0.217])"
   ]
  },
  {
   "cell_type": "code",
   "execution_count": 48,
   "metadata": {},
   "outputs": [],
   "source": [
    "print_weights = keras.callbacks.LambdaCallback(on_epoch_end=lambda batch, logs: print(\"aLund fit = \", \n",
    "                                               dctr_fit_model.get_weights()[0][0][0]))\n",
    "fit_vals = [0.68]\n",
    "append_weights = keras.callbacks.LambdaCallback(on_epoch_end=lambda batch, logs: \n",
    "                                               fit_vals.append(dctr_fit_model.get_weights()[0][0][0]))\n",
    "\n",
    "callbacks = [print_weights, append_weights]"
   ]
  },
  {
   "cell_type": "code",
   "execution_count": 49,
   "metadata": {
    "scrolled": true
   },
   "outputs": [
    {
     "name": "stdout",
     "output_type": "stream",
     "text": [
      "Epoch 1/40\n",
      "1800000/1800000 [==============================] - 9s 5us/step - loss: 0.6931\n",
      "aLund fit =  0.6959674\n",
      "Epoch 2/40\n",
      "1800000/1800000 [==============================] - 9s 5us/step - loss: 0.6930\n",
      "aLund fit =  0.7107291\n",
      "Epoch 3/40\n",
      "1800000/1800000 [==============================] - 9s 5us/step - loss: 0.6929\n",
      "aLund fit =  0.72412413\n",
      "Epoch 4/40\n",
      "1800000/1800000 [==============================] - 9s 5us/step - loss: 0.6929\n",
      "aLund fit =  0.73554707\n",
      "Epoch 5/40\n",
      "1800000/1800000 [==============================] - 9s 5us/step - loss: 0.6929\n",
      "aLund fit =  0.7451192\n",
      "Epoch 6/40\n",
      "1800000/1800000 [==============================] - 9s 5us/step - loss: 0.6928\n",
      "aLund fit =  0.75290346\n",
      "Epoch 7/40\n",
      "1800000/1800000 [==============================] - 9s 5us/step - loss: 0.6928\n",
      "aLund fit =  0.7596639\n",
      "Epoch 8/40\n",
      "1800000/1800000 [==============================] - 9s 5us/step - loss: 0.6928\n",
      "aLund fit =  0.7652607\n",
      "Epoch 9/40\n",
      "1800000/1800000 [==============================] - 9s 5us/step - loss: 0.6928\n",
      "aLund fit =  0.76974267\n",
      "Epoch 10/40\n",
      "1800000/1800000 [==============================] - 9s 5us/step - loss: 0.6928\n",
      "aLund fit =  0.77402544\n",
      "Epoch 11/40\n",
      "1800000/1800000 [==============================] - 9s 5us/step - loss: 0.6928\n",
      "aLund fit =  0.77784073\n",
      "Epoch 12/40\n",
      "1800000/1800000 [==============================] - 9s 5us/step - loss: 0.6928\n",
      "aLund fit =  0.78073466\n",
      "Epoch 13/40\n",
      "1800000/1800000 [==============================] - 9s 5us/step - loss: 0.6928\n",
      "aLund fit =  0.7834724\n",
      "Epoch 14/40\n",
      "1800000/1800000 [==============================] - 9s 5us/step - loss: 0.6928\n",
      "aLund fit =  0.7856001\n",
      "Epoch 15/40\n",
      "1800000/1800000 [==============================] - 9s 5us/step - loss: 0.6928\n",
      "aLund fit =  0.78745115\n",
      "Epoch 16/40\n",
      "1800000/1800000 [==============================] - 9s 5us/step - loss: 0.6928\n",
      "aLund fit =  0.7890055\n",
      "Epoch 17/40\n",
      "1800000/1800000 [==============================] - 9s 5us/step - loss: 0.6928\n",
      "aLund fit =  0.7903883\n",
      "Epoch 18/40\n",
      "1800000/1800000 [==============================] - 9s 5us/step - loss: 0.6928\n",
      "aLund fit =  0.7916601\n",
      "Epoch 19/40\n",
      "1800000/1800000 [==============================] - 9s 5us/step - loss: 0.6928\n",
      "aLund fit =  0.792474\n",
      "Epoch 20/40\n",
      "1800000/1800000 [==============================] - 9s 5us/step - loss: 0.6928\n",
      "aLund fit =  0.7932358\n",
      "Epoch 21/40\n",
      "1800000/1800000 [==============================] - 9s 5us/step - loss: 0.6928\n",
      "aLund fit =  0.79410714\n",
      "Epoch 22/40\n",
      "1800000/1800000 [==============================] - 9s 5us/step - loss: 0.6928\n",
      "aLund fit =  0.794799\n",
      "Epoch 23/40\n",
      "1800000/1800000 [==============================] - 9s 5us/step - loss: 0.6928\n",
      "aLund fit =  0.79502463\n",
      "Epoch 24/40\n",
      "1800000/1800000 [==============================] - 9s 5us/step - loss: 0.6928\n",
      "aLund fit =  0.7952435\n",
      "Epoch 25/40\n",
      "1800000/1800000 [==============================] - 9s 5us/step - loss: 0.6928\n",
      "aLund fit =  0.7958091\n",
      "Epoch 26/40\n",
      "1800000/1800000 [==============================] - 9s 5us/step - loss: 0.6928\n",
      "aLund fit =  0.79580736\n",
      "Epoch 27/40\n",
      "1800000/1800000 [==============================] - 9s 5us/step - loss: 0.6928\n",
      "aLund fit =  0.79606766\n",
      "Epoch 28/40\n",
      "1800000/1800000 [==============================] - 9s 5us/step - loss: 0.6928\n",
      "aLund fit =  0.79597944\n",
      "Epoch 29/40\n",
      "1800000/1800000 [==============================] - 9s 5us/step - loss: 0.6928\n",
      "aLund fit =  0.79619944\n",
      "Epoch 30/40\n",
      "1800000/1800000 [==============================] - 9s 5us/step - loss: 0.6928\n",
      "aLund fit =  0.79624766\n",
      "Epoch 31/40\n",
      "1800000/1800000 [==============================] - 9s 5us/step - loss: 0.6928\n",
      "aLund fit =  0.7963237\n",
      "Epoch 32/40\n",
      "1800000/1800000 [==============================] - 9s 5us/step - loss: 0.6928\n",
      "aLund fit =  0.7964973\n",
      "Epoch 33/40\n",
      "1800000/1800000 [==============================] - 9s 5us/step - loss: 0.6928\n",
      "aLund fit =  0.7965325\n",
      "Epoch 34/40\n",
      "1800000/1800000 [==============================] - 9s 5us/step - loss: 0.6928\n",
      "aLund fit =  0.7960713\n",
      "Epoch 35/40\n",
      "1800000/1800000 [==============================] - 9s 5us/step - loss: 0.6928\n",
      "aLund fit =  0.7965897\n",
      "Epoch 36/40\n",
      "1800000/1800000 [==============================] - 9s 5us/step - loss: 0.6928\n",
      "aLund fit =  0.79658186\n",
      "Epoch 37/40\n",
      "1800000/1800000 [==============================] - 9s 5us/step - loss: 0.6928\n",
      "aLund fit =  0.79634637\n",
      "Epoch 38/40\n",
      "1800000/1800000 [==============================] - 9s 5us/step - loss: 0.6928\n",
      "aLund fit =  0.79641724\n",
      "Epoch 39/40\n",
      "1800000/1800000 [==============================] - 9s 5us/step - loss: 0.6928\n",
      "aLund fit =  0.7964891\n",
      "Epoch 40/40\n",
      "1800000/1800000 [==============================] - 9s 5us/step - loss: 0.6928\n",
      "aLund fit =  0.7969113\n"
     ]
    },
    {
     "data": {
      "text/plain": [
       "<keras.callbacks.History at 0x7f12c4698b00>"
      ]
     },
     "execution_count": 49,
     "metadata": {},
     "output_type": "execute_result"
    }
   ],
   "source": [
    "dctr_fit_model.fit(X_fit, Y_fit,\n",
    "                   epochs=40, \n",
    "                   batch_size=10000,\n",
    "                   callbacks = callbacks)"
   ]
  },
  {
   "cell_type": "code",
   "execution_count": 50,
   "metadata": {},
   "outputs": [
    {
     "data": {
      "image/png": "[encoded data removed]",
      "text/plain": [
       "<Figure size 432x288 with 1 Axes>"
      ]
     },
     "metadata": {
      "needs_background": "light"
     },
     "output_type": "display_data"
    }
   ],
   "source": [
    "plt.plot(fit_vals, marker='o')\n",
    "plt.xlabel(\"Epochs\")\n",
    "plt.ylabel(r'aLund')\n",
    "plt.show()"
   ]
  },
  {
   "cell_type": "code",
   "execution_count": null,
   "metadata": {},
   "outputs": [],
   "source": []
  }
 ],
 "metadata": {
  "kernelspec": {
   "display_name": "Python 3 (ipykernel)",
   "language": "python",
   "name": "python3"
  },
  "language_info": {
   "codemirror_mode": {
    "name": "ipython",
    "version": 3
   },
   "file_extension": ".py",
   "mimetype": "text/x-python",
   "name": "python",
   "nbconvert_exporter": "python",
   "pygments_lexer": "ipython3",
   "version": "3.10.8"
  }
 },
 "nbformat": 4,
 "nbformat_minor": 4
}
