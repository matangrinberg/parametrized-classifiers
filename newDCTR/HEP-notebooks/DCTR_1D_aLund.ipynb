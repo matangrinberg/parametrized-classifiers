{
 "cells": [
  {
   "cell_type": "code",
   "execution_count": 1,
   "metadata": {},
   "outputs": [],
   "source": [
    "import os\n",
    "os.environ[\"CUDA_DEVICE_ORDER\"]=\"PCI_BUS_ID\"\n",
    "os.environ[\"CUDA_VISIBLE_DEVICES\"]=\"3\""
   ]
  },
  {
   "cell_type": "code",
   "execution_count": 25,
   "metadata": {},
   "outputs": [],
   "source": [
    "# standard library imports\n",
    "from __future__ import absolute_import, division, print_function\n",
    "\n",
    "import keras\n",
    "\n",
    "# standard numerical library imports\n",
    "import numpy as np\n",
    "import scipy as sp\n",
    "import tensorflow as tf\n",
    "import keras\n",
    "\n",
    "# energyflow imports\n",
    "import energyflow as ef\n",
    "from energyflow.archs import PFN\n",
    "from energyflow.utils import data_split, remap_pids, to_categorical\n",
    "\n",
    "from keras.layers import Input, Flatten, Dense\n",
    "from keras.initializers import Constant\n",
    "from keras.backend import ones_like, zeros_like, concatenate\n",
    "\n",
    "import matplotlib.pyplot as plt"
   ]
  },
  {
   "cell_type": "code",
   "execution_count": 3,
   "metadata": {},
   "outputs": [],
   "source": [
    "# Global plot settings\n",
    "from matplotlib import rc\n",
    "import matplotlib.font_manager\n",
    "rc('font', family='serif')\n",
    "rc('text', usetex=True)\n",
    "rc('font', size=22) \n",
    "rc('xtick', labelsize=15) \n",
    "rc('ytick', labelsize=15) \n",
    "rc('legend', fontsize=15)"
   ]
  },
  {
   "cell_type": "markdown",
   "metadata": {},
   "source": [
    "# Load Data"
   ]
  },
  {
   "cell_type": "markdown",
   "metadata": {},
   "source": [
    "## Utilities"
   ]
  },
  {
   "cell_type": "code",
   "execution_count": 4,
   "metadata": {},
   "outputs": [],
   "source": [
    "# normalize pT and center (y, phi)\n",
    "def normalize(x):\n",
    "    mask = x[:,0] > 0\n",
    "    yphi_avg = np.average(x[mask,1:3], weights=x[mask,0], axis=0)\n",
    "    x[mask,1:3] -= yphi_avg\n",
    "    x[mask,0] /= x[:,0].sum()"
   ]
  },
  {
   "cell_type": "code",
   "execution_count": 5,
   "metadata": {},
   "outputs": [],
   "source": [
    "def preprocess_data(X):\n",
    "    for x in X:\n",
    "        normalize(x)\n",
    "    \n",
    "    # Remap PIDs to unique values in range [0,1]\n",
    "    remap_pids(X, pid_i=3, error_on_unknown=False)\n",
    "    return X"
   ]
  },
  {
   "cell_type": "markdown",
   "metadata": {},
   "source": [
    "## Process data"
   ]
  },
  {
   "cell_type": "code",
   "execution_count": 6,
   "metadata": {},
   "outputs": [],
   "source": [
    "# Path to downloaded data from Zenodo\n",
    "data_dir = '/Users/matangrinberg/Library/CloudStorage/GoogleDrive-matan.grinberg@gmail.com/My Drive/(21-24) University of California, Berkeley/ML HEP/parametrized-classifiers/data/'"
   ]
  },
  {
   "cell_type": "code",
   "execution_count": 7,
   "metadata": {},
   "outputs": [],
   "source": [
    "dataset = np.load(data_dir + '1D_aLund_train.npz')"
   ]
  },
  {
   "cell_type": "code",
   "execution_count": 8,
   "metadata": {},
   "outputs": [],
   "source": [
    "X = dataset['X']\n",
    "Y = dataset['Y']"
   ]
  },
  {
   "cell_type": "code",
   "execution_count": 9,
   "metadata": {},
   "outputs": [],
   "source": [
    "X = preprocess_data(X)\n",
    "Y = to_categorical(Y, num_classes=2)"
   ]
  },
  {
   "cell_type": "code",
   "execution_count": 10,
   "metadata": {},
   "outputs": [],
   "source": [
    "X_train, X_val, Y_train, Y_val = data_split(X, Y, test=0.1, shuffle=True)"
   ]
  },
  {
   "cell_type": "code",
   "execution_count": 11,
   "metadata": {},
   "outputs": [
    {
     "name": "stdout",
     "output_type": "stream",
     "text": [
      "(1620000, 51, 7)\n",
      "(1620000, 2)\n",
      "(180000, 51, 7)\n",
      "(180000, 2)\n"
     ]
    }
   ],
   "source": [
    "print(X_train.shape)\n",
    "print(Y_train.shape)\n",
    "\n",
    "print(X_val.shape)\n",
    "print(Y_val.shape)"
   ]
  },
  {
   "cell_type": "markdown",
   "metadata": {},
   "source": [
    "# Build Model"
   ]
  },
  {
   "cell_type": "code",
   "execution_count": 26,
   "metadata": {
    "scrolled": true
   },
   "outputs": [],
   "source": [
    "# network architecture parameters\n",
    "Phi_sizes = (100,100, 128)\n",
    "F_sizes = (100,100, 100)\n",
    "\n",
    "model_interpolate = PFN(input_dim=7, Phi_sizes=Phi_sizes, F_sizes=F_sizes, summary=False)"
   ]
  },
  {
   "cell_type": "markdown",
   "metadata": {},
   "source": [
    "# Train model"
   ]
  },
  {
   "cell_type": "code",
   "execution_count": 27,
   "metadata": {},
   "outputs": [],
   "source": [
    "save_label = 'DCTR_ee_dijets_1D_aLund'\n",
    "\n",
    "checkpoint = keras.callbacks.ModelCheckpoint('./saved_models/' + save_label + '.h5', monitor='val_loss', verbose=2, save_best_only=True, mode='min')\n",
    "CSVLogger = keras.callbacks.CSVLogger('./logs/' + save_label + '_loss.csv', append=False)\n",
    "EarlyStopping = keras.callbacks.EarlyStopping(monitor='val_loss', min_delta=0, patience=10, verbose=1, restore_best_weights=True)\n",
    "\n",
    "callbacks = [checkpoint, CSVLogger, EarlyStopping]\n",
    "\n",
    "epochs = 100\n",
    "batch_size = 2000"
   ]
  },
  {
   "cell_type": "code",
   "execution_count": 19,
   "metadata": {
    "scrolled": true
   },
   "outputs": [
    {
     "name": "stdout",
     "output_type": "stream",
     "text": [
      "Epoch 1/100\n",
      "810/810 [==============================] - ETA: 0s - loss: 0.7232 - acc: 0.5009\n",
      "Epoch 1: val_loss improved from inf to 0.69437, saving model to ./saved_models/DCTR_ee_dijets_1D_aLund.h5\n",
      "810/810 [==============================] - 80s 98ms/step - loss: 0.7232 - acc: 0.5009 - val_loss: 0.6944 - val_acc: 0.5009\n",
      "Epoch 2/100\n",
      "810/810 [==============================] - ETA: 0s - loss: 0.6943 - acc: 0.5021\n",
      "Epoch 2: val_loss improved from 0.69437 to 0.69381, saving model to ./saved_models/DCTR_ee_dijets_1D_aLund.h5\n",
      "810/810 [==============================] - 77s 95ms/step - loss: 0.6943 - acc: 0.5021 - val_loss: 0.6938 - val_acc: 0.5024\n",
      "Epoch 3/100\n",
      "810/810 [==============================] - ETA: 0s - loss: 0.6936 - acc: 0.5032\n",
      "Epoch 3: val_loss improved from 0.69381 to 0.69321, saving model to ./saved_models/DCTR_ee_dijets_1D_aLund.h5\n",
      "810/810 [==============================] - 79s 97ms/step - loss: 0.6936 - acc: 0.5032 - val_loss: 0.6932 - val_acc: 0.5053\n",
      "Epoch 4/100\n",
      "810/810 [==============================] - ETA: 0s - loss: 0.6934 - acc: 0.5040\n",
      "Epoch 4: val_loss improved from 0.69321 to 0.69314, saving model to ./saved_models/DCTR_ee_dijets_1D_aLund.h5\n",
      "810/810 [==============================] - 84s 103ms/step - loss: 0.6934 - acc: 0.5040 - val_loss: 0.6931 - val_acc: 0.5024\n",
      "Epoch 5/100\n",
      "810/810 [==============================] - ETA: 0s - loss: 0.6933 - acc: 0.5042\n",
      "Epoch 5: val_loss improved from 0.69314 to 0.69299, saving model to ./saved_models/DCTR_ee_dijets_1D_aLund.h5\n",
      "810/810 [==============================] - 79s 97ms/step - loss: 0.6933 - acc: 0.5042 - val_loss: 0.6930 - val_acc: 0.5082\n",
      "Epoch 6/100\n",
      "810/810 [==============================] - ETA: 0s - loss: 0.6932 - acc: 0.5047\n",
      "Epoch 6: val_loss did not improve from 0.69299\n",
      "810/810 [==============================] - 80s 98ms/step - loss: 0.6932 - acc: 0.5047 - val_loss: 0.6933 - val_acc: 0.5030\n",
      "Epoch 7/100\n",
      "810/810 [==============================] - ETA: 0s - loss: 0.6931 - acc: 0.5057\n",
      "Epoch 7: val_loss did not improve from 0.69299\n",
      "810/810 [==============================] - 81s 100ms/step - loss: 0.6931 - acc: 0.5057 - val_loss: 0.6931 - val_acc: 0.5041\n",
      "Epoch 8/100\n",
      "810/810 [==============================] - ETA: 0s - loss: 0.6931 - acc: 0.5061\n",
      "Epoch 8: val_loss did not improve from 0.69299\n",
      "810/810 [==============================] - 80s 99ms/step - loss: 0.6931 - acc: 0.5061 - val_loss: 0.6930 - val_acc: 0.5073\n",
      "Epoch 9/100\n",
      "810/810 [==============================] - ETA: 0s - loss: 0.6930 - acc: 0.5071\n",
      "Epoch 9: val_loss improved from 0.69299 to 0.69290, saving model to ./saved_models/DCTR_ee_dijets_1D_aLund.h5\n",
      "810/810 [==============================] - 79s 97ms/step - loss: 0.6930 - acc: 0.5071 - val_loss: 0.6929 - val_acc: 0.5075\n",
      "Epoch 10/100\n",
      "810/810 [==============================] - ETA: 0s - loss: 0.6930 - acc: 0.5067\n",
      "Epoch 10: val_loss improved from 0.69290 to 0.69284, saving model to ./saved_models/DCTR_ee_dijets_1D_aLund.h5\n",
      "810/810 [==============================] - 81s 100ms/step - loss: 0.6930 - acc: 0.5067 - val_loss: 0.6928 - val_acc: 0.5074\n",
      "Epoch 11/100\n",
      "810/810 [==============================] - ETA: 0s - loss: 0.6929 - acc: 0.5072\n",
      "Epoch 11: val_loss did not improve from 0.69284\n",
      "810/810 [==============================] - 79s 97ms/step - loss: 0.6929 - acc: 0.5072 - val_loss: 0.6929 - val_acc: 0.5064\n",
      "Epoch 12/100\n",
      "810/810 [==============================] - ETA: 0s - loss: 0.6929 - acc: 0.5077\n",
      "Epoch 12: val_loss did not improve from 0.69284\n",
      "810/810 [==============================] - 81s 100ms/step - loss: 0.6929 - acc: 0.5077 - val_loss: 0.6929 - val_acc: 0.5078\n",
      "Epoch 13/100\n",
      "810/810 [==============================] - ETA: 0s - loss: 0.6929 - acc: 0.5075\n",
      "Epoch 13: val_loss did not improve from 0.69284\n",
      "810/810 [==============================] - 82s 101ms/step - loss: 0.6929 - acc: 0.5075 - val_loss: 0.6931 - val_acc: 0.5060\n",
      "Epoch 14/100\n",
      "810/810 [==============================] - ETA: 0s - loss: 0.6929 - acc: 0.5079\n",
      "Epoch 14: val_loss improved from 0.69284 to 0.69278, saving model to ./saved_models/DCTR_ee_dijets_1D_aLund.h5\n",
      "810/810 [==============================] - 88s 108ms/step - loss: 0.6929 - acc: 0.5079 - val_loss: 0.6928 - val_acc: 0.5090\n",
      "Epoch 15/100\n",
      "810/810 [==============================] - ETA: 0s - loss: 0.6929 - acc: 0.5084\n",
      "Epoch 15: val_loss did not improve from 0.69278\n",
      "810/810 [==============================] - 76s 94ms/step - loss: 0.6929 - acc: 0.5084 - val_loss: 0.6930 - val_acc: 0.5082\n",
      "Epoch 16/100\n",
      "810/810 [==============================] - ETA: 0s - loss: 0.6929 - acc: 0.5086\n",
      "Epoch 16: val_loss did not improve from 0.69278\n",
      "810/810 [==============================] - 81s 100ms/step - loss: 0.6929 - acc: 0.5086 - val_loss: 0.6928 - val_acc: 0.5089\n",
      "Epoch 17/100\n",
      "810/810 [==============================] - ETA: 0s - loss: 0.6928 - acc: 0.5083\n",
      "Epoch 17: val_loss did not improve from 0.69278\n",
      "810/810 [==============================] - 79s 97ms/step - loss: 0.6928 - acc: 0.5083 - val_loss: 0.6928 - val_acc: 0.5074\n",
      "Epoch 18/100\n",
      "810/810 [==============================] - ETA: 0s - loss: 0.6928 - acc: 0.5090\n",
      "Epoch 18: val_loss did not improve from 0.69278\n",
      "810/810 [==============================] - 80s 99ms/step - loss: 0.6928 - acc: 0.5090 - val_loss: 0.6928 - val_acc: 0.5078\n",
      "Epoch 19/100\n",
      "810/810 [==============================] - ETA: 0s - loss: 0.6928 - acc: 0.5092\n",
      "Epoch 19: val_loss did not improve from 0.69278\n",
      "810/810 [==============================] - 80s 99ms/step - loss: 0.6928 - acc: 0.5092 - val_loss: 0.6928 - val_acc: 0.5073\n",
      "Epoch 20/100\n",
      "810/810 [==============================] - ETA: 0s - loss: 0.6928 - acc: 0.5091\n",
      "Epoch 20: val_loss did not improve from 0.69278\n",
      "810/810 [==============================] - 80s 99ms/step - loss: 0.6928 - acc: 0.5091 - val_loss: 0.6928 - val_acc: 0.5087\n",
      "Epoch 21/100\n",
      "810/810 [==============================] - ETA: 0s - loss: 0.6928 - acc: 0.5091\n",
      "Epoch 21: val_loss did not improve from 0.69278\n",
      "810/810 [==============================] - 83s 102ms/step - loss: 0.6928 - acc: 0.5091 - val_loss: 0.6928 - val_acc: 0.5086\n",
      "Epoch 22/100\n",
      "810/810 [==============================] - ETA: 0s - loss: 0.6928 - acc: 0.5090\n",
      "Epoch 22: val_loss improved from 0.69278 to 0.69277, saving model to ./saved_models/DCTR_ee_dijets_1D_aLund.h5\n",
      "810/810 [==============================] - 81s 100ms/step - loss: 0.6928 - acc: 0.5090 - val_loss: 0.6928 - val_acc: 0.5089\n",
      "Epoch 23/100\n",
      "810/810 [==============================] - ETA: 0s - loss: 0.6928 - acc: 0.5092\n",
      "Epoch 23: val_loss did not improve from 0.69277\n",
      "810/810 [==============================] - 80s 99ms/step - loss: 0.6928 - acc: 0.5092 - val_loss: 0.6928 - val_acc: 0.5097\n",
      "Epoch 24/100\n",
      "810/810 [==============================] - ETA: 0s - loss: 0.6928 - acc: 0.5096\n",
      "Epoch 24: val_loss did not improve from 0.69277\n",
      "810/810 [==============================] - 89s 110ms/step - loss: 0.6928 - acc: 0.5096 - val_loss: 0.6928 - val_acc: 0.5073\n",
      "Epoch 25/100\n",
      "810/810 [==============================] - ETA: 0s - loss: 0.6928 - acc: 0.5091\n",
      "Epoch 25: val_loss did not improve from 0.69277\n",
      "810/810 [==============================] - 81s 100ms/step - loss: 0.6928 - acc: 0.5091 - val_loss: 0.6928 - val_acc: 0.5084\n",
      "Epoch 26/100\n",
      "810/810 [==============================] - ETA: 0s - loss: 0.6928 - acc: 0.5098\n",
      "Epoch 26: val_loss did not improve from 0.69277\n",
      "810/810 [==============================] - 80s 99ms/step - loss: 0.6928 - acc: 0.5098 - val_loss: 0.6929 - val_acc: 0.5076\n",
      "Epoch 27/100\n",
      "810/810 [==============================] - ETA: 0s - loss: 0.6928 - acc: 0.5098\n",
      "Epoch 27: val_loss did not improve from 0.69277\n",
      "810/810 [==============================] - 80s 99ms/step - loss: 0.6928 - acc: 0.5098 - val_loss: 0.6929 - val_acc: 0.5068\n",
      "Epoch 28/100\n",
      "810/810 [==============================] - ETA: 0s - loss: 0.6927 - acc: 0.5105\n",
      "Epoch 28: val_loss improved from 0.69277 to 0.69275, saving model to ./saved_models/DCTR_ee_dijets_1D_aLund.h5\n",
      "810/810 [==============================] - 79s 98ms/step - loss: 0.6927 - acc: 0.5105 - val_loss: 0.6928 - val_acc: 0.5085\n",
      "Epoch 29/100\n",
      "810/810 [==============================] - ETA: 0s - loss: 0.6927 - acc: 0.5102\n",
      "Epoch 29: val_loss did not improve from 0.69275\n",
      "810/810 [==============================] - 81s 101ms/step - loss: 0.6927 - acc: 0.5102 - val_loss: 0.6928 - val_acc: 0.5079\n",
      "Epoch 30/100\n",
      "810/810 [==============================] - ETA: 0s - loss: 0.6927 - acc: 0.5097\n",
      "Epoch 30: val_loss did not improve from 0.69275\n",
      "810/810 [==============================] - 82s 101ms/step - loss: 0.6927 - acc: 0.5097 - val_loss: 0.6928 - val_acc: 0.5080\n",
      "Epoch 31/100\n",
      "810/810 [==============================] - ETA: 0s - loss: 0.6927 - acc: 0.5104\n",
      "Epoch 31: val_loss did not improve from 0.69275\n",
      "810/810 [==============================] - 78s 96ms/step - loss: 0.6927 - acc: 0.5104 - val_loss: 0.6928 - val_acc: 0.5070\n",
      "Epoch 32/100\n",
      "810/810 [==============================] - ETA: 0s - loss: 0.6927 - acc: 0.5107\n",
      "Epoch 32: val_loss did not improve from 0.69275\n",
      "810/810 [==============================] - 93s 114ms/step - loss: 0.6927 - acc: 0.5107 - val_loss: 0.6928 - val_acc: 0.5086\n",
      "Epoch 33/100\n",
      "810/810 [==============================] - ETA: 0s - loss: 0.6927 - acc: 0.5107\n",
      "Epoch 33: val_loss did not improve from 0.69275\n",
      "810/810 [==============================] - 85s 105ms/step - loss: 0.6927 - acc: 0.5107 - val_loss: 0.6928 - val_acc: 0.5092\n",
      "Epoch 34/100\n",
      "810/810 [==============================] - ETA: 0s - loss: 0.6926 - acc: 0.5114\n",
      "Epoch 34: val_loss improved from 0.69275 to 0.69275, saving model to ./saved_models/DCTR_ee_dijets_1D_aLund.h5\n",
      "810/810 [==============================] - 92s 113ms/step - loss: 0.6926 - acc: 0.5114 - val_loss: 0.6928 - val_acc: 0.5100\n",
      "Epoch 35/100\n",
      "810/810 [==============================] - ETA: 0s - loss: 0.6926 - acc: 0.5111\n",
      "Epoch 35: val_loss did not improve from 0.69275\n",
      "810/810 [==============================] - 82s 101ms/step - loss: 0.6926 - acc: 0.5111 - val_loss: 0.6928 - val_acc: 0.5075\n",
      "Epoch 36/100\n",
      "810/810 [==============================] - ETA: 0s - loss: 0.6926 - acc: 0.5114\n",
      "Epoch 36: val_loss did not improve from 0.69275\n",
      "810/810 [==============================] - 82s 101ms/step - loss: 0.6926 - acc: 0.5114 - val_loss: 0.6928 - val_acc: 0.5089\n",
      "Epoch 37/100\n",
      "810/810 [==============================] - ETA: 0s - loss: 0.6926 - acc: 0.5119\n",
      "Epoch 37: val_loss did not improve from 0.69275\n",
      "810/810 [==============================] - 84s 104ms/step - loss: 0.6926 - acc: 0.5119 - val_loss: 0.6928 - val_acc: 0.5080\n",
      "Epoch 38/100\n",
      "810/810 [==============================] - ETA: 0s - loss: 0.6926 - acc: 0.5121\n",
      "Epoch 38: val_loss did not improve from 0.69275\n",
      "810/810 [==============================] - 85s 105ms/step - loss: 0.6926 - acc: 0.5121 - val_loss: 0.6928 - val_acc: 0.5084\n",
      "Epoch 39/100\n",
      "810/810 [==============================] - ETA: 0s - loss: 0.6926 - acc: 0.5118\n",
      "Epoch 39: val_loss did not improve from 0.69275\n",
      "810/810 [==============================] - 90s 111ms/step - loss: 0.6926 - acc: 0.5118 - val_loss: 0.6929 - val_acc: 0.5089\n",
      "Epoch 40/100\n",
      "810/810 [==============================] - ETA: 0s - loss: 0.6925 - acc: 0.5124\n",
      "Epoch 40: val_loss did not improve from 0.69275\n",
      "810/810 [==============================] - 81s 100ms/step - loss: 0.6925 - acc: 0.5124 - val_loss: 0.6929 - val_acc: 0.5075\n",
      "Epoch 41/100\n",
      "810/810 [==============================] - ETA: 0s - loss: 0.6925 - acc: 0.5125\n",
      "Epoch 41: val_loss did not improve from 0.69275\n",
      "810/810 [==============================] - 91s 112ms/step - loss: 0.6925 - acc: 0.5125 - val_loss: 0.6930 - val_acc: 0.5079\n",
      "Epoch 42/100\n",
      "810/810 [==============================] - ETA: 0s - loss: 0.6925 - acc: 0.5126\n",
      "Epoch 42: val_loss did not improve from 0.69275\n",
      "810/810 [==============================] - 96s 119ms/step - loss: 0.6925 - acc: 0.5126 - val_loss: 0.6929 - val_acc: 0.5077\n",
      "Epoch 43/100\n",
      "810/810 [==============================] - ETA: 0s - loss: 0.6925 - acc: 0.5130\n",
      "Epoch 43: val_loss did not improve from 0.69275\n",
      "810/810 [==============================] - 88s 108ms/step - loss: 0.6925 - acc: 0.5130 - val_loss: 0.6928 - val_acc: 0.5085\n",
      "Epoch 44/100\n",
      "810/810 [==============================] - ETA: 0s - loss: 0.6924 - acc: 0.5125\n",
      "Epoch 44: val_loss did not improve from 0.69275\n",
      "Restoring model weights from the end of the best epoch: 34.\n",
      "810/810 [==============================] - 90s 111ms/step - loss: 0.6924 - acc: 0.5125 - val_loss: 0.6929 - val_acc: 0.5075\n",
      "Epoch 44: early stopping\n"
     ]
    }
   ],
   "source": [
    "history = dctr.fit(X_train, Y_train,\n",
    "                    epochs = epochs,\n",
    "                    batch_size = batch_size,\n",
    "                    validation_data = (X_val, Y_val),\n",
    "                    verbose = 1, \n",
    "                    callbacks = callbacks)"
   ]
  },
  {
   "cell_type": "markdown",
   "metadata": {},
   "source": [
    "# Plot History"
   ]
  },
  {
   "cell_type": "code",
   "execution_count": 20,
   "metadata": {},
   "outputs": [
    {
     "data": {
      "image/png": "[encoded data removed]",
      "text/plain": [
       "<Figure size 640x480 with 1 Axes>"
      ]
     },
     "metadata": {},
     "output_type": "display_data"
    }
   ],
   "source": [
    "plt.plot(history.history['loss'],     label = 'loss')\n",
    "plt.plot(history.history['val_loss'], label = 'val loss')\n",
    "plt.legend(loc=0)\n",
    "plt.ylabel('loss')\n",
    "plt.xlabel('Epochs')\n",
    "plt.show()"
   ]
  },
  {
   "cell_type": "markdown",
   "metadata": {},
   "source": [
    "# Load Model"
   ]
  },
  {
   "cell_type": "code",
   "execution_count": 28,
   "metadata": {},
   "outputs": [],
   "source": [
    "# load model from saved file\n",
    "model_interpolate.model.load_weights('./saved_models/DCTR_ee_dijets_1D_aLund.h5')"
   ]
  },
  {
   "cell_type": "markdown",
   "metadata": {},
   "source": [
    "## Load Datasets"
   ]
  },
  {
   "cell_type": "code",
   "execution_count": 17,
   "metadata": {},
   "outputs": [],
   "source": [
    "test_dataset_0 = np.load(data_dir+'test1D_default.npz')\n",
    "test_dataset_1 = np.load(data_dir+'test1D_aLund.npz')"
   ]
  },
  {
   "cell_type": "code",
   "execution_count": 18,
   "metadata": {},
   "outputs": [],
   "source": [
    "# Define labels for legends\n",
    "label_0 = r'aLund=0.68'\n",
    "\n",
    "label_1 = r'aLund=0.80'\n",
    "\n",
    "pythia_text = r'\\textsc{Pythia 8}' + '\\n' + r'$e^+e^- \\to Z \\to $ dijets' +'\\n'+ r\"anti-$k_{\\mathrm{T}}$, $R=0.8$\"\n",
    "def make_legend():\n",
    "    ax = plt.gca()\n",
    "    leg = ax.legend(frameon=False)\n",
    "    leg.set_title(pythia_text, prop={'size':14})\n",
    "    leg._legend_box.align = \"left\"\n",
    "    plt.tight_layout()"
   ]
  },
  {
   "cell_type": "markdown",
   "metadata": {},
   "source": [
    "## Get predictions"
   ]
  },
  {
   "cell_type": "code",
   "execution_count": 19,
   "metadata": {},
   "outputs": [],
   "source": [
    "# Load test datasets\n",
    "X0_test = preprocess_data(test_dataset_0['jet'])\n",
    "X1_test = preprocess_data(test_dataset_1['jet'])"
   ]
  },
  {
   "cell_type": "code",
   "execution_count": 20,
   "metadata": {},
   "outputs": [],
   "source": [
    "# Get predicted probabilities\n",
    "preds_0 = dctr.predict(X0_test, batch_size=1000)\n",
    "preds_1 = dctr.predict(X1_test, batch_size=1000)"
   ]
  },
  {
   "cell_type": "markdown",
   "metadata": {},
   "source": [
    "## Get weights"
   ]
  },
  {
   "cell_type": "code",
   "execution_count": 21,
   "metadata": {},
   "outputs": [],
   "source": [
    "weights_0 = preds_0[:,0]/preds_0[:,1]\n",
    "weights_1 = preds_1[:,0]/preds_1[:,1]"
   ]
  },
  {
   "cell_type": "markdown",
   "metadata": {},
   "source": [
    "## Analyze weights"
   ]
  },
  {
   "cell_type": "code",
   "execution_count": 22,
   "metadata": {},
   "outputs": [
    {
     "name": "stdout",
     "output_type": "stream",
     "text": [
      "1.2439463\n",
      "1.1490545\n",
      "1.3519024\n",
      "1.1482241\n"
     ]
    }
   ],
   "source": [
    "print(max(weights_0))\n",
    "print(max(1/weights_0))\n",
    "print(max(weights_1))\n",
    "print(max(1/weights_1))"
   ]
  },
  {
   "cell_type": "code",
   "execution_count": 23,
   "metadata": {},
   "outputs": [
    {
     "data": {
      "image/png": "[encoded data removed]",
      "text/plain": [
       "<Figure size 432x288 with 1 Axes>"
      ]
     },
     "metadata": {
      "needs_background": "light"
     },
     "output_type": "display_data"
    }
   ],
   "source": [
    "clip_val = 3\n",
    "bins = np.linspace(0, clip_val, 101)\n",
    "plt.hist(np.clip(weights_0, 0, clip_val), bins = bins)\n",
    "plt.xlabel(\"Weight\")\n",
    "plt.ylabel('Jets per bin (normalized)')\n",
    "plt.title(\"Weights \" + label_0 + r' $\\rightarrow$ ' + label_0, fontsize=20)\n",
    "plt.show()"
   ]
  },
  {
   "cell_type": "code",
   "execution_count": 24,
   "metadata": {},
   "outputs": [
    {
     "data": {
      "image/png": "[encoded data removed]",
      "text/plain": [
       "<Figure size 432x288 with 1 Axes>"
      ]
     },
     "metadata": {
      "needs_background": "light"
     },
     "output_type": "display_data"
    }
   ],
   "source": [
    "clip_val = 3\n",
    "bins = np.linspace(0, clip_val, 101)\n",
    "plt.hist(np.clip(weights_1, 0, clip_val), bins = bins)\n",
    "plt.xlabel(\"Weight\")\n",
    "plt.ylabel('Jets per bin (normalized)')\n",
    "plt.title(\"Weights \" + label_0 + r' $\\rightarrow$ ' + label_1, fontsize=20)\n",
    "plt.show()"
   ]
  },
  {
   "cell_type": "code",
   "execution_count": 25,
   "metadata": {},
   "outputs": [],
   "source": [
    "# Define default plot styles\n",
    "plot_style_0 = {'histtype':'step', 'color':'black', 'linewidth':2, 'linestyle':'--', 'density':True}\n",
    "plot_style_1 = {'alpha':0.5, 'density':True}"
   ]
  },
  {
   "cell_type": "markdown",
   "metadata": {},
   "source": [
    "## Multiplicity"
   ]
  },
  {
   "cell_type": "code",
   "execution_count": 26,
   "metadata": {},
   "outputs": [
    {
     "data": {
      "image/png": "[encoded data removed]",
      "text/plain": [
       "<Figure size 432x360 with 1 Axes>"
      ]
     },
     "metadata": {
      "needs_background": "light"
     },
     "output_type": "display_data"
    }
   ],
   "source": [
    "plt.figure(figsize=(6,5))\n",
    "bins = np.linspace(0,40,21)\n",
    "hist0 = plt.hist(test_dataset_0['multiplicity'], bins = bins, label = label_0, **plot_style_0)\n",
    "hist1 = plt.hist(test_dataset_1['multiplicity'], bins = bins, label = label_1, **plot_style_1)\n",
    "hist2 = plt.hist(test_dataset_1['multiplicity'], bins = bins, label = label_1 + ' wgt.', weights=weights_1, **plot_style_1)\n",
    "\n",
    "plt.xlabel('Multiplicity')\n",
    "plt.ylabel('Jets per bin (normalized)')\n",
    "plt.xlim([0,40])\n",
    "make_legend()\n",
    "plt.show()"
   ]
  },
  {
   "cell_type": "markdown",
   "metadata": {},
   "source": [
    "## Nsubjettiness"
   ]
  },
  {
   "cell_type": "markdown",
   "metadata": {},
   "source": [
    "### tau21"
   ]
  },
  {
   "cell_type": "code",
   "execution_count": 27,
   "metadata": {},
   "outputs": [
    {
     "data": {
      "image/png": "[encoded data removed]",
      "text/plain": [
       "<Figure size 432x360 with 1 Axes>"
      ]
     },
     "metadata": {
      "needs_background": "light"
     },
     "output_type": "display_data"
    }
   ],
   "source": [
    "plt.figure(figsize=(6,5))\n",
    "bins = np.linspace(0,1,31)\n",
    "hist0 = plt.hist(test_dataset_0['tau21'], bins=bins, label=label_0, **plot_style_0)\n",
    "hist1 = plt.hist(test_dataset_1['tau21'], bins=bins, label=label_1, **plot_style_1)\n",
    "hist2 = plt.hist(test_dataset_1['tau21'], bins=bins, label=label_1 +' wgt.',  weights= weights_1, **plot_style_1)\n",
    "\n",
    "plt.xlabel('tau21')\n",
    "plt.ylabel('Jets per bin (normalized)')\n",
    "make_legend()\n",
    "plt.show()"
   ]
  },
  {
   "cell_type": "markdown",
   "metadata": {},
   "source": [
    "## ECF"
   ]
  },
  {
   "cell_type": "markdown",
   "metadata": {},
   "source": [
    "### N=3, $\\beta$=4"
   ]
  },
  {
   "cell_type": "code",
   "execution_count": 29,
   "metadata": {},
   "outputs": [
    {
     "name": "stderr",
     "output_type": "stream",
     "text": [
      "/home/aandreassen/.local/lib/python3.5/site-packages/ipykernel_launcher.py:3: RuntimeWarning: divide by zero encountered in log\n",
      "  This is separate from the ipykernel package so we can avoid doing imports until\n",
      "/home/aandreassen/.local/lib/python3.5/site-packages/ipykernel_launcher.py:4: RuntimeWarning: divide by zero encountered in log\n",
      "  after removing the cwd from sys.path.\n",
      "/home/aandreassen/.local/lib/python3.5/site-packages/ipykernel_launcher.py:5: RuntimeWarning: divide by zero encountered in log\n",
      "  \"\"\"\n"
     ]
    },
    {
     "data": {
      "image/png": "[encoded data removed]",
      "text/plain": [
       "<Figure size 432x360 with 1 Axes>"
      ]
     },
     "metadata": {
      "needs_background": "light"
     },
     "output_type": "display_data"
    }
   ],
   "source": [
    "plt.figure(figsize=(6,5))\n",
    "bins = np.linspace(-15,5,31)\n",
    "hist1 = plt.hist(np.log(test_dataset_0['ECF_N3_B4']), bins=bins, label=label_0, **plot_style_0)\n",
    "hist2 = plt.hist(np.log(test_dataset_1['ECF_N3_B4']), bins=bins, label=label_1, **plot_style_1)\n",
    "hist3 = plt.hist(np.log(test_dataset_1['ECF_N3_B4']), bins=bins, label=label_1 +' wgt.',  weights= weights_1, **plot_style_1)\n",
    "\n",
    "plt.xlabel('log ECF(N=3, beta=4)')\n",
    "plt.ylabel('Jets per bin (normalized)')\n",
    "make_legend()\n",
    "plt.show()"
   ]
  },
  {
   "cell_type": "markdown",
   "metadata": {},
   "source": [
    "### N=4, $\\beta$=4"
   ]
  },
  {
   "cell_type": "code",
   "execution_count": 30,
   "metadata": {},
   "outputs": [
    {
     "name": "stderr",
     "output_type": "stream",
     "text": [
      "/home/aandreassen/.local/lib/python3.5/site-packages/ipykernel_launcher.py:3: RuntimeWarning: divide by zero encountered in log\n",
      "  This is separate from the ipykernel package so we can avoid doing imports until\n",
      "/home/aandreassen/.local/lib/python3.5/site-packages/ipykernel_launcher.py:4: RuntimeWarning: divide by zero encountered in log\n",
      "  after removing the cwd from sys.path.\n",
      "/home/aandreassen/.local/lib/python3.5/site-packages/ipykernel_launcher.py:5: RuntimeWarning: divide by zero encountered in log\n",
      "  \"\"\"\n"
     ]
    },
    {
     "data": {
      "image/png": "[encoded data removed]",
      "text/plain": [
       "<Figure size 432x360 with 1 Axes>"
      ]
     },
     "metadata": {
      "needs_background": "light"
     },
     "output_type": "display_data"
    }
   ],
   "source": [
    "plt.figure(figsize=(6,5))\n",
    "bins = np.linspace(-35,5,31)\n",
    "hist1 = plt.hist(np.log(test_dataset_0['ECF_N4_B4']), bins=bins, label=label_0, **plot_style_0)\n",
    "hist2 = plt.hist(np.log(test_dataset_1['ECF_N4_B4']), bins=bins, label=label_1, **plot_style_1)\n",
    "hist3 = plt.hist(np.log(test_dataset_1['ECF_N4_B4']), bins=bins, label=label_1 +' wgt.',  weights= weights_1, **plot_style_1)\n",
    "\n",
    "plt.xlabel('log ECF(N=4, beta=4)')\n",
    "plt.ylabel('Jets per bin (normalized)')\n",
    "make_legend()\n",
    "plt.show()"
   ]
  },
  {
   "cell_type": "markdown",
   "metadata": {},
   "source": [
    "# Fitting"
   ]
  },
  {
   "cell_type": "markdown",
   "metadata": {},
   "source": [
    "## Parameter-Finder Model"
   ]
  },
  {
   "cell_type": "code",
   "execution_count": 29,
   "metadata": {},
   "outputs": [],
   "source": [
    "def model_parameter_finder(model_interpolate, X_dim, n_params, default_params, trainable_params):\n",
    "    \"\"\" \n",
    "    Get a model that trains on the input parameters\n",
    "    \n",
    "    Arguments:\n",
    "    - model_interpolate : a PFN model that has been trained to continuously interpolate over the input parameter dimensions\n",
    "    - X_dim : (int) - the dimension of the input expected by DCTR_model\n",
    "    - n_params : (int) - the number of n_params that are in X_dim\n",
    "    - default_params : (list of floats) - default values for each of the parameters\n",
    "    - trainable_params : (list of booleans) - True for parameters that you want to fit, false for parameters that should be fixed at default value\n",
    "\n",
    "    Returns:\n",
    "    - model_parameter_finder: a compiled model that gradient descends only on the trainable parameters\n",
    "    \"\"\"\n",
    "    \n",
    "    # Do sanity checks on inputs\n",
    "    assert X_dim >=n_params, \"X_dim must be larger than n_params. X_dim includes the dimensionality of the 4-vector + number of parameters\"\n",
    "    assert n_params == len(default_params), \"Dimension mismatch between n_params and number of default parameters given. len(default_params) must equal n_params\"\n",
    "    assert n_params == len(trainable_params), \"Dimension mismatch between n_params and trainable_params. len(trainable_params) must equal n_params.\"\n",
    "    assert np.any(trainable_params), \"All parameters are set to non-trainable.\"\n",
    "    \n",
    "    # Convert input parameters to weights and make then trainable or non-trainable\n",
    "    p_models = []\n",
    "    for i in range(n_params):\n",
    "        p_models.append(Dense(1, use_bias=False, kernel_initializer=Constant(default_params[i]), trainable=trainable_params[i], name='tuning_param_{}'.format(i)))\n",
    "\n",
    "    parameter_inputs = keras.Input(shape=(None, 4), name='mp_input')\n",
    "    # parameter_models =  keras.layers.concatenate([p_models[0](parameter_inputs), p_models[1](parameter_inputs), p_models[2](parameter_inputs)])\n",
    "    # model_parameters = keras.Model(inputs = parameter_inputs, outputs = parameter_models)\n",
    "    ones = tf.ones_like(parameter_inputs[:,:,0:1])\n",
    "    full_input =  keras.layers.concatenate([parameter_inputs, p_models[0](ones), p_models[1](ones), p_models[2](ones)])\n",
    "    model_inputs = keras.Model(inputs = parameter_inputs, outputs = full_input)\n",
    "\n",
    "    # Set all weights in interpolation_model to non-trainable\n",
    "    for l in model_interpolate.layers: \n",
    "        l.trainable = False\n",
    "\n",
    "    # Define input to DCTR_fit_model\n",
    "    raw_inputs = keras.Input(shape=(None, X_dim - n_params), name='pf_input')\n",
    "    inputs = model_inputs(raw_inputs)\n",
    "    output = model_interpolate.model(inputs)\n",
    "\n",
    "    # Define full model\n",
    "    model_parameter_finder = keras.Model(inputs = raw_inputs, outputs = output, name='pf_output')\n",
    "    optimizer = keras.optimizers.Adam(learning_rate=1e-4)\n",
    "    loss = keras.losses.CategoricalCrossentropy()\n",
    "\n",
    "    # Compile with loss function\n",
    "    model_parameter_finder.compile(optimizer=optimizer, loss=loss)\n",
    "    \n",
    "    return model_parameter_finder"
   ]
  },
  {
   "cell_type": "code",
   "execution_count": 30,
   "metadata": {},
   "outputs": [],
   "source": [
    "def set_params(model_parameter_finder, params, param_layer=1):\n",
    "    alphaS, aLund, StoUD = params\n",
    "    weights = [np.array([[alphaS]], dtype=np.float32), np.array([[aLund]], dtype=np.float32), np.array([[StoUD]], dtype=np.float32)]\n",
    "    model_parameter_finder.layers[param_layer].set_weights(weights)\n",
    "    # print(model_parameter_finder.layers[param_layer].get_weights())\n",
    "    \n",
    "def get_loss(X, Y, model_parameter_finder, params, batch_size=1000, param_layer=1):\n",
    "    set_params(model_parameter_finder, params, param_layer)\n",
    "    return model_parameter_finder.evaluate(x=X, y=Y, batch_size=batch_size)"
   ]
  },
  {
   "cell_type": "code",
   "execution_count": 31,
   "metadata": {},
   "outputs": [],
   "source": [
    "model_pf = model_parameter_finder(model_interpolate, X_dim =7, n_params = 3, \n",
    "                                    default_params   = [0.1365, 0.68, 0.217], # default params for [alpha_s, aLund, StoUD]\n",
    "                                    trainable_params = [False, True, False]) # Only train alpha_s"
   ]
  },
  {
   "cell_type": "code",
   "execution_count": 34,
   "metadata": {},
   "outputs": [
    {
     "name": "stdout",
     "output_type": "stream",
     "text": [
      "Model: \"pf_output\"\n",
      "_________________________________________________________________\n",
      " Layer (type)                Output Shape              Param #   \n",
      "=================================================================\n",
      " pf_input (InputLayer)       [(None, None, 4)]         0         \n",
      "                                                                 \n",
      " model_4 (Functional)        (None, None, 7)           3         \n",
      "                                                                 \n",
      " model_2 (Functional)        (None, 2)                 57130     \n",
      "                                                                 \n",
      "=================================================================\n",
      "Total params: 57,133\n",
      "Trainable params: 1\n",
      "Non-trainable params: 57,132\n",
      "_________________________________________________________________\n"
     ]
    }
   ],
   "source": [
    "model_pf = model_parameter_finder(model_interpolate, X_dim =7, n_params = 3, \n",
    "                               default_params   = [0.1365, 0.68, 0.217], # default params for [alpha_s, aLund, StoUD]\n",
    "                               trainable_params = [False, True, False]) # Only train aLund\n",
    "\n",
    "model_pf.summary()"
   ]
  },
  {
   "cell_type": "code",
   "execution_count": 36,
   "metadata": {},
   "outputs": [
    {
     "name": "stdout",
     "output_type": "stream",
     "text": [
      "[<tf.Variable 'tuning_param_1/kernel:0' shape=(1, 1) dtype=float32, numpy=array([[0.68]], dtype=float32)>]\n"
     ]
    },
    {
     "data": {
      "image/png": "[encoded data removed]",
      "text/plain": [
       "<IPython.core.display.Image object>"
      ]
     },
     "execution_count": 36,
     "metadata": {},
     "output_type": "execute_result"
    }
   ],
   "source": [
    "print(model_pf.trainable_weights)\n",
    "keras.utils.plot_model(model_pf, \"my_second_model_with_shape_info.png\", show_shapes=True)"
   ]
  },
  {
   "cell_type": "markdown",
   "metadata": {},
   "source": [
    "## Load Data"
   ]
  },
  {
   "cell_type": "code",
   "execution_count": 38,
   "metadata": {},
   "outputs": [],
   "source": [
    "default_dataset = np.load(data_dir + 'test1D_default.npz')\n",
    "unknown_dataset = np.load(data_dir + 'test1D_aLund.npz')"
   ]
  },
  {
   "cell_type": "code",
   "execution_count": 67,
   "metadata": {},
   "outputs": [],
   "source": [
    "X_default = preprocess_data(default_dataset['jet'][:,:,:4])\n",
    "X_unknown = preprocess_data(unknown_dataset['jet'][:,:,:4])\n",
    "Y_default = np.zeros_like(X_unknown[:,0,0])\n",
    "Y_unknown = np.ones_like(X_unknown[:,0,0])"
   ]
  },
  {
   "cell_type": "code",
   "execution_count": 68,
   "metadata": {},
   "outputs": [],
   "source": [
    "X_fit = np.concatenate((X_default, X_unknown), axis = 0)\n",
    "Y_fit = np.concatenate((Y_default, Y_unknown), axis = 0)\n",
    "Y_fit = to_categorical(Y_fit, num_classes=2)"
   ]
  },
  {
   "cell_type": "code",
   "execution_count": 69,
   "metadata": {},
   "outputs": [],
   "source": [
    "X_fit, _, Y_fit, _ = data_split(X_fit, Y_fit, test=0, shuffle=True)"
   ]
  },
  {
   "cell_type": "markdown",
   "metadata": {},
   "source": [
    "## Evaluate Loss as a function of MC parameter"
   ]
  },
  {
   "cell_type": "code",
   "execution_count": 70,
   "metadata": {},
   "outputs": [],
   "source": [
    "n = 2000\n",
    "X_f=X_fit[0:n]"
   ]
  },
  {
   "cell_type": "code",
   "execution_count": 71,
   "metadata": {},
   "outputs": [],
   "source": [
    "a1 = [0.1365,0.6,0.217] * tf.ones((n, 51, 3))\n",
    "a2 = [0.1365,0.7,0.217] * tf.ones((n, 51, 3))\n",
    "a3 = [0.1365,0.8,0.217] * tf.ones((n, 51, 3))\n",
    "a4 = [0.1365,0.9,0.217] * tf.ones((n, 51, 3))\n",
    "b1 = tf.concat([X_f, a1], axis=-1)\n",
    "b2 = tf.concat([X_f, a2], axis=-1)\n",
    "b3 = tf.concat([X_f, a3], axis=-1)\n",
    "b4 = tf.concat([X_f, a4], axis=-1)\n",
    "preds1 = model_interpolate.model(b1[0:n])\n",
    "preds2 = model_interpolate.model(b2[0:n])\n",
    "preds3 = model_interpolate.model(b3[0:n])\n",
    "preds4 = model_interpolate.model(b4[0:n])\n",
    "loss = keras.losses.CategoricalCrossentropy()"
   ]
  },
  {
   "cell_type": "code",
   "execution_count": 72,
   "metadata": {},
   "outputs": [
    {
     "name": "stdout",
     "output_type": "stream",
     "text": [
      "tf.Tensor(0.6983611, shape=(), dtype=float32)\n",
      "tf.Tensor(0.69305253, shape=(), dtype=float32)\n",
      "tf.Tensor(0.69384307, shape=(), dtype=float32)\n",
      "tf.Tensor(0.6954549, shape=(), dtype=float32)\n"
     ]
    }
   ],
   "source": [
    "print(loss(Y_fit[0:n], preds1))\n",
    "print(loss(Y_fit[0:n], preds2))\n",
    "print(loss(Y_fit[0:n], preds3))\n",
    "print(loss(Y_fit[0:n], preds4))"
   ]
  },
  {
   "cell_type": "code",
   "execution_count": 73,
   "metadata": {},
   "outputs": [
    {
     "name": "stdout",
     "output_type": "stream",
     "text": [
      " 352/1800 [====>.........................] - ETA: 27s - loss: 0.6967"
     ]
    },
    {
     "ename": "KeyboardInterrupt",
     "evalue": "",
     "output_type": "error",
     "traceback": [
      "\u001b[0;31m---------------------------------------------------------------------------\u001b[0m",
      "\u001b[0;31mKeyboardInterrupt\u001b[0m                         Traceback (most recent call last)",
      "Cell \u001b[0;32mIn[73], line 1\u001b[0m\n\u001b[0;32m----> 1\u001b[0m \u001b[38;5;28mprint\u001b[39m(\u001b[43mget_loss\u001b[49m\u001b[43m(\u001b[49m\u001b[43mX_fit\u001b[49m\u001b[43m,\u001b[49m\u001b[43m \u001b[49m\u001b[43mY_fit\u001b[49m\u001b[43m,\u001b[49m\u001b[43m \u001b[49m\u001b[43mmodel_pf\u001b[49m\u001b[43m,\u001b[49m\u001b[43m \u001b[49m\u001b[43m[\u001b[49m\u001b[38;5;241;43m0.1365\u001b[39;49m\u001b[43m,\u001b[49m\u001b[43m \u001b[49m\u001b[38;5;241;43m0.6\u001b[39;49m\u001b[43m,\u001b[49m\u001b[43m \u001b[49m\u001b[38;5;241;43m0.217\u001b[39;49m\u001b[43m]\u001b[49m\u001b[43m)\u001b[49m)\n\u001b[1;32m      2\u001b[0m \u001b[38;5;28mprint\u001b[39m(get_loss(X_fit, Y_fit, model_pf, [\u001b[38;5;241m0.1365\u001b[39m, \u001b[38;5;241m0.7\u001b[39m, \u001b[38;5;241m0.217\u001b[39m]))\n\u001b[1;32m      3\u001b[0m \u001b[38;5;28mprint\u001b[39m(get_loss(X_fit, Y_fit, model_pf, [\u001b[38;5;241m0.1365\u001b[39m, \u001b[38;5;241m0.8\u001b[39m, \u001b[38;5;241m0.217\u001b[39m]))\n",
      "Cell \u001b[0;32mIn[30], line 9\u001b[0m, in \u001b[0;36mget_loss\u001b[0;34m(X, Y, model_parameter_finder, params, batch_size, param_layer)\u001b[0m\n\u001b[1;32m      7\u001b[0m \u001b[38;5;28;01mdef\u001b[39;00m \u001b[38;5;21mget_loss\u001b[39m(X, Y, model_parameter_finder, params, batch_size\u001b[38;5;241m=\u001b[39m\u001b[38;5;241m1000\u001b[39m, param_layer\u001b[38;5;241m=\u001b[39m\u001b[38;5;241m1\u001b[39m):\n\u001b[1;32m      8\u001b[0m     set_params(model_parameter_finder, params, param_layer)\n\u001b[0;32m----> 9\u001b[0m     \u001b[38;5;28;01mreturn\u001b[39;00m \u001b[43mmodel_parameter_finder\u001b[49m\u001b[38;5;241;43m.\u001b[39;49m\u001b[43mevaluate\u001b[49m\u001b[43m(\u001b[49m\u001b[43mx\u001b[49m\u001b[38;5;241;43m=\u001b[39;49m\u001b[43mX\u001b[49m\u001b[43m,\u001b[49m\u001b[43m \u001b[49m\u001b[43my\u001b[49m\u001b[38;5;241;43m=\u001b[39;49m\u001b[43mY\u001b[49m\u001b[43m,\u001b[49m\u001b[43m \u001b[49m\u001b[43mbatch_size\u001b[49m\u001b[38;5;241;43m=\u001b[39;49m\u001b[43mbatch_size\u001b[49m\u001b[43m)\u001b[49m\n",
      "File \u001b[0;32m/opt/anaconda3/envs/pc/lib/python3.10/site-packages/keras/utils/traceback_utils.py:65\u001b[0m, in \u001b[0;36mfilter_traceback.<locals>.error_handler\u001b[0;34m(*args, **kwargs)\u001b[0m\n\u001b[1;32m     63\u001b[0m filtered_tb \u001b[38;5;241m=\u001b[39m \u001b[38;5;28;01mNone\u001b[39;00m\n\u001b[1;32m     64\u001b[0m \u001b[38;5;28;01mtry\u001b[39;00m:\n\u001b[0;32m---> 65\u001b[0m     \u001b[38;5;28;01mreturn\u001b[39;00m \u001b[43mfn\u001b[49m\u001b[43m(\u001b[49m\u001b[38;5;241;43m*\u001b[39;49m\u001b[43margs\u001b[49m\u001b[43m,\u001b[49m\u001b[43m \u001b[49m\u001b[38;5;241;43m*\u001b[39;49m\u001b[38;5;241;43m*\u001b[39;49m\u001b[43mkwargs\u001b[49m\u001b[43m)\u001b[49m\n\u001b[1;32m     66\u001b[0m \u001b[38;5;28;01mexcept\u001b[39;00m \u001b[38;5;167;01mException\u001b[39;00m \u001b[38;5;28;01mas\u001b[39;00m e:\n\u001b[1;32m     67\u001b[0m     filtered_tb \u001b[38;5;241m=\u001b[39m _process_traceback_frames(e\u001b[38;5;241m.\u001b[39m__traceback__)\n",
      "File \u001b[0;32m/opt/anaconda3/envs/pc/lib/python3.10/site-packages/keras/engine/training.py:1947\u001b[0m, in \u001b[0;36mModel.evaluate\u001b[0;34m(self, x, y, batch_size, verbose, sample_weight, steps, callbacks, max_queue_size, workers, use_multiprocessing, return_dict, **kwargs)\u001b[0m\n\u001b[1;32m   1943\u001b[0m \u001b[38;5;28;01mwith\u001b[39;00m tf\u001b[38;5;241m.\u001b[39mprofiler\u001b[38;5;241m.\u001b[39mexperimental\u001b[38;5;241m.\u001b[39mTrace(\n\u001b[1;32m   1944\u001b[0m     \u001b[38;5;124m\"\u001b[39m\u001b[38;5;124mtest\u001b[39m\u001b[38;5;124m\"\u001b[39m, step_num\u001b[38;5;241m=\u001b[39mstep, _r\u001b[38;5;241m=\u001b[39m\u001b[38;5;241m1\u001b[39m\n\u001b[1;32m   1945\u001b[0m ):\n\u001b[1;32m   1946\u001b[0m     callbacks\u001b[38;5;241m.\u001b[39mon_test_batch_begin(step)\n\u001b[0;32m-> 1947\u001b[0m     tmp_logs \u001b[38;5;241m=\u001b[39m \u001b[38;5;28;43mself\u001b[39;49m\u001b[38;5;241;43m.\u001b[39;49m\u001b[43mtest_function\u001b[49m\u001b[43m(\u001b[49m\u001b[43miterator\u001b[49m\u001b[43m)\u001b[49m\n\u001b[1;32m   1948\u001b[0m     \u001b[38;5;28;01mif\u001b[39;00m data_handler\u001b[38;5;241m.\u001b[39mshould_sync:\n\u001b[1;32m   1949\u001b[0m         context\u001b[38;5;241m.\u001b[39masync_wait()\n",
      "File \u001b[0;32m/opt/anaconda3/envs/pc/lib/python3.10/site-packages/tensorflow/python/util/traceback_utils.py:150\u001b[0m, in \u001b[0;36mfilter_traceback.<locals>.error_handler\u001b[0;34m(*args, **kwargs)\u001b[0m\n\u001b[1;32m    148\u001b[0m filtered_tb \u001b[38;5;241m=\u001b[39m \u001b[38;5;28;01mNone\u001b[39;00m\n\u001b[1;32m    149\u001b[0m \u001b[38;5;28;01mtry\u001b[39;00m:\n\u001b[0;32m--> 150\u001b[0m   \u001b[38;5;28;01mreturn\u001b[39;00m \u001b[43mfn\u001b[49m\u001b[43m(\u001b[49m\u001b[38;5;241;43m*\u001b[39;49m\u001b[43margs\u001b[49m\u001b[43m,\u001b[49m\u001b[43m \u001b[49m\u001b[38;5;241;43m*\u001b[39;49m\u001b[38;5;241;43m*\u001b[39;49m\u001b[43mkwargs\u001b[49m\u001b[43m)\u001b[49m\n\u001b[1;32m    151\u001b[0m \u001b[38;5;28;01mexcept\u001b[39;00m \u001b[38;5;167;01mException\u001b[39;00m \u001b[38;5;28;01mas\u001b[39;00m e:\n\u001b[1;32m    152\u001b[0m   filtered_tb \u001b[38;5;241m=\u001b[39m _process_traceback_frames(e\u001b[38;5;241m.\u001b[39m__traceback__)\n",
      "File \u001b[0;32m/opt/anaconda3/envs/pc/lib/python3.10/site-packages/tensorflow/python/eager/def_function.py:915\u001b[0m, in \u001b[0;36mFunction.__call__\u001b[0;34m(self, *args, **kwds)\u001b[0m\n\u001b[1;32m    912\u001b[0m compiler \u001b[38;5;241m=\u001b[39m \u001b[38;5;124m\"\u001b[39m\u001b[38;5;124mxla\u001b[39m\u001b[38;5;124m\"\u001b[39m \u001b[38;5;28;01mif\u001b[39;00m \u001b[38;5;28mself\u001b[39m\u001b[38;5;241m.\u001b[39m_jit_compile \u001b[38;5;28;01melse\u001b[39;00m \u001b[38;5;124m\"\u001b[39m\u001b[38;5;124mnonXla\u001b[39m\u001b[38;5;124m\"\u001b[39m\n\u001b[1;32m    914\u001b[0m \u001b[38;5;28;01mwith\u001b[39;00m OptionalXlaContext(\u001b[38;5;28mself\u001b[39m\u001b[38;5;241m.\u001b[39m_jit_compile):\n\u001b[0;32m--> 915\u001b[0m   result \u001b[38;5;241m=\u001b[39m \u001b[38;5;28;43mself\u001b[39;49m\u001b[38;5;241;43m.\u001b[39;49m\u001b[43m_call\u001b[49m\u001b[43m(\u001b[49m\u001b[38;5;241;43m*\u001b[39;49m\u001b[43margs\u001b[49m\u001b[43m,\u001b[49m\u001b[43m \u001b[49m\u001b[38;5;241;43m*\u001b[39;49m\u001b[38;5;241;43m*\u001b[39;49m\u001b[43mkwds\u001b[49m\u001b[43m)\u001b[49m\n\u001b[1;32m    917\u001b[0m new_tracing_count \u001b[38;5;241m=\u001b[39m \u001b[38;5;28mself\u001b[39m\u001b[38;5;241m.\u001b[39mexperimental_get_tracing_count()\n\u001b[1;32m    918\u001b[0m without_tracing \u001b[38;5;241m=\u001b[39m (tracing_count \u001b[38;5;241m==\u001b[39m new_tracing_count)\n",
      "File \u001b[0;32m/opt/anaconda3/envs/pc/lib/python3.10/site-packages/tensorflow/python/eager/def_function.py:954\u001b[0m, in \u001b[0;36mFunction._call\u001b[0;34m(self, *args, **kwds)\u001b[0m\n\u001b[1;32m    951\u001b[0m \u001b[38;5;28mself\u001b[39m\u001b[38;5;241m.\u001b[39m_lock\u001b[38;5;241m.\u001b[39mrelease()\n\u001b[1;32m    952\u001b[0m \u001b[38;5;66;03m# In this case we have not created variables on the first call. So we can\u001b[39;00m\n\u001b[1;32m    953\u001b[0m \u001b[38;5;66;03m# run the first trace but we should fail if variables are created.\u001b[39;00m\n\u001b[0;32m--> 954\u001b[0m results \u001b[38;5;241m=\u001b[39m \u001b[38;5;28;43mself\u001b[39;49m\u001b[38;5;241;43m.\u001b[39;49m\u001b[43m_stateful_fn\u001b[49m\u001b[43m(\u001b[49m\u001b[38;5;241;43m*\u001b[39;49m\u001b[43margs\u001b[49m\u001b[43m,\u001b[49m\u001b[43m \u001b[49m\u001b[38;5;241;43m*\u001b[39;49m\u001b[38;5;241;43m*\u001b[39;49m\u001b[43mkwds\u001b[49m\u001b[43m)\u001b[49m\n\u001b[1;32m    955\u001b[0m \u001b[38;5;28;01mif\u001b[39;00m \u001b[38;5;28mself\u001b[39m\u001b[38;5;241m.\u001b[39m_created_variables \u001b[38;5;129;01mand\u001b[39;00m \u001b[38;5;129;01mnot\u001b[39;00m ALLOW_DYNAMIC_VARIABLE_CREATION:\n\u001b[1;32m    956\u001b[0m   \u001b[38;5;28;01mraise\u001b[39;00m \u001b[38;5;167;01mValueError\u001b[39;00m(\u001b[38;5;124m\"\u001b[39m\u001b[38;5;124mCreating variables on a non-first call to a function\u001b[39m\u001b[38;5;124m\"\u001b[39m\n\u001b[1;32m    957\u001b[0m                    \u001b[38;5;124m\"\u001b[39m\u001b[38;5;124m decorated with tf.function.\u001b[39m\u001b[38;5;124m\"\u001b[39m)\n",
      "File \u001b[0;32m/opt/anaconda3/envs/pc/lib/python3.10/site-packages/tensorflow/python/eager/function.py:2496\u001b[0m, in \u001b[0;36mFunction.__call__\u001b[0;34m(self, *args, **kwargs)\u001b[0m\n\u001b[1;32m   2493\u001b[0m \u001b[38;5;28;01mwith\u001b[39;00m \u001b[38;5;28mself\u001b[39m\u001b[38;5;241m.\u001b[39m_lock:\n\u001b[1;32m   2494\u001b[0m   (graph_function,\n\u001b[1;32m   2495\u001b[0m    filtered_flat_args) \u001b[38;5;241m=\u001b[39m \u001b[38;5;28mself\u001b[39m\u001b[38;5;241m.\u001b[39m_maybe_define_function(args, kwargs)\n\u001b[0;32m-> 2496\u001b[0m \u001b[38;5;28;01mreturn\u001b[39;00m \u001b[43mgraph_function\u001b[49m\u001b[38;5;241;43m.\u001b[39;49m\u001b[43m_call_flat\u001b[49m\u001b[43m(\u001b[49m\n\u001b[1;32m   2497\u001b[0m \u001b[43m    \u001b[49m\u001b[43mfiltered_flat_args\u001b[49m\u001b[43m,\u001b[49m\u001b[43m \u001b[49m\u001b[43mcaptured_inputs\u001b[49m\u001b[38;5;241;43m=\u001b[39;49m\u001b[43mgraph_function\u001b[49m\u001b[38;5;241;43m.\u001b[39;49m\u001b[43mcaptured_inputs\u001b[49m\u001b[43m)\u001b[49m\n",
      "File \u001b[0;32m/opt/anaconda3/envs/pc/lib/python3.10/site-packages/tensorflow/python/eager/function.py:1862\u001b[0m, in \u001b[0;36mConcreteFunction._call_flat\u001b[0;34m(self, args, captured_inputs, cancellation_manager)\u001b[0m\n\u001b[1;32m   1858\u001b[0m possible_gradient_type \u001b[38;5;241m=\u001b[39m gradients_util\u001b[38;5;241m.\u001b[39mPossibleTapeGradientTypes(args)\n\u001b[1;32m   1859\u001b[0m \u001b[38;5;28;01mif\u001b[39;00m (possible_gradient_type \u001b[38;5;241m==\u001b[39m gradients_util\u001b[38;5;241m.\u001b[39mPOSSIBLE_GRADIENT_TYPES_NONE\n\u001b[1;32m   1860\u001b[0m     \u001b[38;5;129;01mand\u001b[39;00m executing_eagerly):\n\u001b[1;32m   1861\u001b[0m   \u001b[38;5;66;03m# No tape is watching; skip to running the function.\u001b[39;00m\n\u001b[0;32m-> 1862\u001b[0m   \u001b[38;5;28;01mreturn\u001b[39;00m \u001b[38;5;28mself\u001b[39m\u001b[38;5;241m.\u001b[39m_build_call_outputs(\u001b[38;5;28;43mself\u001b[39;49m\u001b[38;5;241;43m.\u001b[39;49m\u001b[43m_inference_function\u001b[49m\u001b[38;5;241;43m.\u001b[39;49m\u001b[43mcall\u001b[49m\u001b[43m(\u001b[49m\n\u001b[1;32m   1863\u001b[0m \u001b[43m      \u001b[49m\u001b[43mctx\u001b[49m\u001b[43m,\u001b[49m\u001b[43m \u001b[49m\u001b[43margs\u001b[49m\u001b[43m,\u001b[49m\u001b[43m \u001b[49m\u001b[43mcancellation_manager\u001b[49m\u001b[38;5;241;43m=\u001b[39;49m\u001b[43mcancellation_manager\u001b[49m\u001b[43m)\u001b[49m)\n\u001b[1;32m   1864\u001b[0m forward_backward \u001b[38;5;241m=\u001b[39m \u001b[38;5;28mself\u001b[39m\u001b[38;5;241m.\u001b[39m_select_forward_and_backward_functions(\n\u001b[1;32m   1865\u001b[0m     args,\n\u001b[1;32m   1866\u001b[0m     possible_gradient_type,\n\u001b[1;32m   1867\u001b[0m     executing_eagerly)\n\u001b[1;32m   1868\u001b[0m forward_function, args_with_tangents \u001b[38;5;241m=\u001b[39m forward_backward\u001b[38;5;241m.\u001b[39mforward()\n",
      "File \u001b[0;32m/opt/anaconda3/envs/pc/lib/python3.10/site-packages/tensorflow/python/eager/function.py:499\u001b[0m, in \u001b[0;36m_EagerDefinedFunction.call\u001b[0;34m(self, ctx, args, cancellation_manager)\u001b[0m\n\u001b[1;32m    497\u001b[0m \u001b[38;5;28;01mwith\u001b[39;00m _InterpolateFunctionError(\u001b[38;5;28mself\u001b[39m):\n\u001b[1;32m    498\u001b[0m   \u001b[38;5;28;01mif\u001b[39;00m cancellation_manager \u001b[38;5;129;01mis\u001b[39;00m \u001b[38;5;28;01mNone\u001b[39;00m:\n\u001b[0;32m--> 499\u001b[0m     outputs \u001b[38;5;241m=\u001b[39m \u001b[43mexecute\u001b[49m\u001b[38;5;241;43m.\u001b[39;49m\u001b[43mexecute\u001b[49m\u001b[43m(\u001b[49m\n\u001b[1;32m    500\u001b[0m \u001b[43m        \u001b[49m\u001b[38;5;28;43mstr\u001b[39;49m\u001b[43m(\u001b[49m\u001b[38;5;28;43mself\u001b[39;49m\u001b[38;5;241;43m.\u001b[39;49m\u001b[43msignature\u001b[49m\u001b[38;5;241;43m.\u001b[39;49m\u001b[43mname\u001b[49m\u001b[43m)\u001b[49m\u001b[43m,\u001b[49m\n\u001b[1;32m    501\u001b[0m \u001b[43m        \u001b[49m\u001b[43mnum_outputs\u001b[49m\u001b[38;5;241;43m=\u001b[39;49m\u001b[38;5;28;43mself\u001b[39;49m\u001b[38;5;241;43m.\u001b[39;49m\u001b[43m_num_outputs\u001b[49m\u001b[43m,\u001b[49m\n\u001b[1;32m    502\u001b[0m \u001b[43m        \u001b[49m\u001b[43minputs\u001b[49m\u001b[38;5;241;43m=\u001b[39;49m\u001b[43margs\u001b[49m\u001b[43m,\u001b[49m\n\u001b[1;32m    503\u001b[0m \u001b[43m        \u001b[49m\u001b[43mattrs\u001b[49m\u001b[38;5;241;43m=\u001b[39;49m\u001b[43mattrs\u001b[49m\u001b[43m,\u001b[49m\n\u001b[1;32m    504\u001b[0m \u001b[43m        \u001b[49m\u001b[43mctx\u001b[49m\u001b[38;5;241;43m=\u001b[39;49m\u001b[43mctx\u001b[49m\u001b[43m)\u001b[49m\n\u001b[1;32m    505\u001b[0m   \u001b[38;5;28;01melse\u001b[39;00m:\n\u001b[1;32m    506\u001b[0m     outputs \u001b[38;5;241m=\u001b[39m execute\u001b[38;5;241m.\u001b[39mexecute_with_cancellation(\n\u001b[1;32m    507\u001b[0m         \u001b[38;5;28mstr\u001b[39m(\u001b[38;5;28mself\u001b[39m\u001b[38;5;241m.\u001b[39msignature\u001b[38;5;241m.\u001b[39mname),\n\u001b[1;32m    508\u001b[0m         num_outputs\u001b[38;5;241m=\u001b[39m\u001b[38;5;28mself\u001b[39m\u001b[38;5;241m.\u001b[39m_num_outputs,\n\u001b[0;32m   (...)\u001b[0m\n\u001b[1;32m    511\u001b[0m         ctx\u001b[38;5;241m=\u001b[39mctx,\n\u001b[1;32m    512\u001b[0m         cancellation_manager\u001b[38;5;241m=\u001b[39mcancellation_manager)\n",
      "File \u001b[0;32m/opt/anaconda3/envs/pc/lib/python3.10/site-packages/tensorflow/python/eager/execute.py:54\u001b[0m, in \u001b[0;36mquick_execute\u001b[0;34m(op_name, num_outputs, inputs, attrs, ctx, name)\u001b[0m\n\u001b[1;32m     52\u001b[0m \u001b[38;5;28;01mtry\u001b[39;00m:\n\u001b[1;32m     53\u001b[0m   ctx\u001b[38;5;241m.\u001b[39mensure_initialized()\n\u001b[0;32m---> 54\u001b[0m   tensors \u001b[38;5;241m=\u001b[39m \u001b[43mpywrap_tfe\u001b[49m\u001b[38;5;241;43m.\u001b[39;49m\u001b[43mTFE_Py_Execute\u001b[49m\u001b[43m(\u001b[49m\u001b[43mctx\u001b[49m\u001b[38;5;241;43m.\u001b[39;49m\u001b[43m_handle\u001b[49m\u001b[43m,\u001b[49m\u001b[43m \u001b[49m\u001b[43mdevice_name\u001b[49m\u001b[43m,\u001b[49m\u001b[43m \u001b[49m\u001b[43mop_name\u001b[49m\u001b[43m,\u001b[49m\n\u001b[1;32m     55\u001b[0m \u001b[43m                                      \u001b[49m\u001b[43minputs\u001b[49m\u001b[43m,\u001b[49m\u001b[43m \u001b[49m\u001b[43mattrs\u001b[49m\u001b[43m,\u001b[49m\u001b[43m \u001b[49m\u001b[43mnum_outputs\u001b[49m\u001b[43m)\u001b[49m\n\u001b[1;32m     56\u001b[0m \u001b[38;5;28;01mexcept\u001b[39;00m core\u001b[38;5;241m.\u001b[39m_NotOkStatusException \u001b[38;5;28;01mas\u001b[39;00m e:\n\u001b[1;32m     57\u001b[0m   \u001b[38;5;28;01mif\u001b[39;00m name \u001b[38;5;129;01mis\u001b[39;00m \u001b[38;5;129;01mnot\u001b[39;00m \u001b[38;5;28;01mNone\u001b[39;00m:\n",
      "\u001b[0;31mKeyboardInterrupt\u001b[0m: "
     ]
    }
   ],
   "source": [
    "print(get_loss(X_fit, Y_fit, model_pf, [0.1365, 0.6, 0.217]))\n",
    "print(get_loss(X_fit, Y_fit, model_pf, [0.1365, 0.7, 0.217]))\n",
    "print(get_loss(X_fit, Y_fit, model_pf, [0.1365, 0.8, 0.217]))\n",
    "print(get_loss(X_fit, Y_fit, model_pf, [0.1365, 0.9, 0.217]))"
   ]
  },
  {
   "cell_type": "code",
   "execution_count": 79,
   "metadata": {},
   "outputs": [
    {
     "name": "stdout",
     "output_type": "stream",
     "text": [
      "1800/1800 [==============================] - 33s 18ms/step - loss: 0.6978\n",
      "1800/1800 [==============================] - 34s 19ms/step - loss: 0.6933\n",
      "1800/1800 [==============================] - 33s 18ms/step - loss: 0.6938\n",
      "1800/1800 [==============================] - 33s 19ms/step - loss: 0.6952\n",
      "1800/1800 [==============================] - 33s 18ms/step - loss: 0.6968\n"
     ]
    }
   ],
   "source": [
    "aLund_loss = np.array([(a, get_loss(X_fit, Y_fit, model_pf, [0.16, a, 0.217])) for a in np.linspace(0.6, 0.9, 5)])"
   ]
  },
  {
   "cell_type": "code",
   "execution_count": 80,
   "metadata": {},
   "outputs": [
    {
     "data": {
      "image/png": "[encoded data removed]",
      "text/plain": [
       "<Figure size 640x480 with 1 Axes>"
      ]
     },
     "metadata": {},
     "output_type": "display_data"
    }
   ],
   "source": [
    "plt.plot(*aLund_loss.T)\n",
    "plt.ylabel('Loss')\n",
    "plt.xlabel(r'aLund = 0.80')\n",
    "plt.tight_layout()\n",
    "plt.show()"
   ]
  },
  {
   "cell_type": "code",
   "execution_count": 62,
   "metadata": {},
   "outputs": [
    {
     "data": {
      "text/plain": [
       "array([0.675])"
      ]
     },
     "execution_count": 62,
     "metadata": {},
     "output_type": "execute_result"
    }
   ],
   "source": [
    "def get_min_loss(losses, x0):\n",
    "    f = sp.interpolate.interp1d(losses[:,0], losses[:,1], fill_value=\"extrapolate\")\n",
    "    return sp.optimize.minimize(f, x0=x0)['x']\n",
    "\n",
    "get_min_loss(aLund_loss, x0=0.68)"
   ]
  },
  {
   "cell_type": "markdown",
   "metadata": {},
   "source": [
    "## Tune with Gradient Descent"
   ]
  },
  {
   "cell_type": "code",
   "execution_count": 77,
   "metadata": {},
   "outputs": [
    {
     "data": {
      "text/plain": [
       "[array([[0.16]], dtype=float32),\n",
       " array([[0.9]], dtype=float32),\n",
       " array([[0.217]], dtype=float32)]"
      ]
     },
     "execution_count": 77,
     "metadata": {},
     "output_type": "execute_result"
    }
   ],
   "source": [
    "model_pf.layers[1].get_weights()"
   ]
  },
  {
   "cell_type": "code",
   "execution_count": 47,
   "metadata": {},
   "outputs": [],
   "source": [
    "set_MC_params(dctr_fit_model, [0.68, 0.1365, 0.217])"
   ]
  },
  {
   "cell_type": "code",
   "execution_count": 48,
   "metadata": {},
   "outputs": [],
   "source": [
    "print_weights = keras.callbacks.LambdaCallback(on_epoch_end=lambda batch, logs: print(\"aLund fit = \", \n",
    "                                               dctr_fit_model.get_weights()[0][0][0]))\n",
    "fit_vals = [0.68]\n",
    "append_weights = keras.callbacks.LambdaCallback(on_epoch_end=lambda batch, logs: \n",
    "                                               fit_vals.append(dctr_fit_model.get_weights()[0][0][0]))\n",
    "\n",
    "callbacks = [print_weights, append_weights]"
   ]
  },
  {
   "cell_type": "code",
   "execution_count": 49,
   "metadata": {
    "scrolled": true
   },
   "outputs": [
    {
     "name": "stdout",
     "output_type": "stream",
     "text": [
      "Epoch 1/40\n",
      "1800000/1800000 [==============================] - 9s 5us/step - loss: 0.6931\n",
      "aLund fit =  0.6959674\n",
      "Epoch 2/40\n",
      "1800000/1800000 [==============================] - 9s 5us/step - loss: 0.6930\n",
      "aLund fit =  0.7107291\n",
      "Epoch 3/40\n",
      "1800000/1800000 [==============================] - 9s 5us/step - loss: 0.6929\n",
      "aLund fit =  0.72412413\n",
      "Epoch 4/40\n",
      "1800000/1800000 [==============================] - 9s 5us/step - loss: 0.6929\n",
      "aLund fit =  0.73554707\n",
      "Epoch 5/40\n",
      "1800000/1800000 [==============================] - 9s 5us/step - loss: 0.6929\n",
      "aLund fit =  0.7451192\n",
      "Epoch 6/40\n",
      "1800000/1800000 [==============================] - 9s 5us/step - loss: 0.6928\n",
      "aLund fit =  0.75290346\n",
      "Epoch 7/40\n",
      "1800000/1800000 [==============================] - 9s 5us/step - loss: 0.6928\n",
      "aLund fit =  0.7596639\n",
      "Epoch 8/40\n",
      "1800000/1800000 [==============================] - 9s 5us/step - loss: 0.6928\n",
      "aLund fit =  0.7652607\n",
      "Epoch 9/40\n",
      "1800000/1800000 [==============================] - 9s 5us/step - loss: 0.6928\n",
      "aLund fit =  0.76974267\n",
      "Epoch 10/40\n",
      "1800000/1800000 [==============================] - 9s 5us/step - loss: 0.6928\n",
      "aLund fit =  0.77402544\n",
      "Epoch 11/40\n",
      "1800000/1800000 [==============================] - 9s 5us/step - loss: 0.6928\n",
      "aLund fit =  0.77784073\n",
      "Epoch 12/40\n",
      "1800000/1800000 [==============================] - 9s 5us/step - loss: 0.6928\n",
      "aLund fit =  0.78073466\n",
      "Epoch 13/40\n",
      "1800000/1800000 [==============================] - 9s 5us/step - loss: 0.6928\n",
      "aLund fit =  0.7834724\n",
      "Epoch 14/40\n",
      "1800000/1800000 [==============================] - 9s 5us/step - loss: 0.6928\n",
      "aLund fit =  0.7856001\n",
      "Epoch 15/40\n",
      "1800000/1800000 [==============================] - 9s 5us/step - loss: 0.6928\n",
      "aLund fit =  0.78745115\n",
      "Epoch 16/40\n",
      "1800000/1800000 [==============================] - 9s 5us/step - loss: 0.6928\n",
      "aLund fit =  0.7890055\n",
      "Epoch 17/40\n",
      "1800000/1800000 [==============================] - 9s 5us/step - loss: 0.6928\n",
      "aLund fit =  0.7903883\n",
      "Epoch 18/40\n",
      "1800000/1800000 [==============================] - 9s 5us/step - loss: 0.6928\n",
      "aLund fit =  0.7916601\n",
      "Epoch 19/40\n",
      "1800000/1800000 [==============================] - 9s 5us/step - loss: 0.6928\n",
      "aLund fit =  0.792474\n",
      "Epoch 20/40\n",
      "1800000/1800000 [==============================] - 9s 5us/step - loss: 0.6928\n",
      "aLund fit =  0.7932358\n",
      "Epoch 21/40\n",
      "1800000/1800000 [==============================] - 9s 5us/step - loss: 0.6928\n",
      "aLund fit =  0.79410714\n",
      "Epoch 22/40\n",
      "1800000/1800000 [==============================] - 9s 5us/step - loss: 0.6928\n",
      "aLund fit =  0.794799\n",
      "Epoch 23/40\n",
      "1800000/1800000 [==============================] - 9s 5us/step - loss: 0.6928\n",
      "aLund fit =  0.79502463\n",
      "Epoch 24/40\n",
      "1800000/1800000 [==============================] - 9s 5us/step - loss: 0.6928\n",
      "aLund fit =  0.7952435\n",
      "Epoch 25/40\n",
      "1800000/1800000 [==============================] - 9s 5us/step - loss: 0.6928\n",
      "aLund fit =  0.7958091\n",
      "Epoch 26/40\n",
      "1800000/1800000 [==============================] - 9s 5us/step - loss: 0.6928\n",
      "aLund fit =  0.79580736\n",
      "Epoch 27/40\n",
      "1800000/1800000 [==============================] - 9s 5us/step - loss: 0.6928\n",
      "aLund fit =  0.79606766\n",
      "Epoch 28/40\n",
      "1800000/1800000 [==============================] - 9s 5us/step - loss: 0.6928\n",
      "aLund fit =  0.79597944\n",
      "Epoch 29/40\n",
      "1800000/1800000 [==============================] - 9s 5us/step - loss: 0.6928\n",
      "aLund fit =  0.79619944\n",
      "Epoch 30/40\n",
      "1800000/1800000 [==============================] - 9s 5us/step - loss: 0.6928\n",
      "aLund fit =  0.79624766\n",
      "Epoch 31/40\n",
      "1800000/1800000 [==============================] - 9s 5us/step - loss: 0.6928\n",
      "aLund fit =  0.7963237\n",
      "Epoch 32/40\n",
      "1800000/1800000 [==============================] - 9s 5us/step - loss: 0.6928\n",
      "aLund fit =  0.7964973\n",
      "Epoch 33/40\n",
      "1800000/1800000 [==============================] - 9s 5us/step - loss: 0.6928\n",
      "aLund fit =  0.7965325\n",
      "Epoch 34/40\n",
      "1800000/1800000 [==============================] - 9s 5us/step - loss: 0.6928\n",
      "aLund fit =  0.7960713\n",
      "Epoch 35/40\n",
      "1800000/1800000 [==============================] - 9s 5us/step - loss: 0.6928\n",
      "aLund fit =  0.7965897\n",
      "Epoch 36/40\n",
      "1800000/1800000 [==============================] - 9s 5us/step - loss: 0.6928\n",
      "aLund fit =  0.79658186\n",
      "Epoch 37/40\n",
      "1800000/1800000 [==============================] - 9s 5us/step - loss: 0.6928\n",
      "aLund fit =  0.79634637\n",
      "Epoch 38/40\n",
      "1800000/1800000 [==============================] - 9s 5us/step - loss: 0.6928\n",
      "aLund fit =  0.79641724\n",
      "Epoch 39/40\n",
      "1800000/1800000 [==============================] - 9s 5us/step - loss: 0.6928\n",
      "aLund fit =  0.7964891\n",
      "Epoch 40/40\n",
      "1800000/1800000 [==============================] - 9s 5us/step - loss: 0.6928\n",
      "aLund fit =  0.7969113\n"
     ]
    },
    {
     "data": {
      "text/plain": [
       "<keras.callbacks.History at 0x7f12c4698b00>"
      ]
     },
     "execution_count": 49,
     "metadata": {},
     "output_type": "execute_result"
    }
   ],
   "source": [
    "dctr_fit_model.fit(X_fit, Y_fit,\n",
    "                   epochs=40, \n",
    "                   batch_size=10000,\n",
    "                   callbacks = callbacks)"
   ]
  },
  {
   "cell_type": "code",
   "execution_count": 50,
   "metadata": {},
   "outputs": [
    {
     "data": {
      "image/png": "[encoded data removed]",
      "text/plain": [
       "<Figure size 432x288 with 1 Axes>"
      ]
     },
     "metadata": {
      "needs_background": "light"
     },
     "output_type": "display_data"
    }
   ],
   "source": [
    "plt.plot(fit_vals, marker='o')\n",
    "plt.xlabel(\"Epochs\")\n",
    "plt.ylabel(r'aLund')\n",
    "plt.show()"
   ]
  },
  {
   "cell_type": "code",
   "execution_count": null,
   "metadata": {},
   "outputs": [],
   "source": []
  }
 ],
 "metadata": {
  "kernelspec": {
   "display_name": "Python 3 (ipykernel)",
   "language": "python",
   "name": "python3"
  },
  "language_info": {
   "codemirror_mode": {
    "name": "ipython",
    "version": 3
   },
   "file_extension": ".py",
   "mimetype": "text/x-python",
   "name": "python",
   "nbconvert_exporter": "python",
   "pygments_lexer": "ipython3",
   "version": "3.10.8"
  }
 },
 "nbformat": 4,
 "nbformat_minor": 4
}
