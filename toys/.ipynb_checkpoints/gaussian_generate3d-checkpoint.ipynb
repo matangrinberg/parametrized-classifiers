{
 "cells": [
  {
   "cell_type": "markdown",
   "id": "8d51229a",
   "metadata": {},
   "source": [
    "# Data prepration"
   ]
  },
  {
   "cell_type": "code",
   "execution_count": 1,
   "id": "5e250612",
   "metadata": {},
   "outputs": [
    {
     "name": "stderr",
     "output_type": "stream",
     "text": [
      "2022-08-22 13:23:24.297659: W tensorflow/stream_executor/platform/default/dso_loader.cc:64] Could not load dynamic library 'libcudart.so.11.0'; dlerror: libcudart.so.11.0: cannot open shared object file: No such file or directory\n",
      "2022-08-22 13:23:24.297715: I tensorflow/stream_executor/cuda/cudart_stub.cc:29] Ignore above cudart dlerror if you do not have a GPU set up on your machine.\n"
     ]
    }
   ],
   "source": [
    "import numpy as np\n",
    "import datetime\n",
    "import os\n",
    "import sklearn.metrics\n",
    "import matplotlib.pyplot as plt\n",
    "from sklearn.model_selection import train_test_split\n",
    "import tensorflow as tf\n",
    "from scipy.stats import chi\n",
    "from scipy import stats\n",
    "from functions import mean_gen, varx_gen, vary_gen, spherical_data, discrete_angles"
   ]
  },
  {
   "cell_type": "code",
   "execution_count": 2,
   "id": "f046b546",
   "metadata": {
    "scrolled": true
   },
   "outputs": [
    {
     "name": "stdout",
     "output_type": "stream",
     "text": [
      "[[ 0.3554867   0.58188832  6.02824407  2.01001591]\n",
      " [-0.52893511  0.76865303  4.96989645  1.7522671 ]\n",
      " [-0.14182714  0.44639446  1.96965008  2.25649864]\n",
      " ...\n",
      " [-0.81233133  0.15858867  4.7699055   2.50942657]\n",
      " [ 1.66389881  1.40568226  0.01363396  0.05113504]\n",
      " [-0.50813679 -1.64994621  0.00896637  0.58824073]]\n"
     ]
    }
   ],
   "source": [
    "n = 200000\n",
    "\n",
    "\n",
    "m_th = 50\n",
    "m_ph = 50\n",
    "thetas = discrete_angles(n, m_th, 2)\n",
    "phis = discrete_angles(n, m_ph, 1)\n",
    "name = ('discrete_model_mth%.0f_mph%.0f' %(m_th, m_ph))\n",
    "\n",
    "\n",
    "# angles = np.array([0, 0])\n",
    "# thetas, phis = angles[0] * np.ones(n), angles[1] * np.ones(n)\n",
    "# name = ('discrete_model_th%.0f_ph%.0f' %(angles[0], angles[1]))\n",
    "\n",
    "x_train, x_test, y_train, y_test = spherical_data(n, thetas, phis)\n",
    "\n",
    "print(x_train)"
   ]
  },
  {
   "cell_type": "markdown",
   "id": "36ca60de",
   "metadata": {
    "slideshow": {
     "slide_type": "slide"
    }
   },
   "source": [
    "# Training Interpolated Model"
   ]
  },
  {
   "cell_type": "code",
   "execution_count": 3,
   "id": "2c4829f7",
   "metadata": {},
   "outputs": [
    {
     "name": "stderr",
     "output_type": "stream",
     "text": [
      "2022-08-22 13:23:33.669336: W tensorflow/stream_executor/platform/default/dso_loader.cc:64] Could not load dynamic library 'libcuda.so.1'; dlerror: libcuda.so.1: cannot open shared object file: No such file or directory\n",
      "2022-08-22 13:23:33.669371: W tensorflow/stream_executor/cuda/cuda_driver.cc:269] failed call to cuInit: UNKNOWN ERROR (303)\n",
      "2022-08-22 13:23:33.669393: I tensorflow/stream_executor/cuda/cuda_diagnostics.cc:156] kernel driver does not appear to be running on this host (jupyter-matan): /proc/driver/nvidia/version does not exist\n",
      "2022-08-22 13:23:33.669729: I tensorflow/core/platform/cpu_feature_guard.cc:142] This TensorFlow binary is optimized with oneAPI Deep Neural Network Library (oneDNN) to use the following CPU instructions in performance-critical operations:  AVX2 FMA\n",
      "To enable them in other operations, rebuild TensorFlow with the appropriate compiler flags.\n",
      "2022-08-22 13:23:33.688341: I tensorflow/core/profiler/lib/profiler_session.cc:131] Profiler session initializing.\n",
      "2022-08-22 13:23:33.688382: I tensorflow/core/profiler/lib/profiler_session.cc:146] Profiler session started.\n",
      "2022-08-22 13:23:33.691811: I tensorflow/core/profiler/lib/profiler_session.cc:164] Profiler session tear down.\n",
      "2022-08-22 13:23:33.964855: I tensorflow/compiler/mlir/mlir_graph_optimization_pass.cc:185] None of the MLIR Optimization Passes are enabled (registered 2)\n"
     ]
    },
    {
     "name": "stdout",
     "output_type": "stream",
     "text": [
      "Epoch 1/30\n",
      " 3/64 [>.............................] - ETA: 5s - loss: 0.6981 - accuracy: 0.5047 "
     ]
    },
    {
     "name": "stderr",
     "output_type": "stream",
     "text": [
      "2022-08-22 13:23:34.558996: I tensorflow/core/profiler/lib/profiler_session.cc:131] Profiler session initializing.\n",
      "2022-08-22 13:23:34.559033: I tensorflow/core/profiler/lib/profiler_session.cc:146] Profiler session started.\n",
      "2022-08-22 13:23:34.589348: I tensorflow/core/profiler/lib/profiler_session.cc:66] Profiler session collecting data.\n",
      "2022-08-22 13:23:34.595870: I tensorflow/core/profiler/lib/profiler_session.cc:164] Profiler session tear down.\n",
      "2022-08-22 13:23:34.627656: I tensorflow/core/profiler/rpc/client/save_profile.cc:136] Creating directory: tutorial/logs/20220822-132333/train/plugins/profile/2022_08_22_13_23_34\n",
      "\n",
      "2022-08-22 13:23:34.634989: I tensorflow/core/profiler/rpc/client/save_profile.cc:142] Dumped gzipped tool data for trace.json.gz to tutorial/logs/20220822-132333/train/plugins/profile/2022_08_22_13_23_34/jupyter-matan.trace.json.gz\n",
      "2022-08-22 13:23:34.653094: I tensorflow/core/profiler/rpc/client/save_profile.cc:136] Creating directory: tutorial/logs/20220822-132333/train/plugins/profile/2022_08_22_13_23_34\n",
      "\n",
      "2022-08-22 13:23:34.658108: I tensorflow/core/profiler/rpc/client/save_profile.cc:142] Dumped gzipped tool data for memory_profile.json.gz to tutorial/logs/20220822-132333/train/plugins/profile/2022_08_22_13_23_34/jupyter-matan.memory_profile.json.gz\n",
      "2022-08-22 13:23:34.686508: I tensorflow/core/profiler/rpc/client/capture_profile.cc:251] Creating directory: tutorial/logs/20220822-132333/train/plugins/profile/2022_08_22_13_23_34\n",
      "Dumped tool data for xplane.pb to tutorial/logs/20220822-132333/train/plugins/profile/2022_08_22_13_23_34/jupyter-matan.xplane.pb\n",
      "Dumped tool data for overview_page.pb to tutorial/logs/20220822-132333/train/plugins/profile/2022_08_22_13_23_34/jupyter-matan.overview_page.pb\n",
      "Dumped tool data for input_pipeline.pb to tutorial/logs/20220822-132333/train/plugins/profile/2022_08_22_13_23_34/jupyter-matan.input_pipeline.pb\n",
      "Dumped tool data for tensorflow_stats.pb to tutorial/logs/20220822-132333/train/plugins/profile/2022_08_22_13_23_34/jupyter-matan.tensorflow_stats.pb\n",
      "Dumped tool data for kernel_stats.pb to tutorial/logs/20220822-132333/train/plugins/profile/2022_08_22_13_23_34/jupyter-matan.kernel_stats.pb\n",
      "\n"
     ]
    },
    {
     "name": "stdout",
     "output_type": "stream",
     "text": [
      "64/64 [==============================] - 1s 15ms/step - loss: 0.6604 - accuracy: 0.5909\n",
      "Epoch 2/30\n",
      "64/64 [==============================] - 1s 11ms/step - loss: 0.6519 - accuracy: 0.5993\n",
      "Epoch 3/30\n",
      "64/64 [==============================] - 1s 11ms/step - loss: 0.6501 - accuracy: 0.6006\n",
      "Epoch 4/30\n",
      "64/64 [==============================] - 1s 11ms/step - loss: 0.6489 - accuracy: 0.6018\n",
      "Epoch 5/30\n",
      "64/64 [==============================] - 1s 10ms/step - loss: 0.6479 - accuracy: 0.6020\n",
      "Epoch 6/30\n",
      "64/64 [==============================] - 1s 11ms/step - loss: 0.6473 - accuracy: 0.6028\n",
      "Epoch 7/30\n",
      "64/64 [==============================] - 1s 11ms/step - loss: 0.6467 - accuracy: 0.6042\n",
      "Epoch 8/30\n",
      "64/64 [==============================] - 1s 11ms/step - loss: 0.6463 - accuracy: 0.6050\n",
      "Epoch 9/30\n",
      "64/64 [==============================] - 1s 11ms/step - loss: 0.6459 - accuracy: 0.6061\n",
      "Epoch 10/30\n",
      "64/64 [==============================] - 1s 11ms/step - loss: 0.6455 - accuracy: 0.6073\n",
      "Epoch 11/30\n",
      "64/64 [==============================] - 1s 11ms/step - loss: 0.6453 - accuracy: 0.6081\n",
      "Epoch 12/30\n",
      "64/64 [==============================] - 1s 11ms/step - loss: 0.6452 - accuracy: 0.6079\n",
      "Epoch 13/30\n",
      "64/64 [==============================] - 1s 11ms/step - loss: 0.6451 - accuracy: 0.6077\n",
      "Epoch 14/30\n",
      "64/64 [==============================] - 1s 11ms/step - loss: 0.6447 - accuracy: 0.6074\n",
      "Epoch 15/30\n",
      "64/64 [==============================] - 1s 11ms/step - loss: 0.6446 - accuracy: 0.6085\n",
      "Epoch 16/30\n",
      "64/64 [==============================] - 1s 11ms/step - loss: 0.6445 - accuracy: 0.6086\n",
      "Epoch 17/30\n",
      "64/64 [==============================] - 1s 11ms/step - loss: 0.6443 - accuracy: 0.6088\n",
      "Epoch 18/30\n",
      "64/64 [==============================] - 1s 11ms/step - loss: 0.6444 - accuracy: 0.6092\n",
      "Epoch 19/30\n",
      "64/64 [==============================] - 1s 11ms/step - loss: 0.6442 - accuracy: 0.6089\n",
      "Epoch 20/30\n",
      "64/64 [==============================] - 1s 10ms/step - loss: 0.6442 - accuracy: 0.6092\n",
      "Epoch 21/30\n",
      "64/64 [==============================] - 1s 10ms/step - loss: 0.6441 - accuracy: 0.6093\n",
      "Epoch 22/30\n",
      "64/64 [==============================] - 1s 11ms/step - loss: 0.6440 - accuracy: 0.6094\n",
      "Epoch 23/30\n",
      "64/64 [==============================] - 1s 11ms/step - loss: 0.6439 - accuracy: 0.6092\n",
      "Epoch 24/30\n",
      "64/64 [==============================] - 1s 11ms/step - loss: 0.6438 - accuracy: 0.6094\n",
      "Epoch 25/30\n",
      "64/64 [==============================] - 1s 11ms/step - loss: 0.6436 - accuracy: 0.6097\n",
      "Epoch 26/30\n",
      "64/64 [==============================] - 1s 11ms/step - loss: 0.6437 - accuracy: 0.6102\n",
      "Epoch 27/30\n",
      "64/64 [==============================] - 1s 11ms/step - loss: 0.6438 - accuracy: 0.6096\n",
      "Epoch 28/30\n",
      "64/64 [==============================] - 1s 11ms/step - loss: 0.6435 - accuracy: 0.6103\n",
      "Epoch 29/30\n",
      "64/64 [==============================] - 1s 10ms/step - loss: 0.6435 - accuracy: 0.6100\n",
      "Epoch 30/30\n",
      "64/64 [==============================] - 1s 11ms/step - loss: 0.6435 - accuracy: 0.6100\n"
     ]
    },
    {
     "name": "stderr",
     "output_type": "stream",
     "text": [
      "2022-08-22 13:23:56.466466: W tensorflow/python/util/util.cc:348] Sets are not currently considered sequences, but this may change in the future, so consider avoiding using them.\n"
     ]
    },
    {
     "name": "stdout",
     "output_type": "stream",
     "text": [
      "INFO:tensorflow:Assets written to: 3dmodels/discrete_model_mth50_mph50/assets\n"
     ]
    }
   ],
   "source": [
    "model = tf.keras.models.Sequential([\n",
    "    tf.keras.layers.Dense(128, activation='relu'),\n",
    "    tf.keras.layers.Dropout(0.2),\n",
    "    tf.keras.layers.Dense(128, activation='relu'),\n",
    "    tf.keras.layers.Dense(1, activation='sigmoid')\n",
    "]);\n",
    "\n",
    "loss_fn = tf.keras.losses.BinaryCrossentropy()\n",
    "model.compile(\n",
    "    optimizer='adam',\n",
    "    loss=loss_fn,\n",
    "    metrics=['accuracy']\n",
    ")\n",
    "\n",
    "batch_size = 5000\n",
    "\n",
    "checkpoint_path = \"tutorial/checkpoints/cp.ckpt\"\n",
    "checkpoint_dir = os.path.dirname(checkpoint_path)\n",
    "\n",
    "# Create a callback that saves the model's weights\n",
    "cp_callback = tf.keras.callbacks.ModelCheckpoint(\n",
    "    filepath=checkpoint_path,\n",
    "    save_weights_only=True,\n",
    "    verbose=1,\n",
    "    save_freq=10*batch_size\n",
    ")\n",
    "\n",
    "log_dir = \"tutorial/logs/\" + datetime.datetime.now().strftime(\"%Y%m%d-%H%M%S\")\n",
    "tensorboard_callback = tf.keras.callbacks.TensorBoard(log_dir=log_dir, histogram_freq=1)\n",
    "\n",
    "EPOCHS=30\n",
    "model.fit(\n",
    "    x_train, y_train, epochs=EPOCHS,\n",
    "    batch_size=batch_size,\n",
    "    callbacks=[cp_callback, tensorboard_callback]\n",
    ");\n",
    "\n",
    "model.save('3dmodels/' + name)"
   ]
  },
  {
   "cell_type": "code",
   "execution_count": 16,
   "id": "88a0a775",
   "metadata": {},
   "outputs": [],
   "source": [
    "model = tf.keras.models.load_model('3dmodels/' + name)"
   ]
  }
 ],
 "metadata": {
  "kernelspec": {
   "display_name": "Python 3 (ipykernel)",
   "language": "python",
   "name": "python3"
  },
  "language_info": {
   "codemirror_mode": {
    "name": "ipython",
    "version": 3
   },
   "file_extension": ".py",
   "mimetype": "text/x-python",
   "name": "python",
   "nbconvert_exporter": "python",
   "pygments_lexer": "ipython3",
   "version": "3.9.13"
  }
 },
 "nbformat": 4,
 "nbformat_minor": 5
}
