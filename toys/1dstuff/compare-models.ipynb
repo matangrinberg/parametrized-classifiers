{
 "cells": [
  {
   "cell_type": "code",
   "execution_count": 1,
   "id": "aa963ffd",
   "metadata": {},
   "outputs": [
    {
     "name": "stderr",
     "output_type": "stream",
     "text": [
      "2022-07-19 12:18:38.719190: W tensorflow/stream_executor/platform/default/dso_loader.cc:64] Could not load dynamic library 'libcudart.so.11.0'; dlerror: libcudart.so.11.0: cannot open shared object file: No such file or directory\n",
      "2022-07-19 12:18:38.719218: I tensorflow/stream_executor/cuda/cudart_stub.cc:29] Ignore above cudart dlerror if you do not have a GPU set up on your machine.\n"
     ]
    }
   ],
   "source": [
    "import numpy as np\n",
    "import datetime\n",
    "import os\n",
    "import sklearn.metrics\n",
    "import matplotlib.pyplot as plt\n",
    "from sklearn.model_selection import train_test_split\n",
    "import tensorflow as tf\n",
    "from scipy.stats import chi\n",
    "from scipy import stats\n",
    "\n",
    "############\n",
    "# Functions\n",
    "############\n",
    "\n",
    "# Generate n data for set of thetas\n",
    "def theta_data(n, thetas, rand=1234):\n",
    "    m1 = np.zeros(n)\n",
    "    v1 = np.ones(n)\n",
    "    m2 = mean_gen(thetas)\n",
    "    v2 = var_gen(thetas)\n",
    "    \n",
    "    x1, y1 = np.transpose(np.array([np.random.normal(m1, v1, size=n), thetas])), np.zeros(n)\n",
    "    x2, y2 = np.transpose(np.array([np.random.normal(m2, v2, size=n), thetas])), np.ones(n)\n",
    "    x, y = np.append(x1, x2, axis=0), np.append(y1, y2, axis=0)\n",
    "\n",
    "    x_train, x_test, y_train, y_test = train_test_split(x, y, test_size = 0.2, random_state = rand)\n",
    "    \n",
    "    return x_train, x_test, y_train, y_test\n",
    "\n",
    "def mean_gen(theta):\n",
    "    mu = 0.5 - (np.sqrt(2)/2) * np.cos(theta + np.pi / 4)\n",
    "    return mu\n",
    "\n",
    "def var_gen(theta):\n",
    "    v = 1.5 - (np.sqrt(2)/2) * np.sin(theta + np.pi / 4)\n",
    "    return v\n",
    "\n",
    "def discrete_thetas(n, m):\n",
    "    xk = np.arange(m)\n",
    "    pk = (1 / m) * np.ones(int(m))\n",
    "    discrete_distr = stats.rv_discrete(name='discrete_distr', values=(xk, pk))\n",
    "    thetas = discrete_distr.rvs(size=n) / (m / 6)\n",
    "    return thetas"
   ]
  },
  {
   "cell_type": "code",
   "execution_count": null,
   "id": "65724281",
   "metadata": {},
   "outputs": [],
   "source": [
    "# Uniform Distribution of Thetas\n",
    "\n",
    "# n = 100000\n",
    "# rand_n = 1234\n",
    "# thetas = np.random.uniform(0, 2 * np.pi, n)\n",
    "# x_train, x_test, y_train, y_test = theta_data(n, thetas, rand_n)"
   ]
  },
  {
   "cell_type": "code",
   "execution_count": null,
   "id": "f61cd9c1",
   "metadata": {},
   "outputs": [],
   "source": [
    "# # Discrete Distribution of Thetas\n",
    "\n",
    "# n = 100000\n",
    "# rand_n = 1234\n",
    "# m = 12\n",
    "# thetas = discrete_thetas(n, m)\n",
    "# x_train, x_test, y_train, y_test = theta_data(n, thetas, rand_n)"
   ]
  },
  {
   "cell_type": "code",
   "execution_count": null,
   "id": "7a221ee0",
   "metadata": {},
   "outputs": [],
   "source": [
    "# Single Theta\n",
    "\n",
    "n = 100000\n",
    "rand_n = 1234\n",
    "theta = 5\n",
    "thetas = theta * np.ones(n)\n",
    "x_train, x_test, y_train, y_test = theta_data(n, thetas, rand_n)"
   ]
  },
  {
   "cell_type": "code",
   "execution_count": null,
   "id": "b18a1684",
   "metadata": {},
   "outputs": [],
   "source": [
    "# Loading Models\n",
    "\n",
    "names = []\n",
    "names.append('interpolated_model_cont')\n",
    "names.append('interpolated_model_discrete12')\n",
    "names.append('interpolated_model_discrete6')\n",
    "names.append('interpolated_model_discrete3')\n",
    "names.append('interpolated_model_discrete2')\n",
    "names.append('theta2.5')\n",
    "l = len(names)\n",
    "\n",
    "models = []\n",
    "predictions = []\n",
    "for i in range(l):\n",
    "    models.append(tf.keras.models.load_model('models/' + names[i]))\n",
    "    predictions.append(models[i](x_test).numpy())"
   ]
  },
  {
   "cell_type": "code",
   "execution_count": null,
   "id": "495b88e4",
   "metadata": {},
   "outputs": [],
   "source": [
    "fig, ax1 = plt.subplots(figsize=(10,10))\n",
    "fontsize=16\n",
    "minor_size=14\n",
    "\n",
    "for i in range(l):\n",
    "    fpr, tpr, _ = sklearn.metrics.roc_curve(y_test, predictions[i])\n",
    "    auc = sklearn.metrics.auc(fpr, tpr)\n",
    "    ax1.plot(fpr, tpr, lw=2, label=names[i] + ', AUC = %.3f' % (auc))\n",
    "\n",
    "ax1.set_xlabel(\"Score\")\n",
    "ax1.plot([0, 1], [0, 1], '--', lw=2)\n",
    "ax1.set_xlabel('False positive rate', fontsize=fontsize)\n",
    "ax1.set_ylabel('True positive rate', fontsize=fontsize)\n",
    "ax1.set_title('Models on Theta = %.1f Data' % (theta), fontsize=fontsize)\n",
    "ax1.legend()\n",
    "ax1.tick_params(width=2, grid_alpha=0.5, labelsize=minor_size)"
   ]
  },
  {
   "cell_type": "code",
   "execution_count": null,
   "id": "2274a944",
   "metadata": {},
   "outputs": [],
   "source": []
  }
 ],
 "metadata": {
  "kernelspec": {
   "display_name": "Python 3 (ipykernel)",
   "language": "python",
   "name": "python3"
  },
  "language_info": {
   "codemirror_mode": {
    "name": "ipython",
    "version": 3
   },
   "file_extension": ".py",
   "mimetype": "text/x-python",
   "name": "python",
   "nbconvert_exporter": "python",
   "pygments_lexer": "ipython3",
   "version": "3.9.13"
  }
 },
 "nbformat": 4,
 "nbformat_minor": 5
}
