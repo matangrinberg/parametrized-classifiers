{
 "cells": [
  {
   "cell_type": "code",
   "execution_count": 1,
   "id": "small-triangle",
   "metadata": {},
   "outputs": [],
   "source": [
    "import numpy as np\n",
    "import matplotlib.pyplot as plt\n",
    "from scipy.stats import norm\n",
    "\n",
    "from sklearn.model_selection import train_test_split\n",
    "import tensorflow as tf\n",
    "from tensorflow.keras.layers import Input, Dense\n",
    "from tensorflow.keras.models import Model, Sequential\n",
    "from tensorflow.keras.models import model_from_json"
   ]
  },
  {
   "cell_type": "code",
   "execution_count": 2,
   "id": "improving-directory",
   "metadata": {},
   "outputs": [],
   "source": [
    "N = 20000\n",
    "start = -0.25\n",
    "target = 0\n",
    "bold_theta0 = np.random.normal(target,1,N)\n",
    "thetas = np.random.uniform(-1,1,N)\n",
    "bold_theta = np.random.normal(thetas,1,N)\n",
    "bold_theta1 = np.random.normal(start,1,N)"
   ]
  },
  {
   "cell_type": "code",
   "execution_count": 3,
   "id": "healthy-forward",
   "metadata": {},
   "outputs": [],
   "source": [
    "bold_theta0_train = np.stack([bold_theta0,thetas],axis=1)\n",
    "bold_theta_train = np.stack([bold_theta,thetas],axis=1)\n",
    "x_vals = np.concatenate([bold_theta0_train,bold_theta_train])\n",
    "y_vals = np.concatenate([np.ones(len(bold_theta0_train)),np.zeros(len(bold_theta_train))])\n",
    "X_train, X_val, Y_train, Y_val = train_test_split(x_vals, y_vals, test_size=0.5)\n",
    "\n",
    "x_vals2 = np.concatenate([bold_theta0,bold_theta1])\n",
    "y_vals2 = np.concatenate([np.ones(len(bold_theta0)),np.zeros(len(bold_theta1))])\n",
    "X_train2, X_val2, Y_train2, Y_val2 = train_test_split(x_vals2, y_vals2, test_size=0.5)"
   ]
  },
  {
   "cell_type": "code",
   "execution_count": 4,
   "id": "strategic-single",
   "metadata": {},
   "outputs": [],
   "source": [
    "model = Sequential()\n",
    "model.add(Dense(50, input_dim=2, activation='relu'))\n",
    "model.add(Dense(50, activation='relu'))\n",
    "model.add(Dense(1, activation='sigmoid'))\n",
    "model.compile(loss='binary_crossentropy', optimizer='adam', metrics=['accuracy'])"
   ]
  },
  {
   "cell_type": "code",
   "execution_count": 5,
   "id": "vocal-bermuda",
   "metadata": {},
   "outputs": [
    {
     "name": "stdout",
     "output_type": "stream",
     "text": [
      "Epoch 1/50\n",
      "200/200 [==============================] - 1s 838us/step - loss: 0.6664 - accuracy: 0.5855\n",
      "Epoch 2/50\n",
      "200/200 [==============================] - 0s 632us/step - loss: 0.6603 - accuracy: 0.5907\n",
      "Epoch 3/50\n",
      "200/200 [==============================] - 0s 774us/step - loss: 0.6594 - accuracy: 0.5919\n",
      "Epoch 4/50\n",
      "200/200 [==============================] - 0s 638us/step - loss: 0.6588 - accuracy: 0.5932\n",
      "Epoch 5/50\n",
      "200/200 [==============================] - 0s 628us/step - loss: 0.6583 - accuracy: 0.5910\n",
      "Epoch 6/50\n",
      "200/200 [==============================] - 0s 629us/step - loss: 0.6582 - accuracy: 0.5921\n",
      "Epoch 7/50\n",
      "200/200 [==============================] - 0s 618us/step - loss: 0.6579 - accuracy: 0.5925\n",
      "Epoch 8/50\n",
      "200/200 [==============================] - 0s 637us/step - loss: 0.6580 - accuracy: 0.5914\n",
      "Epoch 9/50\n",
      "200/200 [==============================] - 0s 623us/step - loss: 0.6573 - accuracy: 0.5910\n",
      "Epoch 10/50\n",
      "200/200 [==============================] - 0s 609us/step - loss: 0.6577 - accuracy: 0.5923\n",
      "Epoch 11/50\n",
      "200/200 [==============================] - 0s 619us/step - loss: 0.6571 - accuracy: 0.5925\n",
      "Epoch 12/50\n",
      "200/200 [==============================] - 0s 619us/step - loss: 0.6573 - accuracy: 0.5914\n",
      "Epoch 13/50\n",
      "200/200 [==============================] - 0s 624us/step - loss: 0.6569 - accuracy: 0.5899\n",
      "Epoch 14/50\n",
      "200/200 [==============================] - 0s 635us/step - loss: 0.6572 - accuracy: 0.5935\n",
      "Epoch 15/50\n",
      "200/200 [==============================] - 0s 632us/step - loss: 0.6570 - accuracy: 0.5944\n",
      "Epoch 16/50\n",
      "200/200 [==============================] - 0s 641us/step - loss: 0.6568 - accuracy: 0.5923\n",
      "Epoch 17/50\n",
      "200/200 [==============================] - 0s 643us/step - loss: 0.6566 - accuracy: 0.5939\n",
      "Epoch 18/50\n",
      "200/200 [==============================] - 0s 629us/step - loss: 0.6566 - accuracy: 0.5918\n",
      "Epoch 19/50\n",
      "200/200 [==============================] - 0s 628us/step - loss: 0.6564 - accuracy: 0.5926\n",
      "Epoch 20/50\n",
      "200/200 [==============================] - 0s 618us/step - loss: 0.6566 - accuracy: 0.5919\n",
      "Epoch 21/50\n",
      "200/200 [==============================] - 0s 630us/step - loss: 0.6569 - accuracy: 0.5931\n",
      "Epoch 22/50\n",
      "200/200 [==============================] - 0s 624us/step - loss: 0.6566 - accuracy: 0.5906\n",
      "Epoch 23/50\n",
      "200/200 [==============================] - 0s 641us/step - loss: 0.6565 - accuracy: 0.5928\n",
      "Epoch 24/50\n",
      "200/200 [==============================] - 0s 640us/step - loss: 0.6565 - accuracy: 0.5934\n",
      "Epoch 25/50\n",
      "200/200 [==============================] - 0s 627us/step - loss: 0.6566 - accuracy: 0.5929\n",
      "Epoch 26/50\n",
      "200/200 [==============================] - 0s 625us/step - loss: 0.6565 - accuracy: 0.5925\n",
      "Epoch 27/50\n",
      "200/200 [==============================] - 0s 648us/step - loss: 0.6564 - accuracy: 0.5911\n",
      "Epoch 28/50\n",
      "200/200 [==============================] - 0s 662us/step - loss: 0.6565 - accuracy: 0.5926\n",
      "Epoch 29/50\n",
      "200/200 [==============================] - 0s 649us/step - loss: 0.6564 - accuracy: 0.5919\n",
      "Epoch 30/50\n",
      "200/200 [==============================] - 0s 665us/step - loss: 0.6564 - accuracy: 0.5922\n",
      "Epoch 31/50\n",
      "200/200 [==============================] - 0s 648us/step - loss: 0.6563 - accuracy: 0.5949\n",
      "Epoch 32/50\n",
      "200/200 [==============================] - 0s 639us/step - loss: 0.6564 - accuracy: 0.5936\n",
      "Epoch 33/50\n",
      "200/200 [==============================] - 0s 651us/step - loss: 0.6560 - accuracy: 0.5933\n",
      "Epoch 34/50\n",
      "200/200 [==============================] - 0s 645us/step - loss: 0.6563 - accuracy: 0.5929\n",
      "Epoch 35/50\n",
      "200/200 [==============================] - 0s 677us/step - loss: 0.6562 - accuracy: 0.5941\n",
      "Epoch 36/50\n",
      "200/200 [==============================] - 0s 646us/step - loss: 0.6564 - accuracy: 0.5936\n",
      "Epoch 37/50\n",
      "200/200 [==============================] - 0s 663us/step - loss: 0.6563 - accuracy: 0.5943\n",
      "Epoch 38/50\n",
      "200/200 [==============================] - 0s 658us/step - loss: 0.6562 - accuracy: 0.5926\n",
      "Epoch 39/50\n",
      "200/200 [==============================] - 0s 642us/step - loss: 0.6561 - accuracy: 0.5938\n",
      "Epoch 40/50\n",
      "200/200 [==============================] - 0s 629us/step - loss: 0.6562 - accuracy: 0.5927\n",
      "Epoch 41/50\n",
      "200/200 [==============================] - 0s 629us/step - loss: 0.6562 - accuracy: 0.5936\n",
      "Epoch 42/50\n",
      "200/200 [==============================] - 0s 630us/step - loss: 0.6564 - accuracy: 0.5932\n",
      "Epoch 43/50\n",
      "200/200 [==============================] - 0s 659us/step - loss: 0.6560 - accuracy: 0.5940\n",
      "Epoch 44/50\n",
      "200/200 [==============================] - 0s 624us/step - loss: 0.6561 - accuracy: 0.5929\n",
      "Epoch 45/50\n",
      "200/200 [==============================] - 0s 624us/step - loss: 0.6561 - accuracy: 0.5943\n",
      "Epoch 46/50\n",
      "200/200 [==============================] - 0s 629us/step - loss: 0.6560 - accuracy: 0.5936\n",
      "Epoch 47/50\n",
      "200/200 [==============================] - 0s 635us/step - loss: 0.6563 - accuracy: 0.5945\n",
      "Epoch 48/50\n",
      "200/200 [==============================] - 0s 627us/step - loss: 0.6560 - accuracy: 0.5931\n",
      "Epoch 49/50\n",
      "200/200 [==============================] - 0s 634us/step - loss: 0.6560 - accuracy: 0.5936\n",
      "Epoch 50/50\n",
      "200/200 [==============================] - 0s 631us/step - loss: 0.6560 - accuracy: 0.5921\n"
     ]
    },
    {
     "data": {
      "text/plain": [
       "<tensorflow.python.keras.callbacks.History at 0x7ff77c539a00>"
      ]
     },
     "execution_count": 5,
     "metadata": {},
     "output_type": "execute_result"
    }
   ],
   "source": [
    "model.fit(X_train, Y_train, epochs=50,batch_size=100)"
   ]
  },
  {
   "cell_type": "code",
   "execution_count": 6,
   "id": "significant-croatia",
   "metadata": {},
   "outputs": [
    {
     "data": {
      "text/plain": [
       "<matplotlib.legend.Legend at 0x7ff77caccfa0>"
      ]
     },
     "execution_count": 6,
     "metadata": {},
     "output_type": "execute_result"
    },
    {
     "data": {
      "image/png": "[encoded data removed]",
      "text/plain": [
       "<Figure size 432x288 with 1 Axes>"
      ]
     },
     "metadata": {
      "needs_background": "light"
     },
     "output_type": "display_data"
    }
   ],
   "source": [
    "xx = np.linspace(-3,3,10)\n",
    "cc = 0\n",
    "mycolors = ['b','g','r','c','m','y','l']\n",
    "for tt in np.linspace(-1,1,5):\n",
    "    cc+=1\n",
    "    plt.plot(xx,model.predict(np.stack([xx,tt*np.ones(10)],axis=1)),label=str(tt),color=mycolors[cc])\n",
    "    llr = norm.pdf(xx,loc=target,scale=1)/norm.pdf(xx,loc=tt,scale=1)\n",
    "    plt.plot(xx,llr/(1.+llr),ls=\":\",color=mycolors[cc])\n",
    "    pass\n",
    "plt.legend()"
   ]
  },
  {
   "cell_type": "code",
   "execution_count": 7,
   "id": "active-grocery",
   "metadata": {},
   "outputs": [],
   "source": [
    "for l in model.layers:\n",
    "    l.trainable=False"
   ]
  },
  {
   "cell_type": "code",
   "execution_count": 8,
   "id": "neural-lindsay",
   "metadata": {},
   "outputs": [],
   "source": [
    "#this is a hack, but it works\n",
    "inputs_hold = tf.keras.Input(shape=(1,))\n",
    "simple_model = Dense(1,use_bias = False)(inputs_hold)\n",
    "model3 = Model(inputs = inputs_hold, outputs = simple_model)\n",
    "\n",
    "inputs = tf.keras.Input(shape=(1,))\n",
    "inputs2 = tf.keras.layers.concatenate([inputs,model3(tf.ones_like(inputs))])\n",
    "hidden_layer_1 = model(inputs2)\n",
    "model2 = Model(inputs = inputs, outputs = hidden_layer_1)\n",
    "model2.compile(loss='categorical_crossentropy', optimizer='Adam', )"
   ]
  },
  {
   "cell_type": "code",
   "execution_count": 9,
   "id": "fallen-painting",
   "metadata": {},
   "outputs": [
    {
     "name": "stdout",
     "output_type": "stream",
     "text": [
      "Model: \"model_1\"\n",
      "__________________________________________________________________________________________________\n",
      "Layer (type)                    Output Shape         Param #     Connected to                     \n",
      "==================================================================================================\n",
      "input_2 (InputLayer)            [(None, 1)]          0                                            \n",
      "__________________________________________________________________________________________________\n",
      "tf.ones_like (TFOpLambda)       (None, 1)            0           input_2[0][0]                    \n",
      "__________________________________________________________________________________________________\n",
      "model (Functional)              (None, 1)            1           tf.ones_like[0][0]               \n",
      "__________________________________________________________________________________________________\n",
      "concatenate (Concatenate)       (None, 2)            0           input_2[0][0]                    \n",
      "                                                                 model[0][0]                      \n",
      "__________________________________________________________________________________________________\n",
      "sequential (Sequential)         (None, 1)            2751        concatenate[0][0]                \n",
      "==================================================================================================\n",
      "Total params: 2,752\n",
      "Trainable params: 1\n",
      "Non-trainable params: 2,751\n",
      "__________________________________________________________________________________________________\n"
     ]
    }
   ],
   "source": [
    "model2.summary()"
   ]
  },
  {
   "cell_type": "code",
   "execution_count": 10,
   "id": "durable-jewel",
   "metadata": {},
   "outputs": [
    {
     "name": "stdout",
     "output_type": "stream",
     "text": [
      "200/200 [==============================] - 0s 444us/step - loss: 0.0000e+00\n",
      "0 Fitted result:  -0.2026881\n",
      "200/200 [==============================] - 0s 456us/step - loss: 0.0000e+00\n",
      "1 Fitted result:  -0.24460809\n",
      "200/200 [==============================] - 0s 488us/step - loss: 0.0000e+00\n",
      "2 Fitted result:  -0.24395601\n",
      "200/200 [==============================] - 0s 441us/step - loss: 0.0000e+00\n",
      "3 Fitted result:  -0.24582683\n",
      "200/200 [==============================] - 0s 450us/step - loss: 0.0000e+00\n",
      "4 Fitted result:  -0.24323072\n",
      "200/200 [==============================] - 0s 445us/step - loss: 0.0000e+00\n",
      "5 Fitted result:  -0.24618739\n",
      "200/200 [==============================] - 0s 450us/step - loss: 0.0000e+00\n",
      "6 Fitted result:  -0.24192317\n",
      "200/200 [==============================] - 0s 461us/step - loss: 0.0000e+00\n",
      "7 Fitted result:  -0.24514042\n",
      "200/200 [==============================] - 0s 457us/step - loss: 0.0000e+00\n",
      "8 Fitted result:  -0.24879584\n",
      "200/200 [==============================] - 0s 449us/step - loss: 0.0000e+00\n",
      "9 Fitted result:  -0.24118058\n",
      "200/200 [==============================] - 0s 450us/step - loss: 0.0000e+00\n",
      "10 Fitted result:  -0.2463214\n",
      "200/200 [==============================] - 0s 443us/step - loss: 0.0000e+00\n",
      "11 Fitted result:  -0.24164058\n",
      "200/200 [==============================] - 0s 446us/step - loss: 0.0000e+00\n",
      "12 Fitted result:  -0.23964813\n",
      "200/200 [==============================] - 0s 453us/step - loss: 0.0000e+00\n",
      "13 Fitted result:  -0.24455242\n",
      "200/200 [==============================] - 0s 539us/step - loss: 0.0000e+00\n",
      "14 Fitted result:  -0.24193461\n",
      "200/200 [==============================] - 0s 498us/step - loss: 0.0000e+00\n",
      "15 Fitted result:  -0.24341603\n",
      "200/200 [==============================] - 0s 461us/step - loss: 0.0000e+00\n",
      "16 Fitted result:  -0.24503611\n",
      "200/200 [==============================] - 0s 469us/step - loss: 0.0000e+00\n",
      "17 Fitted result:  -0.24352205\n",
      "200/200 [==============================] - 0s 537us/step - loss: 0.0000e+00\n",
      "18 Fitted result:  -0.23869969\n",
      "200/200 [==============================] - 0s 513us/step - loss: 0.0000e+00\n",
      "19 Fitted result:  -0.2479339\n",
      "200/200 [==============================] - 0s 484us/step - loss: 0.0000e+00\n",
      "20 Fitted result:  -0.24736583\n",
      "200/200 [==============================] - 0s 479us/step - loss: 0.0000e+00\n",
      "21 Fitted result:  -0.24401921\n",
      "200/200 [==============================] - 0s 453us/step - loss: 0.0000e+00\n",
      "22 Fitted result:  -0.2461096\n",
      "200/200 [==============================] - 0s 518us/step - loss: 0.0000e+00\n",
      "23 Fitted result:  -0.24257255\n",
      "200/200 [==============================] - 0s 486us/step - loss: 0.0000e+00\n",
      "24 Fitted result:  -0.24643524\n",
      "200/200 [==============================] - 0s 453us/step - loss: 0.0000e+00\n",
      "25 Fitted result:  -0.2445931\n",
      "200/200 [==============================] - 0s 460us/step - loss: 0.0000e+00\n",
      "26 Fitted result:  -0.24420932\n",
      "200/200 [==============================] - 0s 454us/step - loss: 0.0000e+00\n",
      "27 Fitted result:  -0.24307351\n",
      "200/200 [==============================] - 0s 450us/step - loss: 0.0000e+00\n",
      "28 Fitted result:  -0.23835254\n",
      "200/200 [==============================] - 0s 439us/step - loss: 0.0000e+00\n",
      "29 Fitted result:  -0.24584547\n",
      "200/200 [==============================] - 0s 483us/step - loss: 0.0000e+00\n",
      "30 Fitted result:  -0.24552841\n",
      "200/200 [==============================] - 0s 443us/step - loss: 0.0000e+00\n",
      "31 Fitted result:  -0.24414739\n",
      "200/200 [==============================] - 0s 444us/step - loss: 0.0000e+00\n",
      "32 Fitted result:  -0.2452439\n",
      "200/200 [==============================] - 0s 456us/step - loss: 0.0000e+00\n",
      "33 Fitted result:  -0.24196064\n",
      "200/200 [==============================] - 0s 448us/step - loss: 0.0000e+00\n",
      "34 Fitted result:  -0.24086201\n",
      "200/200 [==============================] - 0s 449us/step - loss: 0.0000e+00\n",
      "35 Fitted result:  -0.2478042\n",
      "200/200 [==============================] - 0s 444us/step - loss: 0.0000e+00\n",
      "36 Fitted result:  -0.24349752\n",
      "200/200 [==============================] - 0s 457us/step - loss: 0.0000e+00\n",
      "37 Fitted result:  -0.2452157\n",
      "200/200 [==============================] - 0s 440us/step - loss: 0.0000e+00\n",
      "38 Fitted result:  -0.2444672\n",
      "200/200 [==============================] - 0s 448us/step - loss: 0.0000e+00\n",
      "39 Fitted result:  -0.24449061\n",
      "200/200 [==============================] - 0s 450us/step - loss: 0.0000e+00\n",
      "40 Fitted result:  -0.24766833\n",
      "200/200 [==============================] - 0s 451us/step - loss: 0.0000e+00\n",
      "41 Fitted result:  -0.243549\n",
      "200/200 [==============================] - 0s 457us/step - loss: 0.0000e+00\n",
      "42 Fitted result:  -0.2407467\n",
      "200/200 [==============================] - 0s 443us/step - loss: 0.0000e+00\n",
      "43 Fitted result:  -0.24607229\n",
      "200/200 [==============================] - 0s 441us/step - loss: 0.0000e+00\n",
      "44 Fitted result:  -0.24668682\n",
      "200/200 [==============================] - 0s 456us/step - loss: 0.0000e+00\n",
      "45 Fitted result:  -0.2437922\n",
      "200/200 [==============================] - 0s 471us/step - loss: 0.0000e+00\n",
      "46 Fitted result:  -0.25066182\n",
      "200/200 [==============================] - 0s 448us/step - loss: 0.0000e+00\n",
      "47 Fitted result:  -0.247332\n",
      "200/200 [==============================] - 0s 443us/step - loss: 0.0000e+00\n",
      "48 Fitted result:  -0.24525814\n",
      "200/200 [==============================] - 0s 451us/step - loss: 0.0000e+00\n",
      "49 Fitted result:  -0.24432234\n"
     ]
    }
   ],
   "source": [
    "for i in range(50):\n",
    "    #better to make a custom callback\n",
    "    model2.fit(X_train2, Y_train2, epochs=1,batch_size=100)\n",
    "    print(i,\"Fitted result: \",model2.trainable_weights[0].numpy()[0][0])"
   ]
  }
 ],
 "metadata": {
  "kernelspec": {
   "display_name": "Python 3",
   "language": "python",
   "name": "python3"
  },
  "language_info": {
   "codemirror_mode": {
    "name": "ipython",
    "version": 3
   },
   "file_extension": ".py",
   "mimetype": "text/x-python",
   "name": "python",
   "nbconvert_exporter": "python",
   "pygments_lexer": "ipython3",
   "version": "3.8.5"
  }
 },
 "nbformat": 4,
 "nbformat_minor": 5
}
