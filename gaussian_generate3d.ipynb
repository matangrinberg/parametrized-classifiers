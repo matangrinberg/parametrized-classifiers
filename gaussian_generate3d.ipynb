{
 "cells": [
  {
   "cell_type": "markdown",
   "id": "8d51229a",
   "metadata": {},
   "source": [
    "# Data prepration"
   ]
  },
  {
   "cell_type": "code",
   "execution_count": 1,
   "id": "5e250612",
   "metadata": {},
   "outputs": [
    {
     "name": "stderr",
     "output_type": "stream",
     "text": [
      "2022-08-09 11:44:15.693758: W tensorflow/stream_executor/platform/default/dso_loader.cc:64] Could not load dynamic library 'libcudart.so.11.0'; dlerror: libcudart.so.11.0: cannot open shared object file: No such file or directory\n",
      "2022-08-09 11:44:15.693789: I tensorflow/stream_executor/cuda/cudart_stub.cc:29] Ignore above cudart dlerror if you do not have a GPU set up on your machine.\n"
     ]
    }
   ],
   "source": [
    "import numpy as np\n",
    "import datetime\n",
    "import os\n",
    "import sklearn.metrics\n",
    "import matplotlib.pyplot as plt\n",
    "from sklearn.model_selection import train_test_split\n",
    "import tensorflow as tf\n",
    "from scipy.stats import chi\n",
    "from scipy import stats\n",
    "from functions import mean_gen, varx_gen, vary_gen, spherical_data, discrete_angles"
   ]
  },
  {
   "cell_type": "code",
   "execution_count": 6,
   "id": "f046b546",
   "metadata": {
    "scrolled": true
   },
   "outputs": [
    {
     "name": "stdout",
     "output_type": "stream",
     "text": [
      "[[-0.01577598  1.37980864  1.          1.        ]\n",
      " [-1.51292815  0.23023537  1.          1.        ]\n",
      " [ 0.75665344  0.38036186  1.          1.        ]\n",
      " ...\n",
      " [ 0.9220339  -0.15627483  1.          1.        ]\n",
      " [-0.31318762  0.31663098  1.          1.        ]\n",
      " [-2.00052237  0.39731297  1.          1.        ]]\n"
     ]
    }
   ],
   "source": [
    "n = 50000\n",
    "\n",
    "\n",
    "# m_th = 40\n",
    "# m_ph = 40\n",
    "# thetas = discrete_angles(n, m_th, 2)\n",
    "# phis = discrete_angles(n, m_ph, 1)\n",
    "# name = ('discrete_model_mth%.0f_mph%.0f' %(m_th, m_ph))\n",
    "\n",
    "theta = 1\n",
    "phi = 1\n",
    "thetas = theta * np.ones(n)\n",
    "phis = phi * np.ones(n)\n",
    "name = ('discrete_model_th%.0f_ph%.0f' %(theta, phi))\n",
    "\n",
    "x_train, x_test, y_train, y_test = spherical_data(n, thetas, phis)\n",
    "\n",
    "print(x_train)"
   ]
  },
  {
   "cell_type": "markdown",
   "id": "36ca60de",
   "metadata": {
    "slideshow": {
     "slide_type": "slide"
    }
   },
   "source": [
    "# Training Interpolated Model"
   ]
  },
  {
   "cell_type": "code",
   "execution_count": 7,
   "id": "2c4829f7",
   "metadata": {},
   "outputs": [
    {
     "name": "stderr",
     "output_type": "stream",
     "text": [
      "2022-08-09 11:47:43.170303: I tensorflow/core/profiler/lib/profiler_session.cc:131] Profiler session initializing.\n",
      "2022-08-09 11:47:43.171269: I tensorflow/core/profiler/lib/profiler_session.cc:146] Profiler session started.\n",
      "2022-08-09 11:47:43.179283: I tensorflow/core/profiler/lib/profiler_session.cc:164] Profiler session tear down.\n"
     ]
    },
    {
     "name": "stdout",
     "output_type": "stream",
     "text": [
      "Epoch 1/20\n",
      "15/80 [====>.........................] - ETA: 0s - loss: 0.6581 - accuracy: 0.5993"
     ]
    },
    {
     "name": "stderr",
     "output_type": "stream",
     "text": [
      "2022-08-09 11:47:44.080150: I tensorflow/core/profiler/lib/profiler_session.cc:131] Profiler session initializing.\n",
      "2022-08-09 11:47:44.080180: I tensorflow/core/profiler/lib/profiler_session.cc:146] Profiler session started.\n",
      "2022-08-09 11:47:44.104338: I tensorflow/core/profiler/lib/profiler_session.cc:66] Profiler session collecting data.\n",
      "2022-08-09 11:47:44.112581: I tensorflow/core/profiler/lib/profiler_session.cc:164] Profiler session tear down.\n",
      "2022-08-09 11:47:44.144457: I tensorflow/core/profiler/rpc/client/save_profile.cc:136] Creating directory: tutorial/logs/20220809-114743/train/plugins/profile/2022_08_09_11_47_44\n",
      "\n",
      "2022-08-09 11:47:44.150103: I tensorflow/core/profiler/rpc/client/save_profile.cc:142] Dumped gzipped tool data for trace.json.gz to tutorial/logs/20220809-114743/train/plugins/profile/2022_08_09_11_47_44/jupyter-matan.trace.json.gz\n",
      "2022-08-09 11:47:44.170685: I tensorflow/core/profiler/rpc/client/save_profile.cc:136] Creating directory: tutorial/logs/20220809-114743/train/plugins/profile/2022_08_09_11_47_44\n",
      "\n",
      "2022-08-09 11:47:44.175119: I tensorflow/core/profiler/rpc/client/save_profile.cc:142] Dumped gzipped tool data for memory_profile.json.gz to tutorial/logs/20220809-114743/train/plugins/profile/2022_08_09_11_47_44/jupyter-matan.memory_profile.json.gz\n",
      "2022-08-09 11:47:44.193755: I tensorflow/core/profiler/rpc/client/capture_profile.cc:251] Creating directory: tutorial/logs/20220809-114743/train/plugins/profile/2022_08_09_11_47_44\n",
      "Dumped tool data for xplane.pb to tutorial/logs/20220809-114743/train/plugins/profile/2022_08_09_11_47_44/jupyter-matan.xplane.pb\n",
      "Dumped tool data for overview_page.pb to tutorial/logs/20220809-114743/train/plugins/profile/2022_08_09_11_47_44/jupyter-matan.overview_page.pb\n",
      "Dumped tool data for input_pipeline.pb to tutorial/logs/20220809-114743/train/plugins/profile/2022_08_09_11_47_44/jupyter-matan.input_pipeline.pb\n",
      "Dumped tool data for tensorflow_stats.pb to tutorial/logs/20220809-114743/train/plugins/profile/2022_08_09_11_47_44/jupyter-matan.tensorflow_stats.pb\n",
      "Dumped tool data for kernel_stats.pb to tutorial/logs/20220809-114743/train/plugins/profile/2022_08_09_11_47_44/jupyter-matan.kernel_stats.pb\n",
      "\n"
     ]
    },
    {
     "name": "stdout",
     "output_type": "stream",
     "text": [
      "80/80 [==============================] - 1s 6ms/step - loss: 0.6328 - accuracy: 0.6297\n",
      "Epoch 2/20\n",
      "80/80 [==============================] - 0s 5ms/step - loss: 0.6229 - accuracy: 0.6416\n",
      "Epoch 3/20\n",
      "80/80 [==============================] - 0s 5ms/step - loss: 0.6223 - accuracy: 0.6422\n",
      "Epoch 4/20\n",
      "80/80 [==============================] - 0s 5ms/step - loss: 0.6218 - accuracy: 0.6416\n",
      "Epoch 5/20\n",
      "80/80 [==============================] - 0s 4ms/step - loss: 0.6214 - accuracy: 0.6423\n",
      "Epoch 6/20\n",
      "80/80 [==============================] - 0s 4ms/step - loss: 0.6216 - accuracy: 0.6423\n",
      "Epoch 7/20\n",
      "80/80 [==============================] - 0s 5ms/step - loss: 0.6215 - accuracy: 0.6421\n",
      "Epoch 8/20\n",
      "80/80 [==============================] - 0s 5ms/step - loss: 0.6212 - accuracy: 0.6424\n",
      "Epoch 9/20\n",
      "80/80 [==============================] - 0s 4ms/step - loss: 0.6215 - accuracy: 0.6425\n",
      "Epoch 10/20\n",
      "80/80 [==============================] - 0s 4ms/step - loss: 0.6210 - accuracy: 0.6426\n",
      "Epoch 11/20\n",
      "80/80 [==============================] - 0s 4ms/step - loss: 0.6212 - accuracy: 0.6425\n",
      "Epoch 12/20\n",
      "80/80 [==============================] - 0s 4ms/step - loss: 0.6209 - accuracy: 0.6433\n",
      "Epoch 13/20\n",
      "80/80 [==============================] - 0s 4ms/step - loss: 0.6213 - accuracy: 0.6427\n",
      "Epoch 14/20\n",
      "80/80 [==============================] - 0s 4ms/step - loss: 0.6214 - accuracy: 0.6416\n",
      "Epoch 15/20\n",
      "80/80 [==============================] - 0s 4ms/step - loss: 0.6207 - accuracy: 0.6428\n",
      "Epoch 16/20\n",
      "80/80 [==============================] - 0s 4ms/step - loss: 0.6206 - accuracy: 0.6421\n",
      "Epoch 17/20\n",
      "80/80 [==============================] - 0s 4ms/step - loss: 0.6210 - accuracy: 0.6418\n",
      "Epoch 18/20\n",
      "80/80 [==============================] - 0s 4ms/step - loss: 0.6208 - accuracy: 0.6424\n",
      "Epoch 19/20\n",
      "80/80 [==============================] - 0s 4ms/step - loss: 0.6210 - accuracy: 0.6424\n",
      "Epoch 20/20\n",
      "80/80 [==============================] - 0s 4ms/step - loss: 0.6209 - accuracy: 0.6419\n",
      "INFO:tensorflow:Assets written to: 3dmodels/discrete_model_th1_ph1/assets\n"
     ]
    }
   ],
   "source": [
    "model = tf.keras.models.Sequential([\n",
    "    tf.keras.layers.Dense(128, activation='relu'),\n",
    "    tf.keras.layers.Dropout(0.2),\n",
    "    tf.keras.layers.Dense(128, activation='relu'),\n",
    "    tf.keras.layers.Dense(1, activation='sigmoid')\n",
    "]);\n",
    "\n",
    "loss_fn = tf.keras.losses.BinaryCrossentropy()\n",
    "model.compile(\n",
    "    optimizer='adam',\n",
    "    loss=loss_fn,\n",
    "    metrics=['accuracy']\n",
    ")\n",
    "\n",
    "batch_size = 1000\n",
    "\n",
    "checkpoint_path = \"tutorial/checkpoints/cp.ckpt\"\n",
    "checkpoint_dir = os.path.dirname(checkpoint_path)\n",
    "\n",
    "# Create a callback that saves the model's weights\n",
    "cp_callback = tf.keras.callbacks.ModelCheckpoint(\n",
    "    filepath=checkpoint_path,\n",
    "    save_weights_only=True,\n",
    "    verbose=1,\n",
    "    save_freq=10*batch_size\n",
    ")\n",
    "\n",
    "log_dir = \"tutorial/logs/\" + datetime.datetime.now().strftime(\"%Y%m%d-%H%M%S\")\n",
    "tensorboard_callback = tf.keras.callbacks.TensorBoard(log_dir=log_dir, histogram_freq=1)\n",
    "\n",
    "EPOCHS=20\n",
    "model.fit(\n",
    "    x_train, y_train, epochs=EPOCHS,\n",
    "    batch_size=batch_size,\n",
    "    callbacks=[cp_callback, tensorboard_callback]\n",
    ");\n",
    "\n",
    "model.save('3dmodels/' + name)"
   ]
  },
  {
   "cell_type": "code",
   "execution_count": 16,
   "id": "88a0a775",
   "metadata": {},
   "outputs": [],
   "source": [
    "model = tf.keras.models.load_model('3dmodels/' + name)"
   ]
  }
 ],
 "metadata": {
  "kernelspec": {
   "display_name": "Python 3 (ipykernel)",
   "language": "python",
   "name": "python3"
  },
  "language_info": {
   "codemirror_mode": {
    "name": "ipython",
    "version": 3
   },
   "file_extension": ".py",
   "mimetype": "text/x-python",
   "name": "python",
   "nbconvert_exporter": "python",
   "pygments_lexer": "ipython3",
   "version": "3.9.13"
  }
 },
 "nbformat": 4,
 "nbformat_minor": 5
}
