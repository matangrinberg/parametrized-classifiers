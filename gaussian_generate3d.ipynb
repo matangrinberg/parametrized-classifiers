{
 "cells": [
  {
   "cell_type": "markdown",
   "id": "8d51229a",
   "metadata": {},
   "source": [
    "# Data prepration"
   ]
  },
  {
   "cell_type": "code",
   "execution_count": 6,
   "id": "5e250612",
   "metadata": {},
   "outputs": [],
   "source": [
    "import numpy as np\n",
    "import datetime\n",
    "import os\n",
    "import sklearn.metrics\n",
    "import matplotlib.pyplot as plt\n",
    "from sklearn.model_selection import train_test_split\n",
    "import tensorflow as tf\n",
    "from scipy.stats import chi\n",
    "from scipy import stats\n",
    "from functions import mean_gen, varx_gen, vary_gen, spherical_data, discrete_angles"
   ]
  },
  {
   "cell_type": "code",
   "execution_count": 7,
   "id": "f046b546",
   "metadata": {
    "scrolled": true
   },
   "outputs": [
    {
     "name": "stdout",
     "output_type": "stream",
     "text": [
      "[[ 0.6966621   0.64602116  2.          2.        ]\n",
      " [ 1.21093747  0.81166126  2.          2.        ]\n",
      " [ 2.05257671  0.06592049  2.          2.        ]\n",
      " ...\n",
      " [ 0.34160153  0.66658316  2.          2.        ]\n",
      " [ 0.66673211 -3.24127035  2.          2.        ]\n",
      " [ 2.29239147 -0.44680839  2.          2.        ]]\n"
     ]
    }
   ],
   "source": [
    "n = 100000\n",
    "\n",
    "\n",
    "# m_th = 40\n",
    "# m_ph = 40\n",
    "# thetas = discrete_angles(n, m_th, 2)\n",
    "# phis = discrete_angles(n, m_ph, 1)\n",
    "# name = ('discrete_model_mth%.0f_mph%.0f' %(m_th, m_ph))\n",
    "\n",
    "theta = 2\n",
    "phi = 2\n",
    "thetas = theta * np.ones(n)\n",
    "phis = phi * np.ones(n)\n",
    "name = ('discrete_model_th%.0f_ph%.0f' %(theta, phi))\n",
    "\n",
    "x_train, x_test, y_train, y_test = spherical_data(n, thetas, phis)\n",
    "\n",
    "print(x_train)"
   ]
  },
  {
   "cell_type": "markdown",
   "id": "36ca60de",
   "metadata": {
    "slideshow": {
     "slide_type": "slide"
    }
   },
   "source": [
    "# Training Interpolated Model"
   ]
  },
  {
   "cell_type": "code",
   "execution_count": 8,
   "id": "2c4829f7",
   "metadata": {},
   "outputs": [
    {
     "name": "stderr",
     "output_type": "stream",
     "text": [
      "2022-08-08 12:04:58.419229: I tensorflow/core/profiler/lib/profiler_session.cc:131] Profiler session initializing.\n",
      "2022-08-08 12:04:58.419265: I tensorflow/core/profiler/lib/profiler_session.cc:146] Profiler session started.\n",
      "2022-08-08 12:04:58.419507: I tensorflow/core/profiler/lib/profiler_session.cc:164] Profiler session tear down.\n"
     ]
    },
    {
     "name": "stdout",
     "output_type": "stream",
     "text": [
      "Epoch 1/20\n",
      " 20/160 [==>...........................] - ETA: 1s - loss: 0.5996 - accuracy: 0.6780"
     ]
    },
    {
     "name": "stderr",
     "output_type": "stream",
     "text": [
      "2022-08-08 12:04:58.979348: I tensorflow/core/profiler/lib/profiler_session.cc:131] Profiler session initializing.\n",
      "2022-08-08 12:04:58.979385: I tensorflow/core/profiler/lib/profiler_session.cc:146] Profiler session started.\n",
      "2022-08-08 12:04:59.005685: I tensorflow/core/profiler/lib/profiler_session.cc:66] Profiler session collecting data.\n",
      "2022-08-08 12:04:59.006705: I tensorflow/core/profiler/lib/profiler_session.cc:164] Profiler session tear down.\n",
      "2022-08-08 12:04:59.018972: I tensorflow/core/profiler/rpc/client/save_profile.cc:136] Creating directory: tutorial/logs/20220808-120458/train/plugins/profile/2022_08_08_12_04_59\n",
      "\n",
      "2022-08-08 12:04:59.024017: I tensorflow/core/profiler/rpc/client/save_profile.cc:142] Dumped gzipped tool data for trace.json.gz to tutorial/logs/20220808-120458/train/plugins/profile/2022_08_08_12_04_59/jupyter-matan.trace.json.gz\n",
      "2022-08-08 12:04:59.026139: I tensorflow/core/profiler/rpc/client/save_profile.cc:136] Creating directory: tutorial/logs/20220808-120458/train/plugins/profile/2022_08_08_12_04_59\n",
      "\n",
      "2022-08-08 12:04:59.030129: I tensorflow/core/profiler/rpc/client/save_profile.cc:142] Dumped gzipped tool data for memory_profile.json.gz to tutorial/logs/20220808-120458/train/plugins/profile/2022_08_08_12_04_59/jupyter-matan.memory_profile.json.gz\n",
      "2022-08-08 12:04:59.047966: I tensorflow/core/profiler/rpc/client/capture_profile.cc:251] Creating directory: tutorial/logs/20220808-120458/train/plugins/profile/2022_08_08_12_04_59\n",
      "Dumped tool data for xplane.pb to tutorial/logs/20220808-120458/train/plugins/profile/2022_08_08_12_04_59/jupyter-matan.xplane.pb\n",
      "Dumped tool data for overview_page.pb to tutorial/logs/20220808-120458/train/plugins/profile/2022_08_08_12_04_59/jupyter-matan.overview_page.pb\n",
      "Dumped tool data for input_pipeline.pb to tutorial/logs/20220808-120458/train/plugins/profile/2022_08_08_12_04_59/jupyter-matan.input_pipeline.pb\n",
      "Dumped tool data for tensorflow_stats.pb to tutorial/logs/20220808-120458/train/plugins/profile/2022_08_08_12_04_59/jupyter-matan.tensorflow_stats.pb\n",
      "Dumped tool data for kernel_stats.pb to tutorial/logs/20220808-120458/train/plugins/profile/2022_08_08_12_04_59/jupyter-matan.kernel_stats.pb\n",
      "\n"
     ]
    },
    {
     "name": "stdout",
     "output_type": "stream",
     "text": [
      "160/160 [==============================] - 1s 6ms/step - loss: 0.5438 - accuracy: 0.7224\n",
      "Epoch 2/20\n",
      "160/160 [==============================] - 1s 6ms/step - loss: 0.5330 - accuracy: 0.7305\n",
      "Epoch 3/20\n",
      "160/160 [==============================] - 1s 6ms/step - loss: 0.5320 - accuracy: 0.7314\n",
      "Epoch 4/20\n",
      "160/160 [==============================] - 1s 5ms/step - loss: 0.5315 - accuracy: 0.7308\n",
      "Epoch 5/20\n",
      "160/160 [==============================] - 1s 5ms/step - loss: 0.5312 - accuracy: 0.7310\n",
      "Epoch 6/20\n",
      "160/160 [==============================] - 1s 5ms/step - loss: 0.5314 - accuracy: 0.7305\n",
      "Epoch 7/20\n",
      "160/160 [==============================] - 1s 4ms/step - loss: 0.5311 - accuracy: 0.7310\n",
      "Epoch 8/20\n",
      "160/160 [==============================] - 1s 4ms/step - loss: 0.5313 - accuracy: 0.7317\n",
      "Epoch 9/20\n",
      "160/160 [==============================] - 1s 5ms/step - loss: 0.5308 - accuracy: 0.7310\n",
      "Epoch 10/20\n",
      "160/160 [==============================] - 1s 5ms/step - loss: 0.5308 - accuracy: 0.7310\n",
      "Epoch 11/20\n",
      "160/160 [==============================] - 1s 4ms/step - loss: 0.5308 - accuracy: 0.7312\n",
      "Epoch 12/20\n",
      "160/160 [==============================] - 1s 4ms/step - loss: 0.5309 - accuracy: 0.7317\n",
      "Epoch 13/20\n",
      "160/160 [==============================] - 1s 4ms/step - loss: 0.5307 - accuracy: 0.7316\n",
      "Epoch 14/20\n",
      "160/160 [==============================] - 1s 5ms/step - loss: 0.5308 - accuracy: 0.7312\n",
      "Epoch 15/20\n",
      "160/160 [==============================] - 1s 5ms/step - loss: 0.5308 - accuracy: 0.7311\n",
      "Epoch 16/20\n",
      "160/160 [==============================] - 1s 5ms/step - loss: 0.5306 - accuracy: 0.7316\n",
      "Epoch 17/20\n",
      "160/160 [==============================] - 1s 5ms/step - loss: 0.5308 - accuracy: 0.7318\n",
      "Epoch 18/20\n",
      "160/160 [==============================] - 1s 5ms/step - loss: 0.5306 - accuracy: 0.7319\n",
      "Epoch 19/20\n",
      "160/160 [==============================] - 1s 5ms/step - loss: 0.5306 - accuracy: 0.7309\n",
      "Epoch 20/20\n",
      "160/160 [==============================] - 1s 5ms/step - loss: 0.5310 - accuracy: 0.7317\n",
      "INFO:tensorflow:Assets written to: 3dmodels/discrete_model_th2_ph2/assets\n"
     ]
    }
   ],
   "source": [
    "model = tf.keras.models.Sequential([\n",
    "    tf.keras.layers.Dense(128, activation='relu'),\n",
    "    tf.keras.layers.Dropout(0.2),\n",
    "    tf.keras.layers.Dense(128, activation='relu'),\n",
    "    tf.keras.layers.Dense(1, activation='sigmoid')\n",
    "]);\n",
    "\n",
    "loss_fn = tf.keras.losses.BinaryCrossentropy()\n",
    "model.compile(\n",
    "    optimizer='adam',\n",
    "    loss=loss_fn,\n",
    "    metrics=['accuracy']\n",
    ")\n",
    "\n",
    "batch_size = 1000\n",
    "\n",
    "checkpoint_path = \"tutorial/checkpoints/cp.ckpt\"\n",
    "checkpoint_dir = os.path.dirname(checkpoint_path)\n",
    "\n",
    "# Create a callback that saves the model's weights\n",
    "cp_callback = tf.keras.callbacks.ModelCheckpoint(\n",
    "    filepath=checkpoint_path,\n",
    "    save_weights_only=True,\n",
    "    verbose=1,\n",
    "    save_freq=10*batch_size\n",
    ")\n",
    "\n",
    "log_dir = \"tutorial/logs/\" + datetime.datetime.now().strftime(\"%Y%m%d-%H%M%S\")\n",
    "tensorboard_callback = tf.keras.callbacks.TensorBoard(log_dir=log_dir, histogram_freq=1)\n",
    "\n",
    "EPOCHS=20\n",
    "model.fit(\n",
    "    x_train, y_train, epochs=EPOCHS,\n",
    "    batch_size=batch_size,\n",
    "    callbacks=[cp_callback, tensorboard_callback]\n",
    ");\n",
    "\n",
    "model.save('3dmodels/' + name)"
   ]
  },
  {
   "cell_type": "code",
   "execution_count": 16,
   "id": "88a0a775",
   "metadata": {},
   "outputs": [],
   "source": [
    "model = tf.keras.models.load_model('3dmodels/' + name)"
   ]
  }
 ],
 "metadata": {
  "kernelspec": {
   "display_name": "Python 3 (ipykernel)",
   "language": "python",
   "name": "python3"
  },
  "language_info": {
   "codemirror_mode": {
    "name": "ipython",
    "version": 3
   },
   "file_extension": ".py",
   "mimetype": "text/x-python",
   "name": "python",
   "nbconvert_exporter": "python",
   "pygments_lexer": "ipython3",
   "version": "3.9.13"
  }
 },
 "nbformat": 4,
 "nbformat_minor": 5
}
