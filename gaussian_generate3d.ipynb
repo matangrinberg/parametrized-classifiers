{
 "cells": [
  {
   "cell_type": "markdown",
   "id": "8d51229a",
   "metadata": {},
   "source": [
    "# Data prepration"
   ]
  },
  {
   "cell_type": "code",
   "execution_count": 3,
   "id": "5e250612",
   "metadata": {},
   "outputs": [],
   "source": [
    "import numpy as np\n",
    "import datetime\n",
    "import os\n",
    "import sklearn.metrics\n",
    "import matplotlib.pyplot as plt\n",
    "from sklearn.model_selection import train_test_split\n",
    "import tensorflow as tf\n",
    "from scipy.stats import chi\n",
    "from scipy import stats\n",
    "from functions import mean_gen, varx_gen, vary_gen, spherical_data, discrete_angles"
   ]
  },
  {
   "cell_type": "code",
   "execution_count": 14,
   "id": "f046b546",
   "metadata": {
    "scrolled": true
   },
   "outputs": [
    {
     "name": "stdout",
     "output_type": "stream",
     "text": [
      "[[ 1.42592595  0.2724874   4.77794461  2.85009733]\n",
      " [ 1.59258943 -0.40037405  6.15449331  2.50244622]\n",
      " [ 0.54891526 -3.19813743  4.9402326   0.73993036]\n",
      " ...\n",
      " [ 1.14933389  0.91900871  2.47385036  0.84497032]\n",
      " [ 0.49563322 -1.67486034  3.69017192  1.09744416]\n",
      " [-0.94236525  0.14972008  6.07990128  2.37616593]]\n"
     ]
    }
   ],
   "source": [
    "n = 200000\n",
    "\n",
    "\n",
    "m_th = 40\n",
    "m_ph = 40\n",
    "thetas = discrete_angles(n, m_th, 2)\n",
    "phis = discrete_angles(n, m_ph, 1)\n",
    "name = ('discrete_model_mth%.0f_mph%.0f' %(m_th, m_ph))\n",
    "\n",
    "\n",
    "# angles = np.array([5, 3])\n",
    "# thetas, phis = angles[0] * np.ones(n), angles[1] * np.ones(n)\n",
    "# name = ('discrete_model_th%.0f_ph%.0f' %(angles[0], angles[1]))\n",
    "\n",
    "x_train, x_test, y_train, y_test = spherical_data(n, thetas, phis)\n",
    "\n",
    "print(x_train)"
   ]
  },
  {
   "cell_type": "markdown",
   "id": "36ca60de",
   "metadata": {
    "slideshow": {
     "slide_type": "slide"
    }
   },
   "source": [
    "# Training Interpolated Model"
   ]
  },
  {
   "cell_type": "code",
   "execution_count": 15,
   "id": "2c4829f7",
   "metadata": {},
   "outputs": [
    {
     "name": "stderr",
     "output_type": "stream",
     "text": [
      "2022-08-10 13:09:29.886057: I tensorflow/core/profiler/lib/profiler_session.cc:131] Profiler session initializing.\n",
      "2022-08-10 13:09:29.886104: I tensorflow/core/profiler/lib/profiler_session.cc:146] Profiler session started.\n",
      "2022-08-10 13:09:29.886260: I tensorflow/core/profiler/lib/profiler_session.cc:164] Profiler session tear down.\n"
     ]
    },
    {
     "name": "stdout",
     "output_type": "stream",
     "text": [
      "Epoch 1/20\n",
      " 23/320 [=>............................] - ETA: 2s - loss: 0.6740 - accuracy: 0.5717"
     ]
    },
    {
     "name": "stderr",
     "output_type": "stream",
     "text": [
      "2022-08-10 13:09:30.399782: I tensorflow/core/profiler/lib/profiler_session.cc:131] Profiler session initializing.\n",
      "2022-08-10 13:09:30.399815: I tensorflow/core/profiler/lib/profiler_session.cc:146] Profiler session started.\n",
      "2022-08-10 13:09:30.423170: I tensorflow/core/profiler/lib/profiler_session.cc:66] Profiler session collecting data.\n",
      "2022-08-10 13:09:30.424145: I tensorflow/core/profiler/lib/profiler_session.cc:164] Profiler session tear down.\n",
      "2022-08-10 13:09:30.436511: I tensorflow/core/profiler/rpc/client/save_profile.cc:136] Creating directory: tutorial/logs/20220810-130929/train/plugins/profile/2022_08_10_13_09_30\n",
      "\n",
      "2022-08-10 13:09:30.442111: I tensorflow/core/profiler/rpc/client/save_profile.cc:142] Dumped gzipped tool data for trace.json.gz to tutorial/logs/20220810-130929/train/plugins/profile/2022_08_10_13_09_30/jupyter-matan.trace.json.gz\n",
      "2022-08-10 13:09:30.444111: I tensorflow/core/profiler/rpc/client/save_profile.cc:136] Creating directory: tutorial/logs/20220810-130929/train/plugins/profile/2022_08_10_13_09_30\n",
      "\n",
      "2022-08-10 13:09:30.449936: I tensorflow/core/profiler/rpc/client/save_profile.cc:142] Dumped gzipped tool data for memory_profile.json.gz to tutorial/logs/20220810-130929/train/plugins/profile/2022_08_10_13_09_30/jupyter-matan.memory_profile.json.gz\n",
      "2022-08-10 13:09:30.471342: I tensorflow/core/profiler/rpc/client/capture_profile.cc:251] Creating directory: tutorial/logs/20220810-130929/train/plugins/profile/2022_08_10_13_09_30\n",
      "Dumped tool data for xplane.pb to tutorial/logs/20220810-130929/train/plugins/profile/2022_08_10_13_09_30/jupyter-matan.xplane.pb\n",
      "Dumped tool data for overview_page.pb to tutorial/logs/20220810-130929/train/plugins/profile/2022_08_10_13_09_30/jupyter-matan.overview_page.pb\n",
      "Dumped tool data for input_pipeline.pb to tutorial/logs/20220810-130929/train/plugins/profile/2022_08_10_13_09_30/jupyter-matan.input_pipeline.pb\n",
      "Dumped tool data for tensorflow_stats.pb to tutorial/logs/20220810-130929/train/plugins/profile/2022_08_10_13_09_30/jupyter-matan.tensorflow_stats.pb\n",
      "Dumped tool data for kernel_stats.pb to tutorial/logs/20220810-130929/train/plugins/profile/2022_08_10_13_09_30/jupyter-matan.kernel_stats.pb\n",
      "\n"
     ]
    },
    {
     "name": "stdout",
     "output_type": "stream",
     "text": [
      "320/320 [==============================] - 2s 5ms/step - loss: 0.6498 - accuracy: 0.6043\n",
      "Epoch 2/20\n",
      "320/320 [==============================] - 2s 5ms/step - loss: 0.6386 - accuracy: 0.6178\n",
      "Epoch 3/20\n",
      "320/320 [==============================] - 2s 5ms/step - loss: 0.6349 - accuracy: 0.6230\n",
      "Epoch 4/20\n",
      "320/320 [==============================] - 2s 5ms/step - loss: 0.6326 - accuracy: 0.6253\n",
      "Epoch 5/20\n",
      "320/320 [==============================] - 2s 5ms/step - loss: 0.6314 - accuracy: 0.6270\n",
      "Epoch 6/20\n",
      "320/320 [==============================] - 2s 5ms/step - loss: 0.6304 - accuracy: 0.6280\n",
      "Epoch 7/20\n",
      "320/320 [==============================] - 1s 5ms/step - loss: 0.6296 - accuracy: 0.6287\n",
      "Epoch 8/20\n",
      "320/320 [==============================] - 2s 5ms/step - loss: 0.6291 - accuracy: 0.6285\n",
      "Epoch 9/20\n",
      "320/320 [==============================] - 2s 5ms/step - loss: 0.6287 - accuracy: 0.6292\n",
      "Epoch 10/20\n",
      "320/320 [==============================] - 2s 5ms/step - loss: 0.6283 - accuracy: 0.6301\n",
      "Epoch 11/20\n",
      "320/320 [==============================] - 2s 5ms/step - loss: 0.6280 - accuracy: 0.6307\n",
      "Epoch 12/20\n",
      "320/320 [==============================] - 2s 5ms/step - loss: 0.6274 - accuracy: 0.6303\n",
      "Epoch 13/20\n",
      "320/320 [==============================] - 1s 5ms/step - loss: 0.6275 - accuracy: 0.6304\n",
      "Epoch 14/20\n",
      "320/320 [==============================] - 2s 5ms/step - loss: 0.6268 - accuracy: 0.6313\n",
      "Epoch 15/20\n",
      "320/320 [==============================] - 2s 5ms/step - loss: 0.6272 - accuracy: 0.6309\n",
      "Epoch 16/20\n",
      "320/320 [==============================] - 2s 5ms/step - loss: 0.6268 - accuracy: 0.6310\n",
      "Epoch 17/20\n",
      "320/320 [==============================] - 2s 5ms/step - loss: 0.6267 - accuracy: 0.6312\n",
      "Epoch 18/20\n",
      "320/320 [==============================] - 1s 5ms/step - loss: 0.6263 - accuracy: 0.6313\n",
      "Epoch 19/20\n",
      "320/320 [==============================] - 1s 5ms/step - loss: 0.6263 - accuracy: 0.6310\n",
      "Epoch 20/20\n",
      "320/320 [==============================] - 1s 5ms/step - loss: 0.6264 - accuracy: 0.6318\n",
      "INFO:tensorflow:Assets written to: 3dmodels/discrete_model_mth40_mph40/assets\n"
     ]
    }
   ],
   "source": [
    "model = tf.keras.models.Sequential([\n",
    "    tf.keras.layers.Dense(128, activation='relu'),\n",
    "    tf.keras.layers.Dropout(0.2),\n",
    "    tf.keras.layers.Dense(128, activation='relu'),\n",
    "    tf.keras.layers.Dense(1, activation='sigmoid')\n",
    "]);\n",
    "\n",
    "loss_fn = tf.keras.losses.BinaryCrossentropy()\n",
    "model.compile(\n",
    "    optimizer='adam',\n",
    "    loss=loss_fn,\n",
    "    metrics=['accuracy']\n",
    ")\n",
    "\n",
    "batch_size = 1000\n",
    "\n",
    "checkpoint_path = \"tutorial/checkpoints/cp.ckpt\"\n",
    "checkpoint_dir = os.path.dirname(checkpoint_path)\n",
    "\n",
    "# Create a callback that saves the model's weights\n",
    "cp_callback = tf.keras.callbacks.ModelCheckpoint(\n",
    "    filepath=checkpoint_path,\n",
    "    save_weights_only=True,\n",
    "    verbose=1,\n",
    "    save_freq=10*batch_size\n",
    ")\n",
    "\n",
    "log_dir = \"tutorial/logs/\" + datetime.datetime.now().strftime(\"%Y%m%d-%H%M%S\")\n",
    "tensorboard_callback = tf.keras.callbacks.TensorBoard(log_dir=log_dir, histogram_freq=1)\n",
    "\n",
    "EPOCHS=20\n",
    "model.fit(\n",
    "    x_train, y_train, epochs=EPOCHS,\n",
    "    batch_size=batch_size,\n",
    "    callbacks=[cp_callback, tensorboard_callback]\n",
    ");\n",
    "\n",
    "model.save('3dmodels/' + name)"
   ]
  },
  {
   "cell_type": "code",
   "execution_count": 16,
   "id": "88a0a775",
   "metadata": {},
   "outputs": [],
   "source": [
    "model = tf.keras.models.load_model('3dmodels/' + name)"
   ]
  }
 ],
 "metadata": {
  "kernelspec": {
   "display_name": "Python 3 (ipykernel)",
   "language": "python",
   "name": "python3"
  },
  "language_info": {
   "codemirror_mode": {
    "name": "ipython",
    "version": 3
   },
   "file_extension": ".py",
   "mimetype": "text/x-python",
   "name": "python",
   "nbconvert_exporter": "python",
   "pygments_lexer": "ipython3",
   "version": "3.9.13"
  }
 },
 "nbformat": 4,
 "nbformat_minor": 5
}
