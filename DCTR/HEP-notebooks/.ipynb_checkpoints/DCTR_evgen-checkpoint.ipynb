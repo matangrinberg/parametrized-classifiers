{
 "cells": [
  {
   "cell_type": "code",
   "execution_count": 3,
   "id": "c6027415-95c7-46f2-857b-f573fccc558b",
   "metadata": {},
   "outputs": [],
   "source": [
    "import os\n",
    "import sys\n",
    "os.environ[\"CUDA_DEVICE_ORDER\"]=\"PCI_BUS_ID\"\n",
    "os.environ[\"CUDA_VISIBLE_DEVICES\"]=\"1\"\n",
    "os.environ['KMP_DUPLICATE_LIB_OK']='True'\n",
    "sys.path.append('/Users/matangrinberg/Library/CloudStorage/GoogleDrive-matan.grinberg@gmail.com/My Drive/(21-24) University of California, Berkeley/ML HEP/parametrized-classifiers/data')"
   ]
  },
  {
   "cell_type": "code",
   "execution_count": 4,
   "id": "77a697ee-1790-4ed2-a89c-c60be11a0eb8",
   "metadata": {},
   "outputs": [],
   "source": [
    "import pythia8\n",
    "import fastjet\n",
    "import numpy as np\n",
    "import numpy.random as random"
   ]
  },
  {
   "cell_type": "code",
   "execution_count": 5,
   "id": "8a6bf3cd-b244-44d6-be27-e7bad71a4870",
   "metadata": {},
   "outputs": [],
   "source": [
    "def generate_event(event_generator, jet_definition, alphaS, aLund, probStoUD):\n",
    "    boolisphoton = True\n",
    "    while (boolisphoton):\n",
    "        event_generator.next()\n",
    "        boolisphoton = False\n",
    "        particlesForJets = []\n",
    "        for i in range(event_generator.event.size()):\n",
    "            p = fastjet.PseudoJet(event_generator.event[i].px(), event_generator.event[i].py(), event_generator.event[i].pz(), event_generator.event[i].e())\n",
    "            p.set_user_index(event_generator.event[i].id())\n",
    "            if (event_generator.event[i].isFinal()==False):\n",
    "                continue;\n",
    "            if (abs(event_generator.event[i].id())==12):\n",
    "                continue;\n",
    "            if (abs(event_generator.event[i].id())==14):\n",
    "                continue;\n",
    "            if (abs(event_generator.event[i].id())==13):\n",
    "                continue;\n",
    "            if (abs(event_generator.event[i].id())==16):\n",
    "                continue;\n",
    "            particlesForJets += [p]\n",
    "            pass\n",
    "\n",
    "        cs = fastjet.ClusterSequence(particlesForJets, jet_definition)\n",
    "        myJets = fastjet.sorted_by_pt(cs.inclusive_jets(25.0));\n",
    "\n",
    "        if (len(myJets) > 0):\n",
    "            if (len(myJets[0].constituents())==1):\n",
    "                myid = myJets[0].constituents()[0].user_index()\n",
    "                origin = 0\n",
    "                while (event_generator.event[myid]==22):\n",
    "                    myid = event_generator.event[myid].mother1()\n",
    "                    origin = event_generator.event[myid].id()\n",
    "                    pass\n",
    "                if (abs(origin)==11):\n",
    "                    boolisphoton = True\n",
    "                    pass\n",
    "                pass\n",
    "            pass\n",
    "\n",
    "        if (len(myJets)==0):\n",
    "            boolisphoton = True\n",
    "        else:\n",
    "            outstring = np.zeros((51,7))\n",
    "            for i in range(len(myJets[0].constituents())):\n",
    "                outstring[i] = myJets[0].constituents()[i].px(), myJets[0].constituents()[i].py(), myJets[0].constituents()[i].pz(), myJets[0].constituents()[i].user_index(), alphaS, aLund, probStoUD\n",
    "                pass\n",
    "        \n",
    "    return outstring"
   ]
  },
  {
   "cell_type": "code",
   "execution_count": 6,
   "id": "ea85c6b9-d3c3-4fa7-930b-585c6db97ecb",
   "metadata": {},
   "outputs": [],
   "source": [
    "def generate_dataset(num_rand, num_mult, t):\n",
    "    alphaS = random.uniform(low=0.1, high=0.2, size=(num_rand))\n",
    "    aLund = random.uniform(low=0.2, high=0.3, size=(num_rand))\n",
    "    probStoUD = random.uniform(low=0.6, high=0.8, size=(num_rand))\n",
    "    n = num_rand * num_mult\n",
    "    dataset = np.zeros((n, 51, 7))\n",
    "    \n",
    "    for i in range(num_rand):\n",
    "        print(i)\n",
    "        alphaS_i = alphaS[i]\n",
    "        aLund_i = aLund[i]\n",
    "        probStoUD_i = probStoUD[i]\n",
    "        evgen = pythia8.Pythia()\n",
    "        jetdef = fastjet.JetDefinition(fastjet.antikt_algorithm, 0.8)\n",
    "\n",
    "        evgen.readString(\"WeakSingleBoson:ffbar2gmZ  = on\");\n",
    "        evgen.readString(\"23:onMode = off\");\n",
    "        evgen.readString(\"23:onIfAny =  1 2 3\");\n",
    "        evgen.readString(\"Print:quiet = off\");\n",
    "        evgen.readString(\"Beams:idA = 11\");\n",
    "        evgen.readString(\"Beams:idB = -11\");\n",
    "        evgen.readString(\"Beams:eCM = 92\");\n",
    "\n",
    "        evgen.readString(\"TimeShower:alphaSvalue = \" + str(alphaS_i))\n",
    "        evgen.readString(\"StringZ:aLund = \" + str(aLund_i))\n",
    "        evgen.readString(\"StringFlav:probStoUD = \" + str(probStoUD_i))\n",
    "        evgen.init()\n",
    "        \n",
    "        for j in range(num_mult):\n",
    "            dataset[i * num_mult + j] = generate_event(evgen, jetdef, alphaS_i, aLund_i, probStoUD_i)\n",
    "            \n",
    "    return dataset"
   ]
  },
  {
   "cell_type": "code",
   "execution_count": 7,
   "id": "a102b73a-3be2-49b7-8636-bc5aa2355231",
   "metadata": {},
   "outputs": [],
   "source": [
    "# # One-parameter family\n",
    "# # When k=0 we want (0.1365, 0.68, 0.275)\n",
    "\n",
    "# def onepfam(t):\n",
    "#     alphaS = 0.1365 \n",
    "#     aLund = 0.68\n",
    "#     probStoUD = 0.275"
   ]
  },
  {
   "cell_type": "code",
   "execution_count": 8,
   "id": "69d00dc8-fa0e-4fc8-a4d2-3be94b9c4257",
   "metadata": {},
   "outputs": [
    {
     "name": "stdout",
     "output_type": "stream",
     "text": [
      "0\n"
     ]
    }
   ],
   "source": [
    "a = generate_dataset(1, 1, 1)"
   ]
  },
  {
   "cell_type": "code",
   "execution_count": null,
   "id": "2f9fb38f-45db-4b8e-9b6c-c71534b66422",
   "metadata": {},
   "outputs": [],
   "source": []
  }
 ],
 "metadata": {
  "kernelspec": {
   "display_name": "Python 3",
   "language": "python",
   "name": "python3"
  },
  "language_info": {
   "codemirror_mode": {
    "name": "ipython",
    "version": 3
   },
   "file_extension": ".py",
   "mimetype": "text/x-python",
   "name": "python",
   "nbconvert_exporter": "python",
   "pygments_lexer": "ipython3",
   "version": "3.8.13"
  }
 },
 "nbformat": 4,
 "nbformat_minor": 5
}
