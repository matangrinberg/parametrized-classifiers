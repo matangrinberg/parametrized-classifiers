{
 "cells": [
  {
   "cell_type": "code",
   "execution_count": 1,
   "id": "c6027415-95c7-46f2-857b-f573fccc558b",
   "metadata": {},
   "outputs": [],
   "source": [
    "import os\n",
    "import sys\n",
    "os.environ[\"CUDA_DEVICE_ORDER\"]=\"PCI_BUS_ID\"\n",
    "os.environ[\"CUDA_VISIBLE_DEVICES\"]=\"1\"\n",
    "os.environ['KMP_DUPLICATE_LIB_OK']='True'\n",
    "sys.path.append('/Users/matangrinberg/Library/CloudStorage/GoogleDrive-matan.grinberg@gmail.com/My Drive/(21-24) University of California, Berkeley/ML HEP/parametrized-classifiers/data')"
   ]
  },
  {
   "cell_type": "code",
   "execution_count": 2,
   "id": "77a697ee-1790-4ed2-a89c-c60be11a0eb8",
   "metadata": {},
   "outputs": [],
   "source": [
    "import pythia8\n",
    "import fastjet\n",
    "import numpy as np\n",
    "import numpy.random as random"
   ]
  },
  {
   "cell_type": "code",
   "execution_count": 3,
   "id": "8a6bf3cd-b244-44d6-be27-e7bad71a4870",
   "metadata": {},
   "outputs": [],
   "source": [
    "def generate_event(event_generator, jet_definition, alphaS, aLund, probStoUD):\n",
    "    boolisphoton = True\n",
    "    while (boolisphoton):\n",
    "        event_generator.next()\n",
    "        boolisphoton = False\n",
    "        particlesForJets = []\n",
    "        for i in range(event_generator.event.size()):\n",
    "            p = fastjet.PseudoJet(event_generator.event[i].px(), event_generator.event[i].py(), event_generator.event[i].pz(), event_generator.event[i].e())\n",
    "            p.set_user_index(i)\n",
    "            if (event_generator.event[i].isFinal()==False):\n",
    "                continue;\n",
    "            if (abs(event_generator.event[i].id())==12):\n",
    "                continue;\n",
    "            if (abs(event_generator.event[i].id())==14):\n",
    "                continue;\n",
    "            if (abs(event_generator.event[i].id())==13):\n",
    "                continue;\n",
    "            if (abs(event_generator.event[i].id())==16):\n",
    "                continue;\n",
    "            particlesForJets += [p]\n",
    "            pass\n",
    "\n",
    "        cs = fastjet.ClusterSequence(particlesForJets, jet_definition)\n",
    "        myJets = fastjet.sorted_by_pt(cs.inclusive_jets(25.0));\n",
    "\n",
    "        if (len(myJets) > 0):\n",
    "            if (len(myJets[0].constituents())==1):\n",
    "                myid = myJets[0].constituents()[0].user_index()\n",
    "                origin = 0\n",
    "                while (event_generator.event[myid].id()==22):\n",
    "                    myid = event_generator.event[myid].mother1()\n",
    "                    origin = event_generator.event[myid].id()\n",
    "                    pass\n",
    "                if (abs(origin)==11):\n",
    "                    boolisphoton = True\n",
    "                    pass\n",
    "                pass\n",
    "            pass\n",
    "\n",
    "        if (len(myJets)==0):\n",
    "            boolisphoton = True\n",
    "        else:\n",
    "            outstring = np.zeros((51,7))\n",
    "            for i in range(len(myJets[0].constituents())):\n",
    "                outstring[i] = myJets[0].constituents()[i].px(), myJets[0].constituents()[i].py(), myJets[0].constituents()[i].pz(), myJets[0].constituents()[i].user_index(), alphaS, aLund, probStoUD\n",
    "                pass\n",
    "    return outstring"
   ]
  },
  {
   "cell_type": "code",
   "execution_count": 4,
   "id": "d28899f2-05bb-4252-8627-b5c7403f5615",
   "metadata": {},
   "outputs": [],
   "source": [
    "# When t=0 we want (0.16, 0.7, 0.27)\n",
    "def parameter_distribution(size, t, max_fineness=100000):\n",
    "    alphaS0, aLund0, probStoUD0 = np.array([0.16]), np.array([0.7]), np.array([0.27])\n",
    "    \n",
    "    if t==0:\n",
    "        return alphaS0, aLund0, probStoUD0\n",
    "\n",
    "    width_alphaS, width_aLund, width_probStoUD = 0.04, 0.1, 0.05\n",
    "\n",
    "    alphaS = alphaS0 + width_alphaS * random.randint(low = - max_fineness * t, high = max_fineness * t, size=size) / (max_fineness * t)\n",
    "    aLund = aLund0 + width_aLund * random.randint(low = - max_fineness * t, high = max_fineness * t, size=size) / (max_fineness * t)\n",
    "    probStoUD = probStoUD0 + width_probStoUD * random.randint(low = - max_fineness * t, high = max_fineness * t, size=size) / (max_fineness * t)\n",
    "    \n",
    "    return alphaS, aLund, probStoUD"
   ]
  },
  {
   "cell_type": "code",
   "execution_count": 5,
   "id": "ea85c6b9-d3c3-4fa7-930b-585c6db97ecb",
   "metadata": {},
   "outputs": [],
   "source": [
    "def generate_dataset(num_rand, num_mult, t):\n",
    "    # alphaS = random.uniform(low=0.1, high=0.2, size=(num_rand))\n",
    "    # aLund = random.uniform(low=0.2, high=0.3, size=(num_rand))\n",
    "    # probStoUD = random.uniform(low=0.6, high=0.8, size=(num_rand))\n",
    "    \n",
    "    alphaS, aLund, probStoUD = parameter_distribution(num_rand, t)\n",
    "    n = num_rand * num_mult\n",
    "    dataset = np.zeros((n, 51, 7))\n",
    "    \n",
    "    for i in range(num_rand):\n",
    "        print(i)\n",
    "        alphaS_i = alphaS[i]\n",
    "        aLund_i = aLund[i]\n",
    "        probStoUD_i = probStoUD[i]\n",
    "        evgen = pythia8.Pythia()\n",
    "        jetdef = fastjet.JetDefinition(fastjet.antikt_algorithm, 0.8)\n",
    "\n",
    "        evgen.readString(\"WeakSingleBoson:ffbar2gmZ  = on\");\n",
    "        evgen.readString(\"23:onMode = off\");\n",
    "        evgen.readString(\"23:onIfAny =  1 2 3\");\n",
    "        evgen.readString(\"Print:quiet = on\");\n",
    "        evgen.readString(\"Beams:idA = 11\");\n",
    "        evgen.readString(\"Beams:idB = -11\");\n",
    "        evgen.readString(\"Beams:eCM = 92\");\n",
    "\n",
    "        evgen.readString(\"TimeShower:alphaSvalue = \" + str(alphaS_i))\n",
    "        evgen.readString(\"StringZ:aLund = \" + str(aLund_i))\n",
    "        evgen.readString(\"StringFlav:probStoUD = \" + str(probStoUD_i))\n",
    "        evgen.init()\n",
    "        \n",
    "        for j in range(num_mult):\n",
    "            dataset[i * num_mult + j] = generate_event(evgen, jetdef, alphaS_i, aLund_i, probStoUD_i)\n",
    "            \n",
    "    return dataset"
   ]
  },
  {
   "cell_type": "code",
   "execution_count": 6,
   "id": "ca553a25-dcf4-43e2-9dde-11f8dc217476",
   "metadata": {},
   "outputs": [],
   "source": [
    "def generate_dataset_ref(num_rand, num_mult, t):\n",
    "    n = num_rand * num_mult\n",
    "    dataset = np.zeros((n, 51, 7))\n",
    "    \n",
    "    evgen = pythia8.Pythia()\n",
    "    jetdef = fastjet.JetDefinition(fastjet.antikt_algorithm, 0.8)\n",
    "\n",
    "    evgen.readString(\"WeakSingleBoson:ffbar2gmZ  = on\");\n",
    "    evgen.readString(\"23:onMode = off\");\n",
    "    evgen.readString(\"23:onIfAny =  1 2 3\");\n",
    "    evgen.readString(\"Print:quiet = on\");\n",
    "    evgen.readString(\"Beams:idA = 11\");\n",
    "    evgen.readString(\"Beams:idB = -11\");\n",
    "    evgen.readString(\"Beams:eCM = 92\");\n",
    "\n",
    "    evgen.readString(\"TimeShower:alphaSvalue = 0.16\")\n",
    "    evgen.readString(\"StringZ:aLund = 0.7\")\n",
    "    evgen.readString(\"StringFlav:probStoUD = 0.27\")\n",
    "    evgen.init()\n",
    "\n",
    "    alphaS_fake, aLund_fake, probStoUD_fake = parameter_distribution(n, t)\n",
    "    \n",
    "    for i in range(n):\n",
    "        dataset[i] = generate_event(evgen, jetdef, alphaS_fake[i], aLund_fake[i], probStoUD_fake[i])\n",
    "            \n",
    "    return dataset"
   ]
  },
  {
   "cell_type": "code",
   "execution_count": null,
   "id": "69d00dc8-fa0e-4fc8-a4d2-3be94b9c4257",
   "metadata": {},
   "outputs": [],
   "source": [
    "num_random = 10000\n",
    "num_mult = 10\n",
    "t = 0.001\n",
    "\n",
    "x0 = generate_dataset_ref(num_random, num_mult, t)\n",
    "x1 = generate_dataset(num_random, num_mult, t)\n",
    "\n",
    "y0 = np.zeros(num_random * num_mult)\n",
    "y1 = np.ones(num_random * num_mult)"
   ]
  },
  {
   "cell_type": "code",
   "execution_count": null,
   "id": "b1174410-1ade-49fd-bbe9-d5af6345eb85",
   "metadata": {},
   "outputs": [],
   "source": [
    "data_dir = '/global/home/users/mgrinberg/parametrized-classifiers/data/'\n",
    "run_name = 'interpolate_standard'\n",
    "run_name += '_' + 'n' + str(num_random*num_mult) + 't' + str(t)"
   ]
  },
  {
   "cell_type": "code",
   "execution_count": null,
   "id": "b2c41bdc-6684-482b-89f5-04edf572c337",
   "metadata": {},
   "outputs": [],
   "source": []
  },
  {
   "cell_type": "code",
   "execution_count": null,
   "id": "24eb1f12-4d5f-4a0b-90f6-8f4226b61f3a",
   "metadata": {},
   "outputs": [],
   "source": [
    "x = np.concatenate((x0, x1), axis=0)\n",
    "y = np.concatenate((y0, y1), axis=0)"
   ]
  },
  {
   "cell_type": "code",
   "execution_count": null,
   "id": "2f9fb38f-45db-4b8e-9b6c-c71534b66422",
   "metadata": {},
   "outputs": [],
   "source": [
    "np.savez(data_dir + run_name, x, y)"
   ]
  },
  {
   "cell_type": "code",
   "execution_count": null,
   "id": "5b3304da-cc4c-46e2-b5fa-b2ff631d259f",
   "metadata": {},
   "outputs": [],
   "source": [
    "data = np.load(data_dir + run_name + '.npz')"
   ]
  },
  {
   "cell_type": "code",
   "execution_count": null,
   "id": "0ff61a66-e63d-489c-8ef5-c9d0efa331db",
   "metadata": {},
   "outputs": [],
   "source": [
    "data['arr_0'].shape"
   ]
  },
  {
   "cell_type": "code",
   "execution_count": null,
   "id": "75f42ca1-513d-41a7-a64a-69dd8311d4f5",
   "metadata": {},
   "outputs": [],
   "source": []
  }
 ],
 "metadata": {
  "kernelspec": {
   "display_name": "Python 3",
   "language": "python",
   "name": "python3"
  },
  "language_info": {
   "codemirror_mode": {
    "name": "ipython",
    "version": 3
   },
   "file_extension": ".py",
   "mimetype": "text/x-python",
   "name": "python",
   "nbconvert_exporter": "python",
   "pygments_lexer": "ipython3",
   "version": "3.8.13"
  }
 },
 "nbformat": 4,
 "nbformat_minor": 5
}
