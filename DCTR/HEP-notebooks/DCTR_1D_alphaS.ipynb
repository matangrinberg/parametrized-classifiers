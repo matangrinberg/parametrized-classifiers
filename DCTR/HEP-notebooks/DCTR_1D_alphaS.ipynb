{
 "cells": [
  {
   "cell_type": "code",
   "execution_count": 1,
   "metadata": {},
   "outputs": [],
   "source": [
    "import os\n",
    "import sys\n",
    "# os.environ[\"CUDA_DEVICE_ORDER\"]=\"PCI_BUS_ID\"\n",
    "# os.environ[\"CUDA_VISIBLE_DEVICES\"]=\"3\"\n",
    "os.environ['KMP_DUPLICATE_LIB_OK']='True'\n",
    "sys.path.append('/Users/matangrinberg/Library/CloudStorage/GoogleDrive-matan.grinberg@gmail.com/My Drive/(21-24) University of California, Berkeley/ML HEP/parametrized-classifiers/data')"
   ]
  },
  {
   "cell_type": "code",
   "execution_count": 2,
   "metadata": {},
   "outputs": [
    {
     "name": "stderr",
     "output_type": "stream",
     "text": [
      "2023-01-06 19:19:16.738731: I tensorflow/core/platform/cpu_feature_guard.cc:193] This TensorFlow binary is optimized with oneAPI Deep Neural Network Library (oneDNN) to use the following CPU instructions in performance-critical operations:  SSE4.1 SSE4.2\n",
      "To enable them in other operations, rebuild TensorFlow with the appropriate compiler flags.\n"
     ]
    }
   ],
   "source": [
    "# standard library imports\n",
    "from __future__ import absolute_import, division, print_function\n",
    "\n",
    "\n",
    "# standard numerical library imports\n",
    "import numpy as np\n",
    "import scipy as sp\n",
    "\n",
    "import keras\n",
    "import tensorflow as tf\n",
    "\n",
    "# energyflow imports\n",
    "import energyflow as ef\n",
    "from energyflow.archs import PFN\n",
    "from energyflow.utils import data_split, remap_pids, to_categorical\n",
    "\n",
    "import matplotlib.pyplot as plt"
   ]
  },
  {
   "cell_type": "code",
   "execution_count": 3,
   "metadata": {},
   "outputs": [],
   "source": [
    "# Global plot settings\n",
    "from matplotlib import rc\n",
    "import matplotlib.font_manager\n",
    "rc('font', family='serif')\n",
    "rc('text', usetex=True)\n",
    "rc('font', size=22) \n",
    "rc('xtick', labelsize=15) \n",
    "rc('ytick', labelsize=15) \n",
    "rc('legend', fontsize=15)"
   ]
  },
  {
   "cell_type": "markdown",
   "metadata": {
    "tags": []
   },
   "source": [
    "# Load Data"
   ]
  },
  {
   "cell_type": "markdown",
   "metadata": {},
   "source": [
    "## Utilities"
   ]
  },
  {
   "cell_type": "code",
   "execution_count": 4,
   "metadata": {},
   "outputs": [],
   "source": [
    "# normalize pT and center (y, phi)\n",
    "def normalize(x):\n",
    "    mask = x[:,0] > 0\n",
    "    yphi_avg = np.average(x[mask,1:3], weights=x[mask,0], axis=0)\n",
    "    x[mask,1:3] -= yphi_avg\n",
    "    x[mask,0] /= x[:,0].sum()"
   ]
  },
  {
   "cell_type": "code",
   "execution_count": 5,
   "metadata": {},
   "outputs": [],
   "source": [
    "def preprocess_data(X):\n",
    "    for x in X:\n",
    "        normalize(x)\n",
    "    \n",
    "    # Remap PIDs to unique values in range [0,1], error_on_unknown flag for PIDs not in dictionary\n",
    "    remap_pids(X, pid_i=3, error_on_unknown=False)\n",
    "    return X"
   ]
  },
  {
   "cell_type": "markdown",
   "metadata": {},
   "source": [
    "## Process data"
   ]
  },
  {
   "cell_type": "code",
   "execution_count": 6,
   "metadata": {},
   "outputs": [],
   "source": [
    "# Path to downloaded data from Zenodo\n",
    "data_dir = '/Users/matangrinberg/Library/CloudStorage/GoogleDrive-matan.grinberg@gmail.com/My Drive/(21-24) University of California, Berkeley/ML HEP/parametrized-classifiers/data/'"
   ]
  },
  {
   "cell_type": "code",
   "execution_count": 7,
   "metadata": {},
   "outputs": [],
   "source": [
    "dataset = np.load(data_dir + '1D_alphaS_train.npz')"
   ]
  },
  {
   "cell_type": "code",
   "execution_count": 8,
   "metadata": {},
   "outputs": [],
   "source": [
    "X = dataset['X']\n",
    "Y = dataset['Y']"
   ]
  },
  {
   "cell_type": "code",
   "execution_count": 9,
   "metadata": {},
   "outputs": [],
   "source": [
    "X = preprocess_data(X)\n",
    "Y = to_categorical(Y, num_classes=2)"
   ]
  },
  {
   "cell_type": "code",
   "execution_count": 10,
   "metadata": {},
   "outputs": [],
   "source": [
    "X_train, X_val, Y_train, Y_val = data_split(X, Y, test=0.1, shuffle=True)"
   ]
  },
  {
   "cell_type": "code",
   "execution_count": 11,
   "metadata": {},
   "outputs": [
    {
     "name": "stdout",
     "output_type": "stream",
     "text": [
      "(1620000, 51, 7)\n",
      "(1620000, 2)\n",
      "(180000, 51, 7)\n",
      "(180000, 2)\n"
     ]
    }
   ],
   "source": [
    "print(X_train.shape)\n",
    "print(Y_train.shape)\n",
    "\n",
    "print(X_val.shape)\n",
    "print(Y_val.shape)"
   ]
  },
  {
   "cell_type": "markdown",
   "metadata": {},
   "source": [
    "# Build Model"
   ]
  },
  {
   "cell_type": "code",
   "execution_count": 12,
   "metadata": {
    "scrolled": true
   },
   "outputs": [
    {
     "name": "stderr",
     "output_type": "stream",
     "text": [
      "2023-01-06 19:21:21.944269: I tensorflow/core/platform/cpu_feature_guard.cc:193] This TensorFlow binary is optimized with oneAPI Deep Neural Network Library (oneDNN) to use the following CPU instructions in performance-critical operations:  SSE4.1 SSE4.2\n",
      "To enable them in other operations, rebuild TensorFlow with the appropriate compiler flags.\n"
     ]
    }
   ],
   "source": [
    "# network architecture parameters\n",
    "Phi_sizes = (100,100,128)\n",
    "F_sizes = (100,100,100)\n",
    "\n",
    "dctr = PFN(input_dim=7, Phi_sizes=Phi_sizes, F_sizes=F_sizes, summary=False)"
   ]
  },
  {
   "cell_type": "markdown",
   "metadata": {},
   "source": [
    "# Train model"
   ]
  },
  {
   "cell_type": "code",
   "execution_count": 64,
   "metadata": {},
   "outputs": [],
   "source": [
    "save_label = 'DCTR_ee_dijets_1D_alphaS_old'\n",
    "\n",
    "checkpoint = keras.callbacks.ModelCheckpoint('./saved_models/' + save_label + '.h5', monitor='val_loss', verbose=2, save_best_only=True, mode='min')\n",
    "CSVLogger = keras.callbacks.CSVLogger('./logs/' + save_label + '_loss.csv', append=False)\n",
    "EarlyStopping = keras.callbacks.EarlyStopping(monitor='val_loss', min_delta=0, patience=10, verbose=1, restore_best_weights=True)\n",
    "callbacks = [checkpoint, CSVLogger, EarlyStopping]"
   ]
  },
  {
   "cell_type": "code",
   "execution_count": 65,
   "metadata": {
    "scrolled": true
   },
   "outputs": [
    {
     "name": "stdout",
     "output_type": "stream",
     "text": [
      "Epoch 1/100\n",
      "810/810 [==============================] - ETA: 0s - loss: 0.6919 - acc: 0.5355\n",
      "Epoch 1: val_loss improved from inf to 0.68262, saving model to ./saved_models/DCTR_ee_dijets_1D_alphaS_old.h5\n",
      "810/810 [==============================] - 79s 96ms/step - loss: 0.6919 - acc: 0.5355 - val_loss: 0.6826 - val_acc: 0.5523\n",
      "Epoch 2/100\n",
      "810/810 [==============================] - ETA: 0s - loss: 0.6818 - acc: 0.5551\n",
      "Epoch 2: val_loss improved from 0.68262 to 0.68168, saving model to ./saved_models/DCTR_ee_dijets_1D_alphaS_old.h5\n",
      "810/810 [==============================] - 77s 95ms/step - loss: 0.6818 - acc: 0.5551 - val_loss: 0.6817 - val_acc: 0.5552\n",
      "Epoch 3/100\n",
      "810/810 [==============================] - ETA: 0s - loss: 0.6807 - acc: 0.5579\n",
      "Epoch 3: val_loss improved from 0.68168 to 0.68095, saving model to ./saved_models/DCTR_ee_dijets_1D_alphaS_old.h5\n",
      "810/810 [==============================] - 86s 106ms/step - loss: 0.6807 - acc: 0.5579 - val_loss: 0.6810 - val_acc: 0.5574\n",
      "Epoch 4/100\n",
      "810/810 [==============================] - ETA: 0s - loss: 0.6801 - acc: 0.5587\n",
      "Epoch 4: val_loss improved from 0.68095 to 0.68079, saving model to ./saved_models/DCTR_ee_dijets_1D_alphaS_old.h5\n",
      "810/810 [==============================] - 83s 102ms/step - loss: 0.6801 - acc: 0.5587 - val_loss: 0.6808 - val_acc: 0.5557\n",
      "Epoch 5/100\n",
      "810/810 [==============================] - ETA: 0s - loss: 0.6797 - acc: 0.5598\n",
      "Epoch 5: val_loss did not improve from 0.68079\n",
      "810/810 [==============================] - 82s 101ms/step - loss: 0.6797 - acc: 0.5598 - val_loss: 0.6841 - val_acc: 0.5513\n",
      "Epoch 6/100\n",
      "810/810 [==============================] - ETA: 0s - loss: 0.6794 - acc: 0.5605\n",
      "Epoch 6: val_loss improved from 0.68079 to 0.68046, saving model to ./saved_models/DCTR_ee_dijets_1D_alphaS_old.h5\n",
      "810/810 [==============================] - 81s 100ms/step - loss: 0.6794 - acc: 0.5605 - val_loss: 0.6805 - val_acc: 0.5581\n",
      "Epoch 7/100\n",
      "810/810 [==============================] - ETA: 0s - loss: 0.6790 - acc: 0.5616\n",
      "Epoch 7: val_loss improved from 0.68046 to 0.67925, saving model to ./saved_models/DCTR_ee_dijets_1D_alphaS_old.h5\n",
      "810/810 [==============================] - 83s 103ms/step - loss: 0.6790 - acc: 0.5616 - val_loss: 0.6793 - val_acc: 0.5605\n",
      "Epoch 8/100\n",
      "810/810 [==============================] - ETA: 0s - loss: 0.6788 - acc: 0.5619\n",
      "Epoch 8: val_loss did not improve from 0.67925\n",
      "810/810 [==============================] - 82s 102ms/step - loss: 0.6788 - acc: 0.5619 - val_loss: 0.6794 - val_acc: 0.5611\n",
      "Epoch 9/100\n",
      "810/810 [==============================] - ETA: 0s - loss: 0.6785 - acc: 0.5626\n",
      "Epoch 9: val_loss improved from 0.67925 to 0.67917, saving model to ./saved_models/DCTR_ee_dijets_1D_alphaS_old.h5\n",
      "810/810 [==============================] - 87s 108ms/step - loss: 0.6785 - acc: 0.5626 - val_loss: 0.6792 - val_acc: 0.5596\n",
      "Epoch 10/100\n",
      "810/810 [==============================] - ETA: 0s - loss: 0.6782 - acc: 0.5627\n",
      "Epoch 10: val_loss improved from 0.67917 to 0.67909, saving model to ./saved_models/DCTR_ee_dijets_1D_alphaS_old.h5\n",
      "810/810 [==============================] - 79s 98ms/step - loss: 0.6782 - acc: 0.5627 - val_loss: 0.6791 - val_acc: 0.5605\n",
      "Epoch 11/100\n",
      "810/810 [==============================] - ETA: 0s - loss: 0.6781 - acc: 0.5634\n",
      "Epoch 11: val_loss improved from 0.67909 to 0.67871, saving model to ./saved_models/DCTR_ee_dijets_1D_alphaS_old.h5\n",
      "810/810 [==============================] - 84s 103ms/step - loss: 0.6781 - acc: 0.5634 - val_loss: 0.6787 - val_acc: 0.5607\n",
      "Epoch 12/100\n",
      "810/810 [==============================] - ETA: 0s - loss: 0.6779 - acc: 0.5633\n",
      "Epoch 12: val_loss did not improve from 0.67871\n",
      "810/810 [==============================] - 83s 103ms/step - loss: 0.6779 - acc: 0.5633 - val_loss: 0.6793 - val_acc: 0.5622\n",
      "Epoch 13/100\n",
      "810/810 [==============================] - ETA: 0s - loss: 0.6779 - acc: 0.5635\n",
      "Epoch 13: val_loss improved from 0.67871 to 0.67849, saving model to ./saved_models/DCTR_ee_dijets_1D_alphaS_old.h5\n",
      "810/810 [==============================] - 85s 105ms/step - loss: 0.6779 - acc: 0.5635 - val_loss: 0.6785 - val_acc: 0.5618\n",
      "Epoch 14/100\n",
      "810/810 [==============================] - ETA: 0s - loss: 0.6776 - acc: 0.5642\n",
      "Epoch 14: val_loss did not improve from 0.67849\n",
      "810/810 [==============================] - 85s 105ms/step - loss: 0.6776 - acc: 0.5642 - val_loss: 0.6785 - val_acc: 0.5618\n",
      "Epoch 15/100\n",
      "810/810 [==============================] - ETA: 0s - loss: 0.6775 - acc: 0.5644\n",
      "Epoch 15: val_loss improved from 0.67849 to 0.67841, saving model to ./saved_models/DCTR_ee_dijets_1D_alphaS_old.h5\n",
      "810/810 [==============================] - 87s 108ms/step - loss: 0.6775 - acc: 0.5644 - val_loss: 0.6784 - val_acc: 0.5616\n",
      "Epoch 16/100\n",
      "810/810 [==============================] - ETA: 0s - loss: 0.6774 - acc: 0.5645\n",
      "Epoch 16: val_loss improved from 0.67841 to 0.67816, saving model to ./saved_models/DCTR_ee_dijets_1D_alphaS_old.h5\n",
      "810/810 [==============================] - 79s 97ms/step - loss: 0.6774 - acc: 0.5645 - val_loss: 0.6782 - val_acc: 0.5624\n",
      "Epoch 17/100\n",
      "810/810 [==============================] - ETA: 0s - loss: 0.6772 - acc: 0.5648\n",
      "Epoch 17: val_loss improved from 0.67816 to 0.67813, saving model to ./saved_models/DCTR_ee_dijets_1D_alphaS_old.h5\n",
      "810/810 [==============================] - 83s 103ms/step - loss: 0.6772 - acc: 0.5648 - val_loss: 0.6781 - val_acc: 0.5620\n",
      "Epoch 18/100\n",
      "810/810 [==============================] - ETA: 0s - loss: 0.6771 - acc: 0.5648\n",
      "Epoch 18: val_loss did not improve from 0.67813\n",
      "810/810 [==============================] - 88s 109ms/step - loss: 0.6771 - acc: 0.5648 - val_loss: 0.6788 - val_acc: 0.5618\n",
      "Epoch 19/100\n",
      "810/810 [==============================] - ETA: 0s - loss: 0.6769 - acc: 0.5653\n",
      "Epoch 19: val_loss improved from 0.67813 to 0.67813, saving model to ./saved_models/DCTR_ee_dijets_1D_alphaS_old.h5\n",
      "810/810 [==============================] - 91s 113ms/step - loss: 0.6769 - acc: 0.5653 - val_loss: 0.6781 - val_acc: 0.5623\n",
      "Epoch 20/100\n",
      "810/810 [==============================] - ETA: 0s - loss: 0.6770 - acc: 0.5655\n",
      "Epoch 20: val_loss did not improve from 0.67813\n",
      "810/810 [==============================] - 90s 111ms/step - loss: 0.6770 - acc: 0.5655 - val_loss: 0.6786 - val_acc: 0.5619\n",
      "Epoch 21/100\n",
      "810/810 [==============================] - ETA: 0s - loss: 0.6768 - acc: 0.5657\n",
      "Epoch 21: val_loss did not improve from 0.67813\n",
      "810/810 [==============================] - 89s 110ms/step - loss: 0.6768 - acc: 0.5657 - val_loss: 0.6784 - val_acc: 0.5630\n",
      "Epoch 22/100\n",
      "810/810 [==============================] - ETA: 0s - loss: 0.6767 - acc: 0.5656\n",
      "Epoch 22: val_loss improved from 0.67813 to 0.67766, saving model to ./saved_models/DCTR_ee_dijets_1D_alphaS_old.h5\n",
      "810/810 [==============================] - 81s 100ms/step - loss: 0.6767 - acc: 0.5656 - val_loss: 0.6777 - val_acc: 0.5632\n",
      "Epoch 23/100\n",
      "810/810 [==============================] - ETA: 0s - loss: 0.6766 - acc: 0.5664\n",
      "Epoch 23: val_loss did not improve from 0.67766\n",
      "810/810 [==============================] - 86s 106ms/step - loss: 0.6766 - acc: 0.5664 - val_loss: 0.6782 - val_acc: 0.5630\n",
      "Epoch 24/100\n",
      "810/810 [==============================] - ETA: 0s - loss: 0.6766 - acc: 0.5659\n",
      "Epoch 24: val_loss did not improve from 0.67766\n",
      "810/810 [==============================] - 79s 98ms/step - loss: 0.6766 - acc: 0.5659 - val_loss: 0.6778 - val_acc: 0.5632\n",
      "Epoch 25/100\n",
      "810/810 [==============================] - ETA: 0s - loss: 0.6764 - acc: 0.5665\n",
      "Epoch 25: val_loss did not improve from 0.67766\n",
      "810/810 [==============================] - 81s 100ms/step - loss: 0.6764 - acc: 0.5665 - val_loss: 0.6777 - val_acc: 0.5624\n",
      "Epoch 26/100\n",
      "810/810 [==============================] - ETA: 0s - loss: 0.6763 - acc: 0.5667\n",
      "Epoch 26: val_loss did not improve from 0.67766\n",
      "810/810 [==============================] - 82s 102ms/step - loss: 0.6763 - acc: 0.5667 - val_loss: 0.6779 - val_acc: 0.5636\n",
      "Epoch 27/100\n",
      "810/810 [==============================] - ETA: 0s - loss: 0.6763 - acc: 0.5665\n",
      "Epoch 27: val_loss did not improve from 0.67766\n",
      "810/810 [==============================] - 81s 100ms/step - loss: 0.6763 - acc: 0.5665 - val_loss: 0.6779 - val_acc: 0.5626\n",
      "Epoch 28/100\n",
      "810/810 [==============================] - ETA: 0s - loss: 0.6762 - acc: 0.5670\n",
      "Epoch 28: val_loss did not improve from 0.67766\n",
      "810/810 [==============================] - 81s 100ms/step - loss: 0.6762 - acc: 0.5670 - val_loss: 0.6781 - val_acc: 0.5628\n",
      "Epoch 29/100\n",
      "810/810 [==============================] - ETA: 0s - loss: 0.6761 - acc: 0.5672\n",
      "Epoch 29: val_loss did not improve from 0.67766\n",
      "810/810 [==============================] - 82s 101ms/step - loss: 0.6761 - acc: 0.5672 - val_loss: 0.6780 - val_acc: 0.5626\n",
      "Epoch 30/100\n",
      "810/810 [==============================] - ETA: 0s - loss: 0.6761 - acc: 0.5673\n",
      "Epoch 30: val_loss did not improve from 0.67766\n",
      "810/810 [==============================] - 81s 100ms/step - loss: 0.6761 - acc: 0.5673 - val_loss: 0.6779 - val_acc: 0.5628\n",
      "Epoch 31/100\n",
      "810/810 [==============================] - ETA: 0s - loss: 0.6760 - acc: 0.5672\n",
      "Epoch 31: val_loss did not improve from 0.67766\n",
      "810/810 [==============================] - 81s 100ms/step - loss: 0.6760 - acc: 0.5672 - val_loss: 0.6782 - val_acc: 0.5618\n",
      "Epoch 32/100\n",
      "810/810 [==============================] - ETA: 0s - loss: 0.6758 - acc: 0.5675\n",
      "Epoch 32: val_loss did not improve from 0.67766\n",
      "Restoring model weights from the end of the best epoch: 22.\n",
      "810/810 [==============================] - 81s 100ms/step - loss: 0.6758 - acc: 0.5675 - val_loss: 0.6780 - val_acc: 0.5632\n",
      "Epoch 32: early stopping\n"
     ]
    }
   ],
   "source": [
    "history = dctr.fit(X_train, Y_train,\n",
    "                    epochs = 100,\n",
    "                    batch_size = 2000,\n",
    "                    validation_data = (X_val, Y_val),\n",
    "                    verbose = 1, \n",
    "                    callbacks = callbacks)"
   ]
  },
  {
   "cell_type": "markdown",
   "metadata": {},
   "source": [
    "# Plot History"
   ]
  },
  {
   "cell_type": "code",
   "execution_count": 66,
   "metadata": {},
   "outputs": [
    {
     "data": {
      "image/png": "[encoded data removed]",
      "text/plain": [
       "<Figure size 640x480 with 1 Axes>"
      ]
     },
     "metadata": {},
     "output_type": "display_data"
    }
   ],
   "source": [
    "plt.plot(history.history['loss'],     label = 'loss')\n",
    "plt.plot(history.history['val_loss'], label = 'val loss')\n",
    "plt.legend(loc=0)\n",
    "plt.ylabel('loss')\n",
    "plt.xlabel('Epochs')\n",
    "plt.show()"
   ]
  },
  {
   "cell_type": "markdown",
   "metadata": {},
   "source": [
    "# Load Model"
   ]
  },
  {
   "cell_type": "code",
   "execution_count": 13,
   "metadata": {},
   "outputs": [],
   "source": [
    "# load model from saved file\n",
    "dctr.model.load_weights('./saved_models/DCTR_ee_dijets_1D_alphaS_old.h5')"
   ]
  },
  {
   "cell_type": "markdown",
   "metadata": {
    "jp-MarkdownHeadingCollapsed": true,
    "tags": []
   },
   "source": [
    "# Validation"
   ]
  },
  {
   "cell_type": "markdown",
   "metadata": {},
   "source": [
    "## Load Datasets"
   ]
  },
  {
   "cell_type": "code",
   "execution_count": 16,
   "metadata": {},
   "outputs": [],
   "source": [
    "test_dataset_0 = np.load(data_dir+'test1D_default.npz')\n",
    "test_dataset_1 = np.load(data_dir+'test1D_alphaS.npz')"
   ]
  },
  {
   "cell_type": "code",
   "execution_count": 18,
   "metadata": {},
   "outputs": [],
   "source": [
    "# Define labels for legends\n",
    "label_0 = r'$\\alpha_s=0.1365$'\n",
    "\n",
    "label_1 = r'$\\alpha_s = 0.16$'\n",
    "\n",
    "pythia_text = r'\\textsc{Pythia 8}' + '\\n' + r'$e^+e^- \\to Z \\to $ dijets' +'\\n'+ r\"anti-$k_{\\mathrm{T}}$, $R=0.8$\"\n",
    "def make_legend():\n",
    "    ax = plt.gca()\n",
    "    leg = ax.legend(frameon=False)\n",
    "    leg.set_title(pythia_text, prop={'size':14})\n",
    "    leg._legend_box.align = \"left\"\n",
    "    plt.tight_layout()"
   ]
  },
  {
   "cell_type": "markdown",
   "metadata": {},
   "source": [
    "## Get predictions"
   ]
  },
  {
   "cell_type": "code",
   "execution_count": 19,
   "metadata": {},
   "outputs": [],
   "source": [
    "# Load test datasets\n",
    "X0_test = preprocess_data(test_dataset_0['jet'])\n",
    "X1_test = preprocess_data(test_dataset_1['jet'])"
   ]
  },
  {
   "cell_type": "code",
   "execution_count": 20,
   "metadata": {},
   "outputs": [],
   "source": [
    "# Get predicted probabilities\n",
    "preds_0 = dctr.predict(X0_test, batch_size=1000)\n",
    "preds_1 = dctr.predict(X1_test, batch_size=1000)"
   ]
  },
  {
   "cell_type": "markdown",
   "metadata": {},
   "source": [
    "## Get weights"
   ]
  },
  {
   "cell_type": "code",
   "execution_count": 21,
   "metadata": {},
   "outputs": [],
   "source": [
    "weights_0 = preds_0[:,0]/preds_0[:,1]\n",
    "weights_1 = preds_1[:,0]/preds_1[:,1]"
   ]
  },
  {
   "cell_type": "markdown",
   "metadata": {},
   "source": [
    "## Analyze weights"
   ]
  },
  {
   "cell_type": "code",
   "execution_count": 22,
   "metadata": {},
   "outputs": [
    {
     "name": "stdout",
     "output_type": "stream",
     "text": [
      "1.8078127\n",
      "2.603647\n",
      "4.149763\n",
      "5.6271133\n"
     ]
    }
   ],
   "source": [
    "print(max(weights_0))\n",
    "print(max(1/weights_0))\n",
    "print(max(weights_1))\n",
    "print(max(1/weights_1))"
   ]
  },
  {
   "cell_type": "code",
   "execution_count": 23,
   "metadata": {},
   "outputs": [
    {
     "data": {
      "image/png": "[encoded data removed]",
      "text/plain": [
       "<Figure size 432x288 with 1 Axes>"
      ]
     },
     "metadata": {
      "needs_background": "light"
     },
     "output_type": "display_data"
    }
   ],
   "source": [
    "clip_val = 3\n",
    "bins = np.linspace(0, clip_val, 101)\n",
    "plt.hist(np.clip(weights_0, 0, clip_val), bins = bins)\n",
    "plt.xlabel(\"Weight\")\n",
    "plt.ylabel('Jets per bin (normalized)')\n",
    "plt.title(\"Weights \" + label_0 + r' $\\rightarrow$ ' + label_0, fontsize=20)\n",
    "plt.show()"
   ]
  },
  {
   "cell_type": "code",
   "execution_count": 24,
   "metadata": {},
   "outputs": [
    {
     "data": {
      "image/png": "[encoded data removed]",
      "text/plain": [
       "<Figure size 432x288 with 1 Axes>"
      ]
     },
     "metadata": {
      "needs_background": "light"
     },
     "output_type": "display_data"
    }
   ],
   "source": [
    "clip_val = 3\n",
    "bins = np.linspace(0, clip_val, 101)\n",
    "plt.hist(np.clip(weights_1, 0, clip_val), bins = bins)\n",
    "plt.xlabel(\"Weight\")\n",
    "plt.ylabel('Jets per bin (normalized)')\n",
    "plt.title(\"Weights \" + label_0 + r' $\\rightarrow$ ' + label_1, fontsize=20)\n",
    "plt.show()"
   ]
  },
  {
   "cell_type": "markdown",
   "metadata": {
    "jp-MarkdownHeadingCollapsed": true,
    "tags": []
   },
   "source": [
    "# Validation Plots"
   ]
  },
  {
   "cell_type": "code",
   "execution_count": 25,
   "metadata": {},
   "outputs": [],
   "source": [
    "# Define default plot styles\n",
    "plot_style_0 = {'histtype':'step', 'color':'black', 'linewidth':2, 'linestyle':'--', 'density':True}\n",
    "plot_style_1 = {'alpha':0.5, 'density':True}"
   ]
  },
  {
   "cell_type": "markdown",
   "metadata": {},
   "source": [
    "## Multiplicity"
   ]
  },
  {
   "cell_type": "code",
   "execution_count": 26,
   "metadata": {},
   "outputs": [
    {
     "data": {
      "image/png": "[encoded data removed]",
      "text/plain": [
       "<Figure size 432x360 with 1 Axes>"
      ]
     },
     "metadata": {
      "needs_background": "light"
     },
     "output_type": "display_data"
    }
   ],
   "source": [
    "plt.figure(figsize=(6,5))\n",
    "bins = np.linspace(0,40,21)\n",
    "hist0 = plt.hist(test_dataset_0['multiplicity'], bins = bins, label = label_0, **plot_style_0)\n",
    "hist1 = plt.hist(test_dataset_1['multiplicity'], bins = bins, label = label_1, **plot_style_1)\n",
    "hist2 = plt.hist(test_dataset_1['multiplicity'], bins = bins, label = label_1 + ' wgt.', weights=weights_1, **plot_style_1)\n",
    "\n",
    "plt.xlabel('Multiplicity')\n",
    "plt.ylabel('Jets per bin (normalized)')\n",
    "plt.xlim([0,40])\n",
    "make_legend()\n",
    "plt.show()"
   ]
  },
  {
   "cell_type": "markdown",
   "metadata": {},
   "source": [
    "## Nsubjettiness"
   ]
  },
  {
   "cell_type": "markdown",
   "metadata": {},
   "source": [
    "### tau21"
   ]
  },
  {
   "cell_type": "code",
   "execution_count": 27,
   "metadata": {},
   "outputs": [
    {
     "data": {
      "image/png": "[encoded data removed]",
      "text/plain": [
       "<Figure size 432x360 with 1 Axes>"
      ]
     },
     "metadata": {
      "needs_background": "light"
     },
     "output_type": "display_data"
    }
   ],
   "source": [
    "plt.figure(figsize=(6,5))\n",
    "bins = np.linspace(0,1,31)\n",
    "hist0 = plt.hist(test_dataset_0['tau21'], bins=bins, label=label_0, **plot_style_0)\n",
    "hist1 = plt.hist(test_dataset_1['tau21'], bins=bins, label=label_1, **plot_style_1)\n",
    "hist2 = plt.hist(test_dataset_1['tau21'], bins=bins, label=label_1 +' wgt.',  weights= weights_1, **plot_style_1)\n",
    "\n",
    "plt.xlabel('tau21')\n",
    "plt.ylabel('Jets per bin (normalized)')\n",
    "make_legend()\n",
    "plt.show()"
   ]
  },
  {
   "cell_type": "markdown",
   "metadata": {},
   "source": [
    "### tau32"
   ]
  },
  {
   "cell_type": "code",
   "execution_count": 28,
   "metadata": {},
   "outputs": [
    {
     "data": {
      "image/png": "[encoded data removed]",
      "text/plain": [
       "<Figure size 432x360 with 1 Axes>"
      ]
     },
     "metadata": {
      "needs_background": "light"
     },
     "output_type": "display_data"
    }
   ],
   "source": [
    "plt.figure(figsize=(6,5))\n",
    "bins = np.linspace(0,1,31)\n",
    "hist0 = plt.hist(test_dataset_0['tau32'], bins=bins, label=label_0, **plot_style_0)\n",
    "hist1 = plt.hist(test_dataset_1['tau32'], bins=bins, label=label_1, **plot_style_1)\n",
    "hist2 = plt.hist(test_dataset_1['tau32'], bins=bins, label=label_1 +' wgt.',  weights= weights_1, **plot_style_1)\n",
    "\n",
    "plt.xlabel('tau32')\n",
    "plt.ylabel('Jets per bin (normalized)')\n",
    "make_legend()\n",
    "plt.show()"
   ]
  },
  {
   "cell_type": "markdown",
   "metadata": {},
   "source": [
    "## ECF"
   ]
  },
  {
   "cell_type": "markdown",
   "metadata": {},
   "source": [
    "### N=3, $\\beta$=4"
   ]
  },
  {
   "cell_type": "code",
   "execution_count": 29,
   "metadata": {},
   "outputs": [
    {
     "name": "stderr",
     "output_type": "stream",
     "text": [
      "/home/aandreassen/.local/lib/python3.5/site-packages/ipykernel_launcher.py:3: RuntimeWarning: divide by zero encountered in log\n",
      "  This is separate from the ipykernel package so we can avoid doing imports until\n",
      "/home/aandreassen/.local/lib/python3.5/site-packages/ipykernel_launcher.py:4: RuntimeWarning: divide by zero encountered in log\n",
      "  after removing the cwd from sys.path.\n",
      "/home/aandreassen/.local/lib/python3.5/site-packages/ipykernel_launcher.py:5: RuntimeWarning: divide by zero encountered in log\n",
      "  \"\"\"\n"
     ]
    },
    {
     "data": {
      "image/png": "[encoded data removed]",
      "text/plain": [
       "<Figure size 432x360 with 1 Axes>"
      ]
     },
     "metadata": {
      "needs_background": "light"
     },
     "output_type": "display_data"
    }
   ],
   "source": [
    "plt.figure(figsize=(6,5))\n",
    "bins = np.linspace(-15,5,31)\n",
    "hist1 = plt.hist(np.log(test_dataset_0['ECF_N3_B4']), bins=bins, label=label_0, **plot_style_0)\n",
    "hist2 = plt.hist(np.log(test_dataset_1['ECF_N3_B4']), bins=bins, label=label_1, **plot_style_1)\n",
    "hist3 = plt.hist(np.log(test_dataset_1['ECF_N3_B4']), bins=bins, label=label_1 +' wgt.',  weights= weights_1, **plot_style_1)\n",
    "\n",
    "plt.xlabel('log ECF(N=3, beta=4)')\n",
    "plt.ylabel('Jets per bin (normalized)')\n",
    "make_legend()\n",
    "plt.show()"
   ]
  },
  {
   "cell_type": "markdown",
   "metadata": {},
   "source": [
    "### N=4, $\\beta$=4"
   ]
  },
  {
   "cell_type": "code",
   "execution_count": 30,
   "metadata": {},
   "outputs": [
    {
     "name": "stderr",
     "output_type": "stream",
     "text": [
      "/home/aandreassen/.local/lib/python3.5/site-packages/ipykernel_launcher.py:3: RuntimeWarning: divide by zero encountered in log\n",
      "  This is separate from the ipykernel package so we can avoid doing imports until\n",
      "/home/aandreassen/.local/lib/python3.5/site-packages/ipykernel_launcher.py:4: RuntimeWarning: divide by zero encountered in log\n",
      "  after removing the cwd from sys.path.\n",
      "/home/aandreassen/.local/lib/python3.5/site-packages/ipykernel_launcher.py:5: RuntimeWarning: divide by zero encountered in log\n",
      "  \"\"\"\n"
     ]
    },
    {
     "data": {
      "image/png": "[encoded data removed]",
      "text/plain": [
       "<Figure size 432x360 with 1 Axes>"
      ]
     },
     "metadata": {
      "needs_background": "light"
     },
     "output_type": "display_data"
    }
   ],
   "source": [
    "plt.figure(figsize=(6,5))\n",
    "bins = np.linspace(-35,5,31)\n",
    "hist1 = plt.hist(np.log(test_dataset_0['ECF_N4_B4']), bins=bins, label=label_0, **plot_style_0)\n",
    "hist2 = plt.hist(np.log(test_dataset_1['ECF_N4_B4']), bins=bins, label=label_1, **plot_style_1)\n",
    "hist3 = plt.hist(np.log(test_dataset_1['ECF_N4_B4']), bins=bins, label=label_1 +' wgt.',  weights= weights_1, **plot_style_1)\n",
    "\n",
    "plt.xlabel('log ECF(N=4, beta=4)')\n",
    "plt.ylabel('Jets per bin (normalized)')\n",
    "make_legend()\n",
    "plt.show()"
   ]
  },
  {
   "cell_type": "markdown",
   "metadata": {},
   "source": [
    "## Kaons"
   ]
  },
  {
   "cell_type": "code",
   "execution_count": 31,
   "metadata": {},
   "outputs": [
    {
     "data": {
      "image/png": "[encoded data removed]",
      "text/plain": [
       "<Figure size 432x360 with 1 Axes>"
      ]
     },
     "metadata": {
      "needs_background": "light"
     },
     "output_type": "display_data"
    }
   ],
   "source": [
    "plt.figure(figsize=(6,5))\n",
    "bins = np.linspace(0,10,11)\n",
    "hist0 = plt.hist(test_dataset_0['number_of_kaons'], bins=bins, label=label_0, **plot_style_0)\n",
    "hist1 = plt.hist(test_dataset_1['number_of_kaons'], bins=bins, label=label_1, **plot_style_1)\n",
    "hist2 = plt.hist(test_dataset_1['number_of_kaons'], bins=bins, label=label_1 +' wgt.',  weights= weights_1, **plot_style_1)\n",
    "\n",
    "plt.xlabel('Number of kaons')\n",
    "plt.ylabel('Jets per bin (normalized)')\n",
    "make_legend()\n",
    "plt.show()"
   ]
  },
  {
   "cell_type": "markdown",
   "metadata": {},
   "source": [
    "# Fitting"
   ]
  },
  {
   "cell_type": "markdown",
   "metadata": {},
   "source": [
    "## Loss Curve Model"
   ]
  },
  {
   "cell_type": "code",
   "execution_count": 14,
   "metadata": {},
   "outputs": [],
   "source": [
    "class AddParams2Input(keras.layers.Layer):\n",
    "    \"\"\" Custom layer for tuning with DCTR: \n",
    "    Arguments:\n",
    "    - n_MC_params : (int) - the number of n_MC_params that are in X_dim\n",
    "    - default_MC_params : (list of floats) - default values for each of the MC parameters\n",
    "    - trainable_MC_params : (list of booleans) - True for parameters that you want to fit, false for parameters that should be fixed at default value\n",
    "\n",
    "    Usage: \n",
    "    Let X_dim be the input dimension of each particle to a PFN model, and n_MC_params be the number of MC parameters. \n",
    "    Defines a Layer that takes in an array of dimension \n",
    "    (batch_size, padded_multiplicity, X_dim - n_MC_params)\n",
    "    This layer appends each particle by the default_MC_params and makes then trainable or non-trainable based on trainable_MC_params\n",
    "    \"\"\"\n",
    "    \n",
    "    def __init__(self, n_MC_params, default_MC_params, trainable_MC_params):\n",
    "        super(AddParams2Input, self).__init__()\n",
    "        # Definitions\n",
    "        self.n_MC_params = n_MC_params\n",
    "        self.MC_params = default_MC_params\n",
    "        self.trainable_MC_params = trainable_MC_params\n",
    "\n",
    "    \n",
    "    def build(self, input_shape):\n",
    "        # Convert input MC parameters to weights and make then trainable or non-trainable\n",
    "        for i in range(self.n_MC_params):\n",
    "            self.MC_params[i] = self.add_weight(name='MC_param_{}'.format(i), \n",
    "                                                shape=(1, 1),\n",
    "                                                initializer=keras.initializers.Constant(self.MC_params[i]),\n",
    "                                                trainable=self.trainable_MC_params[i])\n",
    "            \n",
    "        self.MC_params = keras.backend.tf.concat(self.MC_params, axis = -1)\n",
    "        super(AddParams2Input, self).build(input_shape)\n",
    "    \n",
    "    def call(self, input):\n",
    "        # Add MC params to each input particle (but not to the padded rows)\n",
    "        concat = tf.transpose(keras.backend.tf.where(keras.backend.abs(input[..., 0]) > 0,\n",
    "                                                 tf.transpose(self.MC_params * keras.backend.ones_like(input[..., 0:self.n_MC_params])),\n",
    "                                                tf.transpose(keras.backend.zeros_like(input[..., 0:self.n_MC_params]))))\n",
    "        return keras.backend.concatenate([input, concat], -1)\n",
    "        \n",
    "        # concat_input_and_params = keras.backend.tf.where(keras.backend.abs(input[...,0])>0,\n",
    "        #                                                  self.MC_params*keras.backend.ones_like(input[...,0:self.n_MC_params]),\n",
    "        #                                                  keras.backend.zeros_like(input[...,0:self.n_MC_params]))\n",
    "        # return keras.backend.concatenate([input, concat_input_and_params], -1)\n",
    "    \n",
    "    def compute_output_shape(self, input_shape):\n",
    "        return (input_shape[0], input_shape[1]+self.n_MC_params)"
   ]
  },
  {
   "cell_type": "code",
   "execution_count": 15,
   "metadata": {},
   "outputs": [],
   "source": [
    "def get_DCTR_fit_model(DCTR_model, \n",
    "                       X_dim, \n",
    "                       n_MC_params, \n",
    "                       default_MC_params,\n",
    "                       trainable_MC_params):\n",
    "    \"\"\" \n",
    "    Get a DCTR model that trains on the input MC parameters\n",
    "    \n",
    "    Arguments:\n",
    "    - DCTR_model : a PFN model that has been trained on a to continuously interpolate over the input MC dimensions\n",
    "    - X_dim : (int) - the dimension of the input expected by DCTR_model\n",
    "    - n_MC_params : (int) - the number of n_MC_params that are in X_dim\n",
    "    - default_MC_params : (list of floats) - default values for each of the MC parameters\n",
    "    - trainable_MC_params : (list of booleans) - True for parameters that you want to fit, false for parameters that should be fixed at default value\n",
    "\n",
    "    Returns:\n",
    "    - DCTR_fit_model: a compiled model that gradient descends only on the trainable MC parameters\n",
    "    \"\"\"\n",
    "    \n",
    "    # Do sanity checks on inputs\n",
    "    assert X_dim >=n_MC_params, \"X_dim must be larger than n_MC_params. X_dim includes the dimensionality of the 4-vector + number of MC parameters\"\n",
    "    assert n_MC_params == len(default_MC_params), \"Dimension mismatch between n_MC_params and number of default MC parameters given. len(default_MC_params) must equal n_MC_params\"\n",
    "    assert n_MC_params == len(trainable_MC_params), \"Dimension mismatch between n_MC_params and trainable_MC_params. len(trainable_MC_params) must equal n_MC_params.\"\n",
    "    assert np.any(trainable_MC_params), \"All parameters are set to non-trainable.\"\n",
    "    \n",
    "    # Define input to DCTR_fit_model\n",
    "    non_param_input = keras.layers.Input((None, X_dim - n_MC_params))\n",
    "\n",
    "    # Construct layer that adds trainable and non-trainable parameters to the input\n",
    "    add_params_layer = AddParams2Input(n_MC_params, default_MC_params, trainable_MC_params)\n",
    "    time_dist     = keras.layers.TimeDistributed(add_params_layer, name='tdist')(non_param_input)     \n",
    "\n",
    "    # Set all weights in DCTR_model to non-trainable\n",
    "    for layer in DCTR_model.model.layers:\n",
    "        layer.trainable = False\n",
    "        \n",
    "    # get the graph and the weights from the DCTR_model\n",
    "    output = DCTR_model.model(inputs = time_dist)\n",
    "\n",
    "    # Define full model\n",
    "    DCTR_fit_model = fitmodel = keras.models.Model(inputs = non_param_input, outputs = output)\n",
    "    \n",
    "    optimizer = keras.optimizers.Adam(lr=1e-4)\n",
    "    \n",
    "    # Compile with loss function\n",
    "    DCTR_fit_model.compile(optimizer=optimizer, loss='categorical_crossentropy')\n",
    "    \n",
    "    return DCTR_fit_model"
   ]
  },
  {
   "cell_type": "code",
   "execution_count": 16,
   "metadata": {},
   "outputs": [
    {
     "name": "stdout",
     "output_type": "stream",
     "text": [
      "Model: \"model_1\"\n",
      "_________________________________________________________________\n",
      " Layer (type)                Output Shape              Param #   \n",
      "=================================================================\n",
      " input_1 (InputLayer)        [(None, None, 4)]         0         \n",
      "                                                                 \n",
      " tdist (TimeDistributed)     (None, None, 7)           3         \n",
      "                                                                 \n",
      " model (Functional)          (None, 2)                 57130     \n",
      "                                                                 \n",
      "=================================================================\n",
      "Total params: 57,133\n",
      "Trainable params: 1\n",
      "Non-trainable params: 57,132\n",
      "_________________________________________________________________\n"
     ]
    },
    {
     "name": "stderr",
     "output_type": "stream",
     "text": [
      "/opt/anaconda3/envs/pc/lib/python3.10/site-packages/keras/optimizers/optimizer_v2/adam.py:114: UserWarning: The `lr` argument is deprecated, use `learning_rate` instead.\n",
      "  super().__init__(name, **kwargs)\n"
     ]
    }
   ],
   "source": [
    "dctr_fit_model = get_DCTR_fit_model(dctr, \n",
    "                       X_dim =7, \n",
    "                       n_MC_params = 3, \n",
    "                       default_MC_params   = [0.1365, 0.68, 0.217], # default params for [alpha_s, aLund, StoUD]\n",
    "                       trainable_MC_params = [True, False, False]) # Only train alpha_s\n",
    "\n",
    "dctr_fit_model.summary()"
   ]
  },
  {
   "cell_type": "code",
   "execution_count": 17,
   "metadata": {},
   "outputs": [
    {
     "name": "stdout",
     "output_type": "stream",
     "text": [
      "[<tf.Variable 'tdist/MC_param_0:0' shape=(1, 1) dtype=float32, numpy=array([[0.1365]], dtype=float32)>]\n"
     ]
    },
    {
     "data": {
      "image/png": "[encoded data removed]",
      "text/plain": [
       "<IPython.core.display.Image object>"
      ]
     },
     "execution_count": 17,
     "metadata": {},
     "output_type": "execute_result"
    }
   ],
   "source": [
    "print(dctr_fit_model.trainable_weights)\n",
    "keras.utils.plot_model(dctr_fit_model, \"my_first_model_with_shape_info.png\", show_shapes=True)"
   ]
  },
  {
   "cell_type": "code",
   "execution_count": 18,
   "metadata": {},
   "outputs": [],
   "source": [
    "def set_MC_params(dctr_fit_model, MC_params):\n",
    "    alphaS, aLund, StoUD = MC_params\n",
    "    weights = [np.array([[alphaS]],   dtype=np.float32),\n",
    "               np.array([[aLund]],    dtype=np.float32),\n",
    "               np.array([[StoUD]], dtype=np.float32)]\n",
    "    dctr_fit_model.layers[1].set_weights(weights)"
   ]
  },
  {
   "cell_type": "code",
   "execution_count": 19,
   "metadata": {},
   "outputs": [
    {
     "data": {
      "text/plain": [
       "[array([[0.1365]], dtype=float32),\n",
       " array([[0.68]], dtype=float32),\n",
       " array([[0.217]], dtype=float32)]"
      ]
     },
     "execution_count": 19,
     "metadata": {},
     "output_type": "execute_result"
    }
   ],
   "source": [
    "dctr_fit_model.layers[1].get_weights()"
   ]
  },
  {
   "cell_type": "markdown",
   "metadata": {},
   "source": [
    "## Load Data"
   ]
  },
  {
   "cell_type": "code",
   "execution_count": 20,
   "metadata": {},
   "outputs": [],
   "source": [
    "default_dataset = np.load(data_dir + 'test1D_default.npz')\n",
    "unknown_dataset = np.load(data_dir + 'test1D_alphaS.npz')"
   ]
  },
  {
   "cell_type": "code",
   "execution_count": 21,
   "metadata": {},
   "outputs": [],
   "source": [
    "X_default = preprocess_data(default_dataset['jet'][:,:,:4])\n",
    "X_unknown = preprocess_data(unknown_dataset['jet'][:,:,:4])\n",
    "Y_default = np.zeros_like(X_unknown[:,0,0])\n",
    "Y_unknown = np.ones_like(X_unknown[:,0,0])"
   ]
  },
  {
   "cell_type": "code",
   "execution_count": 22,
   "metadata": {},
   "outputs": [],
   "source": [
    "X_fit = np.concatenate((X_default, X_unknown), axis = 0)\n",
    "Y_fit = np.concatenate((Y_default, Y_unknown), axis = 0)\n",
    "Y_fit = to_categorical(Y_fit, num_classes=2)"
   ]
  },
  {
   "cell_type": "code",
   "execution_count": 23,
   "metadata": {},
   "outputs": [],
   "source": [
    "X_fit, _, Y_fit, _ = data_split(X_fit, Y_fit, test=0, shuffle=True)"
   ]
  },
  {
   "cell_type": "code",
   "execution_count": 24,
   "metadata": {},
   "outputs": [],
   "source": [
    "n = 1000\n",
    "X_f=X_fit[0:n]"
   ]
  },
  {
   "cell_type": "code",
   "execution_count": 25,
   "metadata": {},
   "outputs": [],
   "source": [
    "a1 = [0.12,0.68,0.217] * tf.ones((n, 51, 3))\n",
    "a2 = [0.14,0.68,0.217] * tf.ones((n, 51, 3))\n",
    "a3 = [0.16,0.68,0.217] * tf.ones((n, 51, 3))\n",
    "a4 = [0.18,0.68,0.217] * tf.ones((n, 51, 3))\n",
    "b1 = tf.concat([X_f, a1], axis=-1)\n",
    "b2 = tf.concat([X_f, a2], axis=-1)\n",
    "b3 = tf.concat([X_f, a3], axis=-1)\n",
    "b4 = tf.concat([X_f, a4], axis=-1)\n",
    "preds1 = dctr.model(b1[0:n])\n",
    "preds2 = dctr.model(b2[0:n])\n",
    "preds3 = dctr.model(b3[0:n])\n",
    "preds4 = dctr.model(b4[0:n])\n",
    "loss = keras.losses.CategoricalCrossentropy()"
   ]
  },
  {
   "cell_type": "code",
   "execution_count": 26,
   "metadata": {},
   "outputs": [
    {
     "name": "stdout",
     "output_type": "stream",
     "text": [
      "tf.Tensor(0.72986525, shape=(), dtype=float32)\n",
      "tf.Tensor(0.69050026, shape=(), dtype=float32)\n",
      "tf.Tensor(0.6810602, shape=(), dtype=float32)\n",
      "tf.Tensor(0.7145909, shape=(), dtype=float32)\n"
     ]
    }
   ],
   "source": [
    "print(loss(Y_fit[0:n], preds1))\n",
    "print(loss(Y_fit[0:n], preds2))\n",
    "print(loss(Y_fit[0:n], preds3))\n",
    "print(loss(Y_fit[0:n], preds4))"
   ]
  },
  {
   "cell_type": "markdown",
   "metadata": {},
   "source": [
    "## Evaluate Loss as a function of MC parameter"
   ]
  },
  {
   "cell_type": "code",
   "execution_count": 31,
   "metadata": {},
   "outputs": [
    {
     "data": {
      "text/plain": [
       "<tf.Tensor: shape=(1, 2), dtype=float32, numpy=array([[0.64992195, 0.35007805]], dtype=float32)>"
      ]
     },
     "execution_count": 31,
     "metadata": {},
     "output_type": "execute_result"
    }
   ],
   "source": [
    "dctr.model(X_train[0:1])"
   ]
  },
  {
   "cell_type": "code",
   "execution_count": 27,
   "metadata": {},
   "outputs": [],
   "source": [
    "def get_loss(X, Y, dctr_model, MC_params, batch_size = 1000):\n",
    "    model = get_DCTR_fit_model(dctr_model, X_dim=7, n_MC_params=3, default_MC_params=MC_params, trainable_MC_params = [True, False, False])\n",
    "    return model.evaluate(x=X, y = Y, batch_size=batch_size)"
   ]
  },
  {
   "cell_type": "code",
   "execution_count": 33,
   "metadata": {},
   "outputs": [
    {
     "name": "stderr",
     "output_type": "stream",
     "text": [
      "/opt/anaconda3/envs/pc/lib/python3.10/site-packages/keras/optimizers/optimizer_v2/adam.py:114: UserWarning: The `lr` argument is deprecated, use `learning_rate` instead.\n",
      "  super().__init__(name, **kwargs)\n"
     ]
    },
    {
     "name": "stdout",
     "output_type": "stream",
     "text": [
      "1800/1800 [==============================] - 40s 22ms/step - loss: 0.6752\n"
     ]
    },
    {
     "data": {
      "text/plain": [
       "0.6751989722251892"
      ]
     },
     "execution_count": 33,
     "metadata": {},
     "output_type": "execute_result"
    }
   ],
   "source": [
    "get_loss(X_fit, Y_fit, dctr, [.15, 0.68, 0.217])"
   ]
  },
  {
   "cell_type": "code",
   "execution_count": 34,
   "metadata": {},
   "outputs": [
    {
     "name": "stdout",
     "output_type": "stream",
     "text": [
      "Model: \"model_1\"\n",
      "_________________________________________________________________\n",
      " Layer (type)                Output Shape              Param #   \n",
      "=================================================================\n",
      " input_1 (InputLayer)        [(None, None, 4)]         0         \n",
      "                                                                 \n",
      " tdist (TimeDistributed)     (None, None, 7)           3         \n",
      "                                                                 \n",
      " model (Functional)          (None, 2)                 57130     \n",
      "                                                                 \n",
      "=================================================================\n",
      "Total params: 57,133\n",
      "Trainable params: 1\n",
      "Non-trainable params: 57,132\n",
      "_________________________________________________________________\n"
     ]
    }
   ],
   "source": [
    "dctr_fit_model.summary()"
   ]
  },
  {
   "cell_type": "code",
   "execution_count": 30,
   "metadata": {
    "scrolled": true
   },
   "outputs": [
    {
     "name": "stderr",
     "output_type": "stream",
     "text": [
      "/opt/anaconda3/envs/pc/lib/python3.10/site-packages/keras/optimizers/optimizer_v2/adam.py:114: UserWarning: The `lr` argument is deprecated, use `learning_rate` instead.\n",
      "  super().__init__(name, **kwargs)\n"
     ]
    },
    {
     "name": "stdout",
     "output_type": "stream",
     "text": [
      "1800/1800 [==============================] - 37s 21ms/step - loss: 0.7688\n",
      "1800/1800 [==============================] - 37s 20ms/step - loss: 0.7598\n",
      "1800/1800 [==============================] - 35s 19ms/step - loss: 0.7499\n",
      "1800/1800 [==============================] - 36s 20ms/step - loss: 0.7394\n",
      "1800/1800 [==============================] - 38s 21ms/step - loss: 0.7284\n",
      "1800/1800 [==============================] - 37s 20ms/step - loss: 0.7176\n",
      "1800/1800 [==============================] - 36s 20ms/step - loss: 0.7076\n",
      "1800/1800 [==============================] - 37s 21ms/step - loss: 0.6984\n",
      "1800/1800 [==============================] - 37s 20ms/step - loss: 0.6894\n",
      "1800/1800 [==============================] - 37s 20ms/step - loss: 0.6819\n",
      "1800/1800 [==============================] - 35s 20ms/step - loss: 0.6767\n",
      "1800/1800 [==============================] - 36s 20ms/step - loss: 0.6736\n",
      "1800/1800 [==============================] - 35s 20ms/step - loss: 0.6723\n",
      "1800/1800 [==============================] - 35s 20ms/step - loss: 0.6725\n",
      "1800/1800 [==============================] - 35s 20ms/step - loss: 0.6739\n",
      "1800/1800 [==============================] - 35s 19ms/step - loss: 0.6762\n",
      "1800/1800 [==============================] - 36s 20ms/step - loss: 0.6793\n"
     ]
    }
   ],
   "source": [
    "alpha_loss = np.array([(a, get_loss(X_fit, Y_fit, dctr, [a, 0.68, 0.217])) for a in np.linspace(0.1,0.18, 17)])"
   ]
  },
  {
   "cell_type": "code",
   "execution_count": 31,
   "metadata": {},
   "outputs": [
    {
     "data": {
      "image/png": "[encoded data removed]",
      "text/plain": [
       "<Figure size 640x480 with 1 Axes>"
      ]
     },
     "metadata": {},
     "output_type": "display_data"
    }
   ],
   "source": [
    "plt.plot(*alpha_loss.T)\n",
    "plt.ylabel('Loss')\n",
    "plt.xlabel(r'$\\alpha_s$')\n",
    "# plt.legend()\n",
    "plt.tight_layout()\n",
    "plt.show()"
   ]
  },
  {
   "cell_type": "code",
   "execution_count": 34,
   "metadata": {},
   "outputs": [
    {
     "data": {
      "text/plain": [
       "array([0.15866666])"
      ]
     },
     "execution_count": 34,
     "metadata": {},
     "output_type": "execute_result"
    }
   ],
   "source": [
    "def get_min_loss(losses, x0):\n",
    "    f = sp.interpolate.interp1d(losses[:,0], losses[:,1], fill_value=\"extrapolate\")\n",
    "    return sp.optimize.minimize(f, x0=x0)['x']\n",
    "\n",
    "get_min_loss(alpha_loss, x0=0.1365)"
   ]
  },
  {
   "cell_type": "markdown",
   "metadata": {},
   "source": [
    "## Tune with Gradient Descent"
   ]
  },
  {
   "cell_type": "code",
   "execution_count": 45,
   "metadata": {},
   "outputs": [],
   "source": [
    "print_weights = keras.callbacks.LambdaCallback(on_epoch_end=lambda batch, logs: print(\"alpha_s fit = \", \n",
    "                                               dctr_fit_model.get_weights()[0][0][0]))\n",
    "fit_vals = [0.1365]\n",
    "append_weights = keras.callbacks.LambdaCallback(on_epoch_end=lambda batch, logs: \n",
    "                                               fit_vals.append(dctr_fit_model.get_weights()[0][0][0]))\n",
    "\n",
    "callbacks = [print_weights, append_weights]"
   ]
  },
  {
   "cell_type": "code",
   "execution_count": 46,
   "metadata": {
    "scrolled": true
   },
   "outputs": [
    {
     "name": "stdout",
     "output_type": "stream",
     "text": [
      "Epoch 1/10\n",
      "1800000/1800000 [==============================] - 9s 5us/step - loss: 0.6757\n",
      "alpha_s fit =  0.16495736\n",
      "Epoch 2/10\n",
      "1800000/1800000 [==============================] - 9s 5us/step - loss: 0.6721\n",
      "alpha_s fit =  0.15957834\n",
      "Epoch 3/10\n",
      "1800000/1800000 [==============================] - 9s 5us/step - loss: 0.6719\n",
      "alpha_s fit =  0.15915796\n",
      "Epoch 4/10\n",
      "1800000/1800000 [==============================] - 9s 5us/step - loss: 0.6719\n",
      "alpha_s fit =  0.15901665\n",
      "Epoch 5/10\n",
      "1800000/1800000 [==============================] - 9s 5us/step - loss: 0.6719\n",
      "alpha_s fit =  0.15895784\n",
      "Epoch 6/10\n",
      "1800000/1800000 [==============================] - 9s 5us/step - loss: 0.6719\n",
      "alpha_s fit =  0.15907158\n",
      "Epoch 7/10\n",
      "1800000/1800000 [==============================] - 9s 5us/step - loss: 0.6719\n",
      "alpha_s fit =  0.15906122\n",
      "Epoch 8/10\n",
      "1800000/1800000 [==============================] - 9s 5us/step - loss: 0.6719\n",
      "alpha_s fit =  0.15884054\n",
      "Epoch 9/10\n",
      "1800000/1800000 [==============================] - 9s 5us/step - loss: 0.6719\n",
      "alpha_s fit =  0.15869135\n",
      "Epoch 10/10\n",
      "1800000/1800000 [==============================] - 9s 5us/step - loss: 0.6719\n",
      "alpha_s fit =  0.15878391\n"
     ]
    },
    {
     "data": {
      "text/plain": [
       "<keras.callbacks.History at 0x7fc4901d0128>"
      ]
     },
     "execution_count": 46,
     "metadata": {},
     "output_type": "execute_result"
    }
   ],
   "source": [
    "dctr_fit_model.fit(X_fit, Y_fit,\n",
    "                   epochs=10, \n",
    "                   batch_size=10000,\n",
    "                   callbacks = callbacks)"
   ]
  },
  {
   "cell_type": "code",
   "execution_count": 47,
   "metadata": {},
   "outputs": [
    {
     "data": {
      "image/png": "[encoded data removed]",
      "text/plain": [
       "<Figure size 432x288 with 1 Axes>"
      ]
     },
     "metadata": {
      "needs_background": "light"
     },
     "output_type": "display_data"
    }
   ],
   "source": [
    "plt.plot(fit_vals, marker='o')\n",
    "plt.xlabel(\"Epochs\")\n",
    "plt.ylabel(r'$\\alpha_s$')\n",
    "plt.show()"
   ]
  },
  {
   "cell_type": "code",
   "execution_count": null,
   "metadata": {},
   "outputs": [],
   "source": []
  }
 ],
 "metadata": {
  "kernelspec": {
   "display_name": "Python 3",
   "language": "python",
   "name": "python3"
  },
  "language_info": {
   "codemirror_mode": {
    "name": "ipython",
    "version": 3
   },
   "file_extension": ".py",
   "mimetype": "text/x-python",
   "name": "python",
   "nbconvert_exporter": "python",
   "pygments_lexer": "ipython3",
   "version": "3.8.13"
  }
 },
 "nbformat": 4,
 "nbformat_minor": 4
}
